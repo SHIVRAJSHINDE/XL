{
 "cells": [
  {
   "cell_type": "code",
   "execution_count": 4,
   "id": "02651283-182f-4cf6-becc-36c90efc5f09",
   "metadata": {},
   "outputs": [
    {
     "data": {
      "text/plain": [
       "[(0, 0), (0, 1)]"
      ]
     },
     "execution_count": 4,
     "metadata": {},
     "output_type": "execute_result"
    }
   ],
   "source": [
    "# nested loop in List Comprehension\n",
    "\n",
    "tuples = [(i, j) for i in range(1) for j in range(2)]\n",
    "\n",
    "tuples\n"
   ]
  },
  {
   "cell_type": "code",
   "execution_count": 26,
   "id": "afbd09e5-1bd8-4bb7-b62b-fdafb372ff39",
   "metadata": {},
   "outputs": [
    {
     "data": {
      "text/plain": [
       "[(0, 0), (0, 1)]"
      ]
     },
     "execution_count": 26,
     "metadata": {},
     "output_type": "execute_result"
    }
   ],
   "source": [
    "tuples = [(i,j) for i in range(1) for j in range(2)]\n",
    "tuples\n"
   ]
  },
  {
   "cell_type": "code",
   "execution_count": 8,
   "id": "4fb26ace-2357-4df8-85ce-be3ed936ed27",
   "metadata": {},
   "outputs": [
    {
     "data": {
      "text/plain": [
       "[{1: 1}, {2: 4}]"
      ]
     },
     "execution_count": 8,
     "metadata": {},
     "output_type": "execute_result"
    }
   ],
   "source": [
    "# Can you create a list of dictionaries using a list comprehension?\n",
    "# print key value with square of each number\n",
    "[{i:i**2} for i in range(1,3)]\n"
   ]
  },
  {
   "cell_type": "code",
   "execution_count": 9,
   "id": "ec7ec2e6-fefb-408e-819f-9e63025aa6d6",
   "metadata": {},
   "outputs": [
    {
     "data": {
      "text/plain": [
       "[{'number': 0, 'square': 0},\n",
       " {'number': 1, 'square': 1},\n",
       " {'number': 2, 'square': 4},\n",
       " {'number': 3, 'square': 9},\n",
       " {'number': 4, 'square': 16}]"
      ]
     },
     "execution_count": 9,
     "metadata": {},
     "output_type": "execute_result"
    }
   ],
   "source": [
    "dicts = [{'number': x, 'square': x**2} for x in range(5)]\n",
    "dicts\n"
   ]
  },
  {
   "cell_type": "code",
   "execution_count": 17,
   "id": "ddc92fb2-531a-41d9-8a76-21128f455ea1",
   "metadata": {},
   "outputs": [
    {
     "data": {
      "text/plain": [
       "4"
      ]
     },
     "execution_count": 17,
     "metadata": {},
     "output_type": "execute_result"
    }
   ],
   "source": [
    "gen = (x**2 for x in range(10))\n",
    "dir(gen)\n",
    "next(gen)\n",
    "next(gen)\n",
    "next(gen)\n"
   ]
  },
  {
   "cell_type": "code",
   "execution_count": 18,
   "id": "4b921de8-6a85-4748-880c-00e9067c85bf",
   "metadata": {},
   "outputs": [
    {
     "data": {
      "text/plain": [
       "[0, 2, 4]"
      ]
     },
     "execution_count": 18,
     "metadata": {},
     "output_type": "execute_result"
    }
   ],
   "source": [
    "result = [x for x in range(5) if x % 2 == 0]\n",
    "result\n"
   ]
  },
  {
   "cell_type": "code",
   "execution_count": 48,
   "id": "1f55170e-bf38-4849-9f64-b90e8791d918",
   "metadata": {},
   "outputs": [
    {
     "data": {
      "text/plain": [
       "[1, 2, 3, 4, 5]"
      ]
     },
     "execution_count": 48,
     "metadata": {},
     "output_type": "execute_result"
    }
   ],
   "source": [
    "# How can you flatten a list of lists using list comprehensions?\n",
    "\n",
    "parent_list = [[1, 2], [3, 4], [5]]\n",
    "\n",
    "[item for sublist in parent_list for item in sublist]\n"
   ]
  },
  {
   "cell_type": "code",
   "execution_count": 50,
   "id": "d96c58cf-6c32-420f-89ee-ff67d12f4a26",
   "metadata": {},
   "outputs": [
    {
     "data": {
      "text/plain": [
       "[[1, 2], [3, 4], [5]]"
      ]
     },
     "execution_count": 50,
     "metadata": {},
     "output_type": "execute_result"
    }
   ],
   "source": [
    "[item for item in parent_list]\n"
   ]
  },
  {
   "cell_type": "code",
   "execution_count": 43,
   "id": "4a05bd86-1132-4368-bad5-d82a30908b7e",
   "metadata": {},
   "outputs": [
    {
     "data": {
      "text/plain": [
       "[1, 2, 3, 4, 5]"
      ]
     },
     "execution_count": 43,
     "metadata": {},
     "output_type": "execute_result"
    }
   ],
   "source": [
    "newList = []\n",
    "for i in nested_list:\n",
    "    for j in i: \n",
    "        newList.append(j)\n",
    "\n",
    "newList\n"
   ]
  },
  {
   "cell_type": "code",
   "execution_count": 34,
   "id": "47b1acf1-3c62-4b8e-a0d8-62693a6a607a",
   "metadata": {},
   "outputs": [
    {
     "data": {
      "text/plain": [
       "['e', 'o']"
      ]
     },
     "execution_count": 34,
     "metadata": {},
     "output_type": "execute_result"
    }
   ],
   "source": [
    "# Can you create a list comprehension that operates on strings?\n",
    "\n",
    "sentence = \"Hello world\"\n",
    "initials = [word[1] for word in sentence.split()]\n",
    "initials\n"
   ]
  },
  {
   "cell_type": "code",
   "execution_count": 33,
   "id": "5f7a129f-c50e-468d-bb8f-ef9ddcd49e83",
   "metadata": {},
   "outputs": [
    {
     "data": {
      "text/plain": [
       "['Hello', 'world']"
      ]
     },
     "execution_count": 33,
     "metadata": {},
     "output_type": "execute_result"
    }
   ],
   "source": [
    "sentence.split()\n"
   ]
  },
  {
   "cell_type": "code",
   "execution_count": 36,
   "id": "f3d60dd3-a556-468e-af9d-39f498667359",
   "metadata": {},
   "outputs": [
    {
     "data": {
      "text/plain": [
       "[4, 6, 8]"
      ]
     },
     "execution_count": 36,
     "metadata": {},
     "output_type": "execute_result"
    }
   ],
   "source": [
    "# Is it possible to have multiple conditions in a list comprehension?\n",
    "# print number which is even and greater than two\n",
    "\n",
    "[x for x in range(10) if x%2==0 and x>2]\n"
   ]
  },
  {
   "cell_type": "code",
   "execution_count": 37,
   "id": "f8c59a86-5429-412b-a691-3aba905e61d3",
   "metadata": {},
   "outputs": [
    {
     "data": {
      "text/plain": [
       "[2, 6]"
      ]
     },
     "execution_count": 37,
     "metadata": {},
     "output_type": "execute_result"
    }
   ],
   "source": [
    "result = [x * 2 for x in range(5) if x % 2 != 0]\n",
    "result\n"
   ]
  },
  {
   "cell_type": "code",
   "execution_count": 58,
   "id": "aceb9756-78e3-4cf6-a0a6-6ce778d4aebf",
   "metadata": {},
   "outputs": [
    {
     "data": {
      "text/plain": [
       "9"
      ]
     },
     "execution_count": 58,
     "metadata": {},
     "output_type": "execute_result"
    }
   ],
   "source": [
    "# Lambda Function\n",
    "\n",
    "abc = lambda x,y : x + y\n",
    "\n",
    "abc(2,7)\n"
   ]
  },
  {
   "cell_type": "code",
   "execution_count": 61,
   "id": "dbb5ae2a-8bda-4127-8584-09c8e71bad48",
   "metadata": {},
   "outputs": [
    {
     "data": {
      "text/plain": [
       "2.5"
      ]
     },
     "execution_count": 61,
     "metadata": {},
     "output_type": "execute_result"
    }
   ],
   "source": [
    "# lambda x: value_if_true if condition else value_if_false\n",
    "\n",
    "abc = lambda x : x**2 if x>10 else x/2\n",
    "abc(5)\n"
   ]
  },
  {
   "cell_type": "code",
   "execution_count": 65,
   "id": "eed5b904-78f3-478f-8abc-492a4df79a88",
   "metadata": {},
   "outputs": [
    {
     "data": {
      "text/plain": [
       "[0, 4, 0, 16, 0, 36]"
      ]
     },
     "execution_count": 65,
     "metadata": {},
     "output_type": "execute_result"
    }
   ],
   "source": [
    "# Square the Number if the number is even else devide by 2\n",
    "listOne =  [1,2,3,4,5,6]\n",
    "\n",
    "list(map(lambda x : x**2 if x%2==0 else 0,listOne))\n"
   ]
  },
  {
   "cell_type": "code",
   "execution_count": 79,
   "id": "a2037510-28ab-474e-95d9-75fa974c23bb",
   "metadata": {},
   "outputs": [
    {
     "data": {
      "text/plain": [
       "[2, 4, 6]"
      ]
     },
     "execution_count": 79,
     "metadata": {},
     "output_type": "execute_result"
    }
   ],
   "source": [
    "# Square the Number if the number is even\n",
    "listOne =  [1,2,3,4,5,6]\n",
    "\n",
    "list(filter(lambda x : x**2 if x%2==0 else 0,listOne))\n"
   ]
  },
  {
   "cell_type": "code",
   "execution_count": null,
   "id": "a1eff07e-3786-498f-8186-ab4df50767c1",
   "metadata": {},
   "outputs": [],
   "source": []
  },
  {
   "cell_type": "code",
   "execution_count": 73,
   "id": "1ddab606-f970-44b0-9f27-58feeb0c8b39",
   "metadata": {},
   "outputs": [
    {
     "data": {
      "text/plain": [
       "[2, 4, 6]"
      ]
     },
     "execution_count": 73,
     "metadata": {},
     "output_type": "execute_result"
    }
   ],
   "source": [
    "def square(x):\n",
    "    if x%2==0:\n",
    "        return x **2\n",
    "\n",
    "list(filter(square,listOne))\n"
   ]
  },
  {
   "cell_type": "code",
   "execution_count": 80,
   "id": "c405bfdd-2557-4577-b0f3-0032048905da",
   "metadata": {},
   "outputs": [],
   "source": [
    "classify = lambda x: \"Negative\" if x < 0 else \"Zero\" if x == 0 else \"Positive\"\n"
   ]
  },
  {
   "cell_type": "code",
   "execution_count": 81,
   "id": "5f7f2eac-a1e7-44ee-a59f-f1233d29882e",
   "metadata": {},
   "outputs": [
    {
     "name": "stdout",
     "output_type": "stream",
     "text": [
      "Negative\n"
     ]
    }
   ],
   "source": [
    "print(classify(-5)) \n"
   ]
  },
  {
   "cell_type": "code",
   "execution_count": 82,
   "id": "57409caa-cd09-46f6-bf82-116e0b5bc7fd",
   "metadata": {},
   "outputs": [
    {
     "name": "stdout",
     "output_type": "stream",
     "text": [
      "Zero\n"
     ]
    }
   ],
   "source": [
    "print(classify(0))   # Output: Zero\n"
   ]
  },
  {
   "cell_type": "code",
   "execution_count": 83,
   "id": "7a13bf4c-ead5-4f7b-9ced-bf7d0f985df4",
   "metadata": {},
   "outputs": [
    {
     "name": "stdout",
     "output_type": "stream",
     "text": [
      "Positive\n"
     ]
    }
   ],
   "source": [
    "print(classify(5))   # Output: Positive\n"
   ]
  }
 ],
 "metadata": {
  "kernelspec": {
   "display_name": "Python 3 (ipykernel)",
   "language": "python",
   "name": "python3"
  },
  "language_info": {
   "codemirror_mode": {
    "name": "ipython",
    "version": 3
   },
   "file_extension": ".py",
   "mimetype": "text/x-python",
   "name": "python",
   "nbconvert_exporter": "python",
   "pygments_lexer": "ipython3",
   "version": "3.11.7"
  }
 },
 "nbformat": 4,
 "nbformat_minor": 5
}
