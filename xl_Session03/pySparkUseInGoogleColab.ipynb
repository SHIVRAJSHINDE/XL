{
 "cells": [
  {
   "cell_type": "code",
   "execution_count": null,
   "metadata": {
    "colab": {
     "base_uri": "https://localhost:8080/"
    },
    "id": "jdcrCYNuV2YE",
    "outputId": "f7bc382f-1871-456b-82e1-2cbc4abca76e"
   },
   "outputs": [
    {
     "name": "stdout",
     "output_type": "stream",
     "text": [
      "Collecting pyspark\n",
      "  Downloading pyspark-3.5.3.tar.gz (317.3 MB)\n",
      "\u001b[2K     \u001b[90m━━━━━━━━━━━━━━━━━━━━━━━━━━━━━━━━━━━━━━━━\u001b[0m \u001b[32m317.3/317.3 MB\u001b[0m \u001b[31m3.8 MB/s\u001b[0m eta \u001b[36m0:00:00\u001b[0m\n",
      "\u001b[?25h  Preparing metadata (setup.py) ... \u001b[?25l\u001b[?25hdone\n",
      "Requirement already satisfied: py4j in /usr/local/lib/python3.10/dist-packages (0.10.9.7)\n",
      "Building wheels for collected packages: pyspark\n",
      "  Building wheel for pyspark (setup.py) ... \u001b[?25l\u001b[?25hdone\n",
      "  Created wheel for pyspark: filename=pyspark-3.5.3-py2.py3-none-any.whl size=317840625 sha256=2456b5f69c7e74bd6c71f17eeffb791cd6606f4fc2e9088c968ebc287b8497d6\n",
      "  Stored in directory: /root/.cache/pip/wheels/1b/3a/92/28b93e2fbfdbb07509ca4d6f50c5e407f48dce4ddbda69a4ab\n",
      "Successfully built pyspark\n",
      "Installing collected packages: pyspark\n",
      "Successfully installed pyspark-3.5.3\n"
     ]
    }
   ],
   "source": [
    "# Install pyspark using command ---- !pip install pyspark py4j\n",
    "!pip install pyspark py4j\n"
   ]
  },
  {
   "cell_type": "code",
   "execution_count": null,
   "metadata": {
    "colab": {
     "base_uri": "https://localhost:8080/"
    },
    "id": "AfjvGCA3YTS4",
    "outputId": "0f9c754a-3249-4801-844c-c446873f0b68"
   },
   "outputs": [
    {
     "data": {
      "text/plain": [
       "{'name1': ['Alice', 'Charlie', 'Bob'], 'value1': [1, 2, 3]}"
      ]
     },
     "execution_count": 2,
     "metadata": {},
     "output_type": "execute_result"
    }
   ],
   "source": [
    "df1 = {'name1': ['Alice', 'Charlie', 'Bob'], 'value1': [1, 2, 3]}\n",
    "df1\n"
   ]
  },
  {
   "cell_type": "code",
   "execution_count": null,
   "metadata": {
    "id": "Q_B7k83UUwqq"
   },
   "outputs": [],
   "source": []
  },
  {
   "cell_type": "code",
   "execution_count": null,
   "metadata": {
    "id": "hzcz-hFhYTd3"
   },
   "outputs": [],
   "source": [
    "# import SparkSession using --------- from pyspark.sql improt SparkSession\n",
    "\n",
    "from pyspark.sql import SparkSession\n",
    "from pyspark.sql import SparkSession\n"
   ]
  },
  {
   "cell_type": "code",
   "execution_count": null,
   "metadata": {
    "colab": {
     "base_uri": "https://localhost:8080/",
     "height": 219
    },
    "id": "rNj4lxNcYTgh",
    "outputId": "c3cac010-3442-44fd-d485-c28214cfcb41"
   },
   "outputs": [
    {
     "data": {
      "text/html": [
       "\n",
       "            <div>\n",
       "                <p><b>SparkSession - in-memory</b></p>\n",
       "                \n",
       "        <div>\n",
       "            <p><b>SparkContext</b></p>\n",
       "\n",
       "            <p><a href=\"http://559c68d3eb8d:4040\">Spark UI</a></p>\n",
       "\n",
       "            <dl>\n",
       "              <dt>Version</dt>\n",
       "                <dd><code>v3.5.3</code></dd>\n",
       "              <dt>Master</dt>\n",
       "                <dd><code>local[*]</code></dd>\n",
       "              <dt>AppName</dt>\n",
       "                <dd><code>Practice</code></dd>\n",
       "            </dl>\n",
       "        </div>\n",
       "        \n",
       "            </div>\n",
       "        "
      ],
      "text/plain": [
       "<pyspark.sql.session.SparkSession at 0x7f577c077700>"
      ]
     },
     "execution_count": 4,
     "metadata": {},
     "output_type": "execute_result"
    }
   ],
   "source": [
    "# Create the sessiong using ----- SparkSession.builder.appName(\"Pracice\").getOrCreate()\n",
    "spark = SparkSession.builder.appName(\"Practice\").getOrCreate()\n",
    "spark\n"
   ]
  },
  {
   "cell_type": "code",
   "execution_count": null,
   "metadata": {
    "colab": {
     "base_uri": "https://localhost:8080/"
    },
    "id": "RM4Y0e75hCoa",
    "outputId": "32b60187-83f5-4a99-a3e3-b80fb4357668"
   },
   "outputs": [
    {
     "name": "stdout",
     "output_type": "stream",
     "text": [
      "+----------+---------+----+---------+-----------+---------------+-------------------+-------+------------+\n",
      "|First_name|Last_name| Age|     City|    Airline|Date_of_Journey|           Dep_Time|Airfare|   Full Name|\n",
      "+----------+---------+----+---------+-----------+---------------+-------------------+-------+------------+\n",
      "|    Rajesh|    Kumar|  42|BANGALURU|       NULL|     24-03-2019|2024-09-28 22:20:00| 8715.1|   Ram-Kumar|\n",
      "|       Ram|    Kumar|  42|BANGALURU|     IndiGo|     24-03-2019|2024-09-28 22:20:00| 8715.1|   Ram-Kumar|\n",
      "|     Mohan|   Sharma|  52|  CHENNAI|  Air India|     01-05-2019|2024-09-28 05:50:00|    0.0|Mohan-Sharma|\n",
      "|      Tina|      Ali|  36|     Pune|Jet Airways|     09-06-2019|2024-09-28 09:25:00|6995.55|    Tina-Ali|\n",
      "|     Jeetu|   Gandhi|NULL|    Delhi|     IndiGo|     12-05-2019|2024-09-28 18:05:00|7840.56|Jeetu-Gandhi|\n",
      "|     Meera|   Kumari|NULL|  LUCKNOW|     IndiGo|     01-03-2019|2024-09-28 16:50:00|7813.89|Meera-Kumari|\n",
      "|     Jeetu|   Gandhi|NULL|    Delhi|     IndiGo|     12-05-2019|2024-09-28 18:05:00|7840.56|Jeetu-Gandhi|\n",
      "|     Meera|   Kumari|NULL|  LUCKNOW|     IndiGo|     01-03-2019|2024-09-28 16:50:00|7813.89|Meera-Kumari|\n",
      "+----------+---------+----+---------+-----------+---------------+-------------------+-------+------------+\n",
      "\n"
     ]
    }
   ],
   "source": [
    "# Read the Data\n",
    "\n",
    "filePath = \"/content/sample_data/Data_Train1.csv\"\n",
    "\n",
    "\n",
    "df = spark.read.csv(filePath,header=True,inferSchema=True)\n",
    "\n",
    "df.show()\n"
   ]
  },
  {
   "cell_type": "code",
   "execution_count": null,
   "metadata": {
    "id": "bvwJhK1dhCrf"
   },
   "outputs": [],
   "source": []
  },
  {
   "cell_type": "code",
   "execution_count": null,
   "metadata": {
    "colab": {
     "base_uri": "https://localhost:8080/"
    },
    "id": "h9UKTC5zhCuY",
    "outputId": "003aaa19-a5e3-43bf-f6ec-d23ad51a970d"
   },
   "outputs": [
    {
     "data": {
      "text/plain": [
       "[Row(First_name='Ram', Last_name='Kumar', Age=42, City='BANGALURU', Airline='IndiGo', Date_of_Journey='24-03-2019', Dep_Time=datetime.datetime(2024, 9, 28, 22, 20), Airfare=8715.1, Full Name='Ram-Kumar'),\n",
       " Row(First_name='Mohan', Last_name='Sharma', Age=52, City='CHENNAI', Airline='Air India', Date_of_Journey='01-05-2019', Dep_Time=datetime.datetime(2024, 9, 28, 5, 50), Airfare=0.0, Full Name='Mohan-Sharma'),\n",
       " Row(First_name='Tina', Last_name='Ali', Age=36, City='Pune', Airline='Jet Airways', Date_of_Journey='09-06-2019', Dep_Time=datetime.datetime(2024, 9, 28, 9, 25), Airfare=6995.55, Full Name='Tina-Ali'),\n",
       " Row(First_name='Jeetu', Last_name='Gandhi', Age=None, City='Delhi', Airline='IndiGo', Date_of_Journey='12-05-2019', Dep_Time=datetime.datetime(2024, 9, 28, 18, 5), Airfare=7840.56, Full Name='Jeetu-Gandhi'),\n",
       " Row(First_name='Meera', Last_name='Kumari', Age=None, City='LUCKNOW', Airline='IndiGo', Date_of_Journey='01-03-2019', Dep_Time=datetime.datetime(2024, 9, 28, 16, 50), Airfare=7813.89, Full Name='Meera-Kumari')]"
      ]
     },
     "execution_count": 9,
     "metadata": {},
     "output_type": "execute_result"
    }
   ],
   "source": [
    "# Show the first few rows of the DataFrame\n",
    "df.head(5)\n"
   ]
  },
  {
   "cell_type": "code",
   "execution_count": null,
   "metadata": {
    "colab": {
     "base_uri": "https://localhost:8080/"
    },
    "id": "XN9Tu0g4hCxB",
    "outputId": "11969941-b91d-44fa-beb6-bb5865197ae3"
   },
   "outputs": [
    {
     "data": {
      "text/plain": [
       "[Row(First_name='Sunita', Last_name='Patil', Age=40, City='CHENNAI', Airline='Multiple carriers', Date_of_Journey='27-05-2019', Dep_Time=datetime.datetime(2024, 9, 3, 11, 25), Arrival_Time=datetime.datetime(2024, 9, 3, 19, 15), Dept_Hour=11, Dept_Minute=25, Arrival_Hour=19, Arrival_Minute=15, Full Name='Sunita-Patil'),\n",
       " Row(First_name='Amol', Last_name='Mahul', Age=40, City='LUCKNOW', Airline='Jet Airways', Date_of_Journey='01-03-2019', Dep_Time=datetime.datetime(2024, 9, 3, 5, 5), Arrival_Time=datetime.datetime(2024, 9, 3, 8, 0), Dept_Hour=5, Dept_Minute=5, Arrival_Hour=8, Arrival_Minute=0, Full Name='Amol-Mahul'),\n",
       " Row(First_name='Praveen', Last_name='Gurjar', Age=47, City='BANGALURU', Airline='Jet Airways', Date_of_Journey='12-03-2019', Dep_Time=datetime.datetime(2024, 9, 3, 8, 55), Arrival_Time=datetime.datetime(2024, 9, 3, 10, 25), Dept_Hour=8, Dept_Minute=55, Arrival_Hour=10, Arrival_Minute=25, Full Name='Praveen-Gurjar'),\n",
       " Row(First_name='Sunita', Last_name='Patil', Age=40, City='CHENNAI', Airline='Multiple carriers', Date_of_Journey='27-05-2019', Dep_Time=datetime.datetime(2024, 9, 3, 11, 25), Arrival_Time=datetime.datetime(2024, 9, 3, 19, 15), Dept_Hour=11, Dept_Minute=25, Arrival_Hour=19, Arrival_Minute=15, Full Name='Sunita-Patil')]"
      ]
     },
     "execution_count": 13,
     "metadata": {},
     "output_type": "execute_result"
    }
   ],
   "source": [
    "# Print Last Rows\n",
    "df.tail(4)\n"
   ]
  },
  {
   "cell_type": "code",
   "execution_count": null,
   "metadata": {
    "colab": {
     "base_uri": "https://localhost:8080/"
    },
    "id": "AFXA6PnGASf6",
    "outputId": "2f5de5e4-69ea-4797-d586-f85878241707"
   },
   "outputs": [
    {
     "name": "stdout",
     "output_type": "stream",
     "text": [
      "root\n",
      " |-- First_name: string (nullable = true)\n",
      " |-- Last_name: string (nullable = true)\n",
      " |-- Age: integer (nullable = true)\n",
      " |-- City: string (nullable = true)\n",
      " |-- Airline: string (nullable = true)\n",
      " |-- Date_of_Journey: string (nullable = true)\n",
      " |-- Dep_Time: timestamp (nullable = true)\n",
      " |-- Airfare: double (nullable = true)\n",
      " |-- Full Name: string (nullable = true)\n",
      "\n"
     ]
    }
   ],
   "source": [
    "df.printSchema()\n"
   ]
  },
  {
   "cell_type": "code",
   "execution_count": null,
   "metadata": {
    "colab": {
     "base_uri": "https://localhost:8080/",
     "height": 186
    },
    "id": "7eTLryfChCz5",
    "outputId": "0049ea3e-ea2c-44c6-9b96-bf95ff459da8"
   },
   "outputs": [
    {
     "data": {
      "text/html": [
       "<div style=\"max-width:800px; border: 1px solid var(--colab-border-color);\"><style>\n",
       "      pre.function-repr-contents {\n",
       "        overflow-x: auto;\n",
       "        padding: 8px 12px;\n",
       "        max-height: 500px;\n",
       "      }\n",
       "\n",
       "      pre.function-repr-contents.function-repr-contents-collapsed {\n",
       "        cursor: pointer;\n",
       "        max-height: 100px;\n",
       "      }\n",
       "    </style>\n",
       "    <pre style=\"white-space: initial; background:\n",
       "         var(--colab-secondary-surface-color); padding: 8px 12px;\n",
       "         border-bottom: 1px solid var(--colab-border-color);\"><b>pyspark.sql.dataframe.DataFrame</b><br/>def __init__(jdf: JavaObject, sql_ctx: Union[&#x27;SQLContext&#x27;, &#x27;SparkSession&#x27;])</pre><pre class=\"function-repr-contents function-repr-contents-collapsed\" style=\"\"><a class=\"filepath\" style=\"display:none\" href=\"#\">/usr/local/lib/python3.10/dist-packages/pyspark/sql/dataframe.py</a>A distributed collection of data grouped into named columns.\n",
       "\n",
       ".. versionadded:: 1.3.0\n",
       "\n",
       ".. versionchanged:: 3.4.0\n",
       "    Supports Spark Connect.\n",
       "\n",
       "Examples\n",
       "--------\n",
       "A :class:`DataFrame` is equivalent to a relational table in Spark SQL,\n",
       "and can be created using various functions in :class:`SparkSession`:\n",
       "\n",
       "&gt;&gt;&gt; people = spark.createDataFrame([\n",
       "...     {&quot;deptId&quot;: 1, &quot;age&quot;: 40, &quot;name&quot;: &quot;Hyukjin Kwon&quot;, &quot;gender&quot;: &quot;M&quot;, &quot;salary&quot;: 50},\n",
       "...     {&quot;deptId&quot;: 1, &quot;age&quot;: 50, &quot;name&quot;: &quot;Takuya Ueshin&quot;, &quot;gender&quot;: &quot;M&quot;, &quot;salary&quot;: 100},\n",
       "...     {&quot;deptId&quot;: 2, &quot;age&quot;: 60, &quot;name&quot;: &quot;Xinrong Meng&quot;, &quot;gender&quot;: &quot;F&quot;, &quot;salary&quot;: 150},\n",
       "...     {&quot;deptId&quot;: 3, &quot;age&quot;: 20, &quot;name&quot;: &quot;Haejoon Lee&quot;, &quot;gender&quot;: &quot;M&quot;, &quot;salary&quot;: 200}\n",
       "... ])\n",
       "\n",
       "Once created, it can be manipulated using the various domain-specific-language\n",
       "(DSL) functions defined in: :class:`DataFrame`, :class:`Column`.\n",
       "\n",
       "To select a column from the :class:`DataFrame`, use the apply method:\n",
       "\n",
       "&gt;&gt;&gt; age_col = people.age\n",
       "\n",
       "A more concrete example:\n",
       "\n",
       "&gt;&gt;&gt; # To create DataFrame using SparkSession\n",
       "... department = spark.createDataFrame([\n",
       "...     {&quot;id&quot;: 1, &quot;name&quot;: &quot;PySpark&quot;},\n",
       "...     {&quot;id&quot;: 2, &quot;name&quot;: &quot;ML&quot;},\n",
       "...     {&quot;id&quot;: 3, &quot;name&quot;: &quot;Spark SQL&quot;}\n",
       "... ])\n",
       "\n",
       "&gt;&gt;&gt; people.filter(people.age &gt; 30).join(\n",
       "...     department, people.deptId == department.id).groupBy(\n",
       "...     department.name, &quot;gender&quot;).agg({&quot;salary&quot;: &quot;avg&quot;, &quot;age&quot;: &quot;max&quot;}).show()\n",
       "+-------+------+-----------+--------+\n",
       "|   name|gender|avg(salary)|max(age)|\n",
       "+-------+------+-----------+--------+\n",
       "|     ML|     F|      150.0|      60|\n",
       "|PySpark|     M|       75.0|      50|\n",
       "+-------+------+-----------+--------+\n",
       "\n",
       "Notes\n",
       "-----\n",
       "A DataFrame should only be created as described above. It should not be directly\n",
       "created via using the constructor.</pre>\n",
       "      <script>\n",
       "      if (google.colab.kernel.accessAllowed && google.colab.files && google.colab.files.view) {\n",
       "        for (const element of document.querySelectorAll('.filepath')) {\n",
       "          element.style.display = 'block'\n",
       "          element.onclick = (event) => {\n",
       "            event.preventDefault();\n",
       "            event.stopPropagation();\n",
       "            google.colab.files.view(element.textContent, 80);\n",
       "          };\n",
       "        }\n",
       "      }\n",
       "      for (const element of document.querySelectorAll('.function-repr-contents')) {\n",
       "        element.onclick = (event) => {\n",
       "          event.preventDefault();\n",
       "          event.stopPropagation();\n",
       "          element.classList.toggle('function-repr-contents-collapsed');\n",
       "        };\n",
       "      }\n",
       "      </script>\n",
       "      </div>"
      ],
      "text/plain": [
       "pyspark.sql.dataframe.DataFrame"
      ]
     },
     "execution_count": 11,
     "metadata": {},
     "output_type": "execute_result"
    }
   ],
   "source": [
    "# Know the DataType\n",
    "type(df)\n"
   ]
  },
  {
   "cell_type": "code",
   "execution_count": null,
   "metadata": {
    "colab": {
     "base_uri": "https://localhost:8080/"
    },
    "id": "PV7EiwTbhC3F",
    "outputId": "309362ef-05db-4895-88e6-e432055c13a4"
   },
   "outputs": [
    {
     "data": {
      "text/plain": [
       "[('First_name', 'string'),\n",
       " ('Last_name', 'string'),\n",
       " ('Age', 'int'),\n",
       " ('City', 'string'),\n",
       " ('Airline', 'string'),\n",
       " ('Date_of_Journey', 'string'),\n",
       " ('Dep_Time', 'timestamp'),\n",
       " ('Airfare', 'double'),\n",
       " ('Full Name', 'string')]"
      ]
     },
     "execution_count": 10,
     "metadata": {},
     "output_type": "execute_result"
    }
   ],
   "source": [
    "df.dtypes\n"
   ]
  },
  {
   "cell_type": "code",
   "execution_count": null,
   "metadata": {
    "colab": {
     "base_uri": "https://localhost:8080/"
    },
    "id": "H4Fc9kzjhC53",
    "outputId": "48fa3d9a-9c97-41e4-a018-5de63939bcff"
   },
   "outputs": [
    {
     "name": "stdout",
     "output_type": "stream",
     "text": [
      "+----------+---------+----+---------+-----------+---------------+-------------------+-------+------------+\n",
      "|First_name|Last_name| Age|     City|    Airline|Date_of_Journey|           Dep_Time|Airfare|   Full Name|\n",
      "+----------+---------+----+---------+-----------+---------------+-------------------+-------+------------+\n",
      "|       Ram|    Kumar|  42|BANGALURU|     IndiGo|     24-03-2019|2024-09-28 22:20:00| 8715.1|   Ram-Kumar|\n",
      "|     Mohan|   Sharma|  52|  CHENNAI|  Air India|     01-05-2019|2024-09-28 05:50:00|    0.0|Mohan-Sharma|\n",
      "|      Tina|      Ali|  36|     Pune|Jet Airways|     09-06-2019|2024-09-28 09:25:00|6995.55|    Tina-Ali|\n",
      "|     Meera|   Kumari|NULL|  LUCKNOW|     IndiGo|     01-03-2019|2024-09-28 16:50:00|7813.89|Meera-Kumari|\n",
      "|     Jeetu|   Gandhi|NULL|    Delhi|     IndiGo|     12-05-2019|2024-09-28 18:05:00|7840.56|Jeetu-Gandhi|\n",
      "+----------+---------+----+---------+-----------+---------------+-------------------+-------+------------+\n",
      "\n"
     ]
    }
   ],
   "source": [
    "# Print all Unique Values\n",
    "# df.distinct().show()\n",
    "df.distinct().show()\n"
   ]
  },
  {
   "cell_type": "code",
   "execution_count": null,
   "metadata": {
    "colab": {
     "base_uri": "https://localhost:8080/"
    },
    "id": "nl6d44xSu3vA",
    "outputId": "7670d8a1-c19e-437d-f5c3-bc018fcedbe3"
   },
   "outputs": [
    {
     "name": "stdout",
     "output_type": "stream",
     "text": [
      "+----------+---------+----+---------+-----------+---------------+-------------------+-------+------------+\n",
      "|First_name|Last_name| Age|     City|    Airline|Date_of_Journey|           Dep_Time|Airfare|   Full Name|\n",
      "+----------+---------+----+---------+-----------+---------------+-------------------+-------+------------+\n",
      "|     Mohan|   Sharma|  52|  CHENNAI|  Air India|     01-05-2019|2024-09-23 05:50:00|    0.0|Mohan-Sharma|\n",
      "|       Ram|    Kumar|  42|BANGALURU|     IndiGo|     24-03-2019|2024-09-23 22:20:00| 8715.1|   Ram-Kumar|\n",
      "|      Tina|      Ali|  36|     Pune|Jet Airways|     09-06-2019|2024-09-23 09:25:00|6995.55|    Tina-Ali|\n",
      "|     Meera|   Kumari|NULL|  LUCKNOW|     IndiGo|     01-03-2019|2024-09-23 16:50:00|7813.89|Meera-Kumari|\n",
      "|     Jeetu|   Gandhi|NULL|    Delhi|     IndiGo|     12-05-2019|2024-09-23 18:05:00|7840.56|Jeetu-Gandhi|\n",
      "+----------+---------+----+---------+-----------+---------------+-------------------+-------+------------+\n",
      "\n"
     ]
    }
   ],
   "source": [
    "# Drp Duplicates\n",
    "#df.dropDuplicates().show()\n",
    "df.dropDuplicates().show()\n"
   ]
  },
  {
   "cell_type": "code",
   "execution_count": null,
   "metadata": {
    "colab": {
     "base_uri": "https://localhost:8080/"
    },
    "id": "AqD4Avw7iTPZ",
    "outputId": "b83c8489-2b0c-47d0-977f-49ff792d359f"
   },
   "outputs": [
    {
     "name": "stdout",
     "output_type": "stream",
     "text": [
      "+-------+----------+---------+------------------+---------+-----------+---------------+-----------------+------------+\n",
      "|summary|First_name|Last_name|               Age|     City|    Airline|Date_of_Journey|          Airfare|   Full Name|\n",
      "+-------+----------+---------+------------------+---------+-----------+---------------+-----------------+------------+\n",
      "|  count|         7|        7|                 3|        7|          7|              7|                7|           7|\n",
      "|   mean|      NULL|     NULL|43.333333333333336|     NULL|       NULL|           NULL|6717.078571428572|        NULL|\n",
      "| stddev|      NULL|     NULL| 8.082903768654761|     NULL|       NULL|           NULL|3003.309068363475|        NULL|\n",
      "|    min|     Jeetu|      Ali|                36|BANGALURU|  Air India|     01-03-2019|              0.0|Jeetu-Gandhi|\n",
      "|    max|      Tina|   Sharma|                52|     Pune|Jet Airways|     24-03-2019|           8715.1|    Tina-Ali|\n",
      "+-------+----------+---------+------------------+---------+-----------+---------------+-----------------+------------+\n",
      "\n"
     ]
    }
   ],
   "source": [
    "# Describe dataframe\n",
    "#df.describe().show()\n",
    "df.describe().show()\n"
   ]
  },
  {
   "cell_type": "code",
   "execution_count": null,
   "metadata": {
    "colab": {
     "base_uri": "https://localhost:8080/"
    },
    "id": "bFur-dcyhC8n",
    "outputId": "5a91c4cf-c688-4da7-c989-a37772ef60d3"
   },
   "outputs": [
    {
     "name": "stdout",
     "output_type": "stream",
     "text": [
      "+----+---------+\n",
      "| Age|     City|\n",
      "+----+---------+\n",
      "|  42|BANGALURU|\n",
      "|  52|  CHENNAI|\n",
      "|  36|     Pune|\n",
      "|NULL|    Delhi|\n",
      "|NULL|  LUCKNOW|\n",
      "|NULL|    Delhi|\n",
      "|NULL|  LUCKNOW|\n",
      "+----+---------+\n",
      "\n"
     ]
    }
   ],
   "source": [
    "# print column/columns\n",
    "df.select(['Age','City']).show()\n",
    "\n"
   ]
  },
  {
   "cell_type": "code",
   "execution_count": null,
   "metadata": {
    "colab": {
     "base_uri": "https://localhost:8080/"
    },
    "id": "fZx3-inNhC_l",
    "outputId": "61171612-4d15-4387-d466-b358258076a1"
   },
   "outputs": [
    {
     "name": "stdout",
     "output_type": "stream",
     "text": [
      "+-----------------+---------------+\n",
      "|          Airline|Date_of_Journey|\n",
      "+-----------------+---------------+\n",
      "|           IndiGo|     24-03-2019|\n",
      "|        Air India|     01-05-2019|\n",
      "|      Jet Airways|     09-06-2019|\n",
      "|           IndiGo|     12-05-2019|\n",
      "|           IndiGo|     01-03-2019|\n",
      "|             NULL|     24-03-2019|\n",
      "|             NULL|     01-05-2019|\n",
      "|      Jet Airways|     01-03-2019|\n",
      "|      Jet Airways|     12-03-2019|\n",
      "|Multiple carriers|     27-05-2019|\n",
      "|      Jet Airways|     12-03-2019|\n",
      "|      Jet Airways|     01-03-2019|\n",
      "|      Jet Airways|     12-03-2019|\n",
      "|Multiple carriers|     27-05-2019|\n",
      "|      Jet Airways|     01-03-2019|\n",
      "|      Jet Airways|     12-03-2019|\n",
      "|Multiple carriers|     27-05-2019|\n",
      "+-----------------+---------------+\n",
      "\n"
     ]
    }
   ],
   "source": [
    "df.select(['Airline','Date_of_Journey']).show()\n"
   ]
  },
  {
   "cell_type": "code",
   "execution_count": null,
   "metadata": {
    "colab": {
     "base_uri": "https://localhost:8080/"
    },
    "id": "vc9NK3zihDC-",
    "outputId": "9751635a-3033-4cfb-c797-be4425303903"
   },
   "outputs": [
    {
     "name": "stdout",
     "output_type": "stream",
     "text": [
      "+----------+---------+----+---------+-----------+---------------+-------------------+-------+------------+----------+\n",
      "|First_name|Last_name| Age|     City|    Airline|Date_of_Journey|           Dep_Time|Airfare|   Full Name|newAirfare|\n",
      "+----------+---------+----+---------+-----------+---------------+-------------------+-------+------------+----------+\n",
      "|       Ram|    Kumar|  42|BANGALURU|     IndiGo|     24-03-2019|2024-09-28 22:20:00| 8715.1|   Ram-Kumar|    8725.1|\n",
      "|     Mohan|   Sharma|  52|  CHENNAI|  Air India|     01-05-2019|2024-09-28 05:50:00|    0.0|Mohan-Sharma|      10.0|\n",
      "|      Tina|      Ali|  36|     Pune|Jet Airways|     09-06-2019|2024-09-28 09:25:00|6995.55|    Tina-Ali|   7005.55|\n",
      "|     Jeetu|   Gandhi|NULL|    Delhi|     IndiGo|     12-05-2019|2024-09-28 18:05:00|7840.56|Jeetu-Gandhi|   7850.56|\n",
      "|     Meera|   Kumari|NULL|  LUCKNOW|     IndiGo|     01-03-2019|2024-09-28 16:50:00|7813.89|Meera-Kumari|   7823.89|\n",
      "|     Jeetu|   Gandhi|NULL|    Delhi|     IndiGo|     12-05-2019|2024-09-28 18:05:00|7840.56|Jeetu-Gandhi|   7850.56|\n",
      "|     Meera|   Kumari|NULL|  LUCKNOW|     IndiGo|     01-03-2019|2024-09-28 16:50:00|7813.89|Meera-Kumari|   7823.89|\n",
      "+----------+---------+----+---------+-----------+---------------+-------------------+-------+------------+----------+\n",
      "\n"
     ]
    }
   ],
   "source": [
    "# Add New Columns\n",
    "# create a column showing fare of the flight is increased by 10\n",
    "# df.withColumn('newColName',Value).show()\n",
    "\n",
    "df.withColumn('newAirfare',df['Airfare']+10).show()\n"
   ]
  },
  {
   "cell_type": "code",
   "execution_count": null,
   "metadata": {
    "colab": {
     "base_uri": "https://localhost:8080/"
    },
    "id": "FDDIzdaTi3Ij",
    "outputId": "09cf9f29-e78d-4375-f8c8-5ba317ddfd8e"
   },
   "outputs": [
    {
     "name": "stdout",
     "output_type": "stream",
     "text": [
      "+----------+---------+----+---------+-----------+---------------+-------------------+-------+------------+\n",
      "|First_name|Last_name| Age|     City| Fligh_Name|Date_of_Journey|           Dep_Time|Airfare|   Full Name|\n",
      "+----------+---------+----+---------+-----------+---------------+-------------------+-------+------------+\n",
      "|       Ram|    Kumar|  42|BANGALURU|     IndiGo|     24-03-2019|2024-09-28 22:20:00| 8715.1|   Ram-Kumar|\n",
      "|     Mohan|   Sharma|  52|  CHENNAI|  Air India|     01-05-2019|2024-09-28 05:50:00|    0.0|Mohan-Sharma|\n",
      "|      Tina|      Ali|  36|     Pune|Jet Airways|     09-06-2019|2024-09-28 09:25:00|6995.55|    Tina-Ali|\n",
      "|     Jeetu|   Gandhi|NULL|    Delhi|     IndiGo|     12-05-2019|2024-09-28 18:05:00|7840.56|Jeetu-Gandhi|\n",
      "|     Meera|   Kumari|NULL|  LUCKNOW|     IndiGo|     01-03-2019|2024-09-28 16:50:00|7813.89|Meera-Kumari|\n",
      "|     Jeetu|   Gandhi|NULL|    Delhi|     IndiGo|     12-05-2019|2024-09-28 18:05:00|7840.56|Jeetu-Gandhi|\n",
      "|     Meera|   Kumari|NULL|  LUCKNOW|     IndiGo|     01-03-2019|2024-09-28 16:50:00|7813.89|Meera-Kumari|\n",
      "+----------+---------+----+---------+-----------+---------------+-------------------+-------+------------+\n",
      "\n"
     ]
    }
   ],
   "source": [
    "# Rename the column\n",
    "# df.withColumsnRename('oldName',\"NewName\").show()\n",
    "\n",
    "df.withColumnRenamed(\"Airline\",'Fligh_Name').show()\n"
   ]
  },
  {
   "cell_type": "code",
   "execution_count": null,
   "metadata": {
    "colab": {
     "base_uri": "https://localhost:8080/"
    },
    "id": "C5dkHCfLhDGb",
    "outputId": "cecd83c6-89d9-4997-dcef-79edef7127fb"
   },
   "outputs": [
    {
     "name": "stdout",
     "output_type": "stream",
     "text": [
      "+----------+---------+----+---------+-----------+---------------+-------------------+-------+\n",
      "|First_name|Last_name| Age|     City|    Airline|Date_of_Journey|           Dep_Time|Airfare|\n",
      "+----------+---------+----+---------+-----------+---------------+-------------------+-------+\n",
      "|       Ram|    Kumar|  42|BANGALURU|     IndiGo|     24-03-2019|2024-09-28 22:20:00| 8715.1|\n",
      "|     Mohan|   Sharma|  52|  CHENNAI|  Air India|     01-05-2019|2024-09-28 05:50:00|    0.0|\n",
      "|      Tina|      Ali|  36|     Pune|Jet Airways|     09-06-2019|2024-09-28 09:25:00|6995.55|\n",
      "|     Jeetu|   Gandhi|NULL|    Delhi|     IndiGo|     12-05-2019|2024-09-28 18:05:00|7840.56|\n",
      "|     Meera|   Kumari|NULL|  LUCKNOW|     IndiGo|     01-03-2019|2024-09-28 16:50:00|7813.89|\n",
      "|     Jeetu|   Gandhi|NULL|    Delhi|     IndiGo|     12-05-2019|2024-09-28 18:05:00|7840.56|\n",
      "|     Meera|   Kumari|NULL|  LUCKNOW|     IndiGo|     01-03-2019|2024-09-28 16:50:00|7813.89|\n",
      "+----------+---------+----+---------+-----------+---------------+-------------------+-------+\n",
      "\n"
     ]
    }
   ],
   "source": [
    "# Drop A Column/Columns\n",
    "# df.drop(\"NameOftheColumn\").show()\n",
    "df.drop('Full Name').show()\n"
   ]
  },
  {
   "cell_type": "code",
   "execution_count": null,
   "metadata": {
    "colab": {
     "base_uri": "https://localhost:8080/"
    },
    "id": "u6usOpGVhDJE",
    "outputId": "036b82a1-f299-4b84-b065-95662ff2b9f3"
   },
   "outputs": [
    {
     "name": "stdout",
     "output_type": "stream",
     "text": [
      "+----------+---------+----+---------+-----------+---------------+-------+------------+\n",
      "|First_name|Last_name| Age|     City|    Airline|Date_of_Journey|Airfare|   Full Name|\n",
      "+----------+---------+----+---------+-----------+---------------+-------+------------+\n",
      "|       Ram|    Kumar|  42|BANGALURU|     IndiGo|     24-03-2019| 8715.1|   Ram-Kumar|\n",
      "|     Mohan|   Sharma|  52|  CHENNAI|  Air India|     01-05-2019|    0.0|Mohan-Sharma|\n",
      "|      Tina|      Ali|  36|     Pune|Jet Airways|     09-06-2019|6995.55|    Tina-Ali|\n",
      "|     Jeetu|   Gandhi|NULL|    Delhi|     IndiGo|     12-05-2019|7840.56|Jeetu-Gandhi|\n",
      "|     Meera|   Kumari|NULL|  LUCKNOW|     IndiGo|     01-03-2019|7813.89|Meera-Kumari|\n",
      "|     Jeetu|   Gandhi|NULL|    Delhi|     IndiGo|     12-05-2019|7840.56|Jeetu-Gandhi|\n",
      "|     Meera|   Kumari|NULL|  LUCKNOW|     IndiGo|     01-03-2019|7813.89|Meera-Kumari|\n",
      "+----------+---------+----+---------+-----------+---------------+-------+------------+\n",
      "\n"
     ]
    }
   ],
   "source": [
    "# Drop A Column/Columns\n",
    "df.drop('Arrival_Time','Dept_Minute','Dep_Time','Dept_Hour','Arrival_Hour').show()\n",
    "\n"
   ]
  },
  {
   "cell_type": "code",
   "execution_count": null,
   "metadata": {
    "colab": {
     "base_uri": "https://localhost:8080/"
    },
    "id": "9kY3t-gchDLv",
    "outputId": "8c38ec40-6775-4a0f-e698-d736d63dfb85"
   },
   "outputs": [
    {
     "name": "stdout",
     "output_type": "stream",
     "text": [
      "+----------+---------+---+---------+-----------+---------------+-------------------+-------+------------+\n",
      "|First_name|Last_name|Age|     City|    Airline|Date_of_Journey|           Dep_Time|Airfare|   Full Name|\n",
      "+----------+---------+---+---------+-----------+---------------+-------------------+-------+------------+\n",
      "|       Ram|    Kumar| 42|BANGALURU|     IndiGo|     24-03-2019|2024-09-28 22:20:00| 8715.1|   Ram-Kumar|\n",
      "|     Mohan|   Sharma| 52|  CHENNAI|  Air India|     01-05-2019|2024-09-28 05:50:00|    0.0|Mohan-Sharma|\n",
      "|      Tina|      Ali| 36|     Pune|Jet Airways|     09-06-2019|2024-09-28 09:25:00|6995.55|    Tina-Ali|\n",
      "+----------+---------+---+---------+-----------+---------------+-------------------+-------+------------+\n",
      "\n"
     ]
    }
   ],
   "source": [
    "# Drop Na\n",
    "df.na.drop().show()\n",
    "\n"
   ]
  },
  {
   "cell_type": "code",
   "execution_count": null,
   "metadata": {
    "colab": {
     "base_uri": "https://localhost:8080/"
    },
    "id": "c9gv5VbZjC7C",
    "outputId": "b47e433d-5aad-465a-a1f9-66c8fe22ead2"
   },
   "outputs": [
    {
     "name": "stdout",
     "output_type": "stream",
     "text": [
      "+----------+---------+---+---------+-----------+---------------+-------------------+-------+------------+\n",
      "|First_name|Last_name|Age|     City|    Airline|Date_of_Journey|           Dep_Time|Airfare|   Full Name|\n",
      "+----------+---------+---+---------+-----------+---------------+-------------------+-------+------------+\n",
      "|       Ram|    Kumar| 42|BANGALURU|     IndiGo|     24-03-2019|2024-09-28 22:20:00| 8715.1|   Ram-Kumar|\n",
      "|     Mohan|   Sharma| 52|  CHENNAI|  Air India|     01-05-2019|2024-09-28 05:50:00|    0.0|Mohan-Sharma|\n",
      "|      Tina|      Ali| 36|     Pune|Jet Airways|     09-06-2019|2024-09-28 09:25:00|6995.55|    Tina-Ali|\n",
      "+----------+---------+---+---------+-----------+---------------+-------------------+-------+------------+\n",
      "\n"
     ]
    }
   ],
   "source": [
    "# Drop Na\n",
    "df.dropna().show()\n"
   ]
  },
  {
   "cell_type": "code",
   "execution_count": null,
   "metadata": {
    "colab": {
     "base_uri": "https://localhost:8080/"
    },
    "id": "0lns2QSUhDO2",
    "outputId": "8406a809-ea0a-436d-b364-bdaaeead48c4"
   },
   "outputs": [
    {
     "name": "stdout",
     "output_type": "stream",
     "text": [
      "+----------+---------+---+---------+-----------+---------------+-------------------+-------+------------+\n",
      "|First_name|Last_name|Age|     City|    Airline|Date_of_Journey|           Dep_Time|Airfare|   Full Name|\n",
      "+----------+---------+---+---------+-----------+---------------+-------------------+-------+------------+\n",
      "|       Ram|    Kumar| 42|BANGALURU|     IndiGo|     24-03-2019|2024-09-28 22:20:00| 8715.1|   Ram-Kumar|\n",
      "|     Mohan|   Sharma| 52|  CHENNAI|  Air India|     01-05-2019|2024-09-28 05:50:00|    0.0|Mohan-Sharma|\n",
      "|      Tina|      Ali| 36|     Pune|Jet Airways|     09-06-2019|2024-09-28 09:25:00|6995.55|    Tina-Ali|\n",
      "+----------+---------+---+---------+-----------+---------------+-------------------+-------+------------+\n",
      "\n"
     ]
    }
   ],
   "source": [
    "# drop na from specific column\n",
    "df.na.drop(subset=['Airline','Age']).show()\n"
   ]
  },
  {
   "cell_type": "code",
   "execution_count": null,
   "metadata": {
    "colab": {
     "base_uri": "https://localhost:8080/"
    },
    "id": "KRdilTDXD6U1",
    "outputId": "8419c3c7-c082-43a3-f111-479c8361831f"
   },
   "outputs": [
    {
     "name": "stdout",
     "output_type": "stream",
     "text": [
      "+----------+---------+----+---------+-----------+---------------+-------------------+-------+------------+\n",
      "|First_name|Last_name| Age|     City|    Airline|Date_of_Journey|           Dep_Time|Airfare|   Full Name|\n",
      "+----------+---------+----+---------+-----------+---------------+-------------------+-------+------------+\n",
      "|    Rajesh|    Kumar|  42|BANGALURU|       NULL|     24-03-2019|2024-09-28 22:20:00| 8715.1|   Ram-Kumar|\n",
      "|       Ram|    Kumar|  42|BANGALURU|     IndiGo|     24-03-2019|2024-09-28 22:20:00| 8715.1|   Ram-Kumar|\n",
      "|     Mohan|   Sharma|  52|  CHENNAI|  Air India|     01-05-2019|2024-09-28 05:50:00|    0.0|Mohan-Sharma|\n",
      "|      Tina|      Ali|  36|     Pune|Jet Airways|     09-06-2019|2024-09-28 09:25:00|6995.55|    Tina-Ali|\n",
      "|     Jeetu|   Gandhi|NULL|    Delhi|     IndiGo|     12-05-2019|2024-09-28 18:05:00|7840.56|Jeetu-Gandhi|\n",
      "|     Meera|   Kumari|NULL|  LUCKNOW|     IndiGo|     01-03-2019|2024-09-28 16:50:00|7813.89|Meera-Kumari|\n",
      "|     Jeetu|   Gandhi|NULL|    Delhi|     IndiGo|     12-05-2019|2024-09-28 18:05:00|7840.56|Jeetu-Gandhi|\n",
      "|     Meera|   Kumari|NULL|  LUCKNOW|     IndiGo|     01-03-2019|2024-09-28 16:50:00|7813.89|Meera-Kumari|\n",
      "+----------+---------+----+---------+-----------+---------------+-------------------+-------+------------+\n",
      "\n"
     ]
    }
   ],
   "source": [
    "df.show()\n"
   ]
  },
  {
   "cell_type": "code",
   "execution_count": null,
   "metadata": {
    "colab": {
     "base_uri": "https://localhost:8080/"
    },
    "id": "S9k6pSWRhDR9",
    "outputId": "2e0751b5-f5e5-4b97-a99e-df7de3243d4c"
   },
   "outputs": [
    {
     "name": "stdout",
     "output_type": "stream",
     "text": [
      "+----------+---------+---+---------+-----------+---------------+-------------------+-------+------------+\n",
      "|First_name|Last_name|Age|     City|    Airline|Date_of_Journey|           Dep_Time|Airfare|   Full Name|\n",
      "+----------+---------+---+---------+-----------+---------------+-------------------+-------+------------+\n",
      "|    Rajesh|    Kumar| 42|BANGALURU|       NULL|     24-03-2019|2024-09-28 22:20:00| 8715.1|   Ram-Kumar|\n",
      "|       Ram|    Kumar| 42|BANGALURU|     IndiGo|     24-03-2019|2024-09-28 22:20:00| 8715.1|   Ram-Kumar|\n",
      "|     Mohan|   Sharma| 52|  CHENNAI|  Air India|     01-05-2019|2024-09-28 05:50:00|    0.0|Mohan-Sharma|\n",
      "|      Tina|      Ali| 36|     Pune|Jet Airways|     09-06-2019|2024-09-28 09:25:00|6995.55|    Tina-Ali|\n",
      "|     Jeetu|   Gandhi| 30|    Delhi|     IndiGo|     12-05-2019|2024-09-28 18:05:00|7840.56|Jeetu-Gandhi|\n",
      "|     Meera|   Kumari| 30|  LUCKNOW|     IndiGo|     01-03-2019|2024-09-28 16:50:00|7813.89|Meera-Kumari|\n",
      "|     Jeetu|   Gandhi| 30|    Delhi|     IndiGo|     12-05-2019|2024-09-28 18:05:00|7840.56|Jeetu-Gandhi|\n",
      "|     Meera|   Kumari| 30|  LUCKNOW|     IndiGo|     01-03-2019|2024-09-28 16:50:00|7813.89|Meera-Kumari|\n",
      "+----------+---------+---+---------+-----------+---------------+-------------------+-------+------------+\n",
      "\n"
     ]
    }
   ],
   "source": [
    "# fill na with specific value\n",
    "\n",
    "df.na.fill(30).show()\n"
   ]
  },
  {
   "cell_type": "code",
   "execution_count": null,
   "metadata": {
    "colab": {
     "base_uri": "https://localhost:8080/"
    },
    "id": "MH7WIDtkhDUm",
    "outputId": "d59dd310-cb8d-4516-d344-f5215fce58a1"
   },
   "outputs": [
    {
     "name": "stdout",
     "output_type": "stream",
     "text": [
      "+----------+---------+---+---------+-----------+---------------+-------------------+-------+------------+\n",
      "|First_name|Last_name|Age|     City|    Airline|Date_of_Journey|           Dep_Time|Airfare|   Full Name|\n",
      "+----------+---------+---+---------+-----------+---------------+-------------------+-------+------------+\n",
      "|    Rajesh|    Kumar| 42|BANGALURU|       NULL|     24-03-2019|2024-09-28 22:20:00| 8715.1|   Ram-Kumar|\n",
      "|       Ram|    Kumar| 42|BANGALURU|     IndiGo|     24-03-2019|2024-09-28 22:20:00| 8715.1|   Ram-Kumar|\n",
      "|     Mohan|   Sharma| 52|  CHENNAI|  Air India|     01-05-2019|2024-09-28 05:50:00|    0.0|Mohan-Sharma|\n",
      "|      Tina|      Ali| 36|     Pune|Jet Airways|     09-06-2019|2024-09-28 09:25:00|6995.55|    Tina-Ali|\n",
      "|     Jeetu|   Gandhi|  5|    Delhi|     IndiGo|     12-05-2019|2024-09-28 18:05:00|7840.56|Jeetu-Gandhi|\n",
      "|     Meera|   Kumari|  5|  LUCKNOW|     IndiGo|     01-03-2019|2024-09-28 16:50:00|7813.89|Meera-Kumari|\n",
      "|     Jeetu|   Gandhi|  5|    Delhi|     IndiGo|     12-05-2019|2024-09-28 18:05:00|7840.56|Jeetu-Gandhi|\n",
      "|     Meera|   Kumari|  5|  LUCKNOW|     IndiGo|     01-03-2019|2024-09-28 16:50:00|7813.89|Meera-Kumari|\n",
      "+----------+---------+---+---------+-----------+---------------+-------------------+-------+------------+\n",
      "\n"
     ]
    }
   ],
   "source": [
    "# fill na with specific value\n",
    "df.fillna(5).show()\n"
   ]
  },
  {
   "cell_type": "code",
   "execution_count": null,
   "metadata": {
    "colab": {
     "base_uri": "https://localhost:8080/"
    },
    "id": "bvN-nowYhDXC",
    "outputId": "1c2fd24f-4cad-4293-c0f9-cae5ee812ef9"
   },
   "outputs": [
    {
     "data": {
      "text/plain": [
       "43.0"
      ]
     },
     "execution_count": 39,
     "metadata": {},
     "output_type": "execute_result"
    }
   ],
   "source": [
    "# Fill na with some value\n",
    "from pyspark.sql.functions import mean\n",
    "\n",
    "meanVlaue = df.select(mean(df['Age'])).collect()[0][0]\n",
    "\n",
    "meanVlaue\n",
    "\n"
   ]
  },
  {
   "cell_type": "code",
   "execution_count": null,
   "metadata": {
    "colab": {
     "base_uri": "https://localhost:8080/"
    },
    "id": "6PXHtGkyfx6h",
    "outputId": "9411419b-d4f7-47eb-e211-b55beb904ae9"
   },
   "outputs": [
    {
     "data": {
      "text/plain": [
       "43.0"
      ]
     },
     "execution_count": 38,
     "metadata": {},
     "output_type": "execute_result"
    }
   ],
   "source": []
  },
  {
   "cell_type": "code",
   "execution_count": null,
   "metadata": {
    "colab": {
     "base_uri": "https://localhost:8080/"
    },
    "id": "vFPc9VYiERxh",
    "outputId": "89981901-8534-4371-de08-e2bdc94dabf2"
   },
   "outputs": [
    {
     "name": "stdout",
     "output_type": "stream",
     "text": [
      "+----------+---------+---+---------+-----------+---------------+-------------------+-------+------------+\n",
      "|First_name|Last_name|Age|     City|    Airline|Date_of_Journey|           Dep_Time|Airfare|   Full Name|\n",
      "+----------+---------+---+---------+-----------+---------------+-------------------+-------+------------+\n",
      "|    Rajesh|    Kumar| 42|BANGALURU|       NULL|     24-03-2019|2024-09-28 22:20:00| 8715.1|   Ram-Kumar|\n",
      "|       Ram|    Kumar| 42|BANGALURU|     IndiGo|     24-03-2019|2024-09-28 22:20:00| 8715.1|   Ram-Kumar|\n",
      "|     Mohan|   Sharma| 52|  CHENNAI|  Air India|     01-05-2019|2024-09-28 05:50:00|    0.0|Mohan-Sharma|\n",
      "|      Tina|      Ali| 36|     Pune|Jet Airways|     09-06-2019|2024-09-28 09:25:00|6995.55|    Tina-Ali|\n",
      "|     Jeetu|   Gandhi| 43|    Delhi|     IndiGo|     12-05-2019|2024-09-28 18:05:00|7840.56|Jeetu-Gandhi|\n",
      "|     Meera|   Kumari| 43|  LUCKNOW|     IndiGo|     01-03-2019|2024-09-28 16:50:00|7813.89|Meera-Kumari|\n",
      "|     Jeetu|   Gandhi| 43|    Delhi|     IndiGo|     12-05-2019|2024-09-28 18:05:00|7840.56|Jeetu-Gandhi|\n",
      "|     Meera|   Kumari| 43|  LUCKNOW|     IndiGo|     01-03-2019|2024-09-28 16:50:00|7813.89|Meera-Kumari|\n",
      "+----------+---------+---+---------+-----------+---------------+-------------------+-------+------------+\n",
      "\n"
     ]
    }
   ],
   "source": [
    "df.na.fill(meanVlaue).show()\n"
   ]
  },
  {
   "cell_type": "code",
   "execution_count": null,
   "metadata": {
    "colab": {
     "base_uri": "https://localhost:8080/"
    },
    "id": "vtpyeli5E2QC",
    "outputId": "be3baa45-e436-4c6a-8d36-53f97b0c997d"
   },
   "outputs": [
    {
     "name": "stdout",
     "output_type": "stream",
     "text": [
      "+----------+---------+----+---------+-----------+---------------+-------------------+-------+------------+\n",
      "|First_name|Last_name| Age|     City|    Airline|Date_of_Journey|           Dep_Time|Airfare|   Full Name|\n",
      "+----------+---------+----+---------+-----------+---------------+-------------------+-------+------------+\n",
      "|    Rajesh|    Kumar|  42|BANGALURU|       NULL|     24-03-2019|2024-09-28 22:20:00| 8715.1|   Ram-Kumar|\n",
      "|       Ram|    Kumar|  42|BANGALURU|     IndiGo|     24-03-2019|2024-09-28 22:20:00| 8715.1|   Ram-Kumar|\n",
      "|     Mohan|   Sharma|  52|  CHENNAI|  Air India|     01-05-2019|2024-09-28 05:50:00|    0.0|Mohan-Sharma|\n",
      "|      Tina|      Ali|  36|     Pune|Jet Airways|     09-06-2019|2024-09-28 09:25:00|6995.55|    Tina-Ali|\n",
      "|     Jeetu|   Gandhi|NULL|    Delhi|     IndiGo|     12-05-2019|2024-09-28 18:05:00|7840.56|Jeetu-Gandhi|\n",
      "|     Meera|   Kumari|NULL|  LUCKNOW|     IndiGo|     01-03-2019|2024-09-28 16:50:00|7813.89|Meera-Kumari|\n",
      "|     Jeetu|   Gandhi|NULL|    Delhi|     IndiGo|     12-05-2019|2024-09-28 18:05:00|7840.56|Jeetu-Gandhi|\n",
      "|     Meera|   Kumari|NULL|  LUCKNOW|     IndiGo|     01-03-2019|2024-09-28 16:50:00|7813.89|Meera-Kumari|\n",
      "+----------+---------+----+---------+-----------+---------------+-------------------+-------+------------+\n",
      "\n"
     ]
    }
   ],
   "source": [
    "df.show()\n"
   ]
  },
  {
   "cell_type": "code",
   "execution_count": null,
   "metadata": {
    "colab": {
     "base_uri": "https://localhost:8080/"
    },
    "id": "2gEFvWaKhDZy",
    "outputId": "48a635bc-84d7-420b-c528-ef0c1f03821b"
   },
   "outputs": [
    {
     "name": "stdout",
     "output_type": "stream",
     "text": [
      "+----------+---------+---+---------+-------+---------------+-------------------+-------+---------+\n",
      "|First_name|Last_name|Age|     City|Airline|Date_of_Journey|           Dep_Time|Airfare|Full Name|\n",
      "+----------+---------+---+---------+-------+---------------+-------------------+-------+---------+\n",
      "|       Ram|    Kumar| 42|BANGALURU| IndiGo|     24-03-2019|2024-09-28 22:20:00| 8715.1|Ram-Kumar|\n",
      "+----------+---------+---+---------+-------+---------------+-------------------+-------+---------+\n",
      "\n"
     ]
    }
   ],
   "source": [
    "# Fliter operation\n",
    "# Print in Dept Minute where Dept Minute is greater than 5\n",
    "#df.filter(cond01,cond02).show()\n",
    "\n",
    "cond01 = df['City']==\"BANGALURU\"\n",
    "cond02 = df['Airline']=='IndiGo'\n",
    "\n",
    "df.filter(cond01 & cond02).show()\n"
   ]
  },
  {
   "cell_type": "code",
   "execution_count": null,
   "metadata": {
    "id": "gjLUuiD4gN03"
   },
   "outputs": [],
   "source": []
  },
  {
   "cell_type": "code",
   "execution_count": null,
   "metadata": {
    "colab": {
     "base_uri": "https://localhost:8080/"
    },
    "id": "EPBdC4SThDc0",
    "outputId": "18a2547f-b71d-411b-dde9-68a3bfad02c9"
   },
   "outputs": [
    {
     "name": "stdout",
     "output_type": "stream",
     "text": [
      "+---------+-------+\n",
      "|     City|Airline|\n",
      "+---------+-------+\n",
      "|BANGALURU| IndiGo|\n",
      "+---------+-------+\n",
      "\n"
     ]
    }
   ],
   "source": [
    "# Filter and print only 'Dep_Time','Arrival_Time'\n",
    "#df.filter(cond01 |cond02 ).select([ColumnsName]).show()\n",
    "\n",
    "cond01 = df['City']==\"BANGALURU\"\n",
    "cond02 = df['Airline']=='IndiGo'\n",
    "\n",
    "df.filter(cond01 & cond02).select(['City','Airline']).show()\n"
   ]
  },
  {
   "cell_type": "code",
   "execution_count": null,
   "metadata": {
    "colab": {
     "base_uri": "https://localhost:8080/"
    },
    "id": "2QlIWNKfhDfp",
    "outputId": "a4c3f897-f0f5-49be-fe4d-a59c90ee6567"
   },
   "outputs": [
    {
     "name": "stdout",
     "output_type": "stream",
     "text": [
      "+----------+---------+---+---------+-------+---------------+-------------------+-------+---------+\n",
      "|First_name|Last_name|Age|     City|Airline|Date_of_Journey|           Dep_Time|Airfare|Full Name|\n",
      "+----------+---------+---+---------+-------+---------------+-------------------+-------+---------+\n",
      "|       Ram|    Kumar| 42|BANGALURU| IndiGo|     24-03-2019|2024-09-23 22:20:00| 8715.1|Ram-Kumar|\n",
      "+----------+---------+---+---------+-------+---------------+-------------------+-------+---------+\n",
      "\n"
     ]
    }
   ],
   "source": [
    "# filter with two conditions\n",
    "# df.filter((cond01) operator (cond02)).show()\n",
    "cond01 = df['City']=='BANGALURU'\n",
    "cond02 = df['Airline']=='Indigo'\n",
    "\n",
    "df.filter(cond01 | cond02).show()\n",
    "\n",
    "\n"
   ]
  },
  {
   "cell_type": "code",
   "execution_count": null,
   "metadata": {
    "colab": {
     "base_uri": "https://localhost:8080/"
    },
    "id": "Z3kEb2rHhDib",
    "outputId": "cd4ea136-c52e-4426-a400-339eafac4658"
   },
   "outputs": [
    {
     "name": "stdout",
     "output_type": "stream",
     "text": [
      "+---------+-----------+-----+\n",
      "|     City|    Airline|count|\n",
      "+---------+-----------+-----+\n",
      "|     Pune|Jet Airways|    1|\n",
      "|  LUCKNOW|     IndiGo|    2|\n",
      "|BANGALURU|     IndiGo|    1|\n",
      "|    Delhi|     IndiGo|    2|\n",
      "|BANGALURU|       NULL|    1|\n",
      "|  CHENNAI|  Air India|    1|\n",
      "+---------+-----------+-----+\n",
      "\n"
     ]
    }
   ],
   "source": [
    "## Group By and Aggregate Function\n",
    "# df.grouoBy(columnName).count().show()\n",
    "df.groupBy('City','Airline').count().show()\n"
   ]
  },
  {
   "cell_type": "code",
   "execution_count": null,
   "metadata": {
    "colab": {
     "base_uri": "https://localhost:8080/"
    },
    "id": "epMJ2iR0HdxU",
    "outputId": "94ccf9c2-8ba3-4dab-dbd3-875fde8d8548"
   },
   "outputs": [
    {
     "name": "stdout",
     "output_type": "stream",
     "text": [
      "+-----------+--------+------------+\n",
      "|    Airline|sum(Age)|sum(Airfare)|\n",
      "+-----------+--------+------------+\n",
      "|  Air India|      52|         0.0|\n",
      "|       NULL|      42|      8715.1|\n",
      "|Jet Airways|      36|     6995.55|\n",
      "|     IndiGo|      42|     40024.0|\n",
      "+-----------+--------+------------+\n",
      "\n"
     ]
    }
   ],
   "source": [
    "df.groupBy('Airline').sum().show()\n"
   ]
  },
  {
   "cell_type": "code",
   "execution_count": null,
   "metadata": {
    "colab": {
     "base_uri": "https://localhost:8080/"
    },
    "id": "iAd2XDckHd9W",
    "outputId": "d49f7b7c-fe3f-47b5-8f17-31a0b92f2254"
   },
   "outputs": [
    {
     "name": "stdout",
     "output_type": "stream",
     "text": [
      "+-----------+--------+------------+\n",
      "|    Airline|avg(Age)|avg(Airfare)|\n",
      "+-----------+--------+------------+\n",
      "|  Air India|    52.0|         0.0|\n",
      "|       NULL|    42.0|      8715.1|\n",
      "|Jet Airways|    36.0|     6995.55|\n",
      "|     IndiGo|    42.0|      8004.8|\n",
      "+-----------+--------+------------+\n",
      "\n"
     ]
    }
   ],
   "source": [
    "df.groupBy('Airline').mean().show()\n"
   ]
  },
  {
   "cell_type": "code",
   "execution_count": null,
   "metadata": {
    "id": "JsbQIOMfHeP7"
   },
   "outputs": [],
   "source": []
  },
  {
   "cell_type": "code",
   "execution_count": null,
   "metadata": {
    "colab": {
     "base_uri": "https://localhost:8080/"
    },
    "id": "xXryPb0ohDlK",
    "outputId": "216692de-ab1c-4cdb-f2b2-6ddcf578044e"
   },
   "outputs": [
    {
     "name": "stdout",
     "output_type": "stream",
     "text": [
      "+---+-----+\n",
      "|Age| Name|\n",
      "+---+-----+\n",
      "| 25| John|\n",
      "| 30|Alice|\n",
      "| 35|  Bob|\n",
      "+---+-----+\n",
      "\n"
     ]
    }
   ],
   "source": [
    "# Create a list of dictionaries containing sample data\n",
    "data = [{\"Name\": \"John\", \"Age\": 25},\n",
    "        {\"Name\": \"Alice\", \"Age\": 30},\n",
    "        {\"Name\": \"Bob\", \"Age\": 35}]\n",
    "\n",
    "\n",
    "# Create DataFrame using the list of dictionaries\n",
    "df = spark.createDataFrame(data)\n",
    "df.show()\n"
   ]
  },
  {
   "cell_type": "code",
   "execution_count": null,
   "metadata": {
    "colab": {
     "base_uri": "https://localhost:8080/"
    },
    "id": "UUA0_K5cYTjT",
    "outputId": "4779efed-0652-4e48-ee1a-5cbd2bb6eb64"
   },
   "outputs": [
    {
     "name": "stdout",
     "output_type": "stream",
     "text": [
      "+---+-----+\n",
      "|Age| Name|\n",
      "+---+-----+\n",
      "| 25| John|\n",
      "| 30|Alice|\n",
      "| 35|  Bob|\n",
      "+---+-----+\n",
      "\n"
     ]
    }
   ],
   "source": [
    "df = spark.createDataFrame(data)\n",
    "df.show()\n"
   ]
  },
  {
   "cell_type": "code",
   "execution_count": null,
   "metadata": {
    "id": "cfQVApw8YTod"
   },
   "outputs": [],
   "source": []
  },
  {
   "cell_type": "code",
   "execution_count": null,
   "metadata": {
    "id": "B5mQiW0LYTq_"
   },
   "outputs": [],
   "source": [
    "# JOINING AND MERGING\n"
   ]
  },
  {
   "cell_type": "code",
   "execution_count": null,
   "metadata": {
    "colab": {
     "base_uri": "https://localhost:8080/"
    },
    "id": "089LR9uLYTuA",
    "outputId": "08458c90-e0e3-4f7c-b81b-ec5235e1396e"
   },
   "outputs": [
    {
     "name": "stdout",
     "output_type": "stream",
     "text": [
      "+-------+------+\n",
      "|  name1|value1|\n",
      "+-------+------+\n",
      "|  Alice|     1|\n",
      "|Charlie|     2|\n",
      "|    Bob|     3|\n",
      "+-------+------+\n",
      "\n"
     ]
    }
   ],
   "source": [
    "from pyspark.sql import SparkSession          # Create a SparkSession\n",
    "spark = SparkSession.builder.appName(\"JoinExample\").getOrCreate()      # Sample data for DataFrame1\n",
    "\n"
   ]
  },
  {
   "cell_type": "code",
   "execution_count": null,
   "metadata": {
    "colab": {
     "base_uri": "https://localhost:8080/"
    },
    "id": "bPuTofdFL8WV",
    "outputId": "224e81e2-90a0-487c-f208-03fc94bfd5eb"
   },
   "outputs": [
    {
     "name": "stdout",
     "output_type": "stream",
     "text": [
      "+-------+------+\n",
      "|  name1|value1|\n",
      "+-------+------+\n",
      "|  Alice|     1|\n",
      "|Charlie|     2|\n",
      "|    Bob|     3|\n",
      "+-------+------+\n",
      "\n"
     ]
    }
   ],
   "source": [
    "# Create 1st DataFrame\n",
    "\n",
    "data1 = [(\"Alice\", 1),(\"Charlie\", 2),(\"Bob\", 3)]\n",
    "columns1 = [\"name1\", \"value1\"]\n",
    "\n",
    "df1 = spark.createDataFrame(data=data1, schema=columns1)\n",
    "df1.show()\n",
    "\n",
    "\n"
   ]
  },
  {
   "cell_type": "code",
   "execution_count": null,
   "metadata": {
    "colab": {
     "base_uri": "https://localhost:8080/"
    },
    "id": "0KsXxAu-v_Ya",
    "outputId": "6c7de152-89d1-450c-de91-f260c7cabc29"
   },
   "outputs": [
    {
     "name": "stdout",
     "output_type": "stream",
     "text": [
      "+-----+------+\n",
      "|name2|value2|\n",
      "+-----+------+\n",
      "|Alice|    10|\n",
      "|  Bob|    20|\n",
      "|David|    30|\n",
      "+-----+------+\n",
      "\n"
     ]
    }
   ],
   "source": [
    "# Sample data for DataFrame2\n",
    "data2 = [(\"Alice\", 10), (\"Bob\", 20), (\"David\", 30)]\n",
    "columns2 = [\"name2\", \"value2\"]\n",
    "\n",
    "df2 = spark.createDataFrame(data=data2, schema=columns2)\n",
    "df2.show()\n",
    "\n"
   ]
  },
  {
   "cell_type": "code",
   "execution_count": null,
   "metadata": {
    "colab": {
     "base_uri": "https://localhost:8080/"
    },
    "id": "GVQCzbZmYTwj",
    "outputId": "dfb27359-1fff-45d8-c1ec-ddf986ff8b6f"
   },
   "outputs": [
    {
     "name": "stdout",
     "output_type": "stream",
     "text": [
      "+-----+------+-----+------+\n",
      "|name1|value1|name2|value2|\n",
      "+-----+------+-----+------+\n",
      "|Alice|     1|Alice|    10|\n",
      "|  Bob|     3|  Bob|    20|\n",
      "+-----+------+-----+------+\n",
      "\n"
     ]
    }
   ],
   "source": [
    "# Joining DataFrames\n",
    "# commonCOlumns = df1['name1']==df2['name2']\n",
    "# df1.join(df2,on=commonCol,how='inner').show()\n",
    "\n",
    "commonCol = df1['name1']==df2['name2']\n",
    "df1.join(df2,on=commonCol,how='inner').show()\n",
    "\n",
    "\n",
    "\n"
   ]
  },
  {
   "cell_type": "code",
   "execution_count": null,
   "metadata": {
    "colab": {
     "base_uri": "https://localhost:8080/"
    },
    "id": "EeNd-o1sYTzO",
    "outputId": "322701de-8b7c-41ed-c155-e242bcb6235c"
   },
   "outputs": [
    {
     "name": "stdout",
     "output_type": "stream",
     "text": [
      "+-----+------+-----+------+\n",
      "|name1|value1|name2|value2|\n",
      "+-----+------+-----+------+\n",
      "|Alice|     1|Alice|    10|\n",
      "|  Bob|     3|  Bob|    20|\n",
      "+-----+------+-----+------+\n",
      "\n"
     ]
    }
   ],
   "source": [
    "# Outer Join Example\n",
    "df1.join(df2, on=commonCol, how=\"inner\").show()\n"
   ]
  },
  {
   "cell_type": "code",
   "execution_count": null,
   "metadata": {
    "colab": {
     "base_uri": "https://localhost:8080/"
    },
    "id": "C0SsQ2IVYT2B",
    "outputId": "2ba997a4-625b-426d-ca6e-8e8439bb9d58"
   },
   "outputs": [
    {
     "name": "stdout",
     "output_type": "stream",
     "text": [
      "+-------+------+-----+------+\n",
      "|  name1|value1|name2|value2|\n",
      "+-------+------+-----+------+\n",
      "|  Alice|     1|Alice|    10|\n",
      "|Charlie|     2| NULL|  NULL|\n",
      "|    Bob|     3|  Bob|    20|\n",
      "+-------+------+-----+------+\n",
      "\n"
     ]
    }
   ],
   "source": [
    "# Left Outer Join Example\n",
    "df1.join(df2, on=commonCol, how=\"left_outer\").show()\n"
   ]
  },
  {
   "cell_type": "code",
   "execution_count": null,
   "metadata": {
    "colab": {
     "base_uri": "https://localhost:8080/"
    },
    "id": "cCCot3A6YT4q",
    "outputId": "97d0b325-635a-4536-891a-dd8100fd1140"
   },
   "outputs": [
    {
     "name": "stdout",
     "output_type": "stream",
     "text": [
      "+-----+------+-----+------+\n",
      "|name1|value1|name2|value2|\n",
      "+-----+------+-----+------+\n",
      "|Alice|     1|Alice|    10|\n",
      "|  Bob|     3|  Bob|    20|\n",
      "| NULL|  NULL|David|    30|\n",
      "+-----+------+-----+------+\n",
      "\n"
     ]
    }
   ],
   "source": [
    "# Right Outer Join Example\n",
    "df1.join(df2, on=commonCol, how=\"right_outer\").show()\n"
   ]
  },
  {
   "cell_type": "code",
   "execution_count": null,
   "metadata": {
    "colab": {
     "base_uri": "https://localhost:8080/"
    },
    "id": "Vw5cV5_rLTw_",
    "outputId": "4e1595ef-2653-4397-d9b4-5a1be584a4e8"
   },
   "outputs": [
    {
     "name": "stdout",
     "output_type": "stream",
     "text": [
      "+-------+------+-----+------+\n",
      "|  name1|value1|name2|value2|\n",
      "+-------+------+-----+------+\n",
      "|  Alice|     1|Alice|    10|\n",
      "|    Bob|     3|  Bob|    20|\n",
      "|Charlie|     2| NULL|  NULL|\n",
      "|   NULL|  NULL|David|    30|\n",
      "+-------+------+-----+------+\n",
      "\n"
     ]
    }
   ],
   "source": [
    "df1.join(df2,on=commonCol,how='outer').show()\n"
   ]
  },
  {
   "cell_type": "code",
   "execution_count": null,
   "metadata": {
    "colab": {
     "base_uri": "https://localhost:8080/"
    },
    "id": "CfTmIS4LLTzw",
    "outputId": "6f023584-8b6e-41d8-fa29-e9314f506507"
   },
   "outputs": [
    {
     "name": "stdout",
     "output_type": "stream",
     "text": [
      "+-----+------+\n",
      "|name1|value1|\n",
      "+-----+------+\n",
      "|Alice|     1|\n",
      "|  Bob|     3|\n",
      "+-----+------+\n",
      "\n"
     ]
    }
   ],
   "source": [
    "# Left Semi Join Example math available in right\n",
    "df1.join(df2, on=commonCol, how=\"left_semi\").show()\n"
   ]
  },
  {
   "cell_type": "code",
   "execution_count": null,
   "metadata": {
    "colab": {
     "base_uri": "https://localhost:8080/"
    },
    "id": "R1i85pzFLT2r",
    "outputId": "3204a21a-be5f-43a4-be8b-02ae301e0cf3"
   },
   "outputs": [
    {
     "name": "stdout",
     "output_type": "stream",
     "text": [
      "+-------+------+\n",
      "|  name1|value1|\n",
      "+-------+------+\n",
      "|Charlie|     2|\n",
      "+-------+------+\n",
      "\n"
     ]
    }
   ],
   "source": [
    "# Left Anti Join Example math is not there is right df\n",
    "df1.join(df2, on=commonCol, how=\"left_anti\").show()\n"
   ]
  },
  {
   "cell_type": "code",
   "execution_count": null,
   "metadata": {
    "colab": {
     "base_uri": "https://localhost:8080/"
    },
    "id": "QvLgC6t-LT5v",
    "outputId": "160f975f-fdf0-4a50-bac1-3104ddcba482"
   },
   "outputs": [
    {
     "name": "stdout",
     "output_type": "stream",
     "text": [
      "+-------+------+-----+------+\n",
      "|  name1|value1|name2|value2|\n",
      "+-------+------+-----+------+\n",
      "|  Alice|     1|Alice|    10|\n",
      "|  Alice|     1|  Bob|    20|\n",
      "|  Alice|     1|David|    30|\n",
      "|    Bob|     3|Alice|    10|\n",
      "|    Bob|     3|  Bob|    20|\n",
      "|    Bob|     3|David|    30|\n",
      "|Charlie|     2|Alice|    10|\n",
      "|Charlie|     2|  Bob|    20|\n",
      "|Charlie|     2|David|    30|\n",
      "+-------+------+-----+------+\n",
      "\n"
     ]
    }
   ],
   "source": [
    "# Cross Join Example\n",
    "newDF = df1.crossJoin(df2)\n",
    "newDF.orderBy('name1','name2').show()\n",
    "\n"
   ]
  },
  {
   "cell_type": "code",
   "execution_count": null,
   "metadata": {
    "colab": {
     "base_uri": "https://localhost:8080/"
    },
    "id": "K5kv1eX8LT8S",
    "outputId": "8638f83c-8914-4cdd-ed32-832669577bbe"
   },
   "outputs": [
    {
     "name": "stdout",
     "output_type": "stream",
     "text": [
      "+-------+------+\n",
      "|  name1|value1|\n",
      "+-------+------+\n",
      "|  Alice|     1|\n",
      "|Charlie|     2|\n",
      "|    Bob|     3|\n",
      "+-------+------+\n",
      "\n"
     ]
    }
   ],
   "source": [
    "df1.show()\n"
   ]
  },
  {
   "cell_type": "code",
   "execution_count": null,
   "metadata": {
    "colab": {
     "base_uri": "https://localhost:8080/"
    },
    "id": "zr4xMLspMAHh",
    "outputId": "55eaa4ac-4796-48a0-e8f4-50eec2efaf4a"
   },
   "outputs": [
    {
     "name": "stdout",
     "output_type": "stream",
     "text": [
      "+-----+------+\n",
      "|name2|value2|\n",
      "+-----+------+\n",
      "|Alice|    10|\n",
      "|  Bob|    20|\n",
      "|David|    30|\n",
      "+-----+------+\n",
      "\n"
     ]
    }
   ],
   "source": [
    "df2.show()\n"
   ]
  },
  {
   "cell_type": "code",
   "execution_count": null,
   "metadata": {
    "id": "IKv0Vl-mMAKc"
   },
   "outputs": [],
   "source": []
  },
  {
   "cell_type": "code",
   "execution_count": null,
   "metadata": {
    "id": "E89iWAwPMATo"
   },
   "outputs": [],
   "source": []
  },
  {
   "cell_type": "code",
   "execution_count": null,
   "metadata": {
    "id": "ODW6F-KNMAV9"
   },
   "outputs": [],
   "source": []
  },
  {
   "cell_type": "code",
   "execution_count": null,
   "metadata": {
    "id": "WFYwVYgsMAYs"
   },
   "outputs": [],
   "source": []
  },
  {
   "cell_type": "code",
   "execution_count": null,
   "metadata": {
    "id": "tB-1DGN2MAbY"
   },
   "outputs": [],
   "source": []
  },
  {
   "cell_type": "code",
   "execution_count": null,
   "metadata": {
    "id": "_xiFmC3KMAeO"
   },
   "outputs": [],
   "source": []
  },
  {
   "cell_type": "code",
   "execution_count": null,
   "metadata": {
    "id": "0VQCpq4SMAh2"
   },
   "outputs": [],
   "source": []
  },
  {
   "cell_type": "code",
   "execution_count": null,
   "metadata": {
    "id": "BpXceljILT-x"
   },
   "outputs": [],
   "source": []
  },
  {
   "cell_type": "code",
   "execution_count": null,
   "metadata": {
    "id": "x6-XTwP6LUBT"
   },
   "outputs": [],
   "source": []
  },
  {
   "cell_type": "code",
   "execution_count": null,
   "metadata": {
    "id": "ciWz7bT6LUD_"
   },
   "outputs": [],
   "source": []
  },
  {
   "cell_type": "code",
   "execution_count": null,
   "metadata": {
    "id": "9AC-hwdeLUHl"
   },
   "outputs": [],
   "source": []
  },
  {
   "cell_type": "code",
   "execution_count": null,
   "metadata": {
    "id": "d_iWkJVsYT7S"
   },
   "outputs": [],
   "source": []
  },
  {
   "cell_type": "code",
   "execution_count": null,
   "metadata": {
    "id": "vtrD-XCVYT9m"
   },
   "outputs": [],
   "source": []
  },
  {
   "cell_type": "code",
   "execution_count": null,
   "metadata": {
    "id": "V6lrNbOTYUAI"
   },
   "outputs": [],
   "source": []
  },
  {
   "cell_type": "code",
   "execution_count": null,
   "metadata": {
    "id": "98a58JCEYUDn"
   },
   "outputs": [],
   "source": []
  }
 ],
 "metadata": {
  "colab": {
   "provenance": []
  },
  "kernelspec": {
   "display_name": "Python 3 (ipykernel)",
   "language": "python",
   "name": "python3"
  },
  "language_info": {
   "codemirror_mode": {
    "name": "ipython",
    "version": 3
   },
   "file_extension": ".py",
   "mimetype": "text/x-python",
   "name": "python",
   "nbconvert_exporter": "python",
   "pygments_lexer": "ipython3",
   "version": "3.11.7"
  }
 },
 "nbformat": 4,
 "nbformat_minor": 4
}
