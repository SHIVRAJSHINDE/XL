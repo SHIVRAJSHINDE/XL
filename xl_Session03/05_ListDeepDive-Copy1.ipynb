{
 "cells": [
  {
   "cell_type": "code",
   "execution_count": null,
   "id": "a69c4e41",
   "metadata": {},
   "outputs": [],
   "source": [
    "'Creating List'\n",
    "\n",
    "'''Method 01'''\n",
    "abc = [\"apple\", \"banana\", \"cherry\", \"orange\"]\n",
    "abc\n"
   ]
  },
  {
   "cell_type": "code",
   "execution_count": null,
   "id": "bf320f52",
   "metadata": {},
   "outputs": [],
   "source": [
    "'''Method 02 using cunstructor'''\n",
    "\n",
    "abc = list((\"apple\", \"banana\", \"cherry\", \"orange\"))\n",
    "abc\n"
   ]
  },
  {
   "cell_type": "code",
   "execution_count": null,
   "id": "268c30ab",
   "metadata": {},
   "outputs": [],
   "source": [
    "xyzList = list((1,2,3,4,5))\n",
    "xyzList\n"
   ]
  },
  {
   "cell_type": "markdown",
   "id": "2428f078-94da-4846-b885-aa2588f7fd82",
   "metadata": {},
   "source": [
    "# Performing some operations on List"
   ]
  },
  {
   "cell_type": "markdown",
   "id": "c1142895",
   "metadata": {
    "jp-MarkdownHeadingCollapsed": true
   },
   "source": [
    "# Slicing"
   ]
  },
  {
   "cell_type": "code",
   "execution_count": null,
   "id": "faebebef-734a-4099-8bdd-845e5fe3f970",
   "metadata": {},
   "outputs": [],
   "source": [
    "# +Ve Indexing\n",
    "abc =  ['apple', 'banana', 'cherry', 'orange']\n",
    "#          0        1        2          3\n",
    "#         -4       -3        -2       -1\n",
    "\n"
   ]
  },
  {
   "cell_type": "code",
   "execution_count": null,
   "id": "cd4e64ed",
   "metadata": {},
   "outputs": [],
   "source": [
    "# +Ve Indexing\n",
    "abc =  ['apple', 'banana', 'cherry', 'orange']\n",
    "#          0        1        2          3\n",
    "\n",
    "\n",
    "\n",
    "sliced_list = abc[0:3]\n",
    "\n",
    "print(sliced_list)\n"
   ]
  },
  {
   "cell_type": "code",
   "execution_count": null,
   "id": "acc35b9f-5d3a-4636-afe1-656b9dff9f95",
   "metadata": {},
   "outputs": [],
   "source": [
    "# -Ve Indexing\n",
    "abc = list((\"apple\", \"banana\", \"cherry\", \"orange\"))\n",
    "#               -4       -3        -2       -1\n",
    "\n"
   ]
  },
  {
   "cell_type": "code",
   "execution_count": null,
   "id": "ddf1718a-122b-4370-b9e3-a7cc57005654",
   "metadata": {},
   "outputs": [],
   "source": [
    "# print apple and banana with +ve index\n",
    "abc[2]\n"
   ]
  },
  {
   "cell_type": "code",
   "execution_count": null,
   "id": "4385fae6-2098-4259-ab1b-fa5c9be8b37b",
   "metadata": {},
   "outputs": [],
   "source": [
    "# print apple and banana with -ve index\n",
    "abc[-4:]\n"
   ]
  },
  {
   "cell_type": "code",
   "execution_count": null,
   "id": "75c06903-987f-41df-8979-a1556b1916f3",
   "metadata": {},
   "outputs": [],
   "source": [
    "# print Only Banana\n",
    "abc[-3]\n"
   ]
  },
  {
   "cell_type": "code",
   "execution_count": null,
   "id": "3e22ee29-ed19-4e05-8ff8-313d826ed7cd",
   "metadata": {},
   "outputs": [],
   "source": []
  },
  {
   "cell_type": "code",
   "execution_count": null,
   "id": "0bcd6a90",
   "metadata": {},
   "outputs": [],
   "source": [
    "sliced_list = abc[:3]\n",
    "print(sliced_list) "
   ]
  },
  {
   "cell_type": "code",
   "execution_count": null,
   "id": "acf56e3e-8706-48b3-9439-03f47327710c",
   "metadata": {},
   "outputs": [],
   "source": [
    "# Slice from index 1 to index 3 (exclusive)\n",
    "print(abc[1:3])\n",
    "print(abc[:2])\n",
    "print(abc[1:])\n",
    "print(abc[:])\n"
   ]
  },
  {
   "cell_type": "code",
   "execution_count": null,
   "id": "54927588-a9aa-4dda-aeb9-ee43f3f63984",
   "metadata": {},
   "outputs": [],
   "source": []
  },
  {
   "cell_type": "code",
   "execution_count": null,
   "id": "0b6af367",
   "metadata": {},
   "outputs": [],
   "source": []
  },
  {
   "cell_type": "code",
   "execution_count": null,
   "id": "c9e30f2b",
   "metadata": {},
   "outputs": [],
   "source": [
    "print(abc[-2:])\n",
    "print(abc[:-2])\n",
    "print(abc[-1:])\n",
    "print(abc[:-1])\n"
   ]
  },
  {
   "cell_type": "markdown",
   "id": "8cf8d627-6d6b-4ee0-99bf-85f8b853ce68",
   "metadata": {
    "jp-MarkdownHeadingCollapsed": true
   },
   "source": [
    "# Reversed"
   ]
  },
  {
   "cell_type": "code",
   "execution_count": null,
   "id": "8f69980a-9d1e-4cbf-bacd-439b79325e7d",
   "metadata": {},
   "outputs": [],
   "source": [
    "# method one readymade fucntion \n",
    "# it will reverse the original List\n",
    "abc = list((\"apple\", \"banana\", \"cherry\", \"orange\"))\n",
    "print(abc)\n",
    "abc.reverse()\n",
    "print(abc)\n"
   ]
  },
  {
   "cell_type": "code",
   "execution_count": 6,
   "id": "eeae8378",
   "metadata": {},
   "outputs": [
    {
     "name": "stdout",
     "output_type": "stream",
     "text": [
      "['apple', 'banana', 'cherry', 'orange']\n",
      "['orange', 'cherry', 'banana', 'apple']\n",
      "['apple', 'banana', 'cherry', 'orange']\n"
     ]
    }
   ],
   "source": [
    "# method Two Indexing \n",
    "# it will create a copy then reverse the list.\n",
    "abc = list((\"apple\", \"banana\", \"cherry\", \"orange\"))\n",
    "print(abc)\n",
    "print(abc[::-1])\n",
    "print(abc)\n"
   ]
  },
  {
   "cell_type": "code",
   "execution_count": null,
   "id": "7ea81dd6-93ef-4b90-9ddf-684cc0ab6a9d",
   "metadata": {},
   "outputs": [],
   "source": []
  },
  {
   "cell_type": "markdown",
   "id": "a845c7b7-f496-4100-9fae-71f3f12d6f65",
   "metadata": {
    "jp-MarkdownHeadingCollapsed": true
   },
   "source": [
    "# Iterating over list"
   ]
  },
  {
   "cell_type": "code",
   "execution_count": null,
   "id": "cf58847c",
   "metadata": {},
   "outputs": [],
   "source": [
    "'''Iterating over list '''\n",
    "newABC = []\n",
    "\n",
    "for i in range(len(abc)-1,0,-1):\n",
    "    print(i)\n"
   ]
  },
  {
   "cell_type": "code",
   "execution_count": null,
   "id": "d3ff3993",
   "metadata": {},
   "outputs": [],
   "source": [
    "abc = [\"apple\", \"banana\", \"cherry\", \"orange\"]\n",
    "\n",
    "for i in abc:\n",
    "    print(i)\n",
    "    "
   ]
  },
  {
   "cell_type": "markdown",
   "id": "606ef572-8c9d-44ca-8f1b-1c565bfd4534",
   "metadata": {
    "jp-MarkdownHeadingCollapsed": true
   },
   "source": [
    "# Lenght of List"
   ]
  },
  {
   "cell_type": "code",
   "execution_count": null,
   "id": "c1a37345",
   "metadata": {},
   "outputs": [],
   "source": [
    "'''len Of List'''\n",
    "abc = ['apple', 'banana', 'cherry', 'orange']\n",
    "\n",
    "len(abc)\n"
   ]
  },
  {
   "cell_type": "markdown",
   "id": "c9ef6552-8a08-4c19-8b37-a1eae219e982",
   "metadata": {
    "jp-MarkdownHeadingCollapsed": true
   },
   "source": [
    "# Count"
   ]
  },
  {
   "cell_type": "code",
   "execution_count": null,
   "id": "31961fe3",
   "metadata": {},
   "outputs": [],
   "source": [
    "abc = ['apple', 'banana', 'apple','apple', 'banana', 'cherry', 'orange']\n",
    "\n",
    "abc.count('apple')\n"
   ]
  },
  {
   "cell_type": "markdown",
   "id": "d3acbb5b-5143-4045-a06e-837af40d7a5c",
   "metadata": {
    "jp-MarkdownHeadingCollapsed": true
   },
   "source": [
    "# Appearances"
   ]
  },
  {
   "cell_type": "code",
   "execution_count": null,
   "id": "91e6bd4d-93a9-42b0-98a7-ef7995ca5684",
   "metadata": {},
   "outputs": [],
   "source": [
    "'''Check if Item Exists'''\n",
    "abc = ['apple', 'banana', 'apple', 'banana', 'cherry', 'orange']\n",
    "\n",
    "'banana' in abc\n"
   ]
  },
  {
   "cell_type": "markdown",
   "id": "51d34a6e-e933-42fe-ac13-16a85ed93888",
   "metadata": {
    "jp-MarkdownHeadingCollapsed": true
   },
   "source": [
    "# Changing/Replace"
   ]
  },
  {
   "cell_type": "code",
   "execution_count": null,
   "id": "2b6dc02c",
   "metadata": {},
   "outputs": [],
   "source": [
    "'''Changing/Replace the item'''\n",
    "abc = ['apple', 'banana', 'cherry', 'orange']\n",
    "#         0         1        2          3\n",
    "\n",
    "abc[3]= \"Mangoes\"\n",
    "abc\n"
   ]
  },
  {
   "cell_type": "code",
   "execution_count": null,
   "id": "1d3cf7a2-d419-47b7-ab81-871976383ae0",
   "metadata": {},
   "outputs": [],
   "source": []
  },
  {
   "cell_type": "markdown",
   "id": "f2727819",
   "metadata": {
    "jp-MarkdownHeadingCollapsed": true
   },
   "source": [
    "# Adding an Item\n"
   ]
  },
  {
   "cell_type": "code",
   "execution_count": null,
   "id": "af25e444",
   "metadata": {},
   "outputs": [],
   "source": [
    "'''To add an item at the Last index'''\n",
    "abc = ['apple', 'banana', 'cherry', 'orange']\n",
    "#         0         1        2          3\n",
    "\n",
    "abc.append(\"mango\")\n",
    "print(abc)\n"
   ]
  },
  {
   "cell_type": "code",
   "execution_count": null,
   "id": "496c69c2",
   "metadata": {},
   "outputs": [],
   "source": [
    "'''To add an item at the specified index'''\n",
    "\n",
    "abc.insert(1,\"pineapple\")\n",
    "abc\n"
   ]
  },
  {
   "cell_type": "markdown",
   "id": "5762d741",
   "metadata": {
    "jp-MarkdownHeadingCollapsed": true
   },
   "source": [
    "# Remove"
   ]
  },
  {
   "cell_type": "code",
   "execution_count": null,
   "id": "1f105bb7",
   "metadata": {},
   "outputs": [],
   "source": [
    "'''To removes the specified item:'''\n",
    "abc = ['apple', 'pineapple', 'banana', 'kiwi','orange']\n",
    "\n",
    "abc.remove('pineapple')\n",
    "abc\n"
   ]
  },
  {
   "cell_type": "code",
   "execution_count": null,
   "id": "1d458b94",
   "metadata": {},
   "outputs": [],
   "source": []
  },
  {
   "cell_type": "code",
   "execution_count": null,
   "id": "fc957aa3",
   "metadata": {},
   "outputs": [],
   "source": [
    "'''To removes the Last item use pop method'''\n",
    "abc.pop()\n",
    "abc\n"
   ]
  },
  {
   "cell_type": "code",
   "execution_count": null,
   "id": "3eabb0d0",
   "metadata": {},
   "outputs": [],
   "source": [
    "'''To removes by Index'''\n",
    "abc = ['apple', 'pineapple', 'banana', 'kiwi', 'orange', 'orange']\n",
    "\n",
    "del abc[1]\n",
    "print(abc)\n"
   ]
  },
  {
   "cell_type": "code",
   "execution_count": null,
   "id": "3e7477cc",
   "metadata": {},
   "outputs": [],
   "source": [
    "del abc[1]\n",
    "abc\n"
   ]
  },
  {
   "cell_type": "code",
   "execution_count": null,
   "id": "0cc3e31c",
   "metadata": {},
   "outputs": [],
   "source": [
    "abc = ['pineapple', 'banana', 'kiwi', 'orange', 'orange']\n"
   ]
  },
  {
   "cell_type": "markdown",
   "id": "04adf272-97b9-4675-884b-d5df798b9ed9",
   "metadata": {
    "jp-MarkdownHeadingCollapsed": true
   },
   "source": [
    "# Empty and Delete"
   ]
  },
  {
   "cell_type": "code",
   "execution_count": null,
   "id": "2c82d1d9",
   "metadata": {},
   "outputs": [],
   "source": [
    "'''Clear'''\n",
    "'''To empty the list:'''\n",
    "abc = ['pineapple', 'banana', 'kiwi', 'orange', 'orange']\n",
    "\n",
    "abc.clear()\n",
    "print(abc)\n"
   ]
  },
  {
   "cell_type": "code",
   "execution_count": null,
   "id": "b4a97bc5",
   "metadata": {},
   "outputs": [],
   "source": [
    "'''Delete'''\n",
    "'''To delete the Data Completely'''\n",
    "abc = ['pineapple', 'banana', 'kiwi', 'orange', 'orange']\n",
    "\n",
    "del abc\n",
    "abc\n"
   ]
  },
  {
   "cell_type": "markdown",
   "id": "9a412262",
   "metadata": {},
   "source": [
    "# Copy"
   ]
  },
  {
   "cell_type": "code",
   "execution_count": null,
   "id": "c5b0ac1a",
   "metadata": {},
   "outputs": [],
   "source": [
    "abc = ['pineapple', 'banana', 'kiwi', 'orange', 'orange']\n",
    "\n",
    "#Method One\n",
    "abc.copy()\n"
   ]
  },
  {
   "cell_type": "code",
   "execution_count": null,
   "id": "f186d147",
   "metadata": {},
   "outputs": [],
   "source": [
    "#Method Two\n",
    "abc = ['pineapple', 'banana', 'kiwi', 'orange', 'orange']\n",
    "\n",
    "#Method Two\n",
    "newList = abc\n",
    "print(newList)\n"
   ]
  },
  {
   "cell_type": "code",
   "execution_count": null,
   "id": "c6f280e4-294d-4a2d-be82-4e6dd7992ea9",
   "metadata": {},
   "outputs": [],
   "source": [
    "abc = ['pineapple', 'banana', 'kiwi', 'orange', 'orange']\n",
    "\n",
    "#Method Three\n",
    "\n",
    "newList = list(abc)\n",
    "newList\n"
   ]
  },
  {
   "cell_type": "code",
   "execution_count": null,
   "id": "1a058b19-3d18-42ee-afe2-067b7f97a1a4",
   "metadata": {},
   "outputs": [],
   "source": [
    "abcTuple = ('pineapple', 'banana', 'kiwi', 'orange', 'orange')\n",
    "\n",
    "#Method Three\n",
    "mylist = list(abcTuple)\n",
    "print(mylist)\n"
   ]
  },
  {
   "cell_type": "code",
   "execution_count": null,
   "id": "9c98ef2c-b5e9-478b-b896-fec00f8b0da1",
   "metadata": {},
   "outputs": [],
   "source": [
    "abcSet = {'pineapple', 'banana', 'kiwi', 'orange', 'orange'}\n",
    "\n",
    "#Method Three\n",
    "mylist = list(abcSet)\n",
    "print(mylist)\n"
   ]
  },
  {
   "cell_type": "markdown",
   "id": "8ad6f93f",
   "metadata": {
    "jp-MarkdownHeadingCollapsed": true
   },
   "source": [
    "# Join"
   ]
  },
  {
   "cell_type": "code",
   "execution_count": null,
   "id": "04122433",
   "metadata": {},
   "outputs": [],
   "source": [
    "list1 = [\"a\", \"b\" , \"c\"]\n",
    "list2 = [1, 2, 3]\n",
    "\n"
   ]
  },
  {
   "cell_type": "code",
   "execution_count": null,
   "id": "19d23060",
   "metadata": {},
   "outputs": [],
   "source": [
    "'''Method 01 by using + operator'''\n",
    "\n",
    "list3 = list1 + list2\n",
    "list3"
   ]
  },
  {
   "cell_type": "code",
   "execution_count": null,
   "id": "1bfcd40b",
   "metadata": {},
   "outputs": [],
   "source": [
    "'''Method 02\n",
    "by using extend'''\n",
    "\n",
    "list2.extend(list1)\n",
    "list2"
   ]
  },
  {
   "cell_type": "code",
   "execution_count": null,
   "id": "f5d16203",
   "metadata": {},
   "outputs": [],
   "source": [
    "'''Method 03\n",
    "by using append,'''\n",
    "\n",
    "list1 = [\"a\", \"b\" , \"c\"]\n",
    "list2 = [1, 2, 3]\n",
    "\n",
    "for i in list1:\n",
    "    list2.append(i)\n",
    "    print(list2)\n"
   ]
  },
  {
   "cell_type": "code",
   "execution_count": null,
   "id": "11830296",
   "metadata": {},
   "outputs": [],
   "source": []
  },
  {
   "cell_type": "markdown",
   "id": "28eff7f5-da98-44be-a2c9-9510387426fe",
   "metadata": {
    "jp-MarkdownHeadingCollapsed": true
   },
   "source": [
    "# Print index of an Element"
   ]
  },
  {
   "cell_type": "code",
   "execution_count": null,
   "id": "ff556f1c",
   "metadata": {},
   "outputs": [],
   "source": [
    "'''Index of the element with the specified value'''\n",
    "list1 = [\"a\", \"b\" , \"c\", \"c\", \"c\"]\n",
    "\n",
    "list1.index('a')\n"
   ]
  },
  {
   "cell_type": "markdown",
   "id": "96349fb2-4d9f-4094-bb66-3bf2138a6516",
   "metadata": {
    "jp-MarkdownHeadingCollapsed": true
   },
   "source": [
    "# Sort the List"
   ]
  },
  {
   "cell_type": "code",
   "execution_count": null,
   "id": "375901a0",
   "metadata": {},
   "outputs": [],
   "source": [
    "# Does Not Modify the Original: It creates and returns a new sorted list, leaving the original iterable unchanged.\n",
    "# this method is not memory Efficient\n",
    "list2 = [1, 2, 3,4]\n",
    "\n",
    "print(sorted(list2,reverse=True))\n",
    "\n",
    "print(list2)\n"
   ]
  },
  {
   "cell_type": "code",
   "execution_count": null,
   "id": "1c1465bb-0ea2-42dd-8342-85e1f66e89fb",
   "metadata": {},
   "outputs": [],
   "source": [
    "list2 = [1, 2, 3,3]\n",
    "sorted(list2,reverse=True)\n"
   ]
  },
  {
   "cell_type": "code",
   "execution_count": null,
   "id": "8e502fd7",
   "metadata": {},
   "outputs": [],
   "source": [
    "# Modifies the Original List: It changes the original list and does not return a new list.\n",
    "# In-Place Sorting: Since it modifies the original list, it uses less memory compared to sorted().\n",
    "\n",
    "list2 = [1, 2, 3,3]\n",
    "\n",
    "abc = list2.sort(reverse=True)\n",
    "print(list2)\n"
   ]
  },
  {
   "cell_type": "code",
   "execution_count": null,
   "id": "0ae03daf-039b-43ba-b7cb-9a89e76e9b2b",
   "metadata": {},
   "outputs": [],
   "source": [
    "list2 = [1, 2, 3,3]\n",
    "\n",
    "list2.sort(reverse=False)\n",
    "list2\n"
   ]
  },
  {
   "cell_type": "markdown",
   "id": "ff8e2986-7a97-4206-b66a-720b11bfb970",
   "metadata": {
    "jp-MarkdownHeadingCollapsed": true
   },
   "source": [
    "# Convert list to dict"
   ]
  },
  {
   "cell_type": "code",
   "execution_count": null,
   "id": "facf1e12-7528-4516-93bc-971f75707f22",
   "metadata": {},
   "outputs": [],
   "source": [
    "\n",
    "abc = [\"apple\", \"banana\", \"cherry\", \"orange\"]\n",
    "xyz = [1, 2, 3, 4,5,6]\n",
    "\n",
    "dict(zip(abc,xyz))\n",
    "\n"
   ]
  },
  {
   "cell_type": "code",
   "execution_count": null,
   "id": "d330c0e2-87ac-4474-be6f-0b5e3c85222e",
   "metadata": {},
   "outputs": [],
   "source": []
  },
  {
   "cell_type": "code",
   "execution_count": null,
   "id": "48033642-88e0-420c-bfbb-68c4a4445e24",
   "metadata": {},
   "outputs": [],
   "source": []
  },
  {
   "cell_type": "markdown",
   "id": "22707625-a6a2-4c57-8172-6c9b14a7a3ac",
   "metadata": {
    "jp-MarkdownHeadingCollapsed": true
   },
   "source": [
    "# Print Even Numbers\n"
   ]
  },
  {
   "cell_type": "code",
   "execution_count": null,
   "id": "edd9f3d7-7712-4b5b-87d5-85dca7c9cf48",
   "metadata": {},
   "outputs": [],
   "source": [
    "# \n",
    "\n",
    "for i in range(1,10):\n",
    "    if i%2 == 0:\n",
    "        print(i)\n"
   ]
  },
  {
   "cell_type": "code",
   "execution_count": null,
   "id": "7c9f9571-6393-49b3-81fa-e87ef19588ce",
   "metadata": {},
   "outputs": [],
   "source": []
  },
  {
   "cell_type": "code",
   "execution_count": null,
   "id": "4666ae13-f4ee-4eec-8989-96dcf31d18ba",
   "metadata": {},
   "outputs": [],
   "source": []
  },
  {
   "cell_type": "markdown",
   "id": "99b4f6d0-08d0-46c8-9997-47c053c38aa5",
   "metadata": {
    "jp-MarkdownHeadingCollapsed": true
   },
   "source": [
    "# Use of list Comprehension"
   ]
  },
  {
   "cell_type": "code",
   "execution_count": 1,
   "id": "4691bb9d",
   "metadata": {},
   "outputs": [],
   "source": [
    "'Create copy of a list from existing list'\n",
    "\n",
    "fruits = [\"apple\", \"banana\", \"cherry\", \"kiwi\", \"mango\"]\n"
   ]
  },
  {
   "cell_type": "code",
   "execution_count": 3,
   "id": "11be8d19-07f5-4a5e-8a78-069400d3779c",
   "metadata": {},
   "outputs": [
    {
     "data": {
      "text/plain": [
       "['apple', 'banana', 'cherry', 'kiwi', 'mango']"
      ]
     },
     "execution_count": 3,
     "metadata": {},
     "output_type": "execute_result"
    }
   ],
   "source": [
    "newlist = []\n",
    "\n",
    "for i in fruits:\n",
    "    newlist.append(i)\n",
    "    \n",
    "newlist\n"
   ]
  },
  {
   "cell_type": "code",
   "execution_count": 6,
   "id": "5b44b356",
   "metadata": {},
   "outputs": [
    {
     "name": "stdout",
     "output_type": "stream",
     "text": [
      "['apple', 'banana', 'cherry', 'kiwi', 'mango']\n",
      "['apple', 'banana', 'cherry', 'kiwi', 'mango']\n"
     ]
    }
   ],
   "source": [
    "'''Using List Comprehension'''\n",
    "#[exp   for i in iterable]\n",
    "\n",
    "newList = [x for x in fruits]\n",
    "\n",
    "print(fruits)\n",
    "print(newList)\n"
   ]
  },
  {
   "cell_type": "code",
   "execution_count": null,
   "id": "f37a17e2-d1de-4147-a4d5-17e9fce5d71b",
   "metadata": {},
   "outputs": [],
   "source": [
    "#         [exp   for i in iterable]\n",
    "newList = [i      for i in fruits]\n",
    "newList\n"
   ]
  },
  {
   "cell_type": "code",
   "execution_count": null,
   "id": "9735900b",
   "metadata": {},
   "outputs": [],
   "source": []
  },
  {
   "cell_type": "code",
   "execution_count": null,
   "id": "626924ae",
   "metadata": {},
   "outputs": [],
   "source": [
    "'Create New a New list which has \"a\" in common'\n",
    "\n",
    "\n",
    "fruits = [\"apple\", \"banana\", \"cherry\", \"kiwi\", \"mango\"]\n"
   ]
  },
  {
   "cell_type": "code",
   "execution_count": 9,
   "id": "0aaa3453-50fc-4dfb-91e9-96ed3d50cbf6",
   "metadata": {},
   "outputs": [
    {
     "name": "stdout",
     "output_type": "stream",
     "text": [
      "['apple', 'banana', 'mango']\n"
     ]
    }
   ],
   "source": [
    "newlistWithA = []\n",
    "\n",
    "for i in fruits:\n",
    "    if 'a' in i:\n",
    "        newlistWithA.append(i)\n",
    "        \n",
    "print(newlistWithA)\n"
   ]
  },
  {
   "cell_type": "code",
   "execution_count": 10,
   "id": "e80e34c5",
   "metadata": {},
   "outputs": [
    {
     "data": {
      "text/plain": [
       "['apple', 'banana', 'mango']"
      ]
     },
     "execution_count": 10,
     "metadata": {},
     "output_type": "execute_result"
    }
   ],
   "source": [
    "'create New a New list which \"a\" in common using List comprehension'\n",
    "\n",
    "# [exp    for i in iterable       if condition  ]\n",
    "\n",
    "\n",
    "\n",
    "\n"
   ]
  },
  {
   "cell_type": "code",
   "execution_count": null,
   "id": "81ea2def",
   "metadata": {},
   "outputs": [],
   "source": [
    "newlistWithA2 = [x for x in fruits if \"a\" in x]\n",
    "newlistWithA2\n"
   ]
  },
  {
   "cell_type": "code",
   "execution_count": null,
   "id": "8a39a413-f544-48bc-807d-f470d5a70aa6",
   "metadata": {},
   "outputs": [],
   "source": []
  },
  {
   "cell_type": "code",
   "execution_count": 16,
   "id": "4b25a534-6bb2-4e14-b571-a9be9c60a2dd",
   "metadata": {},
   "outputs": [
    {
     "data": {
      "text/plain": [
       "[1, 4, 9, 16, 25, 36, 49]"
      ]
     },
     "execution_count": 16,
     "metadata": {},
     "output_type": "execute_result"
    }
   ],
   "source": [
    "# Generate a new list containing the squares of the numbers in the list [1, 2, 3, 4, 5, 6, 7]\n",
    "listOne = [1, 2, 3, 4, 5, 6, 7]\n",
    "newList1 = []\n",
    "\n",
    "for i in listOne:\n",
    "    newList1.append(i**2)\n",
    "\n",
    "newList1\n"
   ]
  },
  {
   "cell_type": "code",
   "execution_count": null,
   "id": "9787b247-1b7b-434d-9a70-6afc767871dc",
   "metadata": {},
   "outputs": [],
   "source": [
    "# [exp   iteration ]\n",
    "\n",
    "newList = [x**2 for i in listOne]\n",
    "\n",
    "newList\n"
   ]
  },
  {
   "cell_type": "code",
   "execution_count": 20,
   "id": "684d1bd5",
   "metadata": {},
   "outputs": [
    {
     "name": "stdout",
     "output_type": "stream",
     "text": [
      "[4, 16, 36]\n"
     ]
    }
   ],
   "source": [
    "# Create a new list of squared of each Even_Number\n",
    "listOne = [1, 2, 3, 4, 5, 6, 7]\n",
    "\n",
    "newListSq = []\n",
    "\n",
    "for i in listOne:\n",
    "    if i%2==0:\n",
    "        newListSq.append(i**2)\n",
    "        \n",
    "print(newListSq)\n"
   ]
  },
  {
   "cell_type": "code",
   "execution_count": null,
   "id": "f65748f2",
   "metadata": {},
   "outputs": [],
   "source": []
  },
  {
   "cell_type": "code",
   "execution_count": null,
   "id": "5040c0cc",
   "metadata": {},
   "outputs": [],
   "source": [
    "# Using list comprehension to create a new list of squared of each Number\n",
    "# [exp   iteration           condition     ]\n",
    "# [i**2 for x in range(1,7)  if i%2==0]\n",
    "\n",
    "listOne = [1, 2, 3, 4, 5, 6, 7]\n",
    "\n",
    "\n",
    "# Using list comprehension to create a new list of squared of Even Number\n",
    "\n",
    "oddNumberSqure = [i**2 for i in listOne if i%2 == 0]\n",
    "oddNumberSqure\n"
   ]
  },
  {
   "cell_type": "code",
   "execution_count": null,
   "id": "ecf47759",
   "metadata": {},
   "outputs": [],
   "source": [
    "# Using list comprehension to create a new list of squared of each Number\n",
    "# [exp   iteration           condition     ]\n",
    "# [i**2 for x in range(1,7)  if i%2==0]\n",
    "\n",
    "listOne = [1, 2, 3, 4, 5, 6, 7]\n",
    "\n",
    "# Using list comprehension to create a new list of squared of ODD Number\n",
    "\n",
    "oddNumberSqure = [i**2 for i in listOne if i%2 != 0]\n",
    "oddNumberSqure\n"
   ]
  },
  {
   "cell_type": "code",
   "execution_count": 22,
   "id": "8b78ed96",
   "metadata": {},
   "outputs": [
    {
     "data": {
      "text/plain": [
       "[1, 2, 6, 7]"
      ]
     },
     "execution_count": 22,
     "metadata": {},
     "output_type": "execute_result"
    }
   ],
   "source": [
    "# Example: Filtering numbers less than 3 or greater 5\n",
    "numbers = [1, 2, 3, 4, 5, 6, 7,]\n",
    "newLIST = []\n",
    "\n",
    "for x in numbers:\n",
    "    if x <3 or x >5:\n",
    "        newLIST.append(x)\n",
    "newLIST\n",
    "\n"
   ]
  },
  {
   "cell_type": "code",
   "execution_count": null,
   "id": "67c6c78c",
   "metadata": {},
   "outputs": [],
   "source": []
  },
  {
   "cell_type": "code",
   "execution_count": null,
   "id": "0bea11c4",
   "metadata": {},
   "outputs": [],
   "source": [
    "listOne = [0,1,2,3,4,5,6]\n",
    "x  if x<3     else   x   if x>5  else  "
   ]
  },
  {
   "cell_type": "code",
   "execution_count": 41,
   "id": "845b83be",
   "metadata": {},
   "outputs": [
    {
     "data": {
      "text/plain": [
       "[0, 1, 2, 6]"
      ]
     },
     "execution_count": 41,
     "metadata": {},
     "output_type": "execute_result"
    }
   ],
   "source": [
    "# Example: Filtering numbers less than 3 or greater 5 using list comprehension\n",
    "#[exp     for x in iterable\t   if cond1 \t       cond2 ...  ]\n",
    "\n",
    "listOne = [0,1,2,3,4,5,6]\n",
    "\n",
    "[x for x in listOne if x <3 or  x>5]\n",
    "\n"
   ]
  },
  {
   "cell_type": "code",
   "execution_count": 40,
   "id": "c7dbb172-8474-4f11-a908-e113381ca11e",
   "metadata": {},
   "outputs": [
    {
     "data": {
      "text/plain": [
       "[0, 1, 2, '', '', '', 6]"
      ]
     },
     "execution_count": 40,
     "metadata": {},
     "output_type": "execute_result"
    }
   ],
   "source": [
    "[x  if x<3   else  x  if x>5  else \"\" for x in listOne]\n"
   ]
  },
  {
   "cell_type": "code",
   "execution_count": null,
   "id": "1c80e51b",
   "metadata": {},
   "outputs": [],
   "source": [
    "[x*2   if x<=2     else  x/2 if x<=4       else x+2      for x in listOne]\n"
   ]
  },
  {
   "cell_type": "code",
   "execution_count": null,
   "id": "d4b40498",
   "metadata": {},
   "outputs": [],
   "source": []
  },
  {
   "cell_type": "code",
   "execution_count": null,
   "id": "f14afa26",
   "metadata": {},
   "outputs": [],
   "source": [
    "# Example: Filtering numbers less than 2 or greater 5\n",
    "numbers = [1, 2, 3, 4, 5, 6, 7]\n",
    "filtered_numbers = [x for x in numbers if x <= 3 or x > 5]\n",
    "print(filtered_numbers) \n"
   ]
  }
 ],
 "metadata": {
  "kernelspec": {
   "display_name": "Python 3 (ipykernel)",
   "language": "python",
   "name": "python3"
  },
  "language_info": {
   "codemirror_mode": {
    "name": "ipython",
    "version": 3
   },
   "file_extension": ".py",
   "mimetype": "text/x-python",
   "name": "python",
   "nbconvert_exporter": "python",
   "pygments_lexer": "ipython3",
   "version": "3.11.7"
  }
 },
 "nbformat": 4,
 "nbformat_minor": 5
}
