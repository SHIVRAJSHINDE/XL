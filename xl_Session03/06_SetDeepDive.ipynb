{
 "cells": [
  {
   "cell_type": "code",
   "execution_count": 10,
   "id": "41116307-b80f-4e8d-a282-ef9357d91bba",
   "metadata": {},
   "outputs": [
    {
     "data": {
      "text/plain": [
       "{'apple', 'banana', 'cherry', 'orange'}"
      ]
     },
     "execution_count": 10,
     "metadata": {},
     "output_type": "execute_result"
    }
   ],
   "source": [
    "thisset = {\"apple\", \"banana\", \"cherry\", \"orange\"}\n",
    "thisset = set((\"apple\", \"banana\", \"cherry\", \"orange\"))\n",
    "\n",
    "thisset\n",
    "thisset = {\"apple\",\"apple\", \"banana\", \"cherry\", \"orange\"}\n",
    "thisset\n"
   ]
  },
  {
   "cell_type": "code",
   "execution_count": 8,
   "id": "8e1d7dc4-e416-40ee-acf0-c1513c38f1d7",
   "metadata": {},
   "outputs": [
    {
     "name": "stdout",
     "output_type": "stream",
     "text": [
      "orange\n",
      "cherry\n",
      "apple\n",
      "banana\n"
     ]
    }
   ],
   "source": [
    "#To print all value:-\n",
    "for x in thisset:\n",
    "  print(x)\n"
   ]
  },
  {
   "cell_type": "code",
   "execution_count": 9,
   "id": "1c8cd102-d164-47d4-86c4-7e224e6725b3",
   "metadata": {},
   "outputs": [
    {
     "data": {
      "text/plain": [
       "4"
      ]
     },
     "execution_count": 9,
     "metadata": {},
     "output_type": "execute_result"
    }
   ],
   "source": [
    "len(thisset)\n"
   ]
  },
  {
   "cell_type": "code",
   "execution_count": 5,
   "id": "e53f9d9e-501f-40a5-a437-ce495401e613",
   "metadata": {},
   "outputs": [
    {
     "data": {
      "text/plain": [
       "True"
      ]
     },
     "execution_count": 5,
     "metadata": {},
     "output_type": "execute_result"
    }
   ],
   "source": [
    "\"banana\" in thisset"
   ]
  },
  {
   "cell_type": "code",
   "execution_count": 6,
   "id": "4e61a3be-d578-4610-aa7a-e12faebd5962",
   "metadata": {},
   "outputs": [
    {
     "data": {
      "text/plain": [
       "{'apple', 'banana', 'cherry', 'orange'}"
      ]
     },
     "execution_count": 6,
     "metadata": {},
     "output_type": "execute_result"
    }
   ],
   "source": [
    "thisset.add(\"orange\")\n",
    "thisset"
   ]
  },
  {
   "cell_type": "code",
   "execution_count": 12,
   "id": "12d8b1c7-c12b-4fde-bdef-8a5bfb59409d",
   "metadata": {},
   "outputs": [
    {
     "data": {
      "text/plain": [
       "{'apple', 'banana', 'cherry', 'orange'}"
      ]
     },
     "execution_count": 12,
     "metadata": {},
     "output_type": "execute_result"
    }
   ],
   "source": [
    "thisset"
   ]
  },
  {
   "cell_type": "code",
   "execution_count": 7,
   "id": "e06eda6a-f2e0-4cc7-9844-ec9f7b366c14",
   "metadata": {},
   "outputs": [
    {
     "data": {
      "text/plain": [
       "{'Angoor', 'Kaju', 'Litchies', 'apple', 'banana', 'cherry', 'orange'}"
      ]
     },
     "execution_count": 7,
     "metadata": {},
     "output_type": "execute_result"
    }
   ],
   "source": [
    "thisset.update([\"Litchies\", \"Kaju\", \"Angoor\"])\n",
    "thisset"
   ]
  },
  {
   "cell_type": "code",
   "execution_count": null,
   "id": "bbf5e87d-f70a-43ce-885b-16c4ecd80100",
   "metadata": {},
   "outputs": [],
   "source": [
    "# Remove"
   ]
  },
  {
   "cell_type": "code",
   "execution_count": 11,
   "id": "4763e455-9c9a-47ef-9c2c-afa7053481dd",
   "metadata": {},
   "outputs": [
    {
     "data": {
      "text/plain": [
       "{'apple', 'cherry', 'orange'}"
      ]
     },
     "execution_count": 11,
     "metadata": {},
     "output_type": "execute_result"
    }
   ],
   "source": [
    "thisset.remove(\"banana\")\n",
    "thisset\n"
   ]
  },
  {
   "cell_type": "code",
   "execution_count": 12,
   "id": "afd5ad4f-88bc-4c31-8139-17de22f7e521",
   "metadata": {},
   "outputs": [],
   "source": [
    "thisset.discard(\"cherry\")\n"
   ]
  },
  {
   "cell_type": "code",
   "execution_count": 13,
   "id": "f9494d3e-bf98-4605-8c92-16a6d03874b4",
   "metadata": {},
   "outputs": [
    {
     "data": {
      "text/plain": [
       "{'apple'}"
      ]
     },
     "execution_count": 13,
     "metadata": {},
     "output_type": "execute_result"
    }
   ],
   "source": [
    "thisset.pop()\n",
    "thisset"
   ]
  },
  {
   "cell_type": "code",
   "execution_count": null,
   "id": "2f0767a4-b5dc-4576-8210-ed05f9b65211",
   "metadata": {},
   "outputs": [],
   "source": [
    "# Empty or Delte"
   ]
  },
  {
   "cell_type": "code",
   "execution_count": 14,
   "id": "ba1b319d-5a84-4c6b-816a-f12c503ce178",
   "metadata": {},
   "outputs": [
    {
     "data": {
      "text/plain": [
       "set()"
      ]
     },
     "execution_count": 14,
     "metadata": {},
     "output_type": "execute_result"
    }
   ],
   "source": [
    "# To empty the set:\n",
    "thisset.clear()\n",
    "thisset\n"
   ]
  },
  {
   "cell_type": "code",
   "execution_count": 16,
   "id": "6fa3e021-8baf-4ad4-918f-c43bb7c05a52",
   "metadata": {},
   "outputs": [],
   "source": [
    "thisset = {\"apple\", \"banana\", \"cherry\", \"orange\"}\n"
   ]
  },
  {
   "cell_type": "code",
   "execution_count": 19,
   "id": "afa11b6c-c483-4427-9bab-4322724d4b97",
   "metadata": {},
   "outputs": [
    {
     "ename": "NameError",
     "evalue": "name 'thisset' is not defined",
     "output_type": "error",
     "traceback": [
      "\u001b[1;31m---------------------------------------------------------------------------\u001b[0m",
      "\u001b[1;31mNameError\u001b[0m                                 Traceback (most recent call last)",
      "Cell \u001b[1;32mIn[19], line 2\u001b[0m\n\u001b[0;32m      1\u001b[0m \u001b[38;5;66;03m# To delete the Data Completely\u001b[39;00m\n\u001b[1;32m----> 2\u001b[0m \u001b[38;5;28;01mdel\u001b[39;00m thisset\n",
      "\u001b[1;31mNameError\u001b[0m: name 'thisset' is not defined"
     ]
    }
   ],
   "source": [
    "# To delete the Data Completely\n",
    "del thisset\n"
   ]
  },
  {
   "cell_type": "code",
   "execution_count": null,
   "id": "37b7accc-4d28-4ab8-bc74-45b1fdb1f79a",
   "metadata": {},
   "outputs": [],
   "source": []
  },
  {
   "cell_type": "code",
   "execution_count": null,
   "id": "7c1c813e-bae9-4aa1-b9df-50db6b5a8af7",
   "metadata": {},
   "outputs": [],
   "source": []
  },
  {
   "cell_type": "code",
   "execution_count": null,
   "id": "9d4707f2-7b89-4b49-87c9-8190efdcac74",
   "metadata": {},
   "outputs": [],
   "source": []
  },
  {
   "cell_type": "code",
   "execution_count": null,
   "id": "ce78d6e5-22e2-4e95-8bc9-ddaeea17c062",
   "metadata": {},
   "outputs": [],
   "source": [
    "# Copy\n",
    "x = fruits.copy()\n",
    "print(x)\n"
   ]
  },
  {
   "cell_type": "code",
   "execution_count": 16,
   "id": "30fa1d77-887f-4e35-abdb-a2125e9c4bd0",
   "metadata": {},
   "outputs": [
    {
     "data": {
      "text/plain": [
       "{0.5, 1, 'cherry', 'orange'}"
      ]
     },
     "execution_count": 16,
     "metadata": {},
     "output_type": "execute_result"
    }
   ],
   "source": []
  },
  {
   "cell_type": "code",
   "execution_count": 20,
   "id": "4554fec0-6f1d-4e53-a3dc-dc6ae163364c",
   "metadata": {},
   "outputs": [
    {
     "data": {
      "text/plain": [
       "('apple', 'apple', 'banana', 'cherry', 'orange')"
      ]
     },
     "execution_count": 20,
     "metadata": {},
     "output_type": "execute_result"
    }
   ],
   "source": []
  }
 ],
 "metadata": {
  "kernelspec": {
   "display_name": "Python 3 (ipykernel)",
   "language": "python",
   "name": "python3"
  },
  "language_info": {
   "codemirror_mode": {
    "name": "ipython",
    "version": 3
   },
   "file_extension": ".py",
   "mimetype": "text/x-python",
   "name": "python",
   "nbconvert_exporter": "python",
   "pygments_lexer": "ipython3",
   "version": "3.11.7"
  }
 },
 "nbformat": 4,
 "nbformat_minor": 5
}
