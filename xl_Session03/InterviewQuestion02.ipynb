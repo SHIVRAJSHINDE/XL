{
 "cells": [
  {
   "cell_type": "code",
   "execution_count": 8,
   "id": "edc0970c-d1a3-483c-bd82-aa44e7051ea3",
   "metadata": {},
   "outputs": [
    {
     "data": {
      "text/plain": [
       "'sentence given a in words of order the reverse to function a Implement '"
      ]
     },
     "execution_count": 8,
     "metadata": {},
     "output_type": "execute_result"
    }
   ],
   "source": [
    "'''1)Write a Python program to reverse a string without using any built-in string reversal functions.'''\n",
    "'''17)20. Implement a function to reverse the order of words in a given sentence.'''\n",
    "\n",
    "abc = \"Implement a function to reverse the order of words in a given sentence\"\n",
    "abc = abc.split()\n",
    "newStr = \"\"\n",
    "for i in abc:\n",
    "    newStr = i + \" \" + newStr\n",
    "\n",
    "newStr\n"
   ]
  },
  {
   "cell_type": "code",
   "execution_count": 4,
   "id": "b71ec1af-9ed3-41b4-9a70-0c7bf301bb5a",
   "metadata": {},
   "outputs": [
    {
     "data": {
      "text/plain": [
       "[[4, 8], [4, 2, 28], [3, 6, 2]]"
      ]
     },
     "execution_count": 4,
     "metadata": {},
     "output_type": "execute_result"
    }
   ],
   "source": [
    "l1 =[['4','8'],['4','2','28'],['3','6','2']]\n",
    "# convert above in to below using list comprehension \n",
    "\n",
    "\n",
    "[[int(i) for i in x] for x in l1]\n",
    "\n",
    "# output [[4,8],[4,2,28],[3,6,2]]\n"
   ]
  },
  {
   "cell_type": "code",
   "execution_count": null,
   "id": "d590f271-4102-4be2-a6dc-3b976361dae4",
   "metadata": {},
   "outputs": [],
   "source": [
    "{[]{()}} - Balanced\n",
    " \n",
    "((() - Unbalanced\n"
   ]
  },
  {
   "cell_type": "code",
   "execution_count": 22,
   "id": "b80d47a0-6530-4cf8-868f-0e13c9a9e570",
   "metadata": {},
   "outputs": [
    {
     "name": "stdout",
     "output_type": "stream",
     "text": [
      "13\n",
      "11\n",
      "9\n",
      "7\n",
      "5\n",
      "3\n",
      "1\n"
     ]
    },
    {
     "data": {
      "text/plain": [
       "'sentence a words order reverse function Implement'"
      ]
     },
     "execution_count": 22,
     "metadata": {},
     "output_type": "execute_result"
    }
   ],
   "source": [
    "newList = []\n",
    "lenOfabc = len(abc)\n",
    "\n",
    "i=0\n",
    "while lenOfabc >=i :\n",
    "    print(lenOfabc)\n",
    "    lenOfabc = lenOfabc-1\n",
    "    newList.append(abc[lenOfabc])\n",
    "    lenOfabc = lenOfabc-1\n",
    "\n",
    "newList = \" \".join(newList)\n",
    "newList\n"
   ]
  },
  {
   "cell_type": "code",
   "execution_count": 33,
   "id": "7bdb467a-6c0c-4d00-aaaa-4aa15fa5968b",
   "metadata": {},
   "outputs": [
    {
     "data": {
      "text/plain": [
       "'sentence given a in words of order the reverse to function a Implement'"
      ]
     },
     "execution_count": 33,
     "metadata": {},
     "output_type": "execute_result"
    }
   ],
   "source": [
    "abc = \"Implement a function to reverse the order of words in a given sentence\"\n",
    "abc = abc.split(\" \")\n",
    "\n",
    "abc = list(reversed(abc))\n",
    "\" \".join(abc)\n"
   ]
  },
  {
   "cell_type": "code",
   "execution_count": 41,
   "id": "02197860-607a-4dec-b7ae-ca529abf6264",
   "metadata": {},
   "outputs": [
    {
     "name": "stdout",
     "output_type": "stream",
     "text": [
      "yes Palindrome Word\n"
     ]
    }
   ],
   "source": [
    "'''2)Implement a function to check if a given string is a palindrome.'''\n",
    "# reverse and the Orignal Words are same\n",
    "word = \"madam\"\n",
    "reversedWord = \"\".join(list(reversed(word)))\n",
    "\n",
    "if word == reversedWord:\n",
    "    print(\"yes Palindrome Word\")\n",
    "    "
   ]
  },
  {
   "cell_type": "code",
   "execution_count": 9,
   "id": "e50fd336-ed24-403f-b2a5-8bb9b885e3a5",
   "metadata": {},
   "outputs": [
    {
     "data": {
      "text/plain": [
       "-1"
      ]
     },
     "execution_count": 9,
     "metadata": {},
     "output_type": "execute_result"
    }
   ],
   "source": [
    "'''3)Write a program to find the largest element in a given list.'''\n",
    "# Option One using loop\n",
    "list1 = [1000, 39, 101, 20, 40000]\n",
    "eleOne = list1[0]\n",
    "\n",
    "for i in list1:\n",
    "    if i > eleOne:\n",
    "        eleOne=i\n",
    "\n",
    "eleOne\n"
   ]
  },
  {
   "cell_type": "code",
   "execution_count": 10,
   "id": "3f61b8b6-5ec8-426f-9be2-df197ffd840a",
   "metadata": {},
   "outputs": [
    {
     "data": {
      "text/plain": [
       "40000"
      ]
     },
     "execution_count": 10,
     "metadata": {},
     "output_type": "execute_result"
    }
   ],
   "source": [
    "# Option Two using function\n",
    "max(list1)\n"
   ]
  },
  {
   "cell_type": "code",
   "execution_count": null,
   "id": "66f96f6b-bebf-4bfe-9ddb-c039b5d8a00e",
   "metadata": {},
   "outputs": [],
   "source": []
  },
  {
   "cell_type": "code",
   "execution_count": null,
   "id": "3e5c26e6-b29c-4fb3-817c-80c3960c024b",
   "metadata": {},
   "outputs": [],
   "source": []
  },
  {
   "cell_type": "code",
   "execution_count": 12,
   "id": "7ccd56c8-a1ec-476e-ad60-fb81f158516d",
   "metadata": {},
   "outputs": [
    {
     "data": {
      "text/plain": [
       "20"
      ]
     },
     "execution_count": 12,
     "metadata": {},
     "output_type": "execute_result"
    }
   ],
   "source": [
    "'''4)Write a program to find the smallest element in a given list.'''\n",
    "list1 = [1000, 39, 101, 20, 400000]\n",
    "smallElement = list1[0]\n",
    "\n",
    "for i in list1:\n",
    "    if i < smallElement:\n",
    "        smallElement = i\n",
    "\n",
    "smallElement\n"
   ]
  },
  {
   "cell_type": "code",
   "execution_count": 11,
   "id": "a9cca0b8-81a2-47db-ac1d-5e5dc2fbce9a",
   "metadata": {},
   "outputs": [
    {
     "data": {
      "text/plain": [
       "-1"
      ]
     },
     "execution_count": 11,
     "metadata": {},
     "output_type": "execute_result"
    }
   ],
   "source": [
    "min(list1)"
   ]
  },
  {
   "cell_type": "code",
   "execution_count": 14,
   "id": "0b3b04a0-7867-4907-b4fc-9213f27e031d",
   "metadata": {},
   "outputs": [
    {
     "data": {
      "text/plain": [
       "102"
      ]
     },
     "execution_count": 14,
     "metadata": {},
     "output_type": "execute_result"
    }
   ],
   "source": [
    "'''5)Write a Python program to find the second largest number in a list.'''\n",
    "\n",
    "list1 = [105, 39, 101, 20, 102]\n",
    "maxEle = max(list1)\n",
    "secondLarge= min(list1)\n",
    "\n",
    "for i in list1:\n",
    "    if i < maxEle and i > secondLarge:\n",
    "        secondLarge = i\n",
    "\n",
    "secondLarge\n"
   ]
  },
  {
   "cell_type": "code",
   "execution_count": 15,
   "id": "9e6df731-22ad-449f-b652-508fbf727202",
   "metadata": {},
   "outputs": [
    {
     "data": {
      "text/plain": [
       "102"
      ]
     },
     "execution_count": 15,
     "metadata": {},
     "output_type": "execute_result"
    }
   ],
   "source": [
    "list1 = [105, 39, 101, 20, 102]\n",
    "maxEle = max(list1)\n",
    "secondLarge= 0\n",
    "\n",
    "for i in list1:\n",
    "    if i < maxEle and i > secondLarge:\n",
    "        secondLarge = i\n",
    "\n",
    "secondLarge\n"
   ]
  },
  {
   "cell_type": "code",
   "execution_count": 66,
   "id": "1ef98a3d-fb94-4721-a123-5a05a0702a5b",
   "metadata": {},
   "outputs": [
    {
     "data": {
      "text/plain": [
       "{'Implement', 'a', 'count', 'function', 'the', 'to'}"
      ]
     },
     "execution_count": 66,
     "metadata": {},
     "output_type": "execute_result"
    }
   ],
   "source": [
    "'''6)Implement a function to remove duplicate elements from a list.'''\n",
    "'''option 01 Using Set'''\n",
    "abc = ['Implement','Implement', 'a', 'function', 'to', 'count', 'the', 'to', 'count', 'the']\n",
    "set(abc)\n"
   ]
  },
  {
   "cell_type": "code",
   "execution_count": 17,
   "id": "3f84b232-2aeb-4a24-9878-5e024195686b",
   "metadata": {},
   "outputs": [
    {
     "data": {
      "text/plain": [
       "['Implement', 'a', 'function', 'to', 'count', 'the']"
      ]
     },
     "execution_count": 17,
     "metadata": {},
     "output_type": "execute_result"
    }
   ],
   "source": [
    "# Option 02 using Loop\n",
    "\n",
    "abc = ['Implement','Implement', 'a', 'function', 'to', 'count', 'the', 'to', 'count', 'the']\n",
    "uniqueList = []\n",
    "\n",
    "for i in abc:\n",
    "    if i not in uniqueList:\n",
    "        uniqueList.append(i)\n",
    "\n",
    "uniqueList\n"
   ]
  },
  {
   "cell_type": "code",
   "execution_count": 23,
   "id": "ff41cef5-15d4-4b76-a629-e5e709238077",
   "metadata": {},
   "outputs": [
    {
     "data": {
      "text/plain": [
       "[{'Implement', 'a', 'count', 'function', 'the', 'to'}]"
      ]
     },
     "execution_count": 23,
     "metadata": {},
     "output_type": "execute_result"
    }
   ],
   "source": [
    "# Home work List comprehension\n",
    "\n",
    "[set(x for x in abc)]\n"
   ]
  },
  {
   "cell_type": "code",
   "execution_count": 25,
   "id": "834aac16-c285-4fc8-9732-ed1f697a19f7",
   "metadata": {},
   "outputs": [
    {
     "data": {
      "text/plain": [
       "dict_keys(['Implement', 'a', 'function', 'to', 'count', 'the'])"
      ]
     },
     "execution_count": 25,
     "metadata": {},
     "output_type": "execute_result"
    }
   ],
   "source": [
    "'''Option 03 using Dictionary'''\n",
    "abc = ['Implement','Implement', 'a', 'function', 'to', 'count', 'the', 'to', 'count','count', 'the']\n",
    "newDict={}\n",
    "\n",
    "for i in abc:\n",
    "    if i not in newDict:\n",
    "        newDict[i] = 1\n",
    "    else:\n",
    "        newDict[i] = newDict[i] + 1\n",
    "\n",
    "newDict\n",
    "\n",
    "newDict.keys()\n"
   ]
  },
  {
   "cell_type": "code",
   "execution_count": 76,
   "id": "40485154-7de8-4117-b6fe-f6949c18ef94",
   "metadata": {},
   "outputs": [
    {
     "data": {
      "text/plain": [
       "3"
      ]
     },
     "execution_count": 76,
     "metadata": {},
     "output_type": "execute_result"
    }
   ],
   "source": [
    "max(newDict.values())\n"
   ]
  },
  {
   "cell_type": "code",
   "execution_count": 79,
   "id": "119f47f0-ea36-44dc-abe5-7e8e779a23ce",
   "metadata": {},
   "outputs": [
    {
     "name": "stdout",
     "output_type": "stream",
     "text": [
      "1\n",
      "2\n",
      "6\n",
      "24\n",
      "120\n",
      "720\n",
      "5040\n",
      "40320\n",
      "362880\n",
      "3628800\n"
     ]
    },
    {
     "data": {
      "text/plain": [
       "3628800"
      ]
     },
     "execution_count": 79,
     "metadata": {},
     "output_type": "execute_result"
    }
   ],
   "source": [
    "'''7)Write a program to calculate the factorial of a given number.'''\n",
    "num = 10\n",
    "factNum = 1\n",
    "for i in range(1,num+1):\n",
    "    factNum = i *factNum\n",
    "    print(factNum)\n",
    "\n",
    "factNum\n"
   ]
  },
  {
   "cell_type": "code",
   "execution_count": 85,
   "id": "428c08a0-80a2-4da6-8540-f4585d691ec6",
   "metadata": {},
   "outputs": [
    {
     "name": "stdout",
     "output_type": "stream",
     "text": [
      "Not a prime Number\n"
     ]
    }
   ],
   "source": [
    "'''8)Implement a function to check if a given number is prime.'''\n",
    "# A prime number is divisible only by 1 and the number itself.\n",
    "\n",
    "num = 8\n",
    "count = 0\n",
    "for i in range(1,num+1):\n",
    "    if num%i==0:\n",
    "        count = count + 1\n",
    "        if count >2:\n",
    "            print('Not a prime Number')\n",
    "            break\n",
    "else:\n",
    "    print(\"Its a prime Number\")\n",
    "\n"
   ]
  },
  {
   "cell_type": "code",
   "execution_count": null,
   "id": "2a8d4dea-2987-4927-a490-3c82dbf6a6c3",
   "metadata": {},
   "outputs": [],
   "source": [
    "'''9)Write a Python program to sort a list of integers in ascending order.'''\n",
    "# differen metnods\n"
   ]
  },
  {
   "cell_type": "code",
   "execution_count": 27,
   "id": "5bd5efe7-3507-4dea-ae43-9059ba25ef2e",
   "metadata": {},
   "outputs": [
    {
     "data": {
      "text/plain": [
       "310"
      ]
     },
     "execution_count": 27,
     "metadata": {},
     "output_type": "execute_result"
    }
   ],
   "source": [
    "'''10)Implement a function to find the sum of all numbers in a list.'''\n",
    "\n",
    "'Option One'\n",
    "abc = [51,10,39,100,20,50,40]\n",
    "newSum = 0\n",
    "\n",
    "for i in abc:\n",
    "    newSum = i +newSum\n",
    "\n",
    "newSum\n"
   ]
  },
  {
   "cell_type": "code",
   "execution_count": null,
   "id": "b1100880-0db5-4652-8ada-72c832b9619a",
   "metadata": {},
   "outputs": [],
   "source": [
    "sum(abc)\n"
   ]
  },
  {
   "cell_type": "code",
   "execution_count": 28,
   "id": "02572c44-c700-4df7-adcc-321a57cf6757",
   "metadata": {},
   "outputs": [
    {
     "name": "stdout",
     "output_type": "stream",
     "text": [
      "4\n",
      "8\n"
     ]
    }
   ],
   "source": [
    "'''11)Write a program to find the common elements between two lists.'''\n",
    "'''17. Write a Python program to find the intersection(commong element from two list) of two lists.'''\n",
    "\n",
    "list1 = [1,2,4,8]\n",
    "list2 = [4,8,5,10]\n",
    "\n",
    "for i in list1:\n",
    "    for x in list2:\n",
    "        if i==x:\n",
    "            print(i)\n",
    "            "
   ]
  },
  {
   "cell_type": "code",
   "execution_count": null,
   "id": "3cc2f846-c916-4936-9cc8-663dc673c243",
   "metadata": {},
   "outputs": [],
   "source": [
    "# Homework using List comprehension\n"
   ]
  },
  {
   "cell_type": "code",
   "execution_count": 34,
   "id": "29ae605b-2ef9-4904-be71-9f822d224a1b",
   "metadata": {},
   "outputs": [
    {
     "name": "stdout",
     "output_type": "stream",
     "text": [
      "Yes Anagram\n"
     ]
    }
   ],
   "source": [
    "'''12)Implement a function to check if a given string is an anagram of another string.'''\n",
    "# Option One\n",
    "strOne = \"listen\"\n",
    "strTwo = 'silent'\n",
    "\n",
    "if len(strOne) != len(strTwo):\n",
    "    print(\"Not Anagram\")\n",
    "    \n",
    "elif sorted(strOne) == sorted(strTwo):\n",
    "    print(\"Yes Anagram\")\n",
    "    "
   ]
  },
  {
   "cell_type": "code",
   "execution_count": 33,
   "id": "37f3f6f3-cbd9-4a46-8050-bc84abefad9d",
   "metadata": {},
   "outputs": [
    {
     "data": {
      "text/plain": [
       "True"
      ]
     },
     "execution_count": 33,
     "metadata": {},
     "output_type": "execute_result"
    }
   ],
   "source": [
    "sorted(strTwo)==sorted(strOne)\n"
   ]
  },
  {
   "cell_type": "code",
   "execution_count": 32,
   "id": "7ba39477-a66d-47d7-914f-623bee90534a",
   "metadata": {},
   "outputs": [
    {
     "data": {
      "text/plain": [
       "['e', 'i', 'l', 'n', 's', 't']"
      ]
     },
     "execution_count": 32,
     "metadata": {},
     "output_type": "execute_result"
    }
   ],
   "source": [
    "sorted(strOne)\n"
   ]
  },
  {
   "cell_type": "code",
   "execution_count": 99,
   "id": "14534f54-3976-4980-b982-beaf2cc51f29",
   "metadata": {},
   "outputs": [
    {
     "name": "stdout",
     "output_type": "stream",
     "text": [
      "1\n",
      "2\n",
      "3\n",
      "5\n",
      "8\n",
      "13\n",
      "21\n",
      "34\n",
      "55\n"
     ]
    }
   ],
   "source": [
    "'''13)Implement a function to calculate the Fibonacci sequence up to a given number of terms.'''\n",
    "num = 10 \n",
    "numOne = 0\n",
    "numTwo = 1\n",
    "numThree = 0\n",
    "for i in range(1,num):\n",
    "    numThree = numOne + numTwo\n",
    "    numOne = numTwo\n",
    "    numTwo = numThree\n",
    "    print(numThree)    \n",
    "    \n",
    "\n",
    "    "
   ]
  },
  {
   "cell_type": "code",
   "execution_count": 44,
   "id": "411d7e6f-22a9-4ef4-b853-f691dedcfd5a",
   "metadata": {},
   "outputs": [
    {
     "data": {
      "text/plain": [
       "'Wr_t_ _ pr_gr_m t_ r_m_v_ _ll v_w_ls fr_m _ g_v_n str_ng'"
      ]
     },
     "execution_count": 44,
     "metadata": {},
     "output_type": "execute_result"
    }
   ],
   "source": [
    "'''16)19. Write a program to remove all vowels from a given string.'''\n",
    "\n",
    "vovels = 'aeiouAEIOU'\n",
    "oneString = \"Write a program to remove all vowels from a given string\"\n",
    "\n",
    "for i in oneString:\n",
    "    if i in vovels:\n",
    "        oneString = oneString.replace(i,\"_\")\n",
    "\n",
    "oneString\n"
   ]
  },
  {
   "cell_type": "code",
   "execution_count": null,
   "id": "1e0a4e37-0e35-4260-909a-2b6dca26acd2",
   "metadata": {},
   "outputs": [],
   "source": [
    "'''21)24. Implement a function to check if a given number is a power of two.'''\n",
    "# \n",
    "numOne = 8\n",
    "numTwo = numOne\n",
    "\n",
    "while numTwo>1 and numTwo%2==0:\n",
    "    numTwo=numTwo//2\n",
    "    print(numTwo)\n",
    "\n",
    "if numTwo==1:\n",
    "    print(numOne,\"is a power of 2\")\n",
    "else:\n",
    "    print(numOne,\"is Not power of 2\")\n",
    "\n"
   ]
  },
  {
   "cell_type": "code",
   "execution_count": null,
   "id": "9ea1239e-23c3-402a-af21-529938b5ca49",
   "metadata": {},
   "outputs": [],
   "source": [
    "'''28)35. Write a program to check if a given number is a perfect square.'''\n",
    "\n",
    "num=10\n",
    "\n",
    "for i in range(num):\n",
    "    if i * i ==num:\n",
    "        print(num,\" : is a perfect Square\")\n",
    "        break\n",
    "    \n",
    "else:\n",
    "    print(num,\" : is Not a perfect Square\")\n"
   ]
  },
  {
   "cell_type": "code",
   "execution_count": 50,
   "id": "f7ae93b5-5380-47ca-81b2-baaec381b37f",
   "metadata": {},
   "outputs": [
    {
     "name": "stdout",
     "output_type": "stream",
     "text": [
      "10\n"
     ]
    }
   ],
   "source": [
    "'''23)27. Write a program to find the greatest common divisor (GCD) of two numbers.'''\n",
    "\n",
    "num1 = 20\n",
    "num2 = 10\n",
    "\n",
    "newValue = 0\n",
    "GDC = 0\n",
    "\n",
    "if num1<num2:\n",
    "    newValue=num1\n",
    "else:\n",
    "    newValue=num2\n",
    "\n",
    "\n",
    "for i in range(newValue,1,-1):\n",
    "    if num1 % i ==0 and num2 % i==0:\n",
    "        GDC = i\n",
    "        break\n",
    "\n",
    "print(GDC)\n"
   ]
  },
  {
   "cell_type": "code",
   "execution_count": null,
   "id": "569b1a2f-97dc-417a-ad28-088bafb4f787",
   "metadata": {},
   "outputs": [],
   "source": [
    "'''24)28. Implement a function to calculate the square root of a given number.'''\n",
    "'''Option 01'''\n",
    "\n",
    "\n",
    "import math as m\n",
    "num =16\n",
    "m.sqrt(num)\n",
    "\n"
   ]
  },
  {
   "cell_type": "code",
   "execution_count": null,
   "id": "154f747f-5fb0-4d95-b2e4-16013f8d9d3d",
   "metadata": {},
   "outputs": [],
   "source": [
    "'''Option 02'''\n",
    "num1 =16\n",
    "\n",
    "num1**0.5\n"
   ]
  },
  {
   "cell_type": "code",
   "execution_count": 116,
   "id": "91b162b7-4c8c-4de4-914b-9047c6fc8130",
   "metadata": {},
   "outputs": [
    {
     "data": {
      "text/plain": [
       "10"
      ]
     },
     "execution_count": 116,
     "metadata": {},
     "output_type": "execute_result"
    }
   ],
   "source": [
    "'''25)\t31. Write a program to find the sum of all even numbers in a list.'''\n",
    "# Option One\n",
    "\n",
    "l1 = [2,1,2,4,2]\n",
    "newSum = 0\n",
    "\n",
    "for i in l1:\n",
    "    if i%2==0:\n",
    "        newSum = newSum + i \n",
    "\n",
    "newSum\n",
    "\n"
   ]
  },
  {
   "cell_type": "code",
   "execution_count": 51,
   "id": "2ecce99c-3e04-4cdc-b04b-0aefcf8c92c2",
   "metadata": {},
   "outputs": [
    {
     "data": {
      "text/plain": [
       "[2, 2, 4, 2]"
      ]
     },
     "execution_count": 51,
     "metadata": {},
     "output_type": "execute_result"
    }
   ],
   "source": [
    "# HomeWOrk\n",
    "l1 = [2,1,2,4,2]\n",
    "\n",
    "\n"
   ]
  },
  {
   "cell_type": "code",
   "execution_count": null,
   "id": "9665c533-ddf4-4c46-aaea-41b31adde290",
   "metadata": {},
   "outputs": [],
   "source": [
    "# Option Two\n",
    "\n",
    "from functools import reduce\n",
    "\n",
    "# Define a function that takes two arguments: accumulator and current item\n",
    "def process_numbers(acc, x):\n",
    "    if x % 2 == 0:\n",
    "        x = x + x  # Double the number if it's even\n",
    "    return acc + x  # Add the processed number to the accumulator\n",
    "\n",
    "l1 = [2, 1, 2, 4, 2]\n",
    "\n",
    "\n",
    "result = reduce(process_numbers, l1, 0)  \n",
    "print(result)  \n",
    "\n"
   ]
  },
  {
   "cell_type": "code",
   "execution_count": null,
   "id": "3e14599e-b3ca-4d35-a40b-fa60d1bcc860",
   "metadata": {},
   "outputs": [],
   "source": [
    "\n",
    "'''29)36. Implement a function to calculate the product of all elements in a list.'''\n",
    "# Option One\n",
    "list1 = [1, 2, 3, 14, 6, 8, 10]\n",
    "newSum = 1\n",
    "\n",
    "for i in list1:\n",
    "    newSum = i * newSum\n",
    "\n",
    "print(newSum)\n"
   ]
  },
  {
   "cell_type": "code",
   "execution_count": null,
   "id": "d400b432-357d-43bf-b5f7-9f6891be3c91",
   "metadata": {},
   "outputs": [],
   "source": [
    "# Option Two\n",
    "from functools import reduce\n",
    "def prodOfElement(x,y):\n",
    "    return x * y\n",
    "    \n",
    "list1 = [1, 2, 3, 14, 6, 8, 10]\n",
    "\n",
    "reduce(prodOfElement,list1)\n"
   ]
  },
  {
   "cell_type": "code",
   "execution_count": 1,
   "id": "9827e208-a4f1-492a-a574-314d57c33175",
   "metadata": {},
   "outputs": [
    {
     "name": "stdout",
     "output_type": "stream",
     "text": [
      "7\n",
      "10.0\n"
     ]
    },
    {
     "data": {
      "text/plain": [
       "3.0"
      ]
     },
     "execution_count": 1,
     "metadata": {},
     "output_type": "execute_result"
    }
   ],
   "source": [
    "'''31)38. Implement a function to find the missing number in a given list of consecutive numbers.'''\n",
    "\n",
    "l = [1,2,4]\n",
    "\n",
    "CurrentSum = sum(l)\n",
    "lenOfL = len(l)+1\n",
    "SumShouldBeWithMissingElement = lenOfL*(lenOfL+1)/2\n",
    "\n",
    "print(CurrentSum)\n",
    "print(SumShouldBeWithMissingElement)\n",
    "missingIterm = SumShouldBeWithMissingElement - CurrentSum\n",
    "missingIterm\n"
   ]
  },
  {
   "cell_type": "code",
   "execution_count": 57,
   "id": "58c6fb1f-94ec-426f-a30b-ac87f079b368",
   "metadata": {},
   "outputs": [
    {
     "data": {
      "text/plain": [
       "15"
      ]
     },
     "execution_count": 57,
     "metadata": {},
     "output_type": "execute_result"
    }
   ],
   "source": [
    "'''32)39. Write a program to find the sum of the digits of a given number.'''\n",
    "# Option One\n",
    "num = 456\n",
    "newStr = str(num)\n",
    "newSum = 0\n",
    "for i in newStr:\n",
    "    newSum = newSum + int(i)\n",
    "    \n",
    "newSum\n"
   ]
  },
  {
   "cell_type": "code",
   "execution_count": 58,
   "id": "f0c6b278-4d5d-4c3b-83d6-3a99369ed5a7",
   "metadata": {},
   "outputs": [
    {
     "name": "stdout",
     "output_type": "stream",
     "text": [
      "6\n",
      "45\n",
      "11\n",
      "4\n",
      "15\n",
      "0\n"
     ]
    },
    {
     "data": {
      "text/plain": [
       "15"
      ]
     },
     "execution_count": 58,
     "metadata": {},
     "output_type": "execute_result"
    }
   ],
   "source": [
    "# Option Two\n",
    "num = 456\n",
    "newNum = str(num)\n",
    "newSum = 0\n",
    "\n",
    "for i in newNum:\n",
    "    newSum = (num%10) + newSum \n",
    "    print(newSum)\n",
    "    num = num//10\n",
    "    print(num)\n",
    "newSum\n"
   ]
  },
  {
   "cell_type": "code",
   "execution_count": 13,
   "id": "2997e219-9083-4202-bd40-5766c780046a",
   "metadata": {},
   "outputs": [
    {
     "data": {
      "text/plain": [
       "2"
      ]
     },
     "execution_count": 13,
     "metadata": {},
     "output_type": "execute_result"
    }
   ],
   "source": [
    "'''33)43. Write a program to find the number of occurrences of a given element in a list.'''\n",
    "'''Optiona 01'''\n",
    "l1 = [1,2,3,4,5,6,7,8,9,10,11,1]\n",
    "l1.count(1)\n"
   ]
  },
  {
   "cell_type": "code",
   "execution_count": 16,
   "id": "4126b280-00d3-42e8-a14b-b93bda27ac50",
   "metadata": {},
   "outputs": [
    {
     "data": {
      "text/plain": [
       "1"
      ]
     },
     "execution_count": 16,
     "metadata": {},
     "output_type": "execute_result"
    }
   ],
   "source": [
    "value = 10\n",
    "count = 0 \n",
    "\n",
    "for i in l1:\n",
    "    if i ==value:\n",
    "        count = count +1\n",
    "\n",
    "count\n"
   ]
  },
  {
   "cell_type": "code",
   "execution_count": 23,
   "id": "e049d9a9-d073-41b5-825c-f9a49eb85403",
   "metadata": {},
   "outputs": [
    {
     "name": "stdout",
     "output_type": "stream",
     "text": [
      "yes It is Perfect Number \n"
     ]
    }
   ],
   "source": [
    "'''34)44. Implement a function to check if a given number is a perfect number.'''\n",
    "# Sum of factors is equal to the number.\n",
    "\n",
    "num = 6\n",
    "sum1 = 0\n",
    "\n",
    "for i in range(1,6):\n",
    "    if num%i==0:\n",
    "        sum1 = sum1 + i\n",
    "        if sum1==num:\n",
    "            print(\"yes It is Perfect Number \")\n",
    "            break\n",
    "else:\n",
    "    print(\"Not a Perfect NuMBER\")\n",
    "\n",
    "\n"
   ]
  },
  {
   "cell_type": "code",
   "execution_count": 60,
   "id": "a6b2fb83-31a6-4fdf-83a4-4fe76c71b973",
   "metadata": {},
   "outputs": [
    {
     "data": {
      "text/plain": [
       "'abcd'"
      ]
     },
     "execution_count": 60,
     "metadata": {},
     "output_type": "execute_result"
    }
   ],
   "source": [
    "'''35)45. Write a Python program to remove all duplicates from a string.'''\n",
    "# Option One using string and Loop\n",
    "\n",
    "s = \"aabbccdd\"\n",
    "newStr = \"\"\n",
    "\n",
    "for i in s:\n",
    "    if i not in newStr:\n",
    "        newStr = newStr + i\n",
    "\n",
    "newStr\n"
   ]
  },
  {
   "cell_type": "code",
   "execution_count": null,
   "id": "07b64f66-2f01-4e5b-b7bc-82397a3e7982",
   "metadata": {},
   "outputs": [],
   "source": [
    "# Option Three using List\n",
    "s = \"aabbccdd\"\n",
    "newList = []\n",
    "for i in s:\n",
    "    if i not in newList:\n",
    "        newList.append(i)\n",
    "        \n",
    "\"\".join(newList)\n"
   ]
  },
  {
   "cell_type": "code",
   "execution_count": null,
   "id": "960d483c-f976-456e-aecf-aa10fb374d96",
   "metadata": {},
   "outputs": [],
   "source": [
    "# Option Two using List\n",
    "s = \"aabbccdd\"\n",
    "newList = []\n",
    "for i in s:\n",
    "    if i not in newList:\n",
    "        newList.append(i)\n",
    "        \n",
    "\"\".join(newList)\n"
   ]
  },
  {
   "cell_type": "code",
   "execution_count": 81,
   "id": "aea6274a-282f-4a48-81c1-5d2b8516a41d",
   "metadata": {},
   "outputs": [
    {
     "name": "stdout",
     "output_type": "stream",
     "text": [
      "ddddd\n"
     ]
    }
   ],
   "source": [
    "# Find Logest subString \n",
    "# Find Logest String \n",
    "input_string = \"rr9adfff45ddddddddddd\"\n",
    "strOne = \"\"\n",
    "strTow = \"\"\n",
    "\n",
    "for i in input_string:\n",
    "    if i.isalpha():\n",
    "        strOne = strOne+i\n",
    "        \n",
    "    if len(strOne)>len(strTow):\n",
    "        strTow = strOne\n",
    "        strOne = \"\"\n",
    "\n",
    "if len(strOne)>len(strTow):\n",
    "    strTow=strOne\n",
    "    \n",
    "\n",
    "print(strTow)\n"
   ]
  },
  {
   "cell_type": "code",
   "execution_count": null,
   "id": "3f341a47-ac91-4227-84b8-c1ccd5de6065",
   "metadata": {},
   "outputs": [],
   "source": [
    "for i in input_string:\n",
    "    if i.isalpha()==True:\n",
    "        strOne= strOne + i\n",
    "    else:\n",
    "        if len(strOne) > len(strTow) :\n",
    "            strTow = strOne\n",
    "            strOne = \"\"\n",
    "if len(strOne) > len(strTow) :\n",
    "    strTow = strOne\n",
    "    strOne = \"\"\n",
    "\n",
    "\n",
    "strTow\n"
   ]
  },
  {
   "cell_type": "code",
   "execution_count": 94,
   "id": "6165ea95-48a4-4720-a98d-6adc1bcfe279",
   "metadata": {},
   "outputs": [
    {
     "name": "stdout",
     "output_type": "stream",
     "text": [
      "{'Write': 2, 'a': 1, 'program': 1, 'that': 1, 'takes': 3, 'this': 1}\n"
     ]
    },
    {
     "data": {
      "text/plain": [
       "5"
      ]
     },
     "execution_count": 94,
     "metadata": {},
     "output_type": "execute_result"
    }
   ],
   "source": [
    "''' Write a program that takes a string as input, and counts the frequency of each word in the string, there might\n",
    "be repeated characters in the string. Your task is to find the highest frequency and returns the length of the\n",
    "highest-frequency word. '''\n",
    "abc = \"Write Write a program that takes takes takes this\"\n",
    "newList = abc.split()\n",
    "newDict = {}\n",
    "\n",
    "for i in newList:\n",
    "    if i not in newDict:\n",
    "        newDict[i] = 1\n",
    "    elif i in newDict:\n",
    "        newDict[i] = 1 + newDict[i]\n",
    "\n",
    "print(newDict)\n",
    "\n",
    "\n",
    "max(newDict.values())\n",
    "\n"
   ]
  },
  {
   "cell_type": "code",
   "execution_count": 86,
   "id": "5cdc67a5-7564-4e17-8232-7187d6d6e149",
   "metadata": {},
   "outputs": [
    {
     "data": {
      "text/plain": [
       "2"
      ]
     },
     "execution_count": 86,
     "metadata": {},
     "output_type": "execute_result"
    }
   ],
   "source": [
    "'''Question 2: -\n",
    "Consider a string to be valid if all characters of the string appear the same number of times. \n",
    "It is also valid if you remove just one character in the string, and the remaining characters will occur the same\n",
    "number of times. Given a string, determine if it is valid. If so, return YES , otherwise return NO . '''\n",
    "\n",
    "stringOne = \"aabbccc\"\n",
    "\n",
    "newDict = {}\n",
    "\n",
    "\n",
    "for i in stringOne:\n",
    "    if i not in newDict:\n",
    "        newDict[i] = +1\n",
    "    elif i in newDict:\n",
    "        newDict[i] = newDict[i] +1\n",
    "\n",
    "newDict\n",
    "\n",
    "maxValue = max(newDict.values())\n",
    "countOfMaxValue = list(newDict.values()).count(maxValue)\n",
    "minValue = min(newDict.values())\n",
    "countOfMinValue = list(newDict.values()).count(minValue)\n",
    "\n",
    "lenOfDict = len(newDict.values())\n",
    "uniqeValues = len(set(newDict.values()))\n",
    "uniqeValues\n"
   ]
  },
  {
   "cell_type": "code",
   "execution_count": null,
   "id": "e27978df-b997-4cb9-a6fe-c324625e9417",
   "metadata": {},
   "outputs": [],
   "source": []
  },
  {
   "cell_type": "code",
   "execution_count": null,
   "id": "fc1fa0b3-28bb-44c9-9e33-0e04769413c5",
   "metadata": {},
   "outputs": [],
   "source": []
  },
  {
   "cell_type": "code",
   "execution_count": null,
   "id": "355ac56f-db14-40ed-bff2-c2a740d36ec4",
   "metadata": {},
   "outputs": [],
   "source": []
  },
  {
   "cell_type": "code",
   "execution_count": null,
   "id": "3ee1612a-e660-4a3b-aa0f-dac0ce44a57d",
   "metadata": {},
   "outputs": [],
   "source": []
  },
  {
   "cell_type": "code",
   "execution_count": null,
   "id": "9028ebbf-d1c0-4986-8055-fa386538e920",
   "metadata": {},
   "outputs": [],
   "source": []
  },
  {
   "cell_type": "code",
   "execution_count": null,
   "id": "e6449947-b3af-4152-bd50-20ac3046304f",
   "metadata": {},
   "outputs": [],
   "source": []
  },
  {
   "cell_type": "code",
   "execution_count": null,
   "id": "0d27c7c4-b1ad-43d7-ba48-10e2cb339721",
   "metadata": {},
   "outputs": [],
   "source": []
  },
  {
   "cell_type": "code",
   "execution_count": null,
   "id": "514b70df-a0b6-48a9-9c9c-5ece726902ef",
   "metadata": {},
   "outputs": [],
   "source": []
  },
  {
   "cell_type": "code",
   "execution_count": null,
   "id": "211c8785-4d8b-4648-aa2b-6e3dddd92b4f",
   "metadata": {},
   "outputs": [],
   "source": []
  },
  {
   "cell_type": "code",
   "execution_count": null,
   "id": "731c114e-3b96-42ca-82fc-3d3dd182f12a",
   "metadata": {},
   "outputs": [],
   "source": []
  },
  {
   "cell_type": "code",
   "execution_count": null,
   "id": "f4090ff8-e23d-4102-b4d1-491c524930e0",
   "metadata": {},
   "outputs": [],
   "source": []
  },
  {
   "cell_type": "code",
   "execution_count": null,
   "id": "446920be-9430-47ea-8288-049a881542a5",
   "metadata": {},
   "outputs": [],
   "source": []
  },
  {
   "cell_type": "code",
   "execution_count": null,
   "id": "8309d976-54cc-43b8-ad85-da1db24e5da7",
   "metadata": {},
   "outputs": [],
   "source": []
  }
 ],
 "metadata": {
  "kernelspec": {
   "display_name": "Python 3 (ipykernel)",
   "language": "python",
   "name": "python3"
  },
  "language_info": {
   "codemirror_mode": {
    "name": "ipython",
    "version": 3
   },
   "file_extension": ".py",
   "mimetype": "text/x-python",
   "name": "python",
   "nbconvert_exporter": "python",
   "pygments_lexer": "ipython3",
   "version": "3.11.7"
  }
 },
 "nbformat": 4,
 "nbformat_minor": 5
}
