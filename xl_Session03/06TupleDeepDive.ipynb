{
 "cells": [
  {
   "cell_type": "code",
   "execution_count": 3,
   "id": "6c6f5282-e5bd-4dbc-b02e-d8a544a47e7e",
   "metadata": {},
   "outputs": [],
   "source": [
    "thistple = (\"apple\", \"banana\", \"cherry\", \"orange\")\n",
    "\n",
    "thistple = tuple((\"apple\", \"banana\", \"cherry\", \"orange\"))\n",
    "\n",
    "\n"
   ]
  },
  {
   "cell_type": "code",
   "execution_count": 5,
   "id": "860173b3-e698-4017-afe8-8e02d948680f",
   "metadata": {},
   "outputs": [
    {
     "name": "stdout",
     "output_type": "stream",
     "text": [
      "banana\n",
      "orange\n",
      "('cherry', 'orange')\n",
      "('apple', 'banana', 'cherry', 'orange')\n",
      "('cherry', 'orange')\n",
      "('apple', 'banana', 'cherry')\n"
     ]
    }
   ],
   "source": [
    "print(thistple[1]) \n",
    "print(thistple[-1]) \n",
    "print(thistple[2:5])\n",
    "print(thistple[:4])\n",
    "print(thistple[2:])\n",
    "print(thistple[-4:-1])\n"
   ]
  },
  {
   "cell_type": "code",
   "execution_count": 6,
   "id": "a7b83976-6db4-4baa-aff7-2322633150a0",
   "metadata": {},
   "outputs": [
    {
     "name": "stdout",
     "output_type": "stream",
     "text": [
      "apple\n",
      "banana\n",
      "cherry\n",
      "orange\n"
     ]
    }
   ],
   "source": [
    "for x in thistple:\n",
    "  print(x)\n"
   ]
  },
  {
   "cell_type": "code",
   "execution_count": 8,
   "id": "f780edf5-205b-44a4-ae0d-afcd2819f4b3",
   "metadata": {},
   "outputs": [
    {
     "data": {
      "text/plain": [
       "4"
      ]
     },
     "execution_count": 8,
     "metadata": {},
     "output_type": "execute_result"
    }
   ],
   "source": [
    "len(thistple)\n"
   ]
  },
  {
   "cell_type": "code",
   "execution_count": 10,
   "id": "834f8dfb-1dee-4422-b4e3-23f952fae24f",
   "metadata": {},
   "outputs": [
    {
     "data": {
      "text/plain": [
       "True"
      ]
     },
     "execution_count": 10,
     "metadata": {},
     "output_type": "execute_result"
    }
   ],
   "source": [
    "\"apple\" in thistple"
   ]
  },
  {
   "cell_type": "code",
   "execution_count": null,
   "id": "c8a3b451-033d-45eb-92a8-2cdf7cb31ef3",
   "metadata": {},
   "outputs": [],
   "source": [
    "# Join tuple"
   ]
  },
  {
   "cell_type": "code",
   "execution_count": 13,
   "id": "6cd6feef-5840-4e76-bac2-9d1c041d333e",
   "metadata": {},
   "outputs": [
    {
     "name": "stdout",
     "output_type": "stream",
     "text": [
      "('a', 'b', 'c', 1, 2, 3)\n"
     ]
    }
   ],
   "source": [
    "# Tupple Example\n",
    "abc = (\"a\", \"b\" , \"c\")\n",
    "xyz = (1, 2, 3)\n",
    "\n",
    "ddd = abc + xyz \n",
    "print(ddd)\n"
   ]
  },
  {
   "cell_type": "code",
   "execution_count": null,
   "id": "aeb17fb9-e10a-4895-ad2b-241681b31552",
   "metadata": {},
   "outputs": [],
   "source": []
  },
  {
   "cell_type": "code",
   "execution_count": null,
   "id": "055b197b-b404-4a19-b768-12564f8b0ee3",
   "metadata": {},
   "outputs": [],
   "source": []
  },
  {
   "cell_type": "code",
   "execution_count": null,
   "id": "003bc492-0905-4815-b54d-3d22b91e50a9",
   "metadata": {},
   "outputs": [],
   "source": []
  },
  {
   "cell_type": "code",
   "execution_count": null,
   "id": "77bd8740-9da1-40ac-ad7c-a2d43afa033b",
   "metadata": {},
   "outputs": [],
   "source": []
  },
  {
   "cell_type": "code",
   "execution_count": null,
   "id": "4f522df0-863b-48d7-bfa2-02de1909a189",
   "metadata": {},
   "outputs": [],
   "source": []
  }
 ],
 "metadata": {
  "kernelspec": {
   "display_name": "Python 3 (ipykernel)",
   "language": "python",
   "name": "python3"
  },
  "language_info": {
   "codemirror_mode": {
    "name": "ipython",
    "version": 3
   },
   "file_extension": ".py",
   "mimetype": "text/x-python",
   "name": "python",
   "nbconvert_exporter": "python",
   "pygments_lexer": "ipython3",
   "version": "3.11.7"
  }
 },
 "nbformat": 4,
 "nbformat_minor": 5
}
