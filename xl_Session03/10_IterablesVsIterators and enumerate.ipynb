{
 "cells": [
  {
   "cell_type": "markdown",
   "id": "647977e2-e5aa-4eeb-8942-b6dbee3bc674",
   "metadata": {},
   "source": [
    "# Iterable and Iterator\r\n",
    "\r\n",
    "<p style=\"color: #3498db; font-family: 'Candara', sans-serif; font-size: 16px; margin: 0; padding: 0;\">In programming, particularly in languages like Python, the concepts of <b>iterables</b> and <b>iterators</b> are fundamental for working with collections of data. Here’s a detailed explanation of each:</p"
   ]
  },
  {
   "cell_type": "markdown",
   "id": "13502cc4-16d5-45df-b1de-7bdef1986f14",
   "metadata": {},
   "source": [
    "# Iterable\n",
    "\n",
    "<p style=\"color: #3498db; font-family: 'Candara', sans-serif; font-size: 16px; margin: 0; padding: 0;\">An iterable is any object that can be looped over or iterated upon. Examples of iterables include lists, tuples, strings, dictionaries, sets, and more.</p>\n",
    "\n",
    "<p style=\"color: #3498db; font-family: 'Candara', sans-serif; font-size: 16px; margin: 0; padding: 0;\">Iterables must implement the <code>__iter__()</code> method, which returns an iterator.</p>\n"
   ]
  },
  {
   "cell_type": "markdown",
   "id": "56cdbe90-8648-4a39-be15-e8f2c645652f",
   "metadata": {},
   "source": [
    "/p>\r\n"
   ]
  },
  {
   "cell_type": "code",
   "execution_count": 2,
   "id": "f63c51ed",
   "metadata": {},
   "outputs": [
    {
     "name": "stdout",
     "output_type": "stream",
     "text": [
      "apple\n",
      "banana\n",
      "cherry\n",
      "orange\n",
      "\n"
     ]
    }
   ],
   "source": [
    "fruitsList = [\"apple\", \"banana\", \"cherry\", \"orange\"]\n",
    "name = \"Rajesh\"\n",
    "cityTuple = (\"Mumbai\", \"Pune\", \"Bangalore\")\n",
    "\n",
    "for i in fruitsList:\n",
    "    print(i)\n",
    "print()\n"
   ]
  },
  {
   "cell_type": "code",
   "execution_count": 7,
   "id": "127d36f8-e578-42a4-b75e-1a1fd9461a1a",
   "metadata": {},
   "outputs": [
    {
     "name": "stdout",
     "output_type": "stream",
     "text": [
      "<list_iterator object at 0x00000227F153F850>\n",
      "<list_iterator object at 0x00000227F153F850>\n",
      "<list_iterator object at 0x00000227F153F850>\n",
      "<list_iterator object at 0x00000227F153F850>\n"
     ]
    }
   ],
   "source": []
  },
  {
   "cell_type": "code",
   "execution_count": null,
   "id": "988bdbad-7b6f-41c4-8281-b2a65306bea4",
   "metadata": {},
   "outputs": [],
   "source": [
    "print(dir(cityTuple))\n"
   ]
  },
  {
   "cell_type": "markdown",
   "id": "9585c330-5627-4908-98c8-6d72f1403eb7",
   "metadata": {
    "jp-MarkdownHeadingCollapsed": true
   },
   "source": [
    "# Iterators\r\n",
    "\r\n",
    "<p style=\"color: #3498db; font-family: 'Candara', sans-serif; font-size: 16px; margin: 0; padding: 0;\">In Python, an iterator is an object that implements the iterator protocol, which consists of two methods: <code>__iter__()</code> and <code>__next__()</code>.</p>\r\n",
    "\r\n",
    "<p style=\"color: #3498db; font-family: 'Candara', sans-serif; font-size: 16px; margin: 0; padding: 0;\">An example of iterators are the results of the <code>map</code> and <code>filter</code> functions, since both contain the <code>__iter__()</code> and <code>__next__()</code> methods.</p>\r\n",
    "\r\n",
    "<p style=\"color: #3498db; font-family: 'Candara', sans-serif; font-size: 16px; margin: 0; padding: 0;\">Here’s an examplers))     # Output: [2, 4]\r\n"
   ]
  },
  {
   "cell_type": "code",
   "execution_count": 38,
   "id": "67c2f67c",
   "metadata": {},
   "outputs": [
    {
     "name": "stdout",
     "output_type": "stream",
     "text": [
      "['apple', 'banana', 'cherry', 'orange']\n"
     ]
    },
    {
     "data": {
      "text/plain": [
       "['__add__',\n",
       " '__class__',\n",
       " '__class_getitem__',\n",
       " '__contains__',\n",
       " '__delattr__',\n",
       " '__delitem__',\n",
       " '__dir__',\n",
       " '__doc__',\n",
       " '__eq__',\n",
       " '__format__',\n",
       " '__ge__',\n",
       " '__getattribute__',\n",
       " '__getitem__',\n",
       " '__getstate__',\n",
       " '__gt__',\n",
       " '__hash__',\n",
       " '__iadd__',\n",
       " '__imul__',\n",
       " '__init__',\n",
       " '__init_subclass__',\n",
       " '__iter__',\n",
       " '__le__',\n",
       " '__len__',\n",
       " '__lt__',\n",
       " '__mul__',\n",
       " '__ne__',\n",
       " '__new__',\n",
       " '__reduce__',\n",
       " '__reduce_ex__',\n",
       " '__repr__',\n",
       " '__reversed__',\n",
       " '__rmul__',\n",
       " '__setattr__',\n",
       " '__setitem__',\n",
       " '__sizeof__',\n",
       " '__str__',\n",
       " '__subclasshook__',\n",
       " 'append',\n",
       " 'clear',\n",
       " 'copy',\n",
       " 'count',\n",
       " 'extend',\n",
       " 'index',\n",
       " 'insert',\n",
       " 'pop',\n",
       " 'remove',\n",
       " 'reverse',\n",
       " 'sort']"
      ]
     },
     "execution_count": 38,
     "metadata": {},
     "output_type": "execute_result"
    }
   ],
   "source": [
    "'''iterrator'''\n",
    "\n",
    "fruitsList = [\"apple\", \"banana\", \"cherry\", \"orange\"]\n",
    "print(fruitsList)\n",
    "\n",
    "dir(fruitsList)\n"
   ]
  },
  {
   "cell_type": "code",
   "execution_count": 12,
   "id": "c41f45eb",
   "metadata": {},
   "outputs": [
    {
     "name": "stdout",
     "output_type": "stream",
     "text": [
      "['__class__', '__delattr__', '__dir__', '__doc__', '__eq__', '__format__', '__ge__', '__getattribute__', '__getstate__', '__gt__', '__hash__', '__init__', '__init_subclass__', '__iter__', '__le__', '__length_hint__', '__lt__', '__ne__', '__new__', '__next__', '__reduce__', '__reduce_ex__', '__repr__', '__setattr__', '__setstate__', '__sizeof__', '__str__', '__subclasshook__']\n"
     ]
    }
   ],
   "source": [
    "abc = iter(fruitsList)\n",
    "\n",
    "\n",
    "print(dir(abc))\n"
   ]
  },
  {
   "cell_type": "code",
   "execution_count": 13,
   "id": "e28a6eaa-cbc6-42a0-ad12-8fcb016dbb82",
   "metadata": {},
   "outputs": [
    {
     "name": "stdout",
     "output_type": "stream",
     "text": [
      "['__add__', '__class__', '__class_getitem__', '__contains__', '__delattr__', '__delitem__', '__dir__', '__doc__', '__eq__', '__format__', '__ge__', '__getattribute__', '__getitem__', '__getstate__', '__gt__', '__hash__', '__iadd__', '__imul__', '__init__', '__init_subclass__', '__iter__', '__le__', '__len__', '__lt__', '__mul__', '__ne__', '__new__', '__reduce__', '__reduce_ex__', '__repr__', '__reversed__', '__rmul__', '__setattr__', '__setitem__', '__sizeof__', '__str__', '__subclasshook__', 'append', 'clear', 'copy', 'count', 'extend', 'index', 'insert', 'pop', 'remove', 'reverse', 'sort']\n"
     ]
    }
   ],
   "source": []
  },
  {
   "cell_type": "code",
   "execution_count": 16,
   "id": "a6263117-4289-4bde-ab62-48c4292b3620",
   "metadata": {},
   "outputs": [
    {
     "name": "stdout",
     "output_type": "stream",
     "text": [
      "2\n",
      "4\n",
      "6\n",
      "8\n",
      "10\n"
     ]
    }
   ],
   "source": [
    "'''filter'''\n",
    "\n",
    "'''filter(function, iterable)'''\n",
    "'find even number by using filer'\n",
    "\n",
    "numbers = [1, 2, 3, 4, 5, 6, 7, 8, 9, 10]\n",
    "\n",
    "def is_even(x):\n",
    "    if x % 2 == 0:\n",
    "        return x\n",
    "\n",
    "abc = filter(is_even,numbers)    # iterator  Object\n",
    "for i in abc:\n",
    "    print(i)\n",
    "\n",
    "for i in abc:\n",
    "    print(i)\n"
   ]
  },
  {
   "cell_type": "code",
   "execution_count": 19,
   "id": "87f2123c-8dce-461b-9dce-15c59513bdd2",
   "metadata": {},
   "outputs": [
    {
     "name": "stdout",
     "output_type": "stream",
     "text": [
      "2\n",
      "4\n",
      "6\n",
      "8\n",
      "10\n",
      "2\n",
      "4\n",
      "6\n",
      "8\n",
      "10\n",
      "2\n",
      "4\n",
      "6\n",
      "8\n",
      "10\n",
      "2\n",
      "4\n",
      "6\n",
      "8\n",
      "10\n"
     ]
    }
   ],
   "source": [
    "xyz = list(filter(is_even,numbers))\n",
    "\n",
    "for i in xyz:\n",
    "    print(i)\n",
    "for i in xyz:\n",
    "    print(i)\n",
    "for i in xyz:\n",
    "    print(i)\n",
    "for i in xyz:\n",
    "    print(i)\n"
   ]
  },
  {
   "cell_type": "code",
   "execution_count": 29,
   "id": "1709071f-4ae9-43ea-aecb-3a1eed47c22e",
   "metadata": {},
   "outputs": [
    {
     "data": {
      "text/plain": [
       "<list_iterator at 0x227f1546a10>"
      ]
     },
     "execution_count": 29,
     "metadata": {},
     "output_type": "execute_result"
    }
   ],
   "source": [
    "fruitsList = [\"apple\", \"banana\", \"cherry\", \"orange\"]\n",
    "abc = iter(fruitsList)\n",
    "abc\n"
   ]
  },
  {
   "cell_type": "code",
   "execution_count": 30,
   "id": "ad40fc6c",
   "metadata": {},
   "outputs": [
    {
     "name": "stdout",
     "output_type": "stream",
     "text": [
      "apple\n",
      "banana\n",
      "cherry\n",
      "orange\n"
     ]
    },
    {
     "ename": "StopIteration",
     "evalue": "",
     "output_type": "error",
     "traceback": [
      "\u001b[1;31m---------------------------------------------------------------------------\u001b[0m",
      "\u001b[1;31mStopIteration\u001b[0m                             Traceback (most recent call last)",
      "Cell \u001b[1;32mIn[30], line 5\u001b[0m\n\u001b[0;32m      3\u001b[0m \u001b[38;5;28mprint\u001b[39m(\u001b[38;5;28mnext\u001b[39m(abc))\n\u001b[0;32m      4\u001b[0m \u001b[38;5;28mprint\u001b[39m(\u001b[38;5;28mnext\u001b[39m(abc))\n\u001b[1;32m----> 5\u001b[0m \u001b[38;5;28mprint\u001b[39m(\u001b[38;5;28mnext\u001b[39m(abc))\n",
      "\u001b[1;31mStopIteration\u001b[0m: "
     ]
    }
   ],
   "source": [
    "print(next(abc))\n",
    "print(next(abc))\n",
    "print(next(abc))\n",
    "print(next(abc))\n",
    "print(next(abc))\n"
   ]
  },
  {
   "cell_type": "code",
   "execution_count": 31,
   "id": "502fec35-0a91-43eb-a81e-d209e3dd7295",
   "metadata": {},
   "outputs": [
    {
     "ename": "TypeError",
     "evalue": "'list' object is not an iterator",
     "output_type": "error",
     "traceback": [
      "\u001b[1;31m---------------------------------------------------------------------------\u001b[0m",
      "\u001b[1;31mTypeError\u001b[0m                                 Traceback (most recent call last)",
      "Cell \u001b[1;32mIn[31], line 2\u001b[0m\n\u001b[0;32m      1\u001b[0m fruitsList\n\u001b[1;32m----> 2\u001b[0m \u001b[38;5;28mnext\u001b[39m(fruitsList)\n",
      "\u001b[1;31mTypeError\u001b[0m: 'list' object is not an iterator"
     ]
    }
   ],
   "source": [
    "\n",
    "fruitsList\n",
    "next(fruitsList)\n"
   ]
  },
  {
   "cell_type": "code",
   "execution_count": 28,
   "id": "a280c4bf-e80f-4f35-9d88-72d0534aa618",
   "metadata": {},
   "outputs": [
    {
     "ename": "StopIteration",
     "evalue": "",
     "output_type": "error",
     "traceback": [
      "\u001b[1;31m---------------------------------------------------------------------------\u001b[0m",
      "\u001b[1;31mStopIteration\u001b[0m                             Traceback (most recent call last)",
      "Cell \u001b[1;32mIn[28], line 1\u001b[0m\n\u001b[1;32m----> 1\u001b[0m \u001b[38;5;28mprint\u001b[39m(\u001b[38;5;28mnext\u001b[39m(abc))\n",
      "\u001b[1;31mStopIteration\u001b[0m: "
     ]
    }
   ],
   "source": [
    "\n"
   ]
  },
  {
   "cell_type": "code",
   "execution_count": null,
   "id": "8b88ed4b",
   "metadata": {},
   "outputs": [],
   "source": [
    "iter(fruitsList)"
   ]
  },
  {
   "cell_type": "code",
   "execution_count": null,
   "id": "bd9640bc",
   "metadata": {},
   "outputs": [],
   "source": [
    "iter(name)"
   ]
  },
  {
   "cell_type": "code",
   "execution_count": null,
   "id": "290ecda1",
   "metadata": {},
   "outputs": [],
   "source": [
    "iter(cityTuple)"
   ]
  },
  {
   "cell_type": "code",
   "execution_count": null,
   "id": "1c2d0a1e",
   "metadata": {},
   "outputs": [],
   "source": [
    "dir(cityTuple)"
   ]
  },
  {
   "cell_type": "code",
   "execution_count": null,
   "id": "a57dc098",
   "metadata": {},
   "outputs": [],
   "source": []
  },
  {
   "cell_type": "code",
   "execution_count": 36,
   "id": "97f5c3f2",
   "metadata": {},
   "outputs": [
    {
     "data": {
      "text/plain": [
       "(2, 4, 6, 8)"
      ]
     },
     "execution_count": 36,
     "metadata": {},
     "output_type": "execute_result"
    }
   ],
   "source": [
    "'''Apply Filter'''\n",
    "fruitsList = [1,2,3,4,5,6,7,8]\n",
    "def extractOnlyEvenNumber(i):\n",
    "    return i % 2 == 0\n",
    "\n",
    "abc = filter(extractOnlyEvenNumber,fruitsList)\n",
    "tuple(abc)\n"
   ]
  },
  {
   "cell_type": "code",
   "execution_count": null,
   "id": "c0a16f43",
   "metadata": {},
   "outputs": [],
   "source": [
    "'''Apply map'''\n",
    "\n",
    "numbers = [1,2,3,4,5,6,7,8]\n",
    "\n",
    "def squareOfAllNumbers(i):\n",
    "    return i ** 2\n",
    "\n",
    "abc = map(squareOfAllNumbers,numbers)\n",
    "print(abc)\n",
    "dir(abc)\n",
    "\n",
    "for i in abc:\n",
    "    print(i)\n",
    "\n",
    "for i in abc:\n",
    "    print(i)\n",
    "\n"
   ]
  },
  {
   "cell_type": "code",
   "execution_count": null,
   "id": "1d6776e3",
   "metadata": {},
   "outputs": [],
   "source": [
    "numbers = [1,2,3,4,5,6,7,8]\n",
    "\n",
    "numbers = list(iter(numbers))\n",
    "print(dir(numbers))\n",
    "for i in numbers:\n",
    "    print(i)\n",
    "    \n",
    "for i in numbers:\n",
    "    print(i)\n",
    "    "
   ]
  },
  {
   "cell_type": "code",
   "execution_count": null,
   "id": "ea8df407",
   "metadata": {},
   "outputs": [],
   "source": [
    "fruituple=(\"apple\", \"banana\", \"cherry\")\n",
    "myit = iter(fruituple)\n",
    "print(myit)\n",
    "print(dir(myit))\n",
    "print(next(myit))\n",
    "print(next(myit))\n",
    "print(next(myit))\n"
   ]
  },
  {
   "cell_type": "code",
   "execution_count": null,
   "id": "a3d0d46a",
   "metadata": {},
   "outputs": [],
   "source": [
    "mystr = \"banana\"\n",
    "myit = iter(mystr)\n",
    "print(myit)\n",
    "\n",
    "print(dir(myit))\n",
    "print(next(myit))\n",
    "print(next(myit))\n",
    "print(next(myit))\n",
    "print(next(myit))\n",
    "print(next(myit))\n",
    "print(next(myit))\n"
   ]
  },
  {
   "cell_type": "markdown",
   "id": "0152be40",
   "metadata": {},
   "source": []
  },
  {
   "cell_type": "markdown",
   "id": "11c002a7-dfcb-4327-b161-ba5dd724050a",
   "metadata": {
    "jp-MarkdownHeadingCollapsed": true
   },
   "source": [
    "# `enumerate()` Function\n",
    "\n",
    "<p style=\"color: #3498db; font-family: 'Candara', sans-serif; font-size: 16px; margin: 0; padding: 0;\">In Python, the <code>enumerate()</code> function is used to iterate over a list (or any other iterable), providing both the index and the value of each element during iteration. This is particularly useful when you need to keep track of the index while iterating over the elements of a list.</p>\n",
    "\n",
    "<p style=\"color: #3498db; font-family: 'Candara', sans-serif; font-size: 16px; margin: 0; padding: 0;\">Here’s a simple example:</p>\n",
    "<p style=\"color: #3498db; font-family: 'Candara', sans-serif; font-size: 16px; margin: 0; padding: 0;\">In this example:</p>\n",
    "<ul style=\"color: #3498db; font-family: 'Candara', sans-serif; font-size: 16px; margin: 0; padding: 0;\">\n",
    "    <li>The <code>enumerate()</code> function returns both the index and the value from the <code>items</code> list.</li>\n",
    "    <li>The loop prints the index and the corresponding value for each item in the list.</li>\n",
    "</ul>\n",
    "\n",
    "\n",
    "\n",
    "```python\n",
    "items = ['apple', 'banana', 'cherry']\n",
    "\n",
    "for index, value in enumerate(items):\n",
    "    print(f'Index: {index}, Value: {value}')\n",
    "\n",
    "\n"
   ]
  },
  {
   "cell_type": "markdown",
   "id": "d505ee65-2bfa-44b8-967b-7cbe70cfff80",
   "metadata": {},
   "source": []
  },
  {
   "cell_type": "code",
   "execution_count": 43,
   "id": "8476b2d2",
   "metadata": {},
   "outputs": [
    {
     "name": "stdout",
     "output_type": "stream",
     "text": [
      "['apple', 'banana', 'cherry', 'orange']\n"
     ]
    },
    {
     "data": {
      "text/plain": [
       "{0: 'apple', 1: 'banana', 2: 'cherry', 3: 'orange'}"
      ]
     },
     "execution_count": 43,
     "metadata": {},
     "output_type": "execute_result"
    }
   ],
   "source": [
    "fruitsList = [\"apple\", \"banana\", \"cherry\", \"orange\"]\n",
    "print(fruitsList)\n",
    "\n",
    "dict(enumerate(fruitsList))\n"
   ]
  },
  {
   "cell_type": "code",
   "execution_count": 44,
   "id": "110ac30a-2c49-42d8-82e7-90ddc41f8e82",
   "metadata": {},
   "outputs": [
    {
     "name": "stdout",
     "output_type": "stream",
     "text": [
      "{0: 'apple', 1: 'banana', 2: 'cherry', 3: 'orange'}\n"
     ]
    }
   ],
   "source": [
    "print(dict(enumerate(fruitsList)))\n"
   ]
  },
  {
   "cell_type": "code",
   "execution_count": 45,
   "id": "ccbaf25c-f00a-43c9-903d-b5db6b6dbb27",
   "metadata": {},
   "outputs": [
    {
     "name": "stdout",
     "output_type": "stream",
     "text": [
      "0 apple\n",
      "1 banana\n",
      "2 cherry\n",
      "3 orange\n"
     ]
    }
   ],
   "source": [
    "fruitsList = [\"apple\", \"banana\", \"cherry\", \"orange\"]\n",
    "\n",
    "for i,j in enumerate(fruitsList):\n",
    "    print(i,j)\n"
   ]
  },
  {
   "cell_type": "code",
   "execution_count": null,
   "id": "73c744ec-b18b-4e72-b995-edd88daac55f",
   "metadata": {},
   "outputs": [],
   "source": []
  },
  {
   "cell_type": "code",
   "execution_count": null,
   "id": "84447750-f78d-439d-8601-911f3be3e87c",
   "metadata": {},
   "outputs": [],
   "source": []
  },
  {
   "cell_type": "code",
   "execution_count": null,
   "id": "82fd29e5-8c53-47ce-9673-9d065854cabf",
   "metadata": {},
   "outputs": [],
   "source": []
  },
  {
   "cell_type": "code",
   "execution_count": null,
   "id": "e7d2ff3e",
   "metadata": {},
   "outputs": [],
   "source": [
    "print(list(enumerate(fruitsList)))\n"
   ]
  },
  {
   "cell_type": "code",
   "execution_count": null,
   "id": "e394073b",
   "metadata": {},
   "outputs": [],
   "source": [
    "print(tuple(enumerate(fruitsList)))"
   ]
  },
  {
   "cell_type": "code",
   "execution_count": null,
   "id": "e7c7e0ea",
   "metadata": {},
   "outputs": [],
   "source": [
    "'''enumerate with List'''\n",
    "fruitsList = [\"apple\", \"banana\", \"cherry\", \"orange\"]\n",
    "\n",
    "for j,i in enumerate(fruitsList):\n",
    "    print(j,i)"
   ]
  },
  {
   "cell_type": "code",
   "execution_count": null,
   "id": "7f474550",
   "metadata": {},
   "outputs": [],
   "source": [
    "'''enumerate with Tuple'''\n",
    "\n",
    "fruitsTuple = (\"apple\", \"banana\", \"cherry\", \"orange\")\n",
    "for index, value in enumerate(fruitsTuple):\n",
    "    print(index, value)"
   ]
  },
  {
   "cell_type": "code",
   "execution_count": null,
   "id": "4db4deeb",
   "metadata": {},
   "outputs": [],
   "source": []
  },
  {
   "cell_type": "code",
   "execution_count": null,
   "id": "bf669ba6",
   "metadata": {},
   "outputs": [],
   "source": []
  },
  {
   "cell_type": "code",
   "execution_count": null,
   "id": "d7721a8e",
   "metadata": {},
   "outputs": [],
   "source": []
  }
 ],
 "metadata": {
  "kernelspec": {
   "display_name": "Python 3 (ipykernel)",
   "language": "python",
   "name": "python3"
  },
  "language_info": {
   "codemirror_mode": {
    "name": "ipython",
    "version": 3
   },
   "file_extension": ".py",
   "mimetype": "text/x-python",
   "name": "python",
   "nbconvert_exporter": "python",
   "pygments_lexer": "ipython3",
   "version": "3.11.7"
  }
 },
 "nbformat": 4,
 "nbformat_minor": 5
}
