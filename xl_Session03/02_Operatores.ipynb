{
 "cells": [
  {
   "cell_type": "raw",
   "id": "e8c59442-6bb7-4ae4-b3b9-ccef03c25317",
   "metadata": {},
   "source": [
    "| Category                | \n",
    "|-------------------------|\n",
    "| Arithmetic Operators    |\n",
    "| Relational Operators    |\n",
    "| Assignment Operators    |\n",
    "| Logical Operators       |\n",
    "| Membership Operators    |\n",
    "| Identity Operators      |\n"
   ]
  },
  {
   "cell_type": "markdown",
   "id": "03db6e71-2b6f-48e7-b72a-ff1b249a0b4a",
   "metadata": {},
   "source": [
    "# Arithmetic Operators "
   ]
  },
  {
   "cell_type": "raw",
   "id": "0c01794c-3844-4739-8d5d-e8794911c497",
   "metadata": {},
   "source": [
    "| Operator | Name           | Example |\n",
    "|----------|----------------|---------|\n",
    "| +        | Addition       | x + y   |\n",
    "| -        | Subtraction    | x - y   |\n",
    "| *        | Multiplication | x * y   |\n",
    "| /        | Division       | x / y   |\n",
    "| %        | Modulus        | x % y   |\n",
    "| **       | Exponentiation | x ** y  |\n",
    "| //       | Floor division | x // y  |"
   ]
  },
  {
   "cell_type": "code",
   "execution_count": null,
   "id": "9ce39352-5f04-4ece-8e1f-cba72ccab8ae",
   "metadata": {},
   "outputs": [],
   "source": []
  },
  {
   "cell_type": "raw",
   "id": "10f39c20-877b-4ed3-837d-f4ae0ba82552",
   "metadata": {},
   "source": [
    "'''Subtraction Addition Division Multiplication'''\n",
    "\n",
    "x = 6\n",
    "y = 3\n",
    "\n",
    "x-y"
   ]
  },
  {
   "cell_type": "code",
   "execution_count": null,
   "id": "a0344a96-34aa-4418-adc6-b994d105c938",
   "metadata": {},
   "outputs": [],
   "source": [
    "# additoin\n",
    "x+y"
   ]
  },
  {
   "cell_type": "code",
   "execution_count": null,
   "id": "41f57ba2-9e88-402c-af6b-d2f596518c9b",
   "metadata": {},
   "outputs": [],
   "source": [
    "# Substraction\n",
    "x-y"
   ]
  },
  {
   "cell_type": "code",
   "execution_count": null,
   "id": "f94f4abd-140e-40bd-9a6b-8b9497a2e150",
   "metadata": {},
   "outputs": [],
   "source": [
    "#Devistion\n",
    "x/y"
   ]
  },
  {
   "cell_type": "code",
   "execution_count": null,
   "id": "c686e5d3-db32-4b1b-b45b-f8ed92230afc",
   "metadata": {},
   "outputs": [],
   "source": [
    "#Multiplication\n",
    "x*y"
   ]
  },
  {
   "cell_type": "code",
   "execution_count": null,
   "id": "2ccd5ba7-3731-4c49-88b0-ce98326c47d2",
   "metadata": {},
   "outputs": [],
   "source": [
    "x//y"
   ]
  },
  {
   "cell_type": "code",
   "execution_count": 3,
   "id": "9d87c2e8-533d-47c8-8293-7371cbcccfed",
   "metadata": {},
   "outputs": [
    {
     "data": {
      "text/plain": [
       "4913"
      ]
     },
     "execution_count": 3,
     "metadata": {},
     "output_type": "execute_result"
    }
   ],
   "source": [
    "x**y\n"
   ]
  },
  {
   "cell_type": "code",
   "execution_count": 2,
   "id": "0ce31f87",
   "metadata": {},
   "outputs": [
    {
     "data": {
      "text/plain": [
       "5.666666666666667"
      ]
     },
     "execution_count": 2,
     "metadata": {},
     "output_type": "execute_result"
    }
   ],
   "source": [
    "x = 17\n",
    "y = 3\n",
    "\n",
    "x/y\n"
   ]
  },
  {
   "cell_type": "code",
   "execution_count": 1,
   "id": "23553631",
   "metadata": {},
   "outputs": [
    {
     "data": {
      "text/plain": [
       "5"
      ]
     },
     "execution_count": 1,
     "metadata": {},
     "output_type": "execute_result"
    }
   ],
   "source": [
    "'''Floor division and Exponentiation(**)'''\n",
    "\n",
    "x = 17\n",
    "y = 3\n",
    "\n",
    "result = x // y  # result is 3 (integer division)\n",
    "result"
   ]
  },
  {
   "cell_type": "code",
   "execution_count": null,
   "id": "dd15bf52",
   "metadata": {},
   "outputs": [],
   "source": [
    "x = 2\n",
    "y = 3\n",
    "\n",
    "result = x ** y  # result is 3 (integer division)\n",
    "print(result)\n",
    "print(2*2*2)"
   ]
  },
  {
   "cell_type": "code",
   "execution_count": 9,
   "id": "47fd82be",
   "metadata": {},
   "outputs": [
    {
     "name": "stdout",
     "output_type": "stream",
     "text": [
      "5.666666666666667\n",
      "2\n"
     ]
    }
   ],
   "source": [
    "'''Modulus (%): Returns the remainder of the division.'''\n",
    "x = 17\n",
    "y = 3\n",
    "print(x/y)\n",
    "print(x%y)\n"
   ]
  },
  {
   "cell_type": "code",
   "execution_count": 5,
   "id": "e9c6e70b",
   "metadata": {},
   "outputs": [
    {
     "data": {
      "text/plain": [
       "12"
      ]
     },
     "execution_count": 5,
     "metadata": {},
     "output_type": "execute_result"
    }
   ],
   "source": [
    "# Modulus or remainder\n",
    "\n",
    "x = 15\n",
    "y = 4\n",
    "\n",
    "x/y\n",
    "\n",
    "\n",
    "4*3\n"
   ]
  },
  {
   "cell_type": "code",
   "execution_count": null,
   "id": "b7aacbf7-b257-437d-a79f-d264c74461ff",
   "metadata": {},
   "outputs": [],
   "source": [
    "x = 12\n",
    "y = 4\n",
    "\n",
    "\n",
    "result = x % y  # result is 3 (integer division)\n",
    "print(result)\n",
    "\n"
   ]
  },
  {
   "cell_type": "code",
   "execution_count": null,
   "id": "645a285d-1473-4ea2-bfbe-3fe5f369484f",
   "metadata": {},
   "outputs": [],
   "source": []
  },
  {
   "cell_type": "code",
   "execution_count": null,
   "id": "997c5964-1911-4354-9e51-bfb3e1168b75",
   "metadata": {},
   "outputs": [],
   "source": [
    "14-12"
   ]
  },
  {
   "cell_type": "code",
   "execution_count": null,
   "id": "5cc928c5-34ee-419f-9d8e-664396ed63ab",
   "metadata": {},
   "outputs": [],
   "source": []
  },
  {
   "cell_type": "markdown",
   "id": "7b6bb8f4-fd9b-4366-b8e8-6d76a6d66068",
   "metadata": {},
   "source": [
    "# Comparision//Relational operator"
   ]
  },
  {
   "cell_type": "raw",
   "id": "2c2165a7-651a-4a40-ac17-8c1b720c78e9",
   "metadata": {},
   "source": [
    "| Operator | Name                       | Example   |\n",
    "|----------|----------------------------|-----------|\n",
    "| `==`     | Equal                      | `x == y`  |\n",
    "| `!=`     | Not equal                  | `x != y`  |\n",
    "| `>`      | Greater than               | `x > y`   |\n",
    "| `<`      | Less than                  | `x < y`   |\n",
    "| `>=`     | Greater than or equal to   | `x >= y`  |\n",
    "| `<=`     | Less than or equal to      | `x <= y`  |\n"
   ]
  },
  {
   "cell_type": "code",
   "execution_count": null,
   "id": "62fa034a-63d1-4f0b-8276-b3ef92c9a4bb",
   "metadata": {},
   "outputs": [],
   "source": []
  },
  {
   "cell_type": "code",
   "execution_count": 11,
   "id": "1c323802",
   "metadata": {},
   "outputs": [
    {
     "name": "stdout",
     "output_type": "stream",
     "text": [
      "True\n"
     ]
    }
   ],
   "source": [
    "'''Equal to (==): Checks if two operands are equal.'''\n",
    "\n",
    "x = 5\n",
    "y = 5\n",
    "\n",
    "print(x == y)\n"
   ]
  },
  {
   "cell_type": "code",
   "execution_count": 12,
   "id": "14d1ca92",
   "metadata": {},
   "outputs": [
    {
     "data": {
      "text/plain": [
       "True"
      ]
     },
     "execution_count": 12,
     "metadata": {},
     "output_type": "execute_result"
    }
   ],
   "source": [
    "'''Not equal to (!=): Checks if two operands are not equal.'''\n",
    "x = 5\n",
    "y = 6\n",
    "\n",
    "x != y\n"
   ]
  },
  {
   "cell_type": "code",
   "execution_count": 6,
   "id": "911193a9",
   "metadata": {},
   "outputs": [
    {
     "name": "stdout",
     "output_type": "stream",
     "text": [
      "True\n",
      "False\n"
     ]
    }
   ],
   "source": [
    "''' Greater than (>): Checks if the left operand is greater than the right.'''\n",
    "x = 17\n",
    "y = 10\n",
    "a = 10\n",
    "b = 11\n",
    "print(x > y) \n",
    "print(a > b) \n"
   ]
  },
  {
   "cell_type": "code",
   "execution_count": null,
   "id": "ce4ff7e9",
   "metadata": {},
   "outputs": [],
   "source": [
    "'''Less than (<): Checks if the left operand is less than the right.'''\n",
    "\n",
    "x = 4\n",
    "y = 5\n",
    "\n",
    "\n",
    "print(x < y)\n",
    "\n"
   ]
  },
  {
   "cell_type": "code",
   "execution_count": null,
   "id": "53a820b3",
   "metadata": {},
   "outputs": [],
   "source": [
    "''' Greater than or equal to (>=): Checks if the left operand is greater than or equal to the right.'''\n",
    "\n",
    "x = 3\n",
    "y = 8\n",
    "\n",
    "x >= y\n"
   ]
  },
  {
   "cell_type": "code",
   "execution_count": null,
   "id": "78d01b74",
   "metadata": {},
   "outputs": [],
   "source": [
    "'''Less than or equal to (<=): Checks if the left operand is less than or equal to the right.'''\n",
    "x = 7\n",
    "y = 3\n",
    "\n",
    "x <= y\n",
    "\n"
   ]
  },
  {
   "cell_type": "markdown",
   "id": "d9165ab2-64f7-44c5-91af-d2ba9c7ee41c",
   "metadata": {},
   "source": [
    "# Assignment Operators"
   ]
  },
  {
   "cell_type": "raw",
   "id": "206a7b29-bfda-448c-a77a-78c0023d872f",
   "metadata": {},
   "source": [
    "\n",
    "| Operator | Example | Same As       |\n",
    "|----------|---------|---------------|\n",
    "| `=`      | `x = 5` | `x = 5`       |\n",
    "| `+=`     | `x += 3`| `x = x + 3`   |\n",
    "| `-=`     | `x -= 3`| `x = x - 3`   |\n",
    "| `*=`     | `x *= 3`| `x = x * 3`   |\n",
    "| `/=`     | `x /= 3`| `x = x / 3`   |\n"
   ]
  },
  {
   "cell_type": "code",
   "execution_count": null,
   "id": "9692cfcf",
   "metadata": {},
   "outputs": [],
   "source": [
    "'''Assignment (=): Assigns the value on the right to the variable on the left.'''\n",
    "x = 5 # assign\n",
    "\n",
    "print(x)\n",
    "\n"
   ]
  },
  {
   "cell_type": "code",
   "execution_count": 13,
   "id": "be76ed51",
   "metadata": {},
   "outputs": [
    {
     "name": "stdout",
     "output_type": "stream",
     "text": [
      "10\n"
     ]
    }
   ],
   "source": [
    "'''Addition Assignment (+=): Adds the value on the right to the variable on the \n",
    "left and assigns the result to the variable.'''\n",
    "x = 5\n",
    "x+=5 # is similar to x = x + 5\n",
    "\n",
    "#  = 5 + 5\n",
    "print(x)\n"
   ]
  },
  {
   "cell_type": "code",
   "execution_count": 14,
   "id": "8146b8f4",
   "metadata": {},
   "outputs": [
    {
     "name": "stdout",
     "output_type": "stream",
     "text": [
      "0\n"
     ]
    }
   ],
   "source": [
    "'''Subtraction Assignment (-=): Subtracts the value on the right from the variable on the left \n",
    "and assigns the result to the variable.'''\n",
    "x = 8\n",
    "x -= 8  # equivalent to x = x - 8\n",
    "\n",
    "print(x)\n",
    "\n"
   ]
  },
  {
   "cell_type": "code",
   "execution_count": 22,
   "id": "6ce573f0",
   "metadata": {},
   "outputs": [
    {
     "name": "stdout",
     "output_type": "stream",
     "text": [
      "100\n",
      "1000\n",
      "10000\n"
     ]
    }
   ],
   "source": [
    "'''Multiplication Assignment (*=): Multiplies the variable on \n",
    "the left by the value on the right and assigns the result to the variable.'''\n",
    "\n",
    "x = 4\n",
    "x *= 4  # equivalent to x = x * 6\n",
    "\n",
    "\n",
    "\n",
    "\n",
    "a = 10\n",
    "for i in range(0,3):\n",
    "    a = a * 10 \n",
    "    print(a)\n"
   ]
  },
  {
   "cell_type": "code",
   "execution_count": 4,
   "id": "86f04b12",
   "metadata": {},
   "outputs": [
    {
     "name": "stdout",
     "output_type": "stream",
     "text": [
      "1.0\n"
     ]
    }
   ],
   "source": [
    "'''Division Assignment (/=): Divides the variable on the left by the value on the right \n",
    "and assigns the result to the variable.'''\n",
    "x = 10\n",
    "\n",
    "x /= 10  # equivalent to x = x / 2\n",
    "\n",
    "print(x)\n"
   ]
  },
  {
   "cell_type": "markdown",
   "id": "e53a30e6",
   "metadata": {},
   "source": [
    "# Logical Operators"
   ]
  },
  {
   "cell_type": "raw",
   "id": "16c118e8-eaf3-4bc1-a092-32cb09fdc003",
   "metadata": {},
   "source": [
    "| Operator | Description                                     | Example            |\n",
    "|----------|-------------------------------------------------|--------------------|\n",
    "| `and`    | Returns True if both statements are true        | `x < 5 and x < 10` |\n",
    "| `or`     | Returns True if one of the statements is true   | `x < 5 or x < 4`   |\n"
   ]
  },
  {
   "cell_type": "code",
   "execution_count": 8,
   "id": "3deecf30",
   "metadata": {},
   "outputs": [
    {
     "name": "stdout",
     "output_type": "stream",
     "text": [
      "False\n"
     ]
    }
   ],
   "source": [
    "'''Logical AND (and): Returns True if both operands are True.'''\n",
    "# True and True = True\n",
    "# True and False = False\n",
    "# False and True = False\n",
    "# False and False = False\n",
    "\n",
    "\n",
    "result = (5 > 15) and (15 > 20)  # result is True\n",
    "#         False    and False            \n",
    "\n",
    "print(result)\n"
   ]
  },
  {
   "cell_type": "code",
   "execution_count": 11,
   "id": "bb3b648c",
   "metadata": {},
   "outputs": [
    {
     "name": "stdout",
     "output_type": "stream",
     "text": [
      "True\n"
     ]
    }
   ],
   "source": [
    "'''Logical OR (or): Returns True if at least one of the operands is True.'''\n",
    "# True or True = True\n",
    "# True or False = True\n",
    "# False or True = True\n",
    "# False 0r False = False\n",
    "\n",
    "\n",
    "result = (5 > 4) or (117 > 20)  \n",
    "#          True  or   True\n",
    "\n",
    "print(result)\n"
   ]
  },
  {
   "cell_type": "code",
   "execution_count": 23,
   "id": "77751f01",
   "metadata": {},
   "outputs": [
    {
     "name": "stdout",
     "output_type": "stream",
     "text": [
      "False\n"
     ]
    }
   ],
   "source": [
    "'''Logical NOT (not): Returns the opposite of the operand's truth value.'''\n",
    "\n",
    "\n",
    "result = not(-1 < 0)  # result is True\n",
    "\n",
    "\n",
    "print(result)"
   ]
  },
  {
   "cell_type": "markdown",
   "id": "a8bd5c8f",
   "metadata": {},
   "source": [
    "# Identity Operators"
   ]
  },
  {
   "cell_type": "raw",
   "id": "94406e2e-1be9-44ef-8fd0-7e880309e4fa",
   "metadata": {},
   "source": [
    "| Operator | Description                                                                       | Example      |\n",
    "|----------|-----------------------------------------------------------------------------------|--------------|\n",
    "| `in`     | Returns True if a sequence with the specified value is present in the object      | `x in y`     |\n",
    "| `not in` | Returns True if a sequence with the specified value is not present in the object  | `x not in y` |\n"
   ]
  },
  {
   "cell_type": "code",
   "execution_count": 26,
   "id": "30427fb2",
   "metadata": {},
   "outputs": [
    {
     "name": "stdout",
     "output_type": "stream",
     "text": [
      "False\n"
     ]
    }
   ],
   "source": [
    "'''is: Returns True if both operands refer to the same object.'''\n",
    "\n",
    "x = 'Sunil'\n",
    "y = 'Sunil'\n",
    "\n",
    "result1 = x is not y  # result1 is False (x and y are different objects)\n",
    "\n",
    "print(result1)\n"
   ]
  },
  {
   "cell_type": "code",
   "execution_count": 27,
   "id": "7d1f4abc-c6ca-4a55-905f-4dadc0d45778",
   "metadata": {},
   "outputs": [
    {
     "name": "stdout",
     "output_type": "stream",
     "text": [
      "False\n"
     ]
    }
   ],
   "source": [
    "result1 = x != y  # result1 is False (x and y are different objects)\n",
    "\n",
    "print(result1)\n"
   ]
  },
  {
   "cell_type": "code",
   "execution_count": 15,
   "id": "33f36cdd",
   "metadata": {},
   "outputs": [
    {
     "name": "stdout",
     "output_type": "stream",
     "text": [
      "True\n"
     ]
    }
   ],
   "source": [
    "'''is not: Returns True if both operands do not refer to the same object.'''\n",
    "\n",
    "x = 'Sunil'\n",
    "y = 'Rajesh'\n",
    "\n",
    "result1 = x is not y  # result1 is False (x and y are different objects)\n",
    "\n",
    "print(result1)\n"
   ]
  },
  {
   "cell_type": "markdown",
   "id": "51df14a7",
   "metadata": {},
   "source": [
    "# Membership Operators"
   ]
  },
  {
   "cell_type": "raw",
   "id": "9056fdcb-aab4-4903-9a03-a80b6804c57f",
   "metadata": {},
   "source": [
    "| Operator | Description                                              | Example      |\n",
    "|----------|----------------------------------------------------------|--------------|\n",
    "| `is`     | Returns True if both variables are the same object       | `x is y`     |\n",
    "| `is not` | Returns True if both variables are not the same object   | `x is not y` |\n"
   ]
  },
  {
   "cell_type": "code",
   "execution_count": 31,
   "id": "5f08522d",
   "metadata": {},
   "outputs": [
    {
     "data": {
      "text/plain": [
       "False"
      ]
     },
     "execution_count": 31,
     "metadata": {},
     "output_type": "execute_result"
    }
   ],
   "source": [
    "'''in: Returns True if the value is found in the sequence.'''\n",
    "\n",
    "x = \"this is python class\"\n",
    "\n",
    "\"python\" in x\n",
    "\n"
   ]
  },
  {
   "cell_type": "code",
   "execution_count": 32,
   "id": "db9ff302",
   "metadata": {},
   "outputs": [
    {
     "data": {
      "text/plain": [
       "False"
      ]
     },
     "execution_count": 32,
     "metadata": {},
     "output_type": "execute_result"
    }
   ],
   "source": [
    "list1 = [\"a\",\"b\",\"c\"]\n",
    "\n",
    "\"z\" in list1\n"
   ]
  },
  {
   "cell_type": "code",
   "execution_count": 21,
   "id": "7a0c3c64",
   "metadata": {},
   "outputs": [
    {
     "data": {
      "text/plain": [
       "True"
      ]
     },
     "execution_count": 21,
     "metadata": {},
     "output_type": "execute_result"
    }
   ],
   "source": [
    "'''not in: Returns True if the value is not found in the sequence.'''\n",
    "\n",
    "x = \"this is python class\"\n",
    "\n",
    "\"rajesh\" not in x\n",
    "\n"
   ]
  },
  {
   "cell_type": "code",
   "execution_count": 37,
   "id": "63c025cc",
   "metadata": {},
   "outputs": [
    {
     "name": "stdout",
     "output_type": "stream",
     "text": [
      "{1: 2, 3: 4, 6: 7}\n"
     ]
    },
    {
     "data": {
      "text/plain": [
       "True"
      ]
     },
     "execution_count": 37,
     "metadata": {},
     "output_type": "execute_result"
    }
   ],
   "source": [
    "abc = {1:2,3:4,6:7}\n",
    "\n",
    "print(abc)\n",
    "\n",
    "2 in abc.values()\n"
   ]
  },
  {
   "cell_type": "code",
   "execution_count": 45,
   "id": "3f7388f7",
   "metadata": {},
   "outputs": [
    {
     "ename": "TypeError",
     "evalue": "unhashable type: 'dict'",
     "output_type": "error",
     "traceback": [
      "\u001b[1;31m---------------------------------------------------------------------------\u001b[0m",
      "\u001b[1;31mTypeError\u001b[0m                                 Traceback (most recent call last)",
      "Cell \u001b[1;32mIn[45], line 2\u001b[0m\n\u001b[0;32m      1\u001b[0m abc \u001b[38;5;241m=\u001b[39m {\u001b[38;5;241m1\u001b[39m:\u001b[38;5;241m2\u001b[39m}\n\u001b[1;32m----> 2\u001b[0m abc \u001b[38;5;129;01min\u001b[39;00m abc\n",
      "\u001b[1;31mTypeError\u001b[0m: unhashable type: 'dict'"
     ]
    }
   ],
   "source": []
  },
  {
   "cell_type": "code",
   "execution_count": null,
   "id": "313b6f57",
   "metadata": {},
   "outputs": [],
   "source": []
  },
  {
   "cell_type": "code",
   "execution_count": null,
   "id": "3afb1de0",
   "metadata": {},
   "outputs": [],
   "source": []
  },
  {
   "cell_type": "code",
   "execution_count": null,
   "id": "170c2ea5",
   "metadata": {},
   "outputs": [],
   "source": []
  },
  {
   "cell_type": "code",
   "execution_count": null,
   "id": "83ec7491",
   "metadata": {},
   "outputs": [],
   "source": []
  }
 ],
 "metadata": {
  "kernelspec": {
   "display_name": "Python 3 (ipykernel)",
   "language": "python",
   "name": "python3"
  },
  "language_info": {
   "codemirror_mode": {
    "name": "ipython",
    "version": 3
   },
   "file_extension": ".py",
   "mimetype": "text/x-python",
   "name": "python",
   "nbconvert_exporter": "python",
   "pygments_lexer": "ipython3",
   "version": "3.11.7"
  }
 },
 "nbformat": 4,
 "nbformat_minor": 5
}
