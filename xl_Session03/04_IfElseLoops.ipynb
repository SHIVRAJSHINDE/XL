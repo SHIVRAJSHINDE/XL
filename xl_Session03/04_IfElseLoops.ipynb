{
 "cells": [
  {
   "cell_type": "code",
   "execution_count": 1,
   "id": "f2dae646",
   "metadata": {},
   "outputs": [
    {
     "name": "stdout",
     "output_type": "stream",
     "text": [
      "Not Infant\n"
     ]
    }
   ],
   "source": [
    "'''IF Else'''\n",
    "\"check if the age is of infant\"\n",
    "\n",
    "age = 3\n",
    "\n",
    "if age<=2:\n",
    "    print(\"Infant\")\n",
    "else:\n",
    "    print(\"Not Infant\")\n"
   ]
  },
  {
   "cell_type": "code",
   "execution_count": null,
   "id": "7792004a",
   "metadata": {},
   "outputs": [],
   "source": []
  },
  {
   "cell_type": "code",
   "execution_count": 2,
   "id": "5d2f3364",
   "metadata": {},
   "outputs": [
    {
     "name": "stdout",
     "output_type": "stream",
     "text": [
      "Its old Person\n"
     ]
    }
   ],
   "source": [
    "'''If Else'''\n",
    "\n",
    "age = 20\n",
    "\n",
    "'''\n",
    "inf <=2\n",
    "child<=12\n",
    "adult>12\n",
    "'''\n",
    "\n",
    "if age<=2:\n",
    "    print(\"infant\")\n",
    "elif age<=12:\n",
    "    print(\"Child\")\n",
    "elif age<=12:\n",
    "    print(\"Child\")\n",
    "else:\n",
    "    print(\"Its old Person\")\n"
   ]
  },
  {
   "cell_type": "code",
   "execution_count": 3,
   "id": "be8e024c",
   "metadata": {},
   "outputs": [
    {
     "name": "stdout",
     "output_type": "stream",
     "text": [
      "go home with pineapple Stall_1\n"
     ]
    }
   ],
   "source": [
    "Stall_1 = 'pineapple'\n",
    "Stall_2 = 'pineapple'\n",
    "\n",
    "\n",
    "\n",
    "\n",
    "if Stall_1 == \"pineapple\":\n",
    "    print(\"go home with pineapple Stall_1\")\n",
    "elif Stall_2 == \"pineapple\":\n",
    "    print(\"go home with pineapple Stall_2\")\n",
    "\n",
    "else:\n",
    "    print(\"pineapple Not Found\")\n",
    "\n"
   ]
  },
  {
   "cell_type": "code",
   "execution_count": 4,
   "id": "75ea0f94",
   "metadata": {},
   "outputs": [
    {
     "name": "stdout",
     "output_type": "stream",
     "text": [
      "pineapple Not found\n"
     ]
    }
   ],
   "source": [
    "'''Nested If'''\n",
    "\n",
    "\n",
    "\n",
    "Stall_1 = 'Banana'\n",
    "Stall_1_clean = \"Yes\"\n",
    "price = 130\n",
    "\n",
    "if Stall_1 == \"pineapple\": # False\n",
    "    if Stall_1_clean == \"Yes\": # False\n",
    "        if price <= 130: # False\n",
    "            print(\"Go home with pineapple : Stall_1\")\n",
    "        else:\n",
    "            print(\"pineapple are availalbe, stall clean but Price exceeds limit\")\n",
    "    else:\n",
    "        print(\"pineapple Found but Stall not clean\")\n",
    "else:\n",
    "    print(\"pineapple Not found\")\n"
   ]
  },
  {
   "cell_type": "code",
   "execution_count": 5,
   "id": "cc731476",
   "metadata": {},
   "outputs": [
    {
     "name": "stdout",
     "output_type": "stream",
     "text": [
      "Codition Not Matched\n"
     ]
    }
   ],
   "source": [
    "Stall_1 = 'pineapple'\n",
    "Stall_1_clean = \"No\"\n",
    "price = 130\n",
    "#         True                  False                           True\n",
    "if Stall_1 == \"pineapple\" and Stall_1_clean == \"Yes\" and price <= 130:\n",
    "    print(\"Go home with pineapple : Stall_1\")\n",
    "else:\n",
    "    print(\"Codition Not Matched\")\n"
   ]
  },
  {
   "cell_type": "code",
   "execution_count": 6,
   "id": "f6d57f7c",
   "metadata": {},
   "outputs": [
    {
     "name": "stdout",
     "output_type": "stream",
     "text": [
      "Go home with fruit : Stall_1\n"
     ]
    }
   ],
   "source": [
    "# bring any fruit from market\n",
    "\n",
    "Stall_1 = 'pineapple'\n",
    "Stall_1_clean = \"Yes\"\n",
    "price = 150\n",
    "#         True                 True                           False\n",
    "if Stall_1 == \"pineapple\" or Stall_1_clean == \"Yes\" or price <= 130:\n",
    "    print(\"Go home with fruit : Stall_1\")\n",
    "else:\n",
    "    print(\"Codition Not Matched\")\n"
   ]
  },
  {
   "cell_type": "code",
   "execution_count": null,
   "id": "d2bb1bff",
   "metadata": {},
   "outputs": [],
   "source": []
  },
  {
   "cell_type": "code",
   "execution_count": null,
   "id": "9f631329",
   "metadata": {},
   "outputs": [],
   "source": []
  },
  {
   "cell_type": "code",
   "execution_count": 7,
   "id": "8c8d42c0",
   "metadata": {},
   "outputs": [
    {
     "name": "stdout",
     "output_type": "stream",
     "text": [
      "No stall found has pineapple\n"
     ]
    }
   ],
   "source": [
    "# bring pineapple if store clean\n",
    "\n",
    "Stall_1 = 'banana'\n",
    "Stall_1_clean = \"Yes\"\n",
    "\n",
    "Stall_2 = \"banana\"\n",
    "Stall_2_clean = \"Yes\"\n",
    "\n",
    "Stall_3 = \"apple\"\n",
    "Stall_3_clean = \"Yes\"\n",
    "\n",
    "if Stall_1 == \"pineapple\" and Stall_1_clean == \"Yes\": \n",
    "    print(\"Go home with pineapple from Stall_1\")\n",
    "elif Stall_2 == \"pineapple\" and Stall_2_clean == \"Yes\": \n",
    "    print(\"Go home with pineapple from Stall_2\")\n",
    "elif Stall_3 == \"pineapple\" and Stall_3_clean == \"Yes\": \n",
    "    print(\"Go home with pineapple from Stall_3\")\n",
    "else:\n",
    "    print(\"No stall found has pineapple\")\n"
   ]
  },
  {
   "cell_type": "code",
   "execution_count": 8,
   "id": "c7063c27",
   "metadata": {},
   "outputs": [
    {
     "name": "stdout",
     "output_type": "stream",
     "text": [
      "Pineapple not found or conditions not met for any stall\n"
     ]
    }
   ],
   "source": [
    "# Stall 1\n",
    "Stall_1 = 'banana'\n",
    "Stall_1_clean = \"NO\"\n",
    "price_1 = 150\n",
    "\n",
    "# Stall 2\n",
    "Stall_2 = 'banana'\n",
    "Stall_2_clean = \"NO\"\n",
    "price_2 = 130\n",
    "\n",
    "# Stall 3\n",
    "Stall_3 = 'banana'\n",
    "Stall_3_clean = \"Yes\"\n",
    "price_3 = 130\n",
    "\n",
    "if Stall_1 == \"pineapple\" and Stall_1_clean == \"Yes\" and price_1 <= 130:\n",
    "    print(\"Go home with pineapple from Stall_1\")\n",
    "elif Stall_2 == \"pineapple\" and Stall_2_clean == \"Yes\" and price_2 <= 130:\n",
    "    print(\"Go home with pineapple from Stall_2\")\n",
    "elif Stall_3 == \"pineapple\" and Stall_3_clean == \"Yes\" and price_3 <= 130:\n",
    "    print(\"Go home with pineapple from Stall_3\")\n",
    "\n",
    "else:\n",
    "    print(\"Pineapple not found or conditions not met for any stall\")\n",
    "\n"
   ]
  },
  {
   "cell_type": "code",
   "execution_count": 9,
   "id": "c5b90382-eaa2-4389-b5e0-b3d45a7fb8d5",
   "metadata": {},
   "outputs": [
    {
     "name": "stdout",
     "output_type": "stream",
     "text": [
      "Go Home with pineapples\n"
     ]
    }
   ],
   "source": [
    "Stall_1 = 'pineapple'\n",
    "Stall_2 = 'banana'\n",
    "Stall_3 = 'apple'\n",
    "\n",
    "if Stall_1 == \"pineapple\" or Stall_2 == \"pineapple\" or Stall_3 == \"pineapple\":\n",
    "    print(\"Go Home with pineapples\")\n",
    "else:\n",
    "    print(\"Pineapple not found\")\n"
   ]
  },
  {
   "cell_type": "code",
   "execution_count": 10,
   "id": "16091398",
   "metadata": {},
   "outputs": [
    {
     "name": "stdout",
     "output_type": "stream",
     "text": [
      "0\n",
      "1\n",
      "2\n",
      "3\n",
      "4\n",
      "5\n",
      "6\n",
      "7\n",
      "8\n",
      "9\n",
      "10\n"
     ]
    }
   ],
   "source": [
    "i = 0\n",
    "\n",
    "\n",
    "while i<=10:\n",
    "    print(i)\n",
    "    i=i+1\n",
    "    "
   ]
  },
  {
   "cell_type": "code",
   "execution_count": 11,
   "id": "6c15a313-55fe-4e15-8665-29611ae63593",
   "metadata": {},
   "outputs": [
    {
     "name": "stdout",
     "output_type": "stream",
     "text": [
      "0\n",
      "1\n",
      "2\n",
      "3\n",
      "4\n",
      "5\n",
      "6\n",
      "7\n",
      "8\n",
      "9\n"
     ]
    }
   ],
   "source": [
    "for i in range(0,10):\n",
    "    print(i)\n"
   ]
  },
  {
   "cell_type": "code",
   "execution_count": 12,
   "id": "be6f9075",
   "metadata": {},
   "outputs": [
    {
     "name": "stdout",
     "output_type": "stream",
     "text": [
      "1\n",
      "2\n",
      "3\n",
      "4\n",
      "5\n",
      "6\n",
      "7\n",
      "8\n"
     ]
    }
   ],
   "source": [
    "'''For Loops'''\n",
    "\n",
    "fruits = [\"apple\", \"banana\", \"cherry\",\"kiwi\"]\n",
    "numbers1 = [1,2,3,4,5,6,7,8]\n",
    "\n",
    "for i in numbers1:\n",
    "    print(i)\n"
   ]
  },
  {
   "cell_type": "code",
   "execution_count": 13,
   "id": "2240d1d8-fe85-481e-85f2-a1dcf47e1529",
   "metadata": {},
   "outputs": [
    {
     "name": "stdout",
     "output_type": "stream",
     "text": [
      "1\n",
      "2\n",
      "3\n",
      "4\n",
      "5\n",
      "6\n",
      "7\n",
      "8\n"
     ]
    }
   ],
   "source": [
    "for i in numbers1:\n",
    "    print(i)\n"
   ]
  },
  {
   "cell_type": "code",
   "execution_count": 14,
   "id": "6b9d0904",
   "metadata": {},
   "outputs": [
    {
     "name": "stdout",
     "output_type": "stream",
     "text": [
      "0\n",
      "1\n",
      "2\n",
      "3\n",
      "4\n"
     ]
    }
   ],
   "source": [
    "range1 = range(0,5)\n",
    "\n",
    "for x in range1:\n",
    "  print(x)\n"
   ]
  },
  {
   "cell_type": "code",
   "execution_count": 15,
   "id": "8870eb9e",
   "metadata": {},
   "outputs": [
    {
     "name": "stdout",
     "output_type": "stream",
     "text": [
      "a\n",
      "s\n",
      "h\n",
      "o\n",
      "k\n"
     ]
    }
   ],
   "source": [
    "\n",
    "\n",
    "for i in \"ashok\":\n",
    "    print(i)\n",
    "    "
   ]
  },
  {
   "cell_type": "code",
   "execution_count": null,
   "id": "1025572b",
   "metadata": {},
   "outputs": [],
   "source": []
  },
  {
   "cell_type": "code",
   "execution_count": null,
   "id": "b185c797-72fb-4332-9e6a-9447299124ed",
   "metadata": {},
   "outputs": [],
   "source": []
  },
  {
   "cell_type": "code",
   "execution_count": 16,
   "id": "78080543",
   "metadata": {},
   "outputs": [
    {
     "ename": "SyntaxError",
     "evalue": "invalid syntax (649178564.py, line 10)",
     "output_type": "error",
     "traceback": [
      "\u001b[1;36m  Cell \u001b[1;32mIn[16], line 10\u001b[1;36m\u001b[0m\n\u001b[1;33m    Red Apple\u001b[0m\n\u001b[1;37m        ^\u001b[0m\n\u001b[1;31mSyntaxError\u001b[0m\u001b[1;31m:\u001b[0m invalid syntax\n"
     ]
    }
   ],
   "source": [
    "'''Nested Loop'''\n",
    "\n",
    "adj = [\"Red\", \"Yellow\", \"LightGreen\"]\n",
    "fruits = [\"Apple\", \"Banana\", \"Grapes\"]\n",
    "\n",
    "for i in adj: \n",
    "    for j in fruits:\n",
    "        print(i,j)\n",
    "\n",
    "Red Apple\n",
    "Red Banana\n",
    "Red Grapes\n",
    "Yellow  Apple\n",
    "Yellow  Banana\n",
    "Yellow  Grapes\n",
    "LightGreen Apple\n",
    "LightGreen Banana\n",
    "LightGreen Grapes"
   ]
  },
  {
   "cell_type": "code",
   "execution_count": null,
   "id": "3ca4e840-5166-4ee2-b97f-e3e8d5dc271d",
   "metadata": {},
   "outputs": [],
   "source": [
    "firstList = [3, 2, 1]\n",
    "secondList = [1, 2, 3]\n",
    "\n",
    "for i in firstList:\n",
    "    for j in secondList:\n",
    "        print(i,j)\n",
    "        "
   ]
  },
  {
   "cell_type": "code",
   "execution_count": null,
   "id": "746c4755",
   "metadata": {},
   "outputs": [],
   "source": [
    "# Print only matching Values\n",
    "\n",
    "firstList = [3, 2, 1]\n",
    "secondList = [1, 2, 3]\n",
    "\n",
    "for i in firstList:\n",
    "    for j in secondList:\n",
    "        if i == j:\n",
    "            print(i,j,\" Match\")\n",
    "        else:\n",
    "            print(i,j,\" Not Match\")"
   ]
  },
  {
   "cell_type": "code",
   "execution_count": null,
   "id": "e263f552",
   "metadata": {},
   "outputs": [],
   "source": []
  },
  {
   "cell_type": "code",
   "execution_count": null,
   "id": "ad1a5aa7",
   "metadata": {},
   "outputs": [],
   "source": []
  },
  {
   "cell_type": "code",
   "execution_count": null,
   "id": "970638ba",
   "metadata": {},
   "outputs": [],
   "source": []
  },
  {
   "cell_type": "code",
   "execution_count": null,
   "id": "823a6f45",
   "metadata": {},
   "outputs": [],
   "source": [
    "\n",
    "'''print below pattern'''\n",
    "'''\n",
    "1 2 3 4 5 6 \n",
    "1 2 3 4 5 6 \n",
    "1 2 3 4 5 6 \n",
    "1 2 3 4 5 6 \n",
    "1 2 3 4 5 6 \n",
    "1 2 3 4 5 6    \n",
    "'''"
   ]
  },
  {
   "cell_type": "code",
   "execution_count": null,
   "id": "caa8d103-b0fc-4ab5-bfa1-378687c154d5",
   "metadata": {},
   "outputs": [],
   "source": [
    "for j in range(1,7):\n",
    "    for i in range(1,7):\n",
    "        print(i,end=\" \")\n",
    "    print()\n",
    "\n"
   ]
  },
  {
   "cell_type": "code",
   "execution_count": null,
   "id": "1eb6b164",
   "metadata": {},
   "outputs": [],
   "source": [
    "for i in range(1,7):\n",
    "    for j in range(1,7):\n",
    "        print(j,end=\" \")\n",
    "    print()\n",
    "    \n"
   ]
  },
  {
   "cell_type": "code",
   "execution_count": null,
   "id": "c27aa0e8-f999-4fa3-a021-b07d00c5292f",
   "metadata": {},
   "outputs": [],
   "source": []
  },
  {
   "cell_type": "code",
   "execution_count": null,
   "id": "b78eb45b-71d6-4039-9597-775e633341de",
   "metadata": {},
   "outputs": [],
   "source": [
    "for i in range(1,7):\n",
    "    for j in range(1,7):\n",
    "        print(\"$\",end=\" \")\n",
    "    print()\n"
   ]
  },
  {
   "cell_type": "code",
   "execution_count": null,
   "id": "855cc710",
   "metadata": {},
   "outputs": [],
   "source": [
    "for i in range(1,7):\n",
    "    for j in range(1,7):\n",
    "        print(\"*\",end=\" \")\n",
    "    print()\n"
   ]
  },
  {
   "cell_type": "code",
   "execution_count": null,
   "id": "2abf43f9",
   "metadata": {},
   "outputs": [],
   "source": [
    "'''\n",
    "* * * * * * \n",
    "* * * * * * \n",
    "* * * * * * \n",
    "* * * * * * \n",
    "* * * * * * \n",
    "* * * * * *    '''"
   ]
  },
  {
   "cell_type": "code",
   "execution_count": null,
   "id": "658777be",
   "metadata": {},
   "outputs": [],
   "source": [
    "for i in range(1,7):\n",
    "    for j in range(1,7):\n",
    "        print(\"*\",end=\" \")\n",
    "    print()\n",
    "    "
   ]
  },
  {
   "cell_type": "code",
   "execution_count": 20,
   "id": "db005bc7",
   "metadata": {},
   "outputs": [
    {
     "name": "stdout",
     "output_type": "stream",
     "text": [
      "* * * * * * \n",
      "* * * * * * \n",
      "* * * * * * \n",
      "* * * * * * \n",
      "* * * * * * \n",
      "* * * * * * \n"
     ]
    }
   ],
   "source": [
    "for i in range(1,7):\n",
    "    for j in range(1,7):\n",
    "        print(\"*\",end=\" \")\n",
    "    print()\n",
    "    "
   ]
  },
  {
   "cell_type": "code",
   "execution_count": null,
   "id": "f8388941",
   "metadata": {},
   "outputs": [],
   "source": [
    "\n",
    "\n",
    "'''\n",
    "* \n",
    "* * \n",
    "* * * \n",
    "* * * * \n",
    "* * * * *    \n",
    "'''\n",
    "\n"
   ]
  },
  {
   "cell_type": "code",
   "execution_count": 19,
   "id": "565f2ce7-9325-4e06-8001-116c537ae294",
   "metadata": {},
   "outputs": [
    {
     "name": "stdout",
     "output_type": "stream",
     "text": [
      "* \n",
      "* * \n",
      "* * * \n",
      "* * * * \n",
      "* * * * * "
     ]
    }
   ],
   "source": [
    "for j in range(1,2):\n",
    "    print(\"*\",end=\" \")\n",
    "print()\n",
    "for j in range(1,3):\n",
    "    print(\"*\",end=\" \")\n",
    "print()\n",
    "for j in range(1,4):\n",
    "    print(\"*\",end=\" \")\n",
    "print()\n",
    "for j in range(1,5):\n",
    "    print(\"*\",end=\" \")\n",
    "print()\n",
    "for j in range(1,6):\n",
    "    print(\"*\",end=\" \")"
   ]
  },
  {
   "cell_type": "code",
   "execution_count": 24,
   "id": "f93ad808-4c4b-4cd9-ace8-5f3607737472",
   "metadata": {},
   "outputs": [
    {
     "name": "stdout",
     "output_type": "stream",
     "text": [
      "\n",
      "* \n",
      "* * \n",
      "* * * \n",
      "* * * * \n",
      "* * * * * \n"
     ]
    }
   ],
   "source": [
    "\n",
    "for i in range(1,7):\n",
    "    for j in range(1,i):\n",
    "        print(\"*\",end=\" \")\n",
    "    print()\n",
    "\n",
    "\n"
   ]
  },
  {
   "cell_type": "code",
   "execution_count": null,
   "id": "415019f8",
   "metadata": {},
   "outputs": [],
   "source": [
    "'''Nested Loop'''\n",
    "for i in range(1,7):\n",
    "    for j in range(1,i):\n",
    "        print(\"*\",end=\" \")\n",
    "    print()"
   ]
  },
  {
   "cell_type": "code",
   "execution_count": null,
   "id": "b9cffe41",
   "metadata": {},
   "outputs": [],
   "source": []
  },
  {
   "cell_type": "code",
   "execution_count": null,
   "id": "07a2aeda",
   "metadata": {},
   "outputs": [],
   "source": [
    "for i in range(1,7):\n",
    "    for j in range(1,i):\n",
    "        print(\"*\",end=\" \")\n",
    "    print()"
   ]
  },
  {
   "cell_type": "code",
   "execution_count": null,
   "id": "2af2cfbf",
   "metadata": {},
   "outputs": [],
   "source": []
  },
  {
   "cell_type": "code",
   "execution_count": null,
   "id": "1287796a",
   "metadata": {},
   "outputs": [],
   "source": [
    "'''\n",
    "* * * * * * * * * \n",
    "* * * * * * * * \n",
    "* * * * * * * \n",
    "* * * * * * \n",
    "* * * * * \n",
    "* * * * \n",
    "* * * \n",
    "* * \n",
    "* '''"
   ]
  },
  {
   "cell_type": "code",
   "execution_count": 25,
   "id": "975069fe-a894-4d80-ad7b-e55b0ec9b670",
   "metadata": {},
   "outputs": [
    {
     "name": "stdout",
     "output_type": "stream",
     "text": [
      "* * * * * * \n",
      "* * * * * \n",
      "* * * * \n",
      "* * * \n",
      "* * \n",
      "* "
     ]
    }
   ],
   "source": [
    "for j in range(1,7): \n",
    "    print(\"*\",end=\" \")\n",
    "print()\n",
    "for j in range(2,7): 5\n",
    "    print(\"*\",end=\" \")\n",
    "print()\n",
    "for j in range(3,7): \n",
    "    print(\"*\",end=\" \")\n",
    "print()\n",
    "for j in range(4,7):\n",
    "    print(\"*\",end=\" \")\n",
    "print()\n",
    "for j in range(5,7):\n",
    "    print(\"*\",end=\" \")\n",
    "print()\n",
    "for j in range(6,7):\n",
    "    print(\"*\",end=\" \")"
   ]
  },
  {
   "cell_type": "code",
   "execution_count": 26,
   "id": "e8cb4698-5970-457e-81cf-a54d6074740f",
   "metadata": {},
   "outputs": [
    {
     "name": "stdout",
     "output_type": "stream",
     "text": [
      "* * * * * * \n",
      "* * * * * \n",
      "* * * * \n",
      "* * * \n",
      "* * \n",
      "* \n"
     ]
    }
   ],
   "source": [
    "for i in range(1,7):\n",
    "    for j in range(i,7): \n",
    "        print(\"*\",end=\" \")\n",
    "    print()"
   ]
  },
  {
   "cell_type": "code",
   "execution_count": null,
   "id": "7c8629dc",
   "metadata": {},
   "outputs": [],
   "source": [
    "for i in range(1,7):\n",
    "    for j in range(i,7):\n",
    "        print(\"*\",end=\" \")\n",
    "    print()"
   ]
  },
  {
   "cell_type": "code",
   "execution_count": 28,
   "id": "0d08eaf2",
   "metadata": {},
   "outputs": [
    {
     "name": "stdout",
     "output_type": "stream",
     "text": [
      "\n",
      "\n",
      "\n",
      "\n",
      "\n",
      "\n"
     ]
    }
   ],
   "source": []
  },
  {
   "cell_type": "code",
   "execution_count": 29,
   "id": "3200ca31",
   "metadata": {},
   "outputs": [
    {
     "name": "stdout",
     "output_type": "stream",
     "text": [
      "* * * * * \n",
      "* * * * \n",
      "* * * \n",
      "* * \n",
      "* \n",
      "\n"
     ]
    }
   ],
   "source": [
    "\n",
    "for i in range(1,7):\n",
    "    k = 7-i\n",
    "    for j in range(1,k):\n",
    "        print(\"*\",end=\" \")\n",
    "    print()\n",
    "\n"
   ]
  },
  {
   "cell_type": "code",
   "execution_count": 31,
   "id": "e41d523c",
   "metadata": {},
   "outputs": [
    {
     "name": "stdout",
     "output_type": "stream",
     "text": [
      "0\n",
      "1\n",
      "2\n"
     ]
    }
   ],
   "source": [
    "'''break Statement'''\n",
    "''' break statement immediately terminates the loop'''\n",
    "\n",
    "for i in range(6):\n",
    "    if i==3:\n",
    "        break\n",
    "    \n",
    "    print(i)\n",
    "    "
   ]
  },
  {
   "cell_type": "code",
   "execution_count": null,
   "id": "cc1ec963",
   "metadata": {},
   "outputs": [],
   "source": [
    "'''Continue'''\n",
    "'''continue statement skips and jump to the rest iteration of the loop '''\n",
    "\n",
    "for i in range(6):\n",
    "    if i == 3:\n",
    "        continue\n",
    "    print(i)\n",
    "    "
   ]
  },
  {
   "cell_type": "code",
   "execution_count": null,
   "id": "304eb1cc",
   "metadata": {},
   "outputs": [],
   "source": []
  },
  {
   "cell_type": "code",
   "execution_count": null,
   "id": "de1edcb6",
   "metadata": {},
   "outputs": [],
   "source": []
  },
  {
   "cell_type": "code",
   "execution_count": null,
   "id": "e858d99a",
   "metadata": {},
   "outputs": [],
   "source": []
  },
  {
   "cell_type": "code",
   "execution_count": null,
   "id": "9e88b08d",
   "metadata": {},
   "outputs": [],
   "source": []
  },
  {
   "cell_type": "code",
   "execution_count": null,
   "id": "07f1c64c",
   "metadata": {},
   "outputs": [],
   "source": []
  }
 ],
 "metadata": {
  "kernelspec": {
   "display_name": "Python 3 (ipykernel)",
   "language": "python",
   "name": "python3"
  },
  "language_info": {
   "codemirror_mode": {
    "name": "ipython",
    "version": 3
   },
   "file_extension": ".py",
   "mimetype": "text/x-python",
   "name": "python",
   "nbconvert_exporter": "python",
   "pygments_lexer": "ipython3",
   "version": "3.11.7"
  }
 },
 "nbformat": 4,
 "nbformat_minor": 5
}
