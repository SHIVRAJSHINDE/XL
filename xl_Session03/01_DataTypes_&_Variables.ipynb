{
 "cells": [
  {
   "cell_type": "markdown",
   "id": "4bcd73cb",
   "metadata": {},
   "source": [
    "# Different type of Data Type"
   ]
  },
  {
   "cell_type": "code",
   "execution_count": null,
   "id": "591fd764",
   "metadata": {},
   "outputs": [],
   "source": [
    "\n",
    "\n",
    "abc = 10\n",
    "print(abc)\n",
    "type(abc)\n"
   ]
  },
  {
   "cell_type": "code",
   "execution_count": null,
   "id": "6ebb090f-6415-4420-950e-10dbee5aaa40",
   "metadata": {},
   "outputs": [],
   "source": [
    "\n",
    "# float\n",
    "abcFloat =  4.5\n",
    "abcFloat\n",
    "type(abcFloat)\n"
   ]
  },
  {
   "cell_type": "code",
   "execution_count": null,
   "id": "cc221d62-afee-43a4-961d-0de75ab1a6df",
   "metadata": {},
   "outputs": [],
   "source": [
    "# boolean Type\n",
    "\n",
    "abcBool = True\n",
    "print(abcBool)\n",
    "type(abcBool)\n"
   ]
  },
  {
   "cell_type": "code",
   "execution_count": null,
   "id": "bbc24254-860f-4c46-a7a6-ce50c36b31b6",
   "metadata": {},
   "outputs": [],
   "source": [
    "# complex Type\n",
    "x = 6+9j\n",
    "\n",
    "print(x)\n",
    "type(x)\n"
   ]
  },
  {
   "cell_type": "code",
   "execution_count": null,
   "id": "8d899073-4bfd-4cb2-b6c2-d235e706f818",
   "metadata": {},
   "outputs": [],
   "source": [
    "'''Sequence Type'''\n",
    "\n",
    "String, List, Tupple\n",
    "\n",
    " "
   ]
  },
  {
   "cell_type": "code",
   "execution_count": null,
   "id": "e9906edb-abf5-4455-8d2e-d825ac690bbc",
   "metadata": {},
   "outputs": [],
   "source": [
    "abc  = \"Amol\"\n",
    "#       0123\n",
    "abc[0]\n",
    "\n",
    "for i in abc:\n",
    "    print(i)\n"
   ]
  },
  {
   "cell_type": "code",
   "execution_count": null,
   "id": "f57fb873-c052-47f4-8cfc-92d9c450a035",
   "metadata": {},
   "outputs": [],
   "source": [
    "#String\n",
    "abc = \"AMol\"\n",
    "type(abc)\n",
    "abc[1]\n",
    "\n",
    "for i in abc:\n",
    "    print(i)\n",
    "    "
   ]
  },
  {
   "cell_type": "code",
   "execution_count": null,
   "id": "36a7de25-69c0-4cd4-92b9-6b86ad671c41",
   "metadata": {},
   "outputs": [],
   "source": [
    "#\n",
    "myList = []\n",
    "print(myList)\n",
    "type(myList)\n"
   ]
  },
  {
   "cell_type": "code",
   "execution_count": null,
   "id": "7702d033-fb76-42c2-9434-c5564f026cbe",
   "metadata": {},
   "outputs": [],
   "source": [
    "list1 = [1,2,3,4]\n",
    "\n",
    "# Slicing indexing\n",
    "list1[3]\n",
    "\n"
   ]
  },
  {
   "cell_type": "code",
   "execution_count": null,
   "id": "e098f2e4-ffef-434d-b0e8-4817612c4db1",
   "metadata": {},
   "outputs": [],
   "source": [
    "# Loops on List\n",
    "for i in list1:\n",
    "    print(i)\n",
    "    "
   ]
  },
  {
   "cell_type": "code",
   "execution_count": null,
   "id": "0970bfbc-fd56-417c-89cc-ccd0aeda7a44",
   "metadata": {},
   "outputs": [],
   "source": [
    "range(5)\n",
    "for i in range(2,10,2):\n",
    "    print(i)\n",
    "    "
   ]
  },
  {
   "cell_type": "code",
   "execution_count": null,
   "id": "9a4ace3b-2fa2-441d-83ca-5c1432814a69",
   "metadata": {},
   "outputs": [],
   "source": [
    "range1 = range(4,11)\n",
    "print(range1[1])\n",
    "\n",
    "for i in range1:\n",
    "    print(i)\n",
    "    "
   ]
  },
  {
   "cell_type": "code",
   "execution_count": null,
   "id": "b84bd934-4056-476f-9585-d71e5e7f86ec",
   "metadata": {},
   "outputs": [],
   "source": [
    "range02 = range(2,11,2)\n",
    "for i in range02:\n",
    "    print(i)\n",
    "    "
   ]
  },
  {
   "cell_type": "code",
   "execution_count": null,
   "id": "f31d3ab6-be66-4fc5-9baa-b25e044ff275",
   "metadata": {},
   "outputs": [],
   "source": [
    "for i in range(4):\n",
    "    print(i)\n"
   ]
  },
  {
   "cell_type": "code",
   "execution_count": null,
   "id": "532b3a58-f3f6-4337-8689-9f329c9f6185",
   "metadata": {},
   "outputs": [],
   "source": [
    "tuple1 = (1,2,3,10)\n",
    "for i in tuple1:\n",
    "    print(i)\n",
    "    "
   ]
  },
  {
   "cell_type": "code",
   "execution_count": null,
   "id": "0615387f-6418-4d5d-a3cb-3d3f8da7fe0c",
   "metadata": {},
   "outputs": [],
   "source": []
  },
  {
   "cell_type": "code",
   "execution_count": null,
   "id": "38a529c8-153e-4d4a-b091-2c98fd1eff0d",
   "metadata": {},
   "outputs": [],
   "source": [
    "int, float, str, Bool, None\n"
   ]
  },
  {
   "cell_type": "code",
   "execution_count": null,
   "id": "6d694c47-5910-4bb8-aec1-b288774271a0",
   "metadata": {},
   "outputs": [],
   "source": [
    "listInt = [1,2,3,4] # int inside List\n",
    "listStr = [\"sam\",\"raj\",\"harry\"] # string inside list\n",
    "listFloat = [1.5,2.5,3.5,4.6] # float inside list\n",
    "listBool = [True,False] # bool insde list\n",
    "listNone = [None,None] # None inside list\n",
    "listMix = [1,\"sam\",3.5,True,None] # All inside list\n"
   ]
  },
  {
   "cell_type": "code",
   "execution_count": null,
   "id": "66e2fc63-3860-41a7-b052-f071f448c04d",
   "metadata": {},
   "outputs": [],
   "source": [
    "listMix = [1,\"sam\",3.5,True,None] # All inside list\n",
    "listMix[2]\n",
    "\n",
    "\n",
    "for i in listMix:\n",
    "    print(i)\n",
    "    "
   ]
  },
  {
   "cell_type": "code",
   "execution_count": null,
   "id": "0bda5b80-f1df-4782-8684-001b63597724",
   "metadata": {},
   "outputs": [],
   "source": [
    "# Tupples are Immutable"
   ]
  },
  {
   "cell_type": "code",
   "execution_count": null,
   "id": "92c67907-3d53-4692-8c0f-7e0d1ae8592a",
   "metadata": {},
   "outputs": [],
   "source": [
    "tupInt = (1,2,3,4)\n",
    "tuptStr = (\"sam\",\"raj\",\"harry\")\n",
    "tupFloat = (1.5,2.5,3.5,4.6)\n",
    "tupBool = (True,False)\n",
    "tupNone = (None,None)\n",
    "tupMix = (1,\"sam\",3.5,True,None)\n",
    "\n",
    "tupMix[1]\n"
   ]
  },
  {
   "cell_type": "code",
   "execution_count": null,
   "id": "7438d00c-63ee-4c5f-90e5-7c51fbc1deea",
   "metadata": {},
   "outputs": [],
   "source": [
    "for i in tupMix:\n",
    "    print(i)\n"
   ]
  },
  {
   "cell_type": "code",
   "execution_count": 18,
   "id": "8c6d9c5c-35dd-434f-8e72-c517a3f00f63",
   "metadata": {},
   "outputs": [
    {
     "name": "stdout",
     "output_type": "stream",
     "text": [
      "10\n"
     ]
    }
   ],
   "source": [
    "age = 10 \n",
    "\n",
    "print(age)\n"
   ]
  },
  {
   "cell_type": "code",
   "execution_count": 16,
   "id": "b4106737-6d93-434f-9429-22d83157b2d7",
   "metadata": {},
   "outputs": [
    {
     "name": "stdout",
     "output_type": "stream",
     "text": [
      "2\n",
      "5\n",
      "8\n"
     ]
    }
   ],
   "source": [
    "abc = range(2,10,3)\n",
    "for i in abc:\n",
    "    print(i)\n"
   ]
  },
  {
   "cell_type": "code",
   "execution_count": null,
   "id": "6382d7fe",
   "metadata": {},
   "outputs": [],
   "source": [
    "abc1 = range(2,10,3)\n",
    "for i in abc1:\n",
    "    print(i)\n",
    "    "
   ]
  },
  {
   "cell_type": "code",
   "execution_count": null,
   "id": "22926f31",
   "metadata": {},
   "outputs": [],
   "source": []
  },
  {
   "cell_type": "code",
   "execution_count": null,
   "id": "9904d57a",
   "metadata": {},
   "outputs": [],
   "source": []
  },
  {
   "cell_type": "code",
   "execution_count": null,
   "id": "22b652f2",
   "metadata": {},
   "outputs": [],
   "source": [
    "'''Set Type'''\n",
    "'''Only UNIQUE VALUE'''\n",
    "'''NO Order'''\n",
    "\n",
    "\n",
    "set1 = {1,3,2,2,3,4,4}\n",
    "\n",
    "set1\n"
   ]
  },
  {
   "cell_type": "code",
   "execution_count": null,
   "id": "6df23c68-6f12-43a1-a953-a222faa40c4d",
   "metadata": {},
   "outputs": [],
   "source": []
  },
  {
   "cell_type": "code",
   "execution_count": null,
   "id": "d7874e44-39a2-44a8-b95c-c846915d55df",
   "metadata": {},
   "outputs": [],
   "source": [
    "# Support to Different Data Type\n",
    "\n",
    "setInt = {1,2,3,4}\n",
    "setStr = {\"sam\",\"raj\",\"harry\"}\n",
    "setFloat = {1.5,2.5,3.5,4.6}\n",
    "setBool = {True,False}\n",
    "setNone = {None,None}\n",
    "setMix = {1,\"sam\",3.5,True,None}\n",
    "\n",
    "setMix\n"
   ]
  },
  {
   "cell_type": "code",
   "execution_count": null,
   "id": "83214e88-1382-44ce-a402-aad1fa3cdaa0",
   "metadata": {},
   "outputs": [],
   "source": [
    "setMix[1]\n"
   ]
  },
  {
   "cell_type": "code",
   "execution_count": null,
   "id": "abf194d7-845d-4dce-b262-1539a3e768ce",
   "metadata": {},
   "outputs": [],
   "source": [
    "for i in setInt:\n",
    "    print(i)\n",
    "    "
   ]
  },
  {
   "cell_type": "code",
   "execution_count": null,
   "id": "dd155830-a5b5-47a9-ba46-6e6bb2be1fd0",
   "metadata": {},
   "outputs": [],
   "source": [
    "# Mapping Type"
   ]
  },
  {
   "cell_type": "code",
   "execution_count": null,
   "id": "8de2fcab-6118-4701-a5a3-db1b6a4500a9",
   "metadata": {},
   "outputs": [],
   "source": [
    "dictOne = {'key1':'value1', 'key2':'value2'}\n",
    "dictOne\n"
   ]
  },
  {
   "cell_type": "code",
   "execution_count": null,
   "id": "d8a54656-3dda-458d-a7fe-3c97629e2f52",
   "metadata": {},
   "outputs": [],
   "source": [
    "for key,value in dictOne.items():\n",
    "    print(key,value)\n"
   ]
  },
  {
   "cell_type": "code",
   "execution_count": null,
   "id": "14100fed-ca1c-4d67-81c1-0e53cf802876",
   "metadata": {},
   "outputs": [],
   "source": [
    "# Support to the Data Types"
   ]
  },
  {
   "cell_type": "code",
   "execution_count": 1,
   "id": "4f7129fa",
   "metadata": {},
   "outputs": [
    {
     "data": {
      "text/plain": [
       "{1: 11, 2: 22}"
      ]
     },
     "execution_count": 1,
     "metadata": {},
     "output_type": "execute_result"
    }
   ],
   "source": [
    "dictTwo = {1: 11, 2: 22}\n",
    "dictTwo\n"
   ]
  },
  {
   "cell_type": "code",
   "execution_count": 2,
   "id": "20f579d7",
   "metadata": {},
   "outputs": [
    {
     "data": {
      "text/plain": [
       "{True: True, False: False}"
      ]
     },
     "execution_count": 2,
     "metadata": {},
     "output_type": "execute_result"
    }
   ],
   "source": [
    "dictThree = {True: True, False: False}\n",
    "dictThree\n"
   ]
  },
  {
   "cell_type": "code",
   "execution_count": 3,
   "id": "016fdf15-371a-4734-9339-a86a758444a2",
   "metadata": {},
   "outputs": [
    {
     "data": {
      "text/plain": [
       "{10.5: 11.5, 9.5: 12.5}"
      ]
     },
     "execution_count": 3,
     "metadata": {},
     "output_type": "execute_result"
    }
   ],
   "source": [
    "dictFour = {10.5: 11.5, 9.5: 12.5}\n",
    "dictFour\n"
   ]
  },
  {
   "cell_type": "code",
   "execution_count": 4,
   "id": "de1a2bf6-d142-4d9a-9f4a-266dc030388f",
   "metadata": {},
   "outputs": [
    {
     "data": {
      "text/plain": [
       "{None: None}"
      ]
     },
     "execution_count": 4,
     "metadata": {},
     "output_type": "execute_result"
    }
   ],
   "source": [
    "dictFive = {None: None}\n",
    "dictFive\n"
   ]
  },
  {
   "cell_type": "code",
   "execution_count": 6,
   "id": "db65e719",
   "metadata": {},
   "outputs": [
    {
     "data": {
      "text/plain": [
       "{'key1': 'Rajesh', 'key2': 'Sunil'}"
      ]
     },
     "execution_count": 6,
     "metadata": {},
     "output_type": "execute_result"
    }
   ],
   "source": [
    "'''Mapping Type'''\n",
    "'''Key Value Pair'''\n",
    "\n",
    "dictOne = {'key1': 'Sunil', 'key2': 'Sunil'}\n",
    "dictOne\n"
   ]
  },
  {
   "cell_type": "code",
   "execution_count": null,
   "id": "ec551df3-af48-42f1-8c29-e56bd6842814",
   "metadata": {},
   "outputs": [],
   "source": []
  },
  {
   "cell_type": "code",
   "execution_count": null,
   "id": "b518fea6-c8ac-4c80-bc7d-06107caf095e",
   "metadata": {},
   "outputs": [],
   "source": []
  },
  {
   "cell_type": "code",
   "execution_count": 7,
   "id": "fd8812d5",
   "metadata": {},
   "outputs": [
    {
     "data": {
      "text/plain": [
       "dict_items([('Studen1', 'Rajesh'), ('Student2', 'AMol'), ('Student3', 'Ashok')])"
      ]
     },
     "execution_count": 7,
     "metadata": {},
     "output_type": "execute_result"
    }
   ],
   "source": [
    "ditTwo = {'Studen1': \"Rajesh\",'Student2':\"AMol\",'Student3':\"Ashok\"}\n",
    "\n",
    "ditTwo.items()\n"
   ]
  },
  {
   "cell_type": "code",
   "execution_count": 8,
   "id": "406f720d-127a-482e-b3da-22aa2ff823aa",
   "metadata": {},
   "outputs": [
    {
     "name": "stdout",
     "output_type": "stream",
     "text": [
      "dict_keys(['Studen1', 'Student2', 'Student3'])\n",
      "dict_values(['Rajesh', 'AMol', 'Ashok'])\n",
      "dict_items([('key1', 'Rajesh'), ('key2', 'Sunil')])\n"
     ]
    }
   ],
   "source": [
    "print(ditTwo.keys())\n",
    "print(ditTwo.values())\n",
    "print(dictOne.items())\n"
   ]
  },
  {
   "cell_type": "code",
   "execution_count": null,
   "id": "525c4481-a4fb-4234-9273-b8d7c4ae902f",
   "metadata": {},
   "outputs": [],
   "source": []
  },
  {
   "cell_type": "code",
   "execution_count": null,
   "id": "3f9e3b13-9e2b-4e49-b3d5-1c847fbc6993",
   "metadata": {},
   "outputs": [],
   "source": []
  },
  {
   "cell_type": "code",
   "execution_count": null,
   "id": "bcbce152-d665-4503-af87-70885421427d",
   "metadata": {},
   "outputs": [],
   "source": []
  },
  {
   "cell_type": "code",
   "execution_count": null,
   "id": "4cbb5d05-0afe-44f6-92f8-0074a8204ea3",
   "metadata": {},
   "outputs": [],
   "source": []
  },
  {
   "cell_type": "code",
   "execution_count": null,
   "id": "4cfc1754-5c64-4a41-ac1b-949f34122821",
   "metadata": {},
   "outputs": [],
   "source": []
  },
  {
   "cell_type": "code",
   "execution_count": null,
   "id": "1312f19f-51ec-4982-9405-130bc9a3d396",
   "metadata": {},
   "outputs": [],
   "source": []
  },
  {
   "cell_type": "code",
   "execution_count": null,
   "id": "7aece9de-1637-4ffa-9c07-5ded7e910db8",
   "metadata": {},
   "outputs": [],
   "source": [
    "myVariableName = 10\n",
    "myVariableName\n"
   ]
  },
  {
   "cell_type": "code",
   "execution_count": null,
   "id": "c84805c5-ab2c-4938-aa31-e7584cad8ed5",
   "metadata": {},
   "outputs": [],
   "source": [
    "My_Variable_Name = 10\n",
    "My_Variable_Name"
   ]
  },
  {
   "cell_type": "code",
   "execution_count": null,
   "id": "ff04df78-4298-474f-aeac-36a20bcef236",
   "metadata": {},
   "outputs": [],
   "source": [
    "MyVariableName = 10\n",
    "MyVariableName\n"
   ]
  },
  {
   "cell_type": "code",
   "execution_count": null,
   "id": "e1f5bfc9-2808-479e-997f-b5f333d08799",
   "metadata": {},
   "outputs": [],
   "source": [
    "myVariableName_ = 10\n",
    "myVariableName_"
   ]
  },
  {
   "cell_type": "code",
   "execution_count": null,
   "id": "1f276add-5665-4df6-b941-9b8dc246ca63",
   "metadata": {},
   "outputs": [],
   "source": [
    "AGE = 10\n",
    "Age = 12\n",
    "age = 13\n",
    "\n",
    "age\n"
   ]
  },
  {
   "cell_type": "code",
   "execution_count": null,
   "id": "47a013e9-43f5-4860-ba6f-e8e2750489f6",
   "metadata": {},
   "outputs": [],
   "source": [
    "\n",
    "Account_Number = 1114\n",
    "Account_Number\n",
    "\n"
   ]
  },
  {
   "cell_type": "code",
   "execution_count": 24,
   "id": "45d960ed-1c7a-4c17-9ffe-1160bec7682e",
   "metadata": {},
   "outputs": [
    {
     "name": "stdout",
     "output_type": "stream",
     "text": [
      "10\n",
      "<class 'int'>\n",
      "10\n"
     ]
    },
    {
     "data": {
      "text/plain": [
       "str"
      ]
     },
     "execution_count": 24,
     "metadata": {},
     "output_type": "execute_result"
    }
   ],
   "source": [
    "# Casting\n",
    "# int to string\n",
    "\n",
    "abc  = 10\n",
    "print(abc)\n",
    "print(type(abc))\n",
    "abc = str(abc)\n",
    "print(abc)\n",
    "type(abc)\n"
   ]
  },
  {
   "cell_type": "code",
   "execution_count": null,
   "id": "69b43d7a-e30c-4859-b3d2-c8defe1720b9",
   "metadata": {},
   "outputs": [],
   "source": [
    "# srting to int\n",
    "\n",
    "myVariableName = \"10\"\n",
    "print(type(myVariableName))\n",
    "\n",
    "myVariableName3 = int(myVariableName)\n",
    "\n",
    "type(myVariableName3)\n"
   ]
  },
  {
   "cell_type": "code",
   "execution_count": null,
   "id": "db0820d1-6f6c-483a-8fc4-dc9987528a9d",
   "metadata": {},
   "outputs": [],
   "source": [
    "# float to int \n",
    "myVariableName = 10.5\n",
    "print(type(myVariableName))\n",
    "myVariableName4 = int(myVariableName)\n",
    "print(myVariableName4)\n",
    "type(myVariableName4)\n"
   ]
  },
  {
   "cell_type": "code",
   "execution_count": null,
   "id": "1c57fe08-0eac-4c6f-be52-197fcefc66b9",
   "metadata": {},
   "outputs": [],
   "source": [
    "# int to float \n",
    "myVariableName = 10\n",
    "print(myVariableName)\n",
    "myVariableName5 = float(myVariableName)\n",
    "myVariableName5\n",
    "print(type(myVariableName5))\n"
   ]
  },
  {
   "cell_type": "code",
   "execution_count": null,
   "id": "0c6b3cd0-1cd6-412d-bf03-bb6e1e727073",
   "metadata": {},
   "outputs": [],
   "source": [
    "listOne = [1,2,3,4,5,1,2,3,4,5]\n",
    "listOne"
   ]
  },
  {
   "cell_type": "code",
   "execution_count": null,
   "id": "306bdc1b-11bd-4295-a152-5971c7ab7b59",
   "metadata": {},
   "outputs": [],
   "source": [
    "set(listOne)"
   ]
  },
  {
   "cell_type": "code",
   "execution_count": null,
   "id": "aeeb6e1a-2f91-4abd-9204-314362048772",
   "metadata": {},
   "outputs": [],
   "source": []
  },
  {
   "cell_type": "code",
   "execution_count": null,
   "id": "3be8e4de-e482-419c-8b0a-b11797c40e10",
   "metadata": {},
   "outputs": [],
   "source": []
  },
  {
   "cell_type": "code",
   "execution_count": null,
   "id": "0885208a-b94e-4545-8b28-fc7ceb2fa722",
   "metadata": {},
   "outputs": [],
   "source": []
  },
  {
   "cell_type": "code",
   "execution_count": null,
   "id": "5f29962d-877e-4e38-8476-4af091d9219f",
   "metadata": {},
   "outputs": [],
   "source": []
  },
  {
   "cell_type": "code",
   "execution_count": null,
   "id": "75c5b788-f7e0-4cb4-9bc9-13e00737732d",
   "metadata": {},
   "outputs": [],
   "source": []
  },
  {
   "cell_type": "code",
   "execution_count": null,
   "id": "03a0d9de-c3eb-453a-b2be-9f6ea4033216",
   "metadata": {},
   "outputs": [],
   "source": []
  },
  {
   "cell_type": "code",
   "execution_count": null,
   "id": "8fba1540-09ea-4525-8fdc-75991f920df4",
   "metadata": {},
   "outputs": [],
   "source": []
  },
  {
   "cell_type": "code",
   "execution_count": null,
   "id": "465cd3d6-4dec-4e73-99be-9fd682cb0e27",
   "metadata": {},
   "outputs": [],
   "source": []
  }
 ],
 "metadata": {
  "kernelspec": {
   "display_name": "Python 3 (ipykernel)",
   "language": "python",
   "name": "python3"
  },
  "language_info": {
   "codemirror_mode": {
    "name": "ipython",
    "version": 3
   },
   "file_extension": ".py",
   "mimetype": "text/x-python",
   "name": "python",
   "nbconvert_exporter": "python",
   "pygments_lexer": "ipython3",
   "version": "3.11.7"
  }
 },
 "nbformat": 4,
 "nbformat_minor": 5
}
