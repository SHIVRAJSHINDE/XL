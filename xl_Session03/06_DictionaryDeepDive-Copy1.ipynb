{
 "cells": [
  {
   "cell_type": "code",
   "execution_count": 1,
   "id": "7f2cb9fe",
   "metadata": {},
   "outputs": [
    {
     "data": {
      "text/plain": [
       "{True: True, 2: 10, 3: 100}"
      ]
     },
     "execution_count": 1,
     "metadata": {},
     "output_type": "execute_result"
    }
   ],
   "source": [
    "'Create Dict'\n",
    "\n",
    "thisdict = {\"brand\": \"Ford\",\n",
    "            \"model\": \"Mustang\",\n",
    "            \"year\" : 1964}\n",
    "thisdict\n",
    "\n",
    "thisdict1 = {True: True,\n",
    "            2: 10,\n",
    "            3 : 100}\n",
    "thisdict1"
   ]
  },
  {
   "cell_type": "code",
   "execution_count": null,
   "id": "1c11946c",
   "metadata": {},
   "outputs": [],
   "source": []
  },
  {
   "cell_type": "code",
   "execution_count": 2,
   "id": "ad2c56aa",
   "metadata": {},
   "outputs": [
    {
     "data": {
      "text/plain": [
       "{'brand': 'Ford', 'model': 'Mustang', 'year': 1964}"
      ]
     },
     "execution_count": 2,
     "metadata": {},
     "output_type": "execute_result"
    }
   ],
   "source": [
    "'''by USING Constructor'''\n",
    "\n",
    "thisdict = dict(brand=\"Ford\", \n",
    "                model=\"Mustang\", \n",
    "                year=1964)\n",
    "thisdict\n"
   ]
  },
  {
   "cell_type": "code",
   "execution_count": 3,
   "id": "bd0aac74",
   "metadata": {},
   "outputs": [
    {
     "data": {
      "text/plain": [
       "{'NAME': 'rAJESH', 'RollNo': '050', 'Div': '4D'}"
      ]
     },
     "execution_count": 3,
     "metadata": {},
     "output_type": "execute_result"
    }
   ],
   "source": [
    "Student_Details = dict(NAME=\"rAJESH\",\n",
    "                    RollNo= \"050\",\n",
    "                    Div=\"4D\")\n",
    "Student_Details\n"
   ]
  },
  {
   "cell_type": "code",
   "execution_count": 4,
   "id": "78c9006d",
   "metadata": {},
   "outputs": [
    {
     "data": {
      "text/plain": [
       "{'Dict1': {'name': 'Ali', 'age': 19}, 'Dict2': {'name': 'Bob', 'age': 25}}"
      ]
     },
     "execution_count": 4,
     "metadata": {},
     "output_type": "execute_result"
    }
   ],
   "source": [
    "# Nested dictionary having same keys \n",
    "\n",
    "   \n",
    "DictFirst = {'Dict1': {'name': 'Ali', 'age': 19},\n",
    "             'Dict2': {'name': 'Bob', 'age': 25}} \n",
    "DictFirst\n"
   ]
  },
  {
   "cell_type": "code",
   "execution_count": 5,
   "id": "28850931",
   "metadata": {},
   "outputs": [
    {
     "data": {
      "text/plain": [
       "{'brand': 'Ford', 'model': 'Mustang', 'year': 1964}"
      ]
     },
     "execution_count": 5,
     "metadata": {},
     "output_type": "execute_result"
    }
   ],
   "source": [
    "\n",
    "thisdict = {\n",
    "    \"brand\": \"Ford\",\n",
    "     \"model\": \"Mustang\",\n",
    "     \"year\": 1964\n",
    "       }\n",
    "thisdict\n"
   ]
  },
  {
   "cell_type": "code",
   "execution_count": null,
   "id": "fa2a866b-62fd-4f44-9c60-8b5b00f562e5",
   "metadata": {},
   "outputs": [],
   "source": []
  },
  {
   "cell_type": "markdown",
   "id": "6cbcc951-a028-43f6-8cf7-21a540a92cf8",
   "metadata": {},
   "source": [
    "# Retrive Items of Dict"
   ]
  },
  {
   "cell_type": "markdown",
   "id": "41d8a9c1-6fab-414c-b6ec-be418bb86627",
   "metadata": {},
   "source": [
    "#Retrive Values"
   ]
  },
  {
   "cell_type": "code",
   "execution_count": 29,
   "id": "9f504823-8a85-4037-b022-1240b32b1175",
   "metadata": {},
   "outputs": [
    {
     "data": {
      "text/plain": [
       "1964"
      ]
     },
     "execution_count": 29,
     "metadata": {},
     "output_type": "execute_result"
    }
   ],
   "source": [
    "\n",
    "thisdict = {\n",
    "    \"brand\": \"Ford\",\n",
    "     \"model\": \"Mustang\",\n",
    "     \"year\": 1964\n",
    "       }\n",
    "thisdict\n",
    "\n",
    "thisdict['year']\n"
   ]
  },
  {
   "cell_type": "code",
   "execution_count": 7,
   "id": "b965115b-0964-41e0-b2c2-914208e17531",
   "metadata": {},
   "outputs": [
    {
     "name": "stdout",
     "output_type": "stream",
     "text": [
      "Ford\n",
      "Mustang\n",
      "1964\n"
     ]
    }
   ],
   "source": [
    "#To print all Value:-\n",
    "# Method Two\n",
    "for i in thisdict:\n",
    "    print(thisdict[i])\n",
    "    "
   ]
  },
  {
   "cell_type": "code",
   "execution_count": 30,
   "id": "282e1ceb-0903-48ae-b8e3-576fdb5246d1",
   "metadata": {},
   "outputs": [
    {
     "data": {
      "text/plain": [
       "dict_values(['Ford', 'Mustang', 1964])"
      ]
     },
     "execution_count": 30,
     "metadata": {},
     "output_type": "execute_result"
    }
   ],
   "source": [
    "'''Get the value '''\n",
    "thisdict.values()\n"
   ]
  },
  {
   "cell_type": "code",
   "execution_count": 31,
   "id": "211e9497-8fe1-4cf9-89b0-71430e31704e",
   "metadata": {},
   "outputs": [
    {
     "name": "stdout",
     "output_type": "stream",
     "text": [
      "Ford\n",
      "Mustang\n",
      "1964\n"
     ]
    }
   ],
   "source": [
    "#To Print all values Loop:\n",
    "for i in thisdict.values():\n",
    "    print(i)\n"
   ]
  },
  {
   "cell_type": "code",
   "execution_count": 32,
   "id": "dfb38636-1133-4c4d-bfb3-a00572c7afb7",
   "metadata": {},
   "outputs": [
    {
     "data": {
      "text/plain": [
       "dict_keys(['brand', 'model', 'year'])"
      ]
     },
     "execution_count": 32,
     "metadata": {},
     "output_type": "execute_result"
    }
   ],
   "source": [
    "thisdict.keys()"
   ]
  },
  {
   "cell_type": "markdown",
   "id": "2a42d68f-3861-4631-ba75-090129ec33b9",
   "metadata": {},
   "source": [
    "#To print all Keys"
   ]
  },
  {
   "cell_type": "code",
   "execution_count": 33,
   "id": "1f5bb3e2",
   "metadata": {},
   "outputs": [
    {
     "name": "stdout",
     "output_type": "stream",
     "text": [
      "brand\n",
      "model\n",
      "year\n"
     ]
    }
   ],
   "source": [
    "# Method One\n",
    "for i in thisdict:\n",
    "    print(i)"
   ]
  },
  {
   "cell_type": "code",
   "execution_count": 34,
   "id": "40e52c4b-3899-49d4-96fc-d5e785763e94",
   "metadata": {},
   "outputs": [
    {
     "name": "stdout",
     "output_type": "stream",
     "text": [
      "brand\n",
      "model\n",
      "year\n"
     ]
    }
   ],
   "source": [
    "for i in thisdict.keys():\n",
    "    print(i)"
   ]
  },
  {
   "cell_type": "code",
   "execution_count": 11,
   "id": "8bd29f80-72b4-487d-ac85-4b9c1ba9dace",
   "metadata": {},
   "outputs": [
    {
     "data": {
      "text/plain": [
       "dict_keys(['brand', 'model', 'year'])"
      ]
     },
     "execution_count": 11,
     "metadata": {},
     "output_type": "execute_result"
    }
   ],
   "source": [
    "thisdict.keys()"
   ]
  },
  {
   "cell_type": "code",
   "execution_count": 12,
   "id": "4fdeb54e-769d-4721-80db-6a828a078c4a",
   "metadata": {},
   "outputs": [
    {
     "name": "stdout",
     "output_type": "stream",
     "text": [
      "brand\n",
      "model\n",
      "year\n"
     ]
    }
   ],
   "source": [
    "#To Print all keys using Loop:\n",
    "for i in thisdict.keys():\n",
    "    print(i)"
   ]
  },
  {
   "cell_type": "code",
   "execution_count": 35,
   "id": "08cf1b87",
   "metadata": {},
   "outputs": [
    {
     "data": {
      "text/plain": [
       "dict_items([('brand', 'Ford'), ('model', 'Mustang'), ('year', 1964)])"
      ]
     },
     "execution_count": 35,
     "metadata": {},
     "output_type": "execute_result"
    }
   ],
   "source": [
    "thisdict.items()"
   ]
  },
  {
   "cell_type": "code",
   "execution_count": 13,
   "id": "2ed4371a-f0c9-4260-bd96-f186f54b8db6",
   "metadata": {},
   "outputs": [
    {
     "name": "stdout",
     "output_type": "stream",
     "text": [
      "dict_items([('brand', 'Ford'), ('model', 'Mustang'), ('year', 1964)])\n"
     ]
    }
   ],
   "source": [
    "'''Get the items(key and Value) '''\n",
    "print(thisdict.items())"
   ]
  },
  {
   "cell_type": "code",
   "execution_count": 39,
   "id": "160ff5c9",
   "metadata": {},
   "outputs": [
    {
     "name": "stdout",
     "output_type": "stream",
     "text": [
      "brand Ford\n",
      "model Mustang\n",
      "year 1964\n"
     ]
    }
   ],
   "source": [
    "#To Print all keys and values Loop:\n",
    "for i,j in thisdict.items():\n",
    "    print(i,j)\n"
   ]
  },
  {
   "cell_type": "code",
   "execution_count": 42,
   "id": "3aba54c1-eda9-424b-80fc-5825a8fd0716",
   "metadata": {},
   "outputs": [
    {
     "name": "stdout",
     "output_type": "stream",
     "text": [
      "Ford\n",
      "Mustang\n",
      "1964\n"
     ]
    }
   ],
   "source": [
    "# Method Two\n",
    "\n",
    "for i in thisdict:\n",
    "    print(thisdict[i])\n",
    "    "
   ]
  },
  {
   "cell_type": "code",
   "execution_count": null,
   "id": "fa929a99",
   "metadata": {},
   "outputs": [],
   "source": []
  },
  {
   "cell_type": "code",
   "execution_count": null,
   "id": "887d80c3",
   "metadata": {},
   "outputs": [],
   "source": []
  },
  {
   "cell_type": "code",
   "execution_count": null,
   "id": "eb04d2f8-bcb8-4b3a-a914-a79710921229",
   "metadata": {},
   "outputs": [],
   "source": []
  },
  {
   "cell_type": "code",
   "execution_count": null,
   "id": "e8a4d134-92b5-45f8-b98b-27120833021d",
   "metadata": {},
   "outputs": [],
   "source": []
  },
  {
   "cell_type": "code",
   "execution_count": null,
   "id": "a04a18d7-7d70-4435-ade2-8f3a5124f1c5",
   "metadata": {},
   "outputs": [],
   "source": []
  },
  {
   "cell_type": "markdown",
   "id": "dff1596f-5279-4bc9-8bc5-f165afdbe68f",
   "metadata": {},
   "source": [
    "# LEN"
   ]
  },
  {
   "cell_type": "code",
   "execution_count": 44,
   "id": "7b2f0393",
   "metadata": {},
   "outputs": [
    {
     "data": {
      "text/plain": [
       "4"
      ]
     },
     "execution_count": 44,
     "metadata": {},
     "output_type": "execute_result"
    }
   ],
   "source": [
    "# Check len of the Dict\n",
    "\n",
    "thisdict = {\n",
    "    \"brand\": \"Ford\",\n",
    "     \"model\": \"Mustang\",\n",
    "     \"year\": 1964,\n",
    "    \"coutry\": \"USA\"\n",
    "       }\n",
    "thisdict\n",
    "\n",
    "\n",
    "'''Length'''\t\t\n",
    "len(thisdict)\n"
   ]
  },
  {
   "cell_type": "markdown",
   "id": "49a60eac-e997-4859-af40-b19c0e0926e4",
   "metadata": {},
   "source": [
    "# Check if the Item Exist"
   ]
  },
  {
   "cell_type": "code",
   "execution_count": 45,
   "id": "cd38bf19",
   "metadata": {},
   "outputs": [
    {
     "data": {
      "text/plain": [
       "True"
      ]
     },
     "execution_count": 45,
     "metadata": {},
     "output_type": "execute_result"
    }
   ],
   "source": [
    "# Check if Item Exists in key\n",
    "\"model\" in thisdict\n"
   ]
  },
  {
   "cell_type": "code",
   "execution_count": 47,
   "id": "b6635f31-2cd2-475d-8679-27611cc73fd8",
   "metadata": {},
   "outputs": [
    {
     "data": {
      "text/plain": [
       "False"
      ]
     },
     "execution_count": 47,
     "metadata": {},
     "output_type": "execute_result"
    }
   ],
   "source": [
    "# Check if Item Exists in key\n",
    "\"model\" in thisdict.keys()\n"
   ]
  },
  {
   "cell_type": "code",
   "execution_count": 48,
   "id": "cdfb2745-30ad-4efc-877f-1efccce34b90",
   "metadata": {},
   "outputs": [
    {
     "data": {
      "text/plain": [
       "False"
      ]
     },
     "execution_count": 48,
     "metadata": {},
     "output_type": "execute_result"
    }
   ],
   "source": [
    "\"Ford\" in thisdict"
   ]
  },
  {
   "cell_type": "code",
   "execution_count": 50,
   "id": "4da44fad",
   "metadata": {},
   "outputs": [
    {
     "data": {
      "text/plain": [
       "True"
      ]
     },
     "execution_count": 50,
     "metadata": {},
     "output_type": "execute_result"
    }
   ],
   "source": [
    "# Check if Item Exists in Value to check any element in values you will have to use values() suffixed on dict Name. \n",
    "thisdict = {\n",
    "    \"brand\": \"Ford\",\n",
    "     \"model\": \"Mustang\",\n",
    "     \"year\": 1964\n",
    "       }\n",
    "thisdict\n",
    "\n",
    "# Check if Item Exists\n",
    "\"Ford\" in thisdict.values()"
   ]
  },
  {
   "cell_type": "markdown",
   "id": "401d1199-979b-44ec-aeb3-d899c9cf919e",
   "metadata": {},
   "source": [
    "# Changing the item"
   ]
  },
  {
   "cell_type": "code",
   "execution_count": 51,
   "id": "9781efbc",
   "metadata": {},
   "outputs": [
    {
     "data": {
      "text/plain": [
       "{'brand': 'Honda', 'model': 'Mustang', 'year': 1964}"
      ]
     },
     "execution_count": 51,
     "metadata": {},
     "output_type": "execute_result"
    }
   ],
   "source": [
    "# Method one\n",
    "\n",
    "thisdict = {\n",
    "    \"brand\": \"Ford\",\n",
    "     \"model\": \"Mustang\",\n",
    "     \"year\": 1964\n",
    "       }\n",
    "thisdict\n",
    "\n",
    "\n",
    "thisdict['brand']='Honda'\n",
    "thisdict\n"
   ]
  },
  {
   "cell_type": "code",
   "execution_count": 53,
   "id": "62165fc0",
   "metadata": {},
   "outputs": [
    {
     "data": {
      "text/plain": [
       "{'brand': 'Mahindra', 'model': 'Mustang', 'year': 1964}"
      ]
     },
     "execution_count": 53,
     "metadata": {},
     "output_type": "execute_result"
    }
   ],
   "source": [
    "# Method Two\n",
    "thisdict.update({\"brand\": \"Mahindra\"})\n",
    "thisdict\n"
   ]
  },
  {
   "cell_type": "markdown",
   "id": "fbb498e7-ee91-4ba7-b48a-b44992a3a45c",
   "metadata": {},
   "source": [
    "# Add"
   ]
  },
  {
   "cell_type": "code",
   "execution_count": 54,
   "id": "eb73ed20",
   "metadata": {},
   "outputs": [
    {
     "data": {
      "text/plain": [
       "{'brand': 'Mahindra', 'model': 'Mustang', 'year': 1964, 'country': 'USA'}"
      ]
     },
     "execution_count": 54,
     "metadata": {},
     "output_type": "execute_result"
    }
   ],
   "source": [
    "'''To add an item at the Last index'''\n",
    "\n",
    "thisdict.update({\"country\": \"USA\"})\n",
    "thisdict\n"
   ]
  },
  {
   "cell_type": "markdown",
   "id": "3836e6b6",
   "metadata": {},
   "source": [
    "# Remove"
   ]
  },
  {
   "cell_type": "code",
   "execution_count": 55,
   "id": "a7ac973e",
   "metadata": {},
   "outputs": [
    {
     "data": {
      "text/plain": [
       "{'brand': 'tata', 'year': 2018, 'color': 'White'}"
      ]
     },
     "execution_count": 55,
     "metadata": {},
     "output_type": "execute_result"
    }
   ],
   "source": [
    "'''To removes the specified item: method ONE'''\n",
    "thisdict = {'brand': 'tata', 'model': 'Mustang', 'year': 2018, 'color': 'White'}\n",
    "\n",
    "del thisdict[\"model\"]\n",
    "thisdict\n"
   ]
  },
  {
   "cell_type": "code",
   "execution_count": 56,
   "id": "b5203ca4",
   "metadata": {},
   "outputs": [
    {
     "data": {
      "text/plain": [
       "{'brand': 'tata', 'color': 'White'}"
      ]
     },
     "execution_count": 56,
     "metadata": {},
     "output_type": "execute_result"
    }
   ],
   "source": [
    "'''To removes the specified item: method Two'''\n",
    "thisdict.pop('year')\n",
    "thisdict\n"
   ]
  },
  {
   "cell_type": "code",
   "execution_count": 57,
   "id": "3b93430b",
   "metadata": {},
   "outputs": [
    {
     "data": {
      "text/plain": [
       "('color', 'White')"
      ]
     },
     "execution_count": 57,
     "metadata": {},
     "output_type": "execute_result"
    }
   ],
   "source": [
    "'''To removes the Last item:'''\n",
    "thisdict.popitem()\n"
   ]
  },
  {
   "cell_type": "markdown",
   "id": "2c10f721-8a99-45c8-ab0f-887d96e4e603",
   "metadata": {},
   "source": [
    "# Delete Empty"
   ]
  },
  {
   "cell_type": "code",
   "execution_count": 58,
   "id": "f3cf08e0",
   "metadata": {},
   "outputs": [
    {
     "data": {
      "text/plain": [
       "{}"
      ]
     },
     "execution_count": 58,
     "metadata": {},
     "output_type": "execute_result"
    }
   ],
   "source": [
    "'''To empty the list:'''\n",
    "\n",
    "thisdict = {\n",
    "    \"brand\": \"Ford\",\n",
    "     \"model\": \"Mustang\",\n",
    "     \"year\": 1964\n",
    "       }\n",
    "thisdict\n",
    "\n",
    "thisdict.clear()\n",
    "\n",
    "thisdict\n"
   ]
  },
  {
   "cell_type": "code",
   "execution_count": 59,
   "id": "08680de4",
   "metadata": {},
   "outputs": [
    {
     "ename": "NameError",
     "evalue": "name 'thisdict' is not defined",
     "output_type": "error",
     "traceback": [
      "\u001b[1;31m---------------------------------------------------------------------------\u001b[0m",
      "\u001b[1;31mNameError\u001b[0m                                 Traceback (most recent call last)",
      "Cell \u001b[1;32mIn[59], line 11\u001b[0m\n\u001b[0;32m      3\u001b[0m thisdict \u001b[38;5;241m=\u001b[39m {\n\u001b[0;32m      4\u001b[0m     \u001b[38;5;124m\"\u001b[39m\u001b[38;5;124mbrand\u001b[39m\u001b[38;5;124m\"\u001b[39m: \u001b[38;5;124m\"\u001b[39m\u001b[38;5;124mFord\u001b[39m\u001b[38;5;124m\"\u001b[39m,\n\u001b[0;32m      5\u001b[0m      \u001b[38;5;124m\"\u001b[39m\u001b[38;5;124mmodel\u001b[39m\u001b[38;5;124m\"\u001b[39m: \u001b[38;5;124m\"\u001b[39m\u001b[38;5;124mMustang\u001b[39m\u001b[38;5;124m\"\u001b[39m,\n\u001b[0;32m      6\u001b[0m      \u001b[38;5;124m\"\u001b[39m\u001b[38;5;124myear\u001b[39m\u001b[38;5;124m\"\u001b[39m: \u001b[38;5;241m1964\u001b[39m\n\u001b[0;32m      7\u001b[0m        }\n\u001b[0;32m     10\u001b[0m \u001b[38;5;28;01mdel\u001b[39;00m thisdict\n\u001b[1;32m---> 11\u001b[0m thisdict\n",
      "\u001b[1;31mNameError\u001b[0m: name 'thisdict' is not defined"
     ]
    }
   ],
   "source": [
    "'''To delete the Data Completely'''\n",
    "\n",
    "thisdict = {\n",
    "    \"brand\": \"Ford\",\n",
    "     \"model\": \"Mustang\",\n",
    "     \"year\": 1964\n",
    "       }\n",
    "\n",
    "\n",
    "del thisdict\n",
    "thisdict"
   ]
  },
  {
   "cell_type": "markdown",
   "id": "fffb8033",
   "metadata": {},
   "source": [
    "# Copy"
   ]
  },
  {
   "cell_type": "code",
   "execution_count": 60,
   "id": "dd3f0de7",
   "metadata": {},
   "outputs": [
    {
     "name": "stdout",
     "output_type": "stream",
     "text": [
      "{'brand': 'Ford', 'model': 'Mustang', 'year': 1964}\n"
     ]
    }
   ],
   "source": [
    "'''Method 01'''\n",
    "\n",
    "thisdict = {\"brand\": \"Ford\",\"model\": \"Mustang\",\"year\": 1964}\n",
    "\n",
    "mydict = thisdict.copy()\n",
    "print(mydict)\n"
   ]
  },
  {
   "cell_type": "code",
   "execution_count": 61,
   "id": "5e6daa98",
   "metadata": {},
   "outputs": [
    {
     "data": {
      "text/plain": [
       "{'brand': 'Ford', 'model': 'Mustang', 'year': 1964}"
      ]
     },
     "execution_count": 61,
     "metadata": {},
     "output_type": "execute_result"
    }
   ],
   "source": [
    "'''Method 02'''\n",
    "\n",
    "mydict = dict(thisdict)\n",
    "mydict\n"
   ]
  },
  {
   "cell_type": "code",
   "execution_count": 62,
   "id": "e2ae6b4c-84bf-42d4-82cd-3c2b10732ba7",
   "metadata": {},
   "outputs": [
    {
     "data": {
      "text/plain": [
       "{'brand': 'Ford', 'model': 'Mustang', 'year': 1964}"
      ]
     },
     "execution_count": 62,
     "metadata": {},
     "output_type": "execute_result"
    }
   ],
   "source": [
    "'''Method 03'''\n",
    "\n",
    "mydictNew = thisdict\n",
    "mydictNew\n"
   ]
  },
  {
   "cell_type": "markdown",
   "id": "ebe3a878",
   "metadata": {},
   "source": [
    "# Join"
   ]
  },
  {
   "cell_type": "code",
   "execution_count": 63,
   "id": "36ee9bf2",
   "metadata": {},
   "outputs": [
    {
     "data": {
      "text/plain": [
       "{'brand': 'Ford',\n",
       " 'model': 'Mustang',\n",
       " 'year': 1964,\n",
       " 'colour': 'Red',\n",
       " 'Country': 'Germany'}"
      ]
     },
     "execution_count": 63,
     "metadata": {},
     "output_type": "execute_result"
    }
   ],
   "source": [
    "thisdict = {\"brand\": \"Ford\", \"model\": \"Mustang\", \"year\": 1964}\n",
    "newDict = {\"colour\": \"Red\", \"Country\": \"Germany\"}\n",
    "\n",
    "\n",
    "thisdict.update(newDict)\n",
    "thisdict"
   ]
  },
  {
   "cell_type": "code",
   "execution_count": 64,
   "id": "00472671",
   "metadata": {},
   "outputs": [
    {
     "data": {
      "text/plain": [
       "{'brand': 'Ford',\n",
       " 'model': 'Mustang',\n",
       " 'year': 1964,\n",
       " 'colour': 'Red',\n",
       " 'Country': 'Germany'}"
      ]
     },
     "execution_count": 64,
     "metadata": {},
     "output_type": "execute_result"
    }
   ],
   "source": [
    "thisdict = {\"brand\": \"Ford\", \"model\": \"Mustang\", \"year\": 1964}\n",
    "newDict = {\"colour\": \"Red\", \"Country\": \"Germany\"}\n",
    "\n",
    "\n",
    "\n",
    "mergedDict = {**thisdict,**newDict}\n",
    "mergedDict\n"
   ]
  },
  {
   "cell_type": "code",
   "execution_count": 65,
   "id": "da2f3186",
   "metadata": {},
   "outputs": [
    {
     "name": "stdout",
     "output_type": "stream",
     "text": [
      "{'brand': 'Ford', 'model': 'Mustang', 'year': 1964, 'colour': 'Red', 'Country': 'Germany'}\n"
     ]
    }
   ],
   "source": [
    "thisdict = {\"brand\": \"Ford\", \"model\": \"Mustang\", \"year\": 1964}\n",
    "newDict = {\"colour\": \"Red\", \"Country\": \"Germany\"}\n",
    "\n",
    "merged_dict = dict(thisdict, **newDict)\n",
    "print(merged_dict)\n"
   ]
  },
  {
   "cell_type": "code",
   "execution_count": 70,
   "id": "294cbf4c",
   "metadata": {},
   "outputs": [
    {
     "name": "stdout",
     "output_type": "stream",
     "text": [
      "{1: 1}\n",
      "{1: 1, 2: 4}\n",
      "{1: 1, 2: 4, 3: 9}\n",
      "{1: 1, 2: 4, 3: 9, 4: 16}\n",
      "{1: 1, 2: 4, 3: 9, 4: 16, 5: 25}\n",
      "{1: 1, 2: 4, 3: 9, 4: 16, 5: 25, 6: 36}\n"
     ]
    }
   ],
   "source": [
    "'Print squares of Given Range using Loop'\n",
    "\n",
    "newDict={}\n",
    "\n",
    "for i in range(1,7):\n",
    "    newDict[i]=i**2\n",
    "    print(newDict)\n"
   ]
  },
  {
   "cell_type": "code",
   "execution_count": 71,
   "id": "338b99e8",
   "metadata": {},
   "outputs": [
    {
     "data": {
      "text/plain": [
       "{1: 1, 2: 4, 3: 9, 4: 16, 5: 25, 6: 36}"
      ]
     },
     "execution_count": 71,
     "metadata": {},
     "output_type": "execute_result"
    }
   ],
   "source": [
    "'''Print squares of Given Range using Dictionary comprehension '''\n",
    "# Create a dictionary of squares of numbers from 1 to 5\n",
    "\n",
    "# { key_expression : value_expression for x in iterable}\n",
    "\n",
    "{i : i**2 for i in range(1,7) }\n",
    "\n"
   ]
  },
  {
   "cell_type": "code",
   "execution_count": null,
   "id": "5fc89be7",
   "metadata": {},
   "outputs": [],
   "source": [
    "# Create a dictionary of squares of only Even numbers using loop\n",
    "\n",
    "newDict={}\n",
    "for i in range(1,7):\n",
    "    if i%2==0:\n",
    "        newDict[i]=i*i\n",
    "        \n",
    "newDict"
   ]
  },
  {
   "cell_type": "code",
   "execution_count": null,
   "id": "64249745",
   "metadata": {},
   "outputs": [],
   "source": []
  },
  {
   "cell_type": "code",
   "execution_count": 72,
   "id": "54dfe489",
   "metadata": {},
   "outputs": [
    {
     "data": {
      "text/plain": [
       "{2: 4, 4: 16, 6: 36}"
      ]
     },
     "execution_count": 72,
     "metadata": {},
     "output_type": "execute_result"
    }
   ],
   "source": [
    "# Create a dictionary comprehension of squares of Even numbers\n",
    "\n",
    "#{ key_expression : value_expression for x in iterable     if condition }\n",
    "newDict = {i : i**2 for i in range(1,7) if i%2==0 }\n",
    "newDict\n"
   ]
  },
  {
   "cell_type": "code",
   "execution_count": null,
   "id": "48ed021b",
   "metadata": {},
   "outputs": [],
   "source": []
  },
  {
   "cell_type": "code",
   "execution_count": null,
   "id": "3e23d7c5-edef-4c48-a162-c3b4ed724c0f",
   "metadata": {},
   "outputs": [],
   "source": []
  }
 ],
 "metadata": {
  "kernelspec": {
   "display_name": "Python 3 (ipykernel)",
   "language": "python",
   "name": "python3"
  },
  "language_info": {
   "codemirror_mode": {
    "name": "ipython",
    "version": 3
   },
   "file_extension": ".py",
   "mimetype": "text/x-python",
   "name": "python",
   "nbconvert_exporter": "python",
   "pygments_lexer": "ipython3",
   "version": "3.11.7"
  }
 },
 "nbformat": 4,
 "nbformat_minor": 5
}
