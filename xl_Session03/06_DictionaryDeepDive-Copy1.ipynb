{
 "cells": [
  {
   "cell_type": "code",
   "execution_count": 1,
   "id": "7f2cb9fe",
   "metadata": {},
   "outputs": [
    {
     "name": "stdout",
     "output_type": "stream",
     "text": [
      "{'brand': 'Ford', 'model': 'Mustang', 'year': 1964}\n",
      "{True: True, 2: 10, 3: 100}\n"
     ]
    }
   ],
   "source": [
    "'Create Dict'\n",
    "thisdict = {\"brand\": \"Ford\",\n",
    "            \"model\": \"Mustang\",\n",
    "            \"year\" : 1964}\n",
    "\n",
    "thisdict\n",
    "thisdict1 = {True: True,\n",
    "                2: 10,\n",
    "                3 : 100}\n",
    "thisdict1\n",
    "print(thisdict)\n",
    "print(thisdict1)\n"
   ]
  },
  {
   "cell_type": "code",
   "execution_count": null,
   "id": "1c11946c",
   "metadata": {},
   "outputs": [],
   "source": []
  },
  {
   "cell_type": "code",
   "execution_count": 2,
   "id": "ad2c56aa",
   "metadata": {},
   "outputs": [
    {
     "data": {
      "text/plain": [
       "{'brand': 'Ford', 'model': 'Mustang', 'year': 1964}"
      ]
     },
     "execution_count": 2,
     "metadata": {},
     "output_type": "execute_result"
    }
   ],
   "source": [
    "'''by USING Constructor'''\n",
    "\n",
    "thisdict = dict(brand=\"Ford\", \n",
    "                model=\"Mustang\", \n",
    "                year=1964)\n",
    "thisdict\n"
   ]
  },
  {
   "cell_type": "code",
   "execution_count": 3,
   "id": "bd0aac74",
   "metadata": {},
   "outputs": [
    {
     "data": {
      "text/plain": [
       "{'NAME': 'rAJESH', 'RollNo': '050', 'Div': '4D'}"
      ]
     },
     "execution_count": 3,
     "metadata": {},
     "output_type": "execute_result"
    }
   ],
   "source": [
    "Student_Details = dict(NAME=\"rAJESH\",\n",
    "                        RollNo= \"050\",\n",
    "                        Div=\"4D\")\n",
    "Student_Details\n"
   ]
  },
  {
   "cell_type": "code",
   "execution_count": 4,
   "id": "78c9006d",
   "metadata": {},
   "outputs": [
    {
     "data": {
      "text/plain": [
       "{'Dict1': {'name': 'Ali', 'age': 19}, 'Dict2': {'name': 'Bob', 'age': 25}}"
      ]
     },
     "execution_count": 4,
     "metadata": {},
     "output_type": "execute_result"
    }
   ],
   "source": [
    "# Nested dictionary having same keys \n",
    "  \n",
    "DictFirst = {'Dict1': {'name': 'Ali', 'age': 19},\n",
    "             'Dict2': {'name': 'Bob', 'age': 25}} \n",
    "DictFirst\n"
   ]
  },
  {
   "cell_type": "code",
   "execution_count": 6,
   "id": "28850931",
   "metadata": {},
   "outputs": [
    {
     "data": {
      "text/plain": [
       "{'brand': 'Ford', 'model': 'Mustang', 'year': 1964}"
      ]
     },
     "execution_count": 6,
     "metadata": {},
     "output_type": "execute_result"
    }
   ],
   "source": [
    "\n",
    "thisdict = {\n",
    "        \"brand\": \"Ford\",\n",
    "         \"model\": \"Mustang\",\n",
    "         \"year\": 1964\n",
    "       }\n",
    "thisdict\n"
   ]
  },
  {
   "cell_type": "code",
   "execution_count": null,
   "id": "fa2a866b-62fd-4f44-9c60-8b5b00f562e5",
   "metadata": {},
   "outputs": [],
   "source": []
  },
  {
   "cell_type": "markdown",
   "id": "6cbcc951-a028-43f6-8cf7-21a540a92cf8",
   "metadata": {},
   "source": [
    "# Retrive Items of Dict"
   ]
  },
  {
   "cell_type": "markdown",
   "id": "41d8a9c1-6fab-414c-b6ec-be418bb86627",
   "metadata": {},
   "source": [
    "#Retrive Values"
   ]
  },
  {
   "cell_type": "code",
   "execution_count": 7,
   "id": "9f504823-8a85-4037-b022-1240b32b1175",
   "metadata": {},
   "outputs": [
    {
     "data": {
      "text/plain": [
       "1964"
      ]
     },
     "execution_count": 7,
     "metadata": {},
     "output_type": "execute_result"
    }
   ],
   "source": [
    "\n",
    "thisdict = {\n",
    "            \"brand\": \"Ford\",\n",
    "             \"model\": \"Mustang\",\n",
    "             \"year\": 1964\n",
    "       }\n",
    "\n",
    "thisdict\n",
    "\n",
    "thisdict['year']\n"
   ]
  },
  {
   "cell_type": "code",
   "execution_count": 8,
   "id": "3887fc1e-f4f7-4e72-b150-a9fa105b164b",
   "metadata": {},
   "outputs": [
    {
     "data": {
      "text/plain": [
       "dict_keys(['brand', 'model', 'year'])"
      ]
     },
     "execution_count": 8,
     "metadata": {},
     "output_type": "execute_result"
    }
   ],
   "source": [
    "thisdict.keys()\n"
   ]
  },
  {
   "cell_type": "code",
   "execution_count": 9,
   "id": "43cbc7bc-a713-4e23-b795-a13ddf3fc5d0",
   "metadata": {},
   "outputs": [
    {
     "data": {
      "text/plain": [
       "dict_values(['Ford', 'Mustang', 1964])"
      ]
     },
     "execution_count": 9,
     "metadata": {},
     "output_type": "execute_result"
    }
   ],
   "source": [
    "thisdict.values()\n"
   ]
  },
  {
   "cell_type": "code",
   "execution_count": 10,
   "id": "1a4032f3-44cb-44b3-9670-f5e35776859c",
   "metadata": {},
   "outputs": [
    {
     "data": {
      "text/plain": [
       "dict_items([('brand', 'Ford'), ('model', 'Mustang'), ('year', 1964)])"
      ]
     },
     "execution_count": 10,
     "metadata": {},
     "output_type": "execute_result"
    }
   ],
   "source": [
    "thisdict.items()\n"
   ]
  },
  {
   "cell_type": "code",
   "execution_count": null,
   "id": "4eca1fba-a75b-4fb3-9f87-2828a42e37bd",
   "metadata": {},
   "outputs": [],
   "source": [
    "# Print Values"
   ]
  },
  {
   "cell_type": "code",
   "execution_count": 21,
   "id": "78723aa9-5770-456e-b584-e8bac9336461",
   "metadata": {},
   "outputs": [
    {
     "data": {
      "text/plain": [
       "dict_values(['Ford', 'Mustang', 1964])"
      ]
     },
     "execution_count": 21,
     "metadata": {},
     "output_type": "execute_result"
    }
   ],
   "source": [
    "thisdict.values()"
   ]
  },
  {
   "cell_type": "code",
   "execution_count": 11,
   "id": "b965115b-0964-41e0-b2c2-914208e17531",
   "metadata": {},
   "outputs": [
    {
     "name": "stdout",
     "output_type": "stream",
     "text": [
      "Ford\n",
      "Mustang\n",
      "1964\n"
     ]
    }
   ],
   "source": [
    "#To print all Value:-\n",
    "for i in thisdict.values():\n",
    "    print(i)\n",
    "    "
   ]
  },
  {
   "cell_type": "code",
   "execution_count": 13,
   "id": "6cdf4762-1841-4413-a2fc-6aeb6fd8d648",
   "metadata": {},
   "outputs": [
    {
     "name": "stdout",
     "output_type": "stream",
     "text": [
      "Ford\n",
      "Mustang\n",
      "1964\n"
     ]
    }
   ],
   "source": [
    "#To print all Value:-\n",
    "# Method Two\n",
    "for i in thisdict:\n",
    "    print(thisdict[i])\n",
    "    "
   ]
  },
  {
   "cell_type": "code",
   "execution_count": null,
   "id": "282e1ceb-0903-48ae-b8e3-576fdb5246d1",
   "metadata": {},
   "outputs": [],
   "source": []
  },
  {
   "cell_type": "code",
   "execution_count": null,
   "id": "211e9497-8fe1-4cf9-89b0-71430e31704e",
   "metadata": {},
   "outputs": [],
   "source": [
    "# Print Keys"
   ]
  },
  {
   "cell_type": "code",
   "execution_count": 22,
   "id": "dfb38636-1133-4c4d-bfb3-a00572c7afb7",
   "metadata": {},
   "outputs": [
    {
     "data": {
      "text/plain": [
       "dict_keys(['brand', 'model', 'year'])"
      ]
     },
     "execution_count": 22,
     "metadata": {},
     "output_type": "execute_result"
    }
   ],
   "source": [
    "thisdict.keys()\n"
   ]
  },
  {
   "cell_type": "code",
   "execution_count": 14,
   "id": "6a91375a-959e-4a5e-a1d1-d1251044b680",
   "metadata": {},
   "outputs": [
    {
     "name": "stdout",
     "output_type": "stream",
     "text": [
      "2\n"
     ]
    }
   ],
   "source": []
  },
  {
   "cell_type": "code",
   "execution_count": null,
   "id": "2115bf98-45a7-4af8-a6b4-af0630fe8bb9",
   "metadata": {},
   "outputs": [],
   "source": []
  },
  {
   "cell_type": "code",
   "execution_count": null,
   "id": "10afafbc-a56a-4657-b851-49e10c87ff79",
   "metadata": {},
   "outputs": [],
   "source": []
  },
  {
   "cell_type": "code",
   "execution_count": null,
   "id": "055ccbc7-05af-4976-b29b-2fb5f7e3f169",
   "metadata": {},
   "outputs": [],
   "source": []
  },
  {
   "cell_type": "markdown",
   "id": "2a42d68f-3861-4631-ba75-090129ec33b9",
   "metadata": {},
   "source": [
    " 2, 'c': 3}\r\n"
   ]
  },
  {
   "cell_type": "code",
   "execution_count": 23,
   "id": "1f5bb3e2",
   "metadata": {},
   "outputs": [
    {
     "name": "stdout",
     "output_type": "stream",
     "text": [
      "brand\n",
      "model\n",
      "year\n"
     ]
    }
   ],
   "source": [
    "# Method One\n",
    "for i in thisdict:\n",
    "    print(i)\n",
    "    "
   ]
  },
  {
   "cell_type": "code",
   "execution_count": 24,
   "id": "40e52c4b-3899-49d4-96fc-d5e785763e94",
   "metadata": {},
   "outputs": [
    {
     "name": "stdout",
     "output_type": "stream",
     "text": [
      "brand\n",
      "model\n",
      "year\n"
     ]
    }
   ],
   "source": [
    "for i in thisdict.keys():\n",
    "    print(i)\n",
    "    "
   ]
  },
  {
   "cell_type": "code",
   "execution_count": 25,
   "id": "8bd29f80-72b4-487d-ac85-4b9c1ba9dace",
   "metadata": {},
   "outputs": [
    {
     "data": {
      "text/plain": [
       "dict_items([('brand', 'Ford'), ('model', 'Mustang'), ('year', 1964)])"
      ]
     },
     "execution_count": 25,
     "metadata": {},
     "output_type": "execute_result"
    }
   ],
   "source": [
    "# print Both Values and Keys\n",
    "thisdict.items()\n"
   ]
  },
  {
   "cell_type": "code",
   "execution_count": null,
   "id": "4fdeb54e-769d-4721-80db-6a828a078c4a",
   "metadata": {},
   "outputs": [],
   "source": []
  },
  {
   "cell_type": "code",
   "execution_count": null,
   "id": "08cf1b87",
   "metadata": {},
   "outputs": [],
   "source": []
  },
  {
   "cell_type": "code",
   "execution_count": 26,
   "id": "b02b6b66-4645-412c-9161-e0a9c20e41b6",
   "metadata": {},
   "outputs": [
    {
     "name": "stdout",
     "output_type": "stream",
     "text": [
      "('brand', 'Ford')\n",
      "('model', 'Mustang')\n",
      "('year', 1964)\n"
     ]
    }
   ],
   "source": [
    "for i in thisdict.items():\n",
    "    print(i)\n",
    "    "
   ]
  },
  {
   "cell_type": "code",
   "execution_count": 27,
   "id": "017d9ef6-8450-46ed-8040-226996a407e7",
   "metadata": {},
   "outputs": [
    {
     "name": "stdout",
     "output_type": "stream",
     "text": [
      "brand Ford\n",
      "model Mustang\n",
      "year 1964\n"
     ]
    }
   ],
   "source": [
    "for i ,j in thisdict.items():\n",
    "    print(i,j)\n",
    "    "
   ]
  },
  {
   "cell_type": "code",
   "execution_count": 28,
   "id": "2ed4371a-f0c9-4260-bd96-f186f54b8db6",
   "metadata": {},
   "outputs": [
    {
     "name": "stdout",
     "output_type": "stream",
     "text": [
      "dict_items([('brand', 'Ford'), ('model', 'Mustang'), ('year', 1964)])\n"
     ]
    }
   ],
   "source": [
    "'''Get the items(key and Value) '''\n",
    "print(thisdict.items())\n"
   ]
  },
  {
   "cell_type": "code",
   "execution_count": null,
   "id": "160ff5c9",
   "metadata": {},
   "outputs": [],
   "source": [
    "#To Print all keys and values Loop:\n",
    "for i,j in thisdict.items():\n",
    "    print(i,j)\n"
   ]
  },
  {
   "cell_type": "code",
   "execution_count": null,
   "id": "3aba54c1-eda9-424b-80fc-5825a8fd0716",
   "metadata": {},
   "outputs": [],
   "source": []
  },
  {
   "cell_type": "code",
   "execution_count": null,
   "id": "fa929a99",
   "metadata": {},
   "outputs": [],
   "source": []
  },
  {
   "cell_type": "code",
   "execution_count": null,
   "id": "887d80c3",
   "metadata": {},
   "outputs": [],
   "source": []
  },
  {
   "cell_type": "markdown",
   "id": "ab8f4a98-c563-4532-b5e7-3fb51903cc29",
   "metadata": {
    "jp-MarkdownHeadingCollapsed": true
   },
   "source": [
    "# Sort the dictionary"
   ]
  },
  {
   "cell_type": "code",
   "execution_count": 32,
   "id": "e8a4d134-92b5-45f8-b98b-27120833021d",
   "metadata": {},
   "outputs": [
    {
     "name": "stdout",
     "output_type": "stream",
     "text": [
      "{'apple': 3, 'banana': 1, 'cherry': 2}\n"
     ]
    }
   ],
   "source": [
    "myDict = {'apple': 3, 'banana': 1, 'cherry': 2}\n",
    "\n",
    "sorted_dict = dict(sorted(myDict.items()))\n",
    "print(sorted_dict)\n"
   ]
  },
  {
   "cell_type": "code",
   "execution_count": 33,
   "id": "5b7ce569-b4f4-4622-90fe-2dde1ac2491a",
   "metadata": {},
   "outputs": [
    {
     "data": {
      "text/plain": [
       "[('apple', 3), ('banana', 1), ('cherry', 2)]"
      ]
     },
     "execution_count": 33,
     "metadata": {},
     "output_type": "execute_result"
    }
   ],
   "source": [
    "sorted(myDict.items())\n"
   ]
  },
  {
   "cell_type": "code",
   "execution_count": 35,
   "id": "a04a18d7-7d70-4435-ade2-8f3a5124f1c5",
   "metadata": {},
   "outputs": [
    {
     "name": "stdout",
     "output_type": "stream",
     "text": [
      "{'cherry': 2, 'banana': 1, 'apple': 3}\n"
     ]
    }
   ],
   "source": [
    "sorted_dict = dict(sorted(myDict.items(), reverse=True))\n",
    "print(sorted_dict)\n"
   ]
  },
  {
   "cell_type": "code",
   "execution_count": 39,
   "id": "aee74e8d-1b8e-49b4-8575-11827a451514",
   "metadata": {},
   "outputs": [
    {
     "ename": "ValueError",
     "evalue": "dictionary update sequence element #0 has length 5; 2 is required",
     "output_type": "error",
     "traceback": [
      "\u001b[1;31m---------------------------------------------------------------------------\u001b[0m",
      "\u001b[1;31mValueError\u001b[0m                                Traceback (most recent call last)",
      "Cell \u001b[1;32mIn[39], line 3\u001b[0m\n\u001b[0;32m      1\u001b[0m myDict \u001b[38;5;241m=\u001b[39m {\u001b[38;5;124m'\u001b[39m\u001b[38;5;124mapple\u001b[39m\u001b[38;5;124m'\u001b[39m: \u001b[38;5;241m3\u001b[39m, \u001b[38;5;124m'\u001b[39m\u001b[38;5;124mbanana\u001b[39m\u001b[38;5;124m'\u001b[39m: \u001b[38;5;241m1\u001b[39m, \u001b[38;5;124m'\u001b[39m\u001b[38;5;124mcherry\u001b[39m\u001b[38;5;124m'\u001b[39m: \u001b[38;5;241m2\u001b[39m}\n\u001b[1;32m----> 3\u001b[0m sorted_dict \u001b[38;5;241m=\u001b[39m \u001b[38;5;28mdict\u001b[39m(\u001b[38;5;28msorted\u001b[39m(myDict\u001b[38;5;241m.\u001b[39mkeys()))\n\u001b[0;32m      4\u001b[0m \u001b[38;5;28mprint\u001b[39m(sorted_dict)\n",
      "\u001b[1;31mValueError\u001b[0m: dictionary update sequence element #0 has length 5; 2 is required"
     ]
    }
   ],
   "source": [
    "myDict = {'apple': 3, 'banana': 1, 'cherry': 2}\n",
    "\n",
    "sorted_dict = dict(sorted(myDict.keys()))\n",
    "print(sorted_dict)\n"
   ]
  },
  {
   "cell_type": "markdown",
   "id": "dff1596f-5279-4bc9-8bc5-f165afdbe68f",
   "metadata": {
    "jp-MarkdownHeadingCollapsed": true
   },
   "source": [
    "# LEN"
   ]
  },
  {
   "cell_type": "code",
   "execution_count": 40,
   "id": "7b2f0393",
   "metadata": {},
   "outputs": [
    {
     "data": {
      "text/plain": [
       "3"
      ]
     },
     "execution_count": 40,
     "metadata": {},
     "output_type": "execute_result"
    }
   ],
   "source": [
    "# Check len of the Dict\n",
    "\n",
    "'''Length'''\t\t\n",
    "len(myDict)\n"
   ]
  },
  {
   "cell_type": "markdown",
   "id": "49a60eac-e997-4859-af40-b19c0e0926e4",
   "metadata": {
    "jp-MarkdownHeadingCollapsed": true
   },
   "source": [
    "# Check if the Item Exist"
   ]
  },
  {
   "cell_type": "code",
   "execution_count": null,
   "id": "cd38bf19",
   "metadata": {},
   "outputs": [],
   "source": [
    "# Check if Item Exists in key\n",
    "thisdict = {\n",
    "    \"brand\": \"Ford\",\n",
    "     \"model\": \"Mustang\",\n",
    "     \"year\": 1964\n",
    "       }\n",
    "thisdict\n",
    "\n",
    "\"model\" in thisdict\n"
   ]
  },
  {
   "cell_type": "code",
   "execution_count": null,
   "id": "b6635f31-2cd2-475d-8679-27611cc73fd8",
   "metadata": {},
   "outputs": [],
   "source": [
    "# Check if Item Exists in key\n",
    "\"model\" in thisdict.keys()\n"
   ]
  },
  {
   "cell_type": "code",
   "execution_count": null,
   "id": "cdfb2745-30ad-4efc-877f-1efccce34b90",
   "metadata": {},
   "outputs": [],
   "source": [
    "thisdict = {\n",
    "    \"brand\": \"Ford\",\n",
    "     \"model\": \"Mustang\",\n",
    "     \"year\": 1964\n",
    "       }\n",
    "thisdict\n",
    "\n",
    "\"Ford\" in thisdict.values()\n"
   ]
  },
  {
   "cell_type": "code",
   "execution_count": null,
   "id": "4da44fad",
   "metadata": {},
   "outputs": [],
   "source": [
    "# Check if Item Exists in Value to check any element in values you will have to use values() suffixed on dict Name. \n",
    "thisdict = {\n",
    "    \"brand\": \"Ford\",\n",
    "     \"model\": \"Mustang\",\n",
    "     \"year\": 1964\n",
    "       }\n",
    "thisdict\n",
    "\n",
    "# Check if Item Exists\n",
    "\"Ford\" in thisdict.values()"
   ]
  },
  {
   "cell_type": "markdown",
   "id": "401d1199-979b-44ec-aeb3-d899c9cf919e",
   "metadata": {
    "jp-MarkdownHeadingCollapsed": true
   },
   "source": [
    "# Changing the item"
   ]
  },
  {
   "cell_type": "code",
   "execution_count": null,
   "id": "1bb4b7de-caf3-4ffd-bb35-41894fafa8cf",
   "metadata": {},
   "outputs": [],
   "source": [
    "\n"
   ]
  },
  {
   "cell_type": "code",
   "execution_count": 41,
   "id": "9781efbc",
   "metadata": {},
   "outputs": [
    {
     "data": {
      "text/plain": [
       "{'brand': 'Honda', 'model': 'Mustang', 'year': 1964}"
      ]
     },
     "execution_count": 41,
     "metadata": {},
     "output_type": "execute_result"
    }
   ],
   "source": [
    "# Method one\n",
    "\n",
    "thisdict = {\n",
    "    \"brand\": \"Forrd\",\n",
    "     \"model\": \"Mustang\",\n",
    "     \"year\": 1964\n",
    "       }\n",
    "thisdict\n",
    "\n",
    "\n",
    "thisdict['brand']='Honda'\n",
    "thisdict\n",
    "\n"
   ]
  },
  {
   "cell_type": "code",
   "execution_count": 42,
   "id": "62165fc0",
   "metadata": {},
   "outputs": [
    {
     "data": {
      "text/plain": [
       "{'brand': 'Mahindra', 'model': 'Mustang', 'year': 1964}"
      ]
     },
     "execution_count": 42,
     "metadata": {},
     "output_type": "execute_result"
    }
   ],
   "source": [
    "# Method Two (key valye)\n",
    "\n",
    "thisdict.update({\"brand\": \"Mahindra\"})\n",
    "thisdict\n"
   ]
  },
  {
   "cell_type": "markdown",
   "id": "fbb498e7-ee91-4ba7-b48a-b44992a3a45c",
   "metadata": {
    "jp-MarkdownHeadingCollapsed": true
   },
   "source": [
    "# Add"
   ]
  },
  {
   "cell_type": "code",
   "execution_count": 43,
   "id": "eb73ed20",
   "metadata": {},
   "outputs": [
    {
     "data": {
      "text/plain": [
       "{'brand': 'Mahindra', 'model': 'Mustang', 'year': 1964, 'country': 'USA'}"
      ]
     },
     "execution_count": 43,
     "metadata": {},
     "output_type": "execute_result"
    }
   ],
   "source": [
    "'''To add an item at the Last index'''\n",
    "\n",
    "thisdict.update({\"country\": \"USA\"})\n",
    "thisdict\n"
   ]
  },
  {
   "cell_type": "markdown",
   "id": "3836e6b6",
   "metadata": {
    "jp-MarkdownHeadingCollapsed": true
   },
   "source": [
    "# Remove"
   ]
  },
  {
   "cell_type": "code",
   "execution_count": null,
   "id": "a7ac973e",
   "metadata": {},
   "outputs": [],
   "source": [
    "'''To removes the specified item: method ONE'''\n",
    "thisdict = {'brand': 'tata', 'model': 'Mustang', 'year': 2018, 'color': 'White'}\n",
    "\n",
    "del thisdict[\"model\"]\n",
    "thisdict\n"
   ]
  },
  {
   "cell_type": "code",
   "execution_count": null,
   "id": "b5203ca4",
   "metadata": {},
   "outputs": [],
   "source": [
    "'''To removes the specified item: method Two'''\n",
    "thisdict.pop('year')\n",
    "thisdict\n"
   ]
  },
  {
   "cell_type": "code",
   "execution_count": null,
   "id": "3b93430b",
   "metadata": {},
   "outputs": [],
   "source": [
    "'''To removes the Last item:'''\n",
    "thisdict.popitem()\n"
   ]
  },
  {
   "cell_type": "markdown",
   "id": "2c10f721-8a99-45c8-ab0f-887d96e4e603",
   "metadata": {
    "jp-MarkdownHeadingCollapsed": true
   },
   "source": [
    "# Delete Empty"
   ]
  },
  {
   "cell_type": "code",
   "execution_count": null,
   "id": "f3cf08e0",
   "metadata": {},
   "outputs": [],
   "source": [
    "'''To empty the list:'''\n",
    "\n",
    "thisdict = {\n",
    "    \"brand\": \"Ford\",\n",
    "     \"model\": \"Mustang\",\n",
    "     \"year\": 1964\n",
    "       }\n",
    "thisdict\n",
    "\n",
    "thisdict.clear()\n",
    "\n",
    "thisdict\n"
   ]
  },
  {
   "cell_type": "code",
   "execution_count": null,
   "id": "08680de4",
   "metadata": {},
   "outputs": [],
   "source": [
    "'''To delete the Data Completely'''\n",
    "\n",
    "thisdict = {\n",
    "    \"brand\": \"Ford\",\n",
    "     \"model\": \"Mustang\",\n",
    "     \"year\": 1964\n",
    "       }\n",
    "\n",
    "\n",
    "del thisdict\n",
    "thisdict\n"
   ]
  },
  {
   "cell_type": "markdown",
   "id": "fffb8033",
   "metadata": {
    "jp-MarkdownHeadingCollapsed": true
   },
   "source": [
    "# Copy"
   ]
  },
  {
   "cell_type": "code",
   "execution_count": null,
   "id": "dd3f0de7",
   "metadata": {},
   "outputs": [],
   "source": [
    "'''Method 01'''\n",
    "\n",
    "thisdict = {\"brand\": \"Ford\",\"model\": \"Mustang\",\"year\": 1964}\n",
    "\n",
    "mydict = thisdict.copy()\n",
    "print(mydict)\n"
   ]
  },
  {
   "cell_type": "code",
   "execution_count": null,
   "id": "5e6daa98",
   "metadata": {},
   "outputs": [],
   "source": []
  },
  {
   "cell_type": "code",
   "execution_count": null,
   "id": "e2ae6b4c-84bf-42d4-82cd-3c2b10732ba7",
   "metadata": {},
   "outputs": [],
   "source": [
    "'''Method 03'''\n",
    "\n",
    "mydictNew = thisdict\n",
    "mydictNew\n"
   ]
  },
  {
   "cell_type": "markdown",
   "id": "f3a839c2-90cc-44d6-8b96-cdbf0f5ed88d",
   "metadata": {
    "jp-MarkdownHeadingCollapsed": true
   },
   "source": [
    "# Convert to Dict"
   ]
  },
  {
   "cell_type": "code",
   "execution_count": null,
   "id": "2c507522-fc29-4f4a-b4db-6e74a78d9239",
   "metadata": {},
   "outputs": [],
   "source": [
    "\n",
    "mydict = dict(thisdict)\n",
    "mydict\n"
   ]
  },
  {
   "cell_type": "markdown",
   "id": "ebe3a878",
   "metadata": {
    "jp-MarkdownHeadingCollapsed": true
   },
   "source": [
    "# Join"
   ]
  },
  {
   "cell_type": "code",
   "execution_count": 2,
   "id": "36ee9bf2",
   "metadata": {},
   "outputs": [
    {
     "data": {
      "text/plain": [
       "{'brand': 'Ford',\n",
       " 'model': 'Mustang',\n",
       " 'year': 1964,\n",
       " 'colour': 'Red',\n",
       " 'Country': 'Germany'}"
      ]
     },
     "execution_count": 2,
     "metadata": {},
     "output_type": "execute_result"
    }
   ],
   "source": [
    "thisdict = {\"brand\": \"Ford\", \"model\": \"Mustang\", \"year\": 1964}\n",
    "newDict = {\"colour\": \"Red\", \"Country\": \"Germany\"}\n",
    "\n",
    "\n",
    "thisdict.update(newDict)\n",
    "thisdict\n"
   ]
  },
  {
   "cell_type": "code",
   "execution_count": 3,
   "id": "79d74673-e99a-4668-99ed-2f2518f02187",
   "metadata": {},
   "outputs": [
    {
     "data": {
      "text/plain": [
       "'Ford'"
      ]
     },
     "execution_count": 3,
     "metadata": {},
     "output_type": "execute_result"
    }
   ],
   "source": []
  },
  {
   "cell_type": "code",
   "execution_count": 1,
   "id": "00472671",
   "metadata": {},
   "outputs": [
    {
     "data": {
      "text/plain": [
       "{'brand': 'Ford',\n",
       " 'model': 'Mustang',\n",
       " 'year': 1964,\n",
       " 'colour': 'Red',\n",
       " 'Country': 'Germany'}"
      ]
     },
     "execution_count": 1,
     "metadata": {},
     "output_type": "execute_result"
    }
   ],
   "source": [
    "thisdict = {\"brand\": \"Ford\", \"model\": \"Mustang\", \"year\": 1964}\n",
    "newDict = {\"colour\": \"Red\", \"Country\": \"Germany\"}\n",
    "\n",
    "\n",
    "\n",
    "mergedDict = {**thisdict,**newDict}\n",
    "mergedDict\n"
   ]
  },
  {
   "cell_type": "code",
   "execution_count": null,
   "id": "da2f3186",
   "metadata": {},
   "outputs": [],
   "source": [
    "thisdict = {\"brand\": \"Ford\", \"model\": \"Mustang\", \"year\": 1964}\n",
    "newDict = {\"colour\": \"Red\", \"Country\": \"Germany\"}\n",
    "\n",
    "merged_dict = dict(thisdict, **newDict)\n",
    "print(merged_dict)\n"
   ]
  },
  {
   "cell_type": "markdown",
   "id": "624edd2d-5e6b-44c9-8cb5-e9a2a1b82e29",
   "metadata": {
    "jp-MarkdownHeadingCollapsed": true
   },
   "source": [
    "# Dictionary comprehension"
   ]
  },
  {
   "cell_type": "code",
   "execution_count": null,
   "id": "0bdf7e30-4fce-4bff-ad23-84edfd6697fc",
   "metadata": {},
   "outputs": [],
   "source": []
  },
  {
   "cell_type": "code",
   "execution_count": null,
   "id": "294cbf4c",
   "metadata": {},
   "outputs": [],
   "source": [
    "'Print squares of Given Range using Loop'\n",
    "\n",
    "newDict={}\n",
    "\n",
    "for i in range(1,7):\n",
    "    newDict[i]=i**2\n",
    "    print(newDict)\n"
   ]
  },
  {
   "cell_type": "code",
   "execution_count": null,
   "id": "36485b8b-0fed-485f-911d-acd2df79a42b",
   "metadata": {},
   "outputs": [],
   "source": [
    "# { key_expression : value_expression for x in iterable}\n",
    "\n",
    "{i : i**2 for i in range(1,7)}\n"
   ]
  },
  {
   "cell_type": "code",
   "execution_count": null,
   "id": "338b99e8",
   "metadata": {},
   "outputs": [],
   "source": [
    "'''Print squares of Given Range using Dictionary comprehension '''\n",
    "# Create a dictionary of squares of numbers from 1 to 6\n",
    "\n",
    "# { key_expression : value_expression for x in iterable}\n",
    "\n",
    "\n",
    "{i : i**2 for i in range(1,7) }\n",
    "\n"
   ]
  },
  {
   "cell_type": "code",
   "execution_count": null,
   "id": "122352ca-bfb3-4d45-8ed6-91e66693c6e7",
   "metadata": {},
   "outputs": [],
   "source": []
  },
  {
   "cell_type": "code",
   "execution_count": null,
   "id": "5fc89be7",
   "metadata": {},
   "outputs": [],
   "source": [
    "# Create a dictionary of squares of only Even numbers using loop\n",
    "\n",
    "newDict={}\n",
    "for i in range(1,7):\n",
    "    if i%2==0:\n",
    "        newDict[i]=i*i\n",
    "        \n",
    "newDict"
   ]
  },
  {
   "cell_type": "code",
   "execution_count": null,
   "id": "64249745",
   "metadata": {},
   "outputs": [],
   "source": [
    "# Dict Comprehension\n"
   ]
  },
  {
   "cell_type": "code",
   "execution_count": null,
   "id": "54dfe489",
   "metadata": {},
   "outputs": [],
   "source": [
    "# Create a dictionary comprehension of squares of Even numbers\n",
    "\n",
    "#{ key_expression : value_expression for x in iterable     if condition }\n",
    "newDict = {i : i**2 for i in range(1,7) if i%2==0 }\n",
    "newDict\n"
   ]
  },
  {
   "cell_type": "code",
   "execution_count": null,
   "id": "48ed021b",
   "metadata": {},
   "outputs": [],
   "source": []
  },
  {
   "cell_type": "code",
   "execution_count": null,
   "id": "3e23d7c5-edef-4c48-a162-c3b4ed724c0f",
   "metadata": {},
   "outputs": [],
   "source": []
  }
 ],
 "metadata": {
  "kernelspec": {
   "display_name": "Python 3 (ipykernel)",
   "language": "python",
   "name": "python3"
  },
  "language_info": {
   "codemirror_mode": {
    "name": "ipython",
    "version": 3
   },
   "file_extension": ".py",
   "mimetype": "text/x-python",
   "name": "python",
   "nbconvert_exporter": "python",
   "pygments_lexer": "ipython3",
   "version": "3.11.7"
  }
 },
 "nbformat": 4,
 "nbformat_minor": 5
}
