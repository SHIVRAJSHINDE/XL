{
 "cells": [
  {
   "cell_type": "code",
   "execution_count": 1,
   "id": "a69c4e41",
   "metadata": {},
   "outputs": [
    {
     "data": {
      "text/plain": [
       "['apple', 'banana', 'cherry', 'orange']"
      ]
     },
     "execution_count": 1,
     "metadata": {},
     "output_type": "execute_result"
    }
   ],
   "source": [
    "'Creating List'\n",
    "\n",
    "'''Method 01'''\n",
    "abc = [\"apple\", \"banana\", \"cherry\", \"orange\"]\n",
    "abc\n"
   ]
  },
  {
   "cell_type": "code",
   "execution_count": 2,
   "id": "bf320f52",
   "metadata": {},
   "outputs": [
    {
     "data": {
      "text/plain": [
       "['apple', 'banana', 'cherry', 'orange']"
      ]
     },
     "execution_count": 2,
     "metadata": {},
     "output_type": "execute_result"
    }
   ],
   "source": [
    "'''Method 02 using cunstructor'''\n",
    "abc = list((\"apple\", \"banana\", \"cherry\", \"orange\"))\n",
    "abc\n"
   ]
  },
  {
   "cell_type": "code",
   "execution_count": 3,
   "id": "268c30ab",
   "metadata": {},
   "outputs": [
    {
     "data": {
      "text/plain": [
       "[1, 2, 3, 4, 5]"
      ]
     },
     "execution_count": 3,
     "metadata": {},
     "output_type": "execute_result"
    }
   ],
   "source": [
    "xyzList = list((1,2,3,4,5))\n",
    "xyzList\n"
   ]
  },
  {
   "cell_type": "markdown",
   "id": "2428f078-94da-4846-b885-aa2588f7fd82",
   "metadata": {
    "jp-MarkdownHeadingCollapsed": true
   },
   "source": [
    "# performing some operations on List"
   ]
  },
  {
   "cell_type": "markdown",
   "id": "c1142895",
   "metadata": {
    "jp-MarkdownHeadingCollapsed": true
   },
   "source": [
    "# Slicing"
   ]
  },
  {
   "cell_type": "code",
   "execution_count": 30,
   "id": "cd4e64ed",
   "metadata": {},
   "outputs": [
    {
     "name": "stdout",
     "output_type": "stream",
     "text": [
      "['apple', 'banana', 'cherry']\n"
     ]
    }
   ],
   "source": [
    "# +Ve Indexing\n",
    "abc =  ['apple', 'banana', 'cherry', 'orange']\n",
    "#          0        1        2          3\n",
    "\n",
    "sliced_list = abc[0:3]\n",
    "print(sliced_list)\n"
   ]
  },
  {
   "cell_type": "code",
   "execution_count": 31,
   "id": "acc35b9f-5d3a-4636-afe1-656b9dff9f95",
   "metadata": {},
   "outputs": [],
   "source": [
    "# -Ve Indexing\n",
    "abc = list((\"apple\", \"banana\", \"cherry\", \"orange\"))\n",
    "#               -4       -3        -2       -1\n"
   ]
  },
  {
   "cell_type": "code",
   "execution_count": 36,
   "id": "ddf1718a-122b-4370-b9e3-a7cc57005654",
   "metadata": {},
   "outputs": [
    {
     "data": {
      "text/plain": [
       "'cherry'"
      ]
     },
     "execution_count": 36,
     "metadata": {},
     "output_type": "execute_result"
    }
   ],
   "source": [
    "# print apple and banana with +ve index\n",
    "abc[2]\n"
   ]
  },
  {
   "cell_type": "code",
   "execution_count": 42,
   "id": "4385fae6-2098-4259-ab1b-fa5c9be8b37b",
   "metadata": {},
   "outputs": [
    {
     "data": {
      "text/plain": [
       "['apple', 'banana', 'cherry', 'orange']"
      ]
     },
     "execution_count": 42,
     "metadata": {},
     "output_type": "execute_result"
    }
   ],
   "source": [
    "# print apple and banana with -ve index\n",
    "abc[-4:]\n"
   ]
  },
  {
   "cell_type": "code",
   "execution_count": 43,
   "id": "75c06903-987f-41df-8979-a1556b1916f3",
   "metadata": {},
   "outputs": [
    {
     "data": {
      "text/plain": [
       "'banana'"
      ]
     },
     "execution_count": 43,
     "metadata": {},
     "output_type": "execute_result"
    }
   ],
   "source": [
    "# print Only Banana\n",
    "abc[-3]\n"
   ]
  },
  {
   "cell_type": "code",
   "execution_count": null,
   "id": "3e22ee29-ed19-4e05-8ff8-313d826ed7cd",
   "metadata": {},
   "outputs": [],
   "source": []
  },
  {
   "cell_type": "code",
   "execution_count": 9,
   "id": "0bcd6a90",
   "metadata": {},
   "outputs": [
    {
     "name": "stdout",
     "output_type": "stream",
     "text": [
      "['apple', 'banana', 'cherry']\n"
     ]
    }
   ],
   "source": [
    "sliced_list = abc[:3]\n",
    "print(sliced_list) "
   ]
  },
  {
   "cell_type": "code",
   "execution_count": 45,
   "id": "acf56e3e-8706-48b3-9439-03f47327710c",
   "metadata": {},
   "outputs": [
    {
     "name": "stdout",
     "output_type": "stream",
     "text": [
      "['banana', 'cherry']\n",
      "['apple', 'banana']\n",
      "['banana', 'cherry', 'orange']\n",
      "['apple', 'banana', 'cherry', 'orange']\n"
     ]
    }
   ],
   "source": [
    "# Slice from index 1 to index 3 (exclusive)\n",
    "print(abc[1:3])\n",
    "print(abc[:2])\n",
    "print(abc[1:])\n",
    "print(abc[:])\n"
   ]
  },
  {
   "cell_type": "code",
   "execution_count": null,
   "id": "54927588-a9aa-4dda-aeb9-ee43f3f63984",
   "metadata": {},
   "outputs": [],
   "source": []
  },
  {
   "cell_type": "code",
   "execution_count": null,
   "id": "0b6af367",
   "metadata": {},
   "outputs": [],
   "source": []
  },
  {
   "cell_type": "code",
   "execution_count": 46,
   "id": "c9e30f2b",
   "metadata": {},
   "outputs": [
    {
     "name": "stdout",
     "output_type": "stream",
     "text": [
      "['cherry', 'orange']\n",
      "['apple', 'banana']\n",
      "['orange']\n",
      "['apple', 'banana', 'cherry']\n"
     ]
    }
   ],
   "source": [
    "print(abc[-2:])\n",
    "print(abc[:-2])\n",
    "print(abc[-1:])\n",
    "print(abc[:-1])\n"
   ]
  },
  {
   "cell_type": "markdown",
   "id": "8cf8d627-6d6b-4ee0-99bf-85f8b853ce68",
   "metadata": {
    "jp-MarkdownHeadingCollapsed": true
   },
   "source": [
    "# Reversed"
   ]
  },
  {
   "cell_type": "code",
   "execution_count": 47,
   "id": "eeae8378",
   "metadata": {},
   "outputs": [
    {
     "name": "stdout",
     "output_type": "stream",
     "text": [
      "['apple', 'banana', 'cherry', 'orange']\n"
     ]
    },
    {
     "data": {
      "text/plain": [
       "['orange', 'cherry', 'banana', 'apple']"
      ]
     },
     "execution_count": 47,
     "metadata": {},
     "output_type": "execute_result"
    }
   ],
   "source": [
    "# method one Indexing \n",
    "abc = list((\"apple\", \"banana\", \"cherry\", \"orange\"))\n",
    "print(abc)\n",
    "\n",
    "abc[::-1]"
   ]
  },
  {
   "cell_type": "code",
   "execution_count": 49,
   "id": "7ea81dd6-93ef-4b90-9ddf-684cc0ab6a9d",
   "metadata": {},
   "outputs": [
    {
     "name": "stdout",
     "output_type": "stream",
     "text": [
      "['apple', 'banana', 'cherry', 'orange']\n"
     ]
    }
   ],
   "source": [
    "# method one readymade fucntion \n",
    "abc.reverse()\n",
    "print(abc)\n"
   ]
  },
  {
   "cell_type": "code",
   "execution_count": 50,
   "id": "cf58847c",
   "metadata": {},
   "outputs": [
    {
     "name": "stdout",
     "output_type": "stream",
     "text": [
      "apple\n",
      "banana\n",
      "cherry\n",
      "orange\n"
     ]
    }
   ],
   "source": [
    "'''Iterating over list '''\n",
    "\n",
    "for i in abc:\n",
    "    print(i)"
   ]
  },
  {
   "cell_type": "code",
   "execution_count": 15,
   "id": "d3ff3993",
   "metadata": {},
   "outputs": [
    {
     "name": "stdout",
     "output_type": "stream",
     "text": [
      "orange\n",
      "cherry\n",
      "banana\n",
      "apple\n"
     ]
    }
   ],
   "source": [
    "for i in abc:\n",
    "    print(i)"
   ]
  },
  {
   "cell_type": "markdown",
   "id": "606ef572-8c9d-44ca-8f1b-1c565bfd4534",
   "metadata": {
    "jp-MarkdownHeadingCollapsed": true
   },
   "source": [
    "# Lenght of List"
   ]
  },
  {
   "cell_type": "code",
   "execution_count": 16,
   "id": "c1a37345",
   "metadata": {},
   "outputs": [
    {
     "data": {
      "text/plain": [
       "4"
      ]
     },
     "execution_count": 16,
     "metadata": {},
     "output_type": "execute_result"
    }
   ],
   "source": [
    "'''len Of List'''\n",
    "abc = ['apple', 'banana', 'cherry', 'orange']\n",
    "\n",
    "len(abc)"
   ]
  },
  {
   "cell_type": "markdown",
   "id": "c9ef6552-8a08-4c19-8b37-a1eae219e982",
   "metadata": {
    "jp-MarkdownHeadingCollapsed": true
   },
   "source": [
    "# count appearances"
   ]
  },
  {
   "cell_type": "code",
   "execution_count": 52,
   "id": "31961fe3",
   "metadata": {},
   "outputs": [
    {
     "data": {
      "text/plain": [
       "2"
      ]
     },
     "execution_count": 52,
     "metadata": {},
     "output_type": "execute_result"
    }
   ],
   "source": [
    "abc = ['apple', 'banana', 'apple', 'banana', 'cherry', 'orange']\n",
    "\n",
    "abc.count('apple')\n"
   ]
  },
  {
   "cell_type": "code",
   "execution_count": 58,
   "id": "91e6bd4d-93a9-42b0-98a7-ef7995ca5684",
   "metadata": {},
   "outputs": [
    {
     "data": {
      "text/plain": [
       "True"
      ]
     },
     "execution_count": 58,
     "metadata": {},
     "output_type": "execute_result"
    }
   ],
   "source": [
    "'''Check if Item Exists'''\n",
    "abc = ['apple', 'banana', 'apple', 'banana', 'cherry', 'orange']\n",
    "\n",
    "\n",
    "'apple' in abc\n"
   ]
  },
  {
   "cell_type": "code",
   "execution_count": 59,
   "id": "2b6dc02c",
   "metadata": {},
   "outputs": [
    {
     "data": {
      "text/plain": [
       "['apple', 'banana', 'kiwi', 'orange']"
      ]
     },
     "execution_count": 59,
     "metadata": {},
     "output_type": "execute_result"
    }
   ],
   "source": [
    "'''Changing/Replace the item'''\n",
    "abc = ['apple', 'banana', 'cherry', 'orange']\n",
    "#         0         1        2          3\n",
    "abc[2] = \"kiwi\"\n",
    "abc\n"
   ]
  },
  {
   "cell_type": "markdown",
   "id": "f2727819",
   "metadata": {
    "jp-MarkdownHeadingCollapsed": true
   },
   "source": [
    "# Adding an Item\n"
   ]
  },
  {
   "cell_type": "code",
   "execution_count": 60,
   "id": "af25e444",
   "metadata": {},
   "outputs": [
    {
     "name": "stdout",
     "output_type": "stream",
     "text": [
      "['apple', 'banana', 'kiwi', 'orange', 'mango']\n"
     ]
    }
   ],
   "source": [
    "'''To add an item at the Last index'''\n",
    "\n",
    "abc.append(\"mango\")\n",
    "print(abc)"
   ]
  },
  {
   "cell_type": "code",
   "execution_count": 61,
   "id": "496c69c2",
   "metadata": {},
   "outputs": [
    {
     "data": {
      "text/plain": [
       "['apple', 'pineapple', 'banana', 'kiwi', 'orange', 'mango']"
      ]
     },
     "execution_count": 61,
     "metadata": {},
     "output_type": "execute_result"
    }
   ],
   "source": [
    "'''To add an item at the specified index'''\n",
    "\n",
    "abc.insert(1,\"pineapple\")\n",
    "abc\n"
   ]
  },
  {
   "cell_type": "markdown",
   "id": "5762d741",
   "metadata": {},
   "source": [
    "# Remove"
   ]
  },
  {
   "cell_type": "code",
   "execution_count": 70,
   "id": "1f105bb7",
   "metadata": {},
   "outputs": [
    {
     "data": {
      "text/plain": [
       "['apple', 'pineapple', 'banana', 'kiwi']"
      ]
     },
     "execution_count": 70,
     "metadata": {},
     "output_type": "execute_result"
    }
   ],
   "source": [
    "'''To removes the specified item:'''\n",
    "abc = ['apple', 'pineapple', 'banana', 'kiwi','orange']\n",
    "abc.remove('orange')\n",
    "abc\n"
   ]
  },
  {
   "cell_type": "code",
   "execution_count": 70,
   "id": "59124f1e-ebbe-4b33-9252-e8b93dd99a09",
   "metadata": {},
   "outputs": [
    {
     "data": {
      "text/plain": [
       "['apple', 'pineapple', 'banana', 'kiwi']"
      ]
     },
     "execution_count": 70,
     "metadata": {},
     "output_type": "execute_result"
    }
   ],
   "source": [
    "'''To removes the specified item:'''\n",
    "abc = ['apple', 'pineapple', 'banana', 'kiwi','orange']\n",
    "abc.remove('orange')\n",
    "abc\n"
   ]
  },
  {
   "cell_type": "code",
   "execution_count": 70,
   "id": "c7edf8eb-7497-4130-96a4-b8c419f640c1",
   "metadata": {},
   "outputs": [
    {
     "data": {
      "text/plain": [
       "['apple', 'pineapple', 'banana', 'kiwi']"
      ]
     },
     "execution_count": 70,
     "metadata": {},
     "output_type": "execute_result"
    }
   ],
   "source": [
    "'''To removes the specified item:'''\n",
    "abc = ['apple', 'pineapple', 'banana', 'kiwi','orange']\n",
    "abc.remove('orange')\n",
    "abc\n"
   ]
  },
  {
   "cell_type": "code",
   "execution_count": null,
   "id": "1d458b94",
   "metadata": {},
   "outputs": [],
   "source": []
  },
  {
   "cell_type": "code",
   "execution_count": 71,
   "id": "fc957aa3",
   "metadata": {},
   "outputs": [
    {
     "data": {
      "text/plain": [
       "'kiwi'"
      ]
     },
     "execution_count": 71,
     "metadata": {},
     "output_type": "execute_result"
    }
   ],
   "source": [
    "'''To removes the Last item use pop method'''\n",
    "abc.pop()\n"
   ]
  },
  {
   "cell_type": "code",
   "execution_count": 73,
   "id": "3eabb0d0",
   "metadata": {},
   "outputs": [
    {
     "data": {
      "text/plain": [
       "['apple', 'banana', 'kiwi', 'orange', 'orange']"
      ]
     },
     "execution_count": 73,
     "metadata": {},
     "output_type": "execute_result"
    }
   ],
   "source": [
    "'''To removes by Index'''\n",
    "abc = ['apple', 'pineapple', 'banana', 'kiwi', 'orange', 'orange']\n",
    "\n",
    "del abc[1]\n",
    "\n",
    "abc"
   ]
  },
  {
   "cell_type": "code",
   "execution_count": 74,
   "id": "3e7477cc",
   "metadata": {},
   "outputs": [
    {
     "data": {
      "text/plain": [
       "['apple', 'kiwi', 'orange', 'orange']"
      ]
     },
     "execution_count": 74,
     "metadata": {},
     "output_type": "execute_result"
    }
   ],
   "source": [
    "del abc[1]\n",
    "abc"
   ]
  },
  {
   "cell_type": "code",
   "execution_count": 26,
   "id": "0cc3e31c",
   "metadata": {},
   "outputs": [],
   "source": [
    "abc = ['pineapple', 'banana', 'kiwi', 'orange', 'orange']\n"
   ]
  },
  {
   "cell_type": "markdown",
   "id": "04adf272-97b9-4675-884b-d5df798b9ed9",
   "metadata": {},
   "source": [
    "# Empty and Delete"
   ]
  },
  {
   "cell_type": "code",
   "execution_count": 27,
   "id": "2c82d1d9",
   "metadata": {},
   "outputs": [
    {
     "data": {
      "text/plain": [
       "[]"
      ]
     },
     "execution_count": 27,
     "metadata": {},
     "output_type": "execute_result"
    }
   ],
   "source": [
    "'''Clear'''\n",
    "'''To empty the list:'''\n",
    "abc = ['pineapple', 'banana', 'kiwi', 'orange', 'orange']\n",
    "abc.clear()\n",
    "abc = []\n",
    "abc"
   ]
  },
  {
   "cell_type": "code",
   "execution_count": 28,
   "id": "b4a97bc5",
   "metadata": {},
   "outputs": [
    {
     "ename": "NameError",
     "evalue": "name 'abc' is not defined",
     "output_type": "error",
     "traceback": [
      "\u001b[1;31m---------------------------------------------------------------------------\u001b[0m",
      "\u001b[1;31mNameError\u001b[0m                                 Traceback (most recent call last)",
      "Cell \u001b[1;32mIn[28], line 4\u001b[0m\n\u001b[0;32m      2\u001b[0m \u001b[38;5;124;03m'''To delete the Data Completely'''\u001b[39;00m\n\u001b[0;32m      3\u001b[0m \u001b[38;5;28;01mdel\u001b[39;00m abc\n\u001b[1;32m----> 4\u001b[0m abc\n",
      "\u001b[1;31mNameError\u001b[0m: name 'abc' is not defined"
     ]
    }
   ],
   "source": [
    "'''Delete'''\n",
    "'''To delete the Data Completely'''\n",
    "del abc\n",
    "\n",
    "abc"
   ]
  },
  {
   "cell_type": "markdown",
   "id": "9a412262",
   "metadata": {},
   "source": [
    "# Copy"
   ]
  },
  {
   "cell_type": "code",
   "execution_count": 75,
   "id": "c5b0ac1a",
   "metadata": {},
   "outputs": [
    {
     "name": "stdout",
     "output_type": "stream",
     "text": [
      "['pineapple', 'banana', 'kiwi', 'orange', 'orange']\n"
     ]
    }
   ],
   "source": [
    "abc = ['pineapple', 'banana', 'kiwi', 'orange', 'orange']\n",
    "\n",
    "#Method One\n",
    "mylist = abc.copy()\n",
    "print(mylist)\n"
   ]
  },
  {
   "cell_type": "code",
   "execution_count": null,
   "id": "f186d147",
   "metadata": {},
   "outputs": [],
   "source": [
    "#Method Two\n",
    "abc = ['pineapple', 'banana', 'kiwi', 'orange', 'orange']\n",
    "\n",
    "#Method Two\n",
    "mylist = abc\n",
    "print(mylist)\n"
   ]
  },
  {
   "cell_type": "code",
   "execution_count": null,
   "id": "c6f280e4-294d-4a2d-be82-4e6dd7992ea9",
   "metadata": {},
   "outputs": [],
   "source": [
    "abc = ['pineapple', 'banana', 'kiwi', 'orange', 'orange']\n",
    "\n",
    "#Method Three\n",
    "mylist = list(abc)\n",
    "print(mylist)\n"
   ]
  },
  {
   "cell_type": "code",
   "execution_count": null,
   "id": "1a058b19-3d18-42ee-afe2-067b7f97a1a4",
   "metadata": {},
   "outputs": [],
   "source": [
    "abcTuple = ('pineapple', 'banana', 'kiwi', 'orange', 'orange')\n",
    "\n",
    "#Method Three\n",
    "mylist = list(abcTuple)\n",
    "print(mylist)\n"
   ]
  },
  {
   "cell_type": "markdown",
   "id": "8ad6f93f",
   "metadata": {},
   "source": [
    "# Join"
   ]
  },
  {
   "cell_type": "code",
   "execution_count": 83,
   "id": "04122433",
   "metadata": {},
   "outputs": [],
   "source": [
    "list1 = [\"a\", \"b\" , \"c\"]\n",
    "list2 = [1, 2, 3]\n"
   ]
  },
  {
   "cell_type": "code",
   "execution_count": 80,
   "id": "19d23060",
   "metadata": {},
   "outputs": [
    {
     "data": {
      "text/plain": [
       "['a', 'b', 'c', 1, 2, 3]"
      ]
     },
     "execution_count": 80,
     "metadata": {},
     "output_type": "execute_result"
    }
   ],
   "source": [
    "'''Method 01 by using + operator'''\n",
    "\n",
    "list3 = list1 + list2\n",
    "list3"
   ]
  },
  {
   "cell_type": "code",
   "execution_count": 84,
   "id": "1bfcd40b",
   "metadata": {},
   "outputs": [
    {
     "data": {
      "text/plain": [
       "[1, 2, 3, 'a', 'b', 'c']"
      ]
     },
     "execution_count": 84,
     "metadata": {},
     "output_type": "execute_result"
    }
   ],
   "source": [
    "'''Method 02\n",
    "by using extend'''\n",
    "\n",
    "list2.extend(list1)\n",
    "list2"
   ]
  },
  {
   "cell_type": "code",
   "execution_count": 86,
   "id": "f5d16203",
   "metadata": {},
   "outputs": [
    {
     "name": "stdout",
     "output_type": "stream",
     "text": [
      "[1, 2, 3, 'a']\n",
      "[1, 2, 3, 'a', 'b']\n",
      "[1, 2, 3, 'a', 'b', 'c']\n"
     ]
    }
   ],
   "source": [
    "'''Method 03\n",
    "by using append,'''\n",
    "\n",
    "list1 = [\"a\", \"b\" , \"c\"]\n",
    "list2 = [1, 2, 3]\n",
    "\n",
    "for i in list1:\n",
    "    list2.append(i)\n",
    "    print(list2)\n"
   ]
  },
  {
   "cell_type": "code",
   "execution_count": 95,
   "id": "11830296",
   "metadata": {},
   "outputs": [
    {
     "data": {
      "text/plain": [
       "[1, 2, 3, 'a', 'b', 'c']"
      ]
     },
     "execution_count": 95,
     "metadata": {},
     "output_type": "execute_result"
    }
   ],
   "source": [
    "list2 = [1, 2, 3]\n",
    "list2.append(\"a\")\n",
    "list2\n",
    "list2.append(\"b\")\n",
    "list2\n",
    "list2.append(\"c\")\n",
    "list2"
   ]
  },
  {
   "cell_type": "markdown",
   "id": "28eff7f5-da98-44be-a2c9-9510387426fe",
   "metadata": {},
   "source": [
    "# print index of an Element"
   ]
  },
  {
   "cell_type": "code",
   "execution_count": 99,
   "id": "ff556f1c",
   "metadata": {},
   "outputs": [
    {
     "data": {
      "text/plain": [
       "2"
      ]
     },
     "execution_count": 99,
     "metadata": {},
     "output_type": "execute_result"
    }
   ],
   "source": [
    "'''Index of the element with the specified value'''\n",
    "list1 = [\"a\", \"b\" , \"c\", \"c\", \"c\"]\n",
    "\n",
    "list1.index(\"c\")\n"
   ]
  },
  {
   "cell_type": "code",
   "execution_count": null,
   "id": "759b1ee8",
   "metadata": {},
   "outputs": [],
   "source": []
  },
  {
   "cell_type": "markdown",
   "id": "96349fb2-4d9f-4094-bb66-3bf2138a6516",
   "metadata": {},
   "source": [
    "# Sort the List"
   ]
  },
  {
   "cell_type": "code",
   "execution_count": 100,
   "id": "8e502fd7",
   "metadata": {},
   "outputs": [
    {
     "data": {
      "text/plain": [
       "[3, 3, 2, 1]"
      ]
     },
     "execution_count": 100,
     "metadata": {},
     "output_type": "execute_result"
    }
   ],
   "source": [
    "list2 = [1, 2, 3,3]\n",
    "\n",
    "list2.sort(reverse=True)\n",
    "list2\n"
   ]
  },
  {
   "cell_type": "code",
   "execution_count": 101,
   "id": "0ae03daf-039b-43ba-b7cb-9a89e76e9b2b",
   "metadata": {},
   "outputs": [
    {
     "data": {
      "text/plain": [
       "[1, 2, 3, 3]"
      ]
     },
     "execution_count": 101,
     "metadata": {},
     "output_type": "execute_result"
    }
   ],
   "source": [
    "list2 = [1, 2, 3,3]\n",
    "\n",
    "list2.sort(reverse=False)\n",
    "list2\n"
   ]
  },
  {
   "cell_type": "code",
   "execution_count": 102,
   "id": "375901a0",
   "metadata": {},
   "outputs": [
    {
     "data": {
      "text/plain": [
       "[1, 2, 3, 3]"
      ]
     },
     "execution_count": 102,
     "metadata": {},
     "output_type": "execute_result"
    }
   ],
   "source": [
    "list2 = [1, 2, 3,3]\n",
    "sorted(list2,reverse=False)\n"
   ]
  },
  {
   "cell_type": "code",
   "execution_count": 103,
   "id": "1c1465bb-0ea2-42dd-8342-85e1f66e89fb",
   "metadata": {},
   "outputs": [
    {
     "data": {
      "text/plain": [
       "[3, 3, 2, 1]"
      ]
     },
     "execution_count": 103,
     "metadata": {},
     "output_type": "execute_result"
    }
   ],
   "source": [
    "list2 = [1, 2, 3,3]\n",
    "sorted(list2,reverse=True)\n"
   ]
  },
  {
   "cell_type": "markdown",
   "id": "ff8e2986-7a97-4206-b66a-720b11bfb970",
   "metadata": {},
   "source": [
    "# convert list to dict"
   ]
  },
  {
   "cell_type": "code",
   "execution_count": 105,
   "id": "facf1e12-7528-4516-93bc-971f75707f22",
   "metadata": {},
   "outputs": [
    {
     "data": {
      "text/plain": [
       "{'apple': 1, 'banana': 2, 'cherry': 3, 'orange': 4}"
      ]
     },
     "execution_count": 105,
     "metadata": {},
     "output_type": "execute_result"
    }
   ],
   "source": [
    "\n",
    "\n",
    "abc = [\"apple\", \"banana\", \"cherry\", \"orange\"]\n",
    "xyz = [1, 2, 3, 4,5,6]\n",
    "\n",
    "dict(zip(abc,xyz))\n"
   ]
  },
  {
   "cell_type": "markdown",
   "id": "22707625-a6a2-4c57-8172-6c9b14a7a3ac",
   "metadata": {},
   "source": [
    "# Print Even Numbers\n"
   ]
  },
  {
   "cell_type": "code",
   "execution_count": 109,
   "id": "edd9f3d7-7712-4b5b-87d5-85dca7c9cf48",
   "metadata": {},
   "outputs": [
    {
     "name": "stdout",
     "output_type": "stream",
     "text": [
      "2\n",
      "4\n",
      "6\n",
      "8\n"
     ]
    }
   ],
   "source": [
    "# \n",
    "\n",
    "for i in range(1,10):\n",
    "    if i%2 == 0:\n",
    "        print(i)\n"
   ]
  },
  {
   "cell_type": "code",
   "execution_count": 108,
   "id": "4666ae13-f4ee-4eec-8989-96dcf31d18ba",
   "metadata": {},
   "outputs": [
    {
     "data": {
      "text/plain": [
       "1"
      ]
     },
     "execution_count": 108,
     "metadata": {},
     "output_type": "execute_result"
    }
   ],
   "source": []
  },
  {
   "cell_type": "markdown",
   "id": "99b4f6d0-08d0-46c8-9997-47c053c38aa5",
   "metadata": {},
   "source": [
    "# Use of list Comprehension"
   ]
  },
  {
   "cell_type": "code",
   "execution_count": 117,
   "id": "4691bb9d",
   "metadata": {},
   "outputs": [],
   "source": [
    "'Create copy of a list from existing list'\n",
    "\n",
    "fruits = [\"apple\", \"banana\", \"cherry\", \"kiwi\", \"mango\"]\n",
    "newlist = []\n"
   ]
  },
  {
   "cell_type": "code",
   "execution_count": 118,
   "id": "11be8d19-07f5-4a5e-8a78-069400d3779c",
   "metadata": {},
   "outputs": [
    {
     "name": "stdout",
     "output_type": "stream",
     "text": [
      "['apple', 'banana', 'cherry', 'kiwi', 'mango']\n"
     ]
    }
   ],
   "source": [
    "for i in fruits:\n",
    "    newlist.append(i)\n",
    "\n",
    "print(newlist)\n"
   ]
  },
  {
   "cell_type": "code",
   "execution_count": 119,
   "id": "5b44b356",
   "metadata": {},
   "outputs": [
    {
     "data": {
      "text/plain": [
       "['apple', 'banana', 'cherry', 'kiwi', 'mango']"
      ]
     },
     "execution_count": 119,
     "metadata": {},
     "output_type": "execute_result"
    }
   ],
   "source": [
    "'''Using List Comprehension'''\n",
    "#[exp    for x in iterable]\n",
    "xyzVarialeNeList = [i for i in fruits]\n",
    "xyzVarialeNeList"
   ]
  },
  {
   "cell_type": "code",
   "execution_count": null,
   "id": "f37a17e2-d1de-4147-a4d5-17e9fce5d71b",
   "metadata": {},
   "outputs": [],
   "source": [
    "newList = [x      for x in fruits]\n",
    "newList"
   ]
  },
  {
   "cell_type": "code",
   "execution_count": null,
   "id": "9735900b",
   "metadata": {},
   "outputs": [],
   "source": []
  },
  {
   "cell_type": "code",
   "execution_count": null,
   "id": "626924ae",
   "metadata": {},
   "outputs": [],
   "source": [
    "'create New a list which \"a\" in common'\n",
    "fruits = [\"apple\", \"banana\", \"cherry\", \"kiwi\", \"mango\"]\n",
    "newlistWithA = []\n",
    "\n"
   ]
  },
  {
   "cell_type": "code",
   "execution_count": null,
   "id": "0aaa3453-50fc-4dfb-91e9-96ed3d50cbf6",
   "metadata": {},
   "outputs": [],
   "source": [
    "for x in fruits:\n",
    "    if \"a\" in x:\n",
    "        newlistWithA.append(x)\n",
    "\n",
    "print(newlistWithA)\n"
   ]
  },
  {
   "cell_type": "code",
   "execution_count": null,
   "id": "e80e34c5",
   "metadata": {},
   "outputs": [],
   "source": [
    "'create New a list which \"a\" in common using List comprehension'\n",
    "# [exp    for x in iterable       if condition  ]\n",
    "\n"
   ]
  },
  {
   "cell_type": "code",
   "execution_count": null,
   "id": "81ea2def",
   "metadata": {},
   "outputs": [],
   "source": [
    "newlistWithA2 = [x for x in fruits if \"a\" in x]\n",
    "newlistWithA2\n"
   ]
  },
  {
   "cell_type": "code",
   "execution_count": null,
   "id": "98403c54",
   "metadata": {},
   "outputs": [],
   "source": []
  },
  {
   "cell_type": "code",
   "execution_count": 128,
   "id": "684d1bd5",
   "metadata": {},
   "outputs": [
    {
     "data": {
      "text/plain": [
       "[4, 16, 36]"
      ]
     },
     "execution_count": 128,
     "metadata": {},
     "output_type": "execute_result"
    }
   ],
   "source": [
    "# Create a new list of squared of each Even_Number\n",
    "newlListWithSQ = []\n",
    "for i in range(1,7):\n",
    "    if i%2==0:\n",
    "        newlListWithSQ.append(i**2)\n",
    "\n",
    "newlListWithSQ"
   ]
  },
  {
   "cell_type": "code",
   "execution_count": null,
   "id": "f65748f2",
   "metadata": {},
   "outputs": [],
   "source": []
  },
  {
   "cell_type": "code",
   "execution_count": 130,
   "id": "5040c0cc",
   "metadata": {},
   "outputs": [
    {
     "data": {
      "text/plain": [
       "[1, 9, 25]"
      ]
     },
     "execution_count": 130,
     "metadata": {},
     "output_type": "execute_result"
    }
   ],
   "source": [
    "# Using list comprehension to create a new list of squared of each Number\n",
    "# [exp   iteration           condition     ]\n",
    "# [i**2 for x in range(1,7)  if i%2==0]\n",
    "\n",
    "# Using list comprehension to create a new list of squared of ODD Number\n",
    "\n",
    "oddNumberSqure = [i**2 for i in range(1,7) if i%2 != 0]\n"
   ]
  },
  {
   "cell_type": "code",
   "execution_count": null,
   "id": "ecf47759",
   "metadata": {},
   "outputs": [],
   "source": []
  },
  {
   "cell_type": "code",
   "execution_count": null,
   "id": "8b78ed96",
   "metadata": {},
   "outputs": [],
   "source": [
    "# Example: Filtering numbers less than 2 or greater 5\n",
    "numbers = [1, 2, 3, 4, 5, 6, 7,]\n",
    "newLIST = []\n",
    "\n",
    "for x in numbers:\n",
    "    if x <3 or x >5:\n",
    "        newLIST.append(x)\n",
    "newLIST\n"
   ]
  },
  {
   "cell_type": "code",
   "execution_count": null,
   "id": "67c6c78c",
   "metadata": {},
   "outputs": [],
   "source": []
  },
  {
   "cell_type": "code",
   "execution_count": 131,
   "id": "0bea11c4",
   "metadata": {},
   "outputs": [],
   "source": [
    "listOne = [0,1,2,3,4,5,6]\n"
   ]
  },
  {
   "cell_type": "code",
   "execution_count": 132,
   "id": "845b83be",
   "metadata": {},
   "outputs": [
    {
     "data": {
      "text/plain": [
       "[0, 2, 4, 1.5, 2.0, 7, 8]"
      ]
     },
     "execution_count": 132,
     "metadata": {},
     "output_type": "execute_result"
    }
   ],
   "source": [
    "# [exp1  if cond1   else  exp2 if cond2    else exp3     for x in iterable]\n",
    "\n",
    "[x*2   if x<=2     else  x/2 if x<=4       else x+2      for x in listOne]\n"
   ]
  },
  {
   "cell_type": "code",
   "execution_count": null,
   "id": "1c80e51b",
   "metadata": {},
   "outputs": [],
   "source": []
  },
  {
   "cell_type": "code",
   "execution_count": null,
   "id": "d4b40498",
   "metadata": {},
   "outputs": [],
   "source": []
  },
  {
   "cell_type": "code",
   "execution_count": null,
   "id": "f14afa26",
   "metadata": {},
   "outputs": [],
   "source": [
    "# Example: Filtering numbers less than 2 or greater 5\n",
    "numbers = [1, 2, 3, 4, 5, 6, 7]\n",
    "filtered_numbers = [x for x in numbers if x <= 3 or x > 5]\n",
    "print(filtered_numbers) \n"
   ]
  }
 ],
 "metadata": {
  "kernelspec": {
   "display_name": "Python 3 (ipykernel)",
   "language": "python",
   "name": "python3"
  },
  "language_info": {
   "codemirror_mode": {
    "name": "ipython",
    "version": 3
   },
   "file_extension": ".py",
   "mimetype": "text/x-python",
   "name": "python",
   "nbconvert_exporter": "python",
   "pygments_lexer": "ipython3",
   "version": "3.11.7"
  }
 },
 "nbformat": 4,
 "nbformat_minor": 5
}
