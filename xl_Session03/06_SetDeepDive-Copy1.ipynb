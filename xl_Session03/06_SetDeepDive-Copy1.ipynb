{
 "cells": [
  {
   "cell_type": "code",
   "execution_count": 14,
   "id": "41116307-b80f-4e8d-a282-ef9357d91bba",
   "metadata": {},
   "outputs": [
    {
     "data": {
      "text/plain": [
       "{'apple', 'banana', 'cherry', 'orange'}"
      ]
     },
     "execution_count": 14,
     "metadata": {},
     "output_type": "execute_result"
    }
   ],
   "source": [
    "thisset = {\"apple\", \"banana\", \"cherry\", \"orange\"}\n",
    "thisset = set((\"apple\", \"banana\", \"cherry\", \"orange\"))\n",
    "\n",
    "thisset = {\"apple\",\"apple\", \"banana\", \"cherry\", \"orange\"}\n",
    "thisset\n"
   ]
  },
  {
   "cell_type": "code",
   "execution_count": null,
   "id": "a552539f-78e5-494a-94dc-86ce1a598c7a",
   "metadata": {},
   "outputs": [],
   "source": [
    "thisset.count(\"apple\")\n"
   ]
  },
  {
   "cell_type": "code",
   "execution_count": null,
   "id": "dbd0e2ad-94b4-4f06-9f98-429c55e19368",
   "metadata": {},
   "outputs": [],
   "source": [
    "thisset[1]\n"
   ]
  },
  {
   "cell_type": "code",
   "execution_count": 3,
   "id": "8e1d7dc4-e416-40ee-acf0-c1513c38f1d7",
   "metadata": {},
   "outputs": [
    {
     "name": "stdout",
     "output_type": "stream",
     "text": [
      "cherry\n",
      "apple\n",
      "banana\n",
      "orange\n"
     ]
    }
   ],
   "source": [
    "#To print all value:-\n",
    "for x in thisset:\n",
    "  print(x)\n"
   ]
  },
  {
   "cell_type": "code",
   "execution_count": 4,
   "id": "1c8cd102-d164-47d4-86c4-7e224e6725b3",
   "metadata": {},
   "outputs": [
    {
     "data": {
      "text/plain": [
       "4"
      ]
     },
     "execution_count": 4,
     "metadata": {},
     "output_type": "execute_result"
    }
   ],
   "source": [
    "# print len of set\n",
    "len(thisset)\n"
   ]
  },
  {
   "cell_type": "code",
   "execution_count": null,
   "id": "410a88ce-7571-4fcd-ac0d-d5cdcdc93ca5",
   "metadata": {},
   "outputs": [],
   "source": []
  },
  {
   "cell_type": "code",
   "execution_count": 5,
   "id": "e53f9d9e-501f-40a5-a437-ce495401e613",
   "metadata": {},
   "outputs": [
    {
     "data": {
      "text/plain": [
       "True"
      ]
     },
     "execution_count": 5,
     "metadata": {},
     "output_type": "execute_result"
    }
   ],
   "source": [
    "\"banana\" in thisset\n"
   ]
  },
  {
   "cell_type": "code",
   "execution_count": 6,
   "id": "4e61a3be-d578-4610-aa7a-e12faebd5962",
   "metadata": {},
   "outputs": [
    {
     "data": {
      "text/plain": [
       "{'apple', 'banana', 'cherry', 'orange'}"
      ]
     },
     "execution_count": 6,
     "metadata": {},
     "output_type": "execute_result"
    }
   ],
   "source": [
    "thisset.add(\"orange\")\n",
    "thisset\n"
   ]
  },
  {
   "cell_type": "code",
   "execution_count": null,
   "id": "12d8b1c7-c12b-4fde-bdef-8a5bfb59409d",
   "metadata": {},
   "outputs": [],
   "source": [
    "thisset"
   ]
  },
  {
   "cell_type": "code",
   "execution_count": 7,
   "id": "e06eda6a-f2e0-4cc7-9844-ec9f7b366c14",
   "metadata": {},
   "outputs": [
    {
     "data": {
      "text/plain": [
       "{'Grapes', 'Kaju', 'Litchies', 'apple', 'banana', 'cherry', 'orange'}"
      ]
     },
     "execution_count": 7,
     "metadata": {},
     "output_type": "execute_result"
    }
   ],
   "source": [
    "\n",
    "thisset.update([\"Litchies\", \"Kaju\", \"Grapes\"])\n",
    "thisset\n"
   ]
  },
  {
   "cell_type": "code",
   "execution_count": null,
   "id": "bbf5e87d-f70a-43ce-885b-16c4ecd80100",
   "metadata": {},
   "outputs": [],
   "source": [
    "# Remove"
   ]
  },
  {
   "cell_type": "code",
   "execution_count": 8,
   "id": "4763e455-9c9a-47ef-9c2c-afa7053481dd",
   "metadata": {},
   "outputs": [
    {
     "data": {
      "text/plain": [
       "{'Grapes', 'Kaju', 'Litchies', 'apple', 'cherry', 'orange'}"
      ]
     },
     "execution_count": 8,
     "metadata": {},
     "output_type": "execute_result"
    }
   ],
   "source": [
    "thisset.remove(\"banana\")\n",
    "thisset\n"
   ]
  },
  {
   "cell_type": "code",
   "execution_count": 9,
   "id": "afd5ad4f-88bc-4c31-8139-17de22f7e521",
   "metadata": {},
   "outputs": [],
   "source": [
    "thisset.discard(\"cherry\")\n"
   ]
  },
  {
   "cell_type": "code",
   "execution_count": 10,
   "id": "f9494d3e-bf98-4605-8c92-16a6d03874b4",
   "metadata": {},
   "outputs": [
    {
     "data": {
      "text/plain": [
       "{'Grapes', 'Litchies', 'apple', 'orange'}"
      ]
     },
     "execution_count": 10,
     "metadata": {},
     "output_type": "execute_result"
    }
   ],
   "source": [
    "thisset.pop()\n",
    "thisset\n"
   ]
  },
  {
   "cell_type": "code",
   "execution_count": 13,
   "id": "5ddba57c-4e69-479c-ab7e-d2cfaa15fc64",
   "metadata": {},
   "outputs": [
    {
     "ename": "NameError",
     "evalue": "name 'thisset' is not defined",
     "output_type": "error",
     "traceback": [
      "\u001b[1;31m---------------------------------------------------------------------------\u001b[0m",
      "\u001b[1;31mNameError\u001b[0m                                 Traceback (most recent call last)",
      "Cell \u001b[1;32mIn[13], line 2\u001b[0m\n\u001b[0;32m      1\u001b[0m \u001b[38;5;66;03m# Below will not support\u001b[39;00m\n\u001b[1;32m----> 2\u001b[0m \u001b[38;5;28;01mdel\u001b[39;00m thisset[\u001b[38;5;241m1\u001b[39m]\n",
      "\u001b[1;31mNameError\u001b[0m: name 'thisset' is not defined"
     ]
    }
   ],
   "source": [
    "# Below will not support\n",
    "del thisset[1]\n"
   ]
  },
  {
   "cell_type": "markdown",
   "id": "4596cedb-b152-41f3-88c5-9ef6059f52cb",
   "metadata": {},
   "source": [
    "# Empty or Delete"
   ]
  },
  {
   "cell_type": "code",
   "execution_count": 15,
   "id": "ba1b319d-5a84-4c6b-816a-f12c503ce178",
   "metadata": {},
   "outputs": [
    {
     "data": {
      "text/plain": [
       "set()"
      ]
     },
     "execution_count": 15,
     "metadata": {},
     "output_type": "execute_result"
    }
   ],
   "source": [
    "# To empty the set:\n",
    "thisset.clear()\n",
    "thisset\n"
   ]
  },
  {
   "cell_type": "code",
   "execution_count": null,
   "id": "6fa3e021-8baf-4ad4-918f-c43bb7c05a52",
   "metadata": {},
   "outputs": [],
   "source": []
  },
  {
   "cell_type": "code",
   "execution_count": 16,
   "id": "afa11b6c-c483-4427-9bab-4322724d4b97",
   "metadata": {},
   "outputs": [],
   "source": [
    "# To delete the Data Completely\n",
    "thisset = {\"apple\", \"banana\", \"cherry\", \"orange\"}\n",
    "del thisset\n"
   ]
  },
  {
   "cell_type": "code",
   "execution_count": null,
   "id": "37b7accc-4d28-4ab8-bc74-45b1fdb1f79a",
   "metadata": {},
   "outputs": [],
   "source": []
  },
  {
   "cell_type": "code",
   "execution_count": null,
   "id": "7c1c813e-bae9-4aa1-b9df-50db6b5a8af7",
   "metadata": {},
   "outputs": [],
   "source": []
  },
  {
   "cell_type": "markdown",
   "id": "20285f4e-e8c0-4cf5-af60-da2cc6fe77ea",
   "metadata": {},
   "source": [
    "# Copy"
   ]
  },
  {
   "cell_type": "code",
   "execution_count": 19,
   "id": "ce78d6e5-22e2-4e95-8bc9-ddaeea17c062",
   "metadata": {},
   "outputs": [
    {
     "name": "stdout",
     "output_type": "stream",
     "text": [
      "{'cherry', 'apple', 'banana', 'orange'}\n"
     ]
    }
   ],
   "source": [
    "# Copy\n",
    "thisset = {\"apple\", \"banana\", \"cherry\", \"orange\"}\n",
    "x = thisset.copy()\n",
    "print(x)\n"
   ]
  },
  {
   "cell_type": "code",
   "execution_count": 21,
   "id": "5c5133cb-85ed-42b2-9383-7681ebf9273f",
   "metadata": {},
   "outputs": [
    {
     "data": {
      "text/plain": [
       "{1, 2, 3}"
      ]
     },
     "execution_count": 21,
     "metadata": {},
     "output_type": "execute_result"
    }
   ],
   "source": [
    "# Creating a set\n",
    "my_set = {1, 2, 3}\n",
    "\n",
    "my_set\n"
   ]
  },
  {
   "cell_type": "code",
   "execution_count": 22,
   "id": "59b171b0-c795-4bb0-b042-221aa2047677",
   "metadata": {},
   "outputs": [
    {
     "data": {
      "text/plain": [
       "set()"
      ]
     },
     "execution_count": 22,
     "metadata": {},
     "output_type": "execute_result"
    }
   ],
   "source": [
    "# Creating an empty set\n",
    "empty_set = set()\n",
    "empty_set\n"
   ]
  },
  {
   "cell_type": "code",
   "execution_count": 25,
   "id": "d131eeb9-f7e4-431f-a7b0-4fe9876aa8d1",
   "metadata": {},
   "outputs": [
    {
     "data": {
      "text/plain": [
       "dict"
      ]
     },
     "execution_count": 25,
     "metadata": {},
     "output_type": "execute_result"
    }
   ],
   "source": [
    "empty_set = {}\n",
    "type(empty_set)\n"
   ]
  },
  {
   "cell_type": "code",
   "execution_count": 26,
   "id": "5a714597-0808-4daf-acc8-6dacfa5ff5df",
   "metadata": {},
   "outputs": [
    {
     "data": {
      "text/plain": [
       "{1, 2, 3, 4}"
      ]
     },
     "execution_count": 26,
     "metadata": {},
     "output_type": "execute_result"
    }
   ],
   "source": [
    "# Creating a set from a list\n",
    "abcList = [1, 2, 2, 3, 4]\n",
    "\n",
    "set(abcList)  # Duplicates are removed\n",
    "\n"
   ]
  },
  {
   "cell_type": "code",
   "execution_count": 33,
   "id": "30fa1d77-887f-4e35-abdb-a2125e9c4bd0",
   "metadata": {},
   "outputs": [
    {
     "data": {
      "text/plain": [
       "{1, 2, 3, 4, 5, 6, 7}"
      ]
     },
     "execution_count": 33,
     "metadata": {},
     "output_type": "execute_result"
    }
   ],
   "source": [
    "# Adding an element\n",
    "my_set.add(3)\n",
    "\n",
    "my_set\n"
   ]
  },
  {
   "cell_type": "code",
   "execution_count": 30,
   "id": "4554fec0-6f1d-4e53-a3dc-dc6ae163364c",
   "metadata": {},
   "outputs": [
    {
     "data": {
      "text/plain": [
       "{1, 2, 3, 4, 5, 6, 7}"
      ]
     },
     "execution_count": 30,
     "metadata": {},
     "output_type": "execute_result"
    }
   ],
   "source": [
    "# Adding multiple elements\n",
    "my_set.update([5, 6, 7])\n",
    "\n",
    "my_set\n"
   ]
  },
  {
   "cell_type": "code",
   "execution_count": null,
   "id": "92b1bffb-b206-447b-a68e-5977a7ad31c2",
   "metadata": {},
   "outputs": [],
   "source": [
    "# Removing"
   ]
  },
  {
   "cell_type": "code",
   "execution_count": 39,
   "id": "14e9a405-254f-4110-a247-22ebeda598bc",
   "metadata": {},
   "outputs": [
    {
     "ename": "KeyError",
     "evalue": "5",
     "output_type": "error",
     "traceback": [
      "\u001b[1;31m---------------------------------------------------------------------------\u001b[0m",
      "\u001b[1;31mKeyError\u001b[0m                                  Traceback (most recent call last)",
      "Cell \u001b[1;32mIn[39], line 4\u001b[0m\n\u001b[0;32m      1\u001b[0m \u001b[38;5;66;03m# Removing an element (raises KeyError if element not found)\u001b[39;00m\n\u001b[0;32m      2\u001b[0m my_set \u001b[38;5;241m=\u001b[39m {\u001b[38;5;241m1\u001b[39m, \u001b[38;5;241m2\u001b[39m, \u001b[38;5;241m2\u001b[39m, \u001b[38;5;241m3\u001b[39m, \u001b[38;5;241m4\u001b[39m}\n\u001b[1;32m----> 4\u001b[0m my_set\u001b[38;5;241m.\u001b[39mremove(\u001b[38;5;241m5\u001b[39m)\n\u001b[0;32m      5\u001b[0m \u001b[38;5;28mprint\u001b[39m(my_set)\n",
      "\u001b[1;31mKeyError\u001b[0m: 5"
     ]
    }
   ],
   "source": [
    "# Removing an element (raises KeyError if element not found)\n",
    "my_set = {1, 2, 2, 3, 4}\n",
    "\n",
    "my_set.remove(5)\n",
    "print(my_set)\n"
   ]
  },
  {
   "cell_type": "code",
   "execution_count": 40,
   "id": "08183456-8f2c-410f-af57-a8a501dce716",
   "metadata": {},
   "outputs": [
    {
     "data": {
      "text/plain": [
       "{1, 2, 3, 4}"
      ]
     },
     "execution_count": 40,
     "metadata": {},
     "output_type": "execute_result"
    }
   ],
   "source": [
    "# Removing an element if it exists (no KeyError if element not found)\n",
    "my_set = {1, 2, 2, 3, 4}\n",
    "my_set.discard(5)\n",
    "my_set\n"
   ]
  },
  {
   "cell_type": "code",
   "execution_count": 50,
   "id": "fa1bcbac-ed6f-4410-bebe-2715cede864c",
   "metadata": {},
   "outputs": [
    {
     "name": "stdout",
     "output_type": "stream",
     "text": [
      "1\n",
      "{2, 3, 4, 10}\n"
     ]
    }
   ],
   "source": [
    "# Removing and returning an arbitrary element (raises KeyError if set is empty)\n",
    "my_set = {1, 2, 2, 3, 4,10}\n",
    "\n",
    "print(my_set.pop())\n",
    "\n",
    "print(my_set)\n"
   ]
  },
  {
   "cell_type": "code",
   "execution_count": null,
   "id": "28b04a96-9739-49df-9806-ca84bbbc8bf0",
   "metadata": {},
   "outputs": [],
   "source": [
    "# Empty and Delte"
   ]
  },
  {
   "cell_type": "code",
   "execution_count": 52,
   "id": "00c9f7c7-f62e-465b-a411-971894d4ab51",
   "metadata": {},
   "outputs": [
    {
     "data": {
      "text/plain": [
       "set()"
      ]
     },
     "execution_count": 52,
     "metadata": {},
     "output_type": "execute_result"
    }
   ],
   "source": [
    "# Clearing all elements\n",
    "my_set = {1, 2, 2, 3, 4,10}\n",
    "\n",
    "my_set.clear()\n",
    "my_set\n"
   ]
  },
  {
   "cell_type": "code",
   "execution_count": 53,
   "id": "b91d1bc0-bc32-4ce9-aa3f-74ac300a23c4",
   "metadata": {},
   "outputs": [],
   "source": [
    "my_set = {1, 2, 2, 3, 4,10}\n",
    "del my_set\n"
   ]
  },
  {
   "cell_type": "code",
   "execution_count": null,
   "id": "e7ff1895-a1f0-4092-8750-da961be64e5c",
   "metadata": {},
   "outputs": [],
   "source": [
    "# Join"
   ]
  },
  {
   "cell_type": "code",
   "execution_count": 55,
   "id": "de1a6536-bea6-420e-a5cc-295a3f6c4533",
   "metadata": {},
   "outputs": [
    {
     "data": {
      "text/plain": [
       "{1, 2, 3, 4, 5}"
      ]
     },
     "execution_count": 55,
     "metadata": {},
     "output_type": "execute_result"
    }
   ],
   "source": [
    "# Combines elements from two sets. Duplicate elements are removed.\n",
    "\n",
    "set1 = {1, 2, 3}\n",
    "set2 = {3, 4, 5}\n",
    "\n",
    "newSet = set1.union(set2)\n",
    "\n",
    "newSet\n"
   ]
  },
  {
   "cell_type": "code",
   "execution_count": 58,
   "id": "183a4a79-41c9-4894-affd-e6e22854d336",
   "metadata": {},
   "outputs": [
    {
     "ename": "TypeError",
     "evalue": "unsupported operand type(s) for +: 'set' and 'set'",
     "output_type": "error",
     "traceback": [
      "\u001b[1;31m---------------------------------------------------------------------------\u001b[0m",
      "\u001b[1;31mTypeError\u001b[0m                                 Traceback (most recent call last)",
      "Cell \u001b[1;32mIn[58], line 4\u001b[0m\n\u001b[0;32m      1\u001b[0m set1 \u001b[38;5;241m=\u001b[39m {\u001b[38;5;241m1\u001b[39m, \u001b[38;5;241m2\u001b[39m, \u001b[38;5;241m3\u001b[39m}\n\u001b[0;32m      2\u001b[0m set2 \u001b[38;5;241m=\u001b[39m {\u001b[38;5;241m3\u001b[39m, \u001b[38;5;241m4\u001b[39m, \u001b[38;5;241m5\u001b[39m}\n\u001b[1;32m----> 4\u001b[0m set03 \u001b[38;5;241m=\u001b[39m set1 \u001b[38;5;241m+\u001b[39m set2\n\u001b[0;32m      5\u001b[0m set03\n",
      "\u001b[1;31mTypeError\u001b[0m: unsupported operand type(s) for +: 'set' and 'set'"
     ]
    }
   ],
   "source": [
    "\n",
    "set1 = {1, 2, 3}\n",
    "set2 = {3, 4, 5}\n",
    "\n",
    "set03 = set1 + set2\n",
    "set03\n"
   ]
  },
  {
   "cell_type": "code",
   "execution_count": 59,
   "id": "fe3ee8f9-5a53-4674-9dc3-9ef9e6155cfd",
   "metadata": {},
   "outputs": [
    {
     "data": {
      "text/plain": [
       "True"
      ]
     },
     "execution_count": 59,
     "metadata": {},
     "output_type": "execute_result"
    }
   ],
   "source": [
    "# Check if an element is in a set\n",
    "1 in set1  # Returns True\n"
   ]
  },
  {
   "cell_type": "code",
   "execution_count": 60,
   "id": "041c31ff-8d14-4901-ba46-50760871c147",
   "metadata": {},
   "outputs": [
    {
     "data": {
      "text/plain": [
       "3"
      ]
     },
     "execution_count": 60,
     "metadata": {},
     "output_type": "execute_result"
    }
   ],
   "source": [
    "# Length of the set\n",
    "len(set1)\n"
   ]
  },
  {
   "cell_type": "code",
   "execution_count": null,
   "id": "fee99165-b002-48cf-87c5-3cbcaba2a01e",
   "metadata": {},
   "outputs": [],
   "source": []
  },
  {
   "cell_type": "code",
   "execution_count": null,
   "id": "3e307614-38fb-4ddd-8db8-87eac98d8dff",
   "metadata": {},
   "outputs": [],
   "source": []
  },
  {
   "cell_type": "code",
   "execution_count": null,
   "id": "71cbad2c-3812-4826-9e32-bf9af39cafa8",
   "metadata": {},
   "outputs": [],
   "source": []
  },
  {
   "cell_type": "code",
   "execution_count": null,
   "id": "78ac1a80-4342-4efb-b29b-55d199c6d291",
   "metadata": {},
   "outputs": [],
   "source": []
  },
  {
   "cell_type": "markdown",
   "id": "08b0aabc-3f32-494b-a0fc-52ad9a72a246",
   "metadata": {},
   "source": [
    "# Frozen Sets"
   ]
  },
  {
   "cell_type": "code",
   "execution_count": null,
   "id": "1bafa8c0-75b6-4232-8465-63ad58f1458d",
   "metadata": {},
   "outputs": [],
   "source": [
    "# Creating a frozen set\n",
    "# Frosen Set is a immutable verion of Sets\n",
    "\n",
    "frozen_set = frozenset([1, 2, 3, 4])\n",
    "\n",
    "# Trying to add an element will raise an AttributeError\n",
    "# frozen_set.add(5)\n"
   ]
  },
  {
   "cell_type": "code",
   "execution_count": null,
   "id": "c65b687d-0ed5-4c03-b655-38d91758de77",
   "metadata": {},
   "outputs": [],
   "source": []
  },
  {
   "cell_type": "code",
   "execution_count": null,
   "id": "ba3d79c5-e243-4d1c-8f10-ef05ae421fc5",
   "metadata": {},
   "outputs": [],
   "source": []
  },
  {
   "cell_type": "code",
   "execution_count": null,
   "id": "0bc56d29-2b98-458c-b435-0516cc378aea",
   "metadata": {},
   "outputs": [],
   "source": []
  },
  {
   "cell_type": "code",
   "execution_count": null,
   "id": "33669e5f-2fb8-4772-8ec5-c853681edfcd",
   "metadata": {},
   "outputs": [],
   "source": []
  },
  {
   "cell_type": "code",
   "execution_count": null,
   "id": "fffe9bdf-de34-4555-b2ef-14db31363a31",
   "metadata": {},
   "outputs": [],
   "source": []
  },
  {
   "cell_type": "code",
   "execution_count": null,
   "id": "f0e495c3-a0b9-46ec-b252-e14fcea7633e",
   "metadata": {},
   "outputs": [],
   "source": []
  },
  {
   "cell_type": "code",
   "execution_count": null,
   "id": "cb81879e-ec9f-4062-a5a1-d80be183114f",
   "metadata": {},
   "outputs": [],
   "source": []
  }
 ],
 "metadata": {
  "kernelspec": {
   "display_name": "Python 3 (ipykernel)",
   "language": "python",
   "name": "python3"
  },
  "language_info": {
   "codemirror_mode": {
    "name": "ipython",
    "version": 3
   },
   "file_extension": ".py",
   "mimetype": "text/x-python",
   "name": "python",
   "nbconvert_exporter": "python",
   "pygments_lexer": "ipython3",
   "version": "3.11.7"
  }
 },
 "nbformat": 4,
 "nbformat_minor": 5
}
