{
 "cells": [
  {
   "cell_type": "code",
   "execution_count": 2,
   "id": "6c6f5282-e5bd-4dbc-b02e-d8a544a47e7e",
   "metadata": {},
   "outputs": [],
   "source": [
    "thistple = (\"apple\", \"banana\", \"cherry\", \"orange\")\n",
    "\n",
    "thistple = tuple((\"apple\", \"banana\", \"cherry\", \"orange\"))\n",
    "\n",
    "\n"
   ]
  },
  {
   "cell_type": "code",
   "execution_count": 3,
   "id": "860173b3-e698-4017-afe8-8e02d948680f",
   "metadata": {},
   "outputs": [
    {
     "name": "stdout",
     "output_type": "stream",
     "text": [
      "banana\n",
      "orange\n",
      "('cherry', 'orange')\n",
      "('apple', 'banana', 'cherry', 'orange')\n",
      "('cherry', 'orange')\n",
      "('apple', 'banana', 'cherry')\n"
     ]
    }
   ],
   "source": [
    "print(thistple[1]) \n",
    "print(thistple[-1]) \n",
    "print(thistple[2:5])\n",
    "print(thistple[:4])\n",
    "print(thistple[2:])\n",
    "print(thistple[-4:-1])\n"
   ]
  },
  {
   "cell_type": "code",
   "execution_count": 4,
   "id": "a7b83976-6db4-4baa-aff7-2322633150a0",
   "metadata": {},
   "outputs": [
    {
     "name": "stdout",
     "output_type": "stream",
     "text": [
      "apple\n",
      "banana\n",
      "cherry\n",
      "orange\n"
     ]
    }
   ],
   "source": [
    "for i in thistple:\n",
    "    print(i)\n",
    "    "
   ]
  },
  {
   "cell_type": "code",
   "execution_count": 5,
   "id": "f780edf5-205b-44a4-ae0d-afcd2819f4b3",
   "metadata": {},
   "outputs": [
    {
     "data": {
      "text/plain": [
       "4"
      ]
     },
     "execution_count": 5,
     "metadata": {},
     "output_type": "execute_result"
    }
   ],
   "source": [
    "len(thistple)\n"
   ]
  },
  {
   "cell_type": "code",
   "execution_count": 6,
   "id": "834f8dfb-1dee-4422-b4e3-23f952fae24f",
   "metadata": {},
   "outputs": [
    {
     "data": {
      "text/plain": [
       "True"
      ]
     },
     "execution_count": 6,
     "metadata": {},
     "output_type": "execute_result"
    }
   ],
   "source": [
    "\"apple\" in thistple\n"
   ]
  },
  {
   "cell_type": "code",
   "execution_count": null,
   "id": "c8a3b451-033d-45eb-92a8-2cdf7cb31ef3",
   "metadata": {},
   "outputs": [],
   "source": [
    "# Join tuple"
   ]
  },
  {
   "cell_type": "code",
   "execution_count": 7,
   "id": "6cd6feef-5840-4e76-bac2-9d1c041d333e",
   "metadata": {},
   "outputs": [
    {
     "name": "stdout",
     "output_type": "stream",
     "text": [
      "('a', 'b', 'c', 1, 2, 3)\n"
     ]
    }
   ],
   "source": [
    "# Tupple Example\n",
    "abc = (\"a\", \"b\" , \"c\")\n",
    "xyz = (1, 2, 3)\n",
    "\n",
    "ddd = abc + xyz \n",
    "print(ddd)\n"
   ]
  },
  {
   "cell_type": "code",
   "execution_count": 8,
   "id": "c618a79d-6e06-4a75-b836-ae641a985973",
   "metadata": {},
   "outputs": [
    {
     "ename": "AttributeError",
     "evalue": "'tuple' object has no attribute 'extend'",
     "output_type": "error",
     "traceback": [
      "\u001b[1;31m---------------------------------------------------------------------------\u001b[0m",
      "\u001b[1;31mAttributeError\u001b[0m                            Traceback (most recent call last)",
      "Cell \u001b[1;32mIn[8], line 1\u001b[0m\n\u001b[1;32m----> 1\u001b[0m abc\u001b[38;5;241m.\u001b[39mextend(xyz)\n",
      "\u001b[1;31mAttributeError\u001b[0m: 'tuple' object has no attribute 'extend'"
     ]
    }
   ],
   "source": [
    "abc.extend(xyz)\n"
   ]
  },
  {
   "cell_type": "code",
   "execution_count": 12,
   "id": "aeb17fb9-e10a-4895-ad2b-241681b31552",
   "metadata": {},
   "outputs": [
    {
     "data": {
      "text/plain": [
       "(5, 10)"
      ]
     },
     "execution_count": 12,
     "metadata": {},
     "output_type": "execute_result"
    }
   ],
   "source": [
    "\n",
    "# Creating a tuple with a single element (note the trailing comma)\n",
    "single_element_tuple = (5,10)\n",
    "\n",
    "single_element_tuple\n",
    "\n"
   ]
  },
  {
   "cell_type": "code",
   "execution_count": 18,
   "id": "055b197b-b404-4a19-b768-12564f8b0ee3",
   "metadata": {},
   "outputs": [
    {
     "name": "stdout",
     "output_type": "stream",
     "text": [
      "[1, 2, 3]\n"
     ]
    },
    {
     "data": {
      "text/plain": [
       "(1, 2, 3)"
      ]
     },
     "execution_count": 18,
     "metadata": {},
     "output_type": "execute_result"
    }
   ],
   "source": [
    "# Creating a tuple from a list\n",
    "listOne = [1, 2, 3]\n",
    "print(listOne)\n",
    "tuple(listOne)\n"
   ]
  },
  {
   "cell_type": "code",
   "execution_count": 16,
   "id": "003bc492-0905-4815-b54d-3d22b91e50a9",
   "metadata": {},
   "outputs": [
    {
     "data": {
      "text/plain": [
       "()"
      ]
     },
     "execution_count": 16,
     "metadata": {},
     "output_type": "execute_result"
    }
   ],
   "source": [
    "# Creating an empty tuple\n",
    "empty_tuple = ()\n",
    "empty_tuple\n"
   ]
  },
  {
   "cell_type": "code",
   "execution_count": null,
   "id": "77bd8740-9da1-40ac-ad7c-a2d43afa033b",
   "metadata": {},
   "outputs": [],
   "source": []
  },
  {
   "cell_type": "code",
   "execution_count": 19,
   "id": "4f522df0-863b-48d7-bfa2-02de1909a189",
   "metadata": {},
   "outputs": [
    {
     "data": {
      "text/plain": [
       "True"
      ]
     },
     "execution_count": 19,
     "metadata": {},
     "output_type": "execute_result"
    }
   ],
   "source": [
    "# Checking if an element is in a tuple\n",
    "tuple1 = (1, 2, 3)\n",
    "2 in tuple1  # Output: True\n"
   ]
  },
  {
   "cell_type": "code",
   "execution_count": 20,
   "id": "19f04881-26a2-44dd-b677-5a60a4a3990e",
   "metadata": {},
   "outputs": [
    {
     "data": {
      "text/plain": [
       "False"
      ]
     },
     "execution_count": 20,
     "metadata": {},
     "output_type": "execute_result"
    }
   ],
   "source": [
    "5 in tuple1  # Output: False\n"
   ]
  },
  {
   "cell_type": "code",
   "execution_count": 21,
   "id": "2ffa2514-4d79-4ea8-8cfe-1a720d4a8181",
   "metadata": {},
   "outputs": [
    {
     "data": {
      "text/plain": [
       "0"
      ]
     },
     "execution_count": 21,
     "metadata": {},
     "output_type": "execute_result"
    }
   ],
   "source": [
    "# Finding the index of an element\n",
    "thistple = (\"apple\", \"banana\", \"cherry\", \"orange\")\n",
    "\n",
    "thistple.index(\"apple\")\n"
   ]
  },
  {
   "cell_type": "code",
   "execution_count": 22,
   "id": "6b102145-27f6-4f15-a267-99b6297c1549",
   "metadata": {},
   "outputs": [
    {
     "data": {
      "text/plain": [
       "2"
      ]
     },
     "execution_count": 22,
     "metadata": {},
     "output_type": "execute_result"
    }
   ],
   "source": [
    "# Counting occurrences of an element\n",
    "thistple = (\"apple\",\"apple\", \"banana\", \"cherry\", \"orange\")\n",
    "\n",
    "thistple.count(\"apple\")\n"
   ]
  },
  {
   "cell_type": "code",
   "execution_count": 24,
   "id": "542b88bc-a6c4-4bef-a110-5e34a9a77483",
   "metadata": {},
   "outputs": [
    {
     "ename": "AttributeError",
     "evalue": "'tuple' object has no attribute 'sort'",
     "output_type": "error",
     "traceback": [
      "\u001b[1;31m---------------------------------------------------------------------------\u001b[0m",
      "\u001b[1;31mAttributeError\u001b[0m                            Traceback (most recent call last)",
      "Cell \u001b[1;32mIn[24], line 1\u001b[0m\n\u001b[1;32m----> 1\u001b[0m thistple\u001b[38;5;241m.\u001b[39msort()\n",
      "\u001b[1;31mAttributeError\u001b[0m: 'tuple' object has no attribute 'sort'"
     ]
    }
   ],
   "source": [
    "thistple.sort()\n"
   ]
  },
  {
   "cell_type": "code",
   "execution_count": 23,
   "id": "cf18c86e-fed8-4f17-b07d-329047de3030",
   "metadata": {},
   "outputs": [
    {
     "data": {
      "text/plain": [
       "['apple', 'apple', 'banana', 'cherry', 'orange']"
      ]
     },
     "execution_count": 23,
     "metadata": {},
     "output_type": "execute_result"
    }
   ],
   "source": [
    "# Sorting a tuple by converting to a list\n",
    "sorted(thistple)  # Requires tuple elements to be comparable\n"
   ]
  },
  {
   "cell_type": "code",
   "execution_count": 26,
   "id": "2016a8fb-c21c-49d2-bb7f-852cfc30c9b8",
   "metadata": {},
   "outputs": [
    {
     "data": {
      "text/plain": [
       "('orange', 'cherry', 'banana', 'apple', 'apple')"
      ]
     },
     "execution_count": 26,
     "metadata": {},
     "output_type": "execute_result"
    }
   ],
   "source": [
    "# Reversing a tuple by converting to a list\n",
    "tuple(reversed(thistple))\n"
   ]
  },
  {
   "cell_type": "code",
   "execution_count": null,
   "id": "c302f431-0a52-4e28-ab8c-4b6df0b5919f",
   "metadata": {},
   "outputs": [],
   "source": []
  },
  {
   "cell_type": "code",
   "execution_count": null,
   "id": "317a1e90-5a5c-41eb-8229-149d2dbdc61d",
   "metadata": {},
   "outputs": [],
   "source": []
  }
 ],
 "metadata": {
  "kernelspec": {
   "display_name": "Python 3 (ipykernel)",
   "language": "python",
   "name": "python3"
  },
  "language_info": {
   "codemirror_mode": {
    "name": "ipython",
    "version": 3
   },
   "file_extension": ".py",
   "mimetype": "text/x-python",
   "name": "python",
   "nbconvert_exporter": "python",
   "pygments_lexer": "ipython3",
   "version": "3.11.7"
  }
 },
 "nbformat": 4,
 "nbformat_minor": 5
}
