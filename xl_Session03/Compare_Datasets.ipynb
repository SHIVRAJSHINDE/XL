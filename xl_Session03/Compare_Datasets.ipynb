{
 "cells": [
  {
   "cell_type": "code",
   "execution_count": null,
   "id": "e1786d0e-4db0-4ab9-82b9-4b5ddb1cd0aa",
   "metadata": {},
   "outputs": [],
   "source": []
  },
  {
   "cell_type": "markdown",
   "id": "7ce54c9e-afc9-4d25-b8e6-c64eddc12e1c",
   "metadata": {
    "jp-MarkdownHeadingCollapsed": true
   },
   "source": [
    "# <h3 style=\"font-family: Candara; color: black;\">Creation</h3>\r\n",
    "\r\n",
    "<table style=\"font-family: Candara; color: black; width: 100%; border-collapse: collapse;\" border=\"1\">\r\n",
    "    <thead>\r\n",
    "        <tr>\r\n",
    "            <th>Operation</th>\r\n",
    "            <th>List</th>\r\n",
    "            <th>Tuple</th>\r\n",
    "            <th>Set</th>\r\n",
    "        </tr>\r\n",
    "    </thead>\r\n",
    "    <tbody>\r\n",
    "        <tr>\r\n",
    "            <td>Simple Method</td>\r\n",
    "            <td>abc = [\"apple\", \"banana\", \"cherry\", \"orange\"]</td>\r\n",
    "            <td>thistple = (\"apple\", \"banana\", \"cherry\", \"orange\")</td>\r\n",
    "            <td>myset = {\"apple\", \"banana\", \"cherry\", \"orange\"}</td>\r\n",
    "        </tr>\r\n",
    "        <tr>\r\n",
    "            <td>By Using Constructor</td>\r\n",
    "            <td>abc = list((\"apple\", \"banana\", \"cherry\", \"orange\"))</td>\r\n",
    "            <td>thistple = tuple((\"apple\", \"banana\", \"cherry\", \"orange\"))</td>\r\n",
    "            <td>myset = set((\"apple\", \"banana\", \"cherry\", \"orange\"))</td>\r\n",
    "        </tr>\r\n",
    "    </tbody>\r\n",
    "</table>\r\n"
   ]
  },
  {
   "cell_type": "markdown",
   "id": "5dab024a-df4a-4683-842c-1c049801d5fc",
   "metadata": {},
   "source": [
    "# <h3 style=\"font-family: Candara; color: black;\">Remove Operation</h3>\r\n",
    "\r\n",
    "<table style=\"font-family: Candara; color: black; width: 100 %; border-collapse: collapse;\" border= \"1\">\r\n",
    "    <thead>\r\n",
    "        <tr>\r\n",
    "            <th>Operation</th>\r\n",
    "            <th>List</th>\r\n",
    "            <th>Tuple</th>\r\n",
    "            <th>Set</th>\r\n",
    "        </tr>\r\n",
    "    </thead>\r\n",
    "    <tbody>\r\n",
    "        <tr>\r\n",
    "            <td>Specified Item</td>\r\n",
    "            <td>abc.remove(\"banana\")</td>\r\n",
    "            <td>Tuple is immutable</td>\r\n",
    "            <td>myset.remove(\"banana\")</td>\r\n",
    "        </tr>\r\n",
    "        <tr>\r\n",
    "            <td>Specified Item</td>\r\n",
    "            <td>---</td>\r\n",
    "            <td>---</td>\r\n",
    "            <td>abc.discard(\"banana\")</td>\r\n",
    "        </tr>\r\n",
    "        <tr>\r\n",
    "            <td>Last Item</td>\r\n",
    "            <td>abc.pop()</td>\r\n",
    "            <td>---</td>\r\n",
    "            <td>myset.pop()</td>\r\n",
    "        </tr>\r\n",
    "        <tr>\r\n",
    "            <td>By Index</td>\r\n",
    "            <td>abc.pop(1)</td>\r\n",
    "            <td>---</td>\r\n",
    "            <td>Sets are unordered</td>\r\n",
    "        </tr>\r\n",
    "        <tr>\r\n",
    "            <td>By Index (Delete)</td>\r\n",
    "            <td>del abc[0]</td>\r\n",
    "            <td>---</td>\r\n",
    "            <td>Sets are unordered</td>\r\n",
    "        </tr>\r\n",
    "    </tbody>\r\n",
    "</table>\r\n"
   ]
  },
  {
   "cell_type": "code",
   "execution_count": 21,
   "id": "df909f82-8f59-4d74-a567-840defcadf2b",
   "metadata": {},
   "outputs": [
    {
     "data": {
      "text/plain": [
       "[2, 3, 4]"
      ]
     },
     "execution_count": 21,
     "metadata": {},
     "output_type": "execute_result"
    }
   ],
   "source": [
    "abcList = [1,2,3,4]\n",
    "\n",
    "\n",
    "abcList.remove(1)\n",
    "\n",
    "abcList\n"
   ]
  },
  {
   "cell_type": "code",
   "execution_count": 18,
   "id": "1aea86dc-8fc6-459e-888d-2912d1319347",
   "metadata": {},
   "outputs": [
    {
     "data": {
      "text/plain": [
       "{2, 3, 4}"
      ]
     },
     "execution_count": 18,
     "metadata": {},
     "output_type": "execute_result"
    }
   ],
   "source": [
    "abcSet = {1,2,3,4}\n",
    "abcSet\n",
    "abcSet.discard(1)\n",
    "abcSet\n"
   ]
  },
  {
   "cell_type": "markdown",
   "id": "394f644d-838b-4f7f-a023-e12c7ffab140",
   "metadata": {
    "jp-MarkdownHeadingCollapsed": true
   },
   "source": [
    "# <h3 style=\"font-family: Candara; color: black;\">Adding an Item</h3>\r\n",
    "\r\n",
    "<table style=\"font-family: Candara; color: greenen; width: 100%; border-collapse: collapse;\" border=\"1\">\r\n",
    "    <thead>\r\n",
    "        <tr>\r\n",
    "            <th>Operation</th>\r\n",
    "            <th>List</th>\r\n",
    "            <th>Tuple</th>\r\n",
    "            <th>Set</th>\r\n",
    "        </tr>\r\n",
    "    </thead>\r\n",
    "    <tbody>\r\n",
    "        <tr>\r\n",
    "            <td>To Add at the Last Index</td>\r\n",
    "            <td>abc.append(\"orange\")</td>\r\n",
    "            <td>Tuples are immutable</td>\r\n",
    "            <td>myset.add(\"orange\")</td>\r\n",
    "        </tr>\r\n",
    "        <tr>\r\n",
    "            <td>To Add at a Specified Index</td>\r\n",
    "            <td>abc.insert(1, \"orange\")</td>\r\n",
    "            <td>Tuples are immutable</td>\r\n",
    "            <td>Sets are unordered</td>\r\n",
    "        </tr>\r\n",
    "    </tbody>\r\n",
    "</table>\r\n",
    "tbody>\r\n",
    "        <tr>\r\n",
    "            <td>To Add at the\r\n"
   ]
  },
  {
   "cell_type": "code",
   "execution_count": 22,
   "id": "118421ff-8cf5-4481-ac22-f862286c0092",
   "metadata": {},
   "outputs": [
    {
     "data": {
      "text/plain": [
       "['apple', 'pineapple', 'banana', 'cherry', 'orange']"
      ]
     },
     "execution_count": 22,
     "metadata": {},
     "output_type": "execute_result"
    }
   ],
   "source": [
    "abc = [\"apple\", \"banana\", \"cherry\", \"orange\"]\n",
    "\n",
    "abc.insert(1,\"pineapple\")\n",
    "abc\n"
   ]
  },
  {
   "cell_type": "code",
   "execution_count": 23,
   "id": "8c54aa28-df26-4fb2-9857-8c0376fbeb6b",
   "metadata": {},
   "outputs": [
    {
     "data": {
      "text/plain": [
       "{'apple', 'banana', 'cherry', 'kiwi', 'orange'}"
      ]
     },
     "execution_count": 23,
     "metadata": {},
     "output_type": "execute_result"
    }
   ],
   "source": [
    "myset = {\"apple\", \"banana\", \"cherry\", \"orange\"}\n",
    "myset.add('kiwi')\n",
    "myset\n"
   ]
  },
  {
   "cell_type": "markdown",
   "id": "610bd4f8-f70c-413e-9fcb-00ca8f5152d7",
   "metadata": {
    "jp-MarkdownHeadingCollapsed": true
   },
   "source": [
    "# <h3 style=\"font-family: Candara; color: black;\">Empty or Delete</h3>\r\n",
    "\r\n",
    "<table style=\"font-family: Candara; color: green; width: 100%; border-collapse: collapse;\" border=\"1\">\r\n",
    "    <thead>\r\n",
    "        <tr>\r\n",
    "            <th>Operation</th>\r\n",
    "            <th>List</th>\r\n",
    "            <th>Tuple</th>\r\n",
    "            <th>Set</th>\r\n",
    "        </tr>\r\n",
    "    </thead>\r\n",
    "    <tbody>\r\n",
    "        <tr>\r\n",
    "            <td>Clear</td>\r\n",
    "            <td>abc.clear()</td>\r\n",
    "            <td>Tuples cannot be emptied</td>\r\n",
    "            <td>myset.clear()</td>\r\n",
    "        </tr>\r\n",
    "        <tr>\r\n",
    "            <td>Delete</td>\r\n",
    "            <td>del abc</td>\r\n",
    "            <td>del thistple</td>\r\n",
    "            <td>del myset</td>\r\n",
    "        </tr>\r\n",
    "    </tbody>\r\n",
    "</table>\r\n"
   ]
  },
  {
   "cell_type": "code",
   "execution_count": 28,
   "id": "0fedf434-800d-4697-ba7e-57c2f8597cb9",
   "metadata": {},
   "outputs": [
    {
     "ename": "NameError",
     "evalue": "name 'abc' is not defined",
     "output_type": "error",
     "traceback": [
      "\u001b[1;31m---------------------------------------------------------------------------\u001b[0m",
      "\u001b[1;31mNameError\u001b[0m                                 Traceback (most recent call last)",
      "Cell \u001b[1;32mIn[28], line 3\u001b[0m\n\u001b[0;32m      1\u001b[0m abc \u001b[38;5;241m=\u001b[39m [\u001b[38;5;124m\"\u001b[39m\u001b[38;5;124mapple\u001b[39m\u001b[38;5;124m\"\u001b[39m, \u001b[38;5;124m\"\u001b[39m\u001b[38;5;124mbanana\u001b[39m\u001b[38;5;124m\"\u001b[39m, \u001b[38;5;124m\"\u001b[39m\u001b[38;5;124mcherry\u001b[39m\u001b[38;5;124m\"\u001b[39m, \u001b[38;5;124m\"\u001b[39m\u001b[38;5;124morange\u001b[39m\u001b[38;5;124m\"\u001b[39m]\n\u001b[0;32m      2\u001b[0m \u001b[38;5;28;01mdel\u001b[39;00m abc\n\u001b[1;32m----> 3\u001b[0m abc\n",
      "\u001b[1;31mNameError\u001b[0m: name 'abc' is not defined"
     ]
    }
   ],
   "source": [
    "abc = [\"apple\", \"banana\", \"cherry\", \"orange\"]\n",
    "del abc\n"
   ]
  },
  {
   "cell_type": "code",
   "execution_count": 30,
   "id": "6b55ab2e-54c3-44de-85b9-7f489f2fdb61",
   "metadata": {},
   "outputs": [],
   "source": [
    "abcTup = (\"apple\", \"banana\", \"cherry\", \"orange\")\n",
    "del abcTup\n"
   ]
  },
  {
   "cell_type": "code",
   "execution_count": 34,
   "id": "693196c5-2651-4849-89c7-310d2240af6b",
   "metadata": {},
   "outputs": [],
   "source": [
    "abcSet = {\"apple\", \"banana\", \"cherry\", \"orange\"}\n",
    "del abcSet\n"
   ]
  },
  {
   "cell_type": "markdown",
   "id": "7628179e-51d8-40bb-8cba-631b6b2c0079",
   "metadata": {
    "jp-MarkdownHeadingCollapsed": true
   },
   "source": [
    "# <h3 style=\"font-family: Candara; color: black;\">Copy</h3>\r\n",
    "\r\n",
    "<table style=\"font-family: Candara; color: black; width: 100%; border-collapse: collapse;\" border=\"1\">\r\n",
    "    <thead>\r\n",
    "        <tr>\r\n",
    "            <th>Operation</th>\r\n",
    "            <th>List</th>\r\n",
    "            <th>Tuple</th>\r\n",
    "            <th>Set</th>\r\n",
    "        </tr>\r\n",
    "    </thead>\r\n",
    "    <tbody>\r\n",
    "        <tr>\r\n",
    "            <td>Deep Copy</td>\r\n",
    "            <td>myList.copy()</td>\r\n",
    "            <td>Tuples cannot be copied</td>\r\n",
    "            <td>mySet.copy()</td>\r\n",
    "        </tr>\r\n",
    "        <tr>\r\n",
    "            <td>Shallow Copy</td>\r\n",
    "            <td>newList = myList</td>\r\n",
    "            <td>newTup = myTup</td>\r\n",
    "            <td>newSet = mySet</td>\r\n",
    "        </tr>\r\n",
    "    </tbody>\r\n",
    "</table>\r\n"
   ]
  },
  {
   "cell_type": "code",
   "execution_count": 36,
   "id": "e80db405-3623-4a37-8052-57376a0db5be",
   "metadata": {},
   "outputs": [
    {
     "data": {
      "text/plain": [
       "('apple', 'banana', 'cherry', 'orange')"
      ]
     },
     "execution_count": 36,
     "metadata": {},
     "output_type": "execute_result"
    }
   ],
   "source": [
    "abcTup = (\"apple\", \"banana\", \"cherry\", \"orange\")\n",
    "\n",
    "new = abcTup\n",
    "new\n"
   ]
  },
  {
   "cell_type": "markdown",
   "id": "101f2016-657a-4479-b49a-b21cbc4c4ba5",
   "metadata": {
    "jp-MarkdownHeadingCollapsed": true
   },
   "source": [
    "<h3 style=\"font-family: Candara; color: black;\">Join</h3>\r\n",
    "\r\n",
    "<table style=\"font-family: Candara; color: black; width: 100%; border-collapse: collapse;\" border=\"1\">\r\n",
    "    <thead>\r\n",
    "        <tr>\r\n",
    "            <th>Operation</th>\r\n",
    "            <th>List</th>\r\n",
    "            <th>Tuple</th>\r\n",
    "            <th>Set</th>\r\n",
    "        </tr>\r\n",
    "    </thead>\r\n",
    "    <tbody>\r\n",
    "        <tr>\r\n",
    "            <td>+</td>\r\n",
    "            <td>list3 = list1 + list2</td>\r\n",
    "            <td>ddd = abc + xyz</td>\r\n",
    "            <td>-----</td>\r\n",
    "        </tr>\r\n",
    "        <tr>\r\n",
    "            <td>extend</td>\r\n",
    "            <td>list1.extend(list2)</td>\r\n",
    "            <td>---</td>\r\n",
    "            <td>-----</td>\r\n",
    "        </tr>\r\n",
    "        <tr>\r\n",
    "            <td>union</td>\r\n",
    "            <td>---</td>\r\n",
    "            <td>---</td>\r\n",
    "            <td>newSet = set1.union(set2)</td>\r\n",
    "        </tr>\r\n",
    "        <tr>\r\n",
    "            <td>update</td>\r\n",
    "            <td>---</td>\r\n",
    "            <td>---</td>\r\n",
    "            <td>s1.update(s2)</td>\r\n",
    "        </tr>\r\n",
    "    </tbody>\r\n",
    "</table>\r\n",
    "       </tr>\r\n",
    "    </tbody>\r\n",
    "</table>\r\n"
   ]
  },
  {
   "cell_type": "code",
   "execution_count": 45,
   "id": "d902beb8-3dec-4775-861b-d9f1b9497bd9",
   "metadata": {},
   "outputs": [
    {
     "data": {
      "text/plain": [
       "['cherry', 'orange']"
      ]
     },
     "execution_count": 45,
     "metadata": {},
     "output_type": "execute_result"
    }
   ],
   "source": [
    "abcList1 = [\"cherry\", \"orange\"]\n",
    "abcList2 = [\"apple\", \"banana\"]\n",
    "\n",
    "newLIST = abcList1 + abcList2\n",
    "newLIST\n",
    "\n",
    "abcList1\n"
   ]
  },
  {
   "cell_type": "code",
   "execution_count": 46,
   "id": "739af191-bd1e-4fba-824d-2b68bfd6ceea",
   "metadata": {},
   "outputs": [
    {
     "data": {
      "text/plain": [
       "['cherry', 'orange', 'apple', 'banana']"
      ]
     },
     "execution_count": 46,
     "metadata": {},
     "output_type": "execute_result"
    }
   ],
   "source": [
    "abcList1.extend(abcList2)\n",
    "abcList1\n"
   ]
  },
  {
   "cell_type": "code",
   "execution_count": 2,
   "id": "7059f14f-f0f2-4254-a880-562bb7e9ea5b",
   "metadata": {},
   "outputs": [
    {
     "data": {
      "text/plain": [
       "('cherry', 'orange', 'apple', 'banana')"
      ]
     },
     "execution_count": 2,
     "metadata": {},
     "output_type": "execute_result"
    }
   ],
   "source": [
    "abcTup1 = (\"cherry\", \"orange\")\n",
    "abcTup2 = (\"apple\", \"banana\")\n",
    "neT = abcTup1+abcTup2\n",
    "neT\n"
   ]
  },
  {
   "cell_type": "code",
   "execution_count": null,
   "id": "e5a0e2b5-1ded-4334-a2f8-b3beec02000e",
   "metadata": {},
   "outputs": [],
   "source": []
  },
  {
   "cell_type": "code",
   "execution_count": 5,
   "id": "686cc844-ea7f-4e9d-87dc-d0842a036f3f",
   "metadata": {},
   "outputs": [],
   "source": [
    "abcSet1 = {\"cherry\", \"orange\"}\n",
    "abcSet2 = {\"apple\", \"banana\"}\n",
    "\n"
   ]
  },
  {
   "cell_type": "code",
   "execution_count": 7,
   "id": "91fc2772-3021-40e2-add0-1aba2fe1c644",
   "metadata": {},
   "outputs": [
    {
     "data": {
      "text/plain": [
       "{'apple', 'banana', 'cherry', 'orange'}"
      ]
     },
     "execution_count": 7,
     "metadata": {},
     "output_type": "execute_result"
    }
   ],
   "source": [
    "abc = abcSet1.union(abcSet2)\n",
    "abc\n"
   ]
  },
  {
   "cell_type": "code",
   "execution_count": 52,
   "id": "c54e4427-e4e8-4355-a2cc-f20b64c78832",
   "metadata": {},
   "outputs": [
    {
     "data": {
      "text/plain": [
       "{'apple', 'banana', 'cherry', 'orange'}"
      ]
     },
     "execution_count": 52,
     "metadata": {},
     "output_type": "execute_result"
    }
   ],
   "source": [
    "abcSet1.update(abcSet2)\n",
    "abcSet1\n"
   ]
  },
  {
   "cell_type": "markdown",
   "id": "0f4b13ad-fe66-436e-a6f9-e0babd33b456",
   "metadata": {
    "jp-MarkdownHeadingCollapsed": true
   },
   "source": [
    "# <h3 style=\"font-family: Candara; color: black;\">Reverse</h3>\r\n",
    "\r\n",
    "<table style=\"font-family: Candara; color: black; width: 100%; border-collapse: collapse;\" border=\"1\">\r\n",
    "    <thead>\r\n",
    "        <tr>\r\n",
    "            <th>Operation</th>\r\n",
    "            <th>List</th>\r\n",
    "            <th>Tuple</th>\r\n",
    "            <th>Set</th>\r\n",
    "        </tr>\r\n",
    "    </thead>\r\n",
    "    <tbody>\r\n",
    "        <tr>\r\n",
    "            <td>Slicing</td>\r\n",
    "            <td>list1[::-1]</td>\r\n",
    "            <td>tup[::-1]</td>\r\n",
    "            <td>Sets are unordered</td>\r\n",
    "        </tr>\r\n",
    "        <tr>\r\n",
    "            <td>reverse()</td>\r\n",
    "            <td>list1.reverse()</td>\r\n",
    "            <td>---</td>\r\n",
    "            <td>Sets are unordered</td>\r\n",
    "        </tr>\r\n",
    "    </tbody>\r\n",
    "</table>\r\n",
    " </tr>\r\n",
    "    </tbody>\r\n",
    "</table>\r\n"
   ]
  },
  {
   "cell_type": "code",
   "execution_count": 9,
   "id": "fb60848f-ca7d-48c7-8dc0-4cac21ba5491",
   "metadata": {},
   "outputs": [
    {
     "data": {
      "text/plain": [
       "(5, 3, 2, 1)"
      ]
     },
     "execution_count": 9,
     "metadata": {},
     "output_type": "execute_result"
    }
   ],
   "source": [
    "abc = (1,2,3,5)\n",
    "\n",
    "abc[::-1]\n"
   ]
  },
  {
   "cell_type": "code",
   "execution_count": 10,
   "id": "b5b9675b-f197-41c1-82f6-3cf78c8e0bcc",
   "metadata": {},
   "outputs": [
    {
     "ename": "AttributeError",
     "evalue": "'tuple' object has no attribute 'reverse'",
     "output_type": "error",
     "traceback": [
      "\u001b[1;31m---------------------------------------------------------------------------\u001b[0m",
      "\u001b[1;31mAttributeError\u001b[0m                            Traceback (most recent call last)",
      "Cell \u001b[1;32mIn[10], line 1\u001b[0m\n\u001b[1;32m----> 1\u001b[0m abc\u001b[38;5;241m.\u001b[39mreverse()\n",
      "\u001b[1;31mAttributeError\u001b[0m: 'tuple' object has no attribute 'reverse'"
     ]
    }
   ],
   "source": []
  },
  {
   "attachments": {},
   "cell_type": "markdown",
   "id": "94260fdf-aa7a-4f1b-9ee2-70dc2621aa99",
   "metadata": {
    "jp-MarkdownHeadingCollapsed": true
   },
   "source": [
    "# <h3 style=\"font-family: Candara; color: black;\">Sorting</h3>\r\n",
    "\r\n",
    "<table style=\"font-family: Candara; color: black; width: 100%; border-collapse: collapse;\" border=\"1\">\r\n",
    "    <thead>\r\n",
    "        <tr>\r\n",
    "            <th>Operation</th>\r\n",
    "            <th>List</th>\r\n",
    "            <th>Tuple</th>\r\n",
    "            <th>Set</th>\r\n",
    "        </tr>\r\n",
    "    </thead>\r\n",
    "    <tbody>\r\n",
    "        <tr>\r\n",
    "            <td>sort() (same datatype will be reversed)</td>\r\n",
    "            <td>list1.sort()</td>\r\n",
    "            <td>---</td>\r\n",
    "            <td>-----</td>\r\n",
    "        </tr>\r\n",
    "        <tr>\r\n",
    "            <td>sorted() (new copy will be created)</td>\r\n",
    "            <td>sorted(list1)</td>\r\n",
    "            <td>sorted(tup)</td>\r\n",
    "            <td>-----</td>\r\n",
    "        </tr>\r\n",
    "    </tbody>\r\n",
    "</table>\r\n"
   ]
  },
  {
   "cell_type": "code",
   "execution_count": null,
   "id": "226d108b-ca9e-4c3e-aec0-7ea260fc79f6",
   "metadata": {},
   "outputs": [],
   "source": []
  },
  {
   "cell_type": "markdown",
   "id": "d308cb87-8848-4c32-a135-8742de11af74",
   "metadata": {},
   "source": [
    "# <h3 style=\"font-family: Candara; color: black;\">Operations</h3>\r\n",
    "\r\n",
    "<table style=\"font-family: Candara; color: black; width: 100%; border-collapse: collapse;\" border=\"1\">\r\n",
    "    <thead>\r\n",
    "        <tr>\r\n",
    "            <th>Operation</th>\r\n",
    "            <th>List</th>\r\n",
    "            <th>Tuple</th>\r\n",
    "            <th>Set</th>\r\n",
    "        </tr>\r\n",
    "    </thead>\r\n",
    "    <tbody>\r\n",
    "        <tr>\r\n",
    "            <td>Length</td>\r\n",
    "            <td>len(abc)</td>\r\n",
    "            <td>len(thistple)</td>\r\n",
    "            <td>len(myset)</td>\r\n",
    "        </tr>\r\n",
    "        <tr>\r\n",
    "            <td>Convert</td>\r\n",
    "            <td>list()</td>\r\n",
    "            <td>tuple()</td>\r\n",
    "            <td>set()</td>\r\n",
    "        </tr>\r\n",
    "        <tr>\r\n",
    "            <td>Number of Elements in Dataset</td>\r\n",
    "            <td>list1.count(2)</td>\r\n",
    "            <td>xyz.count(2)</td>\r\n",
    "            <td>Sets hold unique elements</td>\r\n",
    "        </tr>\r\n",
    "        <tr>\r\n",
    "            <td>Index of the First Element</td>\r\n",
    "            <td>list1.index()</td>\r\n",
    "            <td>xyz.index()</td>\r\n",
    "            <td>Sets are unordered</td>\r\n",
    "        </tr>\r\n",
    "        <tr>\r\n",
    "            <td>Index of the Specific Element</td>\r\n",
    "            <td>list1.index(\"apple\")</td>\r\n",
    "            <td>xyz.index(\"apple\")</td>\r\n",
    "            <td>Sets are unordered</td>\r\n",
    "        </tr>\r\n",
    "    </tbody>\r\n",
    "</table>\r\n",
    "       </tr>\r\n",
    "    </tbody>\r\n",
    "</table>\r\n",
    "       </tr>\r\n",
    "    </tbody>\r\n",
    "</table>\r\n"
   ]
  }
 ],
 "metadata": {
  "kernelspec": {
   "display_name": "Python 3 (ipykernel)",
   "language": "python",
   "name": "python3"
  },
  "language_info": {
   "codemirror_mode": {
    "name": "ipython",
    "version": 3
   },
   "file_extension": ".py",
   "mimetype": "text/x-python",
   "name": "python",
   "nbconvert_exporter": "python",
   "pygments_lexer": "ipython3",
   "version": "3.11.7"
  }
 },
 "nbformat": 4,
 "nbformat_minor": 5
}
