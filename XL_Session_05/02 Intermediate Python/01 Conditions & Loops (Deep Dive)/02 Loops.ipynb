{
 "cells": [
  {
   "cell_type": "code",
   "execution_count": null,
   "id": "7792004a",
   "metadata": {},
   "outputs": [],
   "source": []
  },
  {
   "cell_type": "markdown",
   "id": "5c1f36b3-334d-461b-ac84-1d505e3ddfbf",
   "metadata": {},
   "source": [
    "# Nested Loop"
   ]
  },
  {
   "cell_type": "code",
   "execution_count": null,
   "id": "b185c797-72fb-4332-9e6a-9447299124ed",
   "metadata": {},
   "outputs": [],
   "source": [
    "# loop inside loop\n",
    "# Basic understanding of Nested Loop"
   ]
  },
  {
   "cell_type": "code",
   "execution_count": 42,
   "id": "78080543",
   "metadata": {},
   "outputs": [
    {
     "name": "stdout",
     "output_type": "stream",
     "text": [
      "Red Apple\n",
      "Red Banana\n",
      "Red Grapes\n",
      "Yellow Apple\n",
      "Yellow Banana\n",
      "Yellow Grapes\n",
      "LightGreen Apple\n",
      "LightGreen Banana\n",
      "LightGreen Grapes\n"
     ]
    }
   ],
   "source": [
    "'''Nested Loop'''\n",
    "\n",
    "adj = [\"Red\", \"Yellow\", \"LightGreen\"]\n",
    "fruits = [\"Apple\", \"Banana\", \"Grapes\"]\n",
    "\n",
    "for i in adj:\n",
    "    for j in fruits:\n",
    "        print(i,j)\n",
    "\n"
   ]
  },
  {
   "cell_type": "code",
   "execution_count": 44,
   "id": "3ca4e840-5166-4ee2-b97f-e3e8d5dc271d",
   "metadata": {},
   "outputs": [
    {
     "name": "stdout",
     "output_type": "stream",
     "text": [
      "3 3\n",
      "2 2\n",
      "1 1\n"
     ]
    }
   ],
   "source": [
    "# Match the values\n",
    "firstList = [3, 2, 1]\n",
    "secondList = [1, 2, 3]\n",
    "third List = [1,2,3]\n",
    "    for j in secondList:\n",
    "        if i==j:\n",
    "            print(i,j)\n"
   ]
  },
  {
   "cell_type": "code",
   "execution_count": 45,
   "id": "2c8b6a99-e2e7-4db4-a63f-68601333b4d4",
   "metadata": {},
   "outputs": [],
   "source": [
    "# HomeWork"
   ]
  },
  {
   "cell_type": "code",
   "execution_count": null,
   "id": "c90ec207-2661-43ed-913d-aa52539f8821",
   "metadata": {},
   "outputs": [],
   "source": [
    "# match the values\n",
    "firstList = [3, 2, 1]\n",
    "secondList = [1, 2, 3]\n",
    "third List = [1,2,3]\n",
    "\n",
    "for i in firstList:\n",
    "    for j in secondList:\n",
    "        if i==j:\n",
    "            print(i,j)\n"
   ]
  },
  {
   "cell_type": "code",
   "execution_count": 46,
   "id": "746c4755",
   "metadata": {},
   "outputs": [
    {
     "name": "stdout",
     "output_type": "stream",
     "text": [
      "3 1  Not Match\n",
      "3 2  Not Match\n",
      "3 3  Match\n",
      "2 1  Not Match\n",
      "2 2  Match\n",
      "2 3  Not Match\n",
      "1 1  Match\n",
      "1 2  Not Match\n",
      "1 3  Not Match\n"
     ]
    }
   ],
   "source": [
    "# Print only matching Values\n",
    "\n",
    "firstList = [3, 2, 1]\n",
    "secondList = [1, 2, 3]\n",
    "\n",
    "for i in firstList:\n",
    "    for j in secondList:\n",
    "        if i == j:\n",
    "            print(i,j,\" Match\")\n",
    "        else:\n",
    "            print(i,j,\" Not Match\")\n",
    "            "
   ]
  },
  {
   "cell_type": "code",
   "execution_count": null,
   "id": "970638ba",
   "metadata": {},
   "outputs": [],
   "source": [
    "# Nested Loop"
   ]
  },
  {
   "cell_type": "code",
   "execution_count": null,
   "id": "823a6f45",
   "metadata": {},
   "outputs": [],
   "source": [
    "\n",
    "'''print below pattern'''\n",
    "'''\n",
    "1 2 3 4 5 6 \n",
    "1 2 3 4 5 6 \n",
    "1 2 3 4 5 6 \n",
    "1 2 3 4 5 6 \n",
    "1 2 3 4 5 6 \n",
    "1 2 3 4 5 6    \n",
    "'''"
   ]
  },
  {
   "cell_type": "code",
   "execution_count": 56,
   "id": "b43fe5e4-e02f-41b7-a022-3b8c0a560ee5",
   "metadata": {},
   "outputs": [
    {
     "name": "stdout",
     "output_type": "stream",
     "text": [
      "1 2 3 4 5 6 \n",
      "1 2 3 4 5 6 \n",
      "1 2 3 4 5 6 \n",
      "1 2 3 4 5 6 \n",
      "1 2 3 4 5 6 \n",
      "1 2 3 4 5 6 \n"
     ]
    }
   ],
   "source": [
    "for j in range(1,7):\n",
    "    for i in range(1,7):\n",
    "        print(i,end=\" \")\n",
    "    print()\n"
   ]
  },
  {
   "cell_type": "code",
   "execution_count": null,
   "id": "8a8d5e4b-37f1-4b45-83e5-6998a58914e3",
   "metadata": {},
   "outputs": [],
   "source": []
  },
  {
   "cell_type": "code",
   "execution_count": 57,
   "id": "caa8d103-b0fc-4ab5-bfa1-378687c154d5",
   "metadata": {},
   "outputs": [
    {
     "name": "stdout",
     "output_type": "stream",
     "text": [
      "1 2 3 4 5 6 \n",
      "1 2 3 4 5 6 \n",
      "1 2 3 4 5 6 \n",
      "1 2 3 4 5 6 \n",
      "1 2 3 4 5 6 \n",
      "1 2 3 4 5 6 \n"
     ]
    }
   ],
   "source": [
    "for j in range(1,7):\n",
    "    for i in range(1,7):\n",
    "        print(i,end=\" \")\n",
    "    print()\n",
    "\n"
   ]
  },
  {
   "cell_type": "code",
   "execution_count": 58,
   "id": "1eb6b164",
   "metadata": {},
   "outputs": [
    {
     "name": "stdout",
     "output_type": "stream",
     "text": [
      "1 2 3 4 5 6 \n",
      "1 2 3 4 5 6 \n",
      "1 2 3 4 5 6 \n",
      "1 2 3 4 5 6 \n",
      "1 2 3 4 5 6 \n",
      "1 2 3 4 5 6 \n"
     ]
    }
   ],
   "source": [
    "for i in range(1,7):\n",
    "    for j in range(1,7):\n",
    "        print(j,end=\" \")\n",
    "    print()\n",
    "    \n"
   ]
  },
  {
   "cell_type": "code",
   "execution_count": null,
   "id": "c27aa0e8-f999-4fa3-a021-b07d00c5292f",
   "metadata": {},
   "outputs": [],
   "source": [
    "\n",
    "'''print below pattern'''\n",
    "'''\n",
    "$ $ $ $ $ $ \n",
    "$ $ $ $ $ $ \n",
    "$ $ $ $ $ $  \n",
    "$ $ $ $ $ $ \n",
    "$ $ $ $ $ $ \n",
    "$ $ $ $ $ $ \n",
    "'''"
   ]
  },
  {
   "cell_type": "code",
   "execution_count": 62,
   "id": "b78eb45b-71d6-4039-9597-775e633341de",
   "metadata": {},
   "outputs": [
    {
     "name": "stdout",
     "output_type": "stream",
     "text": [
      "= = = = = = \n",
      "= = = = = = \n",
      "= = = = = = \n",
      "= = = = = = \n",
      "= = = = = = \n",
      "= = = = = = \n"
     ]
    }
   ],
   "source": [
    "for i in range(1,7):\n",
    "    for j in range(1,7):\n",
    "        print(\"=\",end=\" \")\n",
    "    print()\n",
    "\n"
   ]
  },
  {
   "cell_type": "code",
   "execution_count": null,
   "id": "855cc710",
   "metadata": {},
   "outputs": [],
   "source": [
    "for i in range(1,7):\n",
    "    for j in range(1,7):\n",
    "        print(\"*\",end=\" \")\n",
    "    print()\n"
   ]
  },
  {
   "cell_type": "code",
   "execution_count": null,
   "id": "2abf43f9",
   "metadata": {},
   "outputs": [],
   "source": [
    "'''\n",
    "* * * * * * \n",
    "* * * * * * \n",
    "* * * * * * \n",
    "* * * * * * \n",
    "* * * * * * \n",
    "* * * * * *    '''"
   ]
  },
  {
   "cell_type": "code",
   "execution_count": 63,
   "id": "658777be",
   "metadata": {},
   "outputs": [
    {
     "name": "stdout",
     "output_type": "stream",
     "text": [
      "* * * * * * \n",
      "* * * * * * \n",
      "* * * * * * \n",
      "* * * * * * \n",
      "* * * * * * \n",
      "* * * * * * \n"
     ]
    }
   ],
   "source": [
    "for i in range(1,7):\n",
    "    for j in range(1,7):\n",
    "        print(\"*\",end=\" \")\n",
    "    print()\n",
    "    "
   ]
  },
  {
   "cell_type": "code",
   "execution_count": 64,
   "id": "db005bc7",
   "metadata": {},
   "outputs": [
    {
     "name": "stdout",
     "output_type": "stream",
     "text": [
      "* * * * * * \n",
      "* * * * * * \n",
      "* * * * * * \n",
      "* * * * * * \n",
      "* * * * * * \n",
      "* * * * * * \n"
     ]
    }
   ],
   "source": [
    "for i in range(1,7):\n",
    "    for j in range(1,7):\n",
    "        print(\"*\",end=\" \")\n",
    "    print()\n",
    "    "
   ]
  },
  {
   "cell_type": "code",
   "execution_count": null,
   "id": "f8388941",
   "metadata": {},
   "outputs": [],
   "source": [
    "\n",
    "\n",
    "'''\n",
    "* \n",
    "* * \n",
    "* * * \n",
    "* * * * \n",
    "* * * * *    \n",
    "'''\n",
    "\n"
   ]
  },
  {
   "cell_type": "code",
   "execution_count": 68,
   "id": "565f2ce7-9325-4e06-8001-116c537ae294",
   "metadata": {},
   "outputs": [
    {
     "name": "stdout",
     "output_type": "stream",
     "text": [
      "* \n",
      "* * \n",
      "* * * \n",
      "* * * * \n",
      "* * * * * \n"
     ]
    }
   ],
   "source": [
    "for i in range(1,2):\n",
    "    print(\"*\",end=\" \")\n",
    "print()\n",
    "for i in range(1,3):\n",
    "    print(\"*\",end=\" \")\n",
    "print()\n",
    "for i in range(1,4):\n",
    "    print(\"*\",end=\" \")\n",
    "print()\n",
    "for i in range(1,5):\n",
    "    print(\"*\",end=\" \")\n",
    "print()\n",
    "for i in range(1,6):\n",
    "    print(\"*\",end=\" \")\n",
    "print()\n"
   ]
  },
  {
   "cell_type": "code",
   "execution_count": 76,
   "id": "40d596b8-704a-41e5-b5b9-be09b3056a66",
   "metadata": {},
   "outputs": [
    {
     "name": "stdout",
     "output_type": "stream",
     "text": [
      "\n",
      "* \n",
      "* * \n",
      "* * * \n",
      "* * * * \n",
      "* * * * * \n"
     ]
    }
   ],
   "source": [
    "for j in range(1,7):\n",
    "    for i in range(1,j):\n",
    "        print(\"*\",end=\" \")\n",
    "    print()\n"
   ]
  },
  {
   "cell_type": "code",
   "execution_count": null,
   "id": "f93ad808-4c4b-4cd9-ace8-5f3607737472",
   "metadata": {},
   "outputs": [],
   "source": []
  },
  {
   "cell_type": "code",
   "execution_count": null,
   "id": "415019f8",
   "metadata": {},
   "outputs": [],
   "source": [
    "'''Nested Loop'''\n",
    "for i in range(1,7):\n",
    "    for j in range(1,i):\n",
    "        print(\"*\",end=\" \")\n",
    "    print()"
   ]
  },
  {
   "cell_type": "code",
   "execution_count": null,
   "id": "b9cffe41",
   "metadata": {},
   "outputs": [],
   "source": []
  },
  {
   "cell_type": "code",
   "execution_count": null,
   "id": "07a2aeda",
   "metadata": {},
   "outputs": [],
   "source": [
    "for i in range(1,7):\n",
    "    for j in range(1,i):\n",
    "        print(\"*\",end=\" \")\n",
    "    print()"
   ]
  },
  {
   "cell_type": "code",
   "execution_count": null,
   "id": "2af2cfbf",
   "metadata": {},
   "outputs": [],
   "source": []
  },
  {
   "cell_type": "code",
   "execution_count": null,
   "id": "1287796a",
   "metadata": {},
   "outputs": [],
   "source": [
    "'''\n",
    "* * * * * * * * * \n",
    "* * * * * * * * \n",
    "* * * * * * * \n",
    "* * * * * * \n",
    "* * * * * \n",
    "* * * * \n",
    "* * * \n",
    "* * \n",
    "* '''"
   ]
  },
  {
   "cell_type": "code",
   "execution_count": 79,
   "id": "975069fe-a894-4d80-ad7b-e55b0ec9b670",
   "metadata": {},
   "outputs": [
    {
     "name": "stdout",
     "output_type": "stream",
     "text": [
      "* * * * * * \n",
      "* * * * * \n",
      "* * * * \n",
      "* * * \n",
      "* * \n",
      "* "
     ]
    }
   ],
   "source": [
    "\n",
    "for j in range(1,7): \n",
    "    print(\"*\",end=\" \")\n",
    "print()\n",
    "for j in range(2,7):\n",
    "    print(\"*\",end=\" \")\n",
    "print()\n",
    "for j in range(3,7): \n",
    "    print(\"*\",end=\" \")\n",
    "print()\n",
    "for j in range(4,7):\n",
    "    print(\"*\",end=\" \")\n",
    "print()\n",
    "for j in range(5,7):\n",
    "    print(\"*\",end=\" \")\n",
    "print()\n",
    "for j in range(6,7):\n",
    "    print(\"*\",end=\" \")\n",
    "\n",
    "\n",
    "\n"
   ]
  },
  {
   "cell_type": "code",
   "execution_count": 85,
   "id": "20c49185-a941-4974-bd2b-9081edaa50f9",
   "metadata": {},
   "outputs": [
    {
     "name": "stdout",
     "output_type": "stream",
     "text": [
      "* * * * * * \n",
      "* * * * * \n",
      "* * * * \n",
      "* * * \n",
      "* * \n",
      "* \n"
     ]
    }
   ],
   "source": [
    "for i in range(1,7):\n",
    "    for j in range(i,7):\n",
    "        print(\"*\",end=\" \")\n",
    "    print()\n",
    "\n"
   ]
  },
  {
   "cell_type": "code",
   "execution_count": 86,
   "id": "e8cb4698-5970-457e-81cf-a54d6074740f",
   "metadata": {},
   "outputs": [
    {
     "name": "stdout",
     "output_type": "stream",
     "text": [
      "* * * * * * \n",
      "* * * * * \n",
      "* * * * \n",
      "* * * \n",
      "* * \n",
      "* \n"
     ]
    }
   ],
   "source": [
    "for i in range(1,7):\n",
    "    for j in range(i,7): \n",
    "        print(\"*\",end=\" \")\n",
    "    print()\n",
    "    "
   ]
  },
  {
   "cell_type": "code",
   "execution_count": null,
   "id": "7c8629dc",
   "metadata": {},
   "outputs": [],
   "source": [
    "for i in range(1,7):\n",
    "    for j in range(i,7):\n",
    "        print(\"*\",end=\" \")\n",
    "    print()"
   ]
  },
  {
   "cell_type": "code",
   "execution_count": null,
   "id": "0d08eaf2",
   "metadata": {},
   "outputs": [],
   "source": []
  },
  {
   "cell_type": "code",
   "execution_count": null,
   "id": "3200ca31",
   "metadata": {},
   "outputs": [],
   "source": [
    "\n",
    "for i in range(1,7):\n",
    "    k = 7-i\n",
    "    for j in range(1,k):\n",
    "        print(\"*\",end=\" \")\n",
    "    print()\n",
    "\n"
   ]
  },
  {
   "cell_type": "code",
   "execution_count": 87,
   "id": "e41d523c",
   "metadata": {},
   "outputs": [
    {
     "name": "stdout",
     "output_type": "stream",
     "text": [
      "0\n",
      "1\n",
      "2\n"
     ]
    }
   ],
   "source": [
    "'''break Statement'''\n",
    "''' break statement immediately terminates the loop'''\n",
    "\n",
    "for i in range(6):\n",
    "    if i==3:\n",
    "        break\n",
    "    \n",
    "    print(i)\n",
    "    "
   ]
  },
  {
   "cell_type": "code",
   "execution_count": 88,
   "id": "cc1ec963",
   "metadata": {},
   "outputs": [
    {
     "name": "stdout",
     "output_type": "stream",
     "text": [
      "0\n",
      "1\n",
      "2\n",
      "4\n",
      "5\n"
     ]
    }
   ],
   "source": [
    "'''Continue'''\n",
    "'''continue statement skips and jump to the rest iteration of the loop '''\n",
    "\n",
    "for i in range(6):\n",
    "    if i == 3:\n",
    "        continue\n",
    "    print(i)\n",
    "\n"
   ]
  },
  {
   "cell_type": "code",
   "execution_count": null,
   "id": "304eb1cc",
   "metadata": {},
   "outputs": [],
   "source": []
  },
  {
   "cell_type": "code",
   "execution_count": null,
   "id": "de1edcb6",
   "metadata": {},
   "outputs": [],
   "source": []
  },
  {
   "cell_type": "code",
   "execution_count": null,
   "id": "e858d99a",
   "metadata": {},
   "outputs": [],
   "source": []
  },
  {
   "cell_type": "code",
   "execution_count": null,
   "id": "9e88b08d",
   "metadata": {},
   "outputs": [],
   "source": []
  },
  {
   "cell_type": "code",
   "execution_count": null,
   "id": "07f1c64c",
   "metadata": {},
   "outputs": [],
   "source": []
  }
 ],
 "metadata": {
  "kernelspec": {
   "display_name": "Python 3 (ipykernel)",
   "language": "python",
   "name": "python3"
  },
  "language_info": {
   "codemirror_mode": {
    "name": "ipython",
    "version": 3
   },
   "file_extension": ".py",
   "mimetype": "text/x-python",
   "name": "python",
   "nbconvert_exporter": "python",
   "pygments_lexer": "ipython3",
   "version": "3.11.7"
  }
 },
 "nbformat": 4,
 "nbformat_minor": 5
}
