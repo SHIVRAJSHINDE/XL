{
 "cells": [
  {
   "cell_type": "code",
   "execution_count": 5,
   "id": "f8734684",
   "metadata": {},
   "outputs": [
    {
     "data": {
      "text/plain": [
       "str"
      ]
     },
     "execution_count": 5,
     "metadata": {},
     "output_type": "execute_result"
    }
   ],
   "source": [
    "abc = 'my name is sunil'\n",
    "\n",
    "abc\n",
    "type(abc)\n"
   ]
  },
  {
   "cell_type": "code",
   "execution_count": null,
   "id": "5fb63859-c724-4a49-85dd-0d6f084f745a",
   "metadata": {},
   "outputs": [],
   "source": []
  },
  {
   "cell_type": "code",
   "execution_count": null,
   "id": "3d18e9e2-ef13-4d4e-b4c7-1481452d3bde",
   "metadata": {},
   "outputs": [],
   "source": []
  },
  {
   "cell_type": "code",
   "execution_count": null,
   "id": "7fe778bd-2099-485b-942b-10b6d5471378",
   "metadata": {},
   "outputs": [],
   "source": []
  },
  {
   "cell_type": "code",
   "execution_count": null,
   "id": "79ac65d0-7785-4665-91f4-3fb06b681a95",
   "metadata": {},
   "outputs": [],
   "source": []
  },
  {
   "cell_type": "code",
   "execution_count": 16,
   "id": "f3d2532e",
   "metadata": {},
   "outputs": [
    {
     "name": "stdout",
     "output_type": "stream",
     "text": [
      "Choose the method that best suits your preference and the version of Python you're using. \n",
      "f-strings are generally preferred for their simplicity and readability, but the \n",
      "other methods are still widely used, especially in older codebases.\n"
     ]
    }
   ],
   "source": [
    "a = \"\"\"Choose the method that best suits your preference and the version of Python you're using. \n",
    "f-strings are generally preferred for their simplicity and readability, but the \n",
    "other methods are still widely used, especially in older codebases.\"\"\"\n",
    "print(a)\n"
   ]
  },
  {
   "cell_type": "code",
   "execution_count": 17,
   "id": "dd562343",
   "metadata": {},
   "outputs": [
    {
     "name": "stdout",
     "output_type": "stream",
     "text": [
      "Choose the method that best suits your preference and the version of Python you're using. \n",
      "f-strings are generally preferred for their simplicity and readability, but the \n",
      "other methods are still widely used, especially in older codebases.\n"
     ]
    }
   ],
   "source": [
    "a = '''Choose the method that best suits your preference and the version of Python you're using. \n",
    "f-strings are generally preferred for their simplicity and readability, but the \n",
    "other methods are still widely used, especially in older codebases.'''\n",
    "print(a)\n",
    "\n"
   ]
  },
  {
   "cell_type": "code",
   "execution_count": 21,
   "id": "ecf63b0e-2c3f-4c37-9217-1317723a5b87",
   "metadata": {},
   "outputs": [
    {
     "data": {
      "text/plain": [
       "'Its alright. \"This is Rajesh:\"'"
      ]
     },
     "execution_count": 21,
     "metadata": {},
     "output_type": "execute_result"
    }
   ],
   "source": [
    "'It\\'s alright'\n",
    "\"Its alright. \\\"This is Rajesh:\\\"\"\n"
   ]
  },
  {
   "cell_type": "code",
   "execution_count": 13,
   "id": "018eba4e",
   "metadata": {},
   "outputs": [
    {
     "ename": "SyntaxError",
     "evalue": "invalid syntax (103767053.py, line 7)",
     "output_type": "error",
     "traceback": [
      "\u001b[1;36m  Cell \u001b[1;32mIn[13], line 7\u001b[1;36m\u001b[0m\n\u001b[1;33m    txt = \"Its alright. \"This is Rajesh:\"\"\u001b[0m\n\u001b[1;37m                         ^\u001b[0m\n\u001b[1;31mSyntaxError\u001b[0m\u001b[1;31m:\u001b[0m invalid syntax\n"
     ]
    }
   ],
   "source": [
    "'''Escape Character'''\n",
    "# Data Manupulation\n",
    "# '\\'\n",
    "\n",
    "'my name is Rajesh\\\\sunils.'\n",
    "\n",
    "txt = \"Its alright. \\\"This is Rajesh:\\\"\"\n",
    "\n",
    "txt\n"
   ]
  },
  {
   "cell_type": "code",
   "execution_count": 8,
   "id": "15a2b968-ae74-4b82-98db-35dba5a6962f",
   "metadata": {},
   "outputs": [
    {
     "name": "stdout",
     "output_type": "stream",
     "text": [
      "It\\s alright.\n"
     ]
    }
   ],
   "source": [
    "# Single \\\n",
    "txt = 'It\\s alright.'\n",
    "\n",
    "print(txt)\n",
    "\n"
   ]
  },
  {
   "cell_type": "code",
   "execution_count": null,
   "id": "8c48d69b",
   "metadata": {},
   "outputs": [],
   "source": [
    "txt = \"Its\\alright\"\n",
    "txt\n"
   ]
  },
  {
   "cell_type": "code",
   "execution_count": null,
   "id": "497eaf41",
   "metadata": {},
   "outputs": [],
   "source": [
    "'''Single Slash'''\n",
    "txt = 'It\\'s alright.'\n",
    "'\\'\n",
    "print(txt)\n"
   ]
  },
  {
   "cell_type": "code",
   "execution_count": 42,
   "id": "9e4236ba-2cbb-4731-916c-a3b442c1e761",
   "metadata": {},
   "outputs": [
    {
     "name": "stdout",
     "output_type": "stream",
     "text": [
      "this is rajesh\\Sunil\n"
     ]
    }
   ],
   "source": [
    "txt = \"this is rajesh\\Sunil\"\n",
    "\n",
    "print(txt)\n",
    "\n",
    "\n"
   ]
  },
  {
   "cell_type": "code",
   "execution_count": 30,
   "id": "7f7b7fd8",
   "metadata": {},
   "outputs": [
    {
     "name": "stdout",
     "output_type": "stream",
     "text": [
      "This will insert one \\ (backslash).\n"
     ]
    }
   ],
   "source": [
    "txt = \"This will insert one \\\\ (backslash).\"\n",
    "print(txt)\n"
   ]
  },
  {
   "cell_type": "code",
   "execution_count": 48,
   "id": "190536f7-6fa5-49c8-b487-d426c74a1c7f",
   "metadata": {},
   "outputs": [
    {
     "name": "stdout",
     "output_type": "stream",
     "text": [
      "Choose\t preference\tof Python \n"
     ]
    }
   ],
   "source": [
    "txt = \"Choose\\t preference\\tof Python \"\n",
    "print(txt)\n",
    " "
   ]
  },
  {
   "cell_type": "code",
   "execution_count": 43,
   "id": "a49f11d2",
   "metadata": {},
   "outputs": [
    {
     "name": "stdout",
     "output_type": "stream",
     "text": [
      "Hello\n",
      "World!\n"
     ]
    }
   ],
   "source": [
    "'''New Line'''\n",
    "'\\n'\n",
    "\n",
    "txt = \"Hello\\nWorld!\"\n",
    "print(txt)\n"
   ]
  },
  {
   "cell_type": "code",
   "execution_count": null,
   "id": "1de2be97",
   "metadata": {},
   "outputs": [],
   "source": [
    "'''Carriage Return'''\n",
    "'\\r'\n",
    "txt1 = \"Hello\\rWorld!\"\n",
    "txt2 = \"Hello\\rRajesh\"\n",
    "print(txt1)\n",
    "print(txt2)\n",
    "\n"
   ]
  },
  {
   "cell_type": "code",
   "execution_count": null,
   "id": "bcd5eccb",
   "metadata": {},
   "outputs": [],
   "source": [
    "'''Tab'''\n",
    "'''\\t'''\n",
    "txt = \"Hello\\tWorld!\"\n",
    "\n",
    "print(txt)\n"
   ]
  },
  {
   "cell_type": "code",
   "execution_count": 52,
   "id": "68973900-ffcc-4639-ab89-2a86268722ee",
   "metadata": {},
   "outputs": [
    {
     "name": "stdout",
     "output_type": "stream",
     "text": [
      "this is Rajes here\n"
     ]
    }
   ],
   "source": []
  },
  {
   "cell_type": "code",
   "execution_count": null,
   "id": "54fd7e94",
   "metadata": {},
   "outputs": [],
   "source": [
    "'''Backspace'''\n",
    "'''\\b'''\n",
    "#This example erases one character (backspace):\n",
    "txt = \"Hello \\bWorld!\"\n",
    "\n",
    "print(txt)\n"
   ]
  },
  {
   "cell_type": "markdown",
   "id": "1fd93474",
   "metadata": {},
   "source": [
    "# Sting Formatting"
   ]
  },
  {
   "cell_type": "code",
   "execution_count": 4,
   "id": "2b269902",
   "metadata": {},
   "outputs": [
    {
     "data": {
      "text/plain": [
       "'Rajesh is my name. my age 32. my oranization name is tata'"
      ]
     },
     "execution_count": 4,
     "metadata": {},
     "output_type": "execute_result"
    }
   ],
   "source": [
    "name = \"Rajesh\"\n",
    "age  = 32\n",
    "company = \"tata\"\n",
    "\n",
    "txt = f\"name is my name. my age age. my oranization name is company\"\n",
    "\n"
   ]
  },
  {
   "cell_type": "code",
   "execution_count": 131,
   "id": "dc6000c5",
   "metadata": {},
   "outputs": [
    {
     "data": {
      "text/plain": [
       "'Name: Sunil, Age: 32, Height: 5.912'"
      ]
     },
     "execution_count": 131,
     "metadata": {},
     "output_type": "execute_result"
    }
   ],
   "source": [
    "'''Using f-Strings (Available in Python 3.6 and later):'''\n",
    "\n",
    "name = \"Sunil\"\n",
    "age = 32\n",
    "height = 5.912\n",
    "\n",
    "# Using f-strings\n",
    "\n",
    "formatted_string = f\"Name: {name}, Age: {age}, Height: {height:.1f}\"\n",
    "\n",
    "formatted_string\n",
    "\n",
    "\n"
   ]
  },
  {
   "cell_type": "code",
   "execution_count": null,
   "id": "0d7ac197-a1ec-437a-8df4-c3a71c39c626",
   "metadata": {},
   "outputs": [],
   "source": [
    "\n",
    "# Create f-sting of below text\n",
    "\n",
    "\"Student: collegeName: Percentage:\"\n",
    "\n"
   ]
  },
  {
   "cell_type": "code",
   "execution_count": 15,
   "id": "7f89ab2b-393f-45da-992e-f0d9dd7c3e99",
   "metadata": {},
   "outputs": [
    {
     "name": "stdout",
     "output_type": "stream",
     "text": [
      "Myname:Sunil,age:32,height: 3.14159\n"
     ]
    }
   ],
   "source": [
    "name = \"Sunil\"\n",
    "age = 32\n",
    "height = 3.14159265359\n",
    "\n",
    "formatNEWstr1 = f\"Myname:{name},age:{age},height: {height:.5f}\"\n",
    "\n",
    "\n",
    "print(formatNEWstr1)\n",
    "\n",
    "# Output: Name: John, Age: 30, Height: 5.90\n"
   ]
  },
  {
   "cell_type": "code",
   "execution_count": 14,
   "id": "3a6ebecf-9cc7-4067-802c-05017ea8c82a",
   "metadata": {},
   "outputs": [
    {
     "data": {
      "text/plain": [
       "7.333333333333333"
      ]
     },
     "execution_count": 14,
     "metadata": {},
     "output_type": "execute_result"
    }
   ],
   "source": [
    "22/3\n"
   ]
  },
  {
   "cell_type": "code",
   "execution_count": 56,
   "id": "8fa09c0f-ab5c-4e3b-bf42-fed69a11c0b3",
   "metadata": {},
   "outputs": [
    {
     "data": {
      "text/plain": [
       "'aje'"
      ]
     },
     "execution_count": 56,
     "metadata": {},
     "output_type": "execute_result"
    }
   ],
   "source": [
    "mySting = \"Rajesh\"\n",
    "#         \"012345\"\n",
    "mySting[1:3]\n"
   ]
  },
  {
   "cell_type": "code",
   "execution_count": 59,
   "id": "7657e754-ad70-46c9-98ed-48a3750d160e",
   "metadata": {},
   "outputs": [
    {
     "data": {
      "text/plain": [
       "'aje'"
      ]
     },
     "execution_count": 59,
     "metadata": {},
     "output_type": "execute_result"
    }
   ],
   "source": [
    "mySting = \"Rajesh\"\n",
    "#         \"-6-5-4-3-2-1\"\n",
    "\n",
    "mySting[-5:-2]\n"
   ]
  },
  {
   "cell_type": "code",
   "execution_count": null,
   "id": "fb0a644b-0d79-4b1c-870f-ddacbe95e5a3",
   "metadata": {},
   "outputs": [],
   "source": [
    "# Task\n",
    "mySting = \"my name is sunil.\"\n",
    "# print below using both indexing + ve and -ve Indexing.\n",
    "\n",
    "# .\n",
    "# sunil\n",
    "# name\n"
   ]
  },
  {
   "cell_type": "code",
   "execution_count": null,
   "id": "1bf78927-9c78-46b1-aa63-3d7acc3893e2",
   "metadata": {},
   "outputs": [],
   "source": []
  },
  {
   "cell_type": "code",
   "execution_count": null,
   "id": "3ae4696a-3ccd-4a2a-9177-28038c026b20",
   "metadata": {},
   "outputs": [],
   "source": []
  },
  {
   "cell_type": "code",
   "execution_count": null,
   "id": "207ffea7-a605-4c8a-b9a8-c67c81f0bd54",
   "metadata": {},
   "outputs": [],
   "source": []
  },
  {
   "cell_type": "markdown",
   "id": "2eda8b42",
   "metadata": {},
   "source": [
    "# Indexing, Slicing & Dicing"
   ]
  },
  {
   "cell_type": "code",
   "execution_count": 13,
   "id": "bdf49b87",
   "metadata": {},
   "outputs": [
    {
     "data": {
      "text/plain": [
       "'World!'"
      ]
     },
     "execution_count": 13,
     "metadata": {},
     "output_type": "execute_result"
    }
   ],
   "source": [
    "'''Syntax: string[index]'''\n",
    "\n",
    "my_string = \"Hello, World!\"\n",
    "# postion = index +1\n",
    "# index = index\n",
    "\n",
    "\n",
    "my_string[7:13]\n"
   ]
  },
  {
   "cell_type": "code",
   "execution_count": 14,
   "id": "0bf590ce-f682-4b84-9b96-df457d973281",
   "metadata": {},
   "outputs": [
    {
     "data": {
      "text/plain": [
       "'World'"
      ]
     },
     "execution_count": 14,
     "metadata": {},
     "output_type": "execute_result"
    }
   ],
   "source": [
    "'''Syntax: string[index]'''\n",
    "\n",
    "my_string = \"Hello, World!\"\n",
    "#                        -1\n",
    "# index = index\n",
    "\n",
    "my_string[-6:-1]\n"
   ]
  },
  {
   "cell_type": "code",
   "execution_count": 15,
   "id": "40171b5e",
   "metadata": {},
   "outputs": [
    {
     "data": {
      "text/plain": [
       "'!dlroW ,olleH'"
      ]
     },
     "execution_count": 15,
     "metadata": {},
     "output_type": "execute_result"
    }
   ],
   "source": [
    "'''Slicing:'''\n",
    "\n",
    "my_string = \"Hello, World!\"\n",
    "\n",
    "my_string[0:5]\n",
    "my_string[1:]\n",
    "\n",
    "# reverse\n",
    "my_string[::-1]\n",
    "\n"
   ]
  },
  {
   "cell_type": "code",
   "execution_count": null,
   "id": "c7f37029-9997-472a-91f6-e00b36b8995b",
   "metadata": {},
   "outputs": [],
   "source": [
    "my_string = \"Hello, World!\"\n",
    "my_string[0:-2]\n"
   ]
  },
  {
   "cell_type": "code",
   "execution_count": null,
   "id": "1d232e14",
   "metadata": {},
   "outputs": [],
   "source": [
    "print(my_string[0:5])      # Output: 'Hello'\n",
    "print(my_string[7:])       # Output: 'World!'\n",
    "print(my_string[:5])       # Output: 'Hello'\n",
    "print(my_string[::-1])     # Output: '!dlroW ,olleH' (reversed string)\n"
   ]
  },
  {
   "cell_type": "code",
   "execution_count": null,
   "id": "7a057cdf",
   "metadata": {},
   "outputs": [],
   "source": []
  },
  {
   "cell_type": "markdown",
   "id": "28232a26",
   "metadata": {},
   "source": [
    "# input()"
   ]
  },
  {
   "cell_type": "code",
   "execution_count": 20,
   "id": "26cbb0c3",
   "metadata": {},
   "outputs": [
    {
     "name": "stdin",
     "output_type": "stream",
     "text": [
      "Enter Name:  Rajesh\n"
     ]
    }
   ],
   "source": [
    "'''In Python, the input()'''\n",
    "\n",
    "name = input(\"Enter Name: \")\n"
   ]
  },
  {
   "cell_type": "code",
   "execution_count": 21,
   "id": "649a72a4",
   "metadata": {},
   "outputs": [
    {
     "name": "stdin",
     "output_type": "stream",
     "text": [
      "Please enter your Name:  sunil singh\n"
     ]
    },
    {
     "name": "stdout",
     "output_type": "stream",
     "text": [
      "sunil singh\n"
     ]
    }
   ],
   "source": [
    "txt =input(\"Please enter your Name: \")\n",
    "print(txt)\n"
   ]
  },
  {
   "cell_type": "code",
   "execution_count": null,
   "id": "6af9c525-8320-4cf0-a212-59dc615f94f0",
   "metadata": {},
   "outputs": [],
   "source": []
  },
  {
   "cell_type": "markdown",
   "id": "a36309a3",
   "metadata": {},
   "source": [
    "# String Formatting"
   ]
  },
  {
   "cell_type": "raw",
   "id": "7714d441-8a7b-43df-a1b4-4b7532c716d8",
   "metadata": {},
   "source": []
  },
  {
   "cell_type": "code",
   "execution_count": null,
   "id": "dbad18dc",
   "metadata": {},
   "outputs": [],
   "source": [
    "'''Using format() Method:'''\n",
    "name = \"Rajesh\"\n",
    "age = 21\n",
    "height = 5.9\n",
    "\n",
    "# \"name:JOHN age:30 height:5.9\"\n",
    "\n",
    "# Using format() method\n",
    "formatted_string = \"Name: {}, Age: {}, Height: {:.1f}\".format(name, age, height)\n",
    "\n",
    "print(formatted_string)\n",
    "\n",
    "\n"
   ]
  },
  {
   "cell_type": "code",
   "execution_count": null,
   "id": "f9237363-c754-4bdd-911c-a6fc22acad6f",
   "metadata": {},
   "outputs": [],
   "source": []
  },
  {
   "cell_type": "code",
   "execution_count": null,
   "id": "2ea71808-4503-415d-a2f8-5012bfb67add",
   "metadata": {},
   "outputs": [],
   "source": []
  },
  {
   "cell_type": "markdown",
   "id": "75dfe8e9-e52e-437a-bf86-34a56e8b938f",
   "metadata": {},
   "source": [
    "# String Methods"
   ]
  },
  {
   "cell_type": "raw",
   "id": "dd0e4eee-59ab-4fd8-8a66-06c3feb1bfc7",
   "metadata": {},
   "source": [
    "| Method          | Description                                                         |\n",
    "|-----------------|---------------------------------------------------------------------|\n",
    "| `upper()`       | Converts all characters in the string to uppercase                  |\n",
    "| `lower()`       | Converts all characters in the string to lowercase                  |\n",
    "| `capitalize()`  | Converts the first character to uppercase                           |\n",
    "| `title()`       | Converts the first character of each word to uppercase              |\n",
    "| `replace()`     | Returns a string where a specified value is replaced with a specified value |\n",
    "| `join()`        | Joins the elements of an iterable to the end of the string          |\n",
    "| `split()`       | Splits the string at the specified separator and returns a list     |\n",
    "| `splitlines()`  | Splits the string at line breaks and returns a list                 |\n",
    "| `strip()`       | Returns a trimmed version of the string                             |\n",
    "| `swapcase()`    | Swaps cases; lower case becomes upper case and vice versa           |\n",
    "| `count()`       | Returns the number of times a specified value occurs in a string    |\n",
    "| `startswith()`  | Returns true if the string starts with the specified value          |\n",
    "| `endswith()`    | Returns true if the string ends with the specified value            |\n",
    "| `find()`        | Returns the position of the word where it was found                 |\n",
    "| `format()`      | Formats specified values in a string                                |\n",
    "| `index()`       | Returns the position of where the word was found                    |\n"
   ]
  },
  {
   "cell_type": "code",
   "execution_count": null,
   "id": "6fab4838-aefe-4380-ad9f-b98470ccfb5c",
   "metadata": {},
   "outputs": [],
   "source": []
  },
  {
   "cell_type": "code",
   "execution_count": null,
   "id": "9ebd813c-b3ec-4bb4-8259-7904c73d7825",
   "metadata": {},
   "outputs": [],
   "source": []
  },
  {
   "cell_type": "code",
   "execution_count": 100,
   "id": "56dc6b03-1db1-4acb-b7b9-7569009d6f71",
   "metadata": {},
   "outputs": [
    {
     "data": {
      "text/plain": [
       "'this........is........Java'"
      ]
     },
     "execution_count": 100,
     "metadata": {},
     "output_type": "execute_result"
    }
   ],
   "source": [
    "abc = [\"this\",\"is\",\"Java\"]\n",
    "\n",
    "\n",
    "\"........\".join(abc)\n"
   ]
  },
  {
   "cell_type": "code",
   "execution_count": 1,
   "id": "1eaaa4d1",
   "metadata": {},
   "outputs": [
    {
     "data": {
      "text/plain": [
       "'HELLO MY FRIENDS'"
      ]
     },
     "execution_count": 1,
     "metadata": {},
     "output_type": "execute_result"
    }
   ],
   "source": [
    "# Upper Case\n",
    "\n",
    "txt = \"Hello my friends\"\n",
    "\n",
    "txt.upper()\n",
    "\n",
    "\n",
    "\n",
    "\"sting manupulatoin\""
   ]
  },
  {
   "cell_type": "code",
   "execution_count": 2,
   "id": "ef5205bb",
   "metadata": {},
   "outputs": [
    {
     "name": "stdout",
     "output_type": "stream",
     "text": [
      "hello my friends\n"
     ]
    }
   ],
   "source": [
    "txt = \"Hello my FRIENDS\"\n",
    "x = txt.lower()\n",
    "print(x)\n"
   ]
  },
  {
   "cell_type": "code",
   "execution_count": 3,
   "id": "2b169394",
   "metadata": {},
   "outputs": [
    {
     "data": {
      "text/plain": [
       "'Hello, and welcome to my world.'"
      ]
     },
     "execution_count": 3,
     "metadata": {},
     "output_type": "execute_result"
    }
   ],
   "source": [
    "txt = \"hello, and welcome to my world.\"\n",
    "x = txt.capitalize()\n",
    "x\n"
   ]
  },
  {
   "cell_type": "code",
   "execution_count": 4,
   "id": "2e3230a6-f32a-451c-a928-3c6b8bdb854a",
   "metadata": {},
   "outputs": [
    {
     "data": {
      "text/plain": [
       "'Welcome To My World'"
      ]
     },
     "execution_count": 4,
     "metadata": {},
     "output_type": "execute_result"
    }
   ],
   "source": [
    "txt = \"Welcome to my world\"\n",
    "x = txt.title()\n",
    "x\n"
   ]
  },
  {
   "cell_type": "code",
   "execution_count": 6,
   "id": "c8363134-8b67-42f1-8482-7241afbf395b",
   "metadata": {},
   "outputs": [
    {
     "data": {
      "text/plain": [
       "'I dont like bananas'"
      ]
     },
     "execution_count": 6,
     "metadata": {},
     "output_type": "execute_result"
    }
   ],
   "source": [
    "txt = \"I like bananas\"\n",
    "txt.replace(\"like\",\"dont like\")\n"
   ]
  },
  {
   "cell_type": "code",
   "execution_count": 9,
   "id": "d04b244f-5d3f-4f13-bd0c-fbb724ab8b73",
   "metadata": {},
   "outputs": [
    {
     "data": {
      "text/plain": [
       "'John Peter Vicky'"
      ]
     },
     "execution_count": 9,
     "metadata": {},
     "output_type": "execute_result"
    }
   ],
   "source": [
    "myList = [\"John\", \"Peter\", \"Vicky\"]\n",
    "\n",
    "\" \".join(myList)\n"
   ]
  },
  {
   "cell_type": "code",
   "execution_count": 12,
   "id": "b7030076-5f1a-4fb4-8834-4c43645daa97",
   "metadata": {},
   "outputs": [
    {
     "data": {
      "text/plain": [
       "['welcome', 'to', 'the', 'jungle']"
      ]
     },
     "execution_count": 12,
     "metadata": {},
     "output_type": "execute_result"
    }
   ],
   "source": [
    "txt = \"welcome to the jungle\"\n",
    "\n",
    "txt.split(\" \")\n"
   ]
  },
  {
   "cell_type": "code",
   "execution_count": 16,
   "id": "5d049ff2-2334-4cbd-ae99-1a0c79059959",
   "metadata": {},
   "outputs": [
    {
     "data": {
      "text/plain": [
       "['Thank you for the music', 'Welcome to the jungle. ', 'Welcome to the jungle']"
      ]
     },
     "execution_count": 16,
     "metadata": {},
     "output_type": "execute_result"
    }
   ],
   "source": [
    "txt = \"\"\"Thank you for the music\\nWelcome to the jungle. \n",
    "Welcome to the jungle\"\"\"\n",
    "txt.splitlines()\n"
   ]
  },
  {
   "cell_type": "code",
   "execution_count": 17,
   "id": "1b6dc6eb-4418-400b-8839-532bb5be0c8e",
   "metadata": {},
   "outputs": [
    {
     "name": "stdout",
     "output_type": "stream",
     "text": [
      "of all fruits banana is my favorite\n"
     ]
    }
   ],
   "source": [
    "# remove aditional space\n",
    "txt = \" banana \"\n",
    "x = txt.strip()\n",
    "print(\"of all fruits\", x, \"is my favorite\")\n"
   ]
  },
  {
   "cell_type": "code",
   "execution_count": 18,
   "id": "92c733e5-6d97-4ce3-8417-809a5d165452",
   "metadata": {},
   "outputs": [
    {
     "data": {
      "text/plain": [
       "'hELLO mY nAME iS peter'"
      ]
     },
     "execution_count": 18,
     "metadata": {},
     "output_type": "execute_result"
    }
   ],
   "source": [
    "# swap case\n",
    "txt = \"Hello My Name Is PETER\"\n",
    "txt.swapcase()\n",
    "    \n"
   ]
  },
  {
   "cell_type": "code",
   "execution_count": 19,
   "id": "33332ed9-a4d8-4dbc-a902-42ec95b85690",
   "metadata": {},
   "outputs": [
    {
     "data": {
      "text/plain": [
       "3"
      ]
     },
     "execution_count": 19,
     "metadata": {},
     "output_type": "execute_result"
    }
   ],
   "source": [
    "# count\n",
    "txt = \"I love apple, apple are my favorite fruit apple\"\n",
    "txt.count(\"apple\")\n"
   ]
  },
  {
   "cell_type": "code",
   "execution_count": 21,
   "id": "f4f41f0b-0c3c-4e5a-9001-441cd861329d",
   "metadata": {},
   "outputs": [
    {
     "data": {
      "text/plain": [
       "5"
      ]
     },
     "execution_count": 21,
     "metadata": {},
     "output_type": "execute_result"
    }
   ],
   "source": [
    "txt = \"apple\"\n",
    "len(txt)\n"
   ]
  },
  {
   "cell_type": "code",
   "execution_count": null,
   "id": "b4af3644-071f-441b-b931-0b344b345356",
   "metadata": {},
   "outputs": [],
   "source": []
  },
  {
   "cell_type": "code",
   "execution_count": 24,
   "id": "5909e823-18cd-4cb4-9da7-d85d2a879025",
   "metadata": {},
   "outputs": [
    {
     "data": {
      "text/plain": [
       "True"
      ]
     },
     "execution_count": 24,
     "metadata": {},
     "output_type": "execute_result"
    }
   ],
   "source": [
    "txt = \"Hello, welcome to my world.\"\n",
    "txt.startswith(\"He\")\n"
   ]
  },
  {
   "cell_type": "code",
   "execution_count": 25,
   "id": "68e8bfc6-5581-4ea0-a1a2-7d7e5f176af6",
   "metadata": {},
   "outputs": [
    {
     "data": {
      "text/plain": [
       "True"
      ]
     },
     "execution_count": 25,
     "metadata": {},
     "output_type": "execute_result"
    }
   ],
   "source": [
    "txt = \"Hello, welcome to my world.\"\n",
    "txt.endswith(\"world.\")\n",
    "\n"
   ]
  },
  {
   "cell_type": "code",
   "execution_count": 29,
   "id": "faae694d-011e-4d4e-a134-f02f69e9c23c",
   "metadata": {},
   "outputs": [
    {
     "data": {
      "text/plain": [
       "21"
      ]
     },
     "execution_count": 29,
     "metadata": {},
     "output_type": "execute_result"
    }
   ],
   "source": [
    "txt = \"Hello, welcome to my world.\"\n",
    "txt.find(\"world\")\n"
   ]
  },
  {
   "cell_type": "code",
   "execution_count": 31,
   "id": "39146eb7-1bfe-4a9a-9078-0b396aea20ad",
   "metadata": {},
   "outputs": [
    {
     "data": {
      "text/plain": [
       "21"
      ]
     },
     "execution_count": 31,
     "metadata": {},
     "output_type": "execute_result"
    }
   ],
   "source": [
    "txt = \"Hello, welcome to my world.\"\n",
    "txt.index(\"world\")\n"
   ]
  },
  {
   "cell_type": "code",
   "execution_count": null,
   "id": "33756ed3-97ac-468a-b58a-ed82590ad9f4",
   "metadata": {},
   "outputs": [],
   "source": [
    "#  Home work the output of the below will be in True or false"
   ]
  },
  {
   "cell_type": "code",
   "execution_count": null,
   "id": "76d92239-978b-4329-934a-0609f75c7d5c",
   "metadata": {},
   "outputs": [],
   "source": []
  },
  {
   "cell_type": "raw",
   "id": "8b845943-53c1-48ca-9b1b-bcf0f66ce470",
   "metadata": {},
   "source": [
    "| Method            | Description                                                     |\n",
    "|-------------------|-----------------------------------------------------------------|\n",
    "| `istitle()`       | Returns True if the string follows the rules of a title         |\n",
    "| `isupper()`       | Returns True if all characters in the string are upper case     |\n",
    "| `islower()`       | Returns True if all characters in the string are lower case     |\n",
    "| `isalnum()`       | Returns True if all characters in the string are alphanumeric   |\n",
    "| `isnumeric()`     | Returns True if all characters in the string are numeric        |\n",
    "| `isdigit()`       | Returns True if all characters in the string are digits         |\n",
    "| `isalpha()`       | Returns True if all characters in the string are in the alphabet|\n",
    "| `isdecimal()`     | Returns True if all characters in the string are decimals       |\n",
    "| `isidentifier()`  | Returns True if the string is an identifier                     |\n",
    "| `isspace()`       | Returns True if all characters in the string are whitespaces    |\n"
   ]
  },
  {
   "cell_type": "code",
   "execution_count": null,
   "id": "1653e919-435d-4cfc-ad23-cdc325bd83b4",
   "metadata": {},
   "outputs": [],
   "source": [
    "# Task\n",
    "# \"This is Mumbai\"\n",
    "# check title\n",
    "abc = \"10\"\n",
    "# is if numerical\n",
    "abc =  \"rajehs10\"\n",
    "# check if anlphanumeric"
   ]
  },
  {
   "cell_type": "code",
   "execution_count": 126,
   "id": "9bb89e3b-810e-406c-acfc-5ab62624af69",
   "metadata": {},
   "outputs": [
    {
     "data": {
      "text/plain": [
       "True"
      ]
     },
     "execution_count": 126,
     "metadata": {},
     "output_type": "execute_result"
    }
   ],
   "source": [
    "txt = \" \"\n",
    "txt.isspace()\n",
    "\n"
   ]
  },
  {
   "cell_type": "code",
   "execution_count": null,
   "id": "89ab18a8-0b03-4855-817c-c112dcb8401f",
   "metadata": {},
   "outputs": [],
   "source": []
  },
  {
   "cell_type": "code",
   "execution_count": 59,
   "id": "90038d2e-96f2-468b-87d7-4a071db7bbec",
   "metadata": {},
   "outputs": [
    {
     "name": "stdout",
     "output_type": "stream",
     "text": [
      "True\n"
     ]
    },
    {
     "ename": "AttributeError",
     "evalue": "'str' object has no attribute 'isnum'",
     "output_type": "error",
     "traceback": [
      "\u001b[1;31m---------------------------------------------------------------------------\u001b[0m",
      "\u001b[1;31mAttributeError\u001b[0m                            Traceback (most recent call last)",
      "Cell \u001b[1;32mIn[59], line 5\u001b[0m\n\u001b[0;32m      2\u001b[0m \u001b[38;5;28mprint\u001b[39m(txt\u001b[38;5;241m.\u001b[39misalnum())\n\u001b[0;32m      4\u001b[0m \u001b[38;5;28;01mfor\u001b[39;00m i \u001b[38;5;129;01min\u001b[39;00m txt:\n\u001b[1;32m----> 5\u001b[0m     \u001b[38;5;28mprint\u001b[39m(i,i\u001b[38;5;241m.\u001b[39misnum())\n",
      "\u001b[1;31mAttributeError\u001b[0m: 'str' object has no attribute 'isnum'"
     ]
    }
   ],
   "source": [
    "txt = \"Rajesh\"\n",
    "print(txt.isalnum())\n",
    "\n",
    "for i in txt:\n",
    "    print(i,i.isalnum())\n"
   ]
  },
  {
   "cell_type": "code",
   "execution_count": 62,
   "id": "e830e74b-4417-47f7-9a11-ba7816c5e5f7",
   "metadata": {},
   "outputs": [
    {
     "name": "stdout",
     "output_type": "stream",
     "text": [
      "R False\n",
      "a False\n",
      "j False\n",
      "e False\n",
      "s False\n",
      "h False\n",
      "5 True\n",
      "6 True\n",
      "5 True\n",
      "5 True\n",
      "4 True\n",
      "3 True\n"
     ]
    }
   ],
   "source": [
    "txt = \"Rajesh565543\"\n",
    "txt.isnumeric()\n",
    "\n",
    "for i in txt:\n",
    "    print(i,i.isnumeric())\n",
    "    "
   ]
  },
  {
   "cell_type": "code",
   "execution_count": 64,
   "id": "72838975-2757-4357-b4ce-a512f83cfdc1",
   "metadata": {},
   "outputs": [
    {
     "data": {
      "text/plain": [
       "False"
      ]
     },
     "execution_count": 64,
     "metadata": {},
     "output_type": "execute_result"
    }
   ],
   "source": [
    "txt = \"Rajesh50800\"\n",
    "txt.isdigit()\n",
    "\n"
   ]
  },
  {
   "cell_type": "code",
   "execution_count": 40,
   "id": "197cecf3-d337-4bbf-b525-fbdc92b99126",
   "metadata": {},
   "outputs": [
    {
     "data": {
      "text/plain": [
       "False"
      ]
     },
     "execution_count": 40,
     "metadata": {},
     "output_type": "execute_result"
    }
   ],
   "source": [
    "txt = \"CompanyX1000\"\n",
    "txt.isalpha()\n"
   ]
  },
  {
   "cell_type": "code",
   "execution_count": 52,
   "id": "5a76ef1b-8eae-48ba-85d7-bf2512481c92",
   "metadata": {},
   "outputs": [
    {
     "data": {
      "text/plain": [
       "False"
      ]
     },
     "execution_count": 52,
     "metadata": {},
     "output_type": "execute_result"
    }
   ],
   "source": [
    "# Is decimal\"\n",
    "txt = \"5.5\"\n",
    "\n",
    "txt.isdecimal()\n"
   ]
  },
  {
   "cell_type": "code",
   "execution_count": 55,
   "id": "f1ec26ba-b840-4714-8e28-09a6ea576f17",
   "metadata": {},
   "outputs": [
    {
     "name": "stdout",
     "output_type": "stream",
     "text": [
      "  True\n",
      "r False\n",
      "a False\n",
      "j False\n",
      "e False\n",
      "s False\n",
      "h False\n",
      "  True\n",
      "  True\n",
      "a False\n",
      "m False\n",
      "o False\n",
      "l False\n"
     ]
    }
   ],
   "source": [
    "txt = \" rajesh  amol\"\n",
    "txt.isspace()\n",
    "\n",
    "for i in txt:\n",
    "    print(i,i.isspace())\n"
   ]
  },
  {
   "cell_type": "markdown",
   "id": "f3ea9c91-a69d-45f4-b640-fb7cfa2acc49",
   "metadata": {},
   "source": [
    "# HomeWork"
   ]
  },
  {
   "cell_type": "raw",
   "id": "d4bec3fb-3e17-41a4-9acb-ade241c55c62",
   "metadata": {},
   "source": [
    "| Method        | Description                                                                                 |\n",
    "|---------------|---------------------------------------------------------------------------------------------|\n",
    "| `rfind()`     | Searches the string for a specified value and returns the last position where it was found  |\n",
    "| `rindex()`    | Searches the string for a specified value and returns the last position where it was found  |\n",
    "| `rpartition()` | Returns a tuple where the string is parted into three parts                                |\n",
    "| `rsplit()`    | Splits the string at the specified separator and returns a list                             |\n",
    "| `rstrip()`    | Returns a right-trimmed version of the string                                               |\n",
    "| `lstrip()`    | Returns a left-trimmed version of the string                                                |\n",
    "| `translate()` | Returns a translated string                                                                 |\n",
    "| `zfill()`     | Fills the string with a specified number of 0 values at the beginning                       |\n",
    "| `ljust()`     | Returns a left-justified version of the string                                              |\n",
    "| `rjust()`     | Returns a right-justified version of the string                                             |\n",
    "| `center()`    | Returns a centered version of the string                                                    |\n",
    "| `casefold()`  | Converts the string to lowercase                                                            |\n",
    "| `encode()`    | Returns an encoded version of the string                                                    |\n",
    "| `expandtabs()` | Sets the tab size of the string                                                            |\n",
    "| `isprintable()` | Returns True if all characters in the string are printable                                |\n",
    "| `maketrans()` | Returns a translation table to be used in translations                                      |\n",
    "| `partition()` | Returns a tuple where the string is parted into three parts                                 |\n"
   ]
  },
  {
   "cell_type": "code",
   "execution_count": null,
   "id": "bf1ccb2a-9d14-4932-b076-bd6993ef860a",
   "metadata": {},
   "outputs": [],
   "source": []
  },
  {
   "cell_type": "code",
   "execution_count": null,
   "id": "7054dfe6-0c5b-4bfc-bf3d-5cae37aa34f6",
   "metadata": {},
   "outputs": [],
   "source": []
  },
  {
   "cell_type": "code",
   "execution_count": null,
   "id": "60662e4c-e114-4d80-88b6-44f068a74c05",
   "metadata": {},
   "outputs": [],
   "source": []
  },
  {
   "cell_type": "code",
   "execution_count": null,
   "id": "0ae66bea-eedd-44e6-b582-c8c47795771c",
   "metadata": {},
   "outputs": [],
   "source": []
  }
 ],
 "metadata": {
  "kernelspec": {
   "display_name": "Python 3 (ipykernel)",
   "language": "python",
   "name": "python3"
  },
  "language_info": {
   "codemirror_mode": {
    "name": "ipython",
    "version": 3
   },
   "file_extension": ".py",
   "mimetype": "text/x-python",
   "name": "python",
   "nbconvert_exporter": "python",
   "pygments_lexer": "ipython3",
   "version": "3.11.7"
  }
 },
 "nbformat": 4,
 "nbformat_minor": 5
}
