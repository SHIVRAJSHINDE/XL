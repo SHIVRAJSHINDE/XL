{
 "cells": [
  {
   "cell_type": "markdown",
   "id": "99b4f6d0-08d0-46c8-9997-47c053c38aa5",
   "metadata": {},
   "source": [
    "# Use of list Comprehension"
   ]
  },
  {
   "cell_type": "code",
   "execution_count": 3,
   "id": "4691bb9d",
   "metadata": {},
   "outputs": [
    {
     "data": {
      "text/plain": [
       "['apple', 'banana', 'cherry', 'kiwi', 'mango']"
      ]
     },
     "execution_count": 3,
     "metadata": {},
     "output_type": "execute_result"
    }
   ],
   "source": [
    "'Create copy of a new list from existing list'\n",
    "\n",
    "fruits = [\"apple\", \"banana\", \"cherry\", \"kiwi\", \"mango\"]\n",
    "\n",
    "new_List = []\n",
    "\n",
    "for i in fruits:\n",
    "    new_List.append(i)\n",
    "    \n",
    "new_List\n"
   ]
  },
  {
   "cell_type": "code",
   "execution_count": null,
   "id": "1270379e-9de7-45b4-b8f1-35ba119cec6b",
   "metadata": {},
   "outputs": [],
   "source": []
  },
  {
   "cell_type": "code",
   "execution_count": null,
   "id": "11be8d19-07f5-4a5e-8a78-069400d3779c",
   "metadata": {},
   "outputs": [],
   "source": []
  },
  {
   "cell_type": "code",
   "execution_count": 5,
   "id": "5b44b356",
   "metadata": {},
   "outputs": [],
   "source": [
    "'''Using List Comprehension'''\n",
    "#[exp   for x in iterable]\n",
    "\n",
    "newList = [x for x in fruits]\n"
   ]
  },
  {
   "cell_type": "code",
   "execution_count": 9,
   "id": "b75f0c5f-5811-404c-aaf8-4abf8b02ebc1",
   "metadata": {},
   "outputs": [
    {
     "name": "stdout",
     "output_type": "stream",
     "text": [
      "4\n",
      "8\n",
      "12\n",
      "16\n"
     ]
    }
   ],
   "source": [
    "# take a Range from 1 to 10 \n",
    "# and Multiply with Two, if that number Even Number\n",
    "\n",
    "for x in range(1,10):\n",
    "    if x %2 ==0:\n",
    "        print(x * 2)\n",
    "\n"
   ]
  },
  {
   "cell_type": "code",
   "execution_count": 12,
   "id": "483018dc-fd96-40c6-afd8-a1fab76064f9",
   "metadata": {},
   "outputs": [
    {
     "data": {
      "text/plain": [
       "[4, 8, 12, 16]"
      ]
     },
     "execution_count": 12,
     "metadata": {},
     "output_type": "execute_result"
    }
   ],
   "source": [
    "# take a Range from 1 to 10 \n",
    "# and Multiply with Two, if that number Even Number\n",
    "\n",
    "\n",
    "# [exp    for x in iterable        if condition  ]\n",
    "\n",
    "  [x*2    for x in range(1,10)     if x%2==0]\n",
    "\n",
    "\n",
    "\n",
    "\n",
    "\n",
    "\n"
   ]
  },
  {
   "cell_type": "code",
   "execution_count": null,
   "id": "764f8eea-545d-4672-9dc9-54ee04a21655",
   "metadata": {},
   "outputs": [],
   "source": []
  },
  {
   "cell_type": "code",
   "execution_count": null,
   "id": "59adf43c-ecd9-4ad2-b3b3-7b110850ef83",
   "metadata": {},
   "outputs": [],
   "source": []
  },
  {
   "cell_type": "code",
   "execution_count": null,
   "id": "f37a17e2-d1de-4147-a4d5-17e9fce5d71b",
   "metadata": {},
   "outputs": [],
   "source": [
    "#         [exp   for i in iterable]\n",
    "newList = [i      for i in fruits]\n",
    "newList\n"
   ]
  },
  {
   "cell_type": "code",
   "execution_count": null,
   "id": "9735900b",
   "metadata": {},
   "outputs": [],
   "source": []
  },
  {
   "cell_type": "code",
   "execution_count": 18,
   "id": "626924ae",
   "metadata": {},
   "outputs": [
    {
     "data": {
      "text/plain": [
       "['apple', 'banana', 'mango']"
      ]
     },
     "execution_count": 18,
     "metadata": {},
     "output_type": "execute_result"
    }
   ],
   "source": [
    "'Create New a New list which has \"a\" in common'\n",
    "\n",
    "fruits = [\"apple\", \"banana\", \"cherry\", \"kiwi\", \"mango\"]\n",
    "\n",
    "newList = []\n",
    "\n",
    "for x in fruits:\n",
    "    if 'a' in x:\n",
    "       newList.append(x) \n",
    "newList\n",
    "\n"
   ]
  },
  {
   "cell_type": "code",
   "execution_count": null,
   "id": "69a52c28-4195-49d7-93ba-ab70463b7263",
   "metadata": {},
   "outputs": [],
   "source": []
  },
  {
   "cell_type": "code",
   "execution_count": null,
   "id": "0aaa3453-50fc-4dfb-91e9-96ed3d50cbf6",
   "metadata": {},
   "outputs": [],
   "source": []
  },
  {
   "cell_type": "code",
   "execution_count": 10,
   "id": "e80e34c5",
   "metadata": {},
   "outputs": [
    {
     "data": {
      "text/plain": [
       "['apple', 'banana', 'mango']"
      ]
     },
     "execution_count": 10,
     "metadata": {},
     "output_type": "execute_result"
    }
   ],
   "source": [
    "'create New a New list which \"a\" in common using List comprehension'\n",
    "\n",
    "# [exp    for i in iterable       if condition  ]\n"
   ]
  },
  {
   "cell_type": "code",
   "execution_count": null,
   "id": "81ea2def",
   "metadata": {},
   "outputs": [],
   "source": [
    "newlistWithA2 = [x for x in fruits if \"a\" in x]\n",
    "newlistWithA2\n"
   ]
  },
  {
   "cell_type": "code",
   "execution_count": null,
   "id": "8a39a413-f544-48bc-807d-f470d5a70aa6",
   "metadata": {},
   "outputs": [],
   "source": []
  },
  {
   "cell_type": "code",
   "execution_count": 16,
   "id": "4b25a534-6bb2-4e14-b571-a9be9c60a2dd",
   "metadata": {},
   "outputs": [
    {
     "data": {
      "text/plain": [
       "[1, 4, 9, 16, 25, 36, 49]"
      ]
     },
     "execution_count": 16,
     "metadata": {},
     "output_type": "execute_result"
    }
   ],
   "source": [
    "# Home works\n",
    "# Generate a new list containing the squares of the numbers in the list [1, 2, 3, 4, 5, 6, 7]\n",
    "listOne = [1, 2, 3, 4, 5, 6, 7]\n",
    "newList1 = []\n",
    "\n",
    "for i in listOne:\n",
    "    newList1.append(i**2)\n",
    "\n",
    "newList1\n"
   ]
  },
  {
   "cell_type": "code",
   "execution_count": null,
   "id": "9787b247-1b7b-434d-9a70-6afc767871dc",
   "metadata": {},
   "outputs": [],
   "source": [
    "# [exp   iteration ]\n",
    "\n",
    "newList = [x**2 for i in listOne]\n",
    "\n",
    "newList\n"
   ]
  },
  {
   "cell_type": "code",
   "execution_count": 20,
   "id": "684d1bd5",
   "metadata": {},
   "outputs": [
    {
     "name": "stdout",
     "output_type": "stream",
     "text": [
      "[4, 16, 36]\n"
     ]
    }
   ],
   "source": [
    "# Create a new list of squared of each Even_Number\n",
    "listOne = [1, 2, 3, 4, 5, 6, 7]\n",
    "\n",
    "newListSq = []\n",
    "\n",
    "for i in listOne:\n",
    "    if i%2==0:\n",
    "        newListSq.append(i**2)\n",
    "        \n",
    "print(newListSq)\n"
   ]
  },
  {
   "cell_type": "code",
   "execution_count": null,
   "id": "f65748f2",
   "metadata": {},
   "outputs": [],
   "source": []
  },
  {
   "cell_type": "code",
   "execution_count": null,
   "id": "5040c0cc",
   "metadata": {},
   "outputs": [],
   "source": [
    "# Using list comprehension to create a new list of squared of each Number\n",
    "# [exp   iteration           condition     ]\n",
    "# [i**2 for x in range(1,7)  if i%2==0]\n",
    "\n",
    "listOne = [1, 2, 3, 4, 5, 6, 7]\n",
    "\n",
    "\n",
    "# Using list comprehension to create a new list of squared of Even Number\n",
    "\n",
    "oddNumberSqure = [i**2 for i in listOne if i%2 == 0]\n",
    "oddNumberSqure\n"
   ]
  },
  {
   "cell_type": "code",
   "execution_count": null,
   "id": "ecf47759",
   "metadata": {},
   "outputs": [],
   "source": [
    "# Using list comprehension to create a new list of squared of each Number\n",
    "# [exp   iteration           condition     ]\n",
    "# [i**2 for x in range(1,7)  if i%2==0]\n",
    "\n",
    "listOne = [1, 2, 3, 4, 5, 6, 7]\n",
    "\n",
    "# Using list comprehension to create a new list of squared of ODD Number\n",
    "\n",
    "oddNumberSqure = [i**2 for i in listOne if i%2 != 0]\n",
    "oddNumberSqure\n"
   ]
  },
  {
   "cell_type": "code",
   "execution_count": 27,
   "id": "8b78ed96",
   "metadata": {},
   "outputs": [
    {
     "data": {
      "text/plain": [
       "[1, 2, 6, 7]"
      ]
     },
     "execution_count": 27,
     "metadata": {},
     "output_type": "execute_result"
    }
   ],
   "source": [
    "# \n",
    "# Example: Filtering numbers less than 3 or greater 5\n",
    "numbers = [1, 2, 3, 4, 5, 6, 7]\n",
    "newLIST = []\n",
    "\n",
    "\n",
    "for x in numbers:\n",
    "    if x < 3 or x > 5:\n",
    "        newLIST.append(x)\n",
    "\n",
    "newLIST\n",
    "\n",
    "\n"
   ]
  },
  {
   "cell_type": "code",
   "execution_count": 30,
   "id": "67c6c78c",
   "metadata": {},
   "outputs": [
    {
     "data": {
      "text/plain": [
       "[1, 2, 6, 7]"
      ]
     },
     "execution_count": 30,
     "metadata": {},
     "output_type": "execute_result"
    }
   ],
   "source": [
    "# Use of List Comprhension\n",
    "# Example: Filtering numbers less than 3 or greater 5\n",
    "[x for x in numbers if x <3 or x>5]\n",
    "\n",
    "\n",
    "\n",
    "\n"
   ]
  },
  {
   "cell_type": "code",
   "execution_count": null,
   "id": "0bea11c4",
   "metadata": {},
   "outputs": [],
   "source": [
    "listOne = [0,1,2,3,4,5,6]\n",
    "x  if x<3     else   x   if x>5  else  "
   ]
  },
  {
   "cell_type": "code",
   "execution_count": 31,
   "id": "845b83be",
   "metadata": {},
   "outputs": [
    {
     "data": {
      "text/plain": [
       "[1, 4, 36, 49]"
      ]
     },
     "execution_count": 31,
     "metadata": {},
     "output_type": "execute_result"
    }
   ],
   "source": [
    "# Example: Print Square of numbers which are less than 3 or greater 5 using list comprehension\n",
    "#[exp     for x in iterable\t   if cond1 \t       cond2 ...  ]\n",
    "\n",
    "[x**2 for x in numbers if x <3 or x>5]\n",
    "\n",
    "\n"
   ]
  },
  {
   "cell_type": "code",
   "execution_count": null,
   "id": "b9e7078d-1a8b-476d-80dd-09b5c2096f20",
   "metadata": {},
   "outputs": [],
   "source": [
    "listOne = [1,2,3,4,5,6]\n",
    "\n",
    "[x**2 for x in listOne if x <3  or  x>5]\n",
    "\n",
    "[x**2 for x in listOne if x <3 ]\n",
    "\n",
    "for x in listOne:\n",
    "    if x < 3:\n",
    "        print(x**2)\n",
    "    "
   ]
  },
  {
   "cell_type": "code",
   "execution_count": 13,
   "id": "115adbeb-b51a-48cb-b52b-7fc41fab5fe0",
   "metadata": {},
   "outputs": [
    {
     "data": {
      "text/plain": [
       "[0, 1, 4, 3, 4, 5, 36]"
      ]
     },
     "execution_count": 13,
     "metadata": {},
     "output_type": "execute_result"
    }
   ],
   "source": [
    "listOne = [0,1,2,3,4,5,6]\n",
    "\n",
    "[x**2 if x<3 or x>5 else x for x in listOne]\n"
   ]
  },
  {
   "cell_type": "code",
   "execution_count": 14,
   "id": "5774eb81-c3f7-4643-b3d6-1cf43d5a5874",
   "metadata": {},
   "outputs": [
    {
     "data": {
      "text/plain": [
       "[6]"
      ]
     },
     "execution_count": 14,
     "metadata": {},
     "output_type": "execute_result"
    }
   ],
   "source": [
    "# Example: Print Square of numbers which are less than 3 or greater 5 using list comprehension\n",
    "#[exp     for x in iterable\t   if cond1 \t       cond2 ...  ]\n",
    "\n",
    "listOne = [0,1,2,3,4,5,6]\n",
    "\n",
    "[x  for x in listOne if x % 2 == 0 and  x > 5   ]\n",
    "\n",
    "\n",
    "if\n"
   ]
  },
  {
   "cell_type": "code",
   "execution_count": 23,
   "id": "3d55cd41-ac04-415e-9624-362f12aa03ff",
   "metadata": {},
   "outputs": [
    {
     "data": {
      "text/plain": [
       "[6]"
      ]
     },
     "execution_count": 23,
     "metadata": {},
     "output_type": "execute_result"
    }
   ],
   "source": [
    "[x  for x in listOne if x % 2 == 0  if x > 5   ]\n"
   ]
  },
  {
   "cell_type": "code",
   "execution_count": 3,
   "id": "c7dbb172-8474-4f11-a908-e113381ca11e",
   "metadata": {},
   "outputs": [
    {
     "name": "stdout",
     "output_type": "stream",
     "text": [
      "2\n",
      "4\n",
      "1.5\n",
      "2.0\n",
      "7\n",
      "8\n",
      "9\n"
     ]
    }
   ],
   "source": [
    "#   multiply a Number by 2  if it is less or equal to 2 \n",
    "#   devide a number   by 2  if it is less or equal to 4\n",
    "#   else add with 2\n",
    "\n",
    "listOne = [1,2,3,4,5,6,7]\n",
    "\n",
    "for i in listOne:\n",
    "    if i <=2:\n",
    "        print(i*2)\n",
    "    elif i<=4:\n",
    "        print(i/2)\n",
    "    else:\n",
    "        print(i+2)"
   ]
  },
  {
   "cell_type": "code",
   "execution_count": 9,
   "id": "5cae45dd-c6dc-4de0-8c42-6ca663d4967e",
   "metadata": {},
   "outputs": [
    {
     "data": {
      "text/plain": [
       "[2, 4, 1.5, 2.0, 7, 8, 9]"
      ]
     },
     "execution_count": 9,
     "metadata": {},
     "output_type": "execute_result"
    }
   ],
   "source": [
    "#   multiply a Number by 2  if it is less or equal to 2 \n",
    "#   devide a number   by 2  if it is less or equal to 4\n",
    "#   else add with 2\n",
    "\n",
    "listOne = [1,2,3,4,5,6,7]\n",
    "\n",
    "# [exp1  if cond1   else  exp2 if cond2    else exp3     for x in iterable]\n",
    "\n",
    "[i*2 if i<=2 else i/2 if i<=4 else i+2 for i in listOne ]\n",
    "\n"
   ]
  },
  {
   "cell_type": "code",
   "execution_count": null,
   "id": "e689841e-6046-410d-8886-170fd5f0e007",
   "metadata": {},
   "outputs": [],
   "source": []
  },
  {
   "cell_type": "code",
   "execution_count": 13,
   "id": "f12ecf70-0496-4103-af94-247454e5a7ae",
   "metadata": {},
   "outputs": [
    {
     "name": "stdout",
     "output_type": "stream",
     "text": [
      "Rajesh\n",
      "Sunil\n",
      "Praveen\n"
     ]
    }
   ],
   "source": [
    "\n",
    "\n",
    "''' if j in string print the  string\n",
    "    if n in string print that string\n",
    "    if p in string print that string'''\n",
    "\n",
    "list01 = ['Rajesh','Sunil','Praveen',\"mauli\"]\n",
    "\n",
    "\n",
    "for x in list01:\n",
    "    if 'j' in x:\n",
    "        print(x)\n",
    "    elif 'n' in x:\n",
    "        print(x)\n",
    "    elif 'p' in x:\n",
    "        print(x)\n"
   ]
  },
  {
   "cell_type": "code",
   "execution_count": 17,
   "id": "5e994ce7-02b9-40de-93aa-7865e74cf6c4",
   "metadata": {},
   "outputs": [
    {
     "data": {
      "text/plain": [
       "['Rajesh', 'Sunil', 'Praveen', '']"
      ]
     },
     "execution_count": 17,
     "metadata": {},
     "output_type": "execute_result"
    }
   ],
   "source": [
    "''' if j in string print the  string\n",
    "    if n in string print that string\n",
    "    if p in string print that string'''\n",
    "\n",
    "list01 = ['Rajesh','Sunil','Praveen',\"mauli\"]\n",
    "\n",
    "[x if 'j' in x else x if 'n' in x else x if 'p' in x else \"\" for x in list01]\n",
    "\n",
    "\n",
    "\n",
    "\n"
   ]
  },
  {
   "cell_type": "code",
   "execution_count": null,
   "id": "b08aae2b-68cf-4241-8384-802c7ea4263c",
   "metadata": {},
   "outputs": [],
   "source": []
  },
  {
   "cell_type": "code",
   "execution_count": 12,
   "id": "1c80e51b",
   "metadata": {},
   "outputs": [
    {
     "data": {
      "text/plain": [
       "[0, 2, 4, 1.5, 2.0, 7, 8]"
      ]
     },
     "execution_count": 12,
     "metadata": {},
     "output_type": "execute_result"
    }
   ],
   "source": [
    "# [exp1  if cond1   else  exp2 if cond2    else exp3     for x in iterable]\n",
    "[x*2   if x<=2     else  x/2 if x<=4       else x+2      for x in listOne]\n"
   ]
  },
  {
   "cell_type": "code",
   "execution_count": null,
   "id": "d4b40498",
   "metadata": {},
   "outputs": [],
   "source": []
  },
  {
   "cell_type": "code",
   "execution_count": 107,
   "id": "f14afa26",
   "metadata": {},
   "outputs": [
    {
     "name": "stdout",
     "output_type": "stream",
     "text": [
      "[1, 2, 3, 6, 7]\n"
     ]
    }
   ],
   "source": [
    "# Example: Filtering numbers less than 2 or greater 5\n",
    "numbers = [1, 2, 3, 4, 5, 6, 7]\n",
    "filtered_numbers = [x for x in numbers if x <= 3 or x > 5]\n",
    "print(filtered_numbers) \n"
   ]
  }
 ],
 "metadata": {
  "kernelspec": {
   "display_name": "Python 3 (ipykernel)",
   "language": "python",
   "name": "python3"
  },
  "language_info": {
   "codemirror_mode": {
    "name": "ipython",
    "version": 3
   },
   "file_extension": ".py",
   "mimetype": "text/x-python",
   "name": "python",
   "nbconvert_exporter": "python",
   "pygments_lexer": "ipython3",
   "version": "3.11.7"
  }
 },
 "nbformat": 4,
 "nbformat_minor": 5
}
