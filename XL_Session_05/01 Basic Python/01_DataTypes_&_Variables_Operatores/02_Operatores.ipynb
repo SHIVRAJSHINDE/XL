{
 "cells": [
  {
   "cell_type": "raw",
   "id": "e8c59442-6bb7-4ae4-b3b9-ccef03c25317",
   "metadata": {},
   "source": [
    "# Operators"
   ]
  },
  {
   "cell_type": "markdown",
   "id": "92ae62ab-f648-406b-a0f1-c94aae12dba7",
   "metadata": {},
   "source": [
    "<table style=\"width:50%; margin-left: 0; border-collapse: collapse; border: 2px solid #4CAF50; border-radius: 8px; background-color: #f9f9f9;\">\r\n",
    "    <tr>\r\n",
    "        <th style=\"padding: 12px; text-align: left; background-color: #4CAF50; color: white; font-size: 18px;\">Category</th>\r\n",
    "    </tr>\r\n",
    "    <tr>\r\n",
    "        <td style=\"padding: 12px; text-align: left; background-color: #f2f2f2; font-size: 16px; color: #333;\">Arithmetic Operators</td>\r\n",
    "    </tr>\r\n",
    "    <tr>\r\n",
    "        <td style=\"padding: 12px; text-align: left; background-color: #e2f7e2; font-size: 16px; color: #333;\">Relational Operators</td>\r\n",
    "    </tr>\r\n",
    "    <tr>\r\n",
    "        <td style=\"padding: 12px; text-align: left; background-color: #f2f2f2; font-size: 16px; color: #333;\">Assignment Operators</td>\r\n",
    "    </tr>\r\n",
    "    <tr>\r\n",
    "        <td style=\"padding: 12px; text-align: left; background-color: #e2f7e2; font-size: 16px; color: #333;\">Logical Operators</td>\r\n",
    "    </tr>\r\n",
    "    <tr>\r\n",
    "        <td style=\"padding: 12px; text-align: left; background-color: #f2f2f2; font-size: 16px; color: #333;\">Membership Operators</td>\r\n",
    "    </tr>\r\n",
    "    <tr>\r\n",
    "        <td style=\"padding: 12px; text-align: left; background-color: #e2f7e2; font-size: 16px; color: #333;\">Identity Operators</td>\r\n",
    "    </tr>\r\n",
    "</table>\r\n"
   ]
  },
  {
   "cell_type": "markdown",
   "id": "03db6e71-2b6f-48e7-b72a-ff1b249a0b4a",
   "metadata": {},
   "source": [
    "# Arithmetic Operators "
   ]
  },
  {
   "cell_type": "markdown",
   "id": "660cbfcd-6e0a-49cb-8bb0-43c2aa6599f2",
   "metadata": {},
   "source": [
    "<h2 style=\"text-align: left; color: #4CAF50; font-family: 'Candara', sans-serif;\">Arithmetic Operators</h2>\r\n",
    "\r\n",
    "<table style=\"width:50%; margin-left: 0; border-collapse: collapse; border: 2px solid #4CAF50; border-radius: 8px; background-color: #f9f9f9; font-family: 'Candara', sans-serif;\">\r\n",
    "    <tr>\r\n",
    "        <th style=\"padding: 12px; text-align: left; background-color: #4CAF50; color: white; font-size: 18px;\">Operator</th>\r\n",
    "        <th style=\"padding: 12px; text-align: left; background-color: #4CAF50; color: white; font-size: 18px;\">Name</th>\r\n",
    "        <th style=\"padding: 12px; text-align: left; background-color: #4CAF50; color: white; font-size: 18px;\">Example</th>\r\n",
    "    </tr>\r\n",
    "    <tr>\r\n",
    "        <td style=\"padding: 12px; text-align: left; background-color: #f2f2f2; font-size: 16px; color: #333;\">+</td>\r\n",
    "        <td style=\"padding: 12px; text-align: left; background-color: #f2f2f2; font-size: 16px; color: #333;\">Addition</td>\r\n",
    "        <td style=\"padding: 12px; text-align: left; background-color: #f2f2f2; font-size: 16px; color: #333;\">x + y</td>\r\n",
    "    </tr>\r\n",
    "    <tr>\r\n",
    "        <td style=\"padding: 12px; text-align: left; background-color: #e2f7e2; font-size: 16px; color: #333;\">-</td>\r\n",
    "        <td style=\"padding: 12px; text-align: left; background-color: #e2f7e2; font-size: 16px; color: #333;\">Subtraction</td>\r\n",
    "        <td style=\"padding: 12px; text-align: left; background-color: #e2f7e2; font-size: 16px; color: #333;\">x - y</td>\r\n",
    "    </tr>\r\n",
    "    <tr>\r\n",
    "        <td style=\"padding: 12px; text-align: left; background-color: #f2f2f2; font-size: 16px; color: #333;\">*</td>\r\n",
    "        <td style=\"padding: 12px; text-align: left; background-color: #f2f2f2; font-size: 16px; color: #333;\">Multiplication</td>\r\n",
    "        <td style=\"padding: 12px; text-align: left; background-color: #f2f2f2; font-size: 16px; color: #333;\">x * y</td>\r\n",
    "    </tr>\r\n",
    "    <tr>\r\n",
    "        <td style=\"padding: 12px; text-align: left; background-color: #e2f7e2; font-size: 16px; color: #333;\">/</td>\r\n",
    "        <td style=\"padding: 12px; text-align: left; background-color: #e2f7e2; font-size: 16px; color: #333;\">Division</td>\r\n",
    "        <td style=\"padding: 12px; text-align: left; background-color: #e2f7e2; font-size: 16px; color: #333;\">x / y</td>\r\n",
    "    </tr>\r\n",
    "    <tr>\r\n",
    "        <td style=\"padding: 12px; text-align: left; background-color: #f2f2f2; font-size: 16px; color: #333;\">%</td>\r\n",
    "        <td style=\"padding: 12px; text-align: left; background-color: #f2f2f2; font-size: 16px; color: #333;\">Modulus</td>\r\n",
    "        <td style=\"padding: 12px; text-align: left; background-color: #f2f2f2; font-size: 16px; color: #333;\">x % y</td>\r\n",
    "    </tr>\r\n",
    "    <tr>\r\n",
    "        <td style=\"padding: 12px; text-align: left; background-color: #e2f7e2; font-size: 16px; color: #333;\">**</td>\r\n",
    "        <td style=\"padding: 12px; text-align: left; background-color: #e2f7e2; font-size: 16px; color: #333;\">Exponentiation</td>\r\n",
    "        <td style=\"padding: 12px; text-align: left; background-color: #e2f7e2; font-size: 16px; color: #333;\">x ** y</td>\r\n",
    "    </tr>\r\n",
    "    <tr>\r\n",
    "        <td style=\"padding: 12px; text-align: left; background-color: #f2f2f2; font-size: 16px; color: #333;\">//</td>\r\n",
    "        <td style=\"padding: 12px; text-align: left; background-color: #f2f2f2; font-size: 16px; color: #333;\">Floor division</td>\r\n",
    "        <td style=\"padding: 12px; text-align: left; background-color: #f2f2f2; font-size: 16px; color: #333;\">x // y</td>\r\n",
    "    </tr>\r\n",
    "</table>\r\n",
    " #333;\">x // y</td>\r\n",
    "    </tr>\r\n",
    "</table>\r\n"
   ]
  },
  {
   "cell_type": "code",
   "execution_count": 4,
   "id": "9ce39352-5f04-4ece-8e1f-cba72ccab8ae",
   "metadata": {},
   "outputs": [
    {
     "data": {
      "text/plain": [
       "8"
      ]
     },
     "execution_count": 4,
     "metadata": {},
     "output_type": "execute_result"
    }
   ],
   "source": [
    "x = 2\n",
    "y = 3 \n",
    "\n",
    "x ** y \n"
   ]
  },
  {
   "cell_type": "code",
   "execution_count": 8,
   "id": "c93929c4-bf9a-4cf5-8290-eab755d89094",
   "metadata": {},
   "outputs": [
    {
     "data": {
      "text/plain": [
       "4"
      ]
     },
     "execution_count": 8,
     "metadata": {},
     "output_type": "execute_result"
    }
   ],
   "source": [
    "9//2\n"
   ]
  },
  {
   "cell_type": "code",
   "execution_count": 11,
   "id": "5bdbfa40-426b-4199-9c71-81714f40cf1f",
   "metadata": {},
   "outputs": [
    {
     "data": {
      "text/plain": [
       "1"
      ]
     },
     "execution_count": 11,
     "metadata": {},
     "output_type": "execute_result"
    }
   ],
   "source": [
    "17 - 16\n"
   ]
  },
  {
   "cell_type": "raw",
   "id": "10f39c20-877b-4ed3-837d-f4ae0ba82552",
   "metadata": {},
   "source": []
  },
  {
   "cell_type": "code",
   "execution_count": null,
   "id": "a0344a96-34aa-4418-adc6-b994d105c938",
   "metadata": {},
   "outputs": [],
   "source": [
    "# additoin\n",
    "'''Subtraction Addition Division Multiplication'''\n",
    "\n",
    "x = 6\n",
    "y = 3\n",
    "\n",
    "x/y\n",
    "\n"
   ]
  },
  {
   "cell_type": "code",
   "execution_count": null,
   "id": "41f57ba2-9e88-402c-af6b-d2f596518c9b",
   "metadata": {},
   "outputs": [],
   "source": [
    "# Substraction\n",
    "x-y"
   ]
  },
  {
   "cell_type": "code",
   "execution_count": null,
   "id": "f94f4abd-140e-40bd-9a6b-8b9497a2e150",
   "metadata": {},
   "outputs": [],
   "source": [
    "#Devistion\n",
    "x/y"
   ]
  },
  {
   "cell_type": "code",
   "execution_count": null,
   "id": "c686e5d3-db32-4b1b-b45b-f8ed92230afc",
   "metadata": {},
   "outputs": [],
   "source": [
    "#Multiplication\n",
    "x*y"
   ]
  },
  {
   "cell_type": "code",
   "execution_count": null,
   "id": "2ccd5ba7-3731-4c49-88b0-ce98326c47d2",
   "metadata": {},
   "outputs": [],
   "source": [
    "x//y"
   ]
  },
  {
   "cell_type": "code",
   "execution_count": null,
   "id": "9d87c2e8-533d-47c8-8293-7371cbcccfed",
   "metadata": {},
   "outputs": [],
   "source": [
    "x**y\n"
   ]
  },
  {
   "cell_type": "code",
   "execution_count": null,
   "id": "0ce31f87",
   "metadata": {},
   "outputs": [],
   "source": [
    "x = 17\n",
    "y = 3\n",
    "\n",
    "x/y\n"
   ]
  },
  {
   "cell_type": "code",
   "execution_count": null,
   "id": "23553631",
   "metadata": {},
   "outputs": [],
   "source": [
    "'''Floor division and Exponentiation(**)'''\n",
    "\n",
    "x = 17\n",
    "y = 3\n",
    "\n",
    "result = x // y  # result is 3 (integer division)\n",
    "result"
   ]
  },
  {
   "cell_type": "code",
   "execution_count": null,
   "id": "dd15bf52",
   "metadata": {},
   "outputs": [],
   "source": [
    "x = 2\n",
    "y = 3\n",
    "\n",
    "result = x ** y  # result is 3 (integer division)\n",
    "print(result)\n",
    "print(2*2*2)"
   ]
  },
  {
   "cell_type": "code",
   "execution_count": 15,
   "id": "47fd82be",
   "metadata": {},
   "outputs": [
    {
     "name": "stdout",
     "output_type": "stream",
     "text": [
      "6.6\n",
      "3\n"
     ]
    }
   ],
   "source": [
    "'''Modulus (%): Returns the remainder of the division.'''\n",
    "x = 33\n",
    "y = 5\n",
    "\n",
    "print(x/y)\n",
    "\n",
    "print(x%y)\n"
   ]
  },
  {
   "cell_type": "code",
   "execution_count": null,
   "id": "e9c6e70b",
   "metadata": {},
   "outputs": [],
   "source": [
    "# Modulus or remainder\n",
    "\n",
    "x = 15\n",
    "y = 4\n",
    "\n",
    "x/y\n",
    "\n",
    "\n",
    "4*3\n"
   ]
  },
  {
   "cell_type": "code",
   "execution_count": 16,
   "id": "b7aacbf7-b257-437d-a79f-d264c74461ff",
   "metadata": {},
   "outputs": [
    {
     "name": "stdout",
     "output_type": "stream",
     "text": [
      "0\n"
     ]
    }
   ],
   "source": [
    "x = 12\n",
    "y = 4\n",
    "\n",
    "\n",
    "result = x % y  # result is 3 (integer division)\n",
    "print(result)\n",
    "\n"
   ]
  },
  {
   "cell_type": "code",
   "execution_count": null,
   "id": "645a285d-1473-4ea2-bfbe-3fe5f369484f",
   "metadata": {},
   "outputs": [],
   "source": []
  },
  {
   "cell_type": "code",
   "execution_count": null,
   "id": "997c5964-1911-4354-9e51-bfb3e1168b75",
   "metadata": {},
   "outputs": [],
   "source": [
    "14-12"
   ]
  },
  {
   "cell_type": "code",
   "execution_count": null,
   "id": "5cc928c5-34ee-419f-9d8e-664396ed63ab",
   "metadata": {},
   "outputs": [],
   "source": []
  },
  {
   "cell_type": "markdown",
   "id": "7b6bb8f4-fd9b-4366-b8e8-6d76a6d66068",
   "metadata": {},
   "source": [
    "<h2 style=\"text-align: left; color: #4CAF50; font-family: 'Candara', sans-serif;\">Comparison / Relational Operators</h2>\r\n",
    "\r\n",
    "<table style=\"width:50%; margin-left: 0; border-collapse: collapse; border: 2px solid #4CAF50; border-radius: 8px; background-color: #f9f9f9; font-family: 'Candara', sans-serif;\">\r\n",
    "    <tr>\r\n",
    "        <th style=\"padding: 12px; text-align: left; background-color: #4CAF50; color: white; font-size: 18px;\">Operator</th>\r\n",
    "        <th style=\"padding: 12px; text-align: left; background-color: #4CAF50; color: white; font-size: 18px;\">Name</th>\r\n",
    "        <th style=\"padding: 12px; text-align: left; background-color: #4CAF50; color: white; font-size: 18px;\">Example</th>\r\n",
    "    </tr>\r\n",
    "    <tr>\r\n",
    "        <td style=\"padding: 12px; text-align: left; background-color: #f2f2f2; font-size: 16px; color: #333;\">==</td>\r\n",
    "        <td style=\"padding: 12px; text-align: left; background-color: #f2f2f2; font-size: 16px; color: #333;\">Equal</td>\r\n",
    "        <td style=\"padding: 12px; text-align: left; background-color: #f2f2f2; font-size: 16px; color: #333;\">x == y</td>\r\n",
    "    </tr>\r\n",
    "    <tr>\r\n",
    "        <td style=\"padding: 12px; text-align: left; background-color: #e2f7e2; font-size: 16px; color: #333;\">!=</td>\r\n",
    "        <td style=\"padding: 12px; text-align: left; background-color: #e2f7e2; font-size: 16px; color: #333;\">Not equal</td>\r\n",
    "        <td style=\"padding: 12px; text-align: left; background-color: #e2f7e2; font-size: 16px; color: #333;\">x != y</td>\r\n",
    "    </tr>\r\n",
    "    <tr>\r\n",
    "        <td style=\"padding: 12px; text-align: left; background-color: #f2f2f2; font-size: 16px; color: #333;\">&gt;</td>\r\n",
    "        <td style=\"padding: 12px; text-align: left; background-color: #f2f2f2; font-size: 16px; color: #333;\">Greater than</td>\r\n",
    "        <td style=\"padding: 12px; text-align: left; background-color: #f2f2f2; font-size: 16px; color: #333;\">x &gt; y</td>\r\n",
    "    </tr>\r\n",
    "    <tr>\r\n",
    "        <td style=\"padding: 12px; text-align: left; background-color: #e2f7e2; font-size: 16px; color: #333;\">&lt;</td>\r\n",
    "        <td style=\"padding: 12px; text-align: left; background-color: #e2f7e2; font-size: 16px; color: #333;\">Less than</td>\r\n",
    "        <td style=\"padding: 12px; text-align: left; background-color: #e2f7e2; font-size: 16px; color: #333;\">x &lt; y</td>\r\n",
    "    </tr>\r\n",
    "    <tr>\r\n",
    "        <td style=\"padding: 12px; text-align: left; background-color: #f2f2f2; font-size: 16px; color: #333;\">&gt;=</td>\r\n",
    "        <td style=\"padding: 12px; text-align: left; background-color: #f2f2f2; font-size: 16px; color: #333;\">Greater than or equal to</td>\r\n",
    "        <td style=\"padding: 12px; text-align: left; background-color: #f2f2f2; font-size: 16px; color: #333;\">x &gt;= y</td>\r\n",
    "    </tr>\r\n",
    "    <tr>\r\n",
    "        <td style=\"padding: 12px; text-align: left; background-color: #e2f7e2; font-size: 16px; color: #333;\">&lt;=</td>\r\n",
    "        <td style=\"padding: 12px; text-align: left; background-color: #e2f7e2; font-size: 16px; color: #333;\">Less than or equal to</td>\r\n",
    "        <td style=\"padding: 12px; text-align: left; background-color: #e2f7e2; font-size: 16px; color: #333;\">x &lt;= y</td>\r\n",
    "    </tr>\r\n",
    "</table>\r\n"
   ]
  },
  {
   "cell_type": "raw",
   "id": "2c2165a7-651a-4a40-ac17-8c1b720c78e9",
   "metadata": {},
   "source": []
  },
  {
   "cell_type": "code",
   "execution_count": 37,
   "id": "62fa034a-63d1-4f0b-8276-b3ef92c9a4bb",
   "metadata": {},
   "outputs": [
    {
     "data": {
      "text/plain": [
       "True"
      ]
     },
     "execution_count": 37,
     "metadata": {},
     "output_type": "execute_result"
    }
   ],
   "source": [
    "x= 22\n",
    "y= 22\n",
    "\n",
    "x<=y\n"
   ]
  },
  {
   "cell_type": "code",
   "execution_count": 31,
   "id": "2ae7de2c-a09d-4874-ae5e-b9e6bb221d44",
   "metadata": {},
   "outputs": [
    {
     "data": {
      "text/plain": [
       "False"
      ]
     },
     "execution_count": 31,
     "metadata": {},
     "output_type": "execute_result"
    }
   ],
   "source": []
  },
  {
   "cell_type": "code",
   "execution_count": 22,
   "id": "1c323802",
   "metadata": {},
   "outputs": [
    {
     "data": {
      "text/plain": [
       "False"
      ]
     },
     "execution_count": 22,
     "metadata": {},
     "output_type": "execute_result"
    }
   ],
   "source": [
    "'''Equal to (==): Checks if two operands are equal.'''\n",
    "\n",
    "x = 5\n",
    "y = 5\n",
    "\n",
    "print(x == y)\n"
   ]
  },
  {
   "cell_type": "code",
   "execution_count": null,
   "id": "14d1ca92",
   "metadata": {},
   "outputs": [],
   "source": [
    "'''Not equal to (!=): Checks if two operands are not equal.'''\n",
    "x = 5\n",
    "y = 6\n",
    "\n",
    "x != y\n"
   ]
  },
  {
   "cell_type": "code",
   "execution_count": null,
   "id": "911193a9",
   "metadata": {},
   "outputs": [],
   "source": [
    "''' Greater than (>): Checks if the left operand is greater than the right.'''\n",
    "x = 17\n",
    "y = 10\n",
    "a = 10\n",
    "b = 11\n",
    "print(x > y) \n",
    "print(a > b) \n"
   ]
  },
  {
   "cell_type": "code",
   "execution_count": null,
   "id": "ce4ff7e9",
   "metadata": {},
   "outputs": [],
   "source": [
    "'''Less than (<): Checks if the left operand is less than the right.'''\n",
    "\n",
    "x = 4\n",
    "y = 5\n",
    "\n",
    "\n",
    "print(x < y)\n",
    "\n"
   ]
  },
  {
   "cell_type": "code",
   "execution_count": null,
   "id": "53a820b3",
   "metadata": {},
   "outputs": [],
   "source": [
    "''' Greater than or equal to (>=): Checks if the left operand is greater than or equal to the right.'''\n",
    "\n",
    "x = 3\n",
    "y = 8\n",
    "\n",
    "x >= y\n"
   ]
  },
  {
   "cell_type": "code",
   "execution_count": null,
   "id": "78d01b74",
   "metadata": {},
   "outputs": [],
   "source": [
    "'''Less than or equal to (<=): Checks if the left operand is less than or equal to the right.'''\n",
    "x = 7\n",
    "y = 3\n",
    "\n",
    "x <= y\n",
    "\n"
   ]
  },
  {
   "cell_type": "markdown",
   "id": "d9165ab2-64f7-44c5-91af-d2ba9c7ee41c",
   "metadata": {},
   "source": [
    "<h2 style=\"text-align: left; color: #4CAF50; font-family: 'Candara', sans-serif;\">Assignment Operators</h2>\r\n",
    "\r\n",
    "<table style=\"width:50%; margin-left: 0; border-collapse: collapse; border: 2px solid #4CAF50; border-radius: 8px; background-color: #f9f9f9; font-family: 'Candara', sans-serif;\">\r\n",
    "    <tr>\r\n",
    "        <th style=\"padding: 12px; text-align: left; background-color: #4CAF50; color: white; font-size: 18px;\">Operator</th>\r\n",
    "        <th style=\"padding: 12px; text-align: left; background-color: #4CAF50; color: white; font-size: 18px;\">Example</th>\r\n",
    "        <th style=\"padding: 12px; text-align: left; background-color: #4CAF50; color: white; font-size: 18px;\">Same As</th>\r\n",
    "    </tr>\r\n",
    "    <tr>\r\n",
    "        <td style=\"padding: 12px; text-align: left; background-color: #f2f2f2; font-size: 16px; color: #333;\">=</td>\r\n",
    "        <td style=\"padding: 12px; text-align: left; background-color: #f2f2f2; font-size: 16px; color: #333;\">x = 5</td>\r\n",
    "        <td style=\"padding: 12px; text-align: left; background-color: #f2f2f2; font-size: 16px; color: #333;\">x = 5</td>\r\n",
    "    </tr>\r\n",
    "    <tr>\r\n",
    "        <td style=\"padding: 12px; text-align: left; background-color: #e2f7e2; font-size: 16px; color: #333;\">+=</td>\r\n",
    "        <td style=\"padding: 12px; text-align: left; background-color: #e2f7e2; font-size: 16px; color: #333;\">x += 3</td>\r\n",
    "        <td style=\"padding: 12px; text-align: left; background-color: #e2f7e2; font-size: 16px; color: #333;\">x = x + 3</td>\r\n",
    "    </tr>\r\n",
    "    <tr>\r\n",
    "        <td style=\"padding: 12px; text-align: left; background-color: #f2f2f2; font-size: 16px; color: #333;\">-=</td>\r\n",
    "        <td style=\"padding: 12px; text-align: left; background-color: #f2f2f2; font-size: 16px; color: #333;\">x -= 3</td>\r\n",
    "        <td style=\"padding: 12px; text-align: left; background-color: #f2f2f2; font-size: 16px; color: #333;\">x = x - 3</td>\r\n",
    "    </tr>\r\n",
    "    <tr>\r\n",
    "        <td style=\"padding: 12px; text-align: left; background-color: #e2f7e2; font-size: 16px; color: #333;\">*=</td>\r\n",
    "        <td style=\"padding: 12px; text-align: left; background-color: #e2f7e2; font-size: 16px; color: #333;\">x *= 3</td>\r\n",
    "        <td style=\"padding: 12px; text-align: left; background-color: #e2f7e2; font-size: 16px; color: #333;\">x = x * 3</td>\r\n",
    "    </tr>\r\n",
    "    <tr>\r\n",
    "        <td style=\"padding: 12px; text-align: left; background-color: #f2f2f2; font-size: 16px; color: #333;\">/=</td>\r\n",
    "        <td style=\"padding: 12px; text-align: left; background-color: #f2f2f2; font-size: 16px; color: #333;\">x /= 3</td>\r\n",
    "        <td style=\"padding: 12px; text-align: left; background-color: #f2f2f2; font-size: 16px; color: #333;\">x = x / 3</td>\r\n",
    "    </tr>\r\n",
    "</table>\r\n"
   ]
  },
  {
   "cell_type": "raw",
   "id": "206a7b29-bfda-448c-a77a-78c0023d872f",
   "metadata": {},
   "source": []
  },
  {
   "cell_type": "code",
   "execution_count": 47,
   "id": "c6ce1358-3540-4c7b-b1fa-cb2aad2b3fc2",
   "metadata": {},
   "outputs": [
    {
     "data": {
      "text/plain": [
       "1.0"
      ]
     },
     "execution_count": 47,
     "metadata": {},
     "output_type": "execute_result"
    }
   ],
   "source": [
    "x = 10 \n",
    "x = x / 10\n",
    "x\n"
   ]
  },
  {
   "cell_type": "code",
   "execution_count": null,
   "id": "9692cfcf",
   "metadata": {},
   "outputs": [],
   "source": [
    "'''Assignment (=): Assigns the value on the right to the variable on the left.'''\n",
    "x = 5 # assign\n",
    "\n",
    "print(x)\n",
    "\n"
   ]
  },
  {
   "cell_type": "code",
   "execution_count": null,
   "id": "be76ed51",
   "metadata": {},
   "outputs": [],
   "source": [
    "'''Addition Assignment (+=): Adds the value on the right to the variable on the \n",
    "left and assigns the result to the variable.'''\n",
    "x = 5\n",
    "x+=5 # is similar to x = x + 5\n",
    "\n",
    "#  = 5 + 5\n",
    "print(x)\n"
   ]
  },
  {
   "cell_type": "code",
   "execution_count": null,
   "id": "8146b8f4",
   "metadata": {},
   "outputs": [],
   "source": [
    "'''Subtraction Assignment (-=): Subtracts the value on the right from the variable on the left \n",
    "and assigns the result to the variable.'''\n",
    "x = 8\n",
    "x -= 8  # equivalent to x = x - 8\n",
    "\n",
    "print(x)\n",
    "\n"
   ]
  },
  {
   "cell_type": "code",
   "execution_count": null,
   "id": "6ce573f0",
   "metadata": {},
   "outputs": [],
   "source": [
    "'''Multiplication Assignment (*=): Multiplies the variable on \n",
    "the left by the value on the right and assigns the result to the variable.'''\n",
    "\n",
    "x = 4\n",
    "x *= 4  # equivalent to x = x * 6\n",
    "\n",
    "\n",
    "\n",
    "\n",
    "a = 10\n",
    "for i in range(0,3):\n",
    "    a = a * 10 \n",
    "    print(a)\n"
   ]
  },
  {
   "cell_type": "code",
   "execution_count": null,
   "id": "86f04b12",
   "metadata": {},
   "outputs": [],
   "source": [
    "'''Division Assignment (/=): Divides the variable on the left by the value on the right \n",
    "and assigns the result to the variable.'''\n",
    "x = 10\n",
    "\n",
    "x /= 10  # equivalent to x = x / 2\n",
    "\n",
    "print(x)\n"
   ]
  },
  {
   "cell_type": "markdown",
   "id": "e53a30e6",
   "metadata": {},
   "source": [
    "<h2 style=\"text-align: left; color: #4CAF50; font-family: 'Candara', sans-serif;\">Logical Operators</h2>\r\n",
    "\r\n",
    "<table style=\"width:50%; margin-left: 0; border-collapse: collapse; border: 2px solid #4CAF50; border-radius: 8px; background-color: #f9f9f9; font-family: 'Candara', sans-serif;\">\r\n",
    "    <tr>\r\n",
    "        <th style=\"padding: 12px; text-align: left; background-color: #4CAF50; color: white; font-size: 18px;\">Operator</th>\r\n",
    "        <th style=\"padding: 12px; text-align: left; background-color: #4CAF50; color: white; font-size: 18px;\">Description</th>\r\n",
    "        <th style=\"padding: 12px; text-align: left; background-color: #4CAF50; color: white; font-size: 18px;\">Example</th>\r\n",
    "    </tr>\r\n",
    "    <tr>\r\n",
    "        <td style=\"padding: 12px; text-align: left; background-color: #f2f2f2; font-size: 16px; color: #333;\">and</td>\r\n",
    "        <td style=\"padding: 12px; text-align: left; background-color: #f2f2f2; font-size: 16px; color: #333;\">Returns True if both statements are true</td>\r\n",
    "        <td style=\"padding: 12px; text-align: left; background-color: #f2f2f2; font-size: 16px; color: #333;\">x &lt; 5 and x &lt; 10</td>\r\n",
    "    </tr>\r\n",
    "    <tr>\r\n",
    "        <td style=\"padding: 12px; text-align: left; background-color: #e2f7e2; font-size: 16px; color: #333;\">or</td>\r\n",
    "        <td style=\"padding: 12px; text-align: left; background-color: #e2f7e2; font-size: 16px; color: #333;\">Returns True if one of the statements is true</td>\r\n",
    "        <td style=\"padding: 12px; text-align: left; background-color: #e2f7e2; font-size: 16px; color: #333;\">x &lt; 5 or x &lt; 4</td>\r\n",
    "    </tr>\r\n",
    "</table>\r\n"
   ]
  },
  {
   "cell_type": "raw",
   "id": "16c118e8-eaf3-4bc1-a092-32cb09fdc003",
   "metadata": {},
   "source": []
  },
  {
   "cell_type": "code",
   "execution_count": 54,
   "id": "87cddb93-139c-460f-b595-9cac8397be22",
   "metadata": {},
   "outputs": [
    {
     "data": {
      "text/plain": [
       "True"
      ]
     },
     "execution_count": 54,
     "metadata": {},
     "output_type": "execute_result"
    }
   ],
   "source": [
    "result = (150 <= 1000) or (20 >= 150)\n",
    "result"
   ]
  },
  {
   "cell_type": "code",
   "execution_count": 50,
   "id": "471a0908-836b-4826-85a1-606f02876511",
   "metadata": {},
   "outputs": [
    {
     "name": "stdout",
     "output_type": "stream",
     "text": [
      "True\n"
     ]
    }
   ],
   "source": [
    "result = (20 > 15) and (25 > 20)  # result is True\n",
    "#         True    and   False            \n",
    "\n",
    "print(result)\n"
   ]
  },
  {
   "cell_type": "code",
   "execution_count": null,
   "id": "3deecf30",
   "metadata": {},
   "outputs": [],
   "source": [
    "'''Logical AND (and): Returns True if both operands are True.'''\n",
    "# True and True = True\n",
    "# True and False = False\n",
    "# False and True = False\n",
    "# False and False = False\n",
    "\n",
    "\n",
    "result = (5 > 15) and (15 > 20)  # result is True\n",
    "#         False    and False            \n",
    "\n",
    "print(result)\n"
   ]
  },
  {
   "cell_type": "code",
   "execution_count": 54,
   "id": "ecd41158-9aba-4511-9987-4c0a01d65abd",
   "metadata": {},
   "outputs": [
    {
     "name": "stdout",
     "output_type": "stream",
     "text": [
      "False\n"
     ]
    }
   ],
   "source": [
    "result = (50 > 400) or (117 > 2000)  \n",
    "\n",
    "\n",
    "print(result)\n"
   ]
  },
  {
   "cell_type": "code",
   "execution_count": null,
   "id": "bb3b648c",
   "metadata": {},
   "outputs": [],
   "source": [
    "'''Logical OR (or): Returns True if at least one of the operands is True.'''\n",
    "# True or True = True\n",
    "# True or False = True\n",
    "# False or True = True\n",
    "# False 0r False = False\n",
    "\n",
    "\n",
    "result = (5 > 4) or (117 > 20)  \n",
    "#          True  or   True\n",
    "\n",
    "print(result)\n"
   ]
  },
  {
   "cell_type": "code",
   "execution_count": 59,
   "id": "77751f01",
   "metadata": {},
   "outputs": [
    {
     "name": "stdout",
     "output_type": "stream",
     "text": [
      "True\n"
     ]
    }
   ],
   "source": [
    "'''Logical NOT (not): Returns the opposite of the operand's truth value.'''\n",
    "\n",
    "\n",
    "result = not(10 < 0)  # result is True\n",
    "\n",
    "print(result)\n"
   ]
  },
  {
   "cell_type": "markdown",
   "id": "a8bd5c8f",
   "metadata": {},
   "source": [
    "<h2 style=\"text-align: left; color: #4CAF50; font-family: 'Candara', sans-serif;\">Identity Operators</h2>\r\n",
    "\r\n",
    "<table style=\"width:50%; margin-left: 0; border-collapse: collapse; border: 2px solid #4CAF50; border-radius: 8px; background-color: #f9f9f9; font-family: 'Candara', sans-serif;\">\r\n",
    "    <tr>\r\n",
    "        <th style=\"padding: 12px; text-align: left; background-color: #4CAF50; color: white; font-size: 18px;\">Operator</th>\r\n",
    "        <th style=\"padding: 12px; text-align: left; background-color: #4CAF50; color: white; font-size: 18px;\">Description</th>\r\n",
    "        <th style=\"padding: 12px; text-align: left; background-color: #4CAF50; color: white; font-size: 18px;\">Example</th>\r\n",
    "    </tr>\r\n",
    "    <tr>\r\n",
    "        <td style=\"padding: 12px; text-align: left; background-color: #f2f2f2; font-size: 16px; color: #333;\">is</td>\r\n",
    "        <td style=\"padding: 12px; text-align: left; background-color: #f2f2f2; font-size: 16px; color: #333;\">Returns True if both variables are the same object</td>\r\n",
    "        <td style=\"padding: 12px; text-align: left; background-color: #f2f2f2; font-size: 16px; color: #333;\">x is y</td>\r\n",
    "    </tr>\r\n",
    "    <tr>\r\n",
    "        <td style=\"padding: 12px; text-align: left; background-color: #e2f7e2; font-size: 16px; color: #333;\">is not</td>\r\n",
    "        <td style=\"padding: 12px; text-align: left; background-color: #e2f7e2; font-size: 16px; color: #333;\">Returns True if both variables are not the same object</td>\r\n",
    "        <td style=\"padding: 12px; text-align: left; background-color: #e2f7e2; font-size: 16px; color: #333;\">x is not y</td>\r\n",
    "    </tr>\r\n",
    "</table>\r\n"
   ]
  },
  {
   "cell_type": "raw",
   "id": "94406e2e-1be9-44ef-8fd0-7e880309e4fa",
   "metadata": {},
   "source": []
  },
  {
   "cell_type": "code",
   "execution_count": 58,
   "id": "96e36bb8-d8f5-4681-a77c-26045efe3d48",
   "metadata": {},
   "outputs": [
    {
     "data": {
      "text/plain": [
       "False"
      ]
     },
     "execution_count": 58,
     "metadata": {},
     "output_type": "execute_result"
    }
   ],
   "source": [
    "x = 'Sunil'\n",
    "y = 'Sunil'\n",
    "x is not y\n",
    "\n",
    "\n",
    "\n",
    "\n"
   ]
  },
  {
   "cell_type": "code",
   "execution_count": 65,
   "id": "30427fb2",
   "metadata": {},
   "outputs": [
    {
     "name": "stdout",
     "output_type": "stream",
     "text": [
      "True\n",
      "True\n"
     ]
    }
   ],
   "source": [
    "'''is: Returns True if both operands refer to the same object.'''\n",
    "\n",
    "x = 'Sunil'\n",
    "y = 'Sunil'\n",
    "\n",
    "result1 = x is y  # result1 is False (x and y are different objects)\n",
    "result2 = x == y  # result1 is False (x and y are different objects)\n",
    "\n",
    "print(result1)\n",
    "print(result2)\n"
   ]
  },
  {
   "cell_type": "code",
   "execution_count": 68,
   "id": "7d1f4abc-c6ca-4a55-905f-4dadc0d45778",
   "metadata": {},
   "outputs": [
    {
     "name": "stdout",
     "output_type": "stream",
     "text": [
      "False\n",
      "False\n"
     ]
    }
   ],
   "source": [
    "result1 = x != y  # result1 is False (x and y are different objects)\n",
    "result2 = x is not y  # result1 is False (x and y are different objects)\n",
    "\n",
    "print(result1)\n",
    "print(result2)\n"
   ]
  },
  {
   "cell_type": "code",
   "execution_count": null,
   "id": "33f36cdd",
   "metadata": {},
   "outputs": [],
   "source": [
    "'''is not: Returns True if both operands do not refer to the same object.'''\n",
    "\n",
    "x = 'Sunil'\n",
    "y = 'Rajesh'\n",
    "\n",
    "result1 = x is not y  # result1 is False (x and y are different objects)\n",
    "\n",
    "print(result1)\n"
   ]
  },
  {
   "cell_type": "markdown",
   "id": "51df14a7",
   "metadata": {},
   "source": [
    "<h2 style=\"text-align: left; color: #4CAF50; font-family: 'Candara', sans-serif;\">Membership Operators</h2>\r\n",
    "\r\n",
    "<table style=\"width:50%; margin-left: 0; border-collapse: collapse; border: 2px solid #4CAF50; border-radius: 8px; background-color: #f9f9f9; font-family: 'Candara', sans-serif;\">\r\n",
    "    <tr>\r\n",
    "        <th style=\"padding: 12px; text-align: left; background-color: #4CAF50; color: white; font-size: 18px;\">Operator</th>\r\n",
    "        <th style=\"padding: 12px; text-align: left; background-color: #4CAF50; color: white; font-size: 18px;\">Description</th>\r\n",
    "        <th style=\"padding: 12px; text-align: left; background-color: #4CAF50; color: white; font-size: 18px;\">Example</th>\r\n",
    "    </tr>\r\n",
    "    <tr>\r\n",
    "        <td style=\"padding: 12px; text-align: left; background-color: #f2f2f2; font-size: 16px; color: #333;\">in</td>\r\n",
    "        <td style=\"padding: 12px; text-align: left; background-color: #f2f2f2; font-size: 16px; color: #333;\">Returns True if a sequence with the specified value is present in the object</td>\r\n",
    "        <td style=\"padding: 12px; text-align: left; background-color: #f2f2f2; font-size: 16px; color: #333;\">x in y</td>\r\n",
    "    </tr>\r\n",
    "    <tr>\r\n",
    "        <td style=\"padding: 12px; text-align: left; background-color: #e2f7e2; font-size: 16px; color: #333;\">not in</td>\r\n",
    "        <td style=\"padding: 12px; text-align: left; background-color: #e2f7e2; font-size: 16px; color: #333;\">Returns True if a sequence with the specified value is not present in the object</td>\r\n",
    "        <td style=\"padding: 12px; text-align: left; background-color: #e2f7e2; font-size: 16px; color: #333;\">x not in y</td>\r\n",
    "    </tr>\r\n",
    "</table>\r\n"
   ]
  },
  {
   "cell_type": "raw",
   "id": "9056fdcb-aab4-4903-9a03-a80b6804c57f",
   "metadata": {},
   "source": []
  },
  {
   "cell_type": "code",
   "execution_count": 72,
   "id": "a68b12bc-2338-4208-af5a-6b8cec99df77",
   "metadata": {},
   "outputs": [
    {
     "data": {
      "text/plain": [
       "('1', '2', '3', '4', '5', '6', '7')"
      ]
     },
     "execution_count": 72,
     "metadata": {},
     "output_type": "execute_result"
    }
   ],
   "source": [
    "a  = (\"1\",\"2\",\"3\",\"4\",\"5\",\"6\",\"7\")\n"
   ]
  },
  {
   "cell_type": "code",
   "execution_count": 76,
   "id": "d08de74f-451d-4bcd-a458-dd633192bb0b",
   "metadata": {},
   "outputs": [
    {
     "data": {
      "text/plain": [
       "False"
      ]
     },
     "execution_count": 76,
     "metadata": {},
     "output_type": "execute_result"
    }
   ],
   "source": []
  },
  {
   "cell_type": "code",
   "execution_count": 61,
   "id": "5f08522d",
   "metadata": {},
   "outputs": [
    {
     "data": {
      "text/plain": [
       "False"
      ]
     },
     "execution_count": 61,
     "metadata": {},
     "output_type": "execute_result"
    }
   ],
   "source": [
    "'''in: Returns True if the value is found in the sequence.'''\n",
    "\n",
    "x = \"this is python class\"\n",
    "\n",
    "\"python\" in x\n"
   ]
  },
  {
   "cell_type": "code",
   "execution_count": 63,
   "id": "db9ff302",
   "metadata": {},
   "outputs": [
    {
     "data": {
      "text/plain": [
       "True"
      ]
     },
     "execution_count": 63,
     "metadata": {},
     "output_type": "execute_result"
    }
   ],
   "source": [
    "list1 = [\"a\",\"b\",\"c\"]\n",
    "\n",
    "\"a\" in list1\n"
   ]
  },
  {
   "cell_type": "code",
   "execution_count": 64,
   "id": "7a0c3c64",
   "metadata": {},
   "outputs": [
    {
     "data": {
      "text/plain": [
       "True"
      ]
     },
     "execution_count": 64,
     "metadata": {},
     "output_type": "execute_result"
    }
   ],
   "source": [
    "'''not in: Returns True if the value is not found in the sequence.'''\n",
    "\n",
    "x = \"this is python class\"\n",
    "\n",
    "\"rajesh\" not in x\n"
   ]
  },
  {
   "cell_type": "code",
   "execution_count": null,
   "id": "63c025cc",
   "metadata": {},
   "outputs": [],
   "source": [
    "abc = {1:2,3:4,6:7}\n",
    "\n",
    "print(abc)\n",
    "\n",
    "2 in abc.values()\n"
   ]
  },
  {
   "cell_type": "code",
   "execution_count": null,
   "id": "3f7388f7",
   "metadata": {},
   "outputs": [],
   "source": []
  },
  {
   "cell_type": "code",
   "execution_count": 77,
   "id": "313b6f57",
   "metadata": {},
   "outputs": [
    {
     "data": {
      "text/plain": [
       "'ABCABCABC'"
      ]
     },
     "execution_count": 77,
     "metadata": {},
     "output_type": "execute_result"
    }
   ],
   "source": [
    "3*'ABC'"
   ]
  },
  {
   "cell_type": "code",
   "execution_count": 78,
   "id": "3afb1de0",
   "metadata": {},
   "outputs": [
    {
     "data": {
      "text/plain": [
       "[2, 3]"
      ]
     },
     "execution_count": 78,
     "metadata": {},
     "output_type": "execute_result"
    }
   ],
   "source": [
    "X = [1,2,3]\n",
    "X[1:3]"
   ]
  },
  {
   "cell_type": "code",
   "execution_count": 80,
   "id": "170c2ea5",
   "metadata": {},
   "outputs": [
    {
     "data": {
      "text/plain": [
       "4"
      ]
     },
     "execution_count": 80,
     "metadata": {},
     "output_type": "execute_result"
    }
   ],
   "source": [
    "X = {1,2,3,4}\n",
    "len(X)\n"
   ]
  },
  {
   "cell_type": "code",
   "execution_count": 83,
   "id": "83ec7491",
   "metadata": {},
   "outputs": [
    {
     "data": {
      "text/plain": [
       "1"
      ]
     },
     "execution_count": 83,
     "metadata": {},
     "output_type": "execute_result"
    }
   ],
   "source": [
    "def mul(my_list):\n",
    "    result = 1\n",
    "    for i in my_list:\n",
    "        result + i\n",
    "    return result\n",
    "    \n",
    "my_list = [1,2,3,4]\n",
    "mul(my_list)\n"
   ]
  },
  {
   "cell_type": "code",
   "execution_count": 85,
   "id": "7a4e1380-2005-446b-bfd3-66e4d807e43e",
   "metadata": {},
   "outputs": [
    {
     "ename": "NameError",
     "evalue": "name 'num' is not defined",
     "output_type": "error",
     "traceback": [
      "\u001b[1;31m---------------------------------------------------------------------------\u001b[0m",
      "\u001b[1;31mNameError\u001b[0m                                 Traceback (most recent call last)",
      "Cell \u001b[1;32mIn[85], line 10\u001b[0m\n\u001b[0;32m      5\u001b[0m     \u001b[38;5;28;01mreturn\u001b[39;00m max_num\n\u001b[0;32m      8\u001b[0m my_list \u001b[38;5;241m=\u001b[39m [\u001b[38;5;241m1\u001b[39m,\u001b[38;5;241m2\u001b[39m,\u001b[38;5;241m3\u001b[39m,\u001b[38;5;241m4\u001b[39m]\n\u001b[1;32m---> 10\u001b[0m find_max(my_list)\n",
      "Cell \u001b[1;32mIn[85], line 3\u001b[0m, in \u001b[0;36mfind_max\u001b[1;34m(numbers)\u001b[0m\n\u001b[0;32m      1\u001b[0m \u001b[38;5;28;01mdef\u001b[39;00m \u001b[38;5;21mfind_max\u001b[39m(numbers):\n\u001b[0;32m      2\u001b[0m     max_num \u001b[38;5;241m=\u001b[39m numbers[\u001b[38;5;241m0\u001b[39m]\n\u001b[1;32m----> 3\u001b[0m     \u001b[38;5;28;01mif\u001b[39;00m num\u001b[38;5;241m>\u001b[39mmax_num:\n\u001b[0;32m      4\u001b[0m         max_num\u001b[38;5;241m=\u001b[39mnum\n\u001b[0;32m      5\u001b[0m     \u001b[38;5;28;01mreturn\u001b[39;00m max_num\n",
      "\u001b[1;31mNameError\u001b[0m: name 'num' is not defined"
     ]
    }
   ],
   "source": [
    "def find_max(numbers):\n",
    "    max_num = numbers[0]\n",
    "    if num>max_num:\n",
    "        max_num=num\n",
    "    return max_num\n",
    "\n",
    "\n",
    "my_list = [1,2,3,4]\n",
    "\n",
    "find_max(my_list)\n"
   ]
  },
  {
   "cell_type": "code",
   "execution_count": 88,
   "id": "54f67f6c-b490-4cfe-8840-d547572e00e6",
   "metadata": {},
   "outputs": [
    {
     "data": {
      "text/plain": [
       "True"
      ]
     },
     "execution_count": 88,
     "metadata": {},
     "output_type": "execute_result"
    }
   ],
   "source": [
    "type([])==list\n"
   ]
  }
 ],
 "metadata": {
  "kernelspec": {
   "display_name": "Python 3 (ipykernel)",
   "language": "python",
   "name": "python3"
  },
  "language_info": {
   "codemirror_mode": {
    "name": "ipython",
    "version": 3
   },
   "file_extension": ".py",
   "mimetype": "text/x-python",
   "name": "python",
   "nbconvert_exporter": "python",
   "pygments_lexer": "ipython3",
   "version": "3.11.7"
  }
 },
 "nbformat": 4,
 "nbformat_minor": 5
}
