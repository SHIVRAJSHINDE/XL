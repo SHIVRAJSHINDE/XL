{
 "cells": [
  {
   "cell_type": "markdown",
   "id": "3311b4ed-c0d7-4315-b004-65f9b1421f6d",
   "metadata": {},
   "source": [
    "# Create Tuple\n"
   ]
  },
  {
   "cell_type": "code",
   "execution_count": 4,
   "id": "6c6f5282-e5bd-4dbc-b02e-d8a544a47e7e",
   "metadata": {},
   "outputs": [
    {
     "data": {
      "text/plain": [
       "tuple"
      ]
     },
     "execution_count": 4,
     "metadata": {},
     "output_type": "execute_result"
    }
   ],
   "source": [
    "thistple = (\"apple\", \"banana\", \"cherry\", \"orange\")\n",
    "\n",
    "# using constructor\n",
    "thistple = tuple((\"apple\", \"banana\", \"cherry\", \"orange\"))\n",
    "type(thistple)\n"
   ]
  },
  {
   "cell_type": "code",
   "execution_count": null,
   "id": "3a8afbbc-c235-4ace-b673-6ba012b56311",
   "metadata": {},
   "outputs": [],
   "source": [
    "# support indexing and Slicing : \n",
    "# Immutable : we can not make any changes once tuple is created\n",
    "# Holds Duplicate Values\n"
   ]
  },
  {
   "cell_type": "markdown",
   "id": "1e20767e-b9a2-41bb-a7d0-d4cd1dc21624",
   "metadata": {
    "jp-MarkdownHeadingCollapsed": true
   },
   "source": [
    "# Slicing"
   ]
  },
  {
   "cell_type": "code",
   "execution_count": 6,
   "id": "860173b3-e698-4017-afe8-8e02d948680f",
   "metadata": {},
   "outputs": [
    {
     "data": {
      "text/plain": [
       "('apple', 'banana', 'cherry', 'orange')"
      ]
     },
     "execution_count": 6,
     "metadata": {},
     "output_type": "execute_result"
    }
   ],
   "source": [
    "# exctact emelemnt from the give data type Tuple \n",
    "\n",
    "thistple = (\"apple\", \"banana\", \"cherry\", \"orange\")\n",
    "# +ve          0         1         2         3\n",
    "# -ve         -4        -3        -2        -1\n",
    "thistple\n"
   ]
  },
  {
   "cell_type": "code",
   "execution_count": 15,
   "id": "2806555a-404b-439f-af07-0e697bdc70d8",
   "metadata": {},
   "outputs": [
    {
     "data": {
      "text/plain": [
       "'orange'"
      ]
     },
     "execution_count": 15,
     "metadata": {},
     "output_type": "execute_result"
    }
   ],
   "source": [
    "# Slicing\n",
    "thistple[-1]\n"
   ]
  },
  {
   "cell_type": "markdown",
   "id": "8e798bde-9cb0-49f6-a225-f549c364f252",
   "metadata": {
    "jp-MarkdownHeadingCollapsed": true
   },
   "source": [
    "# Reverse"
   ]
  },
  {
   "cell_type": "code",
   "execution_count": 19,
   "id": "977372ec-a8a8-46db-a1bc-2b34e17b6e95",
   "metadata": {},
   "outputs": [
    {
     "data": {
      "text/plain": [
       "('orange', 'cherry', 'banana', 'apple')"
      ]
     },
     "execution_count": 19,
     "metadata": {},
     "output_type": "execute_result"
    }
   ],
   "source": [
    "# Reversing a tuple by converting to a list\n",
    "thistple = (\"apple\", \"banana\", \"cherry\", \"orange\")\n",
    "reveTplt = reversed(thistple)\n",
    "type(reveTplt)\n",
    "tuple(reveTplt)\n",
    "\n"
   ]
  },
  {
   "cell_type": "code",
   "execution_count": 29,
   "id": "1299d4a8-5fe6-49e1-9a4f-0b7b8177c77c",
   "metadata": {},
   "outputs": [
    {
     "data": {
      "text/plain": [
       "('orange', 'cherry', 'banana', 'apple')"
      ]
     },
     "execution_count": 29,
     "metadata": {},
     "output_type": "execute_result"
    }
   ],
   "source": [
    "# Splicing [::-1]\n",
    "thistple = (\"apple\", \"banana\", \"cherry\", \"orange\")\n",
    "thistple\n",
    "thistple[::-1]\n"
   ]
  },
  {
   "cell_type": "markdown",
   "id": "23036646-4631-4142-a2d0-ec16c484537a",
   "metadata": {
    "jp-MarkdownHeadingCollapsed": true
   },
   "source": [
    "# Iteration over Tupple"
   ]
  },
  {
   "cell_type": "code",
   "execution_count": null,
   "id": "a7b83976-6db4-4baa-aff7-2322633150a0",
   "metadata": {},
   "outputs": [],
   "source": [
    "for i in thistple:\n",
    "    print(i)\n",
    "    "
   ]
  },
  {
   "cell_type": "markdown",
   "id": "87a5c6cd-05b7-4c35-b215-7d50b02093f6",
   "metadata": {
    "jp-MarkdownHeadingCollapsed": true
   },
   "source": [
    "# Len"
   ]
  },
  {
   "cell_type": "code",
   "execution_count": 30,
   "id": "f780edf5-205b-44a4-ae0d-afcd2819f4b3",
   "metadata": {},
   "outputs": [
    {
     "data": {
      "text/plain": [
       "4"
      ]
     },
     "execution_count": 30,
     "metadata": {},
     "output_type": "execute_result"
    }
   ],
   "source": [
    "thistple = (\"apple\", \"banana\", \"cherry\", \"orange\")\n",
    "len(thistple)\n"
   ]
  },
  {
   "cell_type": "markdown",
   "id": "c2ad4575-8b95-48b2-88b4-c75bc080e704",
   "metadata": {
    "jp-MarkdownHeadingCollapsed": true
   },
   "source": [
    "# Count"
   ]
  },
  {
   "cell_type": "code",
   "execution_count": 32,
   "id": "b7acabb1-3189-493f-8b3b-6aeeacd7fbed",
   "metadata": {},
   "outputs": [
    {
     "data": {
      "text/plain": [
       "2"
      ]
     },
     "execution_count": 32,
     "metadata": {},
     "output_type": "execute_result"
    }
   ],
   "source": [
    "thistple = (\"apple\", \"banana\", \"cherry\",\"cherry\", \"orange\")\n",
    "\n",
    "thistple.count(\"cherry\")\n"
   ]
  },
  {
   "cell_type": "markdown",
   "id": "73377331-cb75-4525-9c7f-7bd77b3fb7c5",
   "metadata": {
    "jp-MarkdownHeadingCollapsed": true
   },
   "source": [
    "# Appearence"
   ]
  },
  {
   "cell_type": "code",
   "execution_count": 38,
   "id": "834f8dfb-1dee-4422-b4e3-23f952fae24f",
   "metadata": {},
   "outputs": [
    {
     "data": {
      "text/plain": [
       "True"
      ]
     },
     "execution_count": 38,
     "metadata": {},
     "output_type": "execute_result"
    }
   ],
   "source": [
    "thistple = (\"apple\", \"banana\", \"cherry\", \"orange\")\n",
    "\n",
    "thistple01 = (\"1111\", \"222\", \"333\", \"4444\")\n",
    "\n",
    "\"1111\" in thistple01\n"
   ]
  },
  {
   "cell_type": "markdown",
   "id": "d0e8b527-e592-4f4e-a9b9-43a26006bfe9",
   "metadata": {
    "jp-MarkdownHeadingCollapsed": true
   },
   "source": [
    "# Add "
   ]
  },
  {
   "cell_type": "markdown",
   "id": "91b035b5-2866-4340-9235-2b8c065dd559",
   "metadata": {
    "jp-MarkdownHeadingCollapsed": true
   },
   "source": [
    "# Remove"
   ]
  },
  {
   "cell_type": "markdown",
   "id": "82d9febd-e2ed-4088-bf65-49f13323eccc",
   "metadata": {
    "jp-MarkdownHeadingCollapsed": true
   },
   "source": [
    "# Empty OR Delete"
   ]
  },
  {
   "cell_type": "code",
   "execution_count": 42,
   "id": "a622d763-9eb2-44cf-96aa-8bb16e2aeeb3",
   "metadata": {},
   "outputs": [
    {
     "ename": "AttributeError",
     "evalue": "'tuple' object has no attribute 'clear'",
     "output_type": "error",
     "traceback": [
      "\u001b[1;31m---------------------------------------------------------------------------\u001b[0m",
      "\u001b[1;31mAttributeError\u001b[0m                            Traceback (most recent call last)",
      "Cell \u001b[1;32mIn[42], line 5\u001b[0m\n\u001b[0;32m      2\u001b[0m \u001b[38;5;124;03m'''To empty the list:'''\u001b[39;00m\n\u001b[0;32m      3\u001b[0m abc \u001b[38;5;241m=\u001b[39m (\u001b[38;5;124m'\u001b[39m\u001b[38;5;124mpineapple\u001b[39m\u001b[38;5;124m'\u001b[39m, \u001b[38;5;124m'\u001b[39m\u001b[38;5;124mbanana\u001b[39m\u001b[38;5;124m'\u001b[39m, \u001b[38;5;124m'\u001b[39m\u001b[38;5;124mkiwi\u001b[39m\u001b[38;5;124m'\u001b[39m, \u001b[38;5;124m'\u001b[39m\u001b[38;5;124morange\u001b[39m\u001b[38;5;124m'\u001b[39m, \u001b[38;5;124m'\u001b[39m\u001b[38;5;124morange\u001b[39m\u001b[38;5;124m'\u001b[39m)\n\u001b[1;32m----> 5\u001b[0m abc\u001b[38;5;241m.\u001b[39mclear()\n",
      "\u001b[1;31mAttributeError\u001b[0m: 'tuple' object has no attribute 'clear'"
     ]
    }
   ],
   "source": [
    "'''Clear'''\n",
    "'''To empty the list:'''\n",
    "abc = ('pineapple', 'banana', 'kiwi', 'orange', 'orange')\n",
    "\n",
    "abc.clear()\n"
   ]
  },
  {
   "cell_type": "code",
   "execution_count": 7,
   "id": "d36f9c53-779d-4493-ae73-2a5fb41d39e5",
   "metadata": {},
   "outputs": [],
   "source": [
    "'''Delete'''\n",
    "'''To delete the Data Completely'''\n",
    "abc = ('pineapple', 'banana', 'kiwi', 'orange', 'orange')\n",
    "\n",
    "del abc\n"
   ]
  },
  {
   "cell_type": "markdown",
   "id": "7df72e1d-eae7-4478-9ec6-b1cd1b54f28e",
   "metadata": {
    "jp-MarkdownHeadingCollapsed": true
   },
   "source": [
    "# Copy"
   ]
  },
  {
   "cell_type": "code",
   "execution_count": 43,
   "id": "c461ebbf-b433-4ead-b774-951fcb0eb0ec",
   "metadata": {},
   "outputs": [
    {
     "ename": "AttributeError",
     "evalue": "'tuple' object has no attribute 'copy'",
     "output_type": "error",
     "traceback": [
      "\u001b[1;31m---------------------------------------------------------------------------\u001b[0m",
      "\u001b[1;31mAttributeError\u001b[0m                            Traceback (most recent call last)",
      "Cell \u001b[1;32mIn[43], line 3\u001b[0m\n\u001b[0;32m      1\u001b[0m abc \u001b[38;5;241m=\u001b[39m (\u001b[38;5;124m'\u001b[39m\u001b[38;5;124mpineapple\u001b[39m\u001b[38;5;124m'\u001b[39m, \u001b[38;5;124m'\u001b[39m\u001b[38;5;124mbanana\u001b[39m\u001b[38;5;124m'\u001b[39m, \u001b[38;5;124m'\u001b[39m\u001b[38;5;124mkiwi\u001b[39m\u001b[38;5;124m'\u001b[39m, \u001b[38;5;124m'\u001b[39m\u001b[38;5;124morange\u001b[39m\u001b[38;5;124m'\u001b[39m, \u001b[38;5;124m'\u001b[39m\u001b[38;5;124morange\u001b[39m\u001b[38;5;124m'\u001b[39m)\n\u001b[0;32m      2\u001b[0m \u001b[38;5;66;03m#Method One\u001b[39;00m\n\u001b[1;32m----> 3\u001b[0m abc\u001b[38;5;241m.\u001b[39mcopy()\n\u001b[0;32m      4\u001b[0m abc\n",
      "\u001b[1;31mAttributeError\u001b[0m: 'tuple' object has no attribute 'copy'"
     ]
    }
   ],
   "source": [
    "abc = ('pineapple', 'banana', 'kiwi', 'orange', 'orange')\n",
    "#Method One\n",
    "abc.copy()\n",
    "abc\n"
   ]
  },
  {
   "cell_type": "code",
   "execution_count": 44,
   "id": "a934a451-440d-4167-a9d8-bb3ccc31792f",
   "metadata": {},
   "outputs": [
    {
     "data": {
      "text/plain": [
       "('pineapple', 'banana', 'kiwi', 'orange', 'orange')"
      ]
     },
     "execution_count": 44,
     "metadata": {},
     "output_type": "execute_result"
    }
   ],
   "source": [
    "abc = ('pineapple', 'banana', 'kiwi', 'orange', 'orange')\n",
    "\n",
    "#Method Two\n",
    "newTupple = abc\n",
    "newTupple\n"
   ]
  },
  {
   "cell_type": "markdown",
   "id": "182f8fc4-df87-42ff-bf1a-6f6fcddf9155",
   "metadata": {
    "jp-MarkdownHeadingCollapsed": true
   },
   "source": [
    "# Join tuple"
   ]
  },
  {
   "cell_type": "code",
   "execution_count": 55,
   "id": "6cd6feef-5840-4e76-bac2-9d1c041d333e",
   "metadata": {},
   "outputs": [
    {
     "data": {
      "text/plain": [
       "(1, 2, 3)"
      ]
     },
     "execution_count": 55,
     "metadata": {},
     "output_type": "execute_result"
    }
   ],
   "source": [
    "# Tupple Example a new tuple will get create\n",
    "abc = (\"a\", \"b\" , \"c\")\n",
    "xyz = (1, 2, 3)\n",
    "\n",
    "newTup = abc+xyz\n",
    "newTup\n",
    "xyz\n"
   ]
  },
  {
   "cell_type": "code",
   "execution_count": null,
   "id": "81bfcc72-ee50-497f-b20a-3972beb7ac52",
   "metadata": {},
   "outputs": [],
   "source": []
  },
  {
   "cell_type": "code",
   "execution_count": 57,
   "id": "c618a79d-6e06-4a75-b836-ae641a985973",
   "metadata": {},
   "outputs": [
    {
     "ename": "AttributeError",
     "evalue": "'tuple' object has no attribute 'extend'",
     "output_type": "error",
     "traceback": [
      "\u001b[1;31m---------------------------------------------------------------------------\u001b[0m",
      "\u001b[1;31mAttributeError\u001b[0m                            Traceback (most recent call last)",
      "Cell \u001b[1;32mIn[57], line 1\u001b[0m\n\u001b[1;32m----> 1\u001b[0m abc\u001b[38;5;241m.\u001b[39mextend(xyz)\n",
      "\u001b[1;31mAttributeError\u001b[0m: 'tuple' object has no attribute 'extend'"
     ]
    }
   ],
   "source": [
    "abc.extend(xyz)\n"
   ]
  },
  {
   "cell_type": "markdown",
   "id": "ff029945-f276-489a-9094-b47d421903e5",
   "metadata": {
    "jp-MarkdownHeadingCollapsed": true
   },
   "source": [
    "# index of an Element"
   ]
  },
  {
   "cell_type": "code",
   "execution_count": 61,
   "id": "aeb17fb9-e10a-4895-ad2b-241681b31552",
   "metadata": {},
   "outputs": [
    {
     "data": {
      "text/plain": [
       "4"
      ]
     },
     "execution_count": 61,
     "metadata": {},
     "output_type": "execute_result"
    }
   ],
   "source": [
    "'''Index of the element with the specified value'''\n",
    "tupeOne = (\"a\", \"b\" , \"c\",\"Raj\",\"Sunil\")\n",
    "\n",
    "tupeOne.index(\"Sunil\")\n"
   ]
  },
  {
   "cell_type": "markdown",
   "id": "a876cc26-7bd0-4477-9134-9319619cff32",
   "metadata": {
    "jp-MarkdownHeadingCollapsed": true
   },
   "source": [
    "# Sorting"
   ]
  },
  {
   "cell_type": "code",
   "execution_count": 67,
   "id": "c0e47b0a-2535-4e8b-8098-4a233f90449a",
   "metadata": {},
   "outputs": [
    {
     "name": "stdout",
     "output_type": "stream",
     "text": [
      "(3, 1, 4, 2)\n"
     ]
    },
    {
     "data": {
      "text/plain": [
       "(1, 2, 3, 4)"
      ]
     },
     "execution_count": 67,
     "metadata": {},
     "output_type": "execute_result"
    }
   ],
   "source": [
    "# Does Not Modify the Original: It creates and returns a new sorted list, leaving the original tuple(iterable) unchanged.\n",
    "# this method is not memory Efficient\n",
    "tupeOne = (3,1,4,2)\n",
    "\n",
    "print(tupeOne)\n",
    "abc = sorted(tupeOne)\n",
    "tuple(abc)\n"
   ]
  },
  {
   "cell_type": "code",
   "execution_count": 69,
   "id": "7ea087dc-533c-4fd0-a30f-ab123d224ac7",
   "metadata": {},
   "outputs": [
    {
     "ename": "AttributeError",
     "evalue": "'tuple' object has no attribute 'sort'",
     "output_type": "error",
     "traceback": [
      "\u001b[1;31m---------------------------------------------------------------------------\u001b[0m",
      "\u001b[1;31mAttributeError\u001b[0m                            Traceback (most recent call last)",
      "Cell \u001b[1;32mIn[69], line 3\u001b[0m\n\u001b[0;32m      1\u001b[0m tupeOne \u001b[38;5;241m=\u001b[39m (\u001b[38;5;124m\"\u001b[39m\u001b[38;5;124ma\u001b[39m\u001b[38;5;124m\"\u001b[39m, \u001b[38;5;124m\"\u001b[39m\u001b[38;5;124mb\u001b[39m\u001b[38;5;124m\"\u001b[39m , \u001b[38;5;124m\"\u001b[39m\u001b[38;5;124mc\u001b[39m\u001b[38;5;124m\"\u001b[39m, \u001b[38;5;124m\"\u001b[39m\u001b[38;5;124mc\u001b[39m\u001b[38;5;124m\"\u001b[39m, \u001b[38;5;124m\"\u001b[39m\u001b[38;5;124mc\u001b[39m\u001b[38;5;124m\"\u001b[39m)\n\u001b[1;32m----> 3\u001b[0m tupeOne\u001b[38;5;241m.\u001b[39msort()\n",
      "\u001b[1;31mAttributeError\u001b[0m: 'tuple' object has no attribute 'sort'"
     ]
    }
   ],
   "source": [
    "tupeOne = (\"a\", \"b\" , \"c\", \"c\", \"c\")\n",
    "\n",
    "tupeOne.sort()\n",
    "\n"
   ]
  },
  {
   "cell_type": "markdown",
   "id": "77fbc41d-d2d5-4688-a3f3-6022dc421bd8",
   "metadata": {
    "jp-MarkdownHeadingCollapsed": true
   },
   "source": [
    "# Converting Tupple to Dict"
   ]
  },
  {
   "cell_type": "code",
   "execution_count": 75,
   "id": "db583533-ee26-4af0-a8f0-8f6d041bd887",
   "metadata": {},
   "outputs": [
    {
     "data": {
      "text/plain": [
       "{1: 'apple', 2: 'banana', 3: 'cherry', 4: 'orange'}"
      ]
     },
     "execution_count": 75,
     "metadata": {},
     "output_type": "execute_result"
    }
   ],
   "source": [
    "\n",
    "abc = (\"apple\", \"banana\", \"cherry\", \"orange\")\n",
    "xyz = (1,2,3,4,5,6)\n",
    "\n",
    "dict(zip(xyz,abc))\n"
   ]
  },
  {
   "cell_type": "code",
   "execution_count": 76,
   "id": "055b197b-b404-4a19-b768-12564f8b0ee3",
   "metadata": {},
   "outputs": [
    {
     "data": {
      "text/plain": [
       "(1, 2, 3)"
      ]
     },
     "execution_count": 76,
     "metadata": {},
     "output_type": "execute_result"
    }
   ],
   "source": [
    "# Creating a tuple from a list\n",
    "listOne = [1, 2, 3]\n",
    "\n",
    "tuple(listOne)\n"
   ]
  },
  {
   "cell_type": "code",
   "execution_count": 77,
   "id": "003bc492-0905-4815-b54d-3d22b91e50a9",
   "metadata": {},
   "outputs": [
    {
     "data": {
      "text/plain": [
       "()"
      ]
     },
     "execution_count": 77,
     "metadata": {},
     "output_type": "execute_result"
    }
   ],
   "source": [
    "# Creating an empty tuple\n",
    "abc_tupe = ()\n",
    "abc_tupe\n"
   ]
  },
  {
   "cell_type": "code",
   "execution_count": null,
   "id": "c302f431-0a52-4e28-ab8c-4b6df0b5919f",
   "metadata": {},
   "outputs": [],
   "source": []
  },
  {
   "cell_type": "code",
   "execution_count": null,
   "id": "317a1e90-5a5c-41eb-8229-149d2dbdc61d",
   "metadata": {},
   "outputs": [],
   "source": []
  }
 ],
 "metadata": {
  "kernelspec": {
   "display_name": "Python 3 (ipykernel)",
   "language": "python",
   "name": "python3"
  },
  "language_info": {
   "codemirror_mode": {
    "name": "ipython",
    "version": 3
   },
   "file_extension": ".py",
   "mimetype": "text/x-python",
   "name": "python",
   "nbconvert_exporter": "python",
   "pygments_lexer": "ipython3",
   "version": "3.11.7"
  }
 },
 "nbformat": 4,
 "nbformat_minor": 5
}
