{
 "cells": [
  {
   "cell_type": "markdown",
   "id": "99be849a-b25b-4aa4-a455-996aaed59a88",
   "metadata": {},
   "source": [
    "class vehicle:\n",
    "    'Attribute(Variable,data etc)\n",
    "\n",
    "    #Attribute(Variable,data etc)\n",
    "\n",
    "    def nameOfFuction(self):\n",
    "        #Variable\n",
    "        #LogicalStructure\n",
    "        #return\n",
    "        #print\n",
    "\r\n"
   ]
  },
  {
   "cell_type": "markdown",
   "id": "1b5cb1b8-f22c-4113-8477-4f7ece5f3f6b",
   "metadata": {},
   "source": [
    "# Classes & Objects\r\n",
    "\r\n",
    "<p style=\"color: #3498db; font-family: 'Candara', sans-serif; font-size: 16px; margin: 0; padding: 0;\">Classes are blueprints for creating objects. They define:</p>\r\n",
    "\r\n",
    "<ol style=\"color: #3498db; font-family: 'Candara', sans-serif; font-size: 16px; margin: 0; padding: 0;\">\r\n",
    "    <li><b>Attributes</b> (data)</li>\r\n",
    "    <li><b>Methods</b> (functions)</li>\r\n",
    "</ol>\r\n",
    "\r\n",
    "<p style=\"color: #3498db; font-family: 'Candara', sans-serif; font-size: 16px; margin: 0; padding: 0;\">1) <b>Attributes (da\n",
    "    ta)</b>: Attributes are described by data variables such as name, age, height, etc. These variables may contain different data types.</p>\r\n",
    "\r\n",
    "<p style=\"color: #3498db; font-family: 'Candara', sans-serif; font-size: 16px; margin: 0; padding: 0;\">2) <b>Methods or Functions</b>: Methods and functions that belong to objects. They can access and manipulate object attributes.</p>\r\n",
    "\r\n",
    "<ul style=\"color: #3498db; font-family: 'Candara', sans-serif; font-size: 16px; margin: 0; padding: 0;\">\r\n",
    "    <li><b>Attributes (data)</b>: Attributes are described by data variables such as name, age, height, etc.</li>\r\n",
    "    <li><b>Logical Structure</b>: Logical structure that incorporates conditional statements (like if, else, elif) and loops (such as for loops, while loops) within a class. Here’s an example illustrating this:</li>\r\n",
    "</ul>\r\n",
    "\r\n",
    "<p style=\"color: #3498db; font-family: 'Candara', sans-serif; font-size: 16px; margin: 0; padding: 0;\">Object: Objects are instances of classes. They are created using the class as a template. With the help of an object, we can access the attributes (data) or methods (functions\n",
    ") of a class.</p>\r\n",
    "\n",
    "\n",
    "'''''\n",
    "\n",
    "\n",
    "\n",
    "\n",
    "\n",
    "\n",
    "\n",
    "\n",
    "\n",
    "\n",
    "\n",
    "\n",
    "\n",
    "\n",
    "\n",
    "\n",
    "\n",
    "\n",
    "\n",
    "\n",
    "\n",
    "\n",
    "\n",
    "\n",
    "\n",
    "```python\r\n",
    "class vehicle:\r\n",
    "    'Attribute(Variable,data etc)\r\n",
    "\r\n",
    "    #Attribute(Variable,data etc)\r\n",
    "\r\n",
    "    def nameOfFuction(self):\r\n",
    "        #Variable\r\n",
    "        #LogicalStructure\r\n",
    "        #retu"
   ]
  },
  {
   "cell_type": "code",
   "execution_count": null,
   "id": "8f1c8716",
   "metadata": {},
   "outputs": [],
   "source": [
    "\n",
    "class Vehicle:\n",
    "    \n",
    "    def get_info(self,make, model):\n",
    "        print(\"Info of the car is: \",self.make,self.model)\n",
    "\n",
    "    def drive(self,make, model):\n",
    "        print(self.model,\"Can run up to the Speed of 140 km/hr\")\n",
    "\n",
    "car = Vehicle()\n",
    "car\n",
    "\n",
    "car.drive(\"Tata\",\"Tiago\")\n",
    "car.get_info(\"Tata\",\"Tiago\")\n"
   ]
  },
  {
   "cell_type": "code",
   "execution_count": null,
   "id": "60ff54e9-7717-420b-a2e3-e88f53d06e16",
   "metadata": {},
   "outputs": [],
   "source": []
  },
  {
   "cell_type": "code",
   "execution_count": 26,
   "id": "d2dd2b51-a6e0-4eb6-a483-01f01b6a2fc0",
   "metadata": {},
   "outputs": [
    {
     "name": "stdout",
     "output_type": "stream",
     "text": [
      "Info of the car is:  Tata Tiago\n",
      "Tiago Can run up to the Speed of 140 km/hr\n"
     ]
    }
   ],
   "source": [
    "class Vehicle:\n",
    "    def __init__ (self,make, model):\n",
    "        self.make = make\n",
    "        self.model = model\n",
    "    def get_info(self):\n",
    "        print(\"Info of the car is: \",self.make,self.model)\n",
    "\n",
    "    def drive(self):\n",
    "        print(self.model,\"Can run up to the Speed of 140 km/hr\")\n",
    "        \n",
    "car01 = Vehicle(\"Tata\",\"Tiago\")\n",
    "\n",
    "car01.get_info()\n",
    "car01.drive()\n"
   ]
  },
  {
   "cell_type": "code",
   "execution_count": 25,
   "id": "9e628b39-0316-4ba2-91e5-16a952ff26a5",
   "metadata": {},
   "outputs": [
    {
     "name": "stdout",
     "output_type": "stream",
     "text": [
      "Info of the car is:  Tata Tiago\n",
      "Tiago Can run up to the Speed of 140 km/hr\n"
     ]
    }
   ],
   "source": [
    "class Vehicle:\n",
    "    def __init__ (self):\n",
    "        self.make = \"Tata\"\n",
    "        self.model = \"Tiago\"\n",
    "        \n",
    "    def get_info(self):\n",
    "        print(\"Info of the car is: \",self.make,self.model)\n",
    "\n",
    "    def drive(self):\n",
    "        print(self.model,\"Can run up to the Speed of 140 km/hr\")\n",
    "        \n",
    "car01 = Vehicle()\n",
    "\n",
    "car01.get_info()\n",
    "car01.drive()\n"
   ]
  },
  {
   "cell_type": "code",
   "execution_count": null,
   "id": "8a569bc9-5133-4c8d-b610-8e29002a8ad8",
   "metadata": {},
   "outputs": [],
   "source": [
    "class vehicle:\n",
    "    # Contructure of Python\n",
    "    def __init__():\n",
    "    #Attribute(Variable,data etc)\n",
    "\n",
    "    def nameOfFuction(self):\n",
    "        #Variable\n",
    "        #LogicalStructure\n",
    "        #return\n",
    "        #print\n"
   ]
  },
  {
   "cell_type": "code",
   "execution_count": null,
   "id": "0f5873c9-5cef-4453-8e96-8378ca7e89e3",
   "metadata": {},
   "outputs": [],
   "source": [
    "class vehicle:\n",
    "    def __int__():\n",
    "        #data or Variable\n",
    "    def nameOfFuction(self):\n",
    "        #Variable\n",
    "        #LogicalStructure\n",
    "        #return\n",
    "        #print\n",
    "\n",
    "carOne = Vehicle()\n",
    "carOne.nameOfFuction()"
   ]
  },
  {
   "cell_type": "code",
   "execution_count": null,
   "id": "21c7d83c-f08b-4016-a4d3-426d7f0fe4a3",
   "metadata": {},
   "outputs": [],
   "source": []
  },
  {
   "cell_type": "code",
   "execution_count": 30,
   "id": "52fb5ced-2a80-4cfc-821f-6878637109a5",
   "metadata": {},
   "outputs": [
    {
     "name": "stdout",
     "output_type": "stream",
     "text": [
      "140140\n"
     ]
    }
   ],
   "source": [
    "class Vehicle:\n",
    "\n",
    "    def get_info(self,make,kmPHr):\n",
    "        self.make= make\n",
    "        self.kmPHr= kmPHr\n",
    "        \n",
    "    def drive(self):\n",
    "        print(self.make,\"CAN DRIVE\",self.kmPHr) \n",
    "\n",
    "    def xyx(self):\n",
    "        print(self.kmPHr*2)\n",
    "\n",
    "\n",
    "car = Vehicle()\n",
    "car.get_info(\"Tata\",\"140\")\n",
    "car.xyx()\n"
   ]
  },
  {
   "cell_type": "code",
   "execution_count": 39,
   "id": "29219649-5688-4523-9ef1-ac8b719f4e50",
   "metadata": {},
   "outputs": [
    {
     "name": "stdout",
     "output_type": "stream",
     "text": [
      "Tata CAN DRIVE 140\n"
     ]
    }
   ],
   "source": [
    "class Vehicle:\n",
    "    def __init__ (self):\n",
    "        self.make=\"Tata\"\n",
    "        self.kmPHr=140 \n",
    "        \n",
    "    def drive(self):\n",
    "        print(self.make,\"CAN DRIVE\",self.kmPHr) \n",
    "\n",
    "    def xyx(self):\n",
    "        print(self.kmPHr*2)\n",
    "\n",
    "car01 = Vehicle()\n",
    "car01.drive()\n"
   ]
  },
  {
   "cell_type": "code",
   "execution_count": 37,
   "id": "8a015154-0a23-48d3-8ec8-2ecc5ab8a519",
   "metadata": {},
   "outputs": [
    {
     "name": "stdout",
     "output_type": "stream",
     "text": [
      "Tata CAN DRIVE 140\n"
     ]
    }
   ],
   "source": [
    "class Vehicle:\n",
    "\n",
    "    def get_info(self):\n",
    "        self.make=\"Tata\"\n",
    "        self.kmPHr=140 \n",
    "        \n",
    "    def drive(self):\n",
    "        print(self.make,\"CAN DRIVE\",self.kmPHr) \n",
    "\n",
    "    def xyx(self):\n",
    "        print(self.kmPHr*2)\n",
    "car = Vehicle()\n",
    "car.get_info()\n",
    "car.drive()\n"
   ]
  },
  {
   "cell_type": "code",
   "execution_count": null,
   "id": "ba9b89a2",
   "metadata": {},
   "outputs": [],
   "source": [
    "class Vehicle:\n",
    "\n",
    "    def __init__(self):\n",
    "        self.make=\"Tata\"\n",
    "        self.kmPHr=140 \n",
    "  \n",
    "    def drive(self):\n",
    "        print(self.make,\"CAN DRIVE\",self.kmPHr) \n",
    "\n",
    "    def xyx(self):\n",
    "        print(self.kmPHr*2)\n",
    "\n",
    "\n",
    "car = Vehicle()\n",
    "\n",
    "car.drive()\n"
   ]
  },
  {
   "cell_type": "code",
   "execution_count": null,
   "id": "6748b2aa-456b-4b85-8e99-bc0d8d1fd572",
   "metadata": {},
   "outputs": [],
   "source": [
    "class abc():\n",
    "    def __init_(self):\n",
    "        self.path = \"asdfasfdsf\"\n",
    "\n",
    "\n",
    "class abc():\n",
    "    def __init_(self,path):\n",
    "        self.path = path\n",
    "\n",
    "abc01 = abc(\"asdfadsfads\")"
   ]
  },
  {
   "cell_type": "code",
   "execution_count": null,
   "id": "f7695cf6-b13b-494b-ba1b-fbf23288542a",
   "metadata": {},
   "outputs": [],
   "source": [
    "class Vehicle:\n",
    "    def __init__(self,make,kmPHr):\n",
    "        self.make=make\n",
    "        self.kmPHr=kmPHr \n",
    "\n",
    "    def drive(self):\n",
    "        print(self.make,\"CAN DRIVE\",self.kmPHr) \n",
    "\n",
    "    def xyx(self):\n",
    "        print(self.kmPHr*2)\n",
    "\n",
    "\n",
    "car = Vehicle(\"TATA\",140)\n",
    "car.drive()\n"
   ]
  },
  {
   "cell_type": "code",
   "execution_count": null,
   "id": "0f84d1a1-2d42-4000-a068-fee9fd982581",
   "metadata": {},
   "outputs": [],
   "source": [
    "class Vehicle:\n",
    "    def __init__(self,make,kmPHr):\n",
    "        self.make=make\n",
    "        self.kmPHr=kmPHr \n",
    "\n",
    "    def drive(self):\n",
    "        print(self.make,\"CAN DRIVE at\",self.kmPHr) \n",
    "\n",
    "car = Vehicle(\"Tata\",140)\n",
    "car.drive()\n"
   ]
  },
  {
   "cell_type": "code",
   "execution_count": null,
   "id": "91fde6dd-85da-4db8-93e6-67aec0cfad6d",
   "metadata": {},
   "outputs": [],
   "source": [
    "car1 = Vehicle(\"Tyota\",140)\n",
    "car.drive()\n"
   ]
  },
  {
   "cell_type": "code",
   "execution_count": null,
   "id": "4856d14e",
   "metadata": {},
   "outputs": [],
   "source": [
    "car2 = Vehicle(\"Honda\",180)\n",
    "car.drive()\n"
   ]
  },
  {
   "cell_type": "code",
   "execution_count": null,
   "id": "cc43c307",
   "metadata": {},
   "outputs": [],
   "source": [
    "car = Vehicle(\"Suzuki\",120)\n",
    "car.drive()\n"
   ]
  },
  {
   "cell_type": "code",
   "execution_count": null,
   "id": "add3557e",
   "metadata": {},
   "outputs": [],
   "source": []
  },
  {
   "cell_type": "code",
   "execution_count": null,
   "id": "29552615",
   "metadata": {},
   "outputs": [],
   "source": [
    "class Vehicle:\n",
    "    def __init__(self, make, model, year):\n",
    "        self.make = make\n",
    "        self.model = model\n",
    "        self.year = year\n",
    "\n",
    "    def get_info(self):\n",
    "        return self.year, self.make, self.model\n",
    "\n",
    "    def getPerformance(self):\n",
    "        if self.model==\"Punch\":\n",
    "            return self.make + \" \" + self.model + \" can travel up to 100km/h\"\n",
    "        else :\n",
    "            return self.make + \" \" + self.model + \" can travel up to 120km/h\"\n",
    "\n",
    "car1 = Vehicle(\"Tata\", \"Punch\", 2022)\n",
    "\n",
    "car1.getPerformance()\n"
   ]
  },
  {
   "cell_type": "code",
   "execution_count": null,
   "id": "4e3cb015",
   "metadata": {},
   "outputs": [],
   "source": [
    "car = Vehicle(\"Tata\", \"Punch\", 2022)\n",
    "car.getTravelPerformance()\n"
   ]
  },
  {
   "cell_type": "code",
   "execution_count": null,
   "id": "d835d0fa",
   "metadata": {},
   "outputs": [],
   "source": []
  },
  {
   "cell_type": "code",
   "execution_count": null,
   "id": "131609cc",
   "metadata": {},
   "outputs": [],
   "source": []
  },
  {
   "cell_type": "code",
   "execution_count": null,
   "id": "6b4ef22f",
   "metadata": {},
   "outputs": [],
   "source": []
  },
  {
   "cell_type": "code",
   "execution_count": null,
   "id": "ca3f7446-3daa-4322-9472-0dfbaf69ee73",
   "metadata": {},
   "outputs": [],
   "source": []
  },
  {
   "cell_type": "markdown",
   "id": "7eac001f-d4c6-4727-b024-02eaa04a4ea7",
   "metadata": {},
   "source": [
    "# Inheritance\n",
    "Inheritance is a key concept in object-oriented programming where the derived class (Child Class) inherits the properties of the base class (Parent Class). In inheritance, the derived class (Child Class) can access all the properties (attributes and functions) of the base class (Parent Class).\n",
    "\n",
    "<div style=\"color: #3498db; font-size: 18px; font-weight: bold; font-family: 'Candara', sans-serif; margin: 0; padding: 0;\">There are different types of Inheritance:</div>\n",
    "\n",
    "<div style=\"color: #e74c3c; font-size: 16px; font-weight: bold; font-family: 'Candara', sans-serif; margin: 0; padding: 0;\">A) Single Inheritance</div>\n",
    "<p style=\"color: #555555; font-family: 'Candara', sans-serif; margin: 0; padding: 0;\">Single inheritance is when a class (derived class) inherits from a single parent class. This is the simplest form of inheritance.</p>\n",
    "\n",
    "<div style=\"color: #e74c3c; font-size: 16px; font-weight: bold; font-family: 'Candara', sans-serif; margin: 0; padding: 0;\">B) Multiple Inheritance</div>\n",
    "<p style=\"color: #555555; font-family: 'Candara', sans-serif; margin: 0; padding: 0;\">Multiple inheritance allows a class to inherit from more than one parent class. This can be useful for combining functionalities from multiple sources.</p>\n",
    "\n",
    "<div style=\"color: #e74c3c; font-size: 16px; font-weight: bold; font-family: 'Candara', sans-serif; margin: 0; padding: 0;\">C) Multilevel Inheritance</div>\n",
    "<p style=\"color: #555555; font-family: 'Candara', sans-serif; margin: 0; padding: 0;\">Multilevel inheritance is where a class inherits from another class, which is also derived from another class. This forms a \"chain\" of inheritance.</p>"
   ]
  },
  {
   "cell_type": "markdown",
   "id": "592b6004-2a1d-4173-b171-fcf0b2748dff",
   "metadata": {},
   "source": [
    "<div style=\"color: #f39c12; font-size: 16px; font-weight: bold; font-family: 'Candara', sans-serif; margin: 0; padding: 0;\">A) Single Inheritance</div>\n"
   ]
  },
  {
   "cell_type": "code",
   "execution_count": null,
   "id": "e1fa01a4",
   "metadata": {},
   "outputs": [],
   "source": [
    "class Father:\n",
    "    def fatherMethod(self):\n",
    "        return \"fatherMethod_1 I have Blue Eyes\"\n",
    "\n",
    "      \n",
    "class Child(Father):\n",
    "    def childMethod(self):\n",
    "        return \"childMethod I also have Blue Eyes\"\n",
    "\n",
    "\n",
    "objFather = Father()\n",
    "\n",
    "objChild = Child()\n",
    "objChild.fatherMethod()\n"
   ]
  },
  {
   "cell_type": "markdown",
   "id": "fd12b5fd-5d23-4a67-a2cf-906fa0289717",
   "metadata": {},
   "source": [
    "<div style=\"color: #f39c12; font-size: 16px; font-weight: bold; font-family: 'Candara', sans-serif; margin: 0; padding: 0;\">C) Multilevel Inheritance</div>\n"
   ]
  },
  {
   "cell_type": "code",
   "execution_count": null,
   "id": "ef6a3ead-54f5-43d0-9283-2ea21203b9df",
   "metadata": {},
   "outputs": [],
   "source": [
    "class granParentClass:\n",
    "    inner structure\n",
    "\n",
    "class parentClass(granParentClass):\n",
    "    inner structure\n",
    "    \n",
    "class childClass(parentClass):\n",
    "    inner Strucure\n",
    "    "
   ]
  },
  {
   "cell_type": "markdown",
   "id": "022dffe0-8a09-4f5a-bbed-57b1d33d9d92",
   "metadata": {},
   "source": []
  },
  {
   "cell_type": "code",
   "execution_count": null,
   "id": "e1f33e6e-a059-4379-a7e3-8a98cc960264",
   "metadata": {},
   "outputs": [],
   "source": [
    "\n",
    "#Miltilevel Inheritance\n",
    "\n",
    "# parent\n",
    "class Grandparent:\n",
    "    def Grandparentmethod(self):\n",
    "        print(\"Method 1 my Propery of 100Cr\")\n",
    "\n",
    "# parent\n",
    "class Parent(Grandparent):\n",
    "    def Parentmethod(self):\n",
    "        print(\"Method 2  I have Propery of 50Cr\")\n",
    "# child\n",
    "class Child(Parent):\n",
    "    def Childmethod(self):\n",
    "        print(\"Method 3 I Propery is of 1Cr\")\n",
    "\n",
    "\n",
    "objC = Child()\n",
    "\n"
   ]
  },
  {
   "cell_type": "code",
   "execution_count": null,
   "id": "c6e82ff9-94cd-4e47-93af-8937a81b19a6",
   "metadata": {},
   "outputs": [],
   "source": [
    "\n",
    "\n",
    "class mohterClass:\n",
    "    inner structure\n",
    "\n",
    "class FatherClass():\n",
    "    inner structure\n",
    "    \n",
    "class childClass(mohterClass,FatherClass):\n",
    "    inner Strucure\n",
    "    \n"
   ]
  },
  {
   "cell_type": "markdown",
   "id": "81273a88-3ba2-42d0-b278-43bb0adca5a5",
   "metadata": {},
   "source": [
    "<div style=\"color: #f39c12; font-size: 16px; font-weight: bold; font-family: 'Candara', sans-serif; margin: 0; padding: 0;\">B) Multiple Inheritance</div>"
   ]
  },
  {
   "cell_type": "code",
   "execution_count": 2,
   "id": "c682962b",
   "metadata": {},
   "outputs": [
    {
     "name": "stdout",
     "output_type": "stream",
     "text": [
      "childMethod3 3 I brown hairs\n",
      "fatherMethod1 1 I have Blue Eyes\n",
      "motherMethod2 2 I have long Nose\n"
     ]
    }
   ],
   "source": [
    "# Miltiple Inheritance\n",
    "\n",
    "class Father:\n",
    "    def fatherMethod1(self):\n",
    "        print(\"fatherMethod1 1 I have Blue Eyes\")\n",
    "\n",
    "class Mother:\n",
    "    def motherMethod2(self):\n",
    "        print(\"motherMethod2 2 I have long Nose\")\n",
    "        \n",
    "class Child(Father, Mother):\n",
    "    def childMethod3(self):\n",
    "        print(\"childMethod3 3 I brown hairs\")\n",
    "\n",
    "\n",
    "\n",
    "childOBJ02 = Child()\n",
    "childOBJ02.childMethod3()\n",
    "childOBJ02.fatherMethod1()\n",
    "childOBJ02.motherMethod2()\n"
   ]
  },
  {
   "cell_type": "code",
   "execution_count": null,
   "id": "2280242b",
   "metadata": {},
   "outputs": [],
   "source": [
    "motherObj = Mother()\n",
    "motherObj.motherMethod2()\n"
   ]
  },
  {
   "cell_type": "code",
   "execution_count": 1,
   "id": "57db8f2c-3033-4605-88ea-88ac896129d2",
   "metadata": {},
   "outputs": [],
   "source": [
    "def motherMethod2():\n",
    "    print(\"motherMethod2 2 I have long Nose\")\n"
   ]
  },
  {
   "cell_type": "markdown",
   "id": "f70a843c-17aa-4336-bbc9-d79a33f65a9b",
   "metadata": {},
   "source": [
    "# Polymorphism\n",
    "\n",
    "Polymorphism means creating multiple forms, either by passing multiple arguments in a method or by using the same method but with different data types, arguments, or operations.\n",
    "\n",
    "<div style=\"color: #3498db; font-size: 18px; font-weight: bold; font-family: 'Candara', sans-serif; margin: 0; padding: 0;\">There are two types of polymorphism:</div>\n",
    "\n",
    "<div style=\"color: #3498db; font-size: 16px; font-weight: bold; font-family: 'Candara', sans-serif; margin: 0; padding: 0;\">1) Method Overloading</div>\n",
    "<p style=\"color: #555555; font-family: 'Candara', sans-serif; margin: 0; padding: 0;\">Method overloading allows a class to have more than one method with the same name, but different parameters (e.g., number or type of arguments).</p>\n",
    "\n",
    "<div style=\"color: #3498db; font-size: 16px; font-weight: bold; font-family: 'Candara', sans-serif; margin: 0; padding: 0;\">2) Method Overriding</div>\n",
    "\n",
    "<p style=\"color: #555555; font-family: 'Candara', sans-serif; margin: 0; padding: 0;\">Method overriding allows a subclass to provide a specific implementation of a method that is already defined in its superclass.</p>\n"
   ]
  },
  {
   "cell_type": "markdown",
   "id": "e78b7570-cc9b-4382-b5f1-f5d285b820c2",
   "metadata": {},
   "source": []
  },
  {
   "cell_type": "code",
   "execution_count": 8,
   "id": "0bb4cccf",
   "metadata": {},
   "outputs": [
    {
     "name": "stdout",
     "output_type": "stream",
     "text": [
      "3\n",
      "5\n",
      "10\n"
     ]
    }
   ],
   "source": [
    "'''1st understand Simple Methods '''\n",
    "\n",
    "class MyClass:\n",
    "    def my_method1(self, a, b):\n",
    "        return a + b\n",
    "    def my_method2(self, a,b,c):\n",
    "        return a + a + c\n",
    "    \n",
    "    def my_method3(self, a,b,c,d):\n",
    "            return a + b + c + d\n",
    "\n",
    "\n",
    "objClass = MyClass()\n",
    "\n",
    "print(objClass.my_method1(1,2))\n",
    "print(objClass.my_method2(1,2,3))\n",
    "print(objClass.my_method3(1,2,3,4))\n"
   ]
  },
  {
   "cell_type": "code",
   "execution_count": 12,
   "id": "8ebf8e3c-4297-46ad-a65b-e357a5fc1d00",
   "metadata": {},
   "outputs": [
    {
     "name": "stdout",
     "output_type": "stream",
     "text": [
      "3\n",
      "6\n",
      "10\n"
     ]
    }
   ],
   "source": [
    "'''1st understand Simple Methods '''\n",
    "\n",
    "class MyClass:\n",
    "    def my_method1(self, a, b):\n",
    "        return a + b\n",
    "    def my_method2(self, a,b,c):\n",
    "        return a + b + c\n",
    "    \n",
    "    def my_method3(self, a,b,c,d):\n",
    "            return a + b + c + d\n",
    "\n",
    "\n",
    "objClass = MyClass()\n",
    "\n",
    "print(objClass.my_method1(1,2))\n",
    "print(objClass.my_method2(1,2,3))\n",
    "print(objClass.my_method3(1,2,3,4))\n"
   ]
  },
  {
   "cell_type": "markdown",
   "id": "5c02d099-c647-41b8-9bdb-ddc40ac35587",
   "metadata": {},
   "source": [
    "<div style=\"color: #f39c12; font-size: 16px; font-weight: bold; font-family: 'Candara', sans-serif; margin: 0; padding: 0;\">1) Method Overloading</div>"
   ]
  },
  {
   "cell_type": "code",
   "execution_count": 13,
   "id": "369f9f31-b5b8-4800-8b5c-77388cdeceeb",
   "metadata": {},
   "outputs": [
    {
     "name": "stdout",
     "output_type": "stream",
     "text": [
      "3\n",
      "6\n",
      "10\n"
     ]
    }
   ],
   "source": [
    "# Method Overloading\n",
    "# mehod One\n",
    "class MyClass:\n",
    "    def my_method(self, a, b=None, c=None, d=None):\n",
    "        if b is not None and c is not None and d is not None:\n",
    "            return a + b + c + d\n",
    "        elif b is not None and c is not None:\n",
    "            return a + b + c\n",
    "        elif b is not None:\n",
    "            return a + b\n",
    "        else:\n",
    "            return a\n",
    "\n",
    "# Create an instance of MyClass\n",
    "obj = MyClass()\n",
    "print(obj.my_method(1,2))\n",
    "print(obj.my_method(1,2,3))\n",
    "print(obj.my_method(1,2,3,4))\n"
   ]
  },
  {
   "cell_type": "code",
   "execution_count": 19,
   "id": "4e415102-8f9b-4531-8a24-18e28ce63bd3",
   "metadata": {},
   "outputs": [
    {
     "name": "stdout",
     "output_type": "stream",
     "text": [
      "it accepts argument from 1 to 4\n"
     ]
    }
   ],
   "source": [
    "# Option two\n",
    "\n",
    "# (*arg) positiona arbiraty argument\n",
    "\n",
    "class MyClass:\n",
    "    def my_method(self, *args):\n",
    "        if len(args) == 4:\n",
    "            print(\"len of Arg\", len(args))\n",
    "            return args[0] + args[1] + args[2] + args[3]\n",
    "        elif len(args) == 3:\n",
    "            print(\"len of Arg\", len(args))\n",
    "            return args[0] + args[1] + args[2]\n",
    "        elif len(args) == 2:\n",
    "            print(\"len of Arg\", len(args))\n",
    "            return args[0] + args[1]\n",
    "        elif len(args) == 1:\n",
    "            print(\"len of Arg\", len(args))\n",
    "            return args[0]\n",
    "        else:\n",
    "            return \"it accepts argument from 1 to 4\"\n",
    "\n",
    "# Create an instance of MyClass\n",
    "obj = MyClass()\n",
    "print(obj.my_method(1,2,2,4,5))            \n"
   ]
  },
  {
   "cell_type": "code",
   "execution_count": null,
   "id": "027ec180",
   "metadata": {},
   "outputs": [],
   "source": [
    "\n",
    "obj.my_method(1, 2)    # a and b provided: 1 2\n",
    "obj.my_method(1, 2, 3) # All arguments provided: 1 2 3\n"
   ]
  },
  {
   "cell_type": "markdown",
   "id": "89562108-92ac-4b2c-8dd6-f9cf774d851b",
   "metadata": {},
   "source": [
    "<div style=\"color: #f39c12; font-size: 16px; font-weight: bold; font-family: 'Candara', sans-serif; margin: 0; padding: 0;\">1) Method Overridding</div>"
   ]
  },
  {
   "cell_type": "code",
   "execution_count": 22,
   "id": "2b60163f-63e0-4233-a5c1-0cae8c26dd9f",
   "metadata": {},
   "outputs": [
    {
     "name": "stdout",
     "output_type": "stream",
     "text": [
      "The Tiger Roars\n"
     ]
    }
   ],
   "source": [
    "class Animal:\n",
    "    def make_Sound(self):\n",
    "        print(\"The animal makes a sound\")\n",
    "\n",
    "class Dog(Animal):\n",
    "    def make_Sound(self):\n",
    "        print(\"The dog barks\")\n",
    "\n",
    "class Tiger(Animal):\n",
    "    def make_Sound(self):\n",
    "        print(\"The Tiger Roars\")\n",
    "\n",
    "# Create an instance of Dog and call the speak method\n",
    "\n",
    "tgObj = Tiger()\n",
    "tgObj.make_Sound()\n"
   ]
  },
  {
   "cell_type": "code",
   "execution_count": 23,
   "id": "17af3ca2",
   "metadata": {},
   "outputs": [
    {
     "name": "stdout",
     "output_type": "stream",
     "text": [
      "6\n"
     ]
    }
   ],
   "source": [
    "class calculation1:\n",
    "    def calc(self,a,b):\n",
    "        print(a+b)\n",
    "\n",
    "class calculation2(calculation1):\n",
    "    def calc(self,a,b):\n",
    "        print(a*b)\n",
    "\n",
    "callc02 = calculation2()\n",
    "callc02.calc(2,3)\n"
   ]
  },
  {
   "cell_type": "code",
   "execution_count": null,
   "id": "2ed8c252",
   "metadata": {},
   "outputs": [],
   "source": [
    "callc01 = calculation1()\n",
    "callc01.calc(2,3)\n"
   ]
  },
  {
   "cell_type": "code",
   "execution_count": null,
   "id": "f3b1e6fd-c81f-4448-849e-9120a153bccd",
   "metadata": {},
   "outputs": [],
   "source": []
  },
  {
   "cell_type": "code",
   "execution_count": 24,
   "id": "780aaaf9",
   "metadata": {},
   "outputs": [
    {
     "name": "stdout",
     "output_type": "stream",
     "text": [
      "The animal makes a sound\n",
      "The dog barks\n"
     ]
    }
   ],
   "source": [
    "'''Method Overloading using super keyword'''\n",
    "\n",
    "class Animal:\n",
    "    def speak(self):\n",
    "        print(\"The animal makes a sound\")\n",
    "\n",
    "class Dog(Animal):\n",
    "    def speak(self):\n",
    "        super().speak()  # Call the speak method from the superclass\n",
    "        print(\"The dog barks\")\n",
    "\n",
    "# Create an instance of Dog and call the speak method\n",
    "\n",
    "ObjDog = Dog()\n",
    "ObjDog.speak()\n"
   ]
  },
  {
   "cell_type": "code",
   "execution_count": null,
   "id": "d198c7fd-8b1c-4960-8ea7-d08cd0bdf455",
   "metadata": {},
   "outputs": [],
   "source": []
  },
  {
   "cell_type": "code",
   "execution_count": null,
   "id": "66cbce87-72d9-44f8-b7fb-de59041c1f67",
   "metadata": {},
   "outputs": [],
   "source": []
  },
  {
   "cell_type": "code",
   "execution_count": null,
   "id": "36023353-8add-496e-8bab-281b045c2114",
   "metadata": {},
   "outputs": [],
   "source": []
  },
  {
   "cell_type": "code",
   "execution_count": null,
   "id": "8dc439a5-e8bc-47d8-ad96-7ec0c3da227f",
   "metadata": {},
   "outputs": [],
   "source": []
  },
  {
   "cell_type": "code",
   "execution_count": null,
   "id": "bd072878-bc91-4950-9f31-8c61883492e0",
   "metadata": {},
   "outputs": [],
   "source": []
  },
  {
   "cell_type": "code",
   "execution_count": null,
   "id": "b55d3061-f5f4-4171-9fa4-16de90cd7221",
   "metadata": {},
   "outputs": [],
   "source": []
  },
  {
   "cell_type": "code",
   "execution_count": null,
   "id": "b0eb8214-5638-4618-a95e-f4011a15e21a",
   "metadata": {},
   "outputs": [],
   "source": []
  },
  {
   "cell_type": "code",
   "execution_count": null,
   "id": "ad250d29-0bab-4c07-85a6-2930d5a74cdd",
   "metadata": {},
   "outputs": [],
   "source": []
  },
  {
   "cell_type": "code",
   "execution_count": null,
   "id": "e5803913-e0b0-4eed-810e-fe55d5464e95",
   "metadata": {},
   "outputs": [],
   "source": []
  },
  {
   "cell_type": "code",
   "execution_count": null,
   "id": "3e59efdf-311b-4982-ba18-3361f8efa376",
   "metadata": {},
   "outputs": [],
   "source": []
  },
  {
   "cell_type": "code",
   "execution_count": null,
   "id": "a30f8ee6-87ad-41d1-a82c-8d856e2f464a",
   "metadata": {},
   "outputs": [],
   "source": []
  },
  {
   "cell_type": "code",
   "execution_count": null,
   "id": "8355c866-7863-45c0-a637-8b658784f383",
   "metadata": {},
   "outputs": [],
   "source": []
  },
  {
   "cell_type": "code",
   "execution_count": null,
   "id": "561adddf-80b7-4e26-80af-2a086aab5afc",
   "metadata": {},
   "outputs": [],
   "source": []
  },
  {
   "cell_type": "code",
   "execution_count": null,
   "id": "c9248311-9822-40bc-8680-9945af737a0b",
   "metadata": {},
   "outputs": [],
   "source": []
  },
  {
   "cell_type": "code",
   "execution_count": null,
   "id": "c1350c18",
   "metadata": {},
   "outputs": [],
   "source": [
    "'''__str__ Method'''\n",
    "\n",
    "class MyClass:\n",
    "    def __init__(self, value):\n",
    "        self.value = value\n",
    "\n",
    "\n",
    "obj = MyClass(42)\n",
    "\n",
    "\n",
    "print(obj)  \n"
   ]
  },
  {
   "cell_type": "code",
   "execution_count": null,
   "id": "71559240",
   "metadata": {},
   "outputs": [],
   "source": [
    "'''__str__ Method'''\n",
    "\n",
    "class MyClass:\n",
    "    def __init__(self, value):\n",
    "        self.value = value\n",
    "\n",
    "    def __str__(self):\n",
    "        return f\"{self.value}\"\n",
    "\n",
    "\n",
    "obj = MyClass(42)\n",
    "\n",
    "print(str(obj))\n"
   ]
  },
  {
   "cell_type": "code",
   "execution_count": null,
   "id": "3354552b-e82f-4056-b6e4-ce3ee836dd68",
   "metadata": {},
   "outputs": [],
   "source": []
  }
 ],
 "metadata": {
  "kernelspec": {
   "display_name": "Python 3 (ipykernel)",
   "language": "python",
   "name": "python3"
  },
  "language_info": {
   "codemirror_mode": {
    "name": "ipython",
    "version": 3
   },
   "file_extension": ".py",
   "mimetype": "text/x-python",
   "name": "python",
   "nbconvert_exporter": "python",
   "pygments_lexer": "ipython3",
   "version": "3.11.7"
  }
 },
 "nbformat": 4,
 "nbformat_minor": 5
}
