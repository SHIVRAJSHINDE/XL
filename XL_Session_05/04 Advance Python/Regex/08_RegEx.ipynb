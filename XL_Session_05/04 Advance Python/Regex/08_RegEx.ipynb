{
 "cells": [
  {
   "cell_type": "code",
   "execution_count": 2,
   "id": "92b116ce",
   "metadata": {},
   "outputs": [],
   "source": [
    "import re\n",
    "\n",
    "#  full form of regex:regular expression\n",
    "#  work with string , \n",
    "#  RE has more features, Fast\n",
    "#  Scalability \n"
   ]
  },
  {
   "cell_type": "markdown",
   "id": "9eebf29d-495d-4f0f-ba2d-f9ca194088ec",
   "metadata": {},
   "source": [
    "# Search"
   ]
  },
  {
   "cell_type": "code",
   "execution_count": null,
   "id": "45d2d836-6536-4635-8eb9-7a368876c5b2",
   "metadata": {},
   "outputs": [],
   "source": []
  },
  {
   "cell_type": "code",
   "execution_count": null,
   "id": "ea894f31-8246-45be-8b3c-ccda66aaec9f",
   "metadata": {},
   "outputs": [],
   "source": [
    "abc = \"this is python python course\"\n",
    "\n",
    "pattern = \"python\"\n",
    "\n",
    "value = re.search(pattern, abc)\n",
    "\n",
    "print(value)\n",
    "print(value.group())\n",
    "bool(value.group())\n"
   ]
  },
  {
   "cell_type": "code",
   "execution_count": null,
   "id": "36126127-b7e2-46fd-acdf-8eb9fb4bdd42",
   "metadata": {},
   "outputs": [],
   "source": [
    "\n"
   ]
  },
  {
   "cell_type": "markdown",
   "id": "6576c779-7b8f-4f73-913f-135fd9f15ada",
   "metadata": {},
   "source": [
    "# findall"
   ]
  },
  {
   "cell_type": "code",
   "execution_count": 4,
   "id": "5a2b952c-6711-449c-b11d-b514780d3651",
   "metadata": {},
   "outputs": [
    {
     "data": {
      "text/plain": [
       "['python', 'python']"
      ]
     },
     "execution_count": 4,
     "metadata": {},
     "output_type": "execute_result"
    }
   ],
   "source": [
    "\n",
    "abc = \"this is python python course\"\n",
    "pattern = \"python\"\n",
    "\n",
    "value = re.findall(pattern, abc)\n",
    "value # iterable\n"
   ]
  },
  {
   "cell_type": "markdown",
   "id": "d6c96c25-8060-4b36-897d-5bd4cb805412",
   "metadata": {},
   "source": [
    "# finditer"
   ]
  },
  {
   "cell_type": "code",
   "execution_count": 6,
   "id": "a49f5875-9d11-447b-9e7c-60eb02dbfb5a",
   "metadata": {},
   "outputs": [
    {
     "data": {
      "text/plain": [
       "<callable_iterator at 0x21418b0d270>"
      ]
     },
     "execution_count": 6,
     "metadata": {},
     "output_type": "execute_result"
    }
   ],
   "source": [
    "\n",
    "abc = \"this is python python course\"\n",
    "pattern = \"python\"\n",
    "\n",
    "value = re.finditer(pattern, abc)\n",
    "value\n",
    "# iterator\n"
   ]
  },
  {
   "cell_type": "code",
   "execution_count": 7,
   "id": "c03ca1cd-4c00-4ab8-b812-9e1c8465eca4",
   "metadata": {},
   "outputs": [
    {
     "name": "stdout",
     "output_type": "stream",
     "text": [
      "<re.Match object; span=(8, 14), match='python'>\n",
      "<re.Match object; span=(15, 21), match='python'>\n"
     ]
    }
   ],
   "source": [
    "pattern = \"python\"\n",
    "abc = \"this is python python course\"\n",
    "\n",
    "value = re.finditer(pattern, abc)\n",
    "for i in value:\n",
    "    print(i)\n"
   ]
  },
  {
   "cell_type": "code",
   "execution_count": 12,
   "id": "d760384f-742d-45fe-8287-713329432c60",
   "metadata": {},
   "outputs": [
    {
     "name": "stdout",
     "output_type": "stream",
     "text": [
      "python\n",
      "python\n"
     ]
    }
   ],
   "source": [
    "pattern = \"python\"\n",
    "abc = \"this is python python course\"\n",
    "\n",
    "value = re.finditer(pattern, abc)\n",
    "\n",
    "for i in value:\n",
    "    print(i.group())\n",
    "    "
   ]
  },
  {
   "cell_type": "code",
   "execution_count": null,
   "id": "358b960a-98ba-41ca-bd8c-7f3ed9126fb3",
   "metadata": {},
   "outputs": [],
   "source": []
  },
  {
   "cell_type": "code",
   "execution_count": 14,
   "id": "04a329d6-af90-424a-8ba2-bb2daaa7f331",
   "metadata": {},
   "outputs": [
    {
     "name": "stdout",
     "output_type": "stream",
     "text": [
      "8 14\n",
      "15 21\n"
     ]
    }
   ],
   "source": [
    "pattern = \"python\"\n",
    "abc = \"this is python python course\"\n",
    "\n",
    "value = re.finditer(pattern, abc)\n",
    "for i in value:\n",
    "    print(i.start(),i.end())\n",
    "    \n",
    "\n"
   ]
  },
  {
   "cell_type": "markdown",
   "id": "d1585842-878a-4200-924c-daddd6e90230",
   "metadata": {},
   "source": [
    "# split"
   ]
  },
  {
   "cell_type": "code",
   "execution_count": 15,
   "id": "4d8fbfd5-6d91-4cae-838b-65ca2439490b",
   "metadata": {},
   "outputs": [
    {
     "data": {
      "text/plain": [
       "['this', 'is', 'python', 'python', 'course']"
      ]
     },
     "execution_count": 15,
     "metadata": {},
     "output_type": "execute_result"
    }
   ],
   "source": [
    "\n",
    "abc = \"this is python python course\"\n",
    "pattern = \" \"\n",
    "re.split(pattern,abc)\n"
   ]
  },
  {
   "cell_type": "code",
   "execution_count": 21,
   "id": "178087ed-4cd2-4b4d-98c0-3817f9293cb1",
   "metadata": {},
   "outputs": [
    {
     "data": {
      "text/plain": [
       "['this', 'is', 'python', 'python', 'course']"
      ]
     },
     "execution_count": 21,
     "metadata": {},
     "output_type": "execute_result"
    }
   ],
   "source": [
    "abcOne = \"this-is-python-python-course\"\n",
    "abcTwo = \"this,is,python,python,course\"\n",
    "abcThree =  \"this#is#python#python#course\"\n",
    "pattern = \",\"\n",
    "re.split(pattern,abcTwo)\n"
   ]
  },
  {
   "cell_type": "code",
   "execution_count": null,
   "id": "106e3a28-f67b-4c01-9c4a-fc260c566e4b",
   "metadata": {},
   "outputs": [],
   "source": [
    "\n",
    "abc = \"this,is,python,python,course\"\n",
    "\n",
    "pattern = \",\"\n",
    "\n",
    "re.split(pattern,abc)\n"
   ]
  },
  {
   "cell_type": "markdown",
   "id": "3887dc00-86cc-43c5-b710-08d32ddf6b58",
   "metadata": {},
   "source": [
    "# replace (sub)"
   ]
  },
  {
   "cell_type": "code",
   "execution_count": 22,
   "id": "6d996af7-3eb4-48c3-b6d7-3bbb3bb7d825",
   "metadata": {},
   "outputs": [
    {
     "data": {
      "text/plain": [
       "'The dog and the bat sat on the dog mat.'"
      ]
     },
     "execution_count": 22,
     "metadata": {},
     "output_type": "execute_result"
    }
   ],
   "source": [
    "# sub: Replaces one or many matches with a string\n",
    "text = \"The cat and the bat sat on the cat mat.\"\n",
    "re.sub(r'cat', 'dog', text)\n"
   ]
  },
  {
   "cell_type": "markdown",
   "id": "3bd35ae7-8378-45a8-8158-989b62881a2c",
   "metadata": {},
   "source": []
  },
  {
   "cell_type": "markdown",
   "id": "612484c7-2878-4016-909a-14884d3baeb9",
   "metadata": {},
   "source": [
    "# Sets"
   ]
  },
  {
   "cell_type": "markdown",
   "id": "a0c5d0c2-d921-4d5e-bd84-ead20178c1d2",
   "metadata": {},
   "source": [
    "<table style=\"width:100%; border-collapse: collapse;\">\r\n",
    "    <thead>\r\n",
    "        <tr style=\"background-color: #4CAF50; color: white;\">\r\n",
    "            <th>Description</th>\r\n",
    "            <th>Set</th>\r\n",
    "        </tr>\r\n",
    "    </thead>\r\n",
    "    <tbody>\r\n",
    "        <tr style=\"background-color: #f2f2f2;\">\r\n",
    "            <td style=\"font-size: 16px; color: #333;\">lower case character, alphabetically between a and n</td>\r\n",
    "            <td style=\"text-align: center; font-size: 16px; color: #FF5733;\">[a-n]</td>\r\n",
    "        </tr>\r\n",
    "        <tr style=\"background-color: #e6e6e6;\">\r\n",
    "            <td style=\"font-size: 16px; color: #333;\">UPPER case character, alphabetically between A and N</td>\r\n",
    "            <td style=\"text-align: center; font-size: 16px; color: #FF5733;\">[A-N]</td>\r\n",
    "        </tr>\r\n",
    "        <tr style=\"background-color: #f2f2f2;\">\r\n",
    "            <td style=\"font-size: 16px; color: #333;\">digit between 0 and 9</td>\r\n",
    "            <td style=\"text-align: center; font-size: 16px; color: #FF5733;\">[0-9]</td>\r\n",
    "        </tr>\r\n",
    "        <tr style=\"background-color: #e6e6e6;\">\r\n",
    "            <td style=\"font-size: 16px; color: #333;\">character alphabetically between a and z, lower case OR upper case</td>\r\n",
    "            <td style=\"text-align: center; font-size: 16px; color: #FF5733;\">[a-zA-Z]</td>\r\n",
    "        </tr>\r\n",
    "        <tr style=\"background-color: #f2f2f2;\">\r\n",
    "            <td style=\"font-size: 16px; color: #333;\">character alphabetically between a and z, lower case OR upper case with all numeric Numbers</td>\r\n",
    "            <td style=\"text-align: center; font-size: 16px; color: #FF5733;\">[a-zA-Z0-9]</td>\r\n",
    "        </tr>\r\n",
    "        <tr style=\"background-color: #e6e6e6;\">\r\n",
    "            <td style=\"font-size: 16px; color: #333;\">Returns a match where one of the specified characters (a, r, or n) is present</td>\r\n",
    "            <td style=\"text-align: center; font-size: 16px; color: #FF5733;\">[arn]</td>\r\n",
    "        </tr>\r\n",
    "        <tr style=\"background-color: #f2f2f2;\">\r\n",
    "            <td style=\"font-size: 16px; color: #333;\">Returns a match where any of the specified digits (0, 1, 2, or 3) are present</td>\r\n",
    "            <td style=\"text-align: center; font-size: 16px; color: #FF5733;\">[0123]</td>\r\n",
    "        </tr>\r\n",
    "    </tbody>\r\n",
    "</table>\r\n",
    "       </tr>\r\n",
    "    </tbody>\r\n",
    "</table>\r\n"
   ]
  },
  {
   "cell_type": "code",
   "execution_count": 35,
   "id": "b837d5cd-52c0-4f80-943a-0b1690b1fdc0",
   "metadata": {},
   "outputs": [
    {
     "data": {
      "text/plain": [
       "['abcdef ABCDEF ', ' abcdef ABCDEF']"
      ]
     },
     "execution_count": 35,
     "metadata": {},
     "output_type": "execute_result"
    }
   ],
   "source": [
    "import re\n",
    "aphaNumeric = \"abcdef ABCDEF 123456789 abcdef ABCDEF\"\n",
    "\n",
    "pattern = \"[^0-9]+\"\n",
    "re.findall(pattern,aphaNumeric)\n"
   ]
  },
  {
   "cell_type": "code",
   "execution_count": null,
   "id": "2c8ed032-7fb6-44aa-bb19-ab290a7c70f9",
   "metadata": {},
   "outputs": [],
   "source": [
    "pattern = \"[^a-e]+\"\n",
    "\n",
    "re.findall(pattern,aphaNumeric)\n"
   ]
  },
  {
   "cell_type": "code",
   "execution_count": null,
   "id": "1ab435b0-978b-4e24-9e0e-753d2a948cc3",
   "metadata": {},
   "outputs": [],
   "source": [
    "pattern = \"[A-N]+\"\n",
    "re.findall(pattern,aphaNumeric)\n"
   ]
  },
  {
   "cell_type": "code",
   "execution_count": null,
   "id": "283f2bb6-7def-4ce3-9701-38c77f6bbfad",
   "metadata": {},
   "outputs": [],
   "source": [
    "pattern = \"[ace]\"\n",
    "\n",
    "re.findall(pattern,aphaNumeric)\n"
   ]
  },
  {
   "cell_type": "code",
   "execution_count": null,
   "id": "7ad7715b-0fe5-4fdc-a0ec-db03399719ee",
   "metadata": {},
   "outputs": [],
   "source": [
    "pattern = \"[^a-e]+\"\n",
    "re.findall(pattern,aphaNumeric)\n"
   ]
  },
  {
   "cell_type": "code",
   "execution_count": null,
   "id": "e0d78a02-4057-4a68-b740-e9dd2e7709cb",
   "metadata": {},
   "outputs": [],
   "source": [
    "pattern = \"[a-cA-C]+\"\n",
    "re.findall(pattern,aphaNumeric)\n"
   ]
  },
  {
   "cell_type": "code",
   "execution_count": null,
   "id": "98c7ed64-4629-4850-8efd-b1a9cfca109c",
   "metadata": {},
   "outputs": [],
   "source": [
    "aphaNumeric = \"abcdef ABCDEF 123456789 abcdef ABCDEF\"\n"
   ]
  },
  {
   "cell_type": "code",
   "execution_count": null,
   "id": "af3dbd71-f835-44aa-8bd5-a1442bc63fab",
   "metadata": {},
   "outputs": [],
   "source": [
    "pattern = \"[^a-cA-C]+\"\n",
    "re.findall(pattern,aphaNumeric)\n"
   ]
  },
  {
   "cell_type": "code",
   "execution_count": null,
   "id": "4fa14483-e0a3-48f3-9b6c-5eef7c9525fa",
   "metadata": {},
   "outputs": [],
   "source": [
    "pattern = \"[1-5]+\"\n",
    "re.findall(pattern,aphaNumeric)\n"
   ]
  },
  {
   "cell_type": "code",
   "execution_count": null,
   "id": "bac1017b-ced8-4118-afcd-ab757ae8fb1d",
   "metadata": {},
   "outputs": [],
   "source": [
    "pattern = \"[^1-5]+\"\n",
    "re.findall(pattern,aphaNumeric)\n"
   ]
  },
  {
   "cell_type": "code",
   "execution_count": null,
   "id": "9c0a6526-5c55-4fa9-87f0-13aa98b9ce32",
   "metadata": {},
   "outputs": [],
   "source": [
    "pattern = \"[1-4]+\"\n",
    "re.findall(pattern,aphaNumeric)\n"
   ]
  },
  {
   "cell_type": "code",
   "execution_count": null,
   "id": "eb96952f-5f00-456f-9280-61168332f19a",
   "metadata": {},
   "outputs": [],
   "source": [
    "pattern = \"[135]\"\n",
    "re.findall(pattern,aphaNumeric)\n"
   ]
  },
  {
   "cell_type": "code",
   "execution_count": null,
   "id": "ad078423-6443-4835-b267-1c089afb5ad7",
   "metadata": {},
   "outputs": [],
   "source": [
    "pattern = \"[a-zA-Z]+\"\n",
    "re.findall(pattern,aphaNumeric)\n"
   ]
  },
  {
   "cell_type": "markdown",
   "id": "cb519adb-a5ce-4217-8cec-98120b389927",
   "metadata": {},
   "source": [
    "<table style=\"width:100%; border-collapse: collapse;\">\r\n",
    "    <thead>\r\n",
    "        <tr style=\"background-color: #4CAF50; color: white;\">\r\n",
    "            <th>Description</th>\r\n",
    "            <th>Set</th>\r\n",
    "        </tr>\r\n",
    "    </thead>\r\n",
    "    <tbody>\r\n",
    "        <tr style=\"background-color: #f2f2f2;\">\r\n",
    "            <td style=\"font-size: 16px; color: #333; text-align: left;\">Except lower case from a to n characters.</td>\r\n",
    "            <td style=\"text-align: center; font-size: 16px; color: #FF5733; font-weight: bold;\">[^a-n]</td>\r\n",
    "        </tr>\r\n",
    "        <tr style=\"background-color: #e6e6e6;\">\r\n",
    "            <td style=\"font-size: 16px; color: #333; text-align: left;\">Except Upper case from A to N characters.</td>\r\n",
    "            <td style=\"text-align: center; font-size: 16px; color: #FF5733; font-weight: bold;\">[^A-N]</td>\r\n",
    "        </tr>\r\n",
    "        <tr style=\"background-color: #f2f2f2;\">\r\n",
    "            <td style=\"font-size: 16px; color: #333; text-align: left;\">Except digit between 0 and 9</td>\r\n",
    "            <td style=\"text-align: center; font-size: 16px; color: #FF5733; font-weight: bold;\">[^0-9]</td>\r\n",
    "        </tr>\r\n",
    "        <tr style=\"background-color: #e6e6e6;\">\r\n",
    "            <td style=\"font-size: 16px; color: #333; text-align: left;\">Except character from a to z, lower case OR upper case</td>\r\n",
    "            <td style=\"text-align: center; font-size: 16px; color: #FF5733; font-weight: bold;\">[^a-zA-Z]</td>\r\n",
    "        </tr>\r\n",
    "        <tr style=\"background-color: #f2f2f2;\">\r\n",
    "            <td style=\"font-size: 16px; color: #333; text-align: left;\">Non word (numeric and alpha char)</td>\r\n",
    "            <td style=\"text-align: center; font-size: 16px; color: #FF5733; font-weight: bold;\">[^a-zA-Z0-9]</td>\r\n",
    "        </tr>\r\n",
    "        <tr style=\"background-color: #e6e6e6;\">\r\n",
    "            <td style=\"font-size: 16px; color: #333; text-align: left;\">character EXCEPT a, r, and n</td>\r\n",
    "            <td style=\"text-align: center; font-size: 16px; color: #FF5733; font-weight: bold;\">[^arn]</td>\r\n",
    "        </tr>\r\n",
    "        <tr style=\"background-color: #f2f2f2;\">\r\n",
    "            <td style=\"font-size: 16px; color: #333; text-align: left;\">Except digits (0, 1, 2, or 3)</td>\r\n",
    "            <td style=\"text-align: center; font-size: 16px; color: #FF5733; font-weight: bold;\">[^0123]</td>\r\n",
    "        </tr>\r\n",
    "    </tbody>\r\n",
    "</table>\r\n",
    "       </tr>\r\n",
    "    </tbody>\r\n",
    "</table>\r\n"
   ]
  },
  {
   "cell_type": "code",
   "execution_count": 38,
   "id": "1e5be505-8c82-4010-823b-f3539f3cabb5",
   "metadata": {},
   "outputs": [
    {
     "data": {
      "text/plain": [
       "[' ', ' ', ' !@#$%^&*()-_=+[{]}\\\\|;:\\'\",<.>/?`~']"
      ]
     },
     "execution_count": 38,
     "metadata": {},
     "output_type": "execute_result"
    }
   ],
   "source": [
    "all_characters = \"abcdefgh ABCDEFGH 0123456789 !@#$%^&*()-_=+[{]}\\|;:'\\\",<.>/?`~\"\n",
    "\n",
    "pattern = \"[^a-zA-Z0-9]+\"\n",
    "re.findall(pattern,all_characters)\n"
   ]
  },
  {
   "cell_type": "markdown",
   "id": "5d05c74e-5a29-4da5-b7ec-bf41c88ce290",
   "metadata": {},
   "source": [
    "# Special Sequence"
   ]
  },
  {
   "cell_type": "markdown",
   "id": "49c94081-87d5-46ac-a50b-37981c594f68",
   "metadata": {},
   "source": [
    "<table style=\"width: 70%; border-collapse: collapse; margin: auto; text-align: left;\">\r\n",
    "    <thead>\r\n",
    "        <tr style=\"background-color: #4CAF50; color: white;\">\r\n",
    "            <th style=\"text-align: left;\">Description</th>\r\n",
    "            <th style=\"text-align: left;\">Character</th>\r\n",
    "            <th style=\"text-align: left;\">Example</th>\r\n",
    "        </tr>\r\n",
    "    </thead>\r\n",
    "    <tbody>\r\n",
    "        <tr style=\"background-color: #f2f2f2;\">\r\n",
    "            <td style=\"font-size: 16px; color: #333; text-align: left;\">Word boundary</td>\r\n",
    "            <td style=\"font-size: 16px; text-align: left;\">\r\n",
    "                <span style=\"color: red;\">\\</span>b\r\n",
    "            </td>\r\n",
    "            <td style=\"font-size: 16px; color: #333; text-align: left;\">\r\n",
    "                r\"<span style=\"color: red;\">\\</span>bRain\"<br>\r\n",
    "                r\"Rain<span style=\"color: red;\">\\</span>b\"<br>\r\n",
    "                r\"<span style=\"color: red;\">\\</span>bRain<span style=\"color: red;\">\\</span>b\"\r\n",
    "            </td>\r\n",
    "        </tr>\r\n",
    "        <tr style=\"background-color: #e6e6e6;\">\r\n",
    "            <td style=\"font-size: 16px; color: #333; text-align: left;\">Start with</td>\r\n",
    "            <td style=\"font-size: 16px; text-align: left;\">\r\n",
    "                <span style=\"color: red;\">\\</span>A\r\n",
    "            </td>\r\n",
    "            <td style=\"font-size: 16px; color: #333; text-align: left;\">\"<span style=\"color: red;\">\\</span>AThe\"</td>\r\n",
    "        </tr>\r\n",
    "        <tr style=\"background-color: #f2f2f2;\">\r\n",
    "            <td style=\"font-size: 16px; color: #333; text-align: left;\">End with</td>\r\n",
    "            <td style=\"font-size: 16px; text-align: left;\">\r\n",
    "                <span style=\"color: red;\">\\</span>Z\r\n",
    "            </td>\r\n",
    "            <td style=\"font-size: 16px; color: #333; text-align: left;\">\"Spain<span style=\"color: red;\">\\</span>Z\"</td>\r\n",
    "        </tr>\r\n",
    "        <tr style=\"background-color: #e6e6e6;\">\r\n",
    "            <td style=\"font-size: 16px; color: #333; text-align: left;\">Digits (numbers from 0-9)</td>\r\n",
    "            <td style=\"font-size: 16px; text-align: left;\">\r\n",
    "                <span style=\"color: red;\">\\</span>d\r\n",
    "            </td>\r\n",
    "            <td style=\"font-size: 16px; color: #333; text-align: left;\">\"<span style=\"color: red;\">\\</span>d\"</td>\r\n",
    "        </tr>\r\n",
    "        <tr style=\"background-color: #f2f2f2;\">\r\n",
    "            <td style=\"font-size: 16px; color: #333; text-align: left;\">String or non-digits</td>\r\n",
    "            <td style=\"font-size: 16px; text-align: left;\">\r\n",
    "                <span style=\"color: red;\">\\</span>D\r\n",
    "            </td>\r\n",
    "            <td style=\"font-size: 16px; color: #333; text-align: left;\">\"<span style=\"color: red;\">\\</span>D\"</td>\r\n",
    "        </tr>\r\n",
    "        <tr style=\"background-color: #e6e6e6;\">\r\n",
    "            <td style=\"font-size: 16px; color: #333; text-align: left;\">White space</td>\r\n",
    "            <td style=\"font-size: 16px; text-align: left;\">\r\n",
    "                <span style=\"color: red;\">\\</span>s\r\n",
    "            </td>\r\n",
    "            <td style=\"font-size: 16px; color: #333; text-align: left;\">\"<span style=\"color: red;\">\\</span>s\"</td>\r\n",
    "        </tr>\r\n",
    "        <tr style=\"background-color: #f2f2f2;\">\r\n",
    "            <td style=\"font-size: 16px; color: #333; text-align: left;\">Non-white space</td>\r\n",
    "            <td style=\"font-size: 16px; text-align: left;\">\r\n",
    "                <span style=\"color: red;\">\\</span>S\r\n",
    "            </td>\r\n",
    "            <td style=\"font-size: 16px; color: #333; text-align: left;\">\"<span style=\"color: red;\">\\</span>S\"</td>\r\n",
    "        </tr>\r\n",
    "        <tr style=\"background-color: #e6e6e6;\">\r\n",
    "            <td style=\"font-size: 16px; color: #333; text-align: left;\">String contains any word characters (a-z, A-Z, 0-9, _)</td>\r\n",
    "            <td style=\"font-size: 16px; text-align: left;\">\r\n",
    "                <span style=\"color: red;\">\\</span>w\r\n",
    "            </td>\r\n",
    "            <td style=\"font-size: 16px; color: #333; text-align: left;\">\"<span style=\"color: red;\">\\</span>w\"</td>\r\n",
    "        </tr>\r\n",
    "        <tr style=\"background-color: #f2f2f2;\">\r\n",
    "            <td style=\"font-size: 16px; color: #333; text-align: left;\">String DOES NOT contain any word characters</td>\r\n",
    "            <td style=\"font-size: 16px; text-align: left;\">\r\n",
    "                <span style=\"color: red;\">\\</span>W\r\n",
    "            </td>\r\n",
    "            <td style=\"font-size: 16px; color: #333; text-align: left;\">\"<span style=\"color: red;\">\\</span>W\"</td>\r\n",
    "        </tr>\r\n",
    "    </tbody>\r\n",
    "</table>\r\n",
    "n style=\"color: red;\">\\</span>W\"</td>\r\n",
    "        </tr>\r\n",
    "    </tbody>\r\n",
    "</table>\r\n",
    " style=\"color: red;\">\\</span>W\"`</td>\r\n",
    "        </tr>\r\n",
    "    </tbody>\r\n",
    "</table>\r\n"
   ]
  },
  {
   "cell_type": "code",
   "execution_count": null,
   "id": "6c220aa3-93b4-4ae4-9d8d-be3c99436c58",
   "metadata": {},
   "outputs": [],
   "source": [
    "# Word boundary\n",
    "\n",
    "\n"
   ]
  },
  {
   "cell_type": "code",
   "execution_count": 43,
   "id": "991e9618-5e9e-4262-9a60-44f30b4187e1",
   "metadata": {},
   "outputs": [
    {
     "data": {
      "text/plain": [
       "['Rain']"
      ]
     },
     "execution_count": 43,
     "metadata": {},
     "output_type": "execute_result"
    }
   ],
   "source": [
    "txt01 = \"Rain is coming \"\n",
    "pattern = r\"\\bRain\\b\"\n",
    "\n",
    "re.findall(pattern,txt01)\n",
    "\n"
   ]
  },
  {
   "cell_type": "code",
   "execution_count": null,
   "id": "65c0103f-6f5d-453c-bf1a-6c7fdd6d39c4",
   "metadata": {},
   "outputs": [],
   "source": []
  },
  {
   "cell_type": "code",
   "execution_count": 48,
   "id": "12455791-d107-404f-bbda-094a900c4e27",
   "metadata": {},
   "outputs": [
    {
     "data": {
      "text/plain": [
       "['Rain']"
      ]
     },
     "execution_count": 48,
     "metadata": {},
     "output_type": "execute_result"
    }
   ],
   "source": [
    "# Begining of a word\n",
    "txt01 = \"Rain is coming \"\n",
    "pattern1 = r\"\\bRain\"\n",
    "\n",
    "re.findall(pattern1,txt01)\n"
   ]
  },
  {
   "cell_type": "code",
   "execution_count": 49,
   "id": "2c9da139-856b-4fd6-806d-b1c76fb386e4",
   "metadata": {},
   "outputs": [
    {
     "data": {
      "text/plain": [
       "['Rain']"
      ]
     },
     "execution_count": 49,
     "metadata": {},
     "output_type": "execute_result"
    }
   ],
   "source": [
    "\n",
    "txt01 = \"is coming WashRain\"\n",
    "pattern1 = r\"Rain\\b\"\n",
    "\n",
    "re.findall(pattern1,txt01)\n"
   ]
  },
  {
   "cell_type": "code",
   "execution_count": null,
   "id": "269de9db-bda4-4fb0-9cd9-2057b68da49c",
   "metadata": {},
   "outputs": [],
   "source": []
  },
  {
   "cell_type": "code",
   "execution_count": 51,
   "id": "f61cf5be-8ea5-468c-bde6-204ff044c8ad",
   "metadata": {},
   "outputs": [
    {
     "data": {
      "text/plain": [
       "[]"
      ]
     },
     "execution_count": 51,
     "metadata": {},
     "output_type": "execute_result"
    }
   ],
   "source": [
    "# StartWith\n",
    "txt01 = \"Rain is coming\"\n",
    "pattern1 = r\"\\ARain\"\n",
    "\n",
    "re.findall(pattern1,txt01)\n"
   ]
  },
  {
   "cell_type": "code",
   "execution_count": 52,
   "id": "763930d6-c13d-48a9-acb8-f56292d16472",
   "metadata": {},
   "outputs": [
    {
     "data": {
      "text/plain": [
       "['coming']"
      ]
     },
     "execution_count": 52,
     "metadata": {},
     "output_type": "execute_result"
    }
   ],
   "source": [
    "# EndWith\n",
    "txt01 = \"Rain is coming\"\n",
    "pattern1 = r\"coming\\Z\"\n",
    "\n",
    "re.findall(pattern1,txt01)\n"
   ]
  },
  {
   "cell_type": "code",
   "execution_count": 55,
   "id": "52b55be0-5b0a-4b07-a695-d42f494f5d6f",
   "metadata": {},
   "outputs": [
    {
     "data": {
      "text/plain": [
       "['Rain is coming AT ', ':']"
      ]
     },
     "execution_count": 55,
     "metadata": {},
     "output_type": "execute_result"
    }
   ],
   "source": [
    "# Digits (0-9)\n",
    "pattern = r\"\\d+\"\n",
    "txt01 = \"Rain is coming AT 3:30\"\n",
    "\n",
    "re.findall(pattern,txt01)\n"
   ]
  },
  {
   "cell_type": "code",
   "execution_count": null,
   "id": "3802daee-c135-4c62-aefc-2e4b0497c137",
   "metadata": {},
   "outputs": [],
   "source": []
  },
  {
   "cell_type": "code",
   "execution_count": null,
   "id": "df4ed243-929a-4f68-ac36-e24ff217922f",
   "metadata": {},
   "outputs": [],
   "source": [
    "# String does not contain digits\n",
    "pattern = r\"\\D+\"\n",
    "txt01 = \"Rain is coming AT 3:30\"\n",
    "re.findall(pattern,txt01)\n",
    "\n"
   ]
  },
  {
   "cell_type": "code",
   "execution_count": null,
   "id": "bfff0825-7d49-4aed-9b52-c14f2311b26e",
   "metadata": {},
   "outputs": [],
   "source": []
  },
  {
   "cell_type": "code",
   "execution_count": 56,
   "id": "a117228e-6b02-4c4d-a0d8-3453c7e18691",
   "metadata": {},
   "outputs": [
    {
     "data": {
      "text/plain": [
       "[' ', ' ', ' ', ' ']"
      ]
     },
     "execution_count": 56,
     "metadata": {},
     "output_type": "execute_result"
    }
   ],
   "source": [
    "# White space\n",
    "pattern = r\"\\s\"\n",
    "txt01 = \"Rain is coming AT 3:30\"\n",
    "re.findall(pattern,txt01)\n",
    "\n"
   ]
  },
  {
   "cell_type": "code",
   "execution_count": 57,
   "id": "efb9c131-0b0a-4aa9-aa00-ae57332090be",
   "metadata": {},
   "outputs": [
    {
     "data": {
      "text/plain": [
       "['Rain', 'is', 'coming', 'AT', '3:30']"
      ]
     },
     "execution_count": 57,
     "metadata": {},
     "output_type": "execute_result"
    }
   ],
   "source": [
    "# Non-white space\n",
    "pattern = r\"\\S+\"\n",
    "txt01 = \"Rain is coming AT 3:30\"\n",
    "re.findall(pattern,txt01)\n"
   ]
  },
  {
   "cell_type": "code",
   "execution_count": 58,
   "id": "ada5c4ac-03e7-4b01-a11b-e594e766e1fd",
   "metadata": {},
   "outputs": [
    {
     "data": {
      "text/plain": [
       "['Rain', 'is', 'coming', 'AT', '_', '3', '30']"
      ]
     },
     "execution_count": 58,
     "metadata": {},
     "output_type": "execute_result"
    }
   ],
   "source": [
    "import re\n",
    "# Word characters (a-zA-Z0-9_)\n",
    "pattern = r\"\\w+\"\n",
    "txt01 = \"Rain is coming AT _ 3:30 $%$#()\"\n",
    "re.findall(pattern,txt01)\n",
    "\n"
   ]
  },
  {
   "cell_type": "code",
   "execution_count": 59,
   "id": "f6cd08c5-8350-49c0-a139-41aae8207f4b",
   "metadata": {},
   "outputs": [
    {
     "data": {
      "text/plain": [
       "[' ', ' ', ' ', ' ', ':', ' $%$#()']"
      ]
     },
     "execution_count": 59,
     "metadata": {},
     "output_type": "execute_result"
    }
   ],
   "source": [
    "# String does not contain any word characters\n",
    "pattern = r\"\\W+\"\n",
    "txt01 = \"Rain is coming AT 3:30 $%$#()\"\n",
    "re.findall(pattern,txt01)\n"
   ]
  },
  {
   "cell_type": "code",
   "execution_count": null,
   "id": "2f3db53c",
   "metadata": {},
   "outputs": [],
   "source": []
  },
  {
   "cell_type": "code",
   "execution_count": 60,
   "id": "3fa66311",
   "metadata": {},
   "outputs": [
    {
     "data": {
      "text/plain": [
       "['hello']"
      ]
     },
     "execution_count": 60,
     "metadata": {},
     "output_type": "execute_result"
    }
   ],
   "source": [
    "'''Starts with'''\n",
    "#Check if the string starts with 'hello':\n",
    "# ^\n",
    "\"\\Ahello\"\n",
    "\n",
    "txt = \"hello planet\"\n",
    "re.findall(\"^hello\", txt)\n",
    "\n"
   ]
  },
  {
   "cell_type": "code",
   "execution_count": 61,
   "id": "875730a7",
   "metadata": {},
   "outputs": [
    {
     "data": {
      "text/plain": [
       "['planet']"
      ]
     },
     "execution_count": 61,
     "metadata": {},
     "output_type": "execute_result"
    }
   ],
   "source": [
    "'''End With'''\n",
    "# $\n",
    "\n",
    "txt = \"hello planet\"\n",
    "\n",
    "\n",
    "re.findall(\"planet$\",txt)\n",
    "\n"
   ]
  },
  {
   "cell_type": "code",
   "execution_count": null,
   "id": "75c0eaf1-1786-4b7b-8088-a70ed07a9bd3",
   "metadata": {},
   "outputs": [],
   "source": [
    "test_string1 = \"hello\"\n",
    "test_string2 = \"heo\"\n",
    "test_string3 = \"heello\"\n",
    "test_string4 = \"helo\"\n",
    "test_string5 = \"he23o\"\n",
    "test_string6 = \"heXo\"\n",
    "test_string7 = \"he123o\"\n",
    "test_string8 = \"he.o\"\n",
    "test_string9 = \"he?o\"\n",
    "test_string10 = \"heo\"\n",
    "test_string11 = \"heooo\"\n",
    "test_string12 = \"he1234o\"\n",
    "test_string13 = \"heoo123o\"\n"
   ]
  },
  {
   "cell_type": "markdown",
   "id": "6ec53a1b-3b3d-4d1c-8c07-1e3041f3c457",
   "metadata": {},
   "source": [
    "# Charactor"
   ]
  },
  {
   "cell_type": "markdown",
   "id": "51771fa9-8684-4c42-a427-91e8cf17902c",
   "metadata": {},
   "source": [
    "<table style=\"width:100%; border-collapse: collapse;\">\n",
    "    <thead>\n",
    "        <tr style=\"background-color: #4CAF50; color: white;\">\n",
    "            <th>Description</th>\n",
    "            <th>Character</th>\n",
    "            <th>Example</th>\n",
    "        </tr>\n",
    "    </thead>\n",
    "    <tbody>\n",
    "        <tr style=\"background-color: #f2f2f2;\">\n",
    "            <td>Any character (except newline character)</td>\n",
    "            <td style=\"text-align: center; color: blue; font-size: 18px; font-weight: bold;\">.</td>\n",
    "            <td style=\"text-align: center; color: blue; font-size: 18px; font-weight: bold;\">\"he..o\"</td>\n",
    "        </tr>\n",
    "        <tr style=\"background-color: #e6e6e6;\">\n",
    "            <td>Zero or one occurrences</td>\n",
    "            <td style=\"text-align: center; color: blue; font-size: 18px; font-weight: bold;\">.?</td>\n",
    "            <td style=\"text-align: center; color: blue; font-size: 18px; font-weight: bold;\">\"he.?o\"</td>\n",
    "        </tr>\n",
    "        <tr style=\"background-color: #f2f2f2;\">\n",
    "            <td>Zero or more occurrences</td>\n",
    "            <td style=\"text-align: center; color: blue; font-size: 18px; font-weight: bold;\">.*</td>\n",
    "            <td style=\"text-align: center; color: blue; font-size: 18px; font-weight: bold;\">\"he.*o\"</td>\n",
    "        </tr>\n",
    "        <tr style=\"background-color: #e6e6e6;\">\n",
    "            <td>One or more occurrences</td>\n",
    "            <td style=\"text-align: center; color: blue; font-size: 18px; font-weight: bold;\">.+</td>\n",
    "            <td style=\"text-align: center; color: blue; font-size: 18px; font-weight: bold;\">\"he.+o\"</td>\n",
    "        </tr>\n",
    "        <tr style=\"background-color: #f2f2f2;\">\n",
    "            <td>Exactly the specified number of occurrences</td>\n",
    "            <td style=\"text-align: center; color: blue; font-size: 18px; font-weight: bold;\">.{n}</td>\n",
    "            <td style=\"text-align: center; color: blue; font-size: 18px; font-weight: bold;\">\"he.{2}o\"</td>\n",
    "        </tr>\n",
    "    </tbody>\n",
    "</table>\n"
   ]
  },
  {
   "cell_type": "code",
   "execution_count": 86,
   "id": "cbdc9487-7251-41e8-9b71-cfa1451d168b",
   "metadata": {},
   "outputs": [
    {
     "data": {
      "text/plain": [
       "[]"
      ]
     },
     "execution_count": 86,
     "metadata": {},
     "output_type": "execute_result"
    }
   ],
   "source": [
    "# Any character (except newline character)\n",
    "pattern = r\"he.+o\"\n",
    "test_string1 = \"heo\"\n",
    "\n",
    "re.findall(pattern,test_string1)\n"
   ]
  },
  {
   "cell_type": "code",
   "execution_count": null,
   "id": "0871173c-9422-4fc4-877c-1dae99b3ea8d",
   "metadata": {},
   "outputs": [],
   "source": [
    "# Any character (except newline character)\n",
    "pattern = r\"he....o\"\n",
    "test_string1 = \"heerrdo How r you?\"\n",
    "re.findall(pattern,test_string1)\n"
   ]
  },
  {
   "cell_type": "code",
   "execution_count": null,
   "id": "55bace8b-3446-41bf-9c85-c785f047b544",
   "metadata": {},
   "outputs": [],
   "source": [
    "# Exactly the specified number of occurrences\n",
    "pattern = r\"he.{3}o\"\n",
    "test_string1 = \"herrro How r you?\"\n",
    "re.findall(pattern,test_string1)\n"
   ]
  },
  {
   "cell_type": "code",
   "execution_count": null,
   "id": "95d4f2a0-4a0e-4670-bd41-48470e7ab173",
   "metadata": {},
   "outputs": [],
   "source": [
    "# Zero or one occurrences\n",
    "pattern = r\"he.?o\"\n",
    "test_string1 = \"heddo How r you?\"\n",
    "re.findall(pattern,test_string1)\n"
   ]
  },
  {
   "cell_type": "code",
   "execution_count": null,
   "id": "4dadddf9-00bf-4780-826c-818f86d48a9b",
   "metadata": {},
   "outputs": [],
   "source": [
    "# Zero or more occurrences\n",
    "pattern = r\"he.*o\"\n",
    "test_string1 = \"heffffffo How r you?\"\n",
    "re.findall(pattern,test_string1)\n"
   ]
  },
  {
   "cell_type": "code",
   "execution_count": null,
   "id": "f9f97c6f-684d-4864-9713-4513383a902d",
   "metadata": {},
   "outputs": [],
   "source": [
    "# One or more occurrences\n",
    "pattern = r\"he.+o\"\n",
    "\n",
    "test_string1 = \"heddo How r you?\"\n",
    "re.findall(pattern,test_string1)\n"
   ]
  },
  {
   "cell_type": "code",
   "execution_count": null,
   "id": "6fb3d50d-fe83-4a37-a73c-5e1456a00636",
   "metadata": {},
   "outputs": [],
   "source": [
    "import re\n",
    "\n",
    "pattern1 = r\"he.+o\"\n",
    "pattern2 = r\"he.*o\"\n",
    "\n",
    "test_string1 = \"heddddo How r you?\"\n",
    "\n",
    "result1 = re.findall(pattern1, test_string1)\n",
    "result2 = re.findall(pattern2, test_string1)\n",
    "\n",
    "result1, result2\n"
   ]
  },
  {
   "cell_type": "markdown",
   "id": "0353a4be-55e7-43aa-999e-c548863c40fc",
   "metadata": {},
   "source": [
    "# Extracting Email Addresses"
   ]
  },
  {
   "cell_type": "code",
   "execution_count": 87,
   "id": "3a63a216-ed72-448c-ad41-1caaaed71ce0",
   "metadata": {},
   "outputs": [
    {
     "name": "stdout",
     "output_type": "stream",
     "text": [
      "['user@example.com', 'support@domain.com']\n"
     ]
    }
   ],
   "source": [
    "import re\n",
    "#Extract Email ID\n",
    "text = \"Send an email to user@example.com and another to support@domain.com\"\n",
    "'''user@example.com\n",
    "support@domain.com'''\n",
    "\n",
    "emails = re.findall(r'\\b[A-Za-z0-9._%+-]+@[A-Za-z0-9.-]+\\.[A-Z|a-z]{2,}\\b', text)\n",
    "print(emails)\n",
    "\n"
   ]
  },
  {
   "cell_type": "code",
   "execution_count": 89,
   "id": "b6365f0a-d621-4d45-b021-7e2a29b2b32b",
   "metadata": {},
   "outputs": [
    {
     "data": {
      "text/plain": [
       "['user@', 'support@']"
      ]
     },
     "execution_count": 89,
     "metadata": {},
     "output_type": "execute_result"
    }
   ],
   "source": [
    "wordStarting = \"\\b\"\n",
    "word = \"[A-Za-z0-9._-]+\"\n",
    "wordEndinging = \"\\@\"\n",
    "\n",
    "emails = re.findall(r'\\b[A-Za-z0-9._-]+\\@', text)\n",
    "emails\n"
   ]
  },
  {
   "cell_type": "code",
   "execution_count": 91,
   "id": "076a0164-9883-4acf-8c32-e39716d9f07d",
   "metadata": {},
   "outputs": [
    {
     "data": {
      "text/plain": [
       "['@example.', '@domain.']"
      ]
     },
     "execution_count": 91,
     "metadata": {},
     "output_type": "execute_result"
    }
   ],
   "source": [
    "# user@example.com\n",
    "wordStarting = \"@\"\n",
    "word = \"[A-Za-z0-9.-]+\"\n",
    "wordEndinging = \"\\.\"\n",
    "\n",
    "emails = re.findall(r'@[A-Za-z0-9.-]+\\.', text)\n",
    "emails\n"
   ]
  },
  {
   "cell_type": "code",
   "execution_count": 92,
   "id": "dac6d7bc-81f2-47a4-9cba-66c4f9d72fc7",
   "metadata": {},
   "outputs": [
    {
     "data": {
      "text/plain": [
       "['.com', '.com']"
      ]
     },
     "execution_count": 92,
     "metadata": {},
     "output_type": "execute_result"
    }
   ],
   "source": [
    "# user@example.com\n",
    "wordStarting = \".\"\n",
    "word = \"[A-Z|a-z]{2,}\"\n",
    "wordEndinging = \"\\b\"\n",
    "\n",
    "emails = re.findall(r'\\.[A-Z|a-z]{2,}\\b', text)\n",
    "emails\n"
   ]
  },
  {
   "cell_type": "code",
   "execution_count": 93,
   "id": "fc46893d-c7cb-40ce-a2f6-1285cc2355c8",
   "metadata": {},
   "outputs": [
    {
     "name": "stdout",
     "output_type": "stream",
     "text": [
      "['user@example.com', 'support@domain.com']\n"
     ]
    }
   ],
   "source": [
    "\n",
    "emails = re.findall(r'\\b[A-Za-z0-9._%+-]+@[A-Za-z0-9.-]+\\.[A-Z|a-z]{2,}\\b', text)\n",
    "print(emails)\n"
   ]
  },
  {
   "cell_type": "code",
   "execution_count": null,
   "id": "8de53682-71bf-405f-9860-9cda06ce1a6c",
   "metadata": {},
   "outputs": [],
   "source": []
  },
  {
   "cell_type": "markdown",
   "id": "0aa3a0f5-63b8-42c3-a4f9-b763f62bb410",
   "metadata": {},
   "source": [
    "# Extract Phone Numbers:"
   ]
  },
  {
   "cell_type": "code",
   "execution_count": null,
   "id": "68092727",
   "metadata": {},
   "outputs": [],
   "source": [
    "import re\n",
    "\n",
    "text = \"My mobile numbers are 9910020443 and 8551234569\"\n",
    "re.findall(r'\\b\\d{10}\\b', text)\n"
   ]
  },
  {
   "cell_type": "code",
   "execution_count": null,
   "id": "fede789a-0c1b-40de-9320-7f3d7a4a268e",
   "metadata": {},
   "outputs": [],
   "source": []
  },
  {
   "cell_type": "code",
   "execution_count": null,
   "id": "234051ed-20f2-4672-8fbb-9e74eade1fa4",
   "metadata": {},
   "outputs": [],
   "source": []
  },
  {
   "cell_type": "code",
   "execution_count": null,
   "id": "a02e1acd-27f3-41c7-a2c5-42e2aa3f376e",
   "metadata": {},
   "outputs": [],
   "source": [
    "import re\n",
    "\n",
    "html = \"<a href='https://example.com'>Link</a> and <a href='http://another-example.com'>Another Link</a>\"\n",
    "\n",
    "pattern = re.compile(r'http[s]?://(?:[a-zA-Z]|[0-9]|[$-_@.&+]|[!*\\\\(\\\\),]|(?:%[0-9a-fA-F][0-9a-fA-F]))+')\n",
    "re.findall(pattern,html)\n"
   ]
  },
  {
   "cell_type": "code",
   "execution_count": null,
   "id": "e80363df-68a5-47cd-9889-d3d0a3ae6ffc",
   "metadata": {},
   "outputs": [],
   "source": []
  },
  {
   "cell_type": "code",
   "execution_count": null,
   "id": "889b9688-c5f1-4c82-9875-27046e399e0e",
   "metadata": {},
   "outputs": [],
   "source": [
    "\n",
    "abc = \"10Shivraj10abc\"\n",
    "re.findall('\\D+',abc)\n",
    "\n"
   ]
  },
  {
   "cell_type": "code",
   "execution_count": null,
   "id": "17cdfe31-15bf-41df-b566-d3bce3172842",
   "metadata": {},
   "outputs": [],
   "source": [
    "\n",
    "abc = \"10Shivraj10000abc\"\n",
    "dd = re.split('\\d',abc)\n",
    "for i in dd:\n",
    "    print(len(i))\n",
    "\n"
   ]
  },
  {
   "cell_type": "code",
   "execution_count": null,
   "id": "95292537-e609-4cab-9786-a71dc570ce16",
   "metadata": {},
   "outputs": [],
   "source": [
    "max(dd,key=len)\n"
   ]
  },
  {
   "cell_type": "code",
   "execution_count": null,
   "id": "12fd2040-18e7-4deb-90e8-57c4a0d29ab3",
   "metadata": {},
   "outputs": [],
   "source": []
  },
  {
   "cell_type": "code",
   "execution_count": null,
   "id": "0509b03e-0f7c-41d8-a7c3-9cc5706fda71",
   "metadata": {},
   "outputs": [],
   "source": [
    "fileName = r\"D:\\MLProjects\\ZDatasets\\TempData\\nvidia.txt\"  # Use raw string literal for Windows paths\n",
    "print(fileName)\n",
    "\n",
    "with open(fileName, 'r') as file:\n",
    "    data = file.read()\n",
    "    print(data)\n"
   ]
  },
  {
   "cell_type": "code",
   "execution_count": null,
   "id": "1995f609-9565-4f1b-8abb-70af8f6fe100",
   "metadata": {},
   "outputs": [],
   "source": [
    "\n",
    "\n",
    "import re\n",
    "pattern = \"NVIDIA\"\n",
    "\n",
    "re.findall(pattern,data)\n"
   ]
  },
  {
   "cell_type": "code",
   "execution_count": null,
   "id": "ecbfd25b-a7dc-4928-adfd-a0221ad7aa1a",
   "metadata": {},
   "outputs": [],
   "source": [
    "data\n",
    "\n",
    "lines = data.splitlines()\n",
    "\n",
    "lines\n"
   ]
  },
  {
   "cell_type": "code",
   "execution_count": null,
   "id": "b4b700d7-7eec-4cbc-82a1-e531b2abf482",
   "metadata": {},
   "outputs": [],
   "source": [
    "\n",
    "nvidia_line_numbers = []\n",
    "for i, line in enumerate(lines):\n",
    "    if re.search(r'\\bNVIDIA\\b', line):\n",
    "        nvidia_line_numbers.append(i + 1)  "
   ]
  },
  {
   "cell_type": "code",
   "execution_count": null,
   "id": "a15d49c3-81c0-4d81-86da-5d6ea090f588",
   "metadata": {},
   "outputs": [],
   "source": [
    "# Print the line numbers where \"NVIDIA\" appears\n",
    "if nvidia_line_numbers:\n",
    "    print(f\"The word 'NVIDIA' appears on line(s): {', '.join(map(str, nvidia_line_numbers))}.\")\n",
    "else:\n",
    "    print(\"The word 'NVIDIA' does not appear in the text.\")\n",
    "\n"
   ]
  },
  {
   "cell_type": "markdown",
   "id": "4191dc47-7922-49da-972a-7d8a0c5afde6",
   "metadata": {},
   "source": [
    "<table style=\"width:100%; border-collapse: collapse;\">\n",
    "    <thead>\n",
    "        <tr style=\"background-color: #4CAF50; color: white;\">\n",
    "            <th>Category</th>\n",
    "            <th>Type</th>\n",
    "            <th>Description</th>\n",
    "        </tr>\n",
    "    </thead>\n",
    "    <tbody>\n",
    "        <tr style=\"background-color: #f2f2f2;\">\n",
    "            <td rowspan=\"2\" style=\"font-size: 16px; color: #333; text-align: center;\">Built-in Functions</td>\n",
    "            <td style=\"font-size: 16px; color: #333;\">Function</td>\n",
    "            <td style=\"font-size: 16px; color: #FF5733;\">Functions provided by Python directly (e.g., <code>print()</code>, <code>len()</code>, <code>type()</code>).</td>\n",
    "        </tr>\n",
    "        <tr style=\"background-color: #e6e6e6;\">\n",
    "            <td style=\"font-size: 16px; color: #333;\">-</td>\n",
    "            <td style=\"font-size: 16px; color: #FF5733;\">-</td>\n",
    "        </tr>\n",
    "        <tr style=\"background-color: #f2f2f2;\">\n",
    "            <td rowspan=\"2\" style=\"font-size: 16px; color: #333; text-align: center;\">User-defined Functions</td>\n",
    "            <td style=\"font-size: 16px; color: #333;\">Simple Function</td>\n",
    "            <td style=\"font-size: 16px; color: #FF5733;\">Functions defined using the <code>def</code> keyword.</td>\n",
    "        </tr>\n",
    "        <tr style=\"background-color: #e6e6e6;\">\n",
    "            <td style=\"font-size: 16px; color: #333;\">Lambda Function</td>\n",
    "            <td style=\"font-size: 16px; color: #FF5733;\">Anonymous functions created using the <code>lambda</code> keyword.</td>\n",
    "        </tr>\n",
    "        <tr style=\"background-color: #f2f2f2;\">\n",
    "            <td rowspan=\"7\" style=\"font-size: 16px; color: #333; text-align: center;\">Other Functions</td>\n",
    "            <td style=\"font-size: 16px; color: #333;\">Higher-order Functions</td>\n",
    "            <td style=\"font-size: 16px; color: #FF5733;\">Functions that take other functions as arguments or return functions.</td>\n",
    "        </tr>\n",
    "        <tr style=\"background-color: #e6e6e6;\">\n",
    "            <td style=\"font-size: 16px; color: #333;\">map()</td>\n",
    "            <td style=\"font-size: 16px; color: #FF5733;\">Applies a function to all items in an iterable.</td>\n",
    "        </tr>\n",
    "        <tr style=\"background-color: #f2f2f2;\">\n",
    "            <td style=\"font-size: 16px; color: #333;\">filter()</td>\n",
    "            <td style=\"font-size: 16px; color: #FF5733;\">Filters items in an iterable based on a function.</td>\n",
    "        </tr>\n",
    "        <tr style=\"background-color: #e6e6e6;\">\n",
    "            <td style=\"font-size: 16px; color: #333;\">reduce()</td>\n",
    "            <td style=\"font-size: 16px; color: #FF5733;\">Applies a function cumulatively to the items of a sequence.</td>\n",
    "        </tr>\n",
    "        <tr style=\"background-color: #f2f2f2;\">\n",
    "            <td style=\"font-size: 16px; color: #333;\">Recursive Functions</td>\n",
    "            <td style=\"font-size: 16px; color: #FF5733;\">Functions that call themselves to solve problems.</td>\n",
    "        </tr>\n",
    "        <tr style=\"background-color: #e6e6e6;\">\n",
    "            <td style=\"font-size: 16px; color: #333;\">Generator Functions</td>\n",
    "            <td style=\"font-size: 16px; color: #FF5733;\">Functions that use the <code>yield</code> keyword to produce a sequence of values lazily.</td>\n",
    "        </tr>\n",
    "        <tr style=\"background-color: #f2f2f2;\">\n",
    "            <td style=\"font-size: 16px; color: #333;\">Decorator Functions</td>\n",
    "            <td style=\"font-size: 16px; color: #FF5733;\">Functions that modify the behavior of other functions or methods.</td>\n",
    "        </tr>\n",
    "        <tr style=\"background-color: #e6e6e6;\">\n",
    "            <td rowspan=\"3\" style=\"font-size: 16px; color: #333; text-align: center;\">Class Methods</td>\n",
    "            <td style=\"font-size: 16px; color: #333;\">Instance Method</td>\n",
    "            <td style=\"font-size: 16px; color: #FF5733;\">Methods that operate on an instance of a class.</td>\n",
    "        </tr>\n",
    "        <tr style=\"background-color: #f2f2f2;\">\n",
    "            <td style=\"font-size: 16px; color: #333;\">Class Method</td>\n",
    "            <td style=\"font-size: 16px; color: #FF5733;\">Methods that operate on the class itself, defined with the <code>@classmethod</code> decorator.</td>\n",
    "        </tr>\n",
    "        <tr style=\"background-color: #e6e6e6;\">\n",
    "            <td style=\"font-size: 16px; color: #333;\">__init__ Method</td>\n",
    "            <td style=\"font-size: 16px; color: #FF5733;\">Special method used to initialize instances of a class.</td>\n",
    "        </tr>\n",
    "    </tbody>\n",
    "</table>\n"
   ]
  },
  {
   "cell_type": "markdown",
   "id": "8a08b3d1-acd3-48a9-8698-a03d85d3150b",
   "metadata": {},
   "source": [
    "<table style=\"width:100%; border-collapse: collapse;\">\n",
    "    <thead>\n",
    "        <tr style=\"background-color: #4CAF50; color: white;\">\n",
    "            <th>Level 1</th>\n",
    "            <th>Level 2</th>\n",
    "            <th>Level 3</th>\n",
    "            <th>Description</th>\n",
    "        </tr>\n",
    "    </thead>\n",
    "    <tbody>\n",
    "        <tr style=\"background-color: #f2f2f2;\">\n",
    "            <td rowspan=\"2\" style=\"font-size: 16px; color: #333; text-align: center;\">Built-in Functions</td>\n",
    "            <td style=\"font-size: 16px; color: #333;\">Function</td>\n",
    "            <td>-</td>\n",
    "            <td style=\"font-size: 16px; color: #FF5733;\">Functions provided by Python directly (e.g., <code>print()</code>, <code>len()</code>, <code>type()</code>).</td>\n",
    "        </tr>\n",
    "        <tr style=\"background-color: #e6e6e6;\">\n",
    "            <td>-</td>\n",
    "            <td>-</td>\n",
    "            <td>-</td>\n",
    "        </tr>\n",
    "\n",
    "        <tr style=\"background-color: #f2f2f2;\">\n",
    "            <td rowspan=\"2\" style=\"font-size: 16px; color: #333; text-align: center;\">User-defined Functions</td>\n",
    "            <td style=\"font-size: 16px; color: #333;\">Simple Function</td>\n",
    "            <td>-</td>\n",
    "            <td style=\"font-size: 16px; color: #FF5733;\">Functions defined using the <code>def</code> keyword.</td>\n",
    "        </tr>\n",
    "        <tr style=\"background-color: #e6e6e6;\">\n",
    "            <td style=\"font-size: 16px; color: #333;\">Lambda Function</td>\n",
    "            <td>-</td>\n",
    "            <td style=\"font-size: 16px; color: #FF5733;\">Anonymous functions created using the <code>lambda</code> keyword.</td>\n",
    "        </tr>\n",
    "\n",
    "        <tr style=\"background-color: #f2f2f2;\">\n",
    "            <td rowspan=\"7\" style=\"font-size: 16px; color: #333; text-align: center;\">Other Functions</td>\n",
    "            <td rowspan=\"3\" style=\"font-size: 16px; color: #333;\">Higher-order Functions</td>\n",
    "            <td style=\"font-size: 16px; color: #333;\">map()</td>\n",
    "            <td style=\"font-size: 16px; color: #FF5733;\">Applies a function to all items in an iterable.</td>\n",
    "        </tr>\n",
    "        <tr style=\"background-color: #e6e6e6;\">\n",
    "            <td style=\"font-size: 16px; color: #333;\">filter()</td>\n",
    "            <td style=\"font-size: 16px; color: #FF5733;\">Filters items in an iterable based on a function.</td>\n",
    "        </tr>\n",
    "        <tr style=\"background-color: #f2f2f2;\">\n",
    "            <td style=\"font-size: 16px; color: #333;\">reduce()</td>\n",
    "            <td style=\"font-size: 16px; color: #FF5733;\">Applies a function cumulatively to the items of a sequence.</td>\n",
    "        </tr>\n",
    "        <tr style=\"background-color: #e6e6e6;\">\n",
    "            <td style=\"font-size: 16px; color: #333;\">Recursive Functions</td>\n",
    "            <td>-</td>\n",
    "            <td style=\"font-size: 16px; color: #FF5733;\">Functions that call themselves to solve problems.</td>\n",
    "        </tr>\n",
    "        <tr style=\"background-color: #f2f2f2;\">\n",
    "            <td style=\"font-size: 16px; color: #333;\">Generator Functions</td>\n",
    "            <td>-</td>\n",
    "            <td style=\"font-size: 16px; color: #FF5733;\">Functions that use the <code>yield</code> keyword to produce a sequence of values lazily.</td>\n",
    "        </tr>\n",
    "        <tr style=\"background-color: #e6e6e6;\">\n",
    "            <td style=\"font-size: 16px; color: #333;\">Decorator Functions</td>\n",
    "            <td>-</\n"
   ]
  },
  {
   "cell_type": "markdown",
   "id": "7e396e92-60ae-4fa3-b9e4-dacd34557e54",
   "metadata": {},
   "source": [
    "     </tr>\r\n",
    "    </tbody>\r\n",
    "</table>\r\n",
    "     </tr>\r\n",
    "    </tbody>\r\n",
    "</table>\r\n"
   ]
  }
 ],
 "metadata": {
  "kernelspec": {
   "display_name": "Python 3 (ipykernel)",
   "language": "python",
   "name": "python3"
  },
  "language_info": {
   "codemirror_mode": {
    "name": "ipython",
    "version": 3
   },
   "file_extension": ".py",
   "mimetype": "text/x-python",
   "name": "python",
   "nbconvert_exporter": "python",
   "pygments_lexer": "ipython3",
   "version": "3.11.7"
  }
 },
 "nbformat": 4,
 "nbformat_minor": 5
}
