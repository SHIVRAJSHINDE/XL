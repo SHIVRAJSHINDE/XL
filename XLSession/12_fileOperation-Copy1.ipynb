{
 "cells": [
  {
   "cell_type": "markdown",
   "id": "b9560a87-d515-4bd5-bde3-9b87637ea06a",
   "metadata": {},
   "source": [
    "# Creating or Opening a File"
   ]
  },
  {
   "cell_type": "code",
   "execution_count": 3,
   "id": "1ec84e9e-7e52-47c3-9038-eaf3e8696eff",
   "metadata": {},
   "outputs": [],
   "source": [
    "# Open a file in write mode ('w')\n",
    "file = open(r'D:\\MLProjects\\ZDatasets\\TempData\\file.txt', 'w')\n"
   ]
  },
  {
   "cell_type": "code",
   "execution_count": 4,
   "id": "fb0887d3",
   "metadata": {},
   "outputs": [
    {
     "data": {
      "text/plain": [
       "<_io.TextIOWrapper name='D:\\\\MLProjects\\\\ZDatasets\\\\TempData\\\\file.txt' mode='w' encoding='cp1252'>"
      ]
     },
     "execution_count": 4,
     "metadata": {},
     "output_type": "execute_result"
    }
   ],
   "source": [
    "file"
   ]
  },
  {
   "cell_type": "markdown",
   "id": "057b9a24-0451-4fdb-967d-ec9b57a75140",
   "metadata": {},
   "source": [
    "# Writing in to File"
   ]
  },
  {
   "cell_type": "code",
   "execution_count": 2,
   "id": "ad274ea9",
   "metadata": {},
   "outputs": [],
   "source": [
    "# Write some text to the file\n",
    "file.write(\"this thexlacademy\\n \")\n",
    "file.write(\"Hello, this is some text written to a text file using Python!\\n\")\n",
    "file.write(\"Writing to files is easy with Python.\\n\")\n",
    "\n",
    "# Close the file\n",
    "file.close()\n",
    "\n"
   ]
  },
  {
   "cell_type": "code",
   "execution_count": 4,
   "id": "0ce9ebc5",
   "metadata": {},
   "outputs": [
    {
     "name": "stdout",
     "output_type": "stream",
     "text": [
      "this thexlacademy\n",
      " Hello, this is some text written to a text file using Python!\n",
      "Writing to files is easy with Python.\n",
      "\n"
     ]
    }
   ],
   "source": [
    "\n",
    "file_path = \"C:/Users/shind/filesToRead/file.txt\"  # Use raw string to avoid escape characters\n",
    "\n",
    "file = open(file_path, 'r')\n",
    "\n",
    "data = file.read()\n",
    "print(data)\n",
    "file.close()\n",
    "\n",
    "\n"
   ]
  },
  {
   "cell_type": "code",
   "execution_count": 5,
   "id": "3a3d4dee",
   "metadata": {},
   "outputs": [],
   "source": [
    "'''Append in to File'''\n",
    "\n",
    "\n",
    "file = open('C:/Users/shind/filesToRead/file.txt', 'a')\n",
    "\n",
    "\n",
    "\n",
    "# Write some text to the file\n",
    "file.write(\"-------------------------------------------------------------------------------------\\n\")\n",
    "file.write(\"Hello, this is some text written to a text file using Python!\\n\")\n",
    "file.write(\"Writing to files is easy with Python.\\n\")\n",
    "file.write(\"You can write multiple lines like this.\\n\")\n",
    "file.write(\"-------------------------------------------------------------------------------------\\n\")\n",
    "\n",
    "\n",
    "# Close the file\n",
    "file.close()\n",
    "\n"
   ]
  },
  {
   "cell_type": "code",
   "execution_count": 6,
   "id": "0089592a",
   "metadata": {},
   "outputs": [
    {
     "name": "stdout",
     "output_type": "stream",
     "text": [
      "this thexlacademy\n",
      " Hello, this is some text written to a text file using Python!\n",
      "Writing to files is easy with Python.\n",
      "-------------------------------------------------------------------------------------\n",
      "Hello, this is some text written to a text file using Python!\n",
      "Writing to files is easy with Python.\n",
      "You can write multiple lines like this.\n",
      "-------------------------------------------------------------------------------------\n",
      "\n"
     ]
    }
   ],
   "source": [
    "file_path = r\"C:/Users/shind/filesToRead/file.txt\"  # Use raw string to avoid escape characters\n",
    "\n",
    "file = open(file_path, 'r')\n",
    "data = file.read()\n",
    "print(data)\n",
    "file.close()\n",
    "\n"
   ]
  },
  {
   "cell_type": "code",
   "execution_count": 8,
   "id": "a93ac5f6",
   "metadata": {},
   "outputs": [],
   "source": [
    "# use of with keyword\n",
    "\n",
    "\n",
    "FileName = \"C:/Users/shind/filesToRead/file.txt\"\n",
    "\n",
    "with open(FileName, 'a') as file:\n",
    "    file.write(\"Hello, this is some text written to a text file using Python!\\n\")\n",
    "    file.write(\"Writing to files is easy with Python.\\n\")\n",
    "    file.write(\"You can write multiple lines like this.\\n\")\n",
    "    file.close()\n",
    "    \n"
   ]
  },
  {
   "cell_type": "code",
   "execution_count": 9,
   "id": "a5b208e6",
   "metadata": {},
   "outputs": [
    {
     "name": "stdout",
     "output_type": "stream",
     "text": [
      "Hello, this is some text written to a text file using Python!\n",
      "Writing to files is easy with Python.\n",
      "You can write multiple lines like this.\n",
      "Hello, this is some text written to a text file using Python!\n",
      "Writing to files is easy with Python.\n",
      "You can write multiple lines like this.\n",
      "\n"
     ]
    }
   ],
   "source": [
    "# Reading from a file\n",
    "with open(FileName, 'r') as file:\n",
    "    content = file.read()\n",
    "    print(content)\n",
    "\n"
   ]
  },
  {
   "cell_type": "code",
   "execution_count": 13,
   "id": "d384d03e",
   "metadata": {},
   "outputs": [
    {
     "name": "stdout",
     "output_type": "stream",
     "text": [
      "Hello, this is some text written to a text file using Python!\n",
      "\n",
      "Writing to files is easy with Python.\n",
      "\n",
      "You can write multiple lines like this.\n",
      "\n",
      "Hello, this is some text written to a text file using Python!\n",
      "\n",
      "Writing to files is easy with Python.\n",
      "\n",
      "You can write multiple lines like this.\n",
      "\n"
     ]
    }
   ],
   "source": [
    "# Reading lines from a file\n",
    "with open(FileName, 'r') as file:\n",
    "    lines = file.readlines()\n",
    "    for line in lines:\n",
    "        print(line)\n",
    "\n"
   ]
  },
  {
   "cell_type": "code",
   "execution_count": null,
   "id": "c62305a7",
   "metadata": {},
   "outputs": [],
   "source": [
    "# Appending to a file\n",
    "with open(FileName, 'a') as file:\n",
    "    file.write(\"Appending additional text to the file.\\n\")\n",
    "\n"
   ]
  },
  {
   "cell_type": "code",
   "execution_count": null,
   "id": "d9c90648",
   "metadata": {},
   "outputs": [],
   "source": []
  },
  {
   "cell_type": "code",
   "execution_count": null,
   "id": "3a26adc4",
   "metadata": {},
   "outputs": [],
   "source": []
  },
  {
   "cell_type": "code",
   "execution_count": null,
   "id": "e28f262f",
   "metadata": {},
   "outputs": [],
   "source": []
  },
  {
   "cell_type": "code",
   "execution_count": null,
   "id": "0f94dba9",
   "metadata": {},
   "outputs": [],
   "source": []
  },
  {
   "cell_type": "code",
   "execution_count": 14,
   "id": "8c8d4464",
   "metadata": {},
   "outputs": [
    {
     "name": "stdout",
     "output_type": "stream",
     "text": [
      "Hello, this is some text written to a text file using Python!\n",
      "\n",
      "Writing to files is easy with Python.\n",
      "\n",
      "You can write multiple lines like this.\n",
      "\n"
     ]
    }
   ],
   "source": [
    "'readline() returns single line'\n",
    "\n",
    "with open(FileName, 'r') as file:\n",
    "    content1 = file.readline()\n",
    "    content2 = file.readline()\n",
    "    content3 = file.readline()\n",
    "\n",
    "    print(content1)\n",
    "    print(content2)\n",
    "    print(content3)\n"
   ]
  },
  {
   "cell_type": "code",
   "execution_count": 16,
   "id": "83a1cd6a",
   "metadata": {},
   "outputs": [
    {
     "name": "stdout",
     "output_type": "stream",
     "text": [
      "Hello, this is some text written to a text file using Python!\n",
      "\n",
      "Writing to files is easy with Python.\n",
      "\n",
      "You can write multiple lines like this.\n",
      "\n",
      "Hello, this is some text written to a text file using Python!\n",
      "\n",
      "Writing to files is easy with Python.\n",
      "\n",
      "You can write multiple lines like this.\n",
      "\n"
     ]
    }
   ],
   "source": [
    "'readlines() returns single line'\n",
    "\n",
    "with open(FileName, 'r') as file:\n",
    "    content1 = file.readlines()\n",
    "    for i in content1:\n",
    "        print(i)\n"
   ]
  },
  {
   "cell_type": "code",
   "execution_count": 17,
   "id": "6d923151",
   "metadata": {},
   "outputs": [],
   "source": [
    "'Delete File'\n",
    "import os\n",
    "\n",
    "os.remove(FileName)\n",
    "\n"
   ]
  },
  {
   "cell_type": "code",
   "execution_count": 6,
   "id": "2ace26df",
   "metadata": {},
   "outputs": [],
   "source": [
    "'''Creating or Opening a File'''\n",
    "\n",
    "# Open a file in write mode ('w')\n"
   ]
  },
  {
   "cell_type": "code",
   "execution_count": null,
   "id": "9c71ba7a",
   "metadata": {},
   "outputs": [],
   "source": []
  },
  {
   "cell_type": "code",
   "execution_count": null,
   "id": "0716b13a",
   "metadata": {},
   "outputs": [],
   "source": []
  },
  {
   "cell_type": "code",
   "execution_count": null,
   "id": "971952aa",
   "metadata": {},
   "outputs": [],
   "source": []
  },
  {
   "cell_type": "code",
   "execution_count": null,
   "id": "a932e5d3",
   "metadata": {},
   "outputs": [],
   "source": []
  },
  {
   "cell_type": "code",
   "execution_count": null,
   "id": "46bebb8e",
   "metadata": {},
   "outputs": [],
   "source": []
  },
  {
   "cell_type": "code",
   "execution_count": null,
   "id": "8b65aab0",
   "metadata": {},
   "outputs": [],
   "source": []
  },
  {
   "cell_type": "code",
   "execution_count": null,
   "id": "d09822e2",
   "metadata": {},
   "outputs": [],
   "source": []
  },
  {
   "cell_type": "code",
   "execution_count": null,
   "id": "e3bce33a",
   "metadata": {},
   "outputs": [],
   "source": []
  },
  {
   "cell_type": "code",
   "execution_count": null,
   "id": "35a3a40c",
   "metadata": {},
   "outputs": [],
   "source": []
  }
 ],
 "metadata": {
  "kernelspec": {
   "display_name": "Python 3 (ipykernel)",
   "language": "python",
   "name": "python3"
  },
  "language_info": {
   "codemirror_mode": {
    "name": "ipython",
    "version": 3
   },
   "file_extension": ".py",
   "mimetype": "text/x-python",
   "name": "python",
   "nbconvert_exporter": "python",
   "pygments_lexer": "ipython3",
   "version": "3.11.7"
  }
 },
 "nbformat": 4,
 "nbformat_minor": 5
}
