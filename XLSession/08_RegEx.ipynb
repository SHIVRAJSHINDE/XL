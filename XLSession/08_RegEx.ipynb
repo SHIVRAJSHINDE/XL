{
 "cells": [
  {
   "cell_type": "code",
   "execution_count": null,
   "id": "2ed8eede",
   "metadata": {},
   "outputs": [],
   "source": []
  },
  {
   "cell_type": "code",
   "execution_count": 5,
   "id": "92b116ce",
   "metadata": {},
   "outputs": [],
   "source": [
    "import re\n",
    "\n",
    "# full form of regex:regular expression\n",
    "# work with string , \n",
    "# RE has more features, Fast\n",
    "# Scalability \n",
    "\n",
    "smallAphaDupe = \"abcdefghijklabcdefghijkl\"\n",
    "smallAphaDupe = \"abcdefghijklabcdefghijkl\"\n",
    "capAlpha = \"ABCDEFGHIJKLMNOPQRSTUVWXYZ\"\n"
   ]
  },
  {
   "cell_type": "code",
   "execution_count": 27,
   "id": "358b960a-98ba-41ca-bd8c-7f3ed9126fb3",
   "metadata": {},
   "outputs": [],
   "source": [
    "aphaNumeric = \"abcdefABCDEF123456789abcdefABCDEF\"\n"
   ]
  },
  {
   "cell_type": "code",
   "execution_count": 30,
   "id": "2c8ed032-7fb6-44aa-bb19-ab290a7c70f9",
   "metadata": {},
   "outputs": [
    {
     "data": {
      "text/plain": [
       "['a', 'b', 'c', 'd', 'e', 'a', 'b', 'c', 'd', 'e']"
      ]
     },
     "execution_count": 30,
     "metadata": {},
     "output_type": "execute_result"
    }
   ],
   "source": [
    "re.findall(\"[a-e]\",aphaNumeric)\n"
   ]
  },
  {
   "cell_type": "code",
   "execution_count": 31,
   "id": "1ab435b0-978b-4e24-9e0e-753d2a948cc3",
   "metadata": {},
   "outputs": [
    {
     "data": {
      "text/plain": [
       "['A', 'B', 'C', 'D', 'E', 'F', 'G', 'H', 'I', 'J', 'K', 'L', 'M', 'N']"
      ]
     },
     "execution_count": 31,
     "metadata": {},
     "output_type": "execute_result"
    }
   ],
   "source": [
    "capAlpha = \"ABCDEFGHIJKLMNOPQRSTUVWXYZ\"\n",
    "re.findall(\"[A-N]\",capAlpha)\n"
   ]
  },
  {
   "cell_type": "code",
   "execution_count": 32,
   "id": "283f2bb6-7def-4ce3-9701-38c77f6bbfad",
   "metadata": {},
   "outputs": [
    {
     "data": {
      "text/plain": [
       "['a', 'n', 'r']"
      ]
     },
     "execution_count": 32,
     "metadata": {},
     "output_type": "execute_result"
    }
   ],
   "source": [
    "re.findall(\"[arn]\",aphaNumeric)\n"
   ]
  },
  {
   "cell_type": "code",
   "execution_count": 37,
   "id": "7ad7715b-0fe5-4fdc-a0ec-db03399719ee",
   "metadata": {},
   "outputs": [
    {
     "data": {
      "text/plain": [
       "['1', '2', '3', '4', '5', '6', '7', '8', '9']"
      ]
     },
     "execution_count": 37,
     "metadata": {},
     "output_type": "execute_result"
    }
   ],
   "source": [
    "re.findall(\"[^a-n]\",aphaNumeric)\n"
   ]
  },
  {
   "cell_type": "code",
   "execution_count": 38,
   "id": "af3dbd71-f835-44aa-8bd5-a1442bc63fab",
   "metadata": {},
   "outputs": [
    {
     "data": {
      "text/plain": [
       "['1', '2', '3', '4', '5', '6', '7', '8', '9']"
      ]
     },
     "execution_count": 38,
     "metadata": {},
     "output_type": "execute_result"
    }
   ],
   "source": [
    "re.findall(\"[^a-nA-N]\",aphaNumeric)\n"
   ]
  },
  {
   "cell_type": "code",
   "execution_count": 40,
   "id": "bac1017b-ced8-4118-afcd-ab757ae8fb1d",
   "metadata": {},
   "outputs": [
    {
     "data": {
      "text/plain": [
       "['a',\n",
       " 'b',\n",
       " 'c',\n",
       " 'd',\n",
       " 'e',\n",
       " 'f',\n",
       " 'A',\n",
       " 'B',\n",
       " 'C',\n",
       " 'D',\n",
       " 'E',\n",
       " 'F',\n",
       " 'a',\n",
       " 'b',\n",
       " 'c',\n",
       " 'd',\n",
       " 'e',\n",
       " 'f',\n",
       " 'A',\n",
       " 'B',\n",
       " 'C',\n",
       " 'D',\n",
       " 'E',\n",
       " 'F']"
      ]
     },
     "execution_count": 40,
     "metadata": {},
     "output_type": "execute_result"
    }
   ],
   "source": [
    "re.findall(\"[^1-9]\",aphaNumeric)\n"
   ]
  },
  {
   "cell_type": "code",
   "execution_count": 33,
   "id": "9c0a6526-5c55-4fa9-87f0-13aa98b9ce32",
   "metadata": {},
   "outputs": [
    {
     "data": {
      "text/plain": [
       "['1', '2', '3', '4']"
      ]
     },
     "execution_count": 33,
     "metadata": {},
     "output_type": "execute_result"
    }
   ],
   "source": [
    "re.findall(\"[1-4]\",aphaNumeric)\n"
   ]
  },
  {
   "cell_type": "code",
   "execution_count": 24,
   "id": "eb96952f-5f00-456f-9280-61168332f19a",
   "metadata": {},
   "outputs": [
    {
     "data": {
      "text/plain": [
       "['1', '3', '4']"
      ]
     },
     "execution_count": 24,
     "metadata": {},
     "output_type": "execute_result"
    }
   ],
   "source": [
    "re.findall(\"[134]\",aphaNumeric)\n"
   ]
  },
  {
   "cell_type": "code",
   "execution_count": 34,
   "id": "ad078423-6443-4835-b267-1c089afb5ad7",
   "metadata": {},
   "outputs": [
    {
     "data": {
      "text/plain": [
       "['a',\n",
       " 'b',\n",
       " 'c',\n",
       " 'd',\n",
       " 'e',\n",
       " 'f',\n",
       " 'A',\n",
       " 'B',\n",
       " 'C',\n",
       " 'D',\n",
       " 'E',\n",
       " 'F',\n",
       " 'a',\n",
       " 'b',\n",
       " 'c',\n",
       " 'd',\n",
       " 'e',\n",
       " 'f',\n",
       " 'A',\n",
       " 'B',\n",
       " 'C',\n",
       " 'D',\n",
       " 'E',\n",
       " 'F']"
      ]
     },
     "execution_count": 34,
     "metadata": {},
     "output_type": "execute_result"
    }
   ],
   "source": [
    "re.findall(\"[a-zA-Z]\",aphaNumeric)\n"
   ]
  },
  {
   "cell_type": "code",
   "execution_count": 84,
   "id": "1e5be505-8c82-4010-823b-f3539f3cabb5",
   "metadata": {},
   "outputs": [
    {
     "data": {
      "text/plain": [
       "['!',\n",
       " '@',\n",
       " '#',\n",
       " '$',\n",
       " '%',\n",
       " '^',\n",
       " '&',\n",
       " '*',\n",
       " '(',\n",
       " ')',\n",
       " '-',\n",
       " '_',\n",
       " '=',\n",
       " '+',\n",
       " '[',\n",
       " '{',\n",
       " ']',\n",
       " '}',\n",
       " '\\\\',\n",
       " '|',\n",
       " ';',\n",
       " ':',\n",
       " \"'\",\n",
       " '\"',\n",
       " ',',\n",
       " '<',\n",
       " '.',\n",
       " '>',\n",
       " '/',\n",
       " '?',\n",
       " '`',\n",
       " '~']"
      ]
     },
     "execution_count": 84,
     "metadata": {},
     "output_type": "execute_result"
    }
   ],
   "source": [
    "all_characters = \"abcdefghABCDEFGH0123456789!@#$%^&*()-_=+[{]}\\|;:'\\\",<.>/?`~\"\n",
    "\n",
    "\n",
    "re.findall(\"[^a-zA-Z0-9]\",all_characters)\n"
   ]
  },
  {
   "cell_type": "code",
   "execution_count": 6,
   "id": "6c220aa3-93b4-4ae4-9d8d-be3c99436c58",
   "metadata": {},
   "outputs": [
    {
     "name": "stdout",
     "output_type": "stream",
     "text": [
      "['h', 'e', 'a', 'i', 'i', 'a', 'i']\n"
     ]
    }
   ],
   "source": []
  },
  {
   "cell_type": "code",
   "execution_count": 77,
   "id": "f61cf5be-8ea5-468c-bde6-204ff044c8ad",
   "metadata": {},
   "outputs": [
    {
     "data": {
      "text/plain": [
       "['apples', 'oranges']"
      ]
     },
     "execution_count": 77,
     "metadata": {},
     "output_type": "execute_result"
    }
   ],
   "source": [
    "import re\n",
    "\n",
    "# Sample text\n",
    "text = \"I have 2 apples and 3 oranges.\"\n",
    "\n",
    "# Using capture groups to extract numbers followed by the word \"apples\" or \"oranges\"\n",
    "re.findall(r\"(apples|oranges)\", text)\n"
   ]
  },
  {
   "cell_type": "code",
   "execution_count": 82,
   "id": "85c3436b",
   "metadata": {},
   "outputs": [
    {
     "data": {
      "text/plain": [
       "[]"
      ]
     },
     "execution_count": 82,
     "metadata": {},
     "output_type": "execute_result"
    }
   ],
   "source": [
    "import re\n",
    "\n",
    "txt = \"ain in Spain asdfasdf \"\n",
    "\n",
    "re.findall(r\"ain\\B\", txt)\n",
    "\n"
   ]
  },
  {
   "cell_type": "code",
   "execution_count": 9,
   "id": "8b060e6b",
   "metadata": {},
   "outputs": [
    {
     "name": "stdout",
     "output_type": "stream",
     "text": [
      "<re.Match object; span=(0, 1), match='a'>\n"
     ]
    }
   ],
   "source": []
  },
  {
   "cell_type": "code",
   "execution_count": 74,
   "id": "8c439f4d",
   "metadata": {},
   "outputs": [
    {
     "data": {
      "text/plain": [
       "['will']"
      ]
     },
     "execution_count": 74,
     "metadata": {},
     "output_type": "execute_result"
    }
   ],
   "source": [
    "# Find specif Word\n",
    "txt1 = \"That \\will be dollars\"\n",
    "re.findall(r\"\\will\", txt1)\n"
   ]
  },
  {
   "cell_type": "code",
   "execution_count": 75,
   "id": "feffe9a7-ccce-4e93-a722-ccd99715a9a3",
   "metadata": {},
   "outputs": [
    {
     "data": {
      "text/plain": [
       "['pldddf']"
      ]
     },
     "execution_count": 75,
     "metadata": {},
     "output_type": "execute_result"
    }
   ],
   "source": [
    "txt2 = \"hello planet pldddf plgggg\"\n",
    "re.findall(r\"\\bpldddf\", txt2)\n"
   ]
  },
  {
   "cell_type": "code",
   "execution_count": 76,
   "id": "785be0f2-e83b-4c43-a7c4-1c276a5fa4a6",
   "metadata": {},
   "outputs": [
    {
     "data": {
      "text/plain": [
       "['ain', 'ain']"
      ]
     },
     "execution_count": 76,
     "metadata": {},
     "output_type": "execute_result"
    }
   ],
   "source": [
    "txt3 = \"The ain in ain\"\n",
    "re.findall(r\"\\bain\", txt3)\n"
   ]
  },
  {
   "cell_type": "code",
   "execution_count": 71,
   "id": "15267cf4-fba3-416f-b4f5-d335b0d673be",
   "metadata": {},
   "outputs": [
    {
     "data": {
      "text/plain": [
       "['pldddf']"
      ]
     },
     "execution_count": 71,
     "metadata": {},
     "output_type": "execute_result"
    }
   ],
   "source": []
  },
  {
   "cell_type": "code",
   "execution_count": 51,
   "id": "ac1e4726",
   "metadata": {},
   "outputs": [
    {
     "data": {
      "text/plain": [
       "['hello']"
      ]
     },
     "execution_count": 51,
     "metadata": {},
     "output_type": "execute_result"
    }
   ],
   "source": [
    "import re\n",
    "#Search for a sequence that starts with \"he\", followed by (any) two characters, and an \"o\":\n",
    "# startChar..endChar\n",
    "# planet\n",
    "# pldddt\n",
    "# plffft\n",
    "\n",
    "txt = \"hello planet \"\n",
    "\n",
    "re.findall(\"he..o\", txt)\n",
    "\n"
   ]
  },
  {
   "cell_type": "code",
   "execution_count": 27,
   "id": "2f3db53c",
   "metadata": {},
   "outputs": [
    {
     "name": "stdout",
     "output_type": "stream",
     "text": [
      "[' planet', ' pldddf', ' plgggg']\n"
     ]
    }
   ],
   "source": [
    "import re\n",
    "#Search for a sequence that starts with \"pl\", followed by four (any) characters:\n",
    "# startChar....\n",
    "\n",
    "txt = \"hello planet pldddf plgggg\"\n",
    "\n",
    "x = re.findall(\" ......\",txt)\n",
    "\n",
    "\n",
    "print(x)\n"
   ]
  },
  {
   "cell_type": "code",
   "execution_count": 33,
   "id": "3fa66311",
   "metadata": {},
   "outputs": [
    {
     "name": "stdout",
     "output_type": "stream",
     "text": [
      "Yes\n"
     ]
    }
   ],
   "source": [
    "'''Starts with'''\n",
    "#Check if the string starts with 'hello':\n",
    "# ^\n",
    "\n",
    "import re\n",
    "\n",
    "txt = \"hello planet\"\n",
    "\n",
    "\n",
    "x = re.findall(\"^hello\", txt)\n",
    "\n",
    "\n",
    "if x:\n",
    "    print(\"Yes\")\n",
    "else:\n",
    "    print(\"No match\")\n"
   ]
  },
  {
   "cell_type": "code",
   "execution_count": 37,
   "id": "875730a7",
   "metadata": {},
   "outputs": [
    {
     "name": "stdout",
     "output_type": "stream",
     "text": [
      "Yes\n"
     ]
    }
   ],
   "source": [
    "'''End With'''\n",
    "# $\n",
    "\n",
    "txt = \"hello planet\"\n",
    "\n",
    "x = re.findall(\"planet$\",txt)\n",
    "\n",
    "if x:\n",
    "    print(\"Yes\")\n",
    "else:\n",
    "    print(\"No match\")\n"
   ]
  },
  {
   "cell_type": "code",
   "execution_count": 42,
   "id": "1400cb7b",
   "metadata": {},
   "outputs": [
    {
     "name": "stdout",
     "output_type": "stream",
     "text": [
      "['heo']\n"
     ]
    }
   ],
   "source": [
    "'''Zero or more occurrences\t'''\n",
    "# Search for a sequence that starts with \"he\", followed by Zero or More any characters, and an \"o\":\n",
    "# .*\n",
    "# startChar.*endChar\n",
    "\n",
    "import re\n",
    "\n",
    "txt = \"heo planet\"\n",
    "\n",
    "x = re.findall(\"he.*o\", txt)\n",
    "\n",
    "print(x)\n",
    "\n"
   ]
  },
  {
   "cell_type": "code",
   "execution_count": 46,
   "id": "a3299107",
   "metadata": {},
   "outputs": [
    {
     "name": "stdout",
     "output_type": "stream",
     "text": [
      "['helo']\n"
     ]
    }
   ],
   "source": [
    "'''One or more occurrences\t'''\n",
    "#Search for a sequence that starts with \"he\", followed by 1 or more any characters, and an \"o\":\n",
    "\n",
    "# .+\n",
    "# startChar.+endChar\n",
    "\n",
    "import re\n",
    "\n",
    "txt = \"helo planet\"\n",
    "\n",
    "x = re.findall(\"he.+o\", txt)\n",
    "\n",
    "x = re.findall(\"he.+o\", txt)\n",
    "\n",
    "print(x)\n"
   ]
  },
  {
   "cell_type": "code",
   "execution_count": null,
   "id": "68092727",
   "metadata": {},
   "outputs": [],
   "source": []
  },
  {
   "cell_type": "code",
   "execution_count": 48,
   "id": "d7fa5632",
   "metadata": {},
   "outputs": [
    {
     "name": "stdout",
     "output_type": "stream",
     "text": [
      "['hellio']\n"
     ]
    }
   ],
   "source": [
    "'''Exact Number of in between charactor'''\n",
    "#Search for a sequence that starts with \"he\", followed excactly 2 (any) characters, and an \"o\":\n",
    "\n",
    "# .{number}\n",
    "# startChar.{number}endChar\n",
    "\n",
    "\n",
    "import re\n",
    "txt = \"hellio planet\"\n",
    "x = re.findall(\"he.{3}o\", txt)\n",
    "print(x)\n"
   ]
  },
  {
   "cell_type": "code",
   "execution_count": 54,
   "id": "56092bcf",
   "metadata": {},
   "outputs": [
    {
     "name": "stdout",
     "output_type": "stream",
     "text": [
      "[]\n",
      "No match\n"
     ]
    }
   ],
   "source": [
    "#Check if the string contains either \"falls\" or \"stays\":\n",
    "\n",
    "import re\n",
    "\n",
    "txt = \"The rain in Spain  mainly in the plain!\"\n",
    "\n",
    "x = re.findall(\"falls|stays\", txt)\n",
    "\n",
    "print(x)\n",
    "\n",
    "if x:\n",
    "    print(\"Yes\")\n",
    "else:\n",
    "    print(\"No match\")\n"
   ]
  },
  {
   "cell_type": "markdown",
   "id": "cf829c9e",
   "metadata": {},
   "source": [
    "# Special Sequences\n"
   ]
  },
  {
   "cell_type": "code",
   "execution_count": 56,
   "id": "0159ebd7",
   "metadata": {},
   "outputs": [
    {
     "name": "stdout",
     "output_type": "stream",
     "text": [
      "[]\n",
      "No match\n"
     ]
    }
   ],
   "source": [
    "'Returns a match if the specified characters are at the beginning of the string\t'\n",
    "# Check if the string starts with \"The\":\n",
    "# \\Achar\n",
    "\n",
    "import re\n",
    "\n",
    "txt = \"The rain in Spain\"\n",
    "\n",
    "x = re.findall(\"\\AThe\", txt)\n",
    "print(x)\n",
    "\n",
    "if x:\n",
    "    print(\"Yes\")\n",
    "else:\n",
    "    print(\"No match\")\n"
   ]
  },
  {
   "cell_type": "code",
   "execution_count": 70,
   "id": "65a9d4a3",
   "metadata": {},
   "outputs": [
    {
     "name": "stdout",
     "output_type": "stream",
     "text": [
      "['rai']\n",
      "Yes\n"
     ]
    }
   ],
   "source": [
    "'''Returns a match where the specified characters are at the beginning or at the end of a word'''\n",
    "\n",
    "# \\bchar\n",
    "import re\n",
    "\n",
    "txt = \"rai .ttt \"\n",
    "\n",
    "x = re.findall(r\"\\brai\", txt)\n",
    "\n",
    "print(x)\n",
    "\n",
    "if x:\n",
    "    print(\"Yes\")\n",
    "else:\n",
    "    print(\"No match\")\n"
   ]
  },
  {
   "cell_type": "code",
   "execution_count": 74,
   "id": "0ca264b7",
   "metadata": {},
   "outputs": [
    {
     "name": "stdout",
     "output_type": "stream",
     "text": [
      "['ain', 'ain']\n",
      "Yes\n"
     ]
    }
   ],
   "source": [
    "\n",
    "# Check if \"ain\" is present, but NOT at the beginning of a word:\n",
    "# \\Bchar\n",
    "\n",
    "import re\n",
    "\n",
    "txt = \"The rain in Spain\"\n",
    "\n",
    "\n",
    "x = re.findall(r\"\\Bain\", txt)\n",
    "\n",
    "print(x)\n",
    "\n",
    "if x:\n",
    "    print(\"Yes\")\n",
    "else:\n",
    "    print(\"No match\")\n"
   ]
  },
  {
   "cell_type": "code",
   "execution_count": 79,
   "id": "ff010fbd",
   "metadata": {},
   "outputs": [
    {
     "name": "stdout",
     "output_type": "stream",
     "text": [
      "['rai']\n",
      "Yes\n"
     ]
    }
   ],
   "source": [
    "\n",
    "# Check if \"rai\" is present, but NOT at the end of a word:\n",
    "# char\\B\n",
    "import re\n",
    "\n",
    "txt = \"rai The rai rain in Spain\"\n",
    "\n",
    "\n",
    "x = re.findall(r\"rai\\B\", txt)\n",
    "\n",
    "print(x)\n",
    "\n",
    "if x:\n",
    "    print(\"Yes\")\n",
    "else:\n",
    "    print(\"No match\")\n"
   ]
  },
  {
   "cell_type": "code",
   "execution_count": 81,
   "id": "eb3441af",
   "metadata": {},
   "outputs": [
    {
     "name": "stdout",
     "output_type": "stream",
     "text": [
      "['7', '1', '0']\n",
      "Yes, there is at least one match!\n"
     ]
    }
   ],
   "source": [
    "'''Returns a match where the string contains digits (numbers from 0-9)'''\n",
    "#Check if the string contains any digits (numbers from 0-9):\n",
    "# \\d\n",
    "\n",
    "import re\n",
    "\n",
    "txt = \"The rain is 710 Spain\"\n",
    "x = re.findall(\"\\d\", txt)\n",
    "\n",
    "print(x)\n",
    "\n",
    "if x:\n",
    "    print(\"Yes, there is at least one match!\")\n",
    "else:\n",
    "    print(\"No match\")\n"
   ]
  },
  {
   "cell_type": "code",
   "execution_count": null,
   "id": "1f955d9e",
   "metadata": {},
   "outputs": [],
   "source": []
  },
  {
   "cell_type": "code",
   "execution_count": 84,
   "id": "7f0197bf",
   "metadata": {},
   "outputs": [
    {
     "name": "stdout",
     "output_type": "stream",
     "text": [
      "[' ', ' ', ' ']\n",
      "Yes\n"
     ]
    }
   ],
   "source": [
    "'/s'\n",
    "'''Returns a match where the string contains a white space character'''\n",
    "import re\n",
    "\n",
    "txt = \"The rain rain rain\"\n",
    "\n",
    "#Return a match at every white-space character:\n",
    "\n",
    "x = re.findall(\"\\s\", txt)\n",
    "\n",
    "print(x)\n",
    "\n",
    "if x:\n",
    "    print(\"Yes\")\n",
    "else:\n",
    "    print(\"No match\")\n"
   ]
  },
  {
   "cell_type": "code",
   "execution_count": 91,
   "id": "5b0c139a",
   "metadata": {},
   "outputs": [
    {
     "name": "stdout",
     "output_type": "stream",
     "text": [
      "['a', 'b', 'c', 'a', 'b', 'c', 'a', 'b', 'c']\n"
     ]
    }
   ],
   "source": [
    "'\\S'\n",
    "'''Returns a match where the string DOES NOT contain a white space character'''\n",
    "import re\n",
    "\n",
    "txt = \"abc abc abc\"\n",
    "\n",
    "#Return a match at every NON white-space character:\n",
    "\n",
    "x = re.findall(\"\\S\", txt)\n",
    "\n",
    "print(x)\n",
    "\n"
   ]
  },
  {
   "cell_type": "code",
   "execution_count": 95,
   "id": "061f4e75",
   "metadata": {},
   "outputs": [
    {
     "name": "stdout",
     "output_type": "stream",
     "text": [
      "['a', '_', '9']\n"
     ]
    }
   ],
   "source": [
    "'\\w'\n",
    "'''Returns a match where the string contains any word characters \n",
    "(characters from a to z or A to Z, digits from 0-9, and the underscore _ character)'''\n",
    "\n",
    "import re\n",
    "\n",
    "txt = \"a_9###\"\n",
    "\n",
    "#Return a match at every word character (characters from a to Z, digits from 0-9, and the underscore _ character):\n",
    "\n",
    "x = re.findall(\"\\w\", txt)\n",
    "\n",
    "print(x)\n",
    "\n"
   ]
  },
  {
   "cell_type": "code",
   "execution_count": 98,
   "id": "948124a9",
   "metadata": {},
   "outputs": [
    {
     "name": "stdout",
     "output_type": "stream",
     "text": [
      "['#', '@', '$']\n"
     ]
    }
   ],
   "source": [
    "#Return a match at every NON word character (characters NOT between a and Z. Like \"!\", \"?\" white-space etc.):\n",
    "\n",
    "import re\n",
    "\n",
    "txt = \"#@$_\"\n",
    "\n",
    "\n",
    "x = re.findall(\"\\W\", txt)\n",
    "\n",
    "print(x)\n",
    "\n",
    "\n"
   ]
  },
  {
   "cell_type": "code",
   "execution_count": 34,
   "id": "5ed8c9f7",
   "metadata": {},
   "outputs": [
    {
     "name": "stdout",
     "output_type": "stream",
     "text": [
      "['Spain']\n",
      "Yes, there is a match!\n"
     ]
    }
   ],
   "source": [
    "'''Returns a match if the specified characters are at the end of the string'''\n",
    "#Check if the string ends with \"Spain\":\n",
    "\n",
    "\n",
    "txt = \"The rain in Spain\"\n",
    "x = re.findall(\"Spain\\Z\", txt)\n",
    "\n",
    "print(x)\n",
    "\n",
    "if x:\n",
    "    print(\"Yes, there is a match!\")\n",
    "else:\n",
    "    print(\"No match\")\n"
   ]
  },
  {
   "cell_type": "markdown",
   "id": "2167603f",
   "metadata": {},
   "source": [
    "# Sets"
   ]
  },
  {
   "cell_type": "code",
   "execution_count": 35,
   "id": "b26e4670",
   "metadata": {},
   "outputs": [
    {
     "name": "stdout",
     "output_type": "stream",
     "text": [
      "['r', 'a', 'n', 'n', 'a', 'n']\n",
      "Yes, there is at least one match!\n"
     ]
    }
   ],
   "source": [
    "'[arn]'\n",
    "\n",
    "'Returns a match where one of the specified characters (a, r, or n) is present'\n",
    "\n",
    "import re\n",
    "\n",
    "txt = \"The rain in Spain\"\n",
    "\n",
    "#Check if the string has any a, r, or n characters:\n",
    "\n",
    "x = re.findall(\"[arn]\", txt)\n",
    "\n",
    "print(x)\n",
    "\n",
    "if x:\n",
    "    print(\"Yes, there is at least one match!\")\n",
    "else:\n",
    "    print(\"No match\")\n"
   ]
  },
  {
   "cell_type": "code",
   "execution_count": 38,
   "id": "7c2da55d",
   "metadata": {},
   "outputs": [
    {
     "name": "stdout",
     "output_type": "stream",
     "text": [
      "['h', 'e', 'a', 'i', 'n', 'i', 'n', 'a', 'i', 'n']\n",
      "Yes, there is at least one match!\n"
     ]
    }
   ],
   "source": [
    "'[a-n]'\n",
    "'Returns a match for any lower case character, alphabetically between a and n'\n",
    "txt = \"The rain in Spain\"\n",
    "\n",
    "#Check if the string has any characters between a and n:\n",
    "\n",
    "x = re.findall(\"[a-n]\", txt)\n",
    "print(x)\n",
    "if x:\n",
    "    print(\"Yes, there is at least one match!\")\n",
    "else:\n",
    "    print(\"No match\")\n"
   ]
  },
  {
   "cell_type": "code",
   "execution_count": 39,
   "id": "6ed3952a",
   "metadata": {},
   "outputs": [
    {
     "name": "stdout",
     "output_type": "stream",
     "text": [
      "['T', 'h', 'e', ' ', 'i', ' ', 'i', ' ', 'S', 'p', 'i']\n",
      "Yes, there is at least one match!\n"
     ]
    }
   ],
   "source": [
    "'[^arn]'\n",
    "'Returns a match for any character EXCEPT a, r, and n'\n",
    "import re\n",
    "\n",
    "txt = \"The rain in Spain\"\n",
    "\n",
    "#Check if the string has other characters than a, r, or n:\n",
    "\n",
    "x = re.findall(\"[^arn]\", txt)\n",
    "\n",
    "print(x)\n",
    "\n",
    "if x:\n",
    "    print(\"Yes, there is at least one match!\")\n",
    "else:\n",
    "    print(\"No match\")\n",
    "\n"
   ]
  },
  {
   "cell_type": "code",
   "execution_count": 41,
   "id": "2f524a32",
   "metadata": {},
   "outputs": [
    {
     "name": "stdout",
     "output_type": "stream",
     "text": [
      "['1']\n",
      "Yes, there is at least one match!\n"
     ]
    }
   ],
   "source": [
    "'[0123]'\n",
    "'Returns a match where any of the specified digits (0, 1, 2, or 3) are present'\n",
    "import re\n",
    "\n",
    "txt = \"The rain in Spain1\"\n",
    "\n",
    "#Check if the string has any 0, 1, 2, or 3 digits:\n",
    "\n",
    "x = re.findall(\"[0123]\", txt)\n",
    "\n",
    "print(x)\n",
    "\n",
    "if x:\n",
    "    print(\"Yes, there is at least one match!\")\n",
    "else:\n",
    "    print(\"No match\")\n"
   ]
  },
  {
   "cell_type": "code",
   "execution_count": 42,
   "id": "2004268a",
   "metadata": {},
   "outputs": [
    {
     "name": "stdout",
     "output_type": "stream",
     "text": [
      "['8', '1', '1', '4', '5']\n",
      "Yes, there is at least one match!\n"
     ]
    }
   ],
   "source": [
    "'[0-9]'\n",
    "'Returns a match for any digit between 0 and 9'\n",
    "import re\n",
    "\n",
    "txt = \"8 times before 11:45 AM\"\n",
    "\n",
    "#Check if the string has any digits:\n",
    "\n",
    "x = re.findall(\"[0-9]\", txt)\n",
    "\n",
    "print(x)\n",
    "\n",
    "if x:\n",
    "  print(\"Yes, there is at least one match!\")\n",
    "else:\n",
    "  print(\"No match\")\n"
   ]
  },
  {
   "cell_type": "code",
   "execution_count": 45,
   "id": "6894fe4e",
   "metadata": {},
   "outputs": [
    {
     "name": "stdout",
     "output_type": "stream",
     "text": [
      "['11']\n",
      "Yes, there is at least one match!\n"
     ]
    }
   ],
   "source": [
    "import re\n",
    "\n",
    "txt = \"11 times before\"\n",
    "\n",
    "#Check if the string has any two-digit numbers, from 00 to 59:\n",
    "\n",
    "x = re.findall(\"[0-5][0-9]\", txt)\n",
    "\n",
    "print(x)\n",
    "\n",
    "if x:\n",
    "    print(\"Yes, there is at least one match!\")\n",
    "else:\n",
    "    print(\"No match\")\n"
   ]
  },
  {
   "cell_type": "code",
   "execution_count": 46,
   "id": "3aeabcb7",
   "metadata": {},
   "outputs": [
    {
     "name": "stdout",
     "output_type": "stream",
     "text": [
      "['t', 'i', 'm', 'e', 's', 'b', 'e', 'f', 'o', 'r', 'e', 'A', 'M']\n",
      "Yes, there is at least one match!\n"
     ]
    }
   ],
   "source": [
    "import re\n",
    "\n",
    "txt = \"8 times before 11:45 AM\"\n",
    "\n",
    "#Check if the string has any characters from a to z lower case, and A to Z upper case:\n",
    "\n",
    "x = re.findall(\"[a-zA-Z]\", txt)\n",
    "\n",
    "print(x)\n",
    "\n",
    "if x:\n",
    "    print(\"Yes, there is at least one match!\")\n",
    "else:\n",
    "    print(\"No match\")\n"
   ]
  },
  {
   "cell_type": "code",
   "execution_count": 2,
   "id": "6baa98bc",
   "metadata": {},
   "outputs": [
    {
     "data": {
      "text/plain": [
       "['The', 'cat', 'and', 'the', 'bat', 'sat', 'the', 'mat']"
      ]
     },
     "execution_count": 2,
     "metadata": {},
     "output_type": "execute_result"
    }
   ],
   "source": [
    "import re\n",
    "\n",
    "# Sample text\n",
    "text = \"The cat and the bat sat on the mat.\"\n",
    "\n",
    "# findall: Returns a list containing all matches\n",
    "re.findall(r'\\b\\w{3}\\b', text)\n",
    "\n",
    "\n"
   ]
  },
  {
   "cell_type": "code",
   "execution_count": 5,
   "id": "65bff3a8",
   "metadata": {},
   "outputs": [
    {
     "name": "stdout",
     "output_type": "stream",
     "text": [
      "search: cat\n"
     ]
    }
   ],
   "source": [
    "# search: Returns a Match object if there is a match anywhere in the string\n",
    "text = \"The cat and the bat sat on the cat mat.\"\n",
    "re.search(r'cat', text)\n",
    "if match_obj:\n",
    "    print(\"search:\", match_obj.group())\n",
    "\n"
   ]
  },
  {
   "cell_type": "code",
   "execution_count": 7,
   "id": "81027f7f-1e64-4f97-b159-327f742b8cc3",
   "metadata": {},
   "outputs": [
    {
     "data": {
      "text/plain": [
       "['The', 'cat', 'and', 'the', 'bat', 'sat', 'on', 'the', 'cat', 'mat.']"
      ]
     },
     "execution_count": 7,
     "metadata": {},
     "output_type": "execute_result"
    }
   ],
   "source": [
    "# split: Returns a list where the string has been split at each match\n",
    "re.split(r'\\s+', text)\n",
    "\n"
   ]
  },
  {
   "cell_type": "code",
   "execution_count": 8,
   "id": "bdcfa33f-eb7a-44f8-885c-9c86c99e4d11",
   "metadata": {},
   "outputs": [
    {
     "data": {
      "text/plain": [
       "'The dog and the bat sat on the dog mat.'"
      ]
     },
     "execution_count": 8,
     "metadata": {},
     "output_type": "execute_result"
    }
   ],
   "source": [
    "# sub: Replaces one or many matches with a string\n",
    "re.sub(r'cat', 'dog', text)\n",
    "\n",
    "\n"
   ]
  }
 ],
 "metadata": {
  "kernelspec": {
   "display_name": "Python 3 (ipykernel)",
   "language": "python",
   "name": "python3"
  },
  "language_info": {
   "codemirror_mode": {
    "name": "ipython",
    "version": 3
   },
   "file_extension": ".py",
   "mimetype": "text/x-python",
   "name": "python",
   "nbconvert_exporter": "python",
   "pygments_lexer": "ipython3",
   "version": "3.11.7"
  }
 },
 "nbformat": 4,
 "nbformat_minor": 5
}
