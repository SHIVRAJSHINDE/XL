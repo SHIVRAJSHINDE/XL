{
 "cells": [
  {
   "cell_type": "code",
   "execution_count": 15,
   "id": "41116307-b80f-4e8d-a282-ef9357d91bba",
   "metadata": {},
   "outputs": [
    {
     "data": {
      "text/plain": [
       "{'apple', 'banana', 'cherry', 'orange'}"
      ]
     },
     "execution_count": 15,
     "metadata": {},
     "output_type": "execute_result"
    }
   ],
   "source": [
    "thisset = {\"apple\", \"banana\", \"cherry\", \"orange\"}\n",
    "thisset = set((\"apple\", \"banana\", \"cherry\", \"orange\"))\n",
    "\n",
    "thisset\n",
    "thisset = {\"apple\",\"apple\", \"banana\", \"cherry\", \"orange\"}\n",
    "thisset\n",
    "thisset.count(\"apple\")\n"
   ]
  },
  {
   "cell_type": "code",
   "execution_count": 3,
   "id": "8e1d7dc4-e416-40ee-acf0-c1513c38f1d7",
   "metadata": {},
   "outputs": [
    {
     "name": "stdout",
     "output_type": "stream",
     "text": [
      "banana\n",
      "cherry\n",
      "apple\n",
      "orange\n"
     ]
    }
   ],
   "source": [
    "#To print all value:-\n",
    "for x in thisset:\n",
    "  print(x)\n"
   ]
  },
  {
   "cell_type": "code",
   "execution_count": 4,
   "id": "1c8cd102-d164-47d4-86c4-7e224e6725b3",
   "metadata": {},
   "outputs": [
    {
     "data": {
      "text/plain": [
       "4"
      ]
     },
     "execution_count": 4,
     "metadata": {},
     "output_type": "execute_result"
    }
   ],
   "source": [
    "# print len of set\n",
    "len(thisset)\n"
   ]
  },
  {
   "cell_type": "code",
   "execution_count": null,
   "id": "410a88ce-7571-4fcd-ac0d-d5cdcdc93ca5",
   "metadata": {},
   "outputs": [],
   "source": []
  },
  {
   "cell_type": "code",
   "execution_count": 5,
   "id": "e53f9d9e-501f-40a5-a437-ce495401e613",
   "metadata": {},
   "outputs": [
    {
     "data": {
      "text/plain": [
       "True"
      ]
     },
     "execution_count": 5,
     "metadata": {},
     "output_type": "execute_result"
    }
   ],
   "source": [
    "\"banana\" in thisset"
   ]
  },
  {
   "cell_type": "code",
   "execution_count": 18,
   "id": "4e61a3be-d578-4610-aa7a-e12faebd5962",
   "metadata": {},
   "outputs": [
    {
     "data": {
      "text/plain": [
       "{'apple', 'banana', 'cherry', 'orange'}"
      ]
     },
     "execution_count": 18,
     "metadata": {},
     "output_type": "execute_result"
    }
   ],
   "source": [
    "thisset.add(\"orange\")\n",
    "thisset\n"
   ]
  },
  {
   "cell_type": "code",
   "execution_count": 7,
   "id": "12d8b1c7-c12b-4fde-bdef-8a5bfb59409d",
   "metadata": {},
   "outputs": [
    {
     "data": {
      "text/plain": [
       "{'apple', 'banana', 'cherry', 'orange'}"
      ]
     },
     "execution_count": 7,
     "metadata": {},
     "output_type": "execute_result"
    }
   ],
   "source": [
    "thisset"
   ]
  },
  {
   "cell_type": "code",
   "execution_count": 19,
   "id": "e06eda6a-f2e0-4cc7-9844-ec9f7b366c14",
   "metadata": {},
   "outputs": [
    {
     "data": {
      "text/plain": [
       "{'Grapes', 'Kaju', 'Litchies', 'apple', 'banana', 'cherry', 'orange'}"
      ]
     },
     "execution_count": 19,
     "metadata": {},
     "output_type": "execute_result"
    }
   ],
   "source": [
    "thisset.update([\"Litchies\", \"Kaju\", \"Grapes\"])\n",
    "thisset\n"
   ]
  },
  {
   "cell_type": "code",
   "execution_count": null,
   "id": "bbf5e87d-f70a-43ce-885b-16c4ecd80100",
   "metadata": {},
   "outputs": [],
   "source": [
    "# Remove"
   ]
  },
  {
   "cell_type": "code",
   "execution_count": 20,
   "id": "4763e455-9c9a-47ef-9c2c-afa7053481dd",
   "metadata": {},
   "outputs": [
    {
     "data": {
      "text/plain": [
       "{'Grapes', 'Kaju', 'Litchies', 'apple', 'cherry', 'orange'}"
      ]
     },
     "execution_count": 20,
     "metadata": {},
     "output_type": "execute_result"
    }
   ],
   "source": [
    "thisset.remove(\"banana\")\n",
    "thisset\n"
   ]
  },
  {
   "cell_type": "code",
   "execution_count": 21,
   "id": "afd5ad4f-88bc-4c31-8139-17de22f7e521",
   "metadata": {},
   "outputs": [],
   "source": [
    "thisset.discard(\"cherry\")\n"
   ]
  },
  {
   "cell_type": "code",
   "execution_count": 22,
   "id": "f9494d3e-bf98-4605-8c92-16a6d03874b4",
   "metadata": {},
   "outputs": [
    {
     "data": {
      "text/plain": [
       "{'Grapes', 'Kaju', 'Litchies', 'orange'}"
      ]
     },
     "execution_count": 22,
     "metadata": {},
     "output_type": "execute_result"
    }
   ],
   "source": [
    "thisset.pop()\n",
    "thisset\n"
   ]
  },
  {
   "cell_type": "markdown",
   "id": "4596cedb-b152-41f3-88c5-9ef6059f52cb",
   "metadata": {},
   "source": [
    "# Empty or Delete"
   ]
  },
  {
   "cell_type": "code",
   "execution_count": 14,
   "id": "ba1b319d-5a84-4c6b-816a-f12c503ce178",
   "metadata": {},
   "outputs": [
    {
     "data": {
      "text/plain": [
       "set()"
      ]
     },
     "execution_count": 14,
     "metadata": {},
     "output_type": "execute_result"
    }
   ],
   "source": [
    "# To empty the set:\n",
    "thisset.clear()\n",
    "thisset\n"
   ]
  },
  {
   "cell_type": "code",
   "execution_count": 16,
   "id": "6fa3e021-8baf-4ad4-918f-c43bb7c05a52",
   "metadata": {},
   "outputs": [],
   "source": [
    "thisset = {\"apple\", \"banana\", \"cherry\", \"orange\"}\n"
   ]
  },
  {
   "cell_type": "code",
   "execution_count": 19,
   "id": "afa11b6c-c483-4427-9bab-4322724d4b97",
   "metadata": {},
   "outputs": [
    {
     "ename": "NameError",
     "evalue": "name 'thisset' is not defined",
     "output_type": "error",
     "traceback": [
      "\u001b[1;31m---------------------------------------------------------------------------\u001b[0m",
      "\u001b[1;31mNameError\u001b[0m                                 Traceback (most recent call last)",
      "Cell \u001b[1;32mIn[19], line 2\u001b[0m\n\u001b[0;32m      1\u001b[0m \u001b[38;5;66;03m# To delete the Data Completely\u001b[39;00m\n\u001b[1;32m----> 2\u001b[0m \u001b[38;5;28;01mdel\u001b[39;00m thisset\n",
      "\u001b[1;31mNameError\u001b[0m: name 'thisset' is not defined"
     ]
    }
   ],
   "source": [
    "# To delete the Data Completely\n",
    "del thisset\n"
   ]
  },
  {
   "cell_type": "code",
   "execution_count": null,
   "id": "37b7accc-4d28-4ab8-bc74-45b1fdb1f79a",
   "metadata": {},
   "outputs": [],
   "source": []
  },
  {
   "cell_type": "code",
   "execution_count": null,
   "id": "7c1c813e-bae9-4aa1-b9df-50db6b5a8af7",
   "metadata": {},
   "outputs": [],
   "source": []
  },
  {
   "cell_type": "code",
   "execution_count": null,
   "id": "9d4707f2-7b89-4b49-87c9-8190efdcac74",
   "metadata": {},
   "outputs": [],
   "source": []
  },
  {
   "cell_type": "code",
   "execution_count": null,
   "id": "ce78d6e5-22e2-4e95-8bc9-ddaeea17c062",
   "metadata": {},
   "outputs": [],
   "source": [
    "# Copy\n",
    "x = fruits.copy()\n",
    "print(x)\n"
   ]
  },
  {
   "cell_type": "code",
   "execution_count": null,
   "id": "5c5133cb-85ed-42b2-9383-7681ebf9273f",
   "metadata": {},
   "outputs": [],
   "source": [
    "# Creating a set\n",
    "my_set = {1, 2, 3}\n",
    "\n",
    "# Creating an empty set\n",
    "empty_set = set()\n",
    "\n",
    "# Creating a set from a list\n",
    "list_to_set = set([1, 2, 2, 3, 4])  # Duplicates are removed\n"
   ]
  },
  {
   "cell_type": "code",
   "execution_count": null,
   "id": "30fa1d77-887f-4e35-abdb-a2125e9c4bd0",
   "metadata": {},
   "outputs": [],
   "source": [
    "# Adding an element\n",
    "my_set.add(4)\n",
    "\n"
   ]
  },
  {
   "cell_type": "code",
   "execution_count": 20,
   "id": "4554fec0-6f1d-4e53-a3dc-dc6ae163364c",
   "metadata": {},
   "outputs": [
    {
     "data": {
      "text/plain": [
       "('apple', 'apple', 'banana', 'cherry', 'orange')"
      ]
     },
     "execution_count": 20,
     "metadata": {},
     "output_type": "execute_result"
    }
   ],
   "source": [
    "# Adding multiple elements\n",
    "my_set.update([5, 6, 7])\n",
    "\n"
   ]
  },
  {
   "cell_type": "code",
   "execution_count": null,
   "id": "14e9a405-254f-4110-a247-22ebeda598bc",
   "metadata": {},
   "outputs": [],
   "source": [
    "# Removing an element (raises KeyError if element not found)\n",
    "my_set.remove(4)\n",
    "\n"
   ]
  },
  {
   "cell_type": "code",
   "execution_count": null,
   "id": "08183456-8f2c-410f-af57-a8a501dce716",
   "metadata": {},
   "outputs": [],
   "source": [
    "# Removing an element if it exists (no KeyError if element not found)\n",
    "my_set.discard(5)\n",
    "\n"
   ]
  },
  {
   "cell_type": "code",
   "execution_count": null,
   "id": "fa1bcbac-ed6f-4410-bebe-2715cede864c",
   "metadata": {},
   "outputs": [],
   "source": [
    "# Removing and returning an arbitrary element (raises KeyError if set is empty)\n",
    "removed_element = my_set.pop()\n",
    "\n"
   ]
  },
  {
   "cell_type": "code",
   "execution_count": null,
   "id": "00c9f7c7-f62e-465b-a411-971894d4ab51",
   "metadata": {},
   "outputs": [],
   "source": [
    "# Clearing all elements\n",
    "my_set.clear()\n"
   ]
  },
  {
   "cell_type": "code",
   "execution_count": 11,
   "id": "de1a6536-bea6-420e-a5cc-295a3f6c4533",
   "metadata": {},
   "outputs": [
    {
     "data": {
      "text/plain": [
       "{1, 2, 3, 4, 5}"
      ]
     },
     "execution_count": 11,
     "metadata": {},
     "output_type": "execute_result"
    }
   ],
   "source": [
    "# Combines elements from two sets. Duplicate elements are removed.\n",
    "\n",
    "set1 = {1, 2, 3}\n",
    "set2 = {3, 4, 5}\n",
    "union_set = set1.union(set2)  # or set1 | set2\n",
    "union_set\n"
   ]
  },
  {
   "cell_type": "code",
   "execution_count": null,
   "id": "fe3ee8f9-5a53-4674-9dc3-9ef9e6155cfd",
   "metadata": {},
   "outputs": [],
   "source": [
    "# Check if an element is in a set\n",
    "1 in set1  # Returns True\n"
   ]
  },
  {
   "cell_type": "code",
   "execution_count": 14,
   "id": "041c31ff-8d14-4901-ba46-50760871c147",
   "metadata": {},
   "outputs": [
    {
     "data": {
      "text/plain": [
       "3"
      ]
     },
     "execution_count": 14,
     "metadata": {},
     "output_type": "execute_result"
    }
   ],
   "source": [
    "# Length of the set\n",
    "len(set1)\n"
   ]
  },
  {
   "cell_type": "code",
   "execution_count": null,
   "id": "fee99165-b002-48cf-87c5-3cbcaba2a01e",
   "metadata": {},
   "outputs": [],
   "source": []
  },
  {
   "cell_type": "code",
   "execution_count": null,
   "id": "3e307614-38fb-4ddd-8db8-87eac98d8dff",
   "metadata": {},
   "outputs": [],
   "source": []
  },
  {
   "cell_type": "code",
   "execution_count": null,
   "id": "71cbad2c-3812-4826-9e32-bf9af39cafa8",
   "metadata": {},
   "outputs": [],
   "source": []
  },
  {
   "cell_type": "code",
   "execution_count": null,
   "id": "78ac1a80-4342-4efb-b29b-55d199c6d291",
   "metadata": {},
   "outputs": [],
   "source": []
  },
  {
   "cell_type": "markdown",
   "id": "08b0aabc-3f32-494b-a0fc-52ad9a72a246",
   "metadata": {},
   "source": [
    "# Frozen Sets"
   ]
  },
  {
   "cell_type": "code",
   "execution_count": 13,
   "id": "1bafa8c0-75b6-4232-8465-63ad58f1458d",
   "metadata": {},
   "outputs": [],
   "source": [
    "# Creating a frozen set\n",
    "# Frosen Set is a immutable verion of Sets\n",
    "\n",
    "frozen_set = frozenset([1, 2, 3, 4])\n",
    "\n",
    "# Trying to add an element will raise an AttributeError\n",
    "# frozen_set.add(5)\n"
   ]
  },
  {
   "cell_type": "code",
   "execution_count": null,
   "id": "c65b687d-0ed5-4c03-b655-38d91758de77",
   "metadata": {},
   "outputs": [],
   "source": []
  },
  {
   "cell_type": "code",
   "execution_count": null,
   "id": "ba3d79c5-e243-4d1c-8f10-ef05ae421fc5",
   "metadata": {},
   "outputs": [],
   "source": []
  },
  {
   "cell_type": "code",
   "execution_count": null,
   "id": "0bc56d29-2b98-458c-b435-0516cc378aea",
   "metadata": {},
   "outputs": [],
   "source": []
  },
  {
   "cell_type": "code",
   "execution_count": null,
   "id": "33669e5f-2fb8-4772-8ec5-c853681edfcd",
   "metadata": {},
   "outputs": [],
   "source": []
  },
  {
   "cell_type": "code",
   "execution_count": null,
   "id": "fffe9bdf-de34-4555-b2ef-14db31363a31",
   "metadata": {},
   "outputs": [],
   "source": []
  },
  {
   "cell_type": "code",
   "execution_count": null,
   "id": "f0e495c3-a0b9-46ec-b252-e14fcea7633e",
   "metadata": {},
   "outputs": [],
   "source": []
  },
  {
   "cell_type": "code",
   "execution_count": null,
   "id": "cb81879e-ec9f-4062-a5a1-d80be183114f",
   "metadata": {},
   "outputs": [],
   "source": []
  }
 ],
 "metadata": {
  "kernelspec": {
   "display_name": "Python 3 (ipykernel)",
   "language": "python",
   "name": "python3"
  },
  "language_info": {
   "codemirror_mode": {
    "name": "ipython",
    "version": 3
   },
   "file_extension": ".py",
   "mimetype": "text/x-python",
   "name": "python",
   "nbconvert_exporter": "python",
   "pygments_lexer": "ipython3",
   "version": "3.11.7"
  }
 },
 "nbformat": 4,
 "nbformat_minor": 5
}
