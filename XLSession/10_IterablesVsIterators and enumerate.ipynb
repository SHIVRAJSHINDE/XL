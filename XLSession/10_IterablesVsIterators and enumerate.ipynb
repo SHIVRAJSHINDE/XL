{
 "cells": [
  {
   "cell_type": "code",
   "execution_count": 3,
   "id": "f63c51ed",
   "metadata": {},
   "outputs": [
    {
     "name": "stdout",
     "output_type": "stream",
     "text": [
      "R\n",
      "a\n",
      "j\n",
      "e\n",
      "s\n",
      "h\n",
      "\n",
      "R\n",
      "a\n",
      "j\n",
      "e\n",
      "s\n",
      "h\n",
      "\n",
      "R\n",
      "a\n",
      "j\n",
      "e\n",
      "s\n",
      "h\n",
      "\n"
     ]
    }
   ],
   "source": [
    "'Iterable'\n",
    "\n",
    "fruitsList = [\"apple\", \"banana\", \"cherry\", \"orange\"]\n",
    "name = \"Rajesh\"\n",
    "cityTuple = (\"Mumbai\", \"Pune\", \"Bangalore\")\n",
    "\n",
    "\n",
    "for i in name:\n",
    "    print(i)\n",
    "print()\n"
   ]
  },
  {
   "cell_type": "code",
   "execution_count": 6,
   "id": "988bdbad-7b6f-41c4-8281-b2a65306bea4",
   "metadata": {},
   "outputs": [
    {
     "name": "stdout",
     "output_type": "stream",
     "text": [
      "['__add__', '__class__', '__class_getitem__', '__contains__', '__delattr__', '__dir__', '__doc__', '__eq__', '__format__', '__ge__', '__getattribute__', '__getitem__', '__getnewargs__', '__getstate__', '__gt__', '__hash__', '__init__', '__init_subclass__', '__iter__', '__le__', '__len__', '__lt__', '__mul__', '__ne__', '__new__', '__reduce__', '__reduce_ex__', '__repr__', '__rmul__', '__setattr__', '__sizeof__', '__str__', '__subclasshook__', 'count', 'index']\n"
     ]
    }
   ],
   "source": [
    "print(dir(cityTuple))\n"
   ]
  },
  {
   "cell_type": "code",
   "execution_count": null,
   "id": "e7b47083",
   "metadata": {},
   "outputs": [],
   "source": []
  },
  {
   "cell_type": "code",
   "execution_count": 1,
   "id": "67c2f67c",
   "metadata": {},
   "outputs": [
    {
     "name": "stdout",
     "output_type": "stream",
     "text": [
      "['apple', 'banana', 'cherry', 'orange']\n"
     ]
    },
    {
     "data": {
      "text/plain": [
       "<list_iterator at 0x1abbd437160>"
      ]
     },
     "execution_count": 1,
     "metadata": {},
     "output_type": "execute_result"
    }
   ],
   "source": [
    "'''iterrator'''\n",
    "\n",
    "fruitsList = [\"apple\", \"banana\", \"cherry\", \"orange\"]\n",
    "print(fruitsList)\n",
    "\n"
   ]
  },
  {
   "cell_type": "code",
   "execution_count": 18,
   "id": "c41f45eb",
   "metadata": {},
   "outputs": [
    {
     "data": {
      "text/plain": [
       "'apple'"
      ]
     },
     "execution_count": 18,
     "metadata": {},
     "output_type": "execute_result"
    }
   ],
   "source": [
    "abc = iter(fruitsList)\n",
    "dir(abc)\n",
    "next(abc)\n"
   ]
  },
  {
   "cell_type": "code",
   "execution_count": 19,
   "id": "a6263117-4289-4bde-ab62-48c4292b3620",
   "metadata": {},
   "outputs": [
    {
     "data": {
      "text/plain": [
       "'banana'"
      ]
     },
     "execution_count": 19,
     "metadata": {},
     "output_type": "execute_result"
    }
   ],
   "source": [
    "'''filter'''\n",
    "\n",
    "'''filter(function, iterable)'''\n",
    "'find even number by using filer'\n",
    "\n",
    "numbers = [1, 2, 3, 4, 5, 6, 7, 8, 9, 10]\n",
    "\n",
    "def is_even(x):\n",
    "    if x % 2 == 0:\n",
    "        return x\n",
    "\n",
    "filter(is_even,numbers)    # iterator  Object\n"
   ]
  },
  {
   "cell_type": "code",
   "execution_count": null,
   "id": "87f2123c-8dce-461b-9dce-15c59513bdd2",
   "metadata": {},
   "outputs": [],
   "source": []
  },
  {
   "cell_type": "code",
   "execution_count": null,
   "id": "1709071f-4ae9-43ea-aecb-3a1eed47c22e",
   "metadata": {},
   "outputs": [],
   "source": []
  },
  {
   "cell_type": "code",
   "execution_count": 21,
   "id": "ad40fc6c",
   "metadata": {},
   "outputs": [
    {
     "name": "stdout",
     "output_type": "stream",
     "text": [
      "apple\n",
      "banana\n",
      "cherry\n",
      "orange\n"
     ]
    },
    {
     "ename": "StopIteration",
     "evalue": "",
     "output_type": "error",
     "traceback": [
      "\u001b[1;31m---------------------------------------------------------------------------\u001b[0m",
      "\u001b[1;31mStopIteration\u001b[0m                             Traceback (most recent call last)",
      "Cell \u001b[1;32mIn[21], line 6\u001b[0m\n\u001b[0;32m      4\u001b[0m \u001b[38;5;28mprint\u001b[39m(\u001b[38;5;28mnext\u001b[39m(abc))\n\u001b[0;32m      5\u001b[0m \u001b[38;5;28mprint\u001b[39m(\u001b[38;5;28mnext\u001b[39m(abc))\n\u001b[1;32m----> 6\u001b[0m \u001b[38;5;28mprint\u001b[39m(\u001b[38;5;28mnext\u001b[39m(abc))\n",
      "\u001b[1;31mStopIteration\u001b[0m: "
     ]
    }
   ],
   "source": [
    "\n",
    "abc = iter(fruitsList)\n",
    "print(next(abc))\n",
    "print(next(abc))\n",
    "print(next(abc))\n",
    "print(next(abc))\n",
    "print(next(abc))\n",
    "\n"
   ]
  },
  {
   "cell_type": "code",
   "execution_count": 6,
   "id": "8b88ed4b",
   "metadata": {},
   "outputs": [
    {
     "data": {
      "text/plain": [
       "<list_iterator at 0x14eeca3fd90>"
      ]
     },
     "execution_count": 6,
     "metadata": {},
     "output_type": "execute_result"
    }
   ],
   "source": [
    "iter(fruitsList)"
   ]
  },
  {
   "cell_type": "code",
   "execution_count": 30,
   "id": "bd9640bc",
   "metadata": {},
   "outputs": [
    {
     "data": {
      "text/plain": [
       "<str_ascii_iterator at 0x21525a49270>"
      ]
     },
     "execution_count": 30,
     "metadata": {},
     "output_type": "execute_result"
    }
   ],
   "source": [
    "iter(name)"
   ]
  },
  {
   "cell_type": "code",
   "execution_count": 31,
   "id": "290ecda1",
   "metadata": {},
   "outputs": [
    {
     "data": {
      "text/plain": [
       "<tuple_iterator at 0x2152677eaa0>"
      ]
     },
     "execution_count": 31,
     "metadata": {},
     "output_type": "execute_result"
    }
   ],
   "source": [
    "iter(cityTuple)"
   ]
  },
  {
   "cell_type": "code",
   "execution_count": null,
   "id": "1c2d0a1e",
   "metadata": {},
   "outputs": [],
   "source": [
    "dir(cityTuple)"
   ]
  },
  {
   "cell_type": "code",
   "execution_count": null,
   "id": "a57dc098",
   "metadata": {},
   "outputs": [],
   "source": []
  },
  {
   "cell_type": "code",
   "execution_count": 34,
   "id": "97f5c3f2",
   "metadata": {},
   "outputs": [
    {
     "name": "stdout",
     "output_type": "stream",
     "text": [
      "<filter object at 0x000002152677DB40>\n",
      "['__class__', '__delattr__', '__dir__', '__doc__', '__eq__', '__format__', '__ge__', '__getattribute__', '__getstate__', '__gt__', '__hash__', '__init__', '__init_subclass__', '__iter__', '__le__', '__lt__', '__ne__', '__new__', '__next__', '__reduce__', '__reduce_ex__', '__repr__', '__setattr__', '__sizeof__', '__str__', '__subclasshook__']\n",
      "2\n",
      "4\n",
      "6\n",
      "8\n"
     ]
    }
   ],
   "source": [
    "'''Apply Filter'''\n",
    "fruitsList = [1,2,3,4,5,6,7,8]\n",
    "def extractOnlyEvenNumber(i):\n",
    "    return i % 2 == 0\n",
    "\n",
    "abc = filter(extractOnlyEvenNumber,fruitsList)\n",
    "\n",
    "print(abc)\n",
    "print(dir(abc))\n",
    "\n",
    "for i in abc:\n",
    "    print(i)\n"
   ]
  },
  {
   "cell_type": "code",
   "execution_count": 37,
   "id": "c0a16f43",
   "metadata": {},
   "outputs": [
    {
     "name": "stdout",
     "output_type": "stream",
     "text": [
      "<map object at 0x0000021525A5B010>\n",
      "1\n",
      "4\n",
      "9\n",
      "16\n",
      "25\n",
      "36\n",
      "49\n",
      "64\n"
     ]
    }
   ],
   "source": [
    "'''Apply map'''\n",
    "\n",
    "numbers = [1,2,3,4,5,6,7,8]\n",
    "\n",
    "def squareOfAllNumbers(i):\n",
    "    return i ** 2\n",
    "\n",
    "abc = map(squareOfAllNumbers,numbers)\n",
    "print(abc)\n",
    "dir(abc)\n",
    "\n",
    "for i in abc:\n",
    "    print(i)\n",
    "\n",
    "for i in abc:\n",
    "    print(i)\n",
    "\n"
   ]
  },
  {
   "cell_type": "code",
   "execution_count": null,
   "id": "1d6776e3",
   "metadata": {},
   "outputs": [],
   "source": [
    "numbers = [1,2,3,4,5,6,7,8]\n",
    "\n",
    "numbers = list(iter(numbers))\n",
    "print(dir(numbers))\n",
    "for i in numbers:\n",
    "    print(i)\n",
    "    \n",
    "for i in numbers:\n",
    "    print(i)\n",
    "    "
   ]
  },
  {
   "cell_type": "code",
   "execution_count": null,
   "id": "ea8df407",
   "metadata": {},
   "outputs": [],
   "source": [
    "fruituple=(\"apple\", \"banana\", \"cherry\")\n",
    "myit = iter(fruituple)\n",
    "print(myit)\n",
    "print(dir(myit))\n",
    "print(next(myit))\n",
    "print(next(myit))\n",
    "print(next(myit))\n"
   ]
  },
  {
   "cell_type": "code",
   "execution_count": null,
   "id": "a3d0d46a",
   "metadata": {},
   "outputs": [],
   "source": [
    "mystr = \"banana\"\n",
    "myit = iter(mystr)\n",
    "print(myit)\n",
    "\n",
    "print(dir(myit))\n",
    "print(next(myit))\n",
    "print(next(myit))\n",
    "print(next(myit))\n",
    "print(next(myit))\n",
    "print(next(myit))\n",
    "print(next(myit))\n"
   ]
  },
  {
   "cell_type": "markdown",
   "id": "0152be40",
   "metadata": {},
   "source": [
    "# enumerate"
   ]
  },
  {
   "cell_type": "code",
   "execution_count": 39,
   "id": "8476b2d2",
   "metadata": {},
   "outputs": [
    {
     "name": "stdout",
     "output_type": "stream",
     "text": [
      "{0: 'apple', 1: 'banana', 2: 'cherry', 3: 'orange'}\n"
     ]
    }
   ],
   "source": [
    "fruitsList = [\"apple\", \"banana\", \"cherry\", \"orange\"]\n",
    "\n",
    "print(dict(enumerate(fruitsList)))\n"
   ]
  },
  {
   "cell_type": "code",
   "execution_count": 26,
   "id": "ccbaf25c-f00a-43c9-903d-b5db6b6dbb27",
   "metadata": {},
   "outputs": [
    {
     "name": "stdout",
     "output_type": "stream",
     "text": [
      "0 apple\n",
      "1 banana\n",
      "2 cherry\n",
      "3 orange\n"
     ]
    }
   ],
   "source": [
    "fruitsList = [\"apple\", \"banana\", \"cherry\", \"orange\"]\n",
    "\n",
    "for i,j in enumerate(fruitsList):\n",
    "    print(i,j)\n"
   ]
  },
  {
   "cell_type": "code",
   "execution_count": null,
   "id": "73c744ec-b18b-4e72-b995-edd88daac55f",
   "metadata": {},
   "outputs": [],
   "source": []
  },
  {
   "cell_type": "code",
   "execution_count": null,
   "id": "84447750-f78d-439d-8601-911f3be3e87c",
   "metadata": {},
   "outputs": [],
   "source": []
  },
  {
   "cell_type": "code",
   "execution_count": null,
   "id": "82fd29e5-8c53-47ce-9673-9d065854cabf",
   "metadata": {},
   "outputs": [],
   "source": []
  },
  {
   "cell_type": "code",
   "execution_count": 40,
   "id": "e7d2ff3e",
   "metadata": {},
   "outputs": [
    {
     "name": "stdout",
     "output_type": "stream",
     "text": [
      "[(0, 'apple'), (1, 'banana'), (2, 'cherry'), (3, 'orange')]\n"
     ]
    }
   ],
   "source": [
    "print(list(enumerate(fruitsList)))\n"
   ]
  },
  {
   "cell_type": "code",
   "execution_count": 41,
   "id": "e394073b",
   "metadata": {},
   "outputs": [
    {
     "name": "stdout",
     "output_type": "stream",
     "text": [
      "((0, 'apple'), (1, 'banana'), (2, 'cherry'), (3, 'orange'))\n"
     ]
    }
   ],
   "source": [
    "print(tuple(enumerate(fruitsList)))"
   ]
  },
  {
   "cell_type": "code",
   "execution_count": 49,
   "id": "e7c7e0ea",
   "metadata": {},
   "outputs": [
    {
     "name": "stdout",
     "output_type": "stream",
     "text": [
      "apple\n",
      "banana\n",
      "cherry\n",
      "orange\n"
     ]
    }
   ],
   "source": [
    "'''enumerate with List'''\n",
    "fruitsList = [\"apple\", \"banana\", \"cherry\", \"orange\"]\n",
    "\n",
    "for j,i in enumerate(fruitsList):\n",
    "    print(j,i)"
   ]
  },
  {
   "cell_type": "code",
   "execution_count": 51,
   "id": "7f474550",
   "metadata": {},
   "outputs": [
    {
     "name": "stdout",
     "output_type": "stream",
     "text": [
      "0 apple\n",
      "1 banana\n",
      "2 cherry\n",
      "3 orange\n"
     ]
    }
   ],
   "source": [
    "'''enumerate with Tuple'''\n",
    "\n",
    "fruitsTuple = (\"apple\", \"banana\", \"cherry\", \"orange\")\n",
    "for index, value in enumerate(fruitsTuple):\n",
    "    print(index, value)"
   ]
  },
  {
   "cell_type": "code",
   "execution_count": null,
   "id": "4db4deeb",
   "metadata": {},
   "outputs": [],
   "source": []
  },
  {
   "cell_type": "code",
   "execution_count": null,
   "id": "bf669ba6",
   "metadata": {},
   "outputs": [],
   "source": []
  },
  {
   "cell_type": "code",
   "execution_count": null,
   "id": "d7721a8e",
   "metadata": {},
   "outputs": [],
   "source": []
  }
 ],
 "metadata": {
  "kernelspec": {
   "display_name": "Python 3 (ipykernel)",
   "language": "python",
   "name": "python3"
  },
  "language_info": {
   "codemirror_mode": {
    "name": "ipython",
    "version": 3
   },
   "file_extension": ".py",
   "mimetype": "text/x-python",
   "name": "python",
   "nbconvert_exporter": "python",
   "pygments_lexer": "ipython3",
   "version": "3.11.7"
  }
 },
 "nbformat": 4,
 "nbformat_minor": 5
}
