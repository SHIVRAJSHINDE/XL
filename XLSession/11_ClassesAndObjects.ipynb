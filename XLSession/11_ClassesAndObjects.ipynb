{
 "cells": [
  {
   "cell_type": "code",
   "execution_count": null,
   "id": "8f1c8716",
   "metadata": {},
   "outputs": [],
   "source": [
    "class Vehicle:\n",
    "    def get_info(self,make, model, year,county):\n",
    "        return year, make, model, county\n",
    "\n",
    "    def drive(self,make, model, year,county):\n",
    "        return make + \" \" + model + \" Can Drive\"\n",
    "\n",
    "car = Vehicle()\n",
    "\n",
    "details = car.drive(\"TATA\",\"Punch\",2023,\"India\")\n",
    "print(details)\n",
    "car.get_info(\"TATA\",\"Punch\",2023,\"India\")\n"
   ]
  },
  {
   "cell_type": "code",
   "execution_count": null,
   "id": "8a569bc9-5133-4c8d-b610-8e29002a8ad8",
   "metadata": {},
   "outputs": [],
   "source": [
    "class vehicle:\n",
    "    def nameOfFuction(self):\n",
    "        #Variable\n",
    "        #LogicalStructure\n",
    "        #return\n",
    "        #print\n",
    "\n",
    "\n"
   ]
  },
  {
   "cell_type": "code",
   "execution_count": null,
   "id": "0f5873c9-5cef-4453-8e96-8378ca7e89e3",
   "metadata": {},
   "outputs": [],
   "source": [
    "class vehicle:\n",
    "    def __int__():\n",
    "        #data or Variable\n",
    "    def nameOfFuction(self):\n",
    "        #Variable\n",
    "        #LogicalStructure\n",
    "        #return\n",
    "        #print\n",
    "\n",
    "carOne = Vehicle()\n",
    "carOne.nameOfFuction()"
   ]
  },
  {
   "cell_type": "code",
   "execution_count": null,
   "id": "8a015154-0a23-48d3-8ec8-2ecc5ab8a519",
   "metadata": {},
   "outputs": [],
   "source": [
    "class Vehicle:\n",
    "    def get_info(self):\n",
    "        self.make=\"Tata\"\n",
    "        self.kmPHr=140 \n",
    "\n",
    "    def drive(self):\n",
    "        print(self.make,\"CAN DRIVE\",self.kmPHr) \n",
    "\n",
    "    def xyx(self):\n",
    "        print(self.kmPHr*2)\n",
    "\n",
    "\n",
    "car = Vehicle()\n",
    "#car.get_info()\n",
    "car.drive()\n",
    "\n"
   ]
  },
  {
   "cell_type": "code",
   "execution_count": null,
   "id": "ba9b89a2",
   "metadata": {},
   "outputs": [],
   "source": [
    "class Vehicle:\n",
    "    def __init__(self):\n",
    "        self.make=\"Tata\"\n",
    "        self.kmPHr=140 \n",
    "\n",
    "    def drive(self):\n",
    "        print(self.make,\"CAN DRIVE\",self.kmPHr) \n",
    "\n",
    "    def xyx(self):\n",
    "        print(self.kmPHr*2)\n",
    "\n",
    "\n",
    "car = Vehicle()\n",
    "car.drive()\n"
   ]
  },
  {
   "cell_type": "code",
   "execution_count": null,
   "id": "f7695cf6-b13b-494b-ba1b-fbf23288542a",
   "metadata": {},
   "outputs": [],
   "source": [
    "class Vehicle:\n",
    "    def __init__(self,make,kmPHr):\n",
    "        self.make=make\n",
    "        self.kmPHr=kmPHr \n",
    "\n",
    "    def drive(self):\n",
    "        print(self.make,\"CAN DRIVE\",self.kmPHr) \n",
    "\n",
    "    def xyx(self):\n",
    "        print(self.kmPHr*2)\n",
    "\n",
    "\n",
    "car = Vehicle(\"TATA\",140)\n",
    "car.drive()\n"
   ]
  },
  {
   "cell_type": "code",
   "execution_count": null,
   "id": "0f84d1a1-2d42-4000-a068-fee9fd982581",
   "metadata": {},
   "outputs": [],
   "source": [
    "class Vehicle:\n",
    "    def __init__(self,make,kmPHr):\n",
    "        self.make=make\n",
    "        self.kmPHr=kmPHr \n",
    "\n",
    "    def drive(self):\n",
    "        print(self.make,\"CAN DRIVE at\",self.kmPHr) \n",
    "\n",
    "car = Vehicle(\"Tata\",140)\n",
    "car.drive()\n"
   ]
  },
  {
   "cell_type": "code",
   "execution_count": null,
   "id": "91fde6dd-85da-4db8-93e6-67aec0cfad6d",
   "metadata": {},
   "outputs": [],
   "source": [
    "car1 = Vehicle(\"Tyota\",140)\n",
    "car.drive()\n"
   ]
  },
  {
   "cell_type": "code",
   "execution_count": null,
   "id": "4856d14e",
   "metadata": {},
   "outputs": [],
   "source": [
    "car2 = Vehicle(\"Honda\",180)\n",
    "car.drive()\n"
   ]
  },
  {
   "cell_type": "code",
   "execution_count": null,
   "id": "cc43c307",
   "metadata": {},
   "outputs": [],
   "source": [
    "car = Vehicle(\"Suzuki\",120)\n",
    "car.drive()\n"
   ]
  },
  {
   "cell_type": "code",
   "execution_count": null,
   "id": "add3557e",
   "metadata": {},
   "outputs": [],
   "source": []
  },
  {
   "cell_type": "code",
   "execution_count": null,
   "id": "29552615",
   "metadata": {},
   "outputs": [],
   "source": [
    "class Vehicle:\n",
    "    def __init__(self, make, model, year):\n",
    "        self.make = make\n",
    "        self.model = model\n",
    "        self.year = year\n",
    "\n",
    "    def get_info(self):\n",
    "        return self.year, self.make, self.model\n",
    "\n",
    "    def getPerformance(self):\n",
    "        if self.model==\"Punch\":\n",
    "            return self.make + \" \" + self.model + \" can travel up to 100km/h\"\n",
    "        else :\n",
    "            return self.make + \" \" + self.model + \" can travel up to 120km/h\"\n",
    "\n",
    "car1 = Vehicle(\"Tata\", \"Punch\", 2022)\n",
    "\n",
    "car1.getPerformance()\n"
   ]
  },
  {
   "cell_type": "code",
   "execution_count": null,
   "id": "4e3cb015",
   "metadata": {},
   "outputs": [],
   "source": [
    "car = Vehicle(\"Tata\", \"Punch\", 2022)\n",
    "car.getTravelPerformance()\n"
   ]
  },
  {
   "cell_type": "code",
   "execution_count": null,
   "id": "d2819441",
   "metadata": {},
   "outputs": [],
   "source": [
    "# A)Public : Can be Access by any function in any class.\n",
    "\n",
    "class parentClass:\n",
    "    def __init__(self):\n",
    "        self.variable = \"Public Variable\"\n",
    "    def methodOne(self):\n",
    "        return self.variable\n",
    "\n",
    "  \n",
    "parentOBJ = parentClass()\n",
    "\n",
    "parentOBJ.variable\n",
    "parentOBJ.methodOne()\n"
   ]
  },
  {
   "cell_type": "code",
   "execution_count": null,
   "id": "d3f7aea7",
   "metadata": {},
   "outputs": [],
   "source": []
  },
  {
   "cell_type": "code",
   "execution_count": null,
   "id": "81c750a9",
   "metadata": {},
   "outputs": [],
   "source": [
    "'''Protected'''\n",
    "\n",
    "class parentClass:\n",
    "    def __init__(self):\n",
    "        self._variable = \"Private Variable\"\n",
    "\n",
    "    def parentmethodOne(self):\n",
    "        return self._variable\n",
    "    \n",
    "class childClass(parentClass):\n",
    "    def __init__(self):\n",
    "        super().__init__()\n",
    "\n",
    "    def methodOne(self):\n",
    "        return self._variable\n",
    "\n",
    "    \n"
   ]
  },
  {
   "cell_type": "code",
   "execution_count": null,
   "id": "834b17cc-5119-43cf-be7f-b500cc4e37f4",
   "metadata": {},
   "outputs": [],
   "source": [
    "# Same Class\n",
    "parentClassOBJ = parentClass()\n",
    "print(parentClassOBJ._variable)\n",
    "print(parentClassOBJ.parentmethodOne())\n"
   ]
  },
  {
   "cell_type": "code",
   "execution_count": null,
   "id": "585bed05",
   "metadata": {},
   "outputs": [],
   "source": [
    "childClassOBJ = childClass()\n",
    "print(childClassOBJ.methodOne())\n"
   ]
  },
  {
   "cell_type": "code",
   "execution_count": null,
   "id": "6a862e29",
   "metadata": {},
   "outputs": [],
   "source": []
  },
  {
   "cell_type": "code",
   "execution_count": null,
   "id": "d835d0fa",
   "metadata": {},
   "outputs": [],
   "source": []
  },
  {
   "cell_type": "code",
   "execution_count": null,
   "id": "131609cc",
   "metadata": {},
   "outputs": [],
   "source": []
  },
  {
   "cell_type": "code",
   "execution_count": null,
   "id": "6b4ef22f",
   "metadata": {},
   "outputs": [],
   "source": [
    "# C) Private: Can be accessed only by same class.\n",
    "class MyClass:\n",
    "    def __init__(self):\n",
    "        self.__private_variable = \"I am private\"\n",
    "\n",
    "    def get_private_variable(self):\n",
    "        return self.__private_variable\n",
    "\n",
    "\n",
    "class childClass(MyClass):\n",
    "    def __init__(self):\n",
    "        super().__init__()\n",
    "\n",
    "    def methodOne(self):\n",
    "        return self.__private_variable\n",
    "\n",
    "\n",
    "myclassObj = MyClass()\n",
    "myclassObj.get_private_variable()\n"
   ]
  },
  {
   "cell_type": "code",
   "execution_count": null,
   "id": "ca3f7446-3daa-4322-9472-0dfbaf69ee73",
   "metadata": {},
   "outputs": [],
   "source": [
    "childClassOBJ = childClass()\n",
    "print(childClassOBJ.methodOne())\n"
   ]
  },
  {
   "cell_type": "markdown",
   "id": "cb78b4c0",
   "metadata": {},
   "source": [
    "# inheritance "
   ]
  },
  {
   "cell_type": "code",
   "execution_count": null,
   "id": "e1fa01a4",
   "metadata": {},
   "outputs": [],
   "source": [
    "# Single Inheritacnce\n",
    "class Father:\n",
    "    def fatherMethod(self):\n",
    "        return \"fatherMethod1 1 I have Blue Eyes\"\n",
    "\n",
    "      \n",
    "class Child(Father):\n",
    "    def childMethod(self):\n",
    "        return \"childMethod Blue Eyes\"\n",
    "\n",
    "\n",
    "childOBJ = Child()\n",
    "\n",
    "childOBJ.childMethod()\n",
    "childOBJ.fatherMethod()\n",
    "\n"
   ]
  },
  {
   "cell_type": "code",
   "execution_count": null,
   "id": "ef6a3ead-54f5-43d0-9283-2ea21203b9df",
   "metadata": {},
   "outputs": [],
   "source": [
    "class granParentClass:\n",
    "    inner structure\n",
    "\n",
    "\n",
    "class parentClass(granParentClass):\n",
    "    inner structure\n",
    "    \n",
    "class childClass(parentClass):\n",
    "    inner Strucure\n",
    "    "
   ]
  },
  {
   "cell_type": "code",
   "execution_count": null,
   "id": "e1f33e6e-a059-4379-a7e3-8a98cc960264",
   "metadata": {},
   "outputs": [],
   "source": [
    "\n",
    "#Miltilevel Inheritance\n",
    "\n",
    "# parent\n",
    "class Grandparent:\n",
    "    def Grandparentmethod(self):\n",
    "        print(\"Method 1 my Propery of 100Cr\")\n",
    "\n",
    "# parent\n",
    "class Parent(Grandparent):\n",
    "    def Parentmethod(self):\n",
    "        print(\"Method 2 Propery of 50Cr\")\n",
    "# child\n",
    "class Child(Parent):\n",
    "    def Childmethod(self):\n",
    "        print(\"Method 3 I Propery is of 1Cr\")\n",
    "\n",
    "\n",
    "pratenObj = Parent()\n",
    "pratenObj.Parentmethod()\n",
    "pratenObj.Grandparentmethod()\n",
    "pratenObj.Childmethod()\n"
   ]
  },
  {
   "cell_type": "code",
   "execution_count": null,
   "id": "c6e82ff9-94cd-4e47-93af-8937a81b19a6",
   "metadata": {},
   "outputs": [],
   "source": [
    "\n",
    "\n",
    "class mohterClass:\n",
    "    inner structure\n",
    "\n",
    "class FatherClass():\n",
    "    inner structure\n",
    "    \n",
    "class childClass(mohterClass,FatherClass):\n",
    "    inner Strucure\n",
    "    \n",
    "\n",
    "\n",
    "\n",
    "\n",
    "\n",
    "\n",
    "\n",
    "\n",
    "\n",
    "\n",
    "\n",
    "\n",
    "\n"
   ]
  },
  {
   "cell_type": "code",
   "execution_count": 1,
   "id": "c682962b",
   "metadata": {},
   "outputs": [
    {
     "name": "stdout",
     "output_type": "stream",
     "text": [
      "childMethod3 3 I brown hairs\n",
      "fatherMethod1 1 I have Blue Eyes\n",
      "motherMethod2 2 I have long Nose\n"
     ]
    }
   ],
   "source": [
    "# Miltiple Inheritance\n",
    "\n",
    "class Father:\n",
    "    def fatherMethod1(self):\n",
    "        print(\"fatherMethod1 1 I have Blue Eyes\")\n",
    "\n",
    "class Mother:\n",
    "    def motherMethod2(self):\n",
    "        print(\"motherMethod2 2 I have long Nose\")\n",
    "        \n",
    "class Child(Father, Mother):\n",
    "    def childMethod3(self):\n",
    "        print(\"childMethod3 3 I brown hairs\")\n",
    "\n",
    "\n",
    "\n",
    "childOBJ02 = Child()\n",
    "childOBJ02.childMethod3()\n",
    "childOBJ02.fatherMethod1()\n",
    "childOBJ02.motherMethod2()\n"
   ]
  },
  {
   "cell_type": "code",
   "execution_count": 2,
   "id": "2280242b",
   "metadata": {},
   "outputs": [
    {
     "name": "stdout",
     "output_type": "stream",
     "text": [
      "motherMethod2 2 I have long Nose\n"
     ]
    }
   ],
   "source": [
    "motherObj = Mother()\n",
    "motherObj.motherMethod2()\n"
   ]
  },
  {
   "cell_type": "markdown",
   "id": "be73bca7",
   "metadata": {},
   "source": [
    "# Polymorphism:"
   ]
  },
  {
   "cell_type": "markdown",
   "id": "e78b7570-cc9b-4382-b5f1-f5d285b820c2",
   "metadata": {},
   "source": [
    "# Method overloading"
   ]
  },
  {
   "cell_type": "code",
   "execution_count": 5,
   "id": "0bb4cccf",
   "metadata": {},
   "outputs": [
    {
     "data": {
      "text/plain": [
       "5"
      ]
     },
     "execution_count": 5,
     "metadata": {},
     "output_type": "execute_result"
    }
   ],
   "source": [
    "'''Method overloading'''\n",
    "\n",
    "class MyClass:\n",
    "    def my_method1(self, a, b):\n",
    "        return a + b\n",
    "        \n",
    "    def my_method2(self, a,b,c):\n",
    "        return a + a + c\n",
    "\n",
    "    def my_method3(self, a,b,c,d):\n",
    "        return a + a + c + d\n",
    "\n",
    "\n",
    "obj = MyClass()\n",
    "obj.my_method1(1,2)\n",
    "obj.my_method2(1,2,3)\n"
   ]
  },
  {
   "cell_type": "code",
   "execution_count": null,
   "id": "468df3b1-13ee-47b3-aeb0-3edf03686119",
   "metadata": {},
   "outputs": [],
   "source": []
  },
  {
   "cell_type": "code",
   "execution_count": null,
   "id": "f41763de-40b3-4147-844b-17ce26c682e2",
   "metadata": {},
   "outputs": [],
   "source": []
  },
  {
   "cell_type": "code",
   "execution_count": null,
   "id": "7b70972a-29e5-4596-a9d4-d505034edb6d",
   "metadata": {},
   "outputs": [],
   "source": []
  },
  {
   "cell_type": "code",
   "execution_count": null,
   "id": "1394165b-55e3-435a-8bbf-a2ae665d767e",
   "metadata": {},
   "outputs": [],
   "source": []
  },
  {
   "cell_type": "code",
   "execution_count": null,
   "id": "e48b74e7-ab50-4a74-8de9-b04fea6c1101",
   "metadata": {},
   "outputs": [],
   "source": []
  },
  {
   "cell_type": "code",
   "execution_count": null,
   "id": "8ebf8e3c-4297-46ad-a65b-e357a5fc1d00",
   "metadata": {},
   "outputs": [],
   "source": [
    "'''Method overloading'''\n",
    "\n",
    "class MyClass:\n",
    "    def my_method1(self, a, b):\n",
    "        return a + b\n",
    "        \n",
    "    def my_method2(self, a,b,c):\n",
    "        return a + a + c\n",
    "\n",
    "    def my_method3(self, a,b,c,d):\n",
    "        return a + a + c + d\n",
    "obj = MyClass()\n",
    "obj.my_method1(1,2)\n",
    "obj.my_method2(1,2,3)\n"
   ]
  },
  {
   "cell_type": "code",
   "execution_count": 8,
   "id": "369f9f31-b5b8-4800-8b5c-77388cdeceeb",
   "metadata": {},
   "outputs": [
    {
     "name": "stdout",
     "output_type": "stream",
     "text": [
      "10\n"
     ]
    }
   ],
   "source": [
    "# Method Overloading\n",
    "# mehod One\n",
    "class MyClass:\n",
    "    def my_method(self, a, b=None, c=None, d=None):\n",
    "\n",
    "        if b is not None and c is not None and d is not None:\n",
    "            return a + b + c + d\n",
    "        elif b is not None and c is not None:\n",
    "            return a + b + c\n",
    "        elif b is not None:\n",
    "            return a + b\n",
    "        else:\n",
    "            return a\n",
    "\n",
    "# Create an instance of MyClass\n",
    "obj = MyClass()\n",
    "print(obj.my_method(1,2,3,4))\n",
    "\n"
   ]
  },
  {
   "cell_type": "code",
   "execution_count": 19,
   "id": "4e415102-8f9b-4531-8a24-18e28ce63bd3",
   "metadata": {},
   "outputs": [
    {
     "name": "stdout",
     "output_type": "stream",
     "text": [
      "20\n"
     ]
    }
   ],
   "source": [
    "# Option two\n",
    "\n",
    "# (*arg) positiona arbiraty argument\n",
    "\n",
    "class MyClass:\n",
    "    def my_method(self, *args):\n",
    "        # print(len(args))\n",
    "        if len(args) == 4:\n",
    "            return args[0] + args[1] + args[2] + args[3]\n",
    "        elif len(args) == 3:\n",
    "            return args[0] + args[1] + args[2]\n",
    "        elif len(args) == 2:\n",
    "            return args[0] + args[1]\n",
    "        elif len(args) == 1:\n",
    "            return args[0]\n",
    "        else:\n",
    "            return \"it accepts argument from 1 to 4\"\n",
    "\n",
    "# Create an instance of MyClass\n",
    "obj = MyClass()\n",
    "print(obj.my_method(1,2,13,4))            # Output: 1\n"
   ]
  },
  {
   "cell_type": "code",
   "execution_count": null,
   "id": "027ec180",
   "metadata": {},
   "outputs": [],
   "source": [
    "\n",
    "obj.my_method(1, 2)    # a and b provided: 1 2\n",
    "obj.my_method(1, 2, 3) # All arguments provided: 1 2 3\n"
   ]
  },
  {
   "cell_type": "markdown",
   "id": "89562108-92ac-4b2c-8dd6-f9cf774d851b",
   "metadata": {},
   "source": [
    "# Method overridding "
   ]
  },
  {
   "cell_type": "code",
   "execution_count": 20,
   "id": "2b60163f-63e0-4233-a5c1-0cae8c26dd9f",
   "metadata": {},
   "outputs": [
    {
     "name": "stdout",
     "output_type": "stream",
     "text": [
      "The dog barks\n"
     ]
    }
   ],
   "source": [
    "class Animal:\n",
    "    def speak(self):\n",
    "        print(\"The animal makes a sound\")\n",
    "\n",
    "class Dog(Animal):\n",
    "    def speak(self):\n",
    "        print(\"The dog barks\")\n",
    "\n",
    "# Create an instance of Dog and call the speak method\n",
    "dog = Dog()\n",
    "\n",
    "dog.speak()\n"
   ]
  },
  {
   "cell_type": "code",
   "execution_count": 24,
   "id": "17af3ca2",
   "metadata": {},
   "outputs": [
    {
     "name": "stdout",
     "output_type": "stream",
     "text": [
      "6\n"
     ]
    }
   ],
   "source": [
    "class calculation1:\n",
    "    def calc(self,a,b):\n",
    "        print(a+b)\n",
    "\n",
    "class calculation2(calculation1):\n",
    "    def calc(self,a,b):\n",
    "        print(a*b)\n",
    "\n",
    "callc02 = calculation2()\n",
    "callc02.calc(2,3)\n"
   ]
  },
  {
   "cell_type": "code",
   "execution_count": 23,
   "id": "2ed8c252",
   "metadata": {},
   "outputs": [
    {
     "name": "stdout",
     "output_type": "stream",
     "text": [
      "5\n"
     ]
    }
   ],
   "source": [
    "callc01 = calculation1()\n",
    "callc01.calc(2,3)\n"
   ]
  },
  {
   "cell_type": "code",
   "execution_count": null,
   "id": "f3b1e6fd-c81f-4448-849e-9120a153bccd",
   "metadata": {},
   "outputs": [],
   "source": [
    "class Animal:\n",
    "    def speak(self):\n",
    "        print(\"The animal makes a sound\")\n",
    "\n",
    "class Dog(Animal):\n",
    "    def speak(self):\n",
    "        print(\"The dog barks\")\n",
    "\n",
    "# Create an instance of Dog and call the speak method\n",
    "dog = Dog()\n",
    "\n",
    "dog.speak()\n"
   ]
  },
  {
   "cell_type": "code",
   "execution_count": 25,
   "id": "780aaaf9",
   "metadata": {},
   "outputs": [
    {
     "name": "stdout",
     "output_type": "stream",
     "text": [
      "The animal makes a sound\n",
      "The dog barks\n"
     ]
    }
   ],
   "source": [
    "'''Method Overloading using super keyword'''\n",
    "\n",
    "class Animal:\n",
    "    def speak(self):\n",
    "        print(\"The animal makes a sound\")\n",
    "\n",
    "class Dog(Animal):\n",
    "    def speak(self):\n",
    "        super().speak()  # Call the speak method from the superclass\n",
    "        print(\"The dog barks\")\n",
    "\n",
    "# Create an instance of Dog and call the speak method\n",
    "dog = Dog()\n",
    "dog.speak()\n"
   ]
  },
  {
   "cell_type": "code",
   "execution_count": null,
   "id": "658d04de-6818-450c-9a90-2957aba08237",
   "metadata": {},
   "outputs": [],
   "source": []
  },
  {
   "cell_type": "code",
   "execution_count": null,
   "id": "059c69bd-87ec-4b54-9e16-1cc976faf5f4",
   "metadata": {},
   "outputs": [],
   "source": []
  },
  {
   "cell_type": "code",
   "execution_count": null,
   "id": "437eeace-4f1a-4ac3-aa3f-a5fc889bb485",
   "metadata": {},
   "outputs": [],
   "source": []
  },
  {
   "cell_type": "code",
   "execution_count": null,
   "id": "2ac1c3a9-cb51-4a93-88d4-534732e92249",
   "metadata": {},
   "outputs": [],
   "source": []
  },
  {
   "cell_type": "code",
   "execution_count": null,
   "id": "4587c338-1a0d-42a4-b263-5a9c13e3aaa3",
   "metadata": {},
   "outputs": [],
   "source": []
  },
  {
   "cell_type": "code",
   "execution_count": null,
   "id": "3f0551c0-f6f6-49e7-8a03-baf7092388d1",
   "metadata": {},
   "outputs": [],
   "source": []
  },
  {
   "cell_type": "code",
   "execution_count": null,
   "id": "d198c7fd-8b1c-4960-8ea7-d08cd0bdf455",
   "metadata": {},
   "outputs": [],
   "source": []
  },
  {
   "cell_type": "code",
   "execution_count": null,
   "id": "ad250d29-0bab-4c07-85a6-2930d5a74cdd",
   "metadata": {},
   "outputs": [],
   "source": []
  },
  {
   "cell_type": "code",
   "execution_count": null,
   "id": "e5803913-e0b0-4eed-810e-fe55d5464e95",
   "metadata": {},
   "outputs": [],
   "source": []
  },
  {
   "cell_type": "code",
   "execution_count": null,
   "id": "3e59efdf-311b-4982-ba18-3361f8efa376",
   "metadata": {},
   "outputs": [],
   "source": []
  },
  {
   "cell_type": "code",
   "execution_count": null,
   "id": "a30f8ee6-87ad-41d1-a82c-8d856e2f464a",
   "metadata": {},
   "outputs": [],
   "source": []
  },
  {
   "cell_type": "code",
   "execution_count": null,
   "id": "8355c866-7863-45c0-a637-8b658784f383",
   "metadata": {},
   "outputs": [],
   "source": []
  },
  {
   "cell_type": "code",
   "execution_count": null,
   "id": "561adddf-80b7-4e26-80af-2a086aab5afc",
   "metadata": {},
   "outputs": [],
   "source": []
  },
  {
   "cell_type": "code",
   "execution_count": null,
   "id": "c9248311-9822-40bc-8680-9945af737a0b",
   "metadata": {},
   "outputs": [],
   "source": []
  },
  {
   "cell_type": "code",
   "execution_count": null,
   "id": "c1350c18",
   "metadata": {},
   "outputs": [],
   "source": [
    "'''__str__ Method'''\n",
    "\n",
    "class MyClass:\n",
    "    def __init__(self, value):\n",
    "        self.value = value\n",
    "\n",
    "\n",
    "obj = MyClass(42)\n",
    "\n",
    "\n",
    "print(obj)  \n"
   ]
  },
  {
   "cell_type": "code",
   "execution_count": null,
   "id": "71559240",
   "metadata": {},
   "outputs": [],
   "source": [
    "'''__str__ Method'''\n",
    "\n",
    "class MyClass:\n",
    "    def __init__(self, value):\n",
    "        self.value = value\n",
    "\n",
    "    def __str__(self):\n",
    "        return f\"{self.value}\"\n",
    "\n",
    "\n",
    "obj = MyClass(42)\n",
    "\n",
    "print(str(obj))\n"
   ]
  },
  {
   "cell_type": "code",
   "execution_count": null,
   "id": "3354552b-e82f-4056-b6e4-ce3ee836dd68",
   "metadata": {},
   "outputs": [],
   "source": []
  }
 ],
 "metadata": {
  "kernelspec": {
   "display_name": "Python 3 (ipykernel)",
   "language": "python",
   "name": "python3"
  },
  "language_info": {
   "codemirror_mode": {
    "name": "ipython",
    "version": 3
   },
   "file_extension": ".py",
   "mimetype": "text/x-python",
   "name": "python",
   "nbconvert_exporter": "python",
   "pygments_lexer": "ipython3",
   "version": "3.11.7"
  }
 },
 "nbformat": 4,
 "nbformat_minor": 5
}
