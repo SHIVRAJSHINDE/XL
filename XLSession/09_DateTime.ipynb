{
 "cells": [
  {
   "cell_type": "code",
   "execution_count": 4,
   "id": "363c6bfd",
   "metadata": {},
   "outputs": [
    {
     "name": "stdout",
     "output_type": "stream",
     "text": [
      "<class 'datetime.datetime'>\n"
     ]
    }
   ],
   "source": [
    "'''datetime'''\n",
    "\n",
    "'''\n",
    "In Python, the datetime module provides classes for working with dates and times. \n",
    "It allows you to create, manipulate, format, and represent dates and times in a variety of ways. \n",
    "Here's a overview of how to use the datetime module:\n",
    "'''\n",
    "\n",
    "import datetime\n",
    "x = datetime.datetime(2024, 6, 1)\n",
    "\n",
    "print(type(x))\n"
   ]
  },
  {
   "cell_type": "code",
   "execution_count": 3,
   "id": "d9687c1b-0889-44a8-9508-7fd7d23cbefe",
   "metadata": {},
   "outputs": [
    {
     "name": "stdout",
     "output_type": "stream",
     "text": [
      "<class 'int'>\n",
      "<class 'int'>\n"
     ]
    }
   ],
   "source": [
    "\n",
    "print(type(x.month))\n",
    "print(type(x.day))\n"
   ]
  },
  {
   "cell_type": "code",
   "execution_count": null,
   "id": "807c5ab3-8ef3-4e13-b1fb-bbdaa4ef2848",
   "metadata": {},
   "outputs": [],
   "source": [
    "#print YEAR\n",
    "x.year\n"
   ]
  },
  {
   "cell_type": "code",
   "execution_count": null,
   "id": "f378178e-034a-47bf-95c9-d38fb37d7fc2",
   "metadata": {},
   "outputs": [],
   "source": [
    "# PRINT MONTH\n",
    "x.month\n",
    "\n"
   ]
  },
  {
   "cell_type": "code",
   "execution_count": null,
   "id": "298e048f-b23e-4362-9b89-e8025507f1e2",
   "metadata": {},
   "outputs": [],
   "source": [
    "#PRINT DAY\n",
    "x.day\n"
   ]
  },
  {
   "cell_type": "code",
   "execution_count": null,
   "id": "5a66e776-d2b5-467c-96f6-2d3a4b90185f",
   "metadata": {},
   "outputs": [],
   "source": []
  },
  {
   "cell_type": "code",
   "execution_count": 5,
   "id": "c55e8b15",
   "metadata": {},
   "outputs": [
    {
     "name": "stdout",
     "output_type": "stream",
     "text": [
      "2024-06-01 11:32:29.116486\n"
     ]
    }
   ],
   "source": [
    "import datetime\n",
    "\n",
    "# Create instances of each class\n",
    "current_datetime = datetime.datetime.now()\n",
    "\n",
    "print(current_datetime)\n"
   ]
  },
  {
   "cell_type": "code",
   "execution_count": 6,
   "id": "3d79c0db",
   "metadata": {},
   "outputs": [
    {
     "name": "stdout",
     "output_type": "stream",
     "text": [
      "2024-06-01\n"
     ]
    }
   ],
   "source": [
    "# Print current date\n",
    "current_date = datetime.date.today()\n",
    "print(current_date)\n"
   ]
  },
  {
   "cell_type": "code",
   "execution_count": 7,
   "id": "c0ca73dc",
   "metadata": {},
   "outputs": [
    {
     "name": "stdout",
     "output_type": "stream",
     "text": [
      "11:32:41.392110\n"
     ]
    }
   ],
   "source": [
    "#Print Current Time\n",
    "current_time = datetime.datetime.now().time()\n",
    "print(current_time)\n"
   ]
  },
  {
   "cell_type": "code",
   "execution_count": null,
   "id": "b6ca2085",
   "metadata": {},
   "outputs": [],
   "source": []
  },
  {
   "cell_type": "code",
   "execution_count": null,
   "id": "adeaca3e",
   "metadata": {},
   "outputs": [],
   "source": []
  },
  {
   "cell_type": "code",
   "execution_count": null,
   "id": "dc3f7c2f",
   "metadata": {},
   "outputs": [],
   "source": []
  },
  {
   "cell_type": "code",
   "execution_count": 10,
   "id": "57057eeb",
   "metadata": {},
   "outputs": [
    {
     "name": "stdout",
     "output_type": "stream",
     "text": [
      "Sat\n",
      "Saturday\n",
      "6\n",
      "01\n",
      "Jun\n",
      "June\n",
      "06\n",
      "24\n",
      "2024\n",
      "2024-06-01\n"
     ]
    }
   ],
   "source": [
    "x = datetime.datetime.now()\n",
    "\n",
    "\n",
    "print(x.strftime(\"%a\"))                    #    Weekday, short version  \t\t\t\t(Sat)  \n",
    "print(x.strftime(\"%A\"))                    #    Weekday, full version  \t\t\t\t    (Saturday)  \n",
    "print(x.strftime(\"%w\"))                    #    Weekday as a number 0-6, 0 is Sunday  \t(6)  \n",
    "print(x.strftime(\"%d\"))                    #    Day of month 01-31  \t\t\t\t    (1)  \n",
    "print(x.strftime(\"%b\"))                    #    Month name, short version  \t\t\t    (Jun)  \n",
    "print(x.strftime(\"%B\"))                    #    Month name, full version  \t\t\t\t(June)  \n",
    "print(x.strftime(\"%m\"))                    #    Month as a number 01-12  \t\t\t    (6)  \n",
    "print(x.strftime(\"%y\"))                    #    Year, short version, without century  \t(24)  \n",
    "print(x.strftime(\"%Y\"))                    #    Year, full version  \t\t\t\t\t(2024)  \n",
    "\n",
    "print(x.strftime(\"%Y/%m/%d\"))              #    Date, full version  \t\t\t\t\t(2024:06:01)  \n"
   ]
  },
  {
   "cell_type": "code",
   "execution_count": 11,
   "id": "261ca2b8",
   "metadata": {},
   "outputs": [
    {
     "name": "stdout",
     "output_type": "stream",
     "text": [
      "11\n",
      "11\n",
      "AM\n",
      "34\n",
      "19\n",
      "556802\n",
      "\n",
      "\n"
     ]
    }
   ],
   "source": [
    "print(x.strftime(\"%H\"))                    #    Hour 00-23  \t\t\t\t\t(0)  \n",
    "print(x.strftime(\"%I\"))                    #    Hour 00-12  \t\t\t\t\t(12)  \n",
    "print(x.strftime(\"%p\"))                    #    AM/PM  \t\t\t\t\t\t    (AM)  \n",
    "\n",
    "print(x.strftime(\"%M\"))                    #    Minute 00-59  \t\t\t\t\t(0)  \n",
    "print(x.strftime(\"%S\"))                    #    Second 00-59  \t\t\t\t\t(0)  \n",
    "print(x.strftime(\"%f\"))                    #    Microsecond 000000-999999  \t\t(0)  \n",
    "print(x.strftime(\"%z\"))                    #    UTC offset  \t\t\t\t\t()  \n",
    "print(x.strftime(\"%Z\"))                    #    Timezone  \t\t\t\t\t\t()  \n"
   ]
  },
  {
   "cell_type": "code",
   "execution_count": 12,
   "id": "75c7458d",
   "metadata": {},
   "outputs": [
    {
     "name": "stdout",
     "output_type": "stream",
     "text": [
      "153\n",
      "21\n",
      "22\n",
      "Sat Jun  1 11:34:19 2024\n",
      "20\n",
      "06/01/24\n"
     ]
    }
   ],
   "source": [
    "print(x.strftime(\"%j\"))                    #    Day number of year 001-366  \t\t\t(153)  \n",
    "print(x.strftime(\"%U\"))                    #    Week number of year, Sunday as the first day of week, 00-53  (21)  \n",
    "print(x.strftime(\"%W\"))                    #    Week number of year, Monday as the first day of week, 00-53  (22)  \n",
    "print(x.strftime(\"%c\"))                    #    Local version of date and time  \t\t\t(Sat Jun  1 00:00:00 2024)  \n",
    "print(x.strftime(\"%C\"))                    #    Century  \t\t\t\t\t\t(20)  \n",
    "print(x.strftime(\"%x\"))                    #    Local version of date  \t\t\t\t(45297)  \n"
   ]
  },
  {
   "cell_type": "code",
   "execution_count": null,
   "id": "28ff6379",
   "metadata": {},
   "outputs": [],
   "source": []
  },
  {
   "cell_type": "code",
   "execution_count": null,
   "id": "80a83c63",
   "metadata": {},
   "outputs": [],
   "source": []
  },
  {
   "cell_type": "code",
   "execution_count": null,
   "id": "c77b6eee",
   "metadata": {},
   "outputs": [],
   "source": []
  }
 ],
 "metadata": {
  "kernelspec": {
   "display_name": "Python 3 (ipykernel)",
   "language": "python",
   "name": "python3"
  },
  "language_info": {
   "codemirror_mode": {
    "name": "ipython",
    "version": 3
   },
   "file_extension": ".py",
   "mimetype": "text/x-python",
   "name": "python",
   "nbconvert_exporter": "python",
   "pygments_lexer": "ipython3",
   "version": "3.11.7"
  }
 },
 "nbformat": 4,
 "nbformat_minor": 5
}
