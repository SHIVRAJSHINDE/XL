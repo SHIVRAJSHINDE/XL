{
 "cells": [
  {
   "cell_type": "markdown",
   "id": "4bcd73cb",
   "metadata": {},
   "source": [
    "# Different type of Data Type"
   ]
  },
  {
   "cell_type": "code",
   "execution_count": null,
   "id": "591fd764",
   "metadata": {},
   "outputs": [],
   "source": [
    "\n",
    "#Numberic\n",
    "# integer\n",
    "\n",
    "abc = [1,2.5,\"abc\",True]\n",
    "\n",
    "print(abc)\n",
    "type(abc)\n"
   ]
  },
  {
   "cell_type": "code",
   "execution_count": null,
   "id": "6ebb090f-6415-4420-950e-10dbee5aaa40",
   "metadata": {},
   "outputs": [],
   "source": [
    "\n",
    "# float\n",
    "abcFloat =  4.5\n",
    "abcFloat\n",
    "type(abcFloat)\n"
   ]
  },
  {
   "cell_type": "code",
   "execution_count": null,
   "id": "cc221d62-afee-43a4-961d-0de75ab1a6df",
   "metadata": {},
   "outputs": [],
   "source": [
    "# boolean Type\n",
    "\n",
    "abcBool = True\n",
    "print(abcBool)\n",
    "type(abcBool)\n"
   ]
  },
  {
   "cell_type": "code",
   "execution_count": null,
   "id": "bbc24254-860f-4c46-a7a6-ce50c36b31b6",
   "metadata": {},
   "outputs": [],
   "source": [
    "# complex Type\n",
    "x = 6+9j\n",
    "\n",
    "print(x)\n",
    "type(x)\n"
   ]
  },
  {
   "cell_type": "code",
   "execution_count": null,
   "id": "8d899073-4bfd-4cb2-b6c2-d235e706f818",
   "metadata": {},
   "outputs": [],
   "source": [
    "'''Sequence Type'''\n",
    "String, List, Tupple, Range\n"
   ]
  },
  {
   "cell_type": "code",
   "execution_count": 5,
   "id": "f57fb873-c052-47f4-8cfc-92d9c450a035",
   "metadata": {},
   "outputs": [
    {
     "name": "stdout",
     "output_type": "stream",
     "text": [
      "A\n",
      "M\n",
      "o\n",
      "l\n"
     ]
    }
   ],
   "source": [
    "#String\n",
    "abc = \"AMol\"\n",
    "type(abc)\n",
    "abc[1]\n",
    "\n",
    "for i in abc:\n",
    "    print(i)\n",
    "    "
   ]
  },
  {
   "cell_type": "code",
   "execution_count": 6,
   "id": "36a7de25-69c0-4cd4-92b9-6b86ad671c41",
   "metadata": {},
   "outputs": [
    {
     "name": "stdout",
     "output_type": "stream",
     "text": [
      "A\n",
      "M\n",
      "o\n",
      "l\n"
     ]
    }
   ],
   "source": [
    "abc = \"AMol\"\n",
    "for i in abc:\n",
    "    print(i)\n"
   ]
  },
  {
   "cell_type": "code",
   "execution_count": 17,
   "id": "7702d033-fb76-42c2-9434-c5564f026cbe",
   "metadata": {},
   "outputs": [
    {
     "data": {
      "text/plain": [
       "1"
      ]
     },
     "execution_count": 17,
     "metadata": {},
     "output_type": "execute_result"
    }
   ],
   "source": [
    "list1 = [1,2,3,4]\n",
    "list1[0]\n"
   ]
  },
  {
   "cell_type": "code",
   "execution_count": 22,
   "id": "9a4ace3b-2fa2-441d-83ca-5c1432814a69",
   "metadata": {},
   "outputs": [
    {
     "name": "stdout",
     "output_type": "stream",
     "text": [
      "5\n",
      "4\n",
      "5\n",
      "6\n",
      "7\n",
      "8\n",
      "9\n",
      "10\n"
     ]
    }
   ],
   "source": [
    "range1 = range(4,11)\n",
    "print(range1[1])\n",
    "\n",
    "for i in range1:\n",
    "    print(i)\n",
    "    "
   ]
  },
  {
   "cell_type": "code",
   "execution_count": 27,
   "id": "b84bd934-4056-476f-9585-d71e5e7f86ec",
   "metadata": {},
   "outputs": [
    {
     "name": "stdout",
     "output_type": "stream",
     "text": [
      "2\n",
      "4\n",
      "6\n",
      "8\n",
      "10\n"
     ]
    }
   ],
   "source": [
    "range02 = range(2,11,2)\n",
    "for i in range02:\n",
    "    print(i)\n",
    "    "
   ]
  },
  {
   "cell_type": "code",
   "execution_count": 29,
   "id": "f31d3ab6-be66-4fc5-9baa-b25e044ff275",
   "metadata": {},
   "outputs": [
    {
     "name": "stdout",
     "output_type": "stream",
     "text": [
      "0\n",
      "1\n",
      "2\n",
      "3\n"
     ]
    }
   ],
   "source": [
    "for i in range(4):\n",
    "    print(i)\n"
   ]
  },
  {
   "cell_type": "code",
   "execution_count": 23,
   "id": "532b3a58-f3f6-4337-8689-9f329c9f6185",
   "metadata": {},
   "outputs": [
    {
     "name": "stdout",
     "output_type": "stream",
     "text": [
      "1\n",
      "2\n",
      "3\n",
      "10\n"
     ]
    }
   ],
   "source": [
    "tuple1 = (1,2,3,10)\n",
    "for i in tuple1:\n",
    "    print(i)\n",
    "    "
   ]
  },
  {
   "cell_type": "code",
   "execution_count": null,
   "id": "0615387f-6418-4d5d-a3cb-3d3f8da7fe0c",
   "metadata": {},
   "outputs": [],
   "source": []
  },
  {
   "cell_type": "code",
   "execution_count": null,
   "id": "38a529c8-153e-4d4a-b091-2c98fd1eff0d",
   "metadata": {},
   "outputs": [],
   "source": []
  },
  {
   "cell_type": "code",
   "execution_count": 35,
   "id": "6d694c47-5910-4bb8-aec1-b288774271a0",
   "metadata": {},
   "outputs": [
    {
     "data": {
      "text/plain": [
       "[1, 'sam', 3.5, True]"
      ]
     },
     "execution_count": 35,
     "metadata": {},
     "output_type": "execute_result"
    }
   ],
   "source": [
    "listInt = [1,2,3,4]\n",
    "listStr = [\"sam\",\"raj\",\"harry\"]\n",
    "listFloat = [1.5,2.5,3.5,4.6]\n",
    "listBool = [True,False]\n",
    "listMix = [1,\"sam\",3.5,True]\n",
    "listMix\n"
   ]
  },
  {
   "cell_type": "code",
   "execution_count": 36,
   "id": "92c67907-3d53-4692-8c0f-7e0d1ae8592a",
   "metadata": {},
   "outputs": [],
   "source": [
    "tupInt = (1,2,3,4)\n",
    "tuptStr = (\"sam\",\"raj\",\"harry\")\n",
    "tupFloat = (1.5,2.5,3.5,4.6)\n",
    "tupBool = (True,False)\n",
    "tupMix = (1,\"sam\",3.5,True)\n"
   ]
  },
  {
   "cell_type": "code",
   "execution_count": null,
   "id": "7438d00c-63ee-4c5f-90e5-7c51fbc1deea",
   "metadata": {},
   "outputs": [],
   "source": [
    "tupMix"
   ]
  },
  {
   "cell_type": "code",
   "execution_count": 37,
   "id": "8c6d9c5c-35dd-434f-8e72-c517a3f00f63",
   "metadata": {},
   "outputs": [
    {
     "name": "stdout",
     "output_type": "stream",
     "text": [
      "1\n",
      "2\n",
      "3\n",
      "4\n"
     ]
    }
   ],
   "source": [
    "for i in listInt:\n",
    "    print(i)\n",
    "    "
   ]
  },
  {
   "cell_type": "code",
   "execution_count": 38,
   "id": "b4106737-6d93-434f-9429-22d83157b2d7",
   "metadata": {},
   "outputs": [
    {
     "name": "stdout",
     "output_type": "stream",
     "text": [
      "range(0, 10)\n",
      "0\n",
      "1\n",
      "2\n",
      "3\n",
      "4\n",
      "5\n",
      "6\n",
      "7\n",
      "8\n",
      "9\n"
     ]
    }
   ],
   "source": [
    "abc = range(10)\n",
    "print(abc)\n",
    "for i in abc:\n",
    "    print(i)\n",
    "    "
   ]
  },
  {
   "cell_type": "code",
   "execution_count": 39,
   "id": "6382d7fe",
   "metadata": {},
   "outputs": [
    {
     "name": "stdout",
     "output_type": "stream",
     "text": [
      "2\n",
      "5\n",
      "8\n"
     ]
    }
   ],
   "source": [
    "abc1 = range(2,10,3)\n",
    "for i in abc1:\n",
    "    print(i)\n",
    "    "
   ]
  },
  {
   "cell_type": "code",
   "execution_count": null,
   "id": "22926f31",
   "metadata": {},
   "outputs": [],
   "source": []
  },
  {
   "cell_type": "code",
   "execution_count": null,
   "id": "9904d57a",
   "metadata": {},
   "outputs": [],
   "source": []
  },
  {
   "cell_type": "code",
   "execution_count": 41,
   "id": "22b652f2",
   "metadata": {},
   "outputs": [
    {
     "data": {
      "text/plain": [
       "{1, 2, 3, 4}"
      ]
     },
     "execution_count": 41,
     "metadata": {},
     "output_type": "execute_result"
    }
   ],
   "source": [
    "'''Set Type'''\n",
    "'''Only UNIQUE VALUE'''\n",
    "'''NO Order'''\n",
    "\n",
    "set1 = {1,3,2,2,3,4,4}\n",
    "\n",
    "set1\n"
   ]
  },
  {
   "cell_type": "code",
   "execution_count": 42,
   "id": "abf194d7-845d-4dce-b262-1539a3e768ce",
   "metadata": {},
   "outputs": [
    {
     "name": "stdout",
     "output_type": "stream",
     "text": [
      "1\n",
      "2\n",
      "3\n",
      "4\n"
     ]
    }
   ],
   "source": [
    "for i in set1:\n",
    "    print(i)\n",
    "    "
   ]
  },
  {
   "cell_type": "code",
   "execution_count": null,
   "id": "dd155830-a5b5-47a9-ba46-6e6bb2be1fd0",
   "metadata": {},
   "outputs": [],
   "source": [
    "# Dict Type"
   ]
  },
  {
   "cell_type": "code",
   "execution_count": 43,
   "id": "8de2fcab-6118-4701-a5a3-db1b6a4500a9",
   "metadata": {},
   "outputs": [
    {
     "data": {
      "text/plain": [
       "{'key1': 'value1', 'key2': 'value2'}"
      ]
     },
     "execution_count": 43,
     "metadata": {},
     "output_type": "execute_result"
    }
   ],
   "source": [
    "dictOne = {'key1': 'value1', 'key2': 'value2'}\n",
    "dictOne\n"
   ]
  },
  {
   "cell_type": "code",
   "execution_count": 44,
   "id": "d8a54656-3dda-458d-a7fe-3c97629e2f52",
   "metadata": {},
   "outputs": [
    {
     "data": {
      "text/plain": [
       "{'key1': 'value1', 'key2': 'value1'}"
      ]
     },
     "execution_count": 44,
     "metadata": {},
     "output_type": "execute_result"
    }
   ],
   "source": [
    "dictOne = {'key1': 'value1', 'key2': 'value1'}\n",
    "dictOne\n"
   ]
  },
  {
   "cell_type": "code",
   "execution_count": 45,
   "id": "4f7129fa",
   "metadata": {},
   "outputs": [
    {
     "data": {
      "text/plain": [
       "{1: 11, 2: 22}"
      ]
     },
     "execution_count": 45,
     "metadata": {},
     "output_type": "execute_result"
    }
   ],
   "source": [
    "dictTwo = {1: 11, 2: 22}\n",
    "dictTwo\n"
   ]
  },
  {
   "cell_type": "code",
   "execution_count": 46,
   "id": "20f579d7",
   "metadata": {},
   "outputs": [
    {
     "data": {
      "text/plain": [
       "{True: True, False: False}"
      ]
     },
     "execution_count": 46,
     "metadata": {},
     "output_type": "execute_result"
    }
   ],
   "source": [
    "dictThree = {True: True, False: False}\n",
    "dictThree\n"
   ]
  },
  {
   "cell_type": "code",
   "execution_count": 47,
   "id": "db65e719",
   "metadata": {},
   "outputs": [
    {
     "name": "stdout",
     "output_type": "stream",
     "text": [
      "dict_items([('key1', 'value1'), ('key2', 'value2')])\n"
     ]
    }
   ],
   "source": [
    "'''Mapping Type'''\n",
    "'''Key Value Pair'''\n",
    "dictOne = {'key1': 'value1', 'key2': 'value2'}"
   ]
  },
  {
   "cell_type": "code",
   "execution_count": 50,
   "id": "ec551df3-af48-42f1-8c29-e56bd6842814",
   "metadata": {},
   "outputs": [
    {
     "data": {
      "text/plain": [
       "dict_items([('key1', 'value1'), ('key2', 'value2')])"
      ]
     },
     "execution_count": 50,
     "metadata": {},
     "output_type": "execute_result"
    }
   ],
   "source": []
  },
  {
   "cell_type": "code",
   "execution_count": 51,
   "id": "b518fea6-c8ac-4c80-bc7d-06107caf095e",
   "metadata": {},
   "outputs": [
    {
     "ename": "NameError",
     "evalue": "name 'ditTwo' is not defined",
     "output_type": "error",
     "traceback": [
      "\u001b[1;31m---------------------------------------------------------------------------\u001b[0m",
      "\u001b[1;31mNameError\u001b[0m                                 Traceback (most recent call last)",
      "Cell \u001b[1;32mIn[51], line 1\u001b[0m\n\u001b[1;32m----> 1\u001b[0m \u001b[38;5;28mprint\u001b[39m(ditTwo\u001b[38;5;241m.\u001b[39mkeys())\n\u001b[0;32m      2\u001b[0m \u001b[38;5;28mprint\u001b[39m(dictOne\u001b[38;5;241m.\u001b[39mvalues())\n\u001b[0;32m      3\u001b[0m \u001b[38;5;28mprint\u001b[39m(ditTwo\u001b[38;5;241m.\u001b[39mvalues())\n",
      "\u001b[1;31mNameError\u001b[0m: name 'ditTwo' is not defined"
     ]
    }
   ],
   "source": []
  },
  {
   "cell_type": "code",
   "execution_count": 52,
   "id": "fd8812d5",
   "metadata": {},
   "outputs": [],
   "source": [
    "ditTwo = {'Studen1': \"Rajesh\",'Student2':\"AMol\",'Student3':\"Ashok\"}\n"
   ]
  },
  {
   "cell_type": "code",
   "execution_count": 54,
   "id": "406f720d-127a-482e-b3da-22aa2ff823aa",
   "metadata": {},
   "outputs": [
    {
     "name": "stdout",
     "output_type": "stream",
     "text": [
      "dict_keys(['Studen1', 'Student2', 'Student3'])\n",
      "dict_values(['Rajesh', 'AMol', 'Ashok'])\n",
      "dict_items([('key1', 'value1'), ('key2', 'value2')])\n"
     ]
    }
   ],
   "source": [
    "print(ditTwo.keys())\n",
    "print(ditTwo.values())\n",
    "print(dictOne.items())\n"
   ]
  },
  {
   "cell_type": "code",
   "execution_count": null,
   "id": "525c4481-a4fb-4234-9273-b8d7c4ae902f",
   "metadata": {},
   "outputs": [],
   "source": []
  },
  {
   "cell_type": "code",
   "execution_count": 55,
   "id": "3f9e3b13-9e2b-4e49-b3d5-1c847fbc6993",
   "metadata": {},
   "outputs": [
    {
     "name": "stdout",
     "output_type": "stream",
     "text": [
      "None\n"
     ]
    }
   ],
   "source": [
    "abc = None\n",
    "print(abc)\n"
   ]
  },
  {
   "cell_type": "code",
   "execution_count": 56,
   "id": "bcbce152-d665-4503-af87-70885421427d",
   "metadata": {},
   "outputs": [],
   "source": [
    "abc  = \"Amol\"\n"
   ]
  },
  {
   "cell_type": "code",
   "execution_count": null,
   "id": "4cbb5d05-0afe-44f6-92f8-0074a8204ea3",
   "metadata": {},
   "outputs": [],
   "source": [
    "abc[1:]"
   ]
  },
  {
   "cell_type": "code",
   "execution_count": null,
   "id": "4cfc1754-5c64-4a41-ac1b-949f34122821",
   "metadata": {},
   "outputs": [],
   "source": [
    "listInt = [1,2,3,4]\n",
    "          # -4 -3 -2 -1\n",
    "listInt[-4]"
   ]
  },
  {
   "cell_type": "code",
   "execution_count": null,
   "id": "1312f19f-51ec-4982-9405-130bc9a3d396",
   "metadata": {},
   "outputs": [],
   "source": [
    "tupInt = (1,2,3,4)\n",
    "tupInt[:]"
   ]
  },
  {
   "cell_type": "code",
   "execution_count": null,
   "id": "7aece9de-1637-4ffa-9c07-5ded7e910db8",
   "metadata": {},
   "outputs": [],
   "source": [
    "myVariableName = 10\n",
    "myVariableName"
   ]
  },
  {
   "cell_type": "code",
   "execution_count": null,
   "id": "c84805c5-ab2c-4938-aa31-e7584cad8ed5",
   "metadata": {},
   "outputs": [],
   "source": [
    "My_Variable_Name = 10\n",
    "My_Variable_Name"
   ]
  },
  {
   "cell_type": "code",
   "execution_count": null,
   "id": "ff04df78-4298-474f-aeac-36a20bcef236",
   "metadata": {},
   "outputs": [],
   "source": [
    "My Variable Name = 10\n",
    "My Variable Name"
   ]
  },
  {
   "cell_type": "code",
   "execution_count": null,
   "id": "e1f5bfc9-2808-479e-997f-b5f333d08799",
   "metadata": {},
   "outputs": [],
   "source": [
    "myVariableName_ = 10\n",
    "myVariableName_"
   ]
  },
  {
   "cell_type": "code",
   "execution_count": null,
   "id": "1f276add-5665-4df6-b941-9b8dc246ca63",
   "metadata": {},
   "outputs": [],
   "source": [
    "AGE = 10\n",
    "Age = 12\n",
    "age = 13\n",
    "\n",
    "age\n"
   ]
  },
  {
   "cell_type": "code",
   "execution_count": null,
   "id": "47a013e9-43f5-4860-ba6f-e8e2750489f6",
   "metadata": {},
   "outputs": [],
   "source": [
    "\n",
    "Account_Number = 1114\n",
    "Account_Number\n"
   ]
  },
  {
   "cell_type": "code",
   "execution_count": null,
   "id": "45d960ed-1c7a-4c17-9ffe-1160bec7682e",
   "metadata": {},
   "outputs": [],
   "source": [
    "# Casting\n",
    "# int to string\n",
    "\n",
    "myVariableName = 10\n",
    "type(myVariableName)\n",
    "myVariableName2 = str(myVariableName)\n",
    "print(myVariableName2)\n",
    "print(type(myVariableName2))\n",
    "\n"
   ]
  },
  {
   "cell_type": "code",
   "execution_count": 57,
   "id": "69b43d7a-e30c-4859-b3d2-c8defe1720b9",
   "metadata": {},
   "outputs": [
    {
     "name": "stdout",
     "output_type": "stream",
     "text": [
      "<class 'str'>\n"
     ]
    },
    {
     "data": {
      "text/plain": [
       "int"
      ]
     },
     "execution_count": 57,
     "metadata": {},
     "output_type": "execute_result"
    }
   ],
   "source": [
    "# srting to int\n",
    "\n",
    "myVariableName = \"10\"\n",
    "print(type(myVariableName))\n",
    "\n",
    "myVariableName3 = int(myVariableName)\n",
    "\n",
    "type(myVariableName3)\n"
   ]
  },
  {
   "cell_type": "code",
   "execution_count": 58,
   "id": "db0820d1-6f6c-483a-8fc4-dc9987528a9d",
   "metadata": {},
   "outputs": [
    {
     "name": "stdout",
     "output_type": "stream",
     "text": [
      "<class 'float'>\n",
      "10\n"
     ]
    },
    {
     "data": {
      "text/plain": [
       "int"
      ]
     },
     "execution_count": 58,
     "metadata": {},
     "output_type": "execute_result"
    }
   ],
   "source": [
    "# float to int \n",
    "myVariableName = 10.5\n",
    "print(type(myVariableName))\n",
    "myVariableName4 = int(myVariableName)\n",
    "print(myVariableName4)\n",
    "type(myVariableName4)\n"
   ]
  },
  {
   "cell_type": "code",
   "execution_count": 59,
   "id": "1c57fe08-0eac-4c6f-be52-197fcefc66b9",
   "metadata": {},
   "outputs": [
    {
     "name": "stdout",
     "output_type": "stream",
     "text": [
      "10\n",
      "<class 'float'>\n"
     ]
    }
   ],
   "source": [
    "# int to float \n",
    "myVariableName = 10\n",
    "print(myVariableName)\n",
    "myVariableName5 = float(myVariableName)\n",
    "myVariableName5\n",
    "print(type(myVariableName5))\n"
   ]
  },
  {
   "cell_type": "code",
   "execution_count": null,
   "id": "0c6b3cd0-1cd6-412d-bf03-bb6e1e727073",
   "metadata": {},
   "outputs": [],
   "source": [
    "listOne = [1,2,3,4,5,1,2,3,4,5]\n",
    "listOne"
   ]
  },
  {
   "cell_type": "code",
   "execution_count": null,
   "id": "306bdc1b-11bd-4295-a152-5971c7ab7b59",
   "metadata": {},
   "outputs": [],
   "source": [
    "set(listOne)"
   ]
  },
  {
   "cell_type": "code",
   "execution_count": null,
   "id": "aeeb6e1a-2f91-4abd-9204-314362048772",
   "metadata": {},
   "outputs": [],
   "source": []
  },
  {
   "cell_type": "code",
   "execution_count": null,
   "id": "3be8e4de-e482-419c-8b0a-b11797c40e10",
   "metadata": {},
   "outputs": [],
   "source": []
  },
  {
   "cell_type": "code",
   "execution_count": null,
   "id": "0885208a-b94e-4545-8b28-fc7ceb2fa722",
   "metadata": {},
   "outputs": [],
   "source": []
  },
  {
   "cell_type": "code",
   "execution_count": null,
   "id": "5f29962d-877e-4e38-8476-4af091d9219f",
   "metadata": {},
   "outputs": [],
   "source": []
  },
  {
   "cell_type": "code",
   "execution_count": null,
   "id": "75c5b788-f7e0-4cb4-9bc9-13e00737732d",
   "metadata": {},
   "outputs": [],
   "source": []
  },
  {
   "cell_type": "code",
   "execution_count": null,
   "id": "03a0d9de-c3eb-453a-b2be-9f6ea4033216",
   "metadata": {},
   "outputs": [],
   "source": []
  },
  {
   "cell_type": "code",
   "execution_count": null,
   "id": "8fba1540-09ea-4525-8fdc-75991f920df4",
   "metadata": {},
   "outputs": [],
   "source": []
  },
  {
   "cell_type": "code",
   "execution_count": null,
   "id": "465cd3d6-4dec-4e73-99be-9fd682cb0e27",
   "metadata": {},
   "outputs": [],
   "source": []
  }
 ],
 "metadata": {
  "kernelspec": {
   "display_name": "Python 3 (ipykernel)",
   "language": "python",
   "name": "python3"
  },
  "language_info": {
   "codemirror_mode": {
    "name": "ipython",
    "version": 3
   },
   "file_extension": ".py",
   "mimetype": "text/x-python",
   "name": "python",
   "nbconvert_exporter": "python",
   "pygments_lexer": "ipython3",
   "version": "3.11.7"
  }
 },
 "nbformat": 4,
 "nbformat_minor": 5
}
