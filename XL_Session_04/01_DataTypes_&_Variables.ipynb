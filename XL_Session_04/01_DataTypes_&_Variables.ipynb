{
 "cells": [
  {
   "cell_type": "markdown",
   "id": "4bcd73cb",
   "metadata": {},
   "source": [
    "# Different type of Data Type"
   ]
  },
  {
   "cell_type": "code",
   "execution_count": 9,
   "id": "591fd764",
   "metadata": {},
   "outputs": [
    {
     "name": "stdout",
     "output_type": "stream",
     "text": [
      "None\n"
     ]
    },
    {
     "data": {
      "text/plain": [
       "NoneType"
      ]
     },
     "execution_count": 9,
     "metadata": {},
     "output_type": "execute_result"
    }
   ],
   "source": [
    "abc = None\n",
    "\n",
    "print(abc)\n",
    "type(abc)\n"
   ]
  },
  {
   "cell_type": "code",
   "execution_count": null,
   "id": "6ebb090f-6415-4420-950e-10dbee5aaa40",
   "metadata": {},
   "outputs": [],
   "source": [
    "\n",
    "# float\n",
    "abcFloat =  4.5\n",
    "abcFloat\n",
    "type(abcFloat)\n"
   ]
  },
  {
   "cell_type": "code",
   "execution_count": null,
   "id": "cc221d62-afee-43a4-961d-0de75ab1a6df",
   "metadata": {},
   "outputs": [],
   "source": [
    "# boolean Type\n",
    "\n",
    "abcBool = True\n",
    "print(abcBool)\n",
    "type(abcBool)\n"
   ]
  },
  {
   "cell_type": "code",
   "execution_count": null,
   "id": "bbc24254-860f-4c46-a7a6-ce50c36b31b6",
   "metadata": {},
   "outputs": [],
   "source": [
    "# complex Type\n",
    "x = 6+9j\n",
    "\n",
    "print(x)\n",
    "type(x)\n"
   ]
  },
  {
   "cell_type": "code",
   "execution_count": null,
   "id": "8d899073-4bfd-4cb2-b6c2-d235e706f818",
   "metadata": {},
   "outputs": [],
   "source": [
    "'''Sequence Type'''\n",
    "\n",
    "String, List, Tupple\n",
    "\n",
    " "
   ]
  },
  {
   "cell_type": "code",
   "execution_count": 13,
   "id": "5bd19961-407d-4bc6-88e9-e146068e0b33",
   "metadata": {},
   "outputs": [
    {
     "ename": "TypeError",
     "evalue": "'int' object is not subscriptable",
     "output_type": "error",
     "traceback": [
      "\u001b[1;31m---------------------------------------------------------------------------\u001b[0m",
      "\u001b[1;31mTypeError\u001b[0m                                 Traceback (most recent call last)",
      "Cell \u001b[1;32mIn[13], line 3\u001b[0m\n\u001b[0;32m      1\u001b[0m abc \u001b[38;5;241m=\u001b[39m \u001b[38;5;241m12345\u001b[39m\n\u001b[1;32m----> 3\u001b[0m abc[\u001b[38;5;241m0\u001b[39m]\n",
      "\u001b[1;31mTypeError\u001b[0m: 'int' object is not subscriptable"
     ]
    }
   ],
   "source": [
    "abc = 12345\n",
    "abc[0]\n"
   ]
  },
  {
   "cell_type": "code",
   "execution_count": 12,
   "id": "e9906edb-abf5-4455-8d2e-d825ac690bbc",
   "metadata": {},
   "outputs": [
    {
     "name": "stdout",
     "output_type": "stream",
     "text": [
      "A\n",
      "m\n",
      "o\n",
      "l\n"
     ]
    }
   ],
   "source": [
    "abc  = \"Amol\"\n",
    "#       0123\n",
    "abc[3]\n",
    "\n",
    "for i in abc:\n",
    "    print(i)\n",
    "\n"
   ]
  },
  {
   "cell_type": "code",
   "execution_count": null,
   "id": "f57fb873-c052-47f4-8cfc-92d9c450a035",
   "metadata": {},
   "outputs": [],
   "source": [
    "#String\n",
    "abc = \"AMol\"\n",
    "type(abc)\n",
    "abc[1]\n",
    "\n",
    "for i in abc:\n",
    "    print(i)\n",
    "    "
   ]
  },
  {
   "cell_type": "code",
   "execution_count": 16,
   "id": "36a7de25-69c0-4cd4-92b9-6b86ad671c41",
   "metadata": {},
   "outputs": [
    {
     "name": "stdout",
     "output_type": "stream",
     "text": [
      "[]\n"
     ]
    },
    {
     "data": {
      "text/plain": [
       "list"
      ]
     },
     "execution_count": 16,
     "metadata": {},
     "output_type": "execute_result"
    }
   ],
   "source": [
    "#\n",
    "myList = []\n",
    "print(myList)\n",
    "type(myList)\n"
   ]
  },
  {
   "cell_type": "code",
   "execution_count": 20,
   "id": "7702d033-fb76-42c2-9434-c5564f026cbe",
   "metadata": {},
   "outputs": [
    {
     "data": {
      "text/plain": [
       "1"
      ]
     },
     "execution_count": 20,
     "metadata": {},
     "output_type": "execute_result"
    }
   ],
   "source": [
    "list1 = [4,3,2,1]\n",
    "\n",
    "# Slicing indexing\n",
    "list1[3]\n",
    "\n"
   ]
  },
  {
   "cell_type": "code",
   "execution_count": 21,
   "id": "e098f2e4-ffef-434d-b0e8-4817612c4db1",
   "metadata": {},
   "outputs": [
    {
     "name": "stdout",
     "output_type": "stream",
     "text": [
      "4\n",
      "3\n",
      "2\n",
      "1\n"
     ]
    }
   ],
   "source": [
    "list1 = [4,3,2,1]\n",
    "\n",
    "# Loops on List\n",
    "for i in list1:\n",
    "    print(i)\n",
    "    "
   ]
  },
  {
   "cell_type": "code",
   "execution_count": null,
   "id": "0970bfbc-fd56-417c-89cc-ccd0aeda7a44",
   "metadata": {},
   "outputs": [],
   "source": [
    "range(5)\n",
    "for i in range(2,10,2):\n",
    "    print(i)\n",
    "    "
   ]
  },
  {
   "cell_type": "code",
   "execution_count": null,
   "id": "9a4ace3b-2fa2-441d-83ca-5c1432814a69",
   "metadata": {},
   "outputs": [],
   "source": [
    "range1 = range(4,11)\n",
    "print(range1[1])\n",
    "\n",
    "for i in range1:\n",
    "    print(i)\n",
    "    "
   ]
  },
  {
   "cell_type": "code",
   "execution_count": null,
   "id": "b84bd934-4056-476f-9585-d71e5e7f86ec",
   "metadata": {},
   "outputs": [],
   "source": [
    "range02 = range(2,11,2)\n",
    "for i in range02:\n",
    "    print(i)\n",
    "    "
   ]
  },
  {
   "cell_type": "code",
   "execution_count": null,
   "id": "f31d3ab6-be66-4fc5-9baa-b25e044ff275",
   "metadata": {},
   "outputs": [],
   "source": [
    "for i in range(4):\n",
    "    print(i)\n"
   ]
  },
  {
   "cell_type": "code",
   "execution_count": null,
   "id": "532b3a58-f3f6-4337-8689-9f329c9f6185",
   "metadata": {},
   "outputs": [],
   "source": [
    "tuple1 = (1,2,3,10)\n",
    "for i in tuple1:\n",
    "    print(i)\n",
    "    "
   ]
  },
  {
   "cell_type": "code",
   "execution_count": null,
   "id": "0615387f-6418-4d5d-a3cb-3d3f8da7fe0c",
   "metadata": {},
   "outputs": [],
   "source": []
  },
  {
   "cell_type": "code",
   "execution_count": null,
   "id": "38a529c8-153e-4d4a-b091-2c98fd1eff0d",
   "metadata": {},
   "outputs": [],
   "source": [
    "int, float, str, Bool, None\n"
   ]
  },
  {
   "cell_type": "code",
   "execution_count": 23,
   "id": "6d694c47-5910-4bb8-aec1-b288774271a0",
   "metadata": {},
   "outputs": [
    {
     "data": {
      "text/plain": [
       "[1, 2, 3, 4]"
      ]
     },
     "execution_count": 23,
     "metadata": {},
     "output_type": "execute_result"
    }
   ],
   "source": [
    "listInt = [1,2,3,4] # int inside List\n",
    "listInt\n"
   ]
  },
  {
   "cell_type": "code",
   "execution_count": 24,
   "id": "bc2c4345-a423-404e-a9a1-72272e6803ef",
   "metadata": {},
   "outputs": [
    {
     "data": {
      "text/plain": [
       "['sam', 'raj', 'harry']"
      ]
     },
     "execution_count": 24,
     "metadata": {},
     "output_type": "execute_result"
    }
   ],
   "source": [
    "listStr = [\"sam\",\"raj\",\"harry\"] # string inside list\n",
    "listStr\n"
   ]
  },
  {
   "cell_type": "code",
   "execution_count": 25,
   "id": "8339db6d-99c3-40cf-95ab-df910105f91b",
   "metadata": {},
   "outputs": [
    {
     "data": {
      "text/plain": [
       "[1.5, 2.5, 3.5, 4.6]"
      ]
     },
     "execution_count": 25,
     "metadata": {},
     "output_type": "execute_result"
    }
   ],
   "source": [
    "listFloat = [1.5,2.5,3.5,4.6] # float inside list\n",
    "listFloat\n"
   ]
  },
  {
   "cell_type": "code",
   "execution_count": 26,
   "id": "137fbdc9-578a-4a3f-943e-1b5feb31f300",
   "metadata": {},
   "outputs": [
    {
     "data": {
      "text/plain": [
       "[True, False]"
      ]
     },
     "execution_count": 26,
     "metadata": {},
     "output_type": "execute_result"
    }
   ],
   "source": [
    "listBool = [True,False] # bool insde list\n",
    "listBool\n"
   ]
  },
  {
   "cell_type": "code",
   "execution_count": 27,
   "id": "d49f4f9c-0776-4f6a-b783-5cbb31ef70c8",
   "metadata": {},
   "outputs": [
    {
     "data": {
      "text/plain": [
       "[None, None]"
      ]
     },
     "execution_count": 27,
     "metadata": {},
     "output_type": "execute_result"
    }
   ],
   "source": [
    "listNone = [None,None] # None inside list\n",
    "listNone\n"
   ]
  },
  {
   "cell_type": "code",
   "execution_count": 28,
   "id": "f54ffe1b-d3a0-4200-9acc-13ebaa55986c",
   "metadata": {},
   "outputs": [
    {
     "data": {
      "text/plain": [
       "[1, 'sam', 3.5, True, None]"
      ]
     },
     "execution_count": 28,
     "metadata": {},
     "output_type": "execute_result"
    }
   ],
   "source": [
    "listMix = [1,\"sam\",3.5,True,None] # All inside list\n",
    "listMix\n"
   ]
  },
  {
   "cell_type": "code",
   "execution_count": null,
   "id": "eb918490-19a9-43e5-9772-2d527210b57e",
   "metadata": {},
   "outputs": [],
   "source": []
  },
  {
   "cell_type": "code",
   "execution_count": 29,
   "id": "66e2fc63-3860-41a7-b052-f071f448c04d",
   "metadata": {},
   "outputs": [
    {
     "name": "stdout",
     "output_type": "stream",
     "text": [
      "1\n",
      "sam\n",
      "3.5\n",
      "True\n",
      "None\n"
     ]
    }
   ],
   "source": [
    "listMix = [1,\"sam\",3.5,True,None] # All inside list\n",
    "\n",
    "for i in listMix:\n",
    "    print(i)\n",
    "    "
   ]
  },
  {
   "cell_type": "code",
   "execution_count": null,
   "id": "0bda5b80-f1df-4782-8684-001b63597724",
   "metadata": {},
   "outputs": [],
   "source": [
    "# Tupples are Immutable"
   ]
  },
  {
   "cell_type": "code",
   "execution_count": 30,
   "id": "92c67907-3d53-4692-8c0f-7e0d1ae8592a",
   "metadata": {},
   "outputs": [
    {
     "data": {
      "text/plain": [
       "(1, 2, 3, 4)"
      ]
     },
     "execution_count": 30,
     "metadata": {},
     "output_type": "execute_result"
    }
   ],
   "source": [
    "tupInt = (1,2,3,4)\n",
    "tupInt\n"
   ]
  },
  {
   "cell_type": "code",
   "execution_count": 31,
   "id": "08ae8e18-9fbf-4048-8c4b-4f7351300ec9",
   "metadata": {},
   "outputs": [
    {
     "data": {
      "text/plain": [
       "('sam', 'raj', 'harry')"
      ]
     },
     "execution_count": 31,
     "metadata": {},
     "output_type": "execute_result"
    }
   ],
   "source": [
    "tuptStr = (\"sam\",\"raj\",\"harry\")\n",
    "tuptStr\n"
   ]
  },
  {
   "cell_type": "code",
   "execution_count": 32,
   "id": "8fc9ca60-6128-420e-979f-7e6a7691b479",
   "metadata": {},
   "outputs": [
    {
     "data": {
      "text/plain": [
       "(1.5, 2.5, 3.5, 4.6)"
      ]
     },
     "execution_count": 32,
     "metadata": {},
     "output_type": "execute_result"
    }
   ],
   "source": [
    "tupFloat = (1.5,2.5,3.5,4.6)\n",
    "tupFloat\n"
   ]
  },
  {
   "cell_type": "code",
   "execution_count": 33,
   "id": "36b5910a-aee4-4021-b7a8-9f400ee9f6bb",
   "metadata": {},
   "outputs": [
    {
     "data": {
      "text/plain": [
       "(True, False)"
      ]
     },
     "execution_count": 33,
     "metadata": {},
     "output_type": "execute_result"
    }
   ],
   "source": [
    "tupBool = (True,False)\n",
    "tupBool\n"
   ]
  },
  {
   "cell_type": "code",
   "execution_count": 34,
   "id": "a5dacfec-507b-43eb-943b-c911d96e8485",
   "metadata": {},
   "outputs": [
    {
     "data": {
      "text/plain": [
       "(None, None)"
      ]
     },
     "execution_count": 34,
     "metadata": {},
     "output_type": "execute_result"
    }
   ],
   "source": [
    "tupNone = (None,None)\n",
    "tupNone\n"
   ]
  },
  {
   "cell_type": "code",
   "execution_count": 35,
   "id": "cac89e3d-a246-4aa1-a2e7-24118dcd2ede",
   "metadata": {},
   "outputs": [
    {
     "data": {
      "text/plain": [
       "(1, 'sam', 3.5, True, None)"
      ]
     },
     "execution_count": 35,
     "metadata": {},
     "output_type": "execute_result"
    }
   ],
   "source": [
    "tupMix = (1,\"sam\",3.5,True,None)\n",
    "tupMix\n"
   ]
  },
  {
   "cell_type": "code",
   "execution_count": null,
   "id": "878dabc6-b8be-4b9a-a859-1166d367f886",
   "metadata": {},
   "outputs": [],
   "source": []
  },
  {
   "cell_type": "code",
   "execution_count": null,
   "id": "7438d00c-63ee-4c5f-90e5-7c51fbc1deea",
   "metadata": {},
   "outputs": [],
   "source": [
    "for i in tupMix:\n",
    "    print(i)\n"
   ]
  },
  {
   "cell_type": "code",
   "execution_count": 18,
   "id": "8c6d9c5c-35dd-434f-8e72-c517a3f00f63",
   "metadata": {},
   "outputs": [
    {
     "name": "stdout",
     "output_type": "stream",
     "text": [
      "10\n"
     ]
    }
   ],
   "source": [
    "age = 10 \n",
    "\n",
    "print(age)\n"
   ]
  },
  {
   "cell_type": "code",
   "execution_count": 16,
   "id": "b4106737-6d93-434f-9429-22d83157b2d7",
   "metadata": {},
   "outputs": [
    {
     "name": "stdout",
     "output_type": "stream",
     "text": [
      "2\n",
      "5\n",
      "8\n"
     ]
    }
   ],
   "source": [
    "abc = range(2,10,3)\n",
    "for i in abc:\n",
    "    print(i)\n"
   ]
  },
  {
   "cell_type": "code",
   "execution_count": null,
   "id": "6382d7fe",
   "metadata": {},
   "outputs": [],
   "source": [
    "abc1 = range(2,10,3)\n",
    "for i in abc1:\n",
    "    print(i)\n",
    "    "
   ]
  },
  {
   "cell_type": "code",
   "execution_count": null,
   "id": "22926f31",
   "metadata": {},
   "outputs": [],
   "source": []
  },
  {
   "cell_type": "code",
   "execution_count": null,
   "id": "9904d57a",
   "metadata": {},
   "outputs": [],
   "source": []
  },
  {
   "cell_type": "code",
   "execution_count": 36,
   "id": "22b652f2",
   "metadata": {},
   "outputs": [
    {
     "data": {
      "text/plain": [
       "{1, 2, 3, 4}"
      ]
     },
     "execution_count": 36,
     "metadata": {},
     "output_type": "execute_result"
    }
   ],
   "source": [
    "'''Set Type'''\n",
    "'''Only UNIQUE VALUE'''\n",
    "'''NO Order'''\n",
    "\n",
    "set1 = {1,3,2,2,3,4,4}\n",
    "\n",
    "set1\n"
   ]
  },
  {
   "cell_type": "code",
   "execution_count": null,
   "id": "6df23c68-6f12-43a1-a953-a222faa40c4d",
   "metadata": {},
   "outputs": [],
   "source": []
  },
  {
   "cell_type": "code",
   "execution_count": 37,
   "id": "d7874e44-39a2-44a8-b95c-c846915d55df",
   "metadata": {},
   "outputs": [
    {
     "data": {
      "text/plain": [
       "{1, 2, 3, 4}"
      ]
     },
     "execution_count": 37,
     "metadata": {},
     "output_type": "execute_result"
    }
   ],
   "source": [
    "# Support to Different Data Type\n",
    "\n",
    "setInt = {1,2,3,4}\n",
    "\n",
    "setInt\n"
   ]
  },
  {
   "cell_type": "code",
   "execution_count": 38,
   "id": "53c6b64f-e560-43bc-ae48-372ca5fee358",
   "metadata": {},
   "outputs": [
    {
     "data": {
      "text/plain": [
       "{'harry', 'raj', 'sam'}"
      ]
     },
     "execution_count": 38,
     "metadata": {},
     "output_type": "execute_result"
    }
   ],
   "source": [
    "setStr = {\"sam\",\"raj\",\"harry\"}\n",
    "setStr\n"
   ]
  },
  {
   "cell_type": "code",
   "execution_count": 39,
   "id": "dafa6c51-5b0b-4d42-bdb4-89b1230373b7",
   "metadata": {},
   "outputs": [
    {
     "data": {
      "text/plain": [
       "{1.5, 2.5, 3.5, 4.6}"
      ]
     },
     "execution_count": 39,
     "metadata": {},
     "output_type": "execute_result"
    }
   ],
   "source": [
    "setFloat = {1.5,2.5,3.5,4.6}\n",
    "setFloat\n"
   ]
  },
  {
   "cell_type": "code",
   "execution_count": 42,
   "id": "be6c1cc8-4e26-4a3f-811a-23b08b48483a",
   "metadata": {},
   "outputs": [
    {
     "data": {
      "text/plain": [
       "{False, True}"
      ]
     },
     "execution_count": 42,
     "metadata": {},
     "output_type": "execute_result"
    }
   ],
   "source": [
    "setBool = {True,False}\n",
    "setBool\n"
   ]
  },
  {
   "cell_type": "code",
   "execution_count": 43,
   "id": "bc9350e0-75ee-4eb6-aa90-218e8ba8dbbd",
   "metadata": {},
   "outputs": [
    {
     "data": {
      "text/plain": [
       "{None}"
      ]
     },
     "execution_count": 43,
     "metadata": {},
     "output_type": "execute_result"
    }
   ],
   "source": [
    "setNone = {None,None}\n",
    "setNone\n"
   ]
  },
  {
   "cell_type": "code",
   "execution_count": 47,
   "id": "f78b68eb-1db3-4d0e-966f-f8757f7547a2",
   "metadata": {},
   "outputs": [
    {
     "data": {
      "text/plain": [
       "{1, 3.5, False, None, 'sam'}"
      ]
     },
     "execution_count": 47,
     "metadata": {},
     "output_type": "execute_result"
    }
   ],
   "source": [
    "setMix = {1,\"sam\",3.5,None,False,True}\n",
    "setMix\n"
   ]
  },
  {
   "cell_type": "code",
   "execution_count": null,
   "id": "5cc44e2f-e52e-44d9-858e-3a9f1d68ed49",
   "metadata": {},
   "outputs": [],
   "source": []
  },
  {
   "cell_type": "code",
   "execution_count": null,
   "id": "ede90a31-218e-4df0-9eec-62a7e441d4df",
   "metadata": {},
   "outputs": [],
   "source": []
  },
  {
   "cell_type": "code",
   "execution_count": null,
   "id": "2a7d2274-9eeb-40b2-8240-c594e320fddf",
   "metadata": {},
   "outputs": [],
   "source": []
  },
  {
   "cell_type": "code",
   "execution_count": null,
   "id": "f0589534-678d-4bf3-85db-40767b203aa3",
   "metadata": {},
   "outputs": [],
   "source": []
  },
  {
   "cell_type": "code",
   "execution_count": null,
   "id": "83214e88-1382-44ce-a402-aad1fa3cdaa0",
   "metadata": {},
   "outputs": [],
   "source": [
    "setMix[1]\n"
   ]
  },
  {
   "cell_type": "code",
   "execution_count": 48,
   "id": "abf194d7-845d-4dce-b262-1539a3e768ce",
   "metadata": {},
   "outputs": [
    {
     "name": "stdout",
     "output_type": "stream",
     "text": [
      "1\n",
      "2\n",
      "3\n",
      "4\n"
     ]
    }
   ],
   "source": [
    "for i in setInt:\n",
    "    print(i)\n",
    "    "
   ]
  },
  {
   "cell_type": "code",
   "execution_count": null,
   "id": "dd155830-a5b5-47a9-ba46-6e6bb2be1fd0",
   "metadata": {},
   "outputs": [],
   "source": [
    "# Mapping Type"
   ]
  },
  {
   "cell_type": "code",
   "execution_count": 49,
   "id": "8de2fcab-6118-4701-a5a3-db1b6a4500a9",
   "metadata": {},
   "outputs": [
    {
     "data": {
      "text/plain": [
       "{'key1': 'value1', 'key2': 'value2'}"
      ]
     },
     "execution_count": 49,
     "metadata": {},
     "output_type": "execute_result"
    }
   ],
   "source": [
    "dictOne = {'key1':'value1', 'key2':'value2'}\n",
    "dictOne\n"
   ]
  },
  {
   "cell_type": "code",
   "execution_count": 52,
   "id": "d8a54656-3dda-458d-a7fe-3c97629e2f52",
   "metadata": {},
   "outputs": [
    {
     "name": "stdout",
     "output_type": "stream",
     "text": [
      "key1 value1\n",
      "key2 value2\n"
     ]
    }
   ],
   "source": [
    "for i,j in dictOne.items():\n",
    "    print(i,j)\n",
    "\n"
   ]
  },
  {
   "cell_type": "code",
   "execution_count": null,
   "id": "14100fed-ca1c-4d67-81c1-0e53cf802876",
   "metadata": {},
   "outputs": [],
   "source": [
    "# Support to the Data Types"
   ]
  },
  {
   "cell_type": "code",
   "execution_count": 53,
   "id": "4f7129fa",
   "metadata": {},
   "outputs": [
    {
     "data": {
      "text/plain": [
       "{1: 11, 2: 22}"
      ]
     },
     "execution_count": 53,
     "metadata": {},
     "output_type": "execute_result"
    }
   ],
   "source": [
    "\n",
    "dictTwo = {1: 11, 2: 22}\n",
    "dictTwo\n"
   ]
  },
  {
   "cell_type": "code",
   "execution_count": 54,
   "id": "20f579d7",
   "metadata": {},
   "outputs": [
    {
     "data": {
      "text/plain": [
       "{True: True, False: False}"
      ]
     },
     "execution_count": 54,
     "metadata": {},
     "output_type": "execute_result"
    }
   ],
   "source": [
    "dictThree = {True: True, False: False}\n",
    "dictThree\n"
   ]
  },
  {
   "cell_type": "code",
   "execution_count": 55,
   "id": "b66a61ad-4f57-4a32-aab3-fb279103dc16",
   "metadata": {},
   "outputs": [
    {
     "data": {
      "text/plain": [
       "{True: False, False: True}"
      ]
     },
     "execution_count": 55,
     "metadata": {},
     "output_type": "execute_result"
    }
   ],
   "source": [
    "dictThree = {True:False , False: True}\n",
    "dictThree\n"
   ]
  },
  {
   "cell_type": "code",
   "execution_count": 56,
   "id": "016fdf15-371a-4734-9339-a86a758444a2",
   "metadata": {},
   "outputs": [
    {
     "data": {
      "text/plain": [
       "{10.5: 11.5, 9.5: 12.5}"
      ]
     },
     "execution_count": 56,
     "metadata": {},
     "output_type": "execute_result"
    }
   ],
   "source": [
    "dictFour = {10.5: 11.5, 9.5: 12.5}\n",
    "dictFour\n"
   ]
  },
  {
   "cell_type": "code",
   "execution_count": 57,
   "id": "de1a2bf6-d142-4d9a-9f4a-266dc030388f",
   "metadata": {},
   "outputs": [
    {
     "data": {
      "text/plain": [
       "{None: None}"
      ]
     },
     "execution_count": 57,
     "metadata": {},
     "output_type": "execute_result"
    }
   ],
   "source": [
    "dictFive = {None: None}\n",
    "dictFive\n"
   ]
  },
  {
   "cell_type": "code",
   "execution_count": 6,
   "id": "db65e719",
   "metadata": {},
   "outputs": [
    {
     "data": {
      "text/plain": [
       "{'key1': 'Rajesh', 'key2': 'Sunil'}"
      ]
     },
     "execution_count": 6,
     "metadata": {},
     "output_type": "execute_result"
    }
   ],
   "source": [
    "'''Mapping Type'''\n",
    "'''Key Value Pair'''\n",
    "\n",
    "dictOne = {'key1': 'Sunil', 'key2': 'Sunil'}\n",
    "dictOne\n"
   ]
  },
  {
   "cell_type": "code",
   "execution_count": null,
   "id": "4cbb5d05-0afe-44f6-92f8-0074a8204ea3",
   "metadata": {},
   "outputs": [],
   "source": []
  },
  {
   "cell_type": "code",
   "execution_count": null,
   "id": "4cfc1754-5c64-4a41-ac1b-949f34122821",
   "metadata": {},
   "outputs": [],
   "source": []
  },
  {
   "cell_type": "code",
   "execution_count": 4,
   "id": "1312f19f-51ec-4982-9405-130bc9a3d396",
   "metadata": {},
   "outputs": [
    {
     "data": {
      "text/plain": [
       "10"
      ]
     },
     "execution_count": 4,
     "metadata": {},
     "output_type": "execute_result"
    }
   ],
   "source": [
    "MyVariableName = 10\n",
    "MyVariableName\n"
   ]
  },
  {
   "cell_type": "code",
   "execution_count": null,
   "id": "7aece9de-1637-4ffa-9c07-5ded7e910db8",
   "metadata": {},
   "outputs": [],
   "source": [
    "myVariableName = 10\n",
    "myVariableName\n"
   ]
  },
  {
   "cell_type": "code",
   "execution_count": 5,
   "id": "c84805c5-ab2c-4938-aa31-e7584cad8ed5",
   "metadata": {},
   "outputs": [
    {
     "data": {
      "text/plain": [
       "10"
      ]
     },
     "execution_count": 5,
     "metadata": {},
     "output_type": "execute_result"
    }
   ],
   "source": [
    "My_Variable_Name = 10\n",
    "My_Variable_Name\n"
   ]
  },
  {
   "cell_type": "code",
   "execution_count": null,
   "id": "ff04df78-4298-474f-aeac-36a20bcef236",
   "metadata": {},
   "outputs": [],
   "source": [
    "MyVariableName = 10\n",
    "MyVariableName\n"
   ]
  },
  {
   "cell_type": "code",
   "execution_count": null,
   "id": "e1f5bfc9-2808-479e-997f-b5f333d08799",
   "metadata": {},
   "outputs": [],
   "source": [
    "myVariableName_ = 10\n",
    "myVariableName_"
   ]
  },
  {
   "cell_type": "code",
   "execution_count": null,
   "id": "1f276add-5665-4df6-b941-9b8dc246ca63",
   "metadata": {},
   "outputs": [],
   "source": [
    "AGE = 10\n",
    "Age = 12\n",
    "age = 13\n",
    "\n",
    "age\n"
   ]
  },
  {
   "cell_type": "code",
   "execution_count": null,
   "id": "47a013e9-43f5-4860-ba6f-e8e2750489f6",
   "metadata": {},
   "outputs": [],
   "source": [
    "\n",
    "Account_Number = 1114\n",
    "Account_Number\n",
    "\n"
   ]
  },
  {
   "cell_type": "code",
   "execution_count": 14,
   "id": "cc22efc4-3f4f-4bc5-bd58-e17b495784bd",
   "metadata": {},
   "outputs": [
    {
     "name": "stdout",
     "output_type": "stream",
     "text": [
      "<class 'str'>\n",
      "10\n"
     ]
    },
    {
     "data": {
      "text/plain": [
       "int"
      ]
     },
     "execution_count": 14,
     "metadata": {},
     "output_type": "execute_result"
    }
   ],
   "source": [
    "# Change Data type of existing Data Type\n",
    "\n",
    "abc  = \"10\" \n",
    "\n",
    "print(type(abc))\n",
    "xyz = int(abc)\n",
    "print(xyz)\n",
    "type(xyz)\n"
   ]
  },
  {
   "cell_type": "code",
   "execution_count": 24,
   "id": "45d960ed-1c7a-4c17-9ffe-1160bec7682e",
   "metadata": {},
   "outputs": [
    {
     "name": "stdout",
     "output_type": "stream",
     "text": [
      "10\n",
      "<class 'int'>\n",
      "10\n"
     ]
    },
    {
     "data": {
      "text/plain": [
       "str"
      ]
     },
     "execution_count": 24,
     "metadata": {},
     "output_type": "execute_result"
    }
   ],
   "source": [
    "# Casting\n",
    "# int to string\n",
    "\n",
    "abc  = 10\n",
    "print(abc)\n",
    "print(type(abc))\n",
    "abc = str(abc)\n",
    "print(abc)\n",
    "type(abc)\n"
   ]
  },
  {
   "cell_type": "code",
   "execution_count": null,
   "id": "69b43d7a-e30c-4859-b3d2-c8defe1720b9",
   "metadata": {},
   "outputs": [],
   "source": [
    "# srting to int\n",
    "\n",
    "myVariableName = \"10\"\n",
    "print(type(myVariableName))\n",
    "\n",
    "myVariableName3 = int(myVariableName)\n",
    "\n",
    "type(myVariableName3)\n"
   ]
  },
  {
   "cell_type": "code",
   "execution_count": null,
   "id": "db0820d1-6f6c-483a-8fc4-dc9987528a9d",
   "metadata": {},
   "outputs": [],
   "source": [
    "# float to int \n",
    "myVariableName = 10.5\n",
    "print(type(myVariableName))\n",
    "myVariableName4 = int(myVariableName)\n",
    "print(myVariableName4)\n",
    "type(myVariableName4)\n"
   ]
  },
  {
   "cell_type": "code",
   "execution_count": null,
   "id": "1c57fe08-0eac-4c6f-be52-197fcefc66b9",
   "metadata": {},
   "outputs": [],
   "source": [
    "# int to float \n",
    "myVariableName = 10\n",
    "print(myVariableName)\n",
    "myVariableName5 = float(myVariableName)\n",
    "myVariableName5\n",
    "print(type(myVariableName5))\n"
   ]
  },
  {
   "cell_type": "code",
   "execution_count": null,
   "id": "0c6b3cd0-1cd6-412d-bf03-bb6e1e727073",
   "metadata": {},
   "outputs": [],
   "source": [
    "listOne = [1,2,3,4,5,1,2,3,4,5]\n",
    "listOne"
   ]
  },
  {
   "cell_type": "code",
   "execution_count": null,
   "id": "306bdc1b-11bd-4295-a152-5971c7ab7b59",
   "metadata": {},
   "outputs": [],
   "source": [
    "set(listOne)"
   ]
  },
  {
   "cell_type": "code",
   "execution_count": null,
   "id": "aeeb6e1a-2f91-4abd-9204-314362048772",
   "metadata": {},
   "outputs": [],
   "source": []
  },
  {
   "cell_type": "code",
   "execution_count": null,
   "id": "3be8e4de-e482-419c-8b0a-b11797c40e10",
   "metadata": {},
   "outputs": [],
   "source": []
  },
  {
   "cell_type": "code",
   "execution_count": null,
   "id": "0885208a-b94e-4545-8b28-fc7ceb2fa722",
   "metadata": {},
   "outputs": [],
   "source": []
  },
  {
   "cell_type": "code",
   "execution_count": null,
   "id": "5f29962d-877e-4e38-8476-4af091d9219f",
   "metadata": {},
   "outputs": [],
   "source": []
  },
  {
   "cell_type": "code",
   "execution_count": null,
   "id": "75c5b788-f7e0-4cb4-9bc9-13e00737732d",
   "metadata": {},
   "outputs": [],
   "source": []
  },
  {
   "cell_type": "code",
   "execution_count": null,
   "id": "03a0d9de-c3eb-453a-b2be-9f6ea4033216",
   "metadata": {},
   "outputs": [],
   "source": []
  },
  {
   "cell_type": "code",
   "execution_count": null,
   "id": "8fba1540-09ea-4525-8fdc-75991f920df4",
   "metadata": {},
   "outputs": [],
   "source": []
  },
  {
   "cell_type": "code",
   "execution_count": null,
   "id": "465cd3d6-4dec-4e73-99be-9fd682cb0e27",
   "metadata": {},
   "outputs": [],
   "source": []
  }
 ],
 "metadata": {
  "kernelspec": {
   "display_name": "Python 3 (ipykernel)",
   "language": "python",
   "name": "python3"
  },
  "language_info": {
   "codemirror_mode": {
    "name": "ipython",
    "version": 3
   },
   "file_extension": ".py",
   "mimetype": "text/x-python",
   "name": "python",
   "nbconvert_exporter": "python",
   "pygments_lexer": "ipython3",
   "version": "3.11.7"
  }
 },
 "nbformat": 4,
 "nbformat_minor": 5
}
