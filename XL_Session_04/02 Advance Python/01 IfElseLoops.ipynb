{
 "cells": [
  {
   "cell_type": "code",
   "execution_count": null,
   "id": "987a9589-0a53-4485-b3aa-aba2379f4f0f",
   "metadata": {},
   "outputs": [],
   "source": [
    "# use AND OR IN IF CONDITIONS"
   ]
  },
  {
   "cell_type": "code",
   "execution_count": 10,
   "id": "be8e024c",
   "metadata": {},
   "outputs": [
    {
     "name": "stdout",
     "output_type": "stream",
     "text": [
      "pineapple Not Found\n"
     ]
    }
   ],
   "source": [
    "Stall_1 = 'pineapple'\n",
    "Stall_2 = 'pineapple'\n",
    "\n",
    "if Stall_1 == \"pineapple\":\n",
    "    print(\"go home with pineapple from Stall_1\")\n",
    "elif Stall_2 == \"pineapple\":\n",
    "    print(\"go home with pineapple from Stall_2\")\n",
    "\n",
    "else:\n",
    "    print(\"pineapple Not Found\")\n"
   ]
  },
  {
   "cell_type": "code",
   "execution_count": 26,
   "id": "378b03d0-bde6-492b-803a-9bb4f82b54cb",
   "metadata": {},
   "outputs": [
    {
     "name": "stdout",
     "output_type": "stream",
     "text": [
      "go home with Fruits\n"
     ]
    }
   ],
   "source": [
    "Stall_1 = 'Banana'\n",
    "Stall_1_clean = \"Yes\"\n",
    "price = 100\n",
    "\n",
    "if (Stall_1 == \"Banana\") or (Stall_1_clean == \"Yes\") or (int(price) <=100):\n",
    "    print(\"go home with Fruits\")\n",
    "else:\n",
    "    print(\"Cant Buy Bananas\")\n"
   ]
  },
  {
   "cell_type": "code",
   "execution_count": 4,
   "id": "dbed6eb8-8234-4661-8930-a6fad9361164",
   "metadata": {},
   "outputs": [
    {
     "name": "stdin",
     "output_type": "stream",
     "text": [
      " ASDF\n"
     ]
    },
    {
     "data": {
      "text/plain": [
       "'ASDF'"
      ]
     },
     "execution_count": 4,
     "metadata": {},
     "output_type": "execute_result"
    }
   ],
   "source": [
    "\n"
   ]
  },
  {
   "cell_type": "code",
   "execution_count": 20,
   "id": "cc731476",
   "metadata": {},
   "outputs": [
    {
     "name": "stdout",
     "output_type": "stream",
     "text": [
      "Go home with pineapple : Stall_1\n"
     ]
    }
   ],
   "source": [
    "# all the value True\n",
    "Stall_1 = 'Banana'\n",
    "Stall_1_clean = \"Yes\"\n",
    "price = 100\n",
    "\n",
    "\n",
    "#         True                        True                   True\n",
    "if Stall_1 == \"Banana\" and Stall_1_clean == \"Yes\" and price <= 130:\n",
    "    print(\"Go home with pineapple : Stall_1\")\n",
    "else:\n",
    "    print(\"Codition Not Matched\")\n",
    "\n"
   ]
  },
  {
   "cell_type": "code",
   "execution_count": 24,
   "id": "f6d57f7c",
   "metadata": {},
   "outputs": [
    {
     "name": "stdout",
     "output_type": "stream",
     "text": [
      "Codition Not Matched\n"
     ]
    }
   ],
   "source": [
    "# bring any fruit from market\n",
    "\n",
    "Stall_1 = 'pineapple'\n",
    "Stall_1_clean = \"No\"\n",
    "price = 150\n",
    "\n",
    "#         False                 False                     False\n",
    "if Stall_1 == \"Banana\" or Stall_1_clean == \"Yes\" or price <= 130:\n",
    "    print(\"Go home with fruit : Stall_1\")\n",
    "else:\n",
    "    print(\"Codition Not Matched\")"
   ]
  },
  {
   "cell_type": "markdown",
   "id": "bd3e0708-802b-4f86-b39e-81f45d0e2769",
   "metadata": {},
   "source": [
    "# HomeWORK"
   ]
  },
  {
   "cell_type": "code",
   "execution_count": 29,
   "id": "8c8d42c0",
   "metadata": {},
   "outputs": [
    {
     "name": "stdout",
     "output_type": "stream",
     "text": [
      "Go home with pineapple from Stall_1\n"
     ]
    }
   ],
   "source": [
    "# bring pineapple if store clean\n",
    "\n",
    "Stall_1 = 'pineapple'\n",
    "Stall_1_clean = \"Yes\"\n",
    "\n",
    "Stall_2 = \"pineapple\"\n",
    "Stall_2_clean = \"Yes\"\n",
    "\n",
    "Stall_3 = \"Apple\"\n",
    "Stall_3_clean = \"Yes\"\n",
    "\n",
    "\n",
    "if Stall_1 == \"pineapple\" and Stall_1_clean == \"Yes\": \n",
    "    print(\"Go home with pineapple from Stall_1\")\n",
    "\n",
    "elif Stall_2 == \"pineapple\" and Stall_2_clean == \"Yes\": \n",
    "    print(\"Go home with pineapple from Stall_2\")\n",
    "\n",
    "elif Stall_3 == \"pineapple\" and Stall_3_clean == \"Yes\": \n",
    "    print(\"Go home with pineapple from Stall_3\")\n",
    "else:\n",
    "    print(\"No stall found has pineapple\")\n"
   ]
  },
  {
   "cell_type": "code",
   "execution_count": null,
   "id": "c7063c27",
   "metadata": {},
   "outputs": [],
   "source": [
    "# Stall 1\n",
    "Stall_1 = 'banana'\n",
    "Stall_1_clean = \"NO\"\n",
    "price_1 = 150\n",
    "\n",
    "# Stall 2\n",
    "Stall_2 = 'banana'\n",
    "Stall_2_clean = \"NO\"\n",
    "price_2 = 130\n",
    "\n",
    "# Stall 3\n",
    "Stall_3 = 'banana'\n",
    "Stall_3_clean = \"Yes\"\n",
    "price_3 = 130\n",
    "\n",
    "if Stall_1 == \"pineapple\" and Stall_1_clean == \"Yes\" and price_1 <= 130:\n",
    "    print(\"Go home with pineapple from Stall_1\")\n",
    "elif Stall_2 == \"pineapple\" and Stall_2_clean == \"Yes\" and price_2 <= 130:\n",
    "    print(\"Go home with pineapple from Stall_2\")\n",
    "elif Stall_3 == \"pineapple\" and Stall_3_clean == \"Yes\" and price_3 <= 130:\n",
    "    print(\"Go home with pineapple from Stall_3\")\n",
    "\n",
    "else:\n",
    "    print(\"Pineapple not found or conditions not met for any stall\")\n",
    "\n"
   ]
  },
  {
   "cell_type": "code",
   "execution_count": null,
   "id": "c5b90382-eaa2-4389-b5e0-b3d45a7fb8d5",
   "metadata": {},
   "outputs": [],
   "source": [
    "Stall_1 = 'pineapple'\n",
    "Stall_2 = 'banana'\n",
    "Stall_3 = 'apple'\n",
    "\n",
    "if Stall_1 == \"pineapple\" or Stall_2 == \"pineapple\" or Stall_3 == \"pineapple\":\n",
    "    print(\"Go Home with pineapples\")\n",
    "else:\n",
    "    print(\"Pineapple not found\")\n"
   ]
  },
  {
   "cell_type": "markdown",
   "id": "5c1f36b3-334d-461b-ac84-1d505e3ddfbf",
   "metadata": {},
   "source": [
    "# Nested Loop"
   ]
  },
  {
   "cell_type": "code",
   "execution_count": null,
   "id": "b185c797-72fb-4332-9e6a-9447299124ed",
   "metadata": {},
   "outputs": [],
   "source": [
    "# loop inside loop\n",
    "# Basic understanding of Nested Loop"
   ]
  },
  {
   "cell_type": "code",
   "execution_count": 33,
   "id": "d52c7b02-8af2-4728-b4c8-cce43a4b0028",
   "metadata": {},
   "outputs": [
    {
     "name": "stdout",
     "output_type": "stream",
     "text": [
      "Red Apple\n",
      "Red Banana\n",
      "Red Grapes\n",
      "Yellow Apple\n",
      "Yellow Banana\n",
      "Yellow Grapes\n",
      "LightGreen Apple\n",
      "LightGreen Banana\n",
      "LightGreen Grapes\n"
     ]
    }
   ],
   "source": []
  },
  {
   "cell_type": "code",
   "execution_count": null,
   "id": "74e30249-2df1-49dd-a844-014335583948",
   "metadata": {},
   "outputs": [],
   "source": [
    "\n",
    "\n",
    "\n",
    "\n",
    "\n",
    "\n",
    "\n",
    "\n",
    "\n"
   ]
  },
  {
   "cell_type": "code",
   "execution_count": 42,
   "id": "78080543",
   "metadata": {},
   "outputs": [
    {
     "name": "stdout",
     "output_type": "stream",
     "text": [
      "Red Apple\n",
      "Red Banana\n",
      "Red Grapes\n",
      "Yellow Apple\n",
      "Yellow Banana\n",
      "Yellow Grapes\n",
      "LightGreen Apple\n",
      "LightGreen Banana\n",
      "LightGreen Grapes\n"
     ]
    }
   ],
   "source": [
    "'''Nested Loop'''\n",
    "\n",
    "adj = [\"Red\", \"Yellow\", \"LightGreen\"]\n",
    "fruits = [\"Apple\", \"Banana\", \"Grapes\"]\n",
    "\n",
    "for i in adj:\n",
    "    for j in fruits:\n",
    "        print(i,j)\n",
    "\n"
   ]
  },
  {
   "cell_type": "code",
   "execution_count": 42,
   "id": "cb362aa4-1d21-4324-89e1-07b5df91eee0",
   "metadata": {},
   "outputs": [
    {
     "name": "stdout",
     "output_type": "stream",
     "text": [
      "3 1 Not Match\n",
      "3 2 Not Match\n",
      "3 3 Match\n",
      "3 5 Not Match\n",
      "2 1 Not Match\n",
      "2 2 Match\n",
      "2 3 Not Match\n",
      "2 5 Not Match\n",
      "1 1 Match\n",
      "1 2 Not Match\n",
      "1 3 Not Match\n",
      "1 5 Not Match\n",
      "4 1 Not Match\n",
      "4 2 Not Match\n",
      "4 3 Not Match\n",
      "4 5 Not Match\n"
     ]
    }
   ],
   "source": [
    "# Match the values\n",
    "firstList = [3, 2, 1,4]\n",
    "secondList = [1, 2, 3,5]\n",
    "\n",
    "for i in firstList:\n",
    "    for j in secondList:\n",
    "        if i==j:\n",
    "            print(i,j,\"Match\")\n",
    "        else:\n",
    "            print(i,j,\"Not Match\")\n"
   ]
  },
  {
   "cell_type": "code",
   "execution_count": 41,
   "id": "3ca4e840-5166-4ee2-b97f-e3e8d5dc271d",
   "metadata": {},
   "outputs": [
    {
     "ename": "SyntaxError",
     "evalue": "invalid syntax (3751612392.py, line 4)",
     "output_type": "error",
     "traceback": [
      "\u001b[1;36m  Cell \u001b[1;32mIn[41], line 4\u001b[1;36m\u001b[0m\n\u001b[1;33m    third List = [1,2,3]\u001b[0m\n\u001b[1;37m          ^\u001b[0m\n\u001b[1;31mSyntaxError\u001b[0m\u001b[1;31m:\u001b[0m invalid syntax\n"
     ]
    }
   ],
   "source": [
    "# Match the values\n",
    "firstList = [3, 2, 1]\n",
    "secondList = [1, 2, 3]\n",
    "third List = [1,2,3]\n",
    "    for j in secondList:\n",
    "        if i==j:\n",
    "            print(i,j,\"Match\")\n",
    "        else:\n",
    "            print(i,j,\"Not Match\")\n"
   ]
  },
  {
   "cell_type": "code",
   "execution_count": 49,
   "id": "21f5adfa-e1b7-4810-8898-adc1bdbf2ce6",
   "metadata": {},
   "outputs": [
    {
     "name": "stdout",
     "output_type": "stream",
     "text": [
      "1 1 1 Match\n",
      "2 2 2 Match\n",
      "3 3 3 Match\n",
      "4 4 4 Match\n"
     ]
    }
   ],
   "source": [
    "Firstlist = [1,2,3,4]\n",
    "Secondlist = [1,2,3,4,5]\n",
    "Thirdlist = [1,2,3,4]\n",
    "for i in Firstlist:\n",
    "   for j in Secondlist:\n",
    "       for k in Thirdlist:\n",
    "           if i==j and j==k:\n",
    "               print (i,j,k,'Match')\n",
    "           "
   ]
  },
  {
   "cell_type": "code",
   "execution_count": 45,
   "id": "2c8b6a99-e2e7-4db4-a63f-68601333b4d4",
   "metadata": {},
   "outputs": [],
   "source": [
    "# HomeWork"
   ]
  },
  {
   "cell_type": "code",
   "execution_count": 43,
   "id": "c90ec207-2661-43ed-913d-aa52539f8821",
   "metadata": {},
   "outputs": [],
   "source": [
    "# match the values of  Three List\n",
    "firstList = [3,2,1]\n",
    "secondList = [1,2,3]\n",
    "thirdList = [1,2,3]\n",
    "\n"
   ]
  },
  {
   "cell_type": "code",
   "execution_count": 46,
   "id": "746c4755",
   "metadata": {},
   "outputs": [
    {
     "name": "stdout",
     "output_type": "stream",
     "text": [
      "3 1  Not Match\n",
      "3 2  Not Match\n",
      "3 3  Match\n",
      "2 1  Not Match\n",
      "2 2  Match\n",
      "2 3  Not Match\n",
      "1 1  Match\n",
      "1 2  Not Match\n",
      "1 3  Not Match\n"
     ]
    }
   ],
   "source": [
    "# Print only matching Values\n",
    "\n",
    "firstList = [3, 2, 1]\n",
    "secondList = [1, 2, 3]\n",
    "\n",
    "for i in firstList:\n",
    "    for j in secondList:\n",
    "        if i == j:\n",
    "            print(i,j,\" Match\")\n",
    "        else:\n",
    "            print(i,j,\" Not Match\")\n",
    "            "
   ]
  },
  {
   "cell_type": "code",
   "execution_count": null,
   "id": "970638ba",
   "metadata": {},
   "outputs": [],
   "source": [
    "# Print SOme Patterns\n"
   ]
  },
  {
   "cell_type": "code",
   "execution_count": null,
   "id": "823a6f45",
   "metadata": {},
   "outputs": [],
   "source": [
    "\n",
    "'''print below pattern'''\n",
    "'''\n",
    "1 2 3 4 5 6 \n",
    "1 2 3 4 5 6 \n",
    "1 2 3 4 5 6 \n",
    "1 2 3 4 5 6 \n",
    "1 2 3 4 5 6 \n",
    "1 2 3 4 5 6    \n",
    "'''"
   ]
  },
  {
   "cell_type": "code",
   "execution_count": 52,
   "id": "6c9c3e40-7b87-4233-9560-6982cbc34d4a",
   "metadata": {},
   "outputs": [
    {
     "name": "stdout",
     "output_type": "stream",
     "text": [
      "1 2 3 4 5 6\n",
      "1 2 3 4 5 6\n",
      "1 2 3 4 5 6\n",
      "1 2 3 4 5 6\n",
      "1 2 3 4 5 6\n",
      "1 2 3 4 5 6\n"
     ]
    }
   ],
   "source": [
    "for i in range(1,7):\n",
    "    print(\"1 2 3 4 5 6\")\n",
    "\n"
   ]
  },
  {
   "cell_type": "code",
   "execution_count": 57,
   "id": "7af6d235-a7d6-474d-9666-f4db06844e5b",
   "metadata": {},
   "outputs": [
    {
     "name": "stdout",
     "output_type": "stream",
     "text": [
      "1 2 3 4 5 6 \n",
      "1 2 3 4 5 6 \n",
      "1 2 3 4 5 6 \n",
      "1 2 3 4 5 6 \n",
      "1 2 3 4 5 6 \n",
      "1 2 3 4 5 6 \n"
     ]
    }
   ],
   "source": [
    "for i in range(1,7):\n",
    "    for j in range(1,7):\n",
    "        print(j,end = \" \")\n",
    "    print()\n",
    "    "
   ]
  },
  {
   "cell_type": "code",
   "execution_count": null,
   "id": "f82af629-76a1-4e47-b091-6bd256ad24cc",
   "metadata": {},
   "outputs": [],
   "source": []
  },
  {
   "cell_type": "code",
   "execution_count": null,
   "id": "fcf0de10-9d2d-4b00-8262-2dca9450c6e3",
   "metadata": {},
   "outputs": [],
   "source": []
  },
  {
   "cell_type": "code",
   "execution_count": null,
   "id": "47050822-e9a7-4c94-b30b-70c8206efc8d",
   "metadata": {},
   "outputs": [],
   "source": []
  },
  {
   "cell_type": "code",
   "execution_count": null,
   "id": "c0abc733-4875-489b-9527-e1c2632748aa",
   "metadata": {},
   "outputs": [],
   "source": []
  },
  {
   "cell_type": "code",
   "execution_count": 56,
   "id": "b43fe5e4-e02f-41b7-a022-3b8c0a560ee5",
   "metadata": {},
   "outputs": [
    {
     "name": "stdout",
     "output_type": "stream",
     "text": [
      "1 2 3 4 5 6 \n",
      "1 2 3 4 5 6 \n",
      "1 2 3 4 5 6 \n",
      "1 2 3 4 5 6 \n",
      "1 2 3 4 5 6 \n",
      "1 2 3 4 5 6 \n"
     ]
    }
   ],
   "source": [
    "for j in range(1,7):\n",
    "    for i in range(1,7):\n",
    "        print(i,end=\" \")\n",
    "    print()\n"
   ]
  },
  {
   "cell_type": "code",
   "execution_count": null,
   "id": "b79e71fb-e34e-4d4c-80bd-12f6bb3a5a91",
   "metadata": {},
   "outputs": [],
   "source": []
  },
  {
   "cell_type": "code",
   "execution_count": null,
   "id": "1f7329b6-e545-40ea-88b3-1ff1eafc18e5",
   "metadata": {},
   "outputs": [],
   "source": []
  },
  {
   "cell_type": "code",
   "execution_count": null,
   "id": "b5100db6-82ca-4ba7-af5e-be75e5926547",
   "metadata": {},
   "outputs": [],
   "source": []
  },
  {
   "cell_type": "code",
   "execution_count": null,
   "id": "8a8d5e4b-37f1-4b45-83e5-6998a58914e3",
   "metadata": {},
   "outputs": [],
   "source": []
  },
  {
   "cell_type": "code",
   "execution_count": 57,
   "id": "caa8d103-b0fc-4ab5-bfa1-378687c154d5",
   "metadata": {},
   "outputs": [
    {
     "name": "stdout",
     "output_type": "stream",
     "text": [
      "1 2 3 4 5 6 \n",
      "1 2 3 4 5 6 \n",
      "1 2 3 4 5 6 \n",
      "1 2 3 4 5 6 \n",
      "1 2 3 4 5 6 \n",
      "1 2 3 4 5 6 \n"
     ]
    }
   ],
   "source": [
    "for j in range(1,7):\n",
    "    for i in range(1,7):\n",
    "        print(i,end=\" \")\n",
    "    print()\n",
    "\n"
   ]
  },
  {
   "cell_type": "code",
   "execution_count": 58,
   "id": "1eb6b164",
   "metadata": {},
   "outputs": [
    {
     "name": "stdout",
     "output_type": "stream",
     "text": [
      "1 2 3 4 5 6 \n",
      "1 2 3 4 5 6 \n",
      "1 2 3 4 5 6 \n",
      "1 2 3 4 5 6 \n",
      "1 2 3 4 5 6 \n",
      "1 2 3 4 5 6 \n"
     ]
    }
   ],
   "source": [
    "for i in range(1,7):\n",
    "    for j in range(1,7):\n",
    "        print(j,end=\" \")\n",
    "    print()\n",
    "    \n"
   ]
  },
  {
   "cell_type": "code",
   "execution_count": null,
   "id": "c27aa0e8-f999-4fa3-a021-b07d00c5292f",
   "metadata": {},
   "outputs": [],
   "source": [
    "\n",
    "'''print below pattern'''\n",
    "'''\n",
    "$ $ $ $ $ $ \n",
    "$ $ $ $ $ $ \n",
    "$ $ $ $ $ $  \n",
    "$ $ $ $ $ $ \n",
    "$ $ $ $ $ $ \n",
    "$ $ $ $ $ $ \n",
    "'''"
   ]
  },
  {
   "cell_type": "code",
   "execution_count": 68,
   "id": "3324c1a3-28c8-4600-8a7b-2b85b8ccafa0",
   "metadata": {},
   "outputs": [
    {
     "name": "stdout",
     "output_type": "stream",
     "text": [
      "* * * * * * \n",
      "* * * * * * \n",
      "* * * * * * \n",
      "* * * * * * \n",
      "* * * * * * \n",
      "* * * * * * \n"
     ]
    }
   ],
   "source": [
    "for i in range(1,7):\n",
    "    for j in range(1,7):\n",
    "        print(\"*\",end=\" \")\n",
    "    print()\n"
   ]
  },
  {
   "cell_type": "code",
   "execution_count": 62,
   "id": "b78eb45b-71d6-4039-9597-775e633341de",
   "metadata": {},
   "outputs": [
    {
     "name": "stdout",
     "output_type": "stream",
     "text": [
      "= = = = = = \n",
      "= = = = = = \n",
      "= = = = = = \n",
      "= = = = = = \n",
      "= = = = = = \n",
      "= = = = = = \n"
     ]
    }
   ],
   "source": [
    "for i in range(1,7):\n",
    "    for j in range(1,7):\n",
    "        print(\"=\",end=\" \")\n",
    "    print()\n",
    "\n"
   ]
  },
  {
   "cell_type": "code",
   "execution_count": null,
   "id": "855cc710",
   "metadata": {},
   "outputs": [],
   "source": [
    "for i in range(1,7):\n",
    "    for j in range(1,7):\n",
    "        print(\"*\",end=\" \")\n",
    "    print()\n"
   ]
  },
  {
   "cell_type": "code",
   "execution_count": null,
   "id": "2abf43f9",
   "metadata": {},
   "outputs": [],
   "source": [
    "'''\n",
    "* * * * * * \n",
    "* * * * * * \n",
    "* * * * * * \n",
    "* * * * * * \n",
    "* * * * * * \n",
    "* * * * * *    '''"
   ]
  },
  {
   "cell_type": "code",
   "execution_count": 63,
   "id": "658777be",
   "metadata": {},
   "outputs": [
    {
     "name": "stdout",
     "output_type": "stream",
     "text": [
      "* * * * * * \n",
      "* * * * * * \n",
      "* * * * * * \n",
      "* * * * * * \n",
      "* * * * * * \n",
      "* * * * * * \n"
     ]
    }
   ],
   "source": [
    "for i in range(1,7):\n",
    "    for j in range(1,7):\n",
    "        print(\"*\",end=\" \")\n",
    "    print()\n",
    "    "
   ]
  },
  {
   "cell_type": "code",
   "execution_count": 64,
   "id": "db005bc7",
   "metadata": {},
   "outputs": [
    {
     "name": "stdout",
     "output_type": "stream",
     "text": [
      "* * * * * * \n",
      "* * * * * * \n",
      "* * * * * * \n",
      "* * * * * * \n",
      "* * * * * * \n",
      "* * * * * * \n"
     ]
    }
   ],
   "source": [
    "for i in range(1,7):\n",
    "    for j in range(1,7):\n",
    "        print(\"*\",end=\" \")\n",
    "    print()\n",
    "    "
   ]
  },
  {
   "cell_type": "code",
   "execution_count": null,
   "id": "f8388941",
   "metadata": {},
   "outputs": [],
   "source": [
    "\n",
    "\n",
    "'''\n",
    "* \n",
    "* * \n",
    "* * * \n",
    "* * * * \n",
    "* * * * *    \n",
    "'''\n",
    "\n"
   ]
  },
  {
   "cell_type": "code",
   "execution_count": 77,
   "id": "3346a7a6-8f67-44af-bdcf-0a2bb62431bc",
   "metadata": {},
   "outputs": [
    {
     "name": "stdout",
     "output_type": "stream",
     "text": [
      "\n",
      "* \n",
      "* * \n",
      "* * * \n",
      "* * * * \n",
      "* * * * * \n"
     ]
    }
   ],
   "source": [
    "for i in range(1,7):\n",
    "    for j in range(1,i):\n",
    "        print(\"*\",end=\" \")\n",
    "    print()\n"
   ]
  },
  {
   "cell_type": "code",
   "execution_count": 68,
   "id": "565f2ce7-9325-4e06-8001-116c537ae294",
   "metadata": {},
   "outputs": [
    {
     "name": "stdout",
     "output_type": "stream",
     "text": [
      "* \n",
      "* * \n",
      "* * * \n",
      "* * * * \n",
      "* * * * * \n"
     ]
    }
   ],
   "source": [
    "for i in range(1,2):\n",
    "    print(\"*\",end=\" \")\n",
    "print()\n",
    "for i in range(1,3):\n",
    "    print(\"*\",end=\" \")\n",
    "print()\n",
    "for i in range(1,4):\n",
    "    print(\"*\",end=\" \")\n",
    "print()\n",
    "for i in range(1,5):\n",
    "    print(\"*\",end=\" \")\n",
    "print()\n",
    "for i in range(1,6):\n",
    "    print(\"*\",end=\" \")\n",
    "print()\n"
   ]
  },
  {
   "cell_type": "code",
   "execution_count": 76,
   "id": "40d596b8-704a-41e5-b5b9-be09b3056a66",
   "metadata": {},
   "outputs": [
    {
     "name": "stdout",
     "output_type": "stream",
     "text": [
      "\n",
      "* \n",
      "* * \n",
      "* * * \n",
      "* * * * \n",
      "* * * * * \n"
     ]
    }
   ],
   "source": [
    "for j in range(1,7):\n",
    "    for i in range(1,j):\n",
    "        print(\"*\",end=\" \")\n",
    "    print()\n"
   ]
  },
  {
   "cell_type": "code",
   "execution_count": null,
   "id": "f93ad808-4c4b-4cd9-ace8-5f3607737472",
   "metadata": {},
   "outputs": [],
   "source": []
  },
  {
   "cell_type": "code",
   "execution_count": null,
   "id": "415019f8",
   "metadata": {},
   "outputs": [],
   "source": [
    "'''Nested Loop'''\n",
    "for i in range(1,7):\n",
    "    for j in range(1,i):\n",
    "        print(\"*\",end=\" \")\n",
    "    print()"
   ]
  },
  {
   "cell_type": "code",
   "execution_count": null,
   "id": "b9cffe41",
   "metadata": {},
   "outputs": [],
   "source": []
  },
  {
   "cell_type": "code",
   "execution_count": null,
   "id": "07a2aeda",
   "metadata": {},
   "outputs": [],
   "source": [
    "for i in range(1,7):\n",
    "    for j in range(1,i):\n",
    "        print(\"*\",end=\" \")\n",
    "    print()"
   ]
  },
  {
   "cell_type": "code",
   "execution_count": null,
   "id": "2af2cfbf",
   "metadata": {},
   "outputs": [],
   "source": []
  },
  {
   "cell_type": "code",
   "execution_count": null,
   "id": "1287796a",
   "metadata": {},
   "outputs": [],
   "source": [
    "'''\n",
    "* * * * * * * * * \n",
    "* * * * * * * * \n",
    "* * * * * * * \n",
    "* * * * * * \n",
    "* * * * * \n",
    "* * * * \n",
    "* * * \n",
    "* * \n",
    "* '''"
   ]
  },
  {
   "cell_type": "code",
   "execution_count": 81,
   "id": "bd4bf132-cdbe-4994-ba8a-cbd383ff0b6a",
   "metadata": {},
   "outputs": [
    {
     "name": "stdout",
     "output_type": "stream",
     "text": [
      "* * * * * * \n",
      "* * * * * \n",
      "* * * * \n",
      "* * * \n",
      "* * \n",
      "* \n"
     ]
    }
   ],
   "source": [
    "for i in range(1,7):\n",
    "    for j in range(i,7):\n",
    "        print(\"*\",end=\" \")\n",
    "    print()\n"
   ]
  },
  {
   "cell_type": "code",
   "execution_count": 79,
   "id": "975069fe-a894-4d80-ad7b-e55b0ec9b670",
   "metadata": {},
   "outputs": [
    {
     "name": "stdout",
     "output_type": "stream",
     "text": [
      "* * * * * * \n",
      "* * * * * \n",
      "* * * * \n",
      "* * * \n",
      "* * \n",
      "* "
     ]
    }
   ],
   "source": [
    "\n",
    "for j in range(1,7): \n",
    "    print(\"*\",end=\" \")\n",
    "print()\n",
    "for j in range(2,7):\n",
    "    print(\"*\",end=\" \")\n",
    "print()\n",
    "for j in range(3,7): \n",
    "    print(\"*\",end=\" \")\n",
    "print()\n",
    "for j in range(4,7):\n",
    "    print(\"*\",end=\" \")\n",
    "print()\n",
    "for j in range(5,7):\n",
    "    print(\"*\",end=\" \")\n",
    "print()\n",
    "for j in range(6,7):\n",
    "    print(\"*\",end=\" \")\n",
    "\n",
    "\n",
    "\n"
   ]
  },
  {
   "cell_type": "code",
   "execution_count": 85,
   "id": "20c49185-a941-4974-bd2b-9081edaa50f9",
   "metadata": {},
   "outputs": [
    {
     "name": "stdout",
     "output_type": "stream",
     "text": [
      "* * * * * * \n",
      "* * * * * \n",
      "* * * * \n",
      "* * * \n",
      "* * \n",
      "* \n"
     ]
    }
   ],
   "source": [
    "for i in range(1,7):\n",
    "    for j in range(i,7):\n",
    "        print(\"*\",end=\" \")\n",
    "    print()\n",
    "\n"
   ]
  },
  {
   "cell_type": "code",
   "execution_count": 86,
   "id": "e8cb4698-5970-457e-81cf-a54d6074740f",
   "metadata": {},
   "outputs": [
    {
     "name": "stdout",
     "output_type": "stream",
     "text": [
      "* * * * * * \n",
      "* * * * * \n",
      "* * * * \n",
      "* * * \n",
      "* * \n",
      "* \n"
     ]
    }
   ],
   "source": [
    "for i in range(1,7):\n",
    "    for j in range(i,7): \n",
    "        print(\"*\",end=\" \")\n",
    "    print()\n",
    "    "
   ]
  },
  {
   "cell_type": "code",
   "execution_count": null,
   "id": "7c8629dc",
   "metadata": {},
   "outputs": [],
   "source": [
    "for i in range(1,7):\n",
    "    for j in range(i,7):\n",
    "        print(\"*\",end=\" \")\n",
    "    print()"
   ]
  },
  {
   "cell_type": "code",
   "execution_count": null,
   "id": "0d08eaf2",
   "metadata": {},
   "outputs": [],
   "source": []
  },
  {
   "cell_type": "code",
   "execution_count": null,
   "id": "3200ca31",
   "metadata": {},
   "outputs": [],
   "source": [
    "\n",
    "for i in range(1,7):\n",
    "    k = 7-i\n",
    "    for j in range(1,k):\n",
    "        print(\"*\",end=\" \")\n",
    "    print()\n",
    "\n"
   ]
  },
  {
   "cell_type": "code",
   "execution_count": 82,
   "id": "e41d523c",
   "metadata": {},
   "outputs": [
    {
     "name": "stdout",
     "output_type": "stream",
     "text": [
      "1\n",
      "2\n"
     ]
    }
   ],
   "source": [
    "'''break Statement'''\n",
    "''' break statement immediately terminates the loop'''\n",
    "\n",
    "for i in range(1,6):\n",
    "    if i==3:\n",
    "        break\n",
    "    print(i)\n",
    "    "
   ]
  },
  {
   "cell_type": "code",
   "execution_count": 83,
   "id": "cc1ec963",
   "metadata": {},
   "outputs": [
    {
     "name": "stdout",
     "output_type": "stream",
     "text": [
      "0\n",
      "1\n",
      "2\n",
      "4\n",
      "5\n"
     ]
    }
   ],
   "source": [
    "'''Continue'''\n",
    "'''continue statement skips and jump to the rest iteration of the loop '''\n",
    "\n",
    "for i in range(6):\n",
    "    if i == 3:\n",
    "        continue\n",
    "    print(i)\n",
    "\n"
   ]
  },
  {
   "cell_type": "code",
   "execution_count": null,
   "id": "304eb1cc",
   "metadata": {},
   "outputs": [],
   "source": []
  },
  {
   "cell_type": "code",
   "execution_count": null,
   "id": "de1edcb6",
   "metadata": {},
   "outputs": [],
   "source": []
  },
  {
   "cell_type": "code",
   "execution_count": null,
   "id": "e858d99a",
   "metadata": {},
   "outputs": [],
   "source": []
  },
  {
   "cell_type": "code",
   "execution_count": null,
   "id": "9e88b08d",
   "metadata": {},
   "outputs": [],
   "source": []
  },
  {
   "cell_type": "code",
   "execution_count": null,
   "id": "07f1c64c",
   "metadata": {},
   "outputs": [],
   "source": []
  }
 ],
 "metadata": {
  "kernelspec": {
   "display_name": "Python 3 (ipykernel)",
   "language": "python",
   "name": "python3"
  },
  "language_info": {
   "codemirror_mode": {
    "name": "ipython",
    "version": 3
   },
   "file_extension": ".py",
   "mimetype": "text/x-python",
   "name": "python",
   "nbconvert_exporter": "python",
   "pygments_lexer": "ipython3",
   "version": "3.11.7"
  }
 },
 "nbformat": 4,
 "nbformat_minor": 5
}
