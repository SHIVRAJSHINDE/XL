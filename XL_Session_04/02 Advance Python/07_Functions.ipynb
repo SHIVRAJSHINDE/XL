{
 "cells": [
  {
   "cell_type": "markdown",
   "id": "00a2a5e6-f5c9-4ebf-8ff5-a2896dacb1dd",
   "metadata": {
    "jp-MarkdownHeadingCollapsed": true
   },
   "source": [
    "# Build In Functions"
   ]
  },
  {
   "cell_type": "markdown",
   "id": "6592ea35-a47e-46d3-8412-a4a495209e2c",
   "metadata": {},
   "source": [
    "<table style=\"width: 100%; border-collapse: collapse; font-family: Candara, sans-serif; color: #189AB4;\">\r\n",
    "    <thead>\r\n",
    "        <tr style=\"background-color: #189AB4; color: white;\">\r\n",
    "            <th style=\"padding: 8px; text-align: left; border: 1px solid #ddd;\">Function</th>\r\n",
    "            <th style=\"padding: 8px; text-align: left; border: 1px solid #ddd;\">Description</th>\r\n",
    "        </tr>\r\n",
    "    </thead>\r\n",
    "    <tbody>\r\n",
    "        <tr style=\"background-color: #f2f2f2;\">\r\n",
    "            <td style=\"padding: 8px; border: 1px solid #ddd; font-size: 1em;\">print()</td>\r\n",
    "            <td style=\"padding: 8px; border: 1px solid #ddd;\">Prints the specified message to the screen.</td>\r\n",
    "        </tr>\r\n",
    "        <tr style=\"background-color: #ffffff;\">\r\n",
    "            <td style=\"padding: 8px; border: 1px solid #ddd; font-size: 1em;\">len()</td>\r\n",
    "            <td style=\"padding: 8px; border: 1px solid #ddd;\">Returns the length of an object.</td>\r\n",
    "        </tr>\r\n",
    "        <tr style=\"background-color: #f2f2f2;\">\r\n",
    "            <td style=\"padding: 8px; border: 1px solid #ddd; font-size: 1em;\">input()</td>\r\n",
    "            <td style=\"padding: 8px; border: 1px solid #ddd;\">Reads a line of text from the user.</td>\r\n",
    "        </tr>\r\n",
    "        <tr style=\"background-color: #ffffff;\">\r\n",
    "            <td style=\"padding: 8px; border: 1px solid #ddd; font-size: 1em;\">range()</td>\r\n",
    "            <td style=\"padding: 8px; border: 1px solid #ddd;\">Generates a sequence of numbers.</td>\r\n",
    "        </tr>\r\n",
    "        <tr style=\"background-color: #f2f2f2;\">\r\n",
    "            <td style=\"padding: 8px; border: 1px solid #ddd; font-size: 1em;\">type()</td>\r\n",
    "            <td style=\"padding: 8px; border: 1px solid #ddd;\">Returns the type of an object.</td>\r\n",
    "        </tr>\r\n",
    "        <tr style=\"background-color: #ffffff;\">\r\n",
    "            <td style=\"padding: 8px; border: 1px solid #ddd; font-size: 1em;\">str()</td>\r\n",
    "            <td style=\"padding: 8px; border: 1px solid #ddd;\">Converts an object to a string.</td>\r\n",
    "        </tr>\r\n",
    "        <tr style=\"background-color: #f2f2f2;\">\r\n",
    "            <td style=\"padding: 8px; border: 1px solid #ddd; font-size: 1em;\">int()</td>\r\n",
    "            <td style=\"padding: 8px; border: 1px solid #ddd;\">Converts a number or string to an integer.</td>\r\n",
    "        </tr>\r\n",
    "        <tr style=\"background-color: #ffffff;\">\r\n",
    "            <td style=\"padding: 8px; border: 1px solid #ddd; font-size: 1em;\">float()</td>\r\n",
    "            <td style=\"padding: 8px; border: 1px solid #ddd;\">Converts a number or string to a floating-point number.</td>\r\n",
    "        </tr>\r\n",
    "        <tr style=\"background-color: #f2f2f2;\">\r\n",
    "            <td style=\"padding: 8px; border: 1px solid #ddd; font-size: 1em;\">list()</td>\r\n",
    "            <td style=\"padding: 8px; border: 1px solid #ddd;\">Creates a list object.</td>\r\n",
    "        </tr>\r\n",
    "        <tr style=\"background-color: #ffffff;\">\r\n",
    "            <td style=\"padding: 8px; border: 1px solid #ddd; font-size: 1em;\">dict()</td>\r\n",
    "            <td style=\"padding: 8px; border: 1px solid #ddd;\">Creates a dictionary object.</td>\r\n",
    "        </tr>\r\n",
    "        <tr style=\"background-color: #f2f2f2;\">\r\n",
    "            <td style=\"padding: 8px; border: 1px solid #ddd; font-size: 1em;\">sorted()</td>\r\n",
    "            <td style=\"padding: 8px; border: 1px solid #ddd;\">Returns a sorted list from the elements of an iterable.</td>\r\n",
    "        </tr>\r\n",
    "        <tr style=\"background-color: #ffffff;\">\r\n",
    "            <td style=\"padding: 8px; border: 1px solid #ddd; font-size: 1em;\">sum()</td>\r\n",
    "            <td style=\"padding: 8px; border: 1px solid #ddd;\">Sums up all the items in an iterable.</td>\r\n",
    "        </tr>\r\n",
    "        <tr style=\"background-color: #f2f2f2;\">\r\n",
    "            <td style=\"padding: 8px; border: 1px solid #ddd; font-size: 1em;\">max()</td>\r\n",
    "            <td style=\"padding: 8px; border: 1px solid #ddd;\">Returns the largest item from an iterable or the largest of two or more arguments.</td>\r\n",
    "        </tr>\r\n",
    "        <tr style=\"background-color: #ffffff;\">\r\n",
    "            <td style=\"padding: 8px; border: 1px solid #ddd; font-size: 1em;\">min()</td>\r\n",
    "            <td style=\"padding: 8px; border: 1px solid #ddd;\">Returns the smallest item from an iterable or the smallest of two or more arguments.</td>\r\n",
    "        </tr>\r\n",
    "        <tr style=\"background-color: #f2f2f2;\">\r\n",
    "            <td style=\"padding: 8px; border: 1px solid #ddd; font-size: 1em;\">enumerate()</td>\r\n",
    "            <td style=\"padding: 8px; border: 1px solid #ddd;\">Adds a counter to an iterable and returns it in the form of an enumerate object.</td>\r\n",
    "        </tr>\r\n",
    "        <tr style=\"background-color: #ffffff;\">\r\n",
    "            <td style=\"padding: 8px; border: 1px solid #ddd; font-size: 1em;\">zip()</td>\r\n",
    "            <td style=\"padding: 8px; border: 1px solid #ddd;\">Combines two or more iterables element-wise into tuples.</td>\r\n",
    "        </tr>\r\n",
    "    </tbody>\r\n",
    "</table>\r\n"
   ]
  },
  {
   "cell_type": "code",
   "execution_count": null,
   "id": "6c174e4b",
   "metadata": {},
   "outputs": [],
   "source": [
    "\n",
    "\n",
    "print(\"HI\")\n",
    "\n",
    "len(\"rajesh\")\n"
   ]
  },
  {
   "cell_type": "code",
   "execution_count": null,
   "id": "c565f8a8-8b45-4e3e-bd2c-3bbf5c4ff9f0",
   "metadata": {},
   "outputs": [],
   "source": []
  },
  {
   "cell_type": "markdown",
   "id": "ee64c0f5-0761-48a3-9434-31cce41f2ff5",
   "metadata": {
    "jp-MarkdownHeadingCollapsed": true
   },
   "source": [
    "# User-defined Functions:"
   ]
  },
  {
   "cell_type": "code",
   "execution_count": null,
   "id": "5f35e7ba-6ccf-4c56-891e-c3dd14046107",
   "metadata": {},
   "outputs": [],
   "source": [
    "def addTowNumbers():\n",
    "    a=5\n",
    "    b=6\n",
    "    c = a+b\n",
    "    print(c)\n",
    "\n",
    "addTowNumbers()\n"
   ]
  },
  {
   "cell_type": "code",
   "execution_count": null,
   "id": "01ab70cb-1cb8-44fe-b018-fc9a2d0b270b",
   "metadata": {},
   "outputs": [],
   "source": [
    "def printName(abc):\n",
    "    print(abc)\n",
    "\n",
    "printName(\"Rajesh\")\n"
   ]
  },
  {
   "cell_type": "markdown",
   "id": "1c9af47e-2867-4da3-bded-5d017651ff79",
   "metadata": {
    "jp-MarkdownHeadingCollapsed": true
   },
   "source": [
    "# Parameters or Arguments"
   ]
  },
  {
   "cell_type": "markdown",
   "id": "0563c5a5-a60c-4796-a843-433165ac10bc",
   "metadata": {},
   "source": [
    "<table style=\"width: 100%; border-collapse: collapse;\">\r\n",
    "    <thead>\r\n",
    "        <tr style=\"background-color: #4CAF50; color: white;\">\r\n",
    "            <th style=\"padding: 10px; text-align: left;\">Type of Argument</th>\r\n",
    "            <th style=\"padding: 10px; text-align: left;\">Description</th>\r\n",
    "        </tr>\r\n",
    "    </thead>\r\n",
    "    <tbody>\r\n",
    "        <tr style=\"background-color: #f2f2f2;\">\r\n",
    "            <td style=\"padding: 10px;\">Positional Argument</td>\r\n",
    "            <td style=\"padding: 10px;\">Arguments passed in a specific order as defined in the function.</td>\r\n",
    "        </tr>\r\n",
    "        <tr style=\"background-color: #ffffff;\">\r\n",
    "            <td style=\"padding: 10px;\">Arbitrary Arguments, <code style=\"background-color: #e7e7e7; padding: 2px 4px;\">*args</code></td>\r\n",
    "            <td style=\"padding: 10px;\">Allows passing a variable number of positional arguments, collected as a tuple.</td>\r\n",
    "        </tr>\r\n",
    "        <tr style=\"background-color: #f2f2f2;\">\r\n",
    "            <td style=\"padding: 10px;\">Keyword Arguments</td>\r\n",
    "            <td style=\"padding: 10px;\">Arguments passed by specifying their names, allowing flexibility in order.</td>\r\n",
    "        </tr>\r\n",
    "        <tr style=\"background-color: #ffffff;\">\r\n",
    "            <td style=\"padding: 10px;\">Arbitrary Keyword Arguments, <code style=\"background-color: #e7e7e7; padding: 2px 4px;\">**kwargs</code></td>\r\n",
    "            <td style=\"padding: 10px;\">Allows passing a variable number of keyword arguments, collected as a dictionary.</td>\r\n",
    "        </tr>\r\n",
    "    </tbody>\r\n",
    "</table>\r\n"
   ]
  },
  {
   "cell_type": "code",
   "execution_count": null,
   "id": "f5531306-da58-4158-91cb-f16dc9ed1c03",
   "metadata": {},
   "outputs": [],
   "source": []
  },
  {
   "cell_type": "code",
   "execution_count": null,
   "id": "a3a67f01",
   "metadata": {},
   "outputs": [],
   "source": [
    "\n",
    "'No Parameters'\n",
    "def my_func():\n",
    "    print(\"this is with no Parameters\")\n",
    "\n",
    "my_func()\n",
    "\n"
   ]
  },
  {
   "cell_type": "code",
   "execution_count": 2,
   "id": "9a6266e6",
   "metadata": {},
   "outputs": [
    {
     "name": "stdout",
     "output_type": "stream",
     "text": [
      "Sunil Chavan\n"
     ]
    }
   ],
   "source": [
    "'''With Simple Parameters or Arguments'''\n",
    "'''When the programmer Knows the exact No. of Argument'''\n",
    "\n",
    "def my_function(fname, lname):\n",
    "    print(fname + \" \" + lname)\n",
    "\n",
    "my_function(\"Sunil\",\"Chavan\")\n"
   ]
  },
  {
   "cell_type": "code",
   "execution_count": 6,
   "id": "77713b01-a1fd-4523-8c9a-770bf8011950",
   "metadata": {},
   "outputs": [
    {
     "name": "stdout",
     "output_type": "stream",
     "text": [
      "<class 'tuple'>\n"
     ]
    }
   ],
   "source": [
    "def newFunc(*args):\n",
    "    print(type(args))\n",
    "\n",
    "newFunc(\"Rajesh\",\"ak\",\"sj\",\"tk\")\n",
    "    "
   ]
  },
  {
   "cell_type": "code",
   "execution_count": null,
   "id": "18c0615b",
   "metadata": {},
   "outputs": [],
   "source": [
    "'Arbitrary Position Arguments, *args'\n",
    "# When the programmer does not know the exact No. of Argument\n",
    "\n",
    "def my_function(*kids):\n",
    "    print(\"The youngest child is \" + kids[0])\n",
    "    \n",
    "my_function(\"Amol\", \"Rajesh\", \"Sunil\",\"ashok\",\"sanjay\")\n",
    "\n",
    "    \n",
    "my_function(\"Amol\", \"Rajesh\", \"Sunil\",\"ashok\",\"sanjay\")\n",
    "\n"
   ]
  },
  {
   "cell_type": "code",
   "execution_count": 8,
   "id": "ed16405a",
   "metadata": {},
   "outputs": [
    {
     "name": "stdout",
     "output_type": "stream",
     "text": [
      "The youngest child is SUnil\n"
     ]
    }
   ],
   "source": [
    "'''Keyword Arguments:-'''\n",
    "# You can also send arguments with the “key = value” syntax.'\n",
    "\n",
    "def my_function(child2,child3,  child1):\n",
    "    print(\"The youngest child is \" + child2)\n",
    "\n",
    "my_function(child1 = \"Raejsh\", child2 = \"SUnil\", child3 = \"Savita\")\n"
   ]
  },
  {
   "cell_type": "code",
   "execution_count": 11,
   "id": "b35eac1f-9322-4964-8bba-48edc19bbb65",
   "metadata": {},
   "outputs": [
    {
     "name": "stdout",
     "output_type": "stream",
     "text": [
      "C is my kid\n"
     ]
    }
   ],
   "source": []
  },
  {
   "cell_type": "code",
   "execution_count": null,
   "id": "946814ec",
   "metadata": {},
   "outputs": [],
   "source": [
    "'''Arbitrary Keyword Arguments, **kwargs'''\n",
    "'''\n",
    "When programmers don’t know the Exact No. of Arguments in “Key=Value” Syntax \n",
    "Pass ** before the parameter name\n",
    "The function will receive a dictionary of arguments\n",
    "\n",
    "'''\n",
    "def my_function(**kid):\n",
    "    print(\"1st Child \" + kid[\"child1\"])\n",
    "    print(\"2nd Child \" + kid[\"child2\"])\n",
    "    print(\"3rd Child \" + kid[\"child3\"])\n",
    "\n",
    "\n",
    "my_function(child1 = \"Raejsh\", child2 = \"SUnil\", child3 = \"Savita\",child4 = \"Savita\")\n"
   ]
  },
  {
   "cell_type": "code",
   "execution_count": 17,
   "id": "5fa169a0-d1f6-44f4-ab16-8832b7ee45e1",
   "metadata": {},
   "outputs": [
    {
     "name": "stdout",
     "output_type": "stream",
     "text": [
      "my passport is of India Country\n"
     ]
    }
   ],
   "source": [
    "\n",
    "# Default Argument\n",
    "\n",
    "def myNewFunc(Country=\"India\"):\n",
    "    print(\"my passport is of\",Country, \"Country\")\n",
    "\n",
    "myNewFunc()\n"
   ]
  },
  {
   "cell_type": "code",
   "execution_count": null,
   "id": "df59091f",
   "metadata": {},
   "outputs": [],
   "source": [
    "'Default Parameter Value'\n",
    "'''\n",
    "If we call the function without argument, it uses the default value, \n",
    "The following example shows how to use a default parameter value.\n",
    "'''\n",
    "\n",
    "def my_function(country=\"India\"):\n",
    "    print(\"My COuntry is:  \" + country)\n",
    "\n",
    "my_function()\n",
    "\n"
   ]
  },
  {
   "cell_type": "code",
   "execution_count": null,
   "id": "c1c577d3-5945-4766-8a87-ae8ee5cc872e",
   "metadata": {},
   "outputs": [],
   "source": []
  },
  {
   "cell_type": "markdown",
   "id": "28513c40-6d6e-4a47-a3de-16c299945b19",
   "metadata": {},
   "source": []
  },
  {
   "cell_type": "markdown",
   "id": "2d65431b-a8b0-4311-bf0d-8a553ecc62ff",
   "metadata": {},
   "source": [
    "\r\n",
    "    </tbody>\r\n",
    "</table>\r\n"
   ]
  },
  {
   "cell_type": "code",
   "execution_count": null,
   "id": "5ca5ccd7",
   "metadata": {},
   "outputs": [],
   "source": []
  },
  {
   "cell_type": "code",
   "execution_count": null,
   "id": "790a1e5d-8e53-4332-b3fa-caf2eb17b3e3",
   "metadata": {},
   "outputs": [],
   "source": []
  },
  {
   "cell_type": "code",
   "execution_count": null,
   "id": "bbfb0462",
   "metadata": {},
   "outputs": [],
   "source": []
  },
  {
   "cell_type": "markdown",
   "id": "59a2be63",
   "metadata": {
    "jp-MarkdownHeadingCollapsed": true
   },
   "source": [
    "# Lambda"
   ]
  },
  {
   "cell_type": "code",
   "execution_count": 22,
   "id": "fb3b2929",
   "metadata": {},
   "outputs": [
    {
     "data": {
      "text/plain": [
       "15"
      ]
     },
     "execution_count": 22,
     "metadata": {},
     "output_type": "execute_result"
    }
   ],
   "source": [
    "'Simple FUnction'\n",
    "\n",
    "def newFunc(a):\n",
    "    return a + 5\n",
    "newFunc(5)\n"
   ]
  },
  {
   "cell_type": "code",
   "execution_count": null,
   "id": "dba6158a",
   "metadata": {},
   "outputs": [],
   "source": [
    "'''Lambda(with only one argument)'''\n",
    "# lambda arguments : expression \n",
    "\n",
    "a = lambda a : a + 5\n",
    "\n",
    "print(a(5))\n"
   ]
  },
  {
   "cell_type": "code",
   "execution_count": 32,
   "id": "3b8eb134",
   "metadata": {},
   "outputs": [
    {
     "data": {
      "text/plain": [
       "(15, 8)"
      ]
     },
     "execution_count": 32,
     "metadata": {},
     "output_type": "execute_result"
    }
   ],
   "source": [
    "'''Simple Function with multiple argument and Expression'''\n",
    "\n",
    "def multiply_and_add(x, y):\n",
    "    product = x * y\n",
    "    summation = x + y\n",
    "    \n",
    "    return product, summation\n",
    "\n",
    "multiply_and_add(5,3)\n",
    "\n"
   ]
  },
  {
   "cell_type": "code",
   "execution_count": null,
   "id": "ce51f6d4-70d7-42ec-af6a-154ea74a3717",
   "metadata": {},
   "outputs": [],
   "source": [
    "abc = 10\n",
    "xyz = 15\n",
    "abc, xyz = 10,15\n",
    "print(abc, xyz)"
   ]
  },
  {
   "cell_type": "code",
   "execution_count": null,
   "id": "36bd831b",
   "metadata": {},
   "outputs": [],
   "source": [
    "'''Lambda with multiple \n",
    "argument and Expression'''\n",
    "\n",
    "#                  lambda arguments : expression \n",
    "\n",
    "multiply_and_add = lambda x, y : (x * y, x + y)\n",
    "\n",
    "result = multiply_and_add(3, 5)\n",
    "\n",
    "print(result)\n"
   ]
  },
  {
   "cell_type": "code",
   "execution_count": null,
   "id": "34feea5f",
   "metadata": {},
   "outputs": [],
   "source": []
  },
  {
   "cell_type": "code",
   "execution_count": null,
   "id": "739a2428",
   "metadata": {},
   "outputs": [],
   "source": []
  },
  {
   "cell_type": "code",
   "execution_count": null,
   "id": "a8b49d2b-40ba-48e1-b151-f2c850e3afb6",
   "metadata": {},
   "outputs": [],
   "source": []
  },
  {
   "cell_type": "code",
   "execution_count": 52,
   "id": "b4579e6a",
   "metadata": {},
   "outputs": [
    {
     "data": {
      "text/plain": [
       "49"
      ]
     },
     "execution_count": 52,
     "metadata": {},
     "output_type": "execute_result"
    }
   ],
   "source": [
    "def find_max(x, y):\n",
    "    if x > y:\n",
    "        return x\n",
    "    else:\n",
    "        return y\n",
    "    \n",
    "result = find_max(50, 55)\n",
    "result\n",
    "\n",
    "\n",
    "abc = lambda x,y : x if x>y else y\n",
    "\n",
    "abc(45,49)\n"
   ]
  },
  {
   "cell_type": "code",
   "execution_count": null,
   "id": "1e57a025",
   "metadata": {},
   "outputs": [],
   "source": [
    "\n",
    "#          lambda arguments : true_value if condition else false_value\n",
    "\n",
    "find_max =lambda x,y : x if x>y else y\n",
    "result = find_max(100, 50)\n",
    "print(result)\n",
    "\n"
   ]
  },
  {
   "cell_type": "markdown",
   "id": "2ed30d2f-60dd-490f-a0d1-e5603463b929",
   "metadata": {
    "jp-MarkdownHeadingCollapsed": true
   },
   "source": [
    "\n",
    "# Return Types in Python Functions\n",
    "    "
   ]
  },
  {
   "cell_type": "markdown",
   "id": "a95f2d4f-72f6-4f90-99b7-debbcfc545f1",
   "metadata": {},
   "source": [
    "<table style=\"width: 100%; border-collapse: collapse; font-family: Arial, sans-serif;\">\n",
    "    <thead>\n",
    "        <tr style=\"background-color: #4CAF50; color: white;\">\n",
    "            <th style=\"padding: 12px; text-align: left; border: 1px solid #ddd;\">Type of Return</th>\n",
    "            <th style=\"padding: 12px; text-align: left; border: 1px solid #ddd;\">Description</th>\n",
    "        </tr>\n",
    "    </thead>\n",
    "    <tbody>\n",
    "        <tr style=\"background-color: #f2f2f2;\">\n",
    "            <td style=\"padding: 12px; border: 1px solid #ddd;\">print()</td>\n",
    "            <td style=\"padding: 12px; border: 1px solid #ddd;\">Outputs a value to the console; returns <code style=\"background-color: #e7e7e7; padding: 2px 4px;\">None</code>.</td>\n",
    "        </tr>\n",
    "        <tr style=\"background-color: #ffffff;\">\n",
    "            <td style=\"padding: 12px; border: 1px solid #ddd;\">return</td>\n",
    "            <td style=\"padding: 12px; border: 1px solid #ddd;\">Sends a value back to the caller; can return any value or <code style=\"background-color: #e7e7e7; padding: 2px 4px;\">None</code>.</td>\n",
    "        </tr>\n",
    "        <tr style=\"background-color: #f2f2f2;\">\n",
    "            <td style=\"padding: 12px; border: 1px solid #ddd;\">yield</td>\n",
    "            <td style=\"padding: 12px; border: 1px solid #ddd;\">Produces a sequence of values over time; makes the function a generator.</td>\n",
    "        </tr>\n",
    "        <tr style=\"background-color: #ffffff;\">\n",
    "            <td style=\"padding: 12px; border: 1px solid #ddd;\">pass</td>\n",
    "            <td style=\"padding: 12px; border: 1px solid #ddd;\">A no-operation placeholder; does not return any value or perform any action.</td>\n",
    "        </tr>\n",
    "    </tbody>\n",
    "</table>\n"
   ]
  },
  {
   "cell_type": "code",
   "execution_count": null,
   "id": "379e0ef5-d763-478d-afe1-3b33ba483ad0",
   "metadata": {},
   "outputs": [],
   "source": [
    "def functionABC():\n",
    "    print(\"\")\n",
    "    return \n",
    "    yield\n",
    "    pass\n",
    "    "
   ]
  },
  {
   "cell_type": "code",
   "execution_count": 91,
   "id": "55ea398d-3e4d-49df-99d8-edb773f70183",
   "metadata": {},
   "outputs": [
    {
     "data": {
      "text/plain": [
       "'Sunil'"
      ]
     },
     "execution_count": 91,
     "metadata": {},
     "output_type": "execute_result"
    }
   ],
   "source": [
    "def abcFunc():\n",
    "    return \"Sunil\"\n",
    "    print(\"Rajesh\")\n",
    "\n",
    "abcFunc()"
   ]
  },
  {
   "cell_type": "code",
   "execution_count": null,
   "id": "46e4577a-ee17-4528-8e44-a9e3a97ea033",
   "metadata": {},
   "outputs": [],
   "source": []
  },
  {
   "cell_type": "code",
   "execution_count": null,
   "id": "44b6bf25-2010-4cec-a9d6-32df9e30924a",
   "metadata": {},
   "outputs": [],
   "source": [
    "def functionABC():\n",
    "    print(\"Rajesh\")\n",
    "\n",
    "functionABC()\n"
   ]
  },
  {
   "cell_type": "code",
   "execution_count": null,
   "id": "440f3747-db22-4c19-a22d-8e92d090649e",
   "metadata": {},
   "outputs": [],
   "source": [
    "def functionABC():\n",
    "    return \"Rajesh\" \n",
    "\n",
    "functionABC()\n"
   ]
  },
  {
   "cell_type": "code",
   "execution_count": 63,
   "id": "5014a62c-350a-4695-b128-d26009bcc25c",
   "metadata": {},
   "outputs": [],
   "source": [
    "def functionABC():\n",
    "    pass\n",
    "functionABC()\n"
   ]
  },
  {
   "cell_type": "code",
   "execution_count": 85,
   "id": "a71bd667-ed66-4a0c-adb6-641149d0fa2a",
   "metadata": {},
   "outputs": [
    {
     "name": "stdout",
     "output_type": "stream",
     "text": [
      "1\n"
     ]
    }
   ],
   "source": [
    "def functionABC(a):\n",
    "    for i in range(1,a):\n",
    "        yield i\n",
    "\n",
    "abc = functionABC(a=10)\n",
    "print(next(abc))\n"
   ]
  },
  {
   "cell_type": "code",
   "execution_count": null,
   "id": "c634ab63-a071-419e-84e7-063385d3ac5f",
   "metadata": {},
   "outputs": [],
   "source": []
  },
  {
   "cell_type": "code",
   "execution_count": null,
   "id": "27cd3db1-e2b6-44b5-b789-6a157317b0b2",
   "metadata": {},
   "outputs": [],
   "source": []
  },
  {
   "cell_type": "code",
   "execution_count": null,
   "id": "0bcef274-4b71-4b65-a078-d5d5fb191e04",
   "metadata": {},
   "outputs": [],
   "source": [
    "# Return \n",
    "'To let a function return a value, use the return statement.'\n",
    "\n",
    "def my_function(x):\n",
    "    return 5*x\n",
    "\n",
    "myVariable = my_function(5)\n",
    "print(myVariable)\n"
   ]
  },
  {
   "cell_type": "code",
   "execution_count": null,
   "id": "dadca3cd-5a73-480b-b917-015bd5bc3763",
   "metadata": {},
   "outputs": [],
   "source": [
    "myVariable\n",
    "\n",
    "def addValue(myVariable):\n",
    "    print(myVariable+5)\n",
    "\n",
    "addValue(myVariable)\n"
   ]
  },
  {
   "cell_type": "markdown",
   "id": "b5b32617-0c04-445b-98b6-d2668eeaa8ee",
   "metadata": {},
   "source": [
    "def my_function():\n",
    "    pass\n",
    "\n",
    "my_function()\n"
   ]
  },
  {
   "cell_type": "code",
   "execution_count": null,
   "id": "bbf8d264-581b-418c-9701-12e7335e4a34",
   "metadata": {},
   "outputs": [],
   "source": []
  },
  {
   "cell_type": "code",
   "execution_count": null,
   "id": "603adba1-f6fe-4142-beac-5d4a4bbbf7c4",
   "metadata": {},
   "outputs": [],
   "source": []
  },
  {
   "cell_type": "markdown",
   "id": "4185107f",
   "metadata": {
    "jp-MarkdownHeadingCollapsed": true
   },
   "source": [
    "# Higher-Order Functions"
   ]
  },
  {
   "cell_type": "markdown",
   "id": "697ca068-3203-4c86-8a68-08183c19e2d1",
   "metadata": {},
   "source": [
    "<table style=\"width: 100%; border-collapse: collapse; font-family: Candara, sans-serif; color: #0000FF;\">\r\n",
    "    <thead>\r\n",
    "        <tr style=\"background-color: #007BFF; color: white;\">\r\n",
    "            <th style=\"padding: 12px; text-align: left; border: 1px solid #ddd;\">Function</th>\r\n",
    "            <th style=\"padding: 12px; text-align: left; border: 1px solid #ddd;\">Description</th>\r\n",
    "            <th style=\"padding: 12px; text-align: left; border: 1px solid #ddd;\">Syntax</th>\r\n",
    "        </tr>\r\n",
    "    </thead>\r\n",
    "    <tbody>\r\n",
    "        <tr style=\"background-color: #f2f2f2;\">\r\n",
    "            <td style=\"padding: 12px; border: 1px solid #ddd; font-size: 1.2em;\">filter()</td>\r\n",
    "            <td style=\"padding: 12px; border: 1px solid #ddd;\">This function takes a function and an iterable as input and returns an iterator yielding those items of the iterable for which the function returns true.</td>\r\n",
    "            <td style=\"padding: 12px; border: 1px solid #ddd;\"><code style=\"color: #0000FF;\">filter(function, iterable)</code></td>\r\n",
    "        </tr>\r\n",
    "        <tr style=\"background-color: #ffffff;\">\r\n",
    "            <td style=\"padding: 12px; border: 1px solid #ddd; font-size: 1.2em;\">map()</td>\r\n",
    "            <td style=\"padding: 12px; border: 1px solid #ddd;\">This function takes a function and iterables as input and applies the function to each item of the iterable(s). It returns an iterator that yields the results.</td>\r\n",
    "            <td style=\"padding: 12px; border: 1px solid #ddd;\"><code style=\"color: #0000FF;\">map(function, iterable1)</code></td>\r\n",
    "        </tr>\r\n",
    "        <tr style=\"background-color: #f2f2f2;\">\r\n",
    "            <td style=\"padding: 12px; border: 1px solid #ddd; font-size: 1.2em;\">reduce()</td>\r\n",
    "            <td style=\"padding: 12px; border: 1px solid #ddd;\">This function is not a built-in function like filter() and map(), but it exists in the functools module. It applies a rolling computation to sequential pairs of values in an iterable.</td>\r\n",
    "            <td style=\"padding: 12px; border: 1px solid #ddd;\">\r\n",
    "                <pre style=\"margin: 0; color: #0000FF;\"><code>from functools import reduce<br>reduce(function, iterable)</code></pre>\r\n",
    "            </td>\r\n",
    "        </tr>\r\n",
    "    </tbody>\r\n",
    "</table>\r\n",
    "r>\r\n",
    "    </tbody>\r\n",
    "</table>\r\n"
   ]
  },
  {
   "cell_type": "code",
   "execution_count": 120,
   "id": "38afc2a0-6312-46e0-be16-1e8684195249",
   "metadata": {},
   "outputs": [
    {
     "data": {
      "text/plain": [
       "[2, 4, 6, 8, 10]"
      ]
     },
     "execution_count": 120,
     "metadata": {},
     "output_type": "execute_result"
    }
   ],
   "source": [
    "numbers = [1, 2, 3, 4, 5, 6, 7, 8, 9, 10]\n",
    "newList = []\n",
    "\n",
    "for i in numbers:\n",
    "    if i%2==0:\n",
    "        newList.append(i)\n",
    "newList\n"
   ]
  },
  {
   "cell_type": "code",
   "execution_count": 125,
   "id": "f176e6c8-5f26-4b08-8dc3-cf7476bdf2fe",
   "metadata": {},
   "outputs": [
    {
     "data": {
      "text/plain": [
       "[2, 4, 6, 8, 10]"
      ]
     },
     "execution_count": 125,
     "metadata": {},
     "output_type": "execute_result"
    }
   ],
   "source": []
  },
  {
   "cell_type": "code",
   "execution_count": null,
   "id": "6164aaed",
   "metadata": {},
   "outputs": [],
   "source": [
    "'''filter'''\n",
    "\n",
    "'''filter(function, iterable)'''\n",
    "'find even number by using filer'\n",
    "\n",
    "numbers = [1, 2, 3, 4, 5, 6, 7, 8, 9, 10]\n",
    "\n",
    "def is_even(x):\n",
    "    if x % 2 == 0:\n",
    "        return x\n",
    "\n",
    "filter(is_even,numbers)    # iterator  Object\n",
    "\n",
    "abc = filter(is_even,numbers)\n",
    "list(abc)\n"
   ]
  },
  {
   "cell_type": "code",
   "execution_count": null,
   "id": "18fc3246-e160-4683-89ca-17d07ff78d85",
   "metadata": {},
   "outputs": [],
   "source": []
  },
  {
   "cell_type": "code",
   "execution_count": null,
   "id": "cee71117",
   "metadata": {},
   "outputs": [],
   "source": []
  },
  {
   "cell_type": "code",
   "execution_count": 140,
   "id": "0cfc47bc",
   "metadata": {},
   "outputs": [
    {
     "data": {
      "text/plain": [
       "<filter at 0x26161222e90>"
      ]
     },
     "execution_count": 140,
     "metadata": {},
     "output_type": "execute_result"
    }
   ],
   "source": [
    "'''PRACTICE'''\n",
    "# x, y : x if x > y else y\n",
    "# Example 1: Filtering even numbers from a list\n",
    "numbers = [1, 2, 3, 4, 5, 6, 7, 8, 9, 10]\n",
    "\n",
    "abc = lambda x : x%2==0\n",
    "\n",
    "filter(abc, numbers)\n",
    "\n",
    "\n"
   ]
  },
  {
   "cell_type": "code",
   "execution_count": null,
   "id": "abb0422a-87f3-4f40-a977-24fd4a1ce585",
   "metadata": {},
   "outputs": [],
   "source": []
  },
  {
   "cell_type": "code",
   "execution_count": 142,
   "id": "e3ae3e35",
   "metadata": {},
   "outputs": [
    {
     "name": "stdout",
     "output_type": "stream",
     "text": [
      "<map object at 0x0000026162D0EC50>\n"
     ]
    },
    {
     "data": {
      "text/plain": [
       "[1, 4, 9, 16, 25, 36, 49, 64, 81, 100]"
      ]
     },
     "execution_count": 142,
     "metadata": {},
     "output_type": "execute_result"
    }
   ],
   "source": [
    "'MAP'\n",
    "# Example 2: Squaring each number in a list using map\n",
    "numbers = [1, 2, 3, 4, 5, 6, 7, 8, 9, 10]\n",
    "\n",
    "def square_number(x):\n",
    "    return x ** 2\n",
    "\n",
    "print(map(square_number,numbers))   # iterator Object\n",
    "\n",
    "list(map(square_number,numbers))   # iterable\n"
   ]
  },
  {
   "cell_type": "code",
   "execution_count": null,
   "id": "2a87d424",
   "metadata": {},
   "outputs": [],
   "source": [
    "\n"
   ]
  },
  {
   "cell_type": "code",
   "execution_count": null,
   "id": "dc570e5c",
   "metadata": {},
   "outputs": [],
   "source": [
    "'''PRACTICE'''\n",
    "\n",
    "# Example 2: Squaring each number in a list\n",
    "numbers = [1, 2, 3, 4, 5]\n",
    "\n",
    "squared_numbers = list(map(lambda x: x ** 2, numbers))\n",
    "print(squared_numbers)  # Output: [1, 4, 9, 16, 25]\n"
   ]
  },
  {
   "cell_type": "markdown",
   "id": "7423c456-a562-48c8-8da2-cab582b92e14",
   "metadata": {},
   "source": []
  },
  {
   "cell_type": "code",
   "execution_count": 148,
   "id": "38e42f17-cd29-47b9-a27b-2b6375ea3317",
   "metadata": {},
   "outputs": [
    {
     "data": {
      "text/plain": [
       "120"
      ]
     },
     "execution_count": 148,
     "metadata": {},
     "output_type": "execute_result"
    }
   ],
   "source": [
    "numbers = [1, 2, 3, 4, 5]\n",
    "abcVlaue = 1\n",
    "\n",
    "def multi(abcVlaue,numbers):\n",
    "    for i in numbers:\n",
    "        abcVlaue = abcVlaue * i \n",
    "    return abcVlaue\n",
    "\n",
    "multi(abcVlaue,numbers)\n"
   ]
  },
  {
   "cell_type": "code",
   "execution_count": null,
   "id": "7f7f2771-770c-4fbe-a88d-3266778fd88f",
   "metadata": {},
   "outputs": [],
   "source": []
  },
  {
   "cell_type": "code",
   "execution_count": null,
   "id": "6031afd9",
   "metadata": {},
   "outputs": [],
   "source": [
    "'''Reduce'''\n",
    "from functools import reduce\n",
    "\n",
    "numbers = [1, 2, 3, 4, 5]\n",
    "\n",
    "def multiply(x, y):\n",
    "    return x * y\n",
    "\n",
    "reduce(multiply,numbers) # Nothing \n"
   ]
  },
  {
   "cell_type": "code",
   "execution_count": null,
   "id": "f6f2d84f-ee3d-4a63-9166-e992a0303d66",
   "metadata": {},
   "outputs": [],
   "source": [
    "abc=1\n",
    "for i in range(len(numbers)):\n",
    "    abc =abc * numbers[i]\n",
    "    print(abc)\n",
    "abc"
   ]
  },
  {
   "cell_type": "code",
   "execution_count": null,
   "id": "711f9f6c",
   "metadata": {},
   "outputs": [],
   "source": [
    "'''PRACTICE'''\n",
    "\n",
    "from functools import reduce\n",
    "\n",
    "# Example 3: Calculating the product of all numbers in a list\n",
    "numbers = [1, 2, 3, 4, 5]\n",
    "\n",
    "product = reduce(lambda x, y: x * y, numbers)\n",
    "print(product)\n",
    "\n",
    "\n"
   ]
  },
  {
   "cell_type": "markdown",
   "id": "b65d583b-fc9e-47e2-9fba-214dc9a493c2",
   "metadata": {},
   "source": [
    "<table style=\"width: 100%; border-collapse: collapse; font-family: Candara, sans-serif; color: #189AB4;\">\r\n",
    "    <thead>\r\n",
    "        <tr style=\"background-color: #189AB4; color: white;\">\r\n",
    "            <th style=\"padding: 12px; text-align: left; border: 1px solid #ddd;\">Concept</th>\r\n",
    "        </tr>\r\n",
    "    </thead>\r\n",
    "    <tbody>\r\n",
    "        <tr style=\"background-color: #f2f2f2;\">\r\n",
    "            <td style=\"padding: 12px; border: 1px solid #ddd; font-size: 1.2em;\">Recursive Function</td>\r\n",
    "        </tr>\r\n",
    "        <tr style=\"background-color: #ffffff;\">\r\n",
    "            <td style=\"padding: 12px; border: 1px solid #ddd; font-size: 1.2em;\">Decorators</td>\r\n",
    "        </tr>\r\n",
    "        <tr style=\"background-color: #f2f2f2;\">\r\n",
    "            <td style=\"padding: 12px; border: 1px solid #ddd; font-size: 1.2em;\">Generator Functions</td>\r\n",
    "        </tr>\r\n",
    "    </tbody>\r\n",
    "</table>\r\n"
   ]
  },
  {
   "cell_type": "markdown",
   "id": "894af260",
   "metadata": {
    "jp-MarkdownHeadingCollapsed": true
   },
   "source": [
    "# Recursive Function"
   ]
  },
  {
   "cell_type": "markdown",
   "id": "d3ffde22-5879-4605-b254-c17dcf5717cf",
   "metadata": {},
   "source": [
    "<table style=\"width: 100%; border-collapse: collapse; font-family: Candara, sans-serif; color: #189AB4;\">\r\n",
    "    <thead>\r\n",
    "        <tr style=\"background-color: #189AB4; color: white;\">\r\n",
    "            <th style=\"padding: 12px; text-align: left; border: 1px solid #ddd;\">Concept</th>\r\n",
    "            <th style=\"padding: 12px; text-align: left; border: 1px solid #ddd;\">Description</th>\r\n",
    "        </tr>\r\n",
    "    </thead>\r\n",
    "    <tbody>\r\n",
    "        <tr style=\"background-color: #f2f2f2;\">\r\n",
    "            <td style=\"padding: 12px; border: 1px solid #ddd; font-size: 1.2em;\">Recursive Function</td>\r\n",
    "            <td style=\"padding: 12px; border: 1px solid #ddd;\">These are functions that call themselves during their execution. Recursive functions typically have two parts: the base case, which terminates the recursion, and the recursive case, which continues the recursion.</td>\r\n",
    "        </tr>\r\n",
    "    </tbody>\r\n",
    "</table>\r\n",
    "y>\r\n",
    "</table>\r\n",
    "y>\r\n",
    "</table>\r\n",
    "le>\n"
   ]
  },
  {
   "cell_type": "code",
   "execution_count": 96,
   "id": "229449f7-66c7-4685-9872-6fdd9193dd58",
   "metadata": {},
   "outputs": [
    {
     "name": "stdout",
     "output_type": "stream",
     "text": [
      "1\n",
      "2\n",
      "3\n",
      "4\n",
      "5\n",
      "6\n",
      "7\n",
      "8\n",
      "9\n"
     ]
    }
   ],
   "source": [
    "def abcFunc(i):\n",
    "    if i == 10:\n",
    "        return # Base case to stop recursion\n",
    "    else:\n",
    "        print(i)\n",
    "        abcFunc(i+1) # Recursive call\n",
    "    \n",
    "abcFunc(1)\n",
    "\n"
   ]
  },
  {
   "cell_type": "code",
   "execution_count": null,
   "id": "69a21efb-58cb-4937-9681-870deb86e10e",
   "metadata": {},
   "outputs": [],
   "source": [
    "def recursiveFunction(i):\n",
    "    if i<=10:\n",
    "        print(i)\n",
    "        i = i + 1\n",
    "        recursiveFunction(i)\n",
    "    else:\n",
    "        return 10\n",
    "recursiveFunction(1)\n"
   ]
  },
  {
   "cell_type": "code",
   "execution_count": null,
   "id": "343a3b9b-4b11-4017-ab96-154796bf97f3",
   "metadata": {},
   "outputs": [],
   "source": []
  },
  {
   "cell_type": "code",
   "execution_count": null,
   "id": "e875d22e-f45c-4fdd-976b-dc1b983234f0",
   "metadata": {},
   "outputs": [],
   "source": []
  },
  {
   "cell_type": "code",
   "execution_count": null,
   "id": "68d1855e-9fc7-40a9-998d-dfe8fb19f102",
   "metadata": {},
   "outputs": [],
   "source": []
  },
  {
   "cell_type": "code",
   "execution_count": null,
   "id": "d0732a81-1116-42e2-8261-a45db6aba9b8",
   "metadata": {},
   "outputs": [],
   "source": []
  },
  {
   "cell_type": "code",
   "execution_count": null,
   "id": "1e02adeb",
   "metadata": {},
   "outputs": [],
   "source": [
    "'''Print Factorial of a Number using Recursive Function'''\n",
    "def factorial(n):\n",
    "    if n == 0:\n",
    "        return 1\n",
    "    else:\n",
    "        n = n * factorial(n-1)\n",
    "        print(n)\n",
    "        return n \n",
    "factorial(10)"
   ]
  },
  {
   "cell_type": "markdown",
   "id": "b0f42761",
   "metadata": {
    "jp-MarkdownHeadingCollapsed": true
   },
   "source": [
    "# Decorators"
   ]
  },
  {
   "cell_type": "markdown",
   "id": "8e1c9462-c759-4270-8ca8-cbdc14868cb0",
   "metadata": {},
   "source": [
    "<table style=\"width: 100%; border-collapse: collapse; font-family: Candara, sans-serif; color: #189AB4;\">\n",
    "    <thead>\n",
    "        <tr style=\"background-color: #189AB4; color: white;\">\n",
    "            <th style=\"padding: 12px; text-align: left; border: 1px solid #ddd;\">Concept</th>\n",
    "            <th style=\"padding: 12px; text-align: left; border: 1px solid #ddd;\">Description</th>\n",
    "        </tr>\n",
    "    </thead>\n",
    "    <tbody>\n",
    "        <tr style=\"background-color: #f2f2f2;\">\n",
    "            <td style=\"padding: 12px; border: 1px solid #ddd; font-size: 1.2em;\">Decorators</td>\n",
    "            <td style=\"padding: 12px; border: 1px solid #ddd;\">A decorator is a design pattern in Python that allows a user to add new functionality to an existing object without modifying its structure. Decorators are typically used to modify the behavior of functions or methods.</td>\n",
    "        </tr>\n",
    "    </tbody>\n",
    "</table>\n"
   ]
  },
  {
   "cell_type": "code",
   "execution_count": 98,
   "id": "3cc81a48",
   "metadata": {},
   "outputs": [
    {
     "name": "stdout",
     "output_type": "stream",
     "text": [
      "Before the function is called.\n",
      "Hello!\n",
      "After the function is called.\n"
     ]
    }
   ],
   "source": [
    "def myfunction(func):\n",
    "    def wrapper():\n",
    "        print(\"Before the function is called.\")\n",
    "        func()\n",
    "        print(\"After the function is called.\")\n",
    "    return wrapper\n",
    "\n",
    "@myfunction\n",
    "def say_hello():\n",
    "    print(\"Hello!\")\n",
    "\n",
    "say_hello()\n",
    "\n"
   ]
  },
  {
   "cell_type": "code",
   "execution_count": 102,
   "id": "566a2dca-8d31-4d1f-9a8f-7222f17c6510",
   "metadata": {},
   "outputs": [
    {
     "name": "stdout",
     "output_type": "stream",
     "text": [
      "2.0\n",
      "10\n"
     ]
    }
   ],
   "source": [
    "def divideNumber(a, b):\n",
    "        print(a/b)\n",
    "\n",
    "divideNumber(10,5)\n",
    "a=5\n",
    "b=10\n",
    "\n",
    "if b>a:\n",
    "    a,b=b,a\n",
    "else:\n",
    "    a,b=a,b\n"
   ]
  },
  {
   "cell_type": "code",
   "execution_count": 105,
   "id": "a8a1b525",
   "metadata": {},
   "outputs": [
    {
     "name": "stdout",
     "output_type": "stream",
     "text": [
      "Before the function is called.\n",
      "Operation Performed\n",
      "3.0\n",
      "After the function is called.\n"
     ]
    }
   ],
   "source": [
    "# \n",
    "\n",
    "def myfunction(func):\n",
    "    def wrapper(a, b):\n",
    "        print(\"Before the function is called.\")\n",
    "\n",
    "        if b>a:\n",
    "            b,a=a,b\n",
    "        else:\n",
    "            b,a=b,a\n",
    " \n",
    "        print(\"Operation Performed\")\n",
    "        func(a, b)  # Call func with arguments a and b\n",
    "        print(\"After the function is called.\")\n",
    "    return wrapper\n",
    "\n",
    "@myfunction\n",
    "def divideNumber(a, b):\n",
    "    c = a / b\n",
    "    print(c)\n",
    "\n",
    "divideNumber(20, 60)\n"
   ]
  },
  {
   "cell_type": "code",
   "execution_count": null,
   "id": "a955d0c3-5270-4a03-a048-0d7c29637680",
   "metadata": {},
   "outputs": [],
   "source": [
    "30/3\n"
   ]
  },
  {
   "cell_type": "code",
   "execution_count": null,
   "id": "2562e82c-f71b-4de2-8de7-5df05929c509",
   "metadata": {},
   "outputs": [],
   "source": [
    "\n",
    "\n",
    "def count_up_to(i,n):\n",
    "    for i in range(n):\n",
    "        print(i) \n",
    "\n",
    "gen = count_up_to(i=1, n=10)\n"
   ]
  },
  {
   "cell_type": "markdown",
   "id": "0e1292ad",
   "metadata": {
    "jp-MarkdownHeadingCollapsed": true
   },
   "source": [
    "# Generators Function"
   ]
  },
  {
   "cell_type": "markdown",
   "id": "ec0e0710-40e7-4392-a4a4-774c9b073d29",
   "metadata": {},
   "source": [
    "<table style=\"width: 100%; border-collapse: collapse; font-family: Candara, sans-serif; color: #189AB4;\">\n",
    "    <thead>\n",
    "        <tr style=\"background-color: #189AB4; color: white;\">\n",
    "            <th style=\"padding: 12px; text-align: left; border: 1px solid #ddd;\">Concept</th>\n",
    "            <th style=\"padding: 12px; text-align: left; border: 1px solid #ddd;\">Description</th>\n",
    "        </tr>\n",
    "    </thead>\n",
    "    <tbody>\n",
    "        <tr style=\"background-color: #f2f2f2;\">\n",
    "            <td style=\"padding: 12px; border: 1px solid #ddd; font-size: 1.2em;\">Generator Functions</td>\n",
    "            <td style=\"padding: 12px; border: 1px solid #ddd;\">These are functions that use the <code style=\"color: #189AB4;\">yield</code> keyword to return a series of values iteratively, rather than returning them all at once. Generator functions are memory efficient because they generate values on the fly and do not store them in memory.</td>\n",
    "        </tr>\n",
    "    </tbody>\n",
    "</table>\n"
   ]
  },
  {
   "cell_type": "code",
   "execution_count": 106,
   "id": "7bad6a73",
   "metadata": {},
   "outputs": [
    {
     "name": "stdout",
     "output_type": "stream",
     "text": [
      "1\n",
      "2\n"
     ]
    }
   ],
   "source": [
    "'''Create a Fucntion which will print \n",
    "values until 10 using Generators'''\n",
    "\n",
    "def count_up_to(n):\n",
    "    for i in range(1,n):\n",
    "        yield i\n",
    "\n",
    "gen = count_up_to(n=10)\n",
    "\n",
    "print(next(gen))\n",
    "print(next(gen))\n"
   ]
  },
  {
   "cell_type": "code",
   "execution_count": 116,
   "id": "06e50560-3bd0-407e-85fa-ab150773da23",
   "metadata": {},
   "outputs": [
    {
     "data": {
      "text/plain": [
       "1"
      ]
     },
     "execution_count": 116,
     "metadata": {},
     "output_type": "execute_result"
    }
   ],
   "source": [
    "def genFunc(n):\n",
    "    for i in range(1,n):\n",
    "        yield i\n",
    "genFunc(5)\n"
   ]
  },
  {
   "cell_type": "code",
   "execution_count": 117,
   "id": "58dc2f0d-669d-4313-a388-61a135546acd",
   "metadata": {},
   "outputs": [
    {
     "name": "stdout",
     "output_type": "stream",
     "text": [
      "1\n",
      "2\n",
      "3\n",
      "4\n",
      "5\n",
      "6\n",
      "7\n",
      "8\n",
      "9\n",
      "None\n"
     ]
    }
   ],
   "source": [
    "def count_up_to(i,n):\n",
    "    for i in range(1,n):\n",
    "         print(i)\n",
    "\n",
    "gen = count_up_to(i=1, n=10)\n",
    "print(gen)\n"
   ]
  },
  {
   "cell_type": "code",
   "execution_count": 118,
   "id": "0b0198ea-b62d-4b68-8c36-03b7d775b72b",
   "metadata": {},
   "outputs": [
    {
     "data": {
      "text/plain": [
       "['__bool__',\n",
       " '__class__',\n",
       " '__delattr__',\n",
       " '__dir__',\n",
       " '__doc__',\n",
       " '__eq__',\n",
       " '__format__',\n",
       " '__ge__',\n",
       " '__getattribute__',\n",
       " '__getstate__',\n",
       " '__gt__',\n",
       " '__hash__',\n",
       " '__init__',\n",
       " '__init_subclass__',\n",
       " '__le__',\n",
       " '__lt__',\n",
       " '__ne__',\n",
       " '__new__',\n",
       " '__reduce__',\n",
       " '__reduce_ex__',\n",
       " '__repr__',\n",
       " '__setattr__',\n",
       " '__sizeof__',\n",
       " '__str__',\n",
       " '__subclasshook__']"
      ]
     },
     "execution_count": 118,
     "metadata": {},
     "output_type": "execute_result"
    }
   ],
   "source": [
    "dir(gen)\n"
   ]
  },
  {
   "cell_type": "markdown",
   "id": "1a0c22e7-2374-46b1-9ee3-513e7c32478b",
   "metadata": {
    "jp-MarkdownHeadingCollapsed": true
   },
   "source": [
    "# Class related Functions Methods"
   ]
  },
  {
   "cell_type": "code",
   "execution_count": null,
   "id": "7a345999",
   "metadata": {},
   "outputs": [],
   "source": [
    "class MyClass:\n",
    "    def __init__(self, x, y):\n",
    "        self.x = x\n",
    "        self.y = y\n",
    "        print(\"Object initialized with x =\", x, \"and y =\", y)\n",
    "\n",
    "# Creating an instance of MyClass\n",
    "obj = MyClass(10, 20)"
   ]
  },
  {
   "cell_type": "code",
   "execution_count": null,
   "id": "0bea097a",
   "metadata": {},
   "outputs": [],
   "source": [
    "'''Instance Method'''\n",
    "\n",
    "class MyClass1:\n",
    "    def __init__(self, x):\n",
    "        self.x = x\n",
    "    def instance_method(self):\n",
    "        return self.x * 2\n",
    "\n",
    "obj = MyClass1(5)\n",
    "print(obj.instance_method())\n",
    "\n"
   ]
  },
  {
   "cell_type": "code",
   "execution_count": null,
   "id": "6474f44b",
   "metadata": {},
   "outputs": [],
   "source": [
    "'''Class Method'''\n",
    "class MyClass:\n",
    "    class_variable = 10\n",
    "\n",
    "    def __init__(self, x):\n",
    "        self.x = x\n",
    "\n",
    "    @classmethod\n",
    "    def class_method(cls):\n",
    "        return cls.class_variable * 2\n",
    "\n",
    "print(MyClass.class_method())\n"
   ]
  },
  {
   "cell_type": "code",
   "execution_count": null,
   "id": "2c3cb4a1",
   "metadata": {},
   "outputs": [],
   "source": [
    "class MyClass:\n",
    "    def __init__(self, x, y):\n",
    "        self.x = x\n",
    "        self.y = y\n",
    "\n",
    "# Creating an instance of MyClass\n",
    "obj = MyClass(\"value1\", \"value2\")\n",
    "\n",
    "# Accessing the attributes of the object\n",
    "print(obj.x)  # Output: value1\n",
    "print(obj.y)  # Output: value2\n"
   ]
  },
  {
   "cell_type": "code",
   "execution_count": null,
   "id": "98351013",
   "metadata": {},
   "outputs": [],
   "source": [
    "class MyClass:\n",
    "    def __init__(self, x, y):\n",
    "        self.x = x\n",
    "        self.y = y\n",
    "    def abc()\n",
    "\n",
    "\n",
    "obj = MyClass(\"value1\", \"value2\")\n",
    "\n",
    "# Accessing the attributes of the object\n",
    "print(obj.x)  # Output: value1\n",
    "print(obj.y)  # Output: value2\n"
   ]
  },
  {
   "cell_type": "code",
   "execution_count": null,
   "id": "a87b3636",
   "metadata": {},
   "outputs": [],
   "source": []
  },
  {
   "cell_type": "code",
   "execution_count": null,
   "id": "024f2a95",
   "metadata": {},
   "outputs": [],
   "source": []
  }
 ],
 "metadata": {
  "kernelspec": {
   "display_name": "Python 3 (ipykernel)",
   "language": "python",
   "name": "python3"
  },
  "language_info": {
   "codemirror_mode": {
    "name": "ipython",
    "version": 3
   },
   "file_extension": ".py",
   "mimetype": "text/x-python",
   "name": "python",
   "nbconvert_exporter": "python",
   "pygments_lexer": "ipython3",
   "version": "3.11.7"
  }
 },
 "nbformat": 4,
 "nbformat_minor": 5
}
