{
 "cells": [
  {
   "cell_type": "code",
   "execution_count": 1,
   "id": "a69c4e41",
   "metadata": {},
   "outputs": [
    {
     "data": {
      "text/plain": [
       "['apple', 'banana', 'cherry', 'orange']"
      ]
     },
     "execution_count": 1,
     "metadata": {},
     "output_type": "execute_result"
    }
   ],
   "source": [
    "'Creating List'\n",
    "\n",
    "'''Method 01'''\n",
    "abc = [\"apple\", \"banana\", \"cherry\", \"orange\"]\n",
    "abc\n"
   ]
  },
  {
   "cell_type": "code",
   "execution_count": 2,
   "id": "bf320f52",
   "metadata": {},
   "outputs": [
    {
     "data": {
      "text/plain": [
       "['apple', 'banana', 'cherry', 'orange']"
      ]
     },
     "execution_count": 2,
     "metadata": {},
     "output_type": "execute_result"
    }
   ],
   "source": [
    "'''Method 02 using cunstructor'''\n",
    "\n",
    "abc = list((\"apple\", \"banana\", \"cherry\", \"orange\"))\n",
    "abc\n"
   ]
  },
  {
   "cell_type": "code",
   "execution_count": 3,
   "id": "268c30ab",
   "metadata": {},
   "outputs": [
    {
     "data": {
      "text/plain": [
       "[1, 2, 3, 4, 5]"
      ]
     },
     "execution_count": 3,
     "metadata": {},
     "output_type": "execute_result"
    }
   ],
   "source": [
    "xyzList = list((1,2,3,4,5))\n",
    "xyzList\n"
   ]
  },
  {
   "cell_type": "markdown",
   "id": "2428f078-94da-4846-b885-aa2588f7fd82",
   "metadata": {},
   "source": [
    "# Performing some operations on List"
   ]
  },
  {
   "cell_type": "markdown",
   "id": "c1142895",
   "metadata": {
    "jp-MarkdownHeadingCollapsed": true
   },
   "source": [
    "# Slicing"
   ]
  },
  {
   "cell_type": "code",
   "execution_count": 4,
   "id": "faebebef-734a-4099-8bdd-845e5fe3f970",
   "metadata": {},
   "outputs": [],
   "source": [
    "# +Ve and -ve Indexing\n",
    "abc =  ['apple', 'banana', 'cherry', 'orange']\n",
    "#+ve       0        1        2          3\n",
    "#-ve      -4       -3        -2       -1\n"
   ]
  },
  {
   "cell_type": "code",
   "execution_count": null,
   "id": "ce25f2f0-7e39-48aa-894c-b60055605113",
   "metadata": {},
   "outputs": [],
   "source": []
  },
  {
   "cell_type": "code",
   "execution_count": null,
   "id": "cd4e64ed",
   "metadata": {},
   "outputs": [],
   "source": []
  },
  {
   "cell_type": "code",
   "execution_count": null,
   "id": "acc35b9f-5d3a-4636-afe1-656b9dff9f95",
   "metadata": {},
   "outputs": [],
   "source": []
  },
  {
   "cell_type": "code",
   "execution_count": null,
   "id": "ddf1718a-122b-4370-b9e3-a7cc57005654",
   "metadata": {},
   "outputs": [],
   "source": [
    "# print apple and banana with +ve index\n",
    "abc[2]\n"
   ]
  },
  {
   "cell_type": "code",
   "execution_count": null,
   "id": "4385fae6-2098-4259-ab1b-fa5c9be8b37b",
   "metadata": {},
   "outputs": [],
   "source": [
    "# print apple and banana with -ve index\n",
    "abc[-4:]\n"
   ]
  },
  {
   "cell_type": "code",
   "execution_count": null,
   "id": "75c06903-987f-41df-8979-a1556b1916f3",
   "metadata": {},
   "outputs": [],
   "source": [
    "# print Only Banana\n",
    "abc[-3]\n"
   ]
  },
  {
   "cell_type": "code",
   "execution_count": null,
   "id": "3e22ee29-ed19-4e05-8ff8-313d826ed7cd",
   "metadata": {},
   "outputs": [],
   "source": []
  },
  {
   "cell_type": "code",
   "execution_count": null,
   "id": "0bcd6a90",
   "metadata": {},
   "outputs": [],
   "source": [
    "sliced_list = abc[:3]\n",
    "print(sliced_list) "
   ]
  },
  {
   "cell_type": "code",
   "execution_count": null,
   "id": "acf56e3e-8706-48b3-9439-03f47327710c",
   "metadata": {},
   "outputs": [],
   "source": [
    "# Slice from index 1 to index 3 (exclusive)\n",
    "print(abc[1:3])\n",
    "print(abc[:2])\n",
    "print(abc[1:])\n",
    "print(abc[:])\n"
   ]
  },
  {
   "cell_type": "code",
   "execution_count": null,
   "id": "54927588-a9aa-4dda-aeb9-ee43f3f63984",
   "metadata": {},
   "outputs": [],
   "source": []
  },
  {
   "cell_type": "code",
   "execution_count": null,
   "id": "0b6af367",
   "metadata": {},
   "outputs": [],
   "source": []
  },
  {
   "cell_type": "code",
   "execution_count": null,
   "id": "c9e30f2b",
   "metadata": {},
   "outputs": [],
   "source": [
    "print(abc[-2:])\n",
    "print(abc[:-2])\n",
    "print(abc[-1:])\n",
    "print(abc[:-1])\n"
   ]
  },
  {
   "cell_type": "markdown",
   "id": "8cf8d627-6d6b-4ee0-99bf-85f8b853ce68",
   "metadata": {
    "jp-MarkdownHeadingCollapsed": true
   },
   "source": [
    "# Reversed"
   ]
  },
  {
   "cell_type": "code",
   "execution_count": 29,
   "id": "8f69980a-9d1e-4cbf-bacd-439b79325e7d",
   "metadata": {},
   "outputs": [
    {
     "name": "stdout",
     "output_type": "stream",
     "text": [
      "['apple', 'banana', 'cherry', 'orange']\n",
      "['orange', 'cherry', 'banana', 'apple']\n"
     ]
    }
   ],
   "source": [
    "# method one readymade fucntion \n",
    "# it will reverse the original List\n",
    "abc = list((\"apple\", \"banana\", \"cherry\", \"orange\"))\n",
    "print(abc)\n",
    "abc.reverse()\n",
    "print(abc)\n"
   ]
  },
  {
   "cell_type": "code",
   "execution_count": 30,
   "id": "eeae8378",
   "metadata": {},
   "outputs": [
    {
     "name": "stdout",
     "output_type": "stream",
     "text": [
      "['apple', 'banana', 'cherry', 'orange']\n",
      "['orange', 'cherry', 'banana', 'apple']\n",
      "['apple', 'banana', 'cherry', 'orange']\n"
     ]
    }
   ],
   "source": [
    "# method Two Indexing \n",
    "# it will create a copy then reverse the list.\n",
    "abc = list((\"apple\", \"banana\", \"cherry\", \"orange\"))\n",
    "print(abc)\n",
    "print(abc[::-1])\n",
    "print(abc)\n"
   ]
  },
  {
   "cell_type": "code",
   "execution_count": null,
   "id": "7ea81dd6-93ef-4b90-9ddf-684cc0ab6a9d",
   "metadata": {},
   "outputs": [],
   "source": []
  },
  {
   "cell_type": "markdown",
   "id": "a845c7b7-f496-4100-9fae-71f3f12d6f65",
   "metadata": {
    "jp-MarkdownHeadingCollapsed": true
   },
   "source": [
    "# Iterating over list"
   ]
  },
  {
   "cell_type": "code",
   "execution_count": 34,
   "id": "cf58847c",
   "metadata": {},
   "outputs": [
    {
     "data": {
      "text/plain": [
       "'Iterating over list '"
      ]
     },
     "execution_count": 34,
     "metadata": {},
     "output_type": "execute_result"
    }
   ],
   "source": [
    "'''Iterating over list '''\n"
   ]
  },
  {
   "cell_type": "code",
   "execution_count": 31,
   "id": "d3ff3993",
   "metadata": {},
   "outputs": [
    {
     "name": "stdout",
     "output_type": "stream",
     "text": [
      "apple\n",
      "banana\n",
      "cherry\n",
      "orange\n"
     ]
    }
   ],
   "source": [
    "abc = [\"apple\", \"banana\", \"cherry\", \"orange\"]\n",
    "\n",
    "for i in abc:\n",
    "    print(i)\n"
   ]
  },
  {
   "cell_type": "markdown",
   "id": "606ef572-8c9d-44ca-8f1b-1c565bfd4534",
   "metadata": {
    "jp-MarkdownHeadingCollapsed": true
   },
   "source": [
    "# Lenght of List"
   ]
  },
  {
   "cell_type": "code",
   "execution_count": 35,
   "id": "c1a37345",
   "metadata": {},
   "outputs": [
    {
     "data": {
      "text/plain": [
       "4"
      ]
     },
     "execution_count": 35,
     "metadata": {},
     "output_type": "execute_result"
    }
   ],
   "source": [
    "'''len Of List'''\n",
    "abc = ['apple', 'banana', 'cherry', 'orange']\n",
    "\n",
    "len(abc)\n"
   ]
  },
  {
   "cell_type": "markdown",
   "id": "c9ef6552-8a08-4c19-8b37-a1eae219e982",
   "metadata": {
    "jp-MarkdownHeadingCollapsed": true
   },
   "source": [
    "# Count"
   ]
  },
  {
   "cell_type": "code",
   "execution_count": 37,
   "id": "31961fe3",
   "metadata": {},
   "outputs": [
    {
     "data": {
      "text/plain": [
       "2"
      ]
     },
     "execution_count": 37,
     "metadata": {},
     "output_type": "execute_result"
    }
   ],
   "source": [
    "abc = ['apple', 'banana', 'apple','apple', 'banana', 'cherry', 'orange', 'orange']\n"
   ]
  },
  {
   "cell_type": "markdown",
   "id": "d3acbb5b-5143-4045-a06e-837af40d7a5c",
   "metadata": {
    "jp-MarkdownHeadingCollapsed": true
   },
   "source": [
    "# Appearances"
   ]
  },
  {
   "cell_type": "code",
   "execution_count": 39,
   "id": "91e6bd4d-93a9-42b0-98a7-ef7995ca5684",
   "metadata": {},
   "outputs": [
    {
     "data": {
      "text/plain": [
       "False"
      ]
     },
     "execution_count": 39,
     "metadata": {},
     "output_type": "execute_result"
    }
   ],
   "source": [
    "'''Check if Item Exists'''\n",
    "abc = ['apple', 'banana', 'apple', 'banana', 'cherry', 'orange']\n",
    "\n",
    "\n",
    "'Pineapple' in abc\n"
   ]
  },
  {
   "cell_type": "markdown",
   "id": "51d34a6e-e933-42fe-ac13-16a85ed93888",
   "metadata": {
    "jp-MarkdownHeadingCollapsed": true
   },
   "source": [
    "# Changing/Replace"
   ]
  },
  {
   "cell_type": "code",
   "execution_count": 41,
   "id": "2b6dc02c",
   "metadata": {},
   "outputs": [
    {
     "data": {
      "text/plain": [
       "['apple', 'Pineapple', 'cherry', 'orange']"
      ]
     },
     "execution_count": 41,
     "metadata": {},
     "output_type": "execute_result"
    }
   ],
   "source": [
    "'''Changing/Replace the item'''\n",
    "abc = ['apple', 'banana', 'cherry', 'orange']\n",
    "#         0         1        2          3\n",
    "\n",
    "\n",
    "abc[1] = \"Pineapple\"\n",
    "\n",
    "abc\n"
   ]
  },
  {
   "cell_type": "code",
   "execution_count": null,
   "id": "1d3cf7a2-d419-47b7-ab81-871976383ae0",
   "metadata": {},
   "outputs": [],
   "source": []
  },
  {
   "cell_type": "markdown",
   "id": "f2727819",
   "metadata": {
    "jp-MarkdownHeadingCollapsed": true
   },
   "source": [
    "# Adding an Item\n"
   ]
  },
  {
   "cell_type": "code",
   "execution_count": 42,
   "id": "af25e444",
   "metadata": {},
   "outputs": [
    {
     "data": {
      "text/plain": [
       "['apple', 'banana', 'cherry', 'orange', 'orange']"
      ]
     },
     "execution_count": 42,
     "metadata": {},
     "output_type": "execute_result"
    }
   ],
   "source": [
    "'''To add an item at the Last index'''\n",
    "abc = ['apple', 'banana', 'cherry', 'orange']\n",
    "#         0         1        2          3\n",
    "\n",
    "abc.append('orange')\n",
    "abc\n"
   ]
  },
  {
   "cell_type": "code",
   "execution_count": 43,
   "id": "496c69c2",
   "metadata": {},
   "outputs": [
    {
     "data": {
      "text/plain": [
       "['apple', 'banana', 'Pineapple', 'cherry', 'orange', 'orange']"
      ]
     },
     "execution_count": 43,
     "metadata": {},
     "output_type": "execute_result"
    }
   ],
   "source": [
    "'''To add an item at the specified index'''\n",
    "\n",
    "abc.insert(2,\"Pineapple\")\n",
    "abc\n"
   ]
  },
  {
   "cell_type": "markdown",
   "id": "5762d741",
   "metadata": {
    "jp-MarkdownHeadingCollapsed": true
   },
   "source": [
    "# Remove"
   ]
  },
  {
   "cell_type": "code",
   "execution_count": 46,
   "id": "1f105bb7",
   "metadata": {},
   "outputs": [
    {
     "data": {
      "text/plain": [
       "['pineapple', 'banana', 'kiwi', 'orange']"
      ]
     },
     "execution_count": 46,
     "metadata": {},
     "output_type": "execute_result"
    }
   ],
   "source": [
    "'''To removes the specified item:'''\n",
    "abc = ['apple', 'pineapple', 'banana', 'kiwi','orange']\n",
    "\n",
    "abc.remove('apple')\n",
    "abc\n"
   ]
  },
  {
   "cell_type": "code",
   "execution_count": null,
   "id": "1d458b94",
   "metadata": {},
   "outputs": [],
   "source": []
  },
  {
   "cell_type": "code",
   "execution_count": 47,
   "id": "fc957aa3",
   "metadata": {},
   "outputs": [
    {
     "data": {
      "text/plain": [
       "['apple', 'pineapple', 'banana', 'kiwi']"
      ]
     },
     "execution_count": 47,
     "metadata": {},
     "output_type": "execute_result"
    }
   ],
   "source": [
    "'''To removes the Last item use pop method'''\n",
    "abc = ['apple', 'pineapple', 'banana', 'kiwi','orange']\n",
    "abc.pop()\n",
    "abc\n"
   ]
  },
  {
   "cell_type": "code",
   "execution_count": 48,
   "id": "3eabb0d0",
   "metadata": {},
   "outputs": [
    {
     "data": {
      "text/plain": [
       "['apple', 'pineapple', 'kiwi', 'orange', 'orange']"
      ]
     },
     "execution_count": 48,
     "metadata": {},
     "output_type": "execute_result"
    }
   ],
   "source": [
    "'''To removes by Index'''\n",
    "abc = ['apple', 'pineapple', 'banana', 'kiwi', 'orange', 'orange']\n",
    "\n",
    "del abc[2]\n",
    "abc\n"
   ]
  },
  {
   "cell_type": "code",
   "execution_count": 49,
   "id": "3e7477cc",
   "metadata": {},
   "outputs": [
    {
     "data": {
      "text/plain": [
       "['apple', 'kiwi', 'orange', 'orange']"
      ]
     },
     "execution_count": 49,
     "metadata": {},
     "output_type": "execute_result"
    }
   ],
   "source": [
    "del abc[1]\n",
    "abc\n"
   ]
  },
  {
   "cell_type": "code",
   "execution_count": null,
   "id": "0cc3e31c",
   "metadata": {},
   "outputs": [],
   "source": [
    "abc = ['pineapple', 'banana', 'kiwi', 'orange', 'orange']\n"
   ]
  },
  {
   "cell_type": "markdown",
   "id": "04adf272-97b9-4675-884b-d5df798b9ed9",
   "metadata": {
    "jp-MarkdownHeadingCollapsed": true
   },
   "source": [
    "# Empty and Delete"
   ]
  },
  {
   "cell_type": "code",
   "execution_count": 50,
   "id": "2c82d1d9",
   "metadata": {},
   "outputs": [
    {
     "name": "stdout",
     "output_type": "stream",
     "text": [
      "[]\n"
     ]
    }
   ],
   "source": [
    "'''Clear'''\n",
    "'''To empty the list:'''\n",
    "abc = ['pineapple', 'banana', 'kiwi', 'orange', 'orange']\n",
    "\n",
    "abc.clear()\n",
    "print(abc)\n"
   ]
  },
  {
   "cell_type": "code",
   "execution_count": 51,
   "id": "b4a97bc5",
   "metadata": {},
   "outputs": [
    {
     "ename": "NameError",
     "evalue": "name 'abc' is not defined",
     "output_type": "error",
     "traceback": [
      "\u001b[1;31m---------------------------------------------------------------------------\u001b[0m",
      "\u001b[1;31mNameError\u001b[0m                                 Traceback (most recent call last)",
      "Cell \u001b[1;32mIn[51], line 6\u001b[0m\n\u001b[0;32m      3\u001b[0m abc \u001b[38;5;241m=\u001b[39m [\u001b[38;5;124m'\u001b[39m\u001b[38;5;124mpineapple\u001b[39m\u001b[38;5;124m'\u001b[39m, \u001b[38;5;124m'\u001b[39m\u001b[38;5;124mbanana\u001b[39m\u001b[38;5;124m'\u001b[39m, \u001b[38;5;124m'\u001b[39m\u001b[38;5;124mkiwi\u001b[39m\u001b[38;5;124m'\u001b[39m, \u001b[38;5;124m'\u001b[39m\u001b[38;5;124morange\u001b[39m\u001b[38;5;124m'\u001b[39m, \u001b[38;5;124m'\u001b[39m\u001b[38;5;124morange\u001b[39m\u001b[38;5;124m'\u001b[39m]\n\u001b[0;32m      5\u001b[0m \u001b[38;5;28;01mdel\u001b[39;00m abc\n\u001b[1;32m----> 6\u001b[0m abc\n",
      "\u001b[1;31mNameError\u001b[0m: name 'abc' is not defined"
     ]
    }
   ],
   "source": [
    "'''Delete'''\n",
    "'''To delete the Dataset(list) Completely'''\n",
    "abc = ['pineapple', 'banana', 'kiwi', 'orange', 'orange']\n",
    "\n",
    "del abc\n",
    "abc\n"
   ]
  },
  {
   "cell_type": "markdown",
   "id": "9a412262",
   "metadata": {
    "jp-MarkdownHeadingCollapsed": true
   },
   "source": [
    "# Copy"
   ]
  },
  {
   "cell_type": "code",
   "execution_count": 54,
   "id": "c5b0ac1a",
   "metadata": {},
   "outputs": [
    {
     "data": {
      "text/plain": [
       "['pineapple', 'banana', 'kiwi', 'orange', 'orange']"
      ]
     },
     "execution_count": 54,
     "metadata": {},
     "output_type": "execute_result"
    }
   ],
   "source": [
    "abc = ['pineapple', 'banana', 'kiwi', 'orange', 'orange']\n",
    "\n",
    "#Method One\n",
    "newList = abc.copy()\n",
    "newList\n"
   ]
  },
  {
   "cell_type": "code",
   "execution_count": 53,
   "id": "f186d147",
   "metadata": {},
   "outputs": [
    {
     "data": {
      "text/plain": [
       "['pineapple', 'banana', 'kiwi', 'orange', 'orange']"
      ]
     },
     "execution_count": 53,
     "metadata": {},
     "output_type": "execute_result"
    }
   ],
   "source": [
    "#Method Two\n",
    "abc = ['pineapple', 'banana', 'kiwi', 'orange', 'orange']\n",
    "\n",
    "#Method Two\n",
    "newList = abc\n",
    "newList\n"
   ]
  },
  {
   "cell_type": "code",
   "execution_count": 55,
   "id": "c6f280e4-294d-4a2d-be82-4e6dd7992ea9",
   "metadata": {},
   "outputs": [
    {
     "data": {
      "text/plain": [
       "['pineapple', 'banana', 'kiwi', 'orange', 'orange']"
      ]
     },
     "execution_count": 55,
     "metadata": {},
     "output_type": "execute_result"
    }
   ],
   "source": [
    "abc = ['pineapple', 'banana', 'kiwi', 'orange', 'orange']\n",
    "\n",
    "#Method Three\n",
    "\n",
    "newList = list(abc)\n",
    "newList\n"
   ]
  },
  {
   "cell_type": "code",
   "execution_count": 56,
   "id": "1a058b19-3d18-42ee-afe2-067b7f97a1a4",
   "metadata": {},
   "outputs": [
    {
     "name": "stdout",
     "output_type": "stream",
     "text": [
      "['pineapple', 'banana', 'kiwi', 'orange', 'orange']\n"
     ]
    }
   ],
   "source": [
    "abcTuple = ('pineapple', 'banana', 'kiwi', 'orange', 'orange')\n",
    "\n",
    "#Method Three\n",
    "mylist = list(abcTuple)\n",
    "print(mylist)\n"
   ]
  },
  {
   "cell_type": "code",
   "execution_count": null,
   "id": "9c98ef2c-b5e9-478b-b896-fec00f8b0da1",
   "metadata": {},
   "outputs": [],
   "source": [
    "abcSet = {'pineapple', 'banana', 'kiwi', 'orange', 'orange'}\n",
    "\n",
    "#Method Three\n",
    "mylist = list(abcSet)\n",
    "print(mylist)\n"
   ]
  },
  {
   "cell_type": "markdown",
   "id": "8ad6f93f",
   "metadata": {
    "jp-MarkdownHeadingCollapsed": true
   },
   "source": [
    "# Join"
   ]
  },
  {
   "cell_type": "code",
   "execution_count": 58,
   "id": "04122433",
   "metadata": {},
   "outputs": [],
   "source": [
    "list1 = [\"a\", \"b\" , \"c\"]\n",
    "list2 = [1, 2, 3]\n",
    "\n"
   ]
  },
  {
   "cell_type": "code",
   "execution_count": 59,
   "id": "19d23060",
   "metadata": {},
   "outputs": [
    {
     "data": {
      "text/plain": [
       "['a', 'b', 'c', 1, 2, 3]"
      ]
     },
     "execution_count": 59,
     "metadata": {},
     "output_type": "execute_result"
    }
   ],
   "source": [
    "'''Method 01 by using + operator'''\n",
    "\n",
    "list3 = list1 + list2\n",
    "list3\n"
   ]
  },
  {
   "cell_type": "code",
   "execution_count": 60,
   "id": "1bfcd40b",
   "metadata": {},
   "outputs": [
    {
     "data": {
      "text/plain": [
       "[1, 2, 3, 'a', 'b', 'c']"
      ]
     },
     "execution_count": 60,
     "metadata": {},
     "output_type": "execute_result"
    }
   ],
   "source": [
    "'''Method 02\n",
    "by using extend'''\n",
    "list1 = [\"a\", \"b\" , \"c\"]\n",
    "list2 = [1, 2, 3]\n",
    "\n",
    "list2.extend(list1)\n",
    "list2\n"
   ]
  },
  {
   "cell_type": "code",
   "execution_count": 63,
   "id": "f5d16203",
   "metadata": {},
   "outputs": [
    {
     "name": "stdout",
     "output_type": "stream",
     "text": [
      "[1, 2, 3, 'a']\n",
      "[1, 2, 3, 'a', 'b']\n",
      "[1, 2, 3, 'a', 'b', 'c']\n"
     ]
    }
   ],
   "source": [
    "'''Method 03\n",
    "by using append,'''\n",
    "\n",
    "list1 = [\"a\", \"b\" , \"c\"]\n",
    "list2 = [1, 2, 3]\n",
    "\n",
    "for i in list1:\n",
    "    list2.append(i)\n",
    "    print(list2)"
   ]
  },
  {
   "cell_type": "code",
   "execution_count": null,
   "id": "11830296",
   "metadata": {},
   "outputs": [],
   "source": []
  },
  {
   "cell_type": "markdown",
   "id": "28eff7f5-da98-44be-a2c9-9510387426fe",
   "metadata": {
    "jp-MarkdownHeadingCollapsed": true
   },
   "source": [
    "# Print index of an Element"
   ]
  },
  {
   "cell_type": "code",
   "execution_count": 65,
   "id": "ff556f1c",
   "metadata": {},
   "outputs": [
    {
     "data": {
      "text/plain": [
       "2"
      ]
     },
     "execution_count": 65,
     "metadata": {},
     "output_type": "execute_result"
    }
   ],
   "source": [
    "'''Index of the element with the specified value'''\n",
    "list1 = [\"a\", \"b\" , \"c\", \"c\", \"c\"]\n",
    "\n",
    "\n",
    "list1.index('c')\n"
   ]
  },
  {
   "cell_type": "markdown",
   "id": "96349fb2-4d9f-4094-bb66-3bf2138a6516",
   "metadata": {
    "jp-MarkdownHeadingCollapsed": true
   },
   "source": [
    "# Sort the List"
   ]
  },
  {
   "cell_type": "code",
   "execution_count": 75,
   "id": "375901a0",
   "metadata": {},
   "outputs": [
    {
     "name": "stdout",
     "output_type": "stream",
     "text": [
      "[4, 3, 2, 1]\n",
      "[1, 3, 2, 4]\n"
     ]
    }
   ],
   "source": [
    "# Does Not Modify the Original: It creates and returns a new sorted list, leaving the original iterable unchanged.\n",
    "# this method is not memory Efficient\n",
    "list2 = [1,3, 2,4]\n",
    "\n",
    "print(sorted(list2,reverse=True))\n",
    "print(list2)\n"
   ]
  },
  {
   "cell_type": "code",
   "execution_count": null,
   "id": "1c1465bb-0ea2-42dd-8342-85e1f66e89fb",
   "metadata": {},
   "outputs": [],
   "source": []
  },
  {
   "cell_type": "code",
   "execution_count": 73,
   "id": "8e502fd7",
   "metadata": {},
   "outputs": [
    {
     "data": {
      "text/plain": [
       "[1, 2, 3, 4]"
      ]
     },
     "execution_count": 73,
     "metadata": {},
     "output_type": "execute_result"
    }
   ],
   "source": [
    "# Modifies the Original List: It changes the original list and does not return a new list.\n",
    "# In-Place Sorting: Since it modifies the original list, it uses less memory compared to sorted().\n",
    "\n",
    "list2 = [1,3, 2,4]\n",
    "\n",
    "list2.sort()\n",
    "list2\n"
   ]
  },
  {
   "cell_type": "code",
   "execution_count": null,
   "id": "0ae03daf-039b-43ba-b7cb-9a89e76e9b2b",
   "metadata": {},
   "outputs": [],
   "source": [
    "list2 = [1, 2, 3,3]\n",
    "\n",
    "list2.sort(reverse=False)\n",
    "list2\n"
   ]
  },
  {
   "cell_type": "markdown",
   "id": "ff8e2986-7a97-4206-b66a-720b11bfb970",
   "metadata": {
    "jp-MarkdownHeadingCollapsed": true
   },
   "source": [
    "# Convert list to dict"
   ]
  },
  {
   "cell_type": "code",
   "execution_count": 77,
   "id": "facf1e12-7528-4516-93bc-971f75707f22",
   "metadata": {},
   "outputs": [
    {
     "data": {
      "text/plain": [
       "{'apple': 1, 'banana': 2, 'cherry': 3, 'orange': 4}"
      ]
     },
     "execution_count": 77,
     "metadata": {},
     "output_type": "execute_result"
    }
   ],
   "source": [
    "\n",
    "abc = [\"apple\", \"banana\", \"cherry\", \"orange\"]\n",
    "xyz = [1, 2, 3, 4,5,6]\n",
    "\n",
    "dict(zip(abc,xyz))\n",
    "\n"
   ]
  },
  {
   "cell_type": "code",
   "execution_count": null,
   "id": "d330c0e2-87ac-4474-be6f-0b5e3c85222e",
   "metadata": {},
   "outputs": [],
   "source": []
  },
  {
   "cell_type": "code",
   "execution_count": null,
   "id": "48033642-88e0-420c-bfbb-68c4a4445e24",
   "metadata": {},
   "outputs": [],
   "source": []
  },
  {
   "cell_type": "markdown",
   "id": "22707625-a6a2-4c57-8172-6c9b14a7a3ac",
   "metadata": {
    "jp-MarkdownHeadingCollapsed": true
   },
   "source": [
    "# Print Even Numbers\n"
   ]
  },
  {
   "cell_type": "code",
   "execution_count": 79,
   "id": "edd9f3d7-7712-4b5b-87d5-85dca7c9cf48",
   "metadata": {},
   "outputs": [
    {
     "name": "stdout",
     "output_type": "stream",
     "text": [
      "2\n",
      "4\n",
      "6\n",
      "8\n"
     ]
    }
   ],
   "source": [
    "# \n",
    "abc = range(1,10)\n",
    "\n",
    "for i in abc:\n",
    "    if i%2==0:\n",
    "        print(i)\n"
   ]
  },
  {
   "cell_type": "code",
   "execution_count": null,
   "id": "7c9f9571-6393-49b3-81fa-e87ef19588ce",
   "metadata": {},
   "outputs": [],
   "source": []
  },
  {
   "cell_type": "code",
   "execution_count": null,
   "id": "4666ae13-f4ee-4eec-8989-96dcf31d18ba",
   "metadata": {},
   "outputs": [],
   "source": []
  },
  {
   "cell_type": "markdown",
   "id": "99b4f6d0-08d0-46c8-9997-47c053c38aa5",
   "metadata": {},
   "source": [
    "# Use of list Comprehension"
   ]
  },
  {
   "cell_type": "code",
   "execution_count": 90,
   "id": "4691bb9d",
   "metadata": {},
   "outputs": [
    {
     "name": "stdout",
     "output_type": "stream",
     "text": [
      "['apple', 'banana', 'cherry', 'mango']\n"
     ]
    },
    {
     "data": {
      "text/plain": [
       "['apple', 'banana', 'cherry', 'mango']"
      ]
     },
     "execution_count": 90,
     "metadata": {},
     "output_type": "execute_result"
    }
   ],
   "source": [
    "'Create copy of a list from existing list'\n",
    "\n",
    "fruits = [\"apple\", \"banana\", \"cherry\", \"kiwi\", \"mango\"]\n",
    "newList = []\n",
    "\n",
    "for i in fruits:\n",
    "    if \"a\" in i or 'e' in i:\n",
    "        newList.append(i)\n",
    "print(newList)\n",
    "\n",
    "[i for i in fruits if 'a' in i or 'e' in i]\n",
    "\n",
    "\n",
    "\n"
   ]
  },
  {
   "cell_type": "code",
   "execution_count": null,
   "id": "1270379e-9de7-45b4-b8f1-35ba119cec6b",
   "metadata": {},
   "outputs": [],
   "source": []
  },
  {
   "cell_type": "code",
   "execution_count": 3,
   "id": "11be8d19-07f5-4a5e-8a78-069400d3779c",
   "metadata": {},
   "outputs": [
    {
     "data": {
      "text/plain": [
       "['apple', 'banana', 'cherry', 'kiwi', 'mango']"
      ]
     },
     "execution_count": 3,
     "metadata": {},
     "output_type": "execute_result"
    }
   ],
   "source": [
    "newlist = []\n",
    "\n",
    "for i in fruits:\n",
    "    newlist.append(i)\n",
    "    \n",
    "newlist\n"
   ]
  },
  {
   "cell_type": "code",
   "execution_count": 5,
   "id": "5b44b356",
   "metadata": {},
   "outputs": [],
   "source": [
    "'''Using List Comprehension'''\n",
    "#[exp   for x in iterable]\n",
    "\n",
    "newList = [x for x in fruits]\n"
   ]
  },
  {
   "cell_type": "code",
   "execution_count": 91,
   "id": "764f8eea-545d-4672-9dc9-54ee04a21655",
   "metadata": {},
   "outputs": [
    {
     "data": {
      "text/plain": [
       "[2, 4, 6, 8, 10, 12, 14, 16, 18]"
      ]
     },
     "execution_count": 91,
     "metadata": {},
     "output_type": "execute_result"
    }
   ],
   "source": [
    "# Multiply with Two only if the number Even Number\n",
    "raneOne = range(1,10)\n",
    "newList = [x*2   for x in raneOne]\n",
    "newList\n"
   ]
  },
  {
   "cell_type": "code",
   "execution_count": 93,
   "id": "59adf43c-ecd9-4ad2-b3b3-7b110850ef83",
   "metadata": {},
   "outputs": [
    {
     "data": {
      "text/plain": [
       "[4, 8, 12, 16]"
      ]
     },
     "execution_count": 93,
     "metadata": {},
     "output_type": "execute_result"
    }
   ],
   "source": [
    "[i*2 for i in raneOne if i%2==0]\n",
    "\n"
   ]
  },
  {
   "cell_type": "code",
   "execution_count": null,
   "id": "f37a17e2-d1de-4147-a4d5-17e9fce5d71b",
   "metadata": {},
   "outputs": [],
   "source": [
    "#         [exp   for i in iterable]\n",
    "newList = [i      for i in fruits]\n",
    "newList\n"
   ]
  },
  {
   "cell_type": "code",
   "execution_count": null,
   "id": "9735900b",
   "metadata": {},
   "outputs": [],
   "source": []
  },
  {
   "cell_type": "code",
   "execution_count": null,
   "id": "626924ae",
   "metadata": {},
   "outputs": [],
   "source": [
    "'Create New a New list which has \"a\" in common'\n",
    "\n",
    "\n",
    "fruits = [\"apple\", \"banana\", \"cherry\", \"kiwi\", \"mango\"]\n"
   ]
  },
  {
   "cell_type": "code",
   "execution_count": 9,
   "id": "0aaa3453-50fc-4dfb-91e9-96ed3d50cbf6",
   "metadata": {},
   "outputs": [
    {
     "name": "stdout",
     "output_type": "stream",
     "text": [
      "['apple', 'banana', 'mango']\n"
     ]
    }
   ],
   "source": [
    "newlistWithA = []\n",
    "\n",
    "for i in fruits:\n",
    "    if 'a' in i:\n",
    "        newlistWithA.append(i)\n",
    "        \n",
    "print(newlistWithA)\n"
   ]
  },
  {
   "cell_type": "code",
   "execution_count": 10,
   "id": "e80e34c5",
   "metadata": {},
   "outputs": [
    {
     "data": {
      "text/plain": [
       "['apple', 'banana', 'mango']"
      ]
     },
     "execution_count": 10,
     "metadata": {},
     "output_type": "execute_result"
    }
   ],
   "source": [
    "'create New a New list which \"a\" in common using List comprehension'\n",
    "\n",
    "# [exp    for i in iterable       if condition  ]\n"
   ]
  },
  {
   "cell_type": "code",
   "execution_count": null,
   "id": "81ea2def",
   "metadata": {},
   "outputs": [],
   "source": [
    "newlistWithA2 = [x for x in fruits if \"a\" in x]\n",
    "newlistWithA2\n"
   ]
  },
  {
   "cell_type": "code",
   "execution_count": null,
   "id": "8a39a413-f544-48bc-807d-f470d5a70aa6",
   "metadata": {},
   "outputs": [],
   "source": []
  },
  {
   "cell_type": "code",
   "execution_count": 16,
   "id": "4b25a534-6bb2-4e14-b571-a9be9c60a2dd",
   "metadata": {},
   "outputs": [
    {
     "data": {
      "text/plain": [
       "[1, 4, 9, 16, 25, 36, 49]"
      ]
     },
     "execution_count": 16,
     "metadata": {},
     "output_type": "execute_result"
    }
   ],
   "source": [
    "# Generate a new list containing the squares of the numbers in the list [1, 2, 3, 4, 5, 6, 7]\n",
    "listOne = [1, 2, 3, 4, 5, 6, 7]\n",
    "newList1 = []\n",
    "\n",
    "for i in listOne:\n",
    "    newList1.append(i**2)\n",
    "\n",
    "newList1\n"
   ]
  },
  {
   "cell_type": "code",
   "execution_count": null,
   "id": "9787b247-1b7b-434d-9a70-6afc767871dc",
   "metadata": {},
   "outputs": [],
   "source": [
    "# [exp   iteration ]\n",
    "\n",
    "newList = [x**2 for i in listOne]\n",
    "\n",
    "newList\n"
   ]
  },
  {
   "cell_type": "code",
   "execution_count": 20,
   "id": "684d1bd5",
   "metadata": {},
   "outputs": [
    {
     "name": "stdout",
     "output_type": "stream",
     "text": [
      "[4, 16, 36]\n"
     ]
    }
   ],
   "source": [
    "# Create a new list of squared of each Even_Number\n",
    "listOne = [1, 2, 3, 4, 5, 6, 7]\n",
    "\n",
    "newListSq = []\n",
    "\n",
    "for i in listOne:\n",
    "    if i%2==0:\n",
    "        newListSq.append(i**2)\n",
    "        \n",
    "print(newListSq)\n"
   ]
  },
  {
   "cell_type": "code",
   "execution_count": null,
   "id": "f65748f2",
   "metadata": {},
   "outputs": [],
   "source": []
  },
  {
   "cell_type": "code",
   "execution_count": null,
   "id": "5040c0cc",
   "metadata": {},
   "outputs": [],
   "source": [
    "# Using list comprehension to create a new list of squared of each Number\n",
    "# [exp   iteration           condition     ]\n",
    "# [i**2 for x in range(1,7)  if i%2==0]\n",
    "\n",
    "listOne = [1, 2, 3, 4, 5, 6, 7]\n",
    "\n",
    "\n",
    "# Using list comprehension to create a new list of squared of Even Number\n",
    "\n",
    "oddNumberSqure = [i**2 for i in listOne if i%2 == 0]\n",
    "oddNumberSqure\n"
   ]
  },
  {
   "cell_type": "code",
   "execution_count": null,
   "id": "ecf47759",
   "metadata": {},
   "outputs": [],
   "source": [
    "# Using list comprehension to create a new list of squared of each Number\n",
    "# [exp   iteration           condition     ]\n",
    "# [i**2 for x in range(1,7)  if i%2==0]\n",
    "\n",
    "listOne = [1, 2, 3, 4, 5, 6, 7]\n",
    "\n",
    "# Using list comprehension to create a new list of squared of ODD Number\n",
    "\n",
    "oddNumberSqure = [i**2 for i in listOne if i%2 != 0]\n",
    "oddNumberSqure\n"
   ]
  },
  {
   "cell_type": "code",
   "execution_count": 22,
   "id": "8b78ed96",
   "metadata": {},
   "outputs": [
    {
     "data": {
      "text/plain": [
       "[1, 2, 6, 7]"
      ]
     },
     "execution_count": 22,
     "metadata": {},
     "output_type": "execute_result"
    }
   ],
   "source": [
    "# Example: Filtering numbers less than 3 or greater 5\n",
    "numbers = [1, 2, 3, 4, 5, 6, 7,]\n",
    "newLIST = []\n",
    "\n",
    "for x in numbers:\n",
    "    if x <3 or x >5:\n",
    "        newLIST.append(x)\n",
    "newLIST\n",
    "\n"
   ]
  },
  {
   "cell_type": "code",
   "execution_count": null,
   "id": "67c6c78c",
   "metadata": {},
   "outputs": [],
   "source": []
  },
  {
   "cell_type": "code",
   "execution_count": null,
   "id": "0bea11c4",
   "metadata": {},
   "outputs": [],
   "source": [
    "listOne = [0,1,2,3,4,5,6]\n",
    "x  if x<3     else   x   if x>5  else  "
   ]
  },
  {
   "cell_type": "code",
   "execution_count": 29,
   "id": "845b83be",
   "metadata": {},
   "outputs": [
    {
     "data": {
      "text/plain": [
       "[]"
      ]
     },
     "execution_count": 29,
     "metadata": {},
     "output_type": "execute_result"
    }
   ],
   "source": [
    "# Example: Print Square of numbers which are less than 3 or greater 5 using list comprehension\n",
    "#[exp     for x in iterable\t   if cond1 \t       cond2 ...  ]\n",
    "\n",
    "listOne = [0,1,2,3,4,5,6]\n",
    "\n",
    "[x**2 for x in listOne if x <3  or  x>5]\n",
    "\n"
   ]
  },
  {
   "cell_type": "code",
   "execution_count": 22,
   "id": "5774eb81-c3f7-4643-b3d6-1cf43d5a5874",
   "metadata": {},
   "outputs": [
    {
     "data": {
      "text/plain": [
       "[6]"
      ]
     },
     "execution_count": 22,
     "metadata": {},
     "output_type": "execute_result"
    }
   ],
   "source": [
    "# Example: Print Square of numbers which are less than 3 or greater 5 using list comprehension\n",
    "#[exp     for x in iterable\t   if cond1 \t       cond2 ...  ]\n",
    "\n",
    "listOne = [0,1,2,3,4,5,6]\n",
    "\n",
    "[x  for x in listOne if x % 2 == 0 and  x > 5   ]\n",
    "\n",
    "\n"
   ]
  },
  {
   "cell_type": "code",
   "execution_count": 23,
   "id": "3d55cd41-ac04-415e-9624-362f12aa03ff",
   "metadata": {},
   "outputs": [
    {
     "data": {
      "text/plain": [
       "[6]"
      ]
     },
     "execution_count": 23,
     "metadata": {},
     "output_type": "execute_result"
    }
   ],
   "source": [
    "[x  for x in listOne if x % 2 == 0  if x > 5   ]\n"
   ]
  },
  {
   "cell_type": "code",
   "execution_count": 106,
   "id": "c7dbb172-8474-4f11-a908-e113381ca11e",
   "metadata": {},
   "outputs": [
    {
     "name": "stdout",
     "output_type": "stream",
     "text": [
      "1 2\n",
      "2 4\n",
      "3 1.5\n",
      "4 2.0\n",
      "5 7\n",
      "6 8\n",
      "7 9\n"
     ]
    },
    {
     "data": {
      "text/plain": [
       "[2, 4, 1.5, 2.0, 7, 8, 9]"
      ]
     },
     "execution_count": 106,
     "metadata": {},
     "output_type": "execute_result"
    }
   ],
   "source": [
    "# multiply a Number by 2   if it is less or equal to 2 \n",
    "#   devide a number by 2   if it is less or equal to 4\n",
    "# else add with 2\n",
    "\n",
    "listOne = [1,2,3,4,5,6,7]\n",
    "\n",
    "for i in listOne:\n",
    "    if i<=2:\n",
    "        print(i,i*2)\n",
    "    elif i<=4:\n",
    "        print(i,i/2)\n",
    "    else:\n",
    "        print(i,i+2)\n",
    "\n",
    "[i*2 if i<=2 else i/2 if i<=4 else i+2 for i in listOne]\n"
   ]
  },
  {
   "cell_type": "code",
   "execution_count": 119,
   "id": "f12ecf70-0496-4103-af94-247454e5a7ae",
   "metadata": {},
   "outputs": [
    {
     "name": "stdout",
     "output_type": "stream",
     "text": [
      "Rajesh\n",
      "Sunil\n",
      "Praveen\n"
     ]
    },
    {
     "data": {
      "text/plain": [
       "['Rajesh', 'Sunil', 'Praveen']"
      ]
     },
     "execution_count": 119,
     "metadata": {},
     "output_type": "execute_result"
    }
   ],
   "source": [
    "\n",
    "list01 = ['Rajesh','Sunil','Praveen']\n",
    "\n",
    "'''if j in value print that name\n",
    "if n in value print that name\n",
    "if p in value print that name'''\n",
    "\n",
    "for i in list01:\n",
    "    if 'j' in i:\n",
    "        print(i)\n",
    "    elif 'n' in i:\n",
    "        print(i)\n",
    "    elif 'P' in i:\n",
    "        print(i)\n",
    "        \n",
    "\n",
    "[i if 'j' in i else i if 'n' in i else i if 'P' in i else \"\" for i in list01]\n",
    "\n",
    "\n"
   ]
  },
  {
   "cell_type": "code",
   "execution_count": null,
   "id": "b08aae2b-68cf-4241-8384-802c7ea4263c",
   "metadata": {},
   "outputs": [],
   "source": []
  },
  {
   "cell_type": "code",
   "execution_count": 12,
   "id": "1c80e51b",
   "metadata": {},
   "outputs": [
    {
     "data": {
      "text/plain": [
       "[0, 2, 4, 1.5, 2.0, 7, 8]"
      ]
     },
     "execution_count": 12,
     "metadata": {},
     "output_type": "execute_result"
    }
   ],
   "source": [
    "# [exp1  if cond1   else  exp2 if cond2    else exp3     for x in iterable]\n",
    "[x*2   if x<=2     else  x/2 if x<=4       else x+2      for x in listOne]\n"
   ]
  },
  {
   "cell_type": "code",
   "execution_count": null,
   "id": "d4b40498",
   "metadata": {},
   "outputs": [],
   "source": []
  },
  {
   "cell_type": "code",
   "execution_count": 107,
   "id": "f14afa26",
   "metadata": {},
   "outputs": [
    {
     "name": "stdout",
     "output_type": "stream",
     "text": [
      "[1, 2, 3, 6, 7]\n"
     ]
    }
   ],
   "source": [
    "# Example: Filtering numbers less than 2 or greater 5\n",
    "numbers = [1, 2, 3, 4, 5, 6, 7]\n",
    "filtered_numbers = [x for x in numbers if x <= 3 or x > 5]\n",
    "print(filtered_numbers) \n"
   ]
  }
 ],
 "metadata": {
  "kernelspec": {
   "display_name": "Python 3 (ipykernel)",
   "language": "python",
   "name": "python3"
  },
  "language_info": {
   "codemirror_mode": {
    "name": "ipython",
    "version": 3
   },
   "file_extension": ".py",
   "mimetype": "text/x-python",
   "name": "python",
   "nbconvert_exporter": "python",
   "pygments_lexer": "ipython3",
   "version": "3.11.7"
  }
 },
 "nbformat": 4,
 "nbformat_minor": 5
}
