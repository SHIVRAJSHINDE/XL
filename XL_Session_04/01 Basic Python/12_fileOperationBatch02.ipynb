{
 "cells": [
  {
   "cell_type": "markdown",
   "id": "b9560a87-d515-4bd5-bde3-9b87637ea06a",
   "metadata": {},
   "source": [
    "# Creating a File"
   ]
  },
  {
   "cell_type": "code",
   "execution_count": 8,
   "id": "1ec84e9e-7e52-47c3-9038-eaf3e8696eff",
   "metadata": {},
   "outputs": [],
   "source": [
    "# create Object of file in write mode ('w')\n",
    "\n",
    "file_path = r'D:\\MLProjects\\ZDatasets\\TempData\\file.txt'  # Use raw string to avoid escape characters\n",
    "file = open(file_path, 'w')\n",
    "file.close()\n"
   ]
  },
  {
   "cell_type": "code",
   "execution_count": 21,
   "id": "84f41987-19d0-4f93-a282-c6baa6e00671",
   "metadata": {},
   "outputs": [],
   "source": [
    "\n",
    "# filePath+NameOfLE.ext\n",
    "fileName = r'D:\\MLProjects\\ZDatasets\\TempData\\file.txt'\n",
    "file = open(fileName,'w')\n",
    "file.close()\n"
   ]
  },
  {
   "cell_type": "code",
   "execution_count": 23,
   "id": "0ce9ebc5",
   "metadata": {},
   "outputs": [
    {
     "name": "stdout",
     "output_type": "stream",
     "text": [
      "asdfasdf\n",
      "asdfasfadsf\n"
     ]
    }
   ],
   "source": [
    "# create Object of file in Read mode (file_path, 'r')\n",
    "# Read the File\n",
    "# Close the File\n",
    "\n",
    "fileName = r'D:\\MLProjects\\ZDatasets\\TempData\\file.txt'\n",
    "file = open(file_path,'r')\n",
    "data = file.read()\n",
    "\n",
    "print(data)\n"
   ]
  },
  {
   "cell_type": "code",
   "execution_count": 28,
   "id": "a932e5d3",
   "metadata": {},
   "outputs": [
    {
     "name": "stdout",
     "output_type": "stream",
     "text": [
      "asdfasdf\n",
      "asdfasfadsf\n"
     ]
    }
   ],
   "source": [
    "\n",
    "\n",
    "def reaFile():\n",
    "    fileName = r'D:\\MLProjects\\ZDatasets\\TempData\\file.txt'\n",
    "    file = open(file_path,'r')\n",
    "    data = file.read()\n",
    "    print(data)\n",
    "\n",
    "reaFile()\n"
   ]
  },
  {
   "cell_type": "code",
   "execution_count": 27,
   "id": "46bebb8e",
   "metadata": {},
   "outputs": [
    {
     "name": "stdout",
     "output_type": "stream",
     "text": [
      "asdfasdf\n",
      "asdfasfadsf\n"
     ]
    }
   ],
   "source": [
    "\n",
    "fileName = r'D:\\MLProjects\\ZDatasets\\TempData\\file.txt'\n",
    "\n",
    "def reaFile(fileName):\n",
    "    file = open(file_path,'r')\n",
    "    data = file.read()\n",
    "    print(data)\n",
    "\n",
    "reaFile(fileName)\n"
   ]
  },
  {
   "cell_type": "code",
   "execution_count": 29,
   "id": "8b65aab0",
   "metadata": {},
   "outputs": [
    {
     "name": "stdout",
     "output_type": "stream",
     "text": [
      "asdfasdf\n",
      "asdfasfadsf\n"
     ]
    }
   ],
   "source": [
    "\n",
    "fileName = r'D:\\MLProjects\\ZDatasets\\TempData\\file.txt'\n",
    "\n",
    "def reaFile(fileName=fileName):\n",
    "    file = open(file_path,'r')\n",
    "    data = file.read()\n",
    "    print(data)\n",
    "\n",
    "reaFile(fileName=fileName)\n"
   ]
  },
  {
   "cell_type": "code",
   "execution_count": null,
   "id": "d09822e2",
   "metadata": {},
   "outputs": [],
   "source": []
  },
  {
   "cell_type": "code",
   "execution_count": null,
   "id": "e3bce33a",
   "metadata": {},
   "outputs": [],
   "source": []
  },
  {
   "cell_type": "code",
   "execution_count": null,
   "id": "35a3a40c",
   "metadata": {},
   "outputs": [],
   "source": []
  }
 ],
 "metadata": {
  "kernelspec": {
   "display_name": "Python 3 (ipykernel)",
   "language": "python",
   "name": "python3"
  },
  "language_info": {
   "codemirror_mode": {
    "name": "ipython",
    "version": 3
   },
   "file_extension": ".py",
   "mimetype": "text/x-python",
   "name": "python",
   "nbconvert_exporter": "python",
   "pygments_lexer": "ipython3",
   "version": "3.11.7"
  }
 },
 "nbformat": 4,
 "nbformat_minor": 5
}
