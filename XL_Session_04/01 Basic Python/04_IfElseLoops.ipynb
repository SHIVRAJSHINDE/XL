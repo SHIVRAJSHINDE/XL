{
 "cells": [
  {
   "cell_type": "code",
   "execution_count": 4,
   "id": "5cffa4c0-cb48-482a-b366-70b2f9dc6024",
   "metadata": {},
   "outputs": [
    {
     "name": "stdout",
     "output_type": "stream",
     "text": [
      "Values is less Than 15\n"
     ]
    }
   ],
   "source": [
    "# IF condition\n",
    "# check Value\n",
    "# please check if the value is less than or equal to 10\n",
    "\n",
    "i = 12\n",
    "\n",
    "if i<=10:\n",
    "    print(\"Values is less Than 10\")\n",
    "elif i<=15:\n",
    "    print(\"Values is less Than 15\")\n",
    "else:\n",
    "    print(\"Value is greter than 15\")\n"
   ]
  },
  {
   "cell_type": "code",
   "execution_count": 9,
   "id": "b4628555-1c67-4130-8076-1edb5760bcab",
   "metadata": {},
   "outputs": [
    {
     "name": "stdout",
     "output_type": "stream",
     "text": [
      "Adult\n"
     ]
    }
   ],
   "source": [
    "# check if the the given is infant <=2 child <=15 or Adult or old person(greater than 55)\n",
    "\n",
    "age = 100\n",
    "\n",
    "if age<=2:\n",
    "    print(\"Infant\")\n",
    "elif age<=15:\n",
    "    print(\"Child\")\n",
    "else:\n",
    "    print(\"Adult\")\n",
    "    \n"
   ]
  },
  {
   "cell_type": "code",
   "execution_count": null,
   "id": "68e88d71-aceb-4378-8c91-ad45bfd89ae6",
   "metadata": {},
   "outputs": [],
   "source": [
    "HOmework\n",
    "# create two examples of if coditions\n",
    "# print \"sunil\" 15 times using while loop\n",
    "# apply for loop on all sequence Datatype incuding range \n"
   ]
  },
  {
   "cell_type": "code",
   "execution_count": 2,
   "id": "f2dae646",
   "metadata": {},
   "outputs": [
    {
     "name": "stdout",
     "output_type": "stream",
     "text": [
      "Infant\n"
     ]
    }
   ],
   "source": [
    "'''IF Else'''\n",
    "\"check if the age is of infant\"\n",
    "\n",
    "# age less than or equal to 2 is infant\n",
    "\n",
    "age = 2\n",
    "\n",
    "if age <=2:\n",
    "    print(\"Infant\")\n",
    "else:\n",
    "    print(\"Not infant\")\n",
    "\n"
   ]
  },
  {
   "cell_type": "code",
   "execution_count": null,
   "id": "7792004a",
   "metadata": {},
   "outputs": [],
   "source": []
  },
  {
   "cell_type": "code",
   "execution_count": 7,
   "id": "5d2f3364",
   "metadata": {},
   "outputs": [
    {
     "name": "stdout",
     "output_type": "stream",
     "text": [
      "Old Persion\n"
     ]
    }
   ],
   "source": [
    "'''If Else'''\n",
    "age = 56\n",
    "'''\n",
    "inf <=2\n",
    "child<=12\n",
    "adult>12\n",
    "'''\n",
    "\n",
    "if age <=2:\n",
    "    print(\"INF\")\n",
    "elif age<=12:\n",
    "    print(\"child\")\n",
    "elif age<=55:\n",
    "    print(\"Adult\")\n",
    "else:\n",
    "    print(\"Old Persion\")\n",
    "    "
   ]
  },
  {
   "cell_type": "code",
   "execution_count": 10,
   "id": "be8e024c",
   "metadata": {},
   "outputs": [
    {
     "name": "stdout",
     "output_type": "stream",
     "text": [
      "pineapple Not Found\n"
     ]
    }
   ],
   "source": [
    "Stall_1 = 'pineapple'\n",
    "Stall_2 = 'pineapple'\n",
    "\n",
    "\n",
    "\n",
    "if Stall_1 == \"pineapple\":\n",
    "    print(\"go home with pineapple from Stall_1\")\n",
    "elif Stall_2 == \"pineapple\":\n",
    "    print(\"go home with pineapple from Stall_2\")\n",
    "\n",
    "else:\n",
    "    print(\"pineapple Not Found\")\n",
    "\n"
   ]
  },
  {
   "cell_type": "code",
   "execution_count": 19,
   "id": "62261e29-6e94-476e-a6a8-31421e735e13",
   "metadata": {},
   "outputs": [
    {
     "name": "stdout",
     "output_type": "stream",
     "text": [
      "rajesh\n",
      "rajesh\n",
      "rajesh\n",
      "rajesh\n",
      "rajesh\n",
      "rajesh\n",
      "rajesh\n",
      "rajesh\n",
      "rajesh\n",
      "rajesh\n"
     ]
    }
   ],
   "source": [
    "START = 1\n",
    "END = 10\n",
    "while START <=END:\n",
    "    print('rajesh')\n",
    "    START=START+1\n",
    "    "
   ]
  },
  {
   "cell_type": "code",
   "execution_count": 25,
   "id": "16091398",
   "metadata": {},
   "outputs": [
    {
     "name": "stdout",
     "output_type": "stream",
     "text": [
      "0\n",
      "1\n",
      "2\n",
      "3\n",
      "4\n",
      "5\n",
      "6\n",
      "7\n",
      "8\n",
      "9\n",
      "10\n"
     ]
    }
   ],
   "source": [
    "i = 0\n",
    "\n",
    "while i<=10:\n",
    "    print(i)\n",
    "    i=i+1\n",
    "    "
   ]
  },
  {
   "cell_type": "code",
   "execution_count": null,
   "id": "26cbf47f-6bca-4bd0-8cd0-aef22a6b4568",
   "metadata": {},
   "outputs": [],
   "source": [
    "# For LOOP\n",
    "\n",
    "# range\n",
    "# sequence type, \n",
    "# list,tupple,string\n",
    "# mapping type (key, Value)\n",
    "# Dict\n",
    "# Set type\n",
    "# Set(unique,Unordered)\n"
   ]
  },
  {
   "cell_type": "code",
   "execution_count": 27,
   "id": "e9fe3c1a-dc40-41b5-b966-1948a01952be",
   "metadata": {},
   "outputs": [
    {
     "name": "stdout",
     "output_type": "stream",
     "text": [
      "1\n",
      "2\n",
      "3\n",
      "4\n",
      "5\n"
     ]
    }
   ],
   "source": [
    "setOne = {1,2,3,4,5}\n",
    "\n",
    "for i in tuppleOne:\n",
    "    print(i)\n",
    "    "
   ]
  },
  {
   "cell_type": "code",
   "execution_count": 28,
   "id": "1f51a7dc-cf3e-4ef7-bb45-562c19cdddc4",
   "metadata": {},
   "outputs": [
    {
     "name": "stdout",
     "output_type": "stream",
     "text": [
      "R\n",
      "a\n",
      "j\n",
      "e\n",
      "s\n",
      "h\n"
     ]
    }
   ],
   "source": [
    "\n",
    "name = \"Rajesh\"\n",
    "for i in name:\n",
    "    print(i)\n"
   ]
  },
  {
   "cell_type": "code",
   "execution_count": 30,
   "id": "05142729-317e-4178-94ff-1e6c195f26a5",
   "metadata": {},
   "outputs": [
    {
     "name": "stdout",
     "output_type": "stream",
     "text": [
      "('name', 'RAJESH')\n",
      "('AGE', 32)\n"
     ]
    }
   ],
   "source": [
    "newDict = {'name':\"RAJESH\",\"AGE\":32}\n",
    "\n",
    "for i in newDict.items():\n",
    "    print(i)\n",
    "    "
   ]
  },
  {
   "cell_type": "code",
   "execution_count": 24,
   "id": "59a188fb-ae7f-417f-a330-579cd3ba7e01",
   "metadata": {},
   "outputs": [
    {
     "name": "stdout",
     "output_type": "stream",
     "text": [
      "2\n",
      "5\n",
      "8\n"
     ]
    }
   ],
   "source": [
    "for i in range(2,10,3):\n",
    "    print(i)\n",
    "\n"
   ]
  },
  {
   "cell_type": "code",
   "execution_count": 28,
   "id": "6c15a313-55fe-4e15-8665-29611ae63593",
   "metadata": {},
   "outputs": [
    {
     "name": "stdout",
     "output_type": "stream",
     "text": [
      "0\n",
      "3\n",
      "6\n",
      "9\n"
     ]
    }
   ],
   "source": [
    "for i in range(0,10,3):\n",
    "    print(i)\n"
   ]
  },
  {
   "cell_type": "code",
   "execution_count": 29,
   "id": "be6f9075",
   "metadata": {},
   "outputs": [
    {
     "name": "stdout",
     "output_type": "stream",
     "text": [
      "apple\n",
      "banana\n",
      "cherry\n",
      "kiwi\n"
     ]
    }
   ],
   "source": [
    "'''For Loops'''\n",
    "fruits = [\"apple\", \"banana\", \"cherry\",\"kiwi\"]\n",
    "\n",
    "for i in fruits:\n",
    "    print(i)\n"
   ]
  },
  {
   "cell_type": "code",
   "execution_count": 30,
   "id": "b8b093bf-777b-44ca-bdef-36f4a4d26d0f",
   "metadata": {},
   "outputs": [
    {
     "name": "stdout",
     "output_type": "stream",
     "text": [
      "1\n",
      "2\n",
      "3\n",
      "4\n",
      "5\n",
      "6\n",
      "7\n",
      "8\n"
     ]
    }
   ],
   "source": [
    "numbers1 = [1,2,3,4,5,6,7,8]\n",
    "\n",
    "for i in numbers1:\n",
    "    print(i)\n",
    "    "
   ]
  },
  {
   "cell_type": "code",
   "execution_count": 31,
   "id": "45f017dc-d31e-4194-9120-232527212147",
   "metadata": {},
   "outputs": [
    {
     "name": "stdout",
     "output_type": "stream",
     "text": [
      "apple\n",
      "banana\n",
      "cherry\n",
      "kiwi\n"
     ]
    }
   ],
   "source": [
    "fruits = (\"apple\", \"banana\", \"cherry\",\"kiwi\")\n",
    "for i in fruits:\n",
    "    print(i)\n",
    "    "
   ]
  },
  {
   "cell_type": "code",
   "execution_count": 40,
   "id": "2240d1d8-fe85-481e-85f2-a1dcf47e1529",
   "metadata": {},
   "outputs": [
    {
     "name": "stdout",
     "output_type": "stream",
     "text": [
      "Name\n",
      "Age\n",
      "City\n"
     ]
    }
   ],
   "source": [
    "# Dict\n",
    "newDict = {'Name':\"Rajesh\",\"Age\":\"32\",\"City\":\"Mumbai\"}\n",
    "# keys()\n",
    "# values()\n",
    "# itmes()\n",
    "\n",
    "for i in newDict.keys():\n",
    "    print(i)\n"
   ]
  },
  {
   "cell_type": "code",
   "execution_count": 33,
   "id": "6b9d0904",
   "metadata": {},
   "outputs": [
    {
     "name": "stdout",
     "output_type": "stream",
     "text": [
      "1\n",
      "2\n",
      "3\n",
      "4\n"
     ]
    }
   ],
   "source": [
    "range1 = range(1,5)\n",
    "for x in range1:\n",
    "  print(x)"
   ]
  },
  {
   "cell_type": "code",
   "execution_count": 4,
   "id": "304eb1cc",
   "metadata": {},
   "outputs": [
    {
     "name": "stdout",
     "output_type": "stream",
     "text": [
      "Old Persion\n"
     ]
    }
   ],
   "source": [
    "# Create Functions\n",
    "'''\n",
    "inf <=2\n",
    "child<=12\n",
    "adult>12\n",
    "'''\n",
    "\n",
    "age = 56\n",
    "\n",
    "def classifyAge(age):\n",
    "\n",
    "    if age <=2:\n",
    "        print(\"INF\")\n",
    "    elif age<=12:\n",
    "        print(\"child\")\n",
    "    elif age<=55:\n",
    "        print(\"Adult\")\n",
    "    else:\n",
    "        print(\"Old Persion\")\n",
    "\n",
    "classifyAge(age)\n"
   ]
  },
  {
   "cell_type": "code",
   "execution_count": 5,
   "id": "de1edcb6",
   "metadata": {},
   "outputs": [
    {
     "name": "stdout",
     "output_type": "stream",
     "text": [
      "Old Persion\n"
     ]
    }
   ],
   "source": [
    "# Create Functions\n",
    "'''\n",
    "inf <=2\n",
    "child<=12\n",
    "adult>12\n",
    "'''\n",
    "\n",
    "def classifyAge():\n",
    "    age = 56\n",
    "    if age <=2:\n",
    "        print(\"INF\")\n",
    "    elif age<=12:\n",
    "        print(\"child\")\n",
    "    elif age<=55:\n",
    "        print(\"Adult\")\n",
    "    else:\n",
    "        print(\"Old Persion\")\n",
    "\n",
    "classifyAge()\n"
   ]
  },
  {
   "cell_type": "code",
   "execution_count": 7,
   "id": "e858d99a",
   "metadata": {},
   "outputs": [
    {
     "name": "stdout",
     "output_type": "stream",
     "text": [
      "Old Persion\n"
     ]
    }
   ],
   "source": [
    "# Create Functions\n",
    "'''\n",
    "inf <=2\n",
    "child<=12\n",
    "adult>12\n",
    "'''\n",
    "\n",
    "Age = 56\n",
    "\n",
    "def classifyAge(age):\n",
    "\n",
    "    if age <=2:\n",
    "        print(\"INF\")\n",
    "    elif age<=12:\n",
    "        print(\"child\")\n",
    "    elif age<=55:\n",
    "        print(\"Adult\")\n",
    "    else:\n",
    "        print(\"Old Persion\")\n",
    "\n",
    "classifyAge(age=Age)\n"
   ]
  },
  {
   "cell_type": "code",
   "execution_count": null,
   "id": "9e88b08d",
   "metadata": {},
   "outputs": [],
   "source": []
  },
  {
   "cell_type": "code",
   "execution_count": null,
   "id": "07f1c64c",
   "metadata": {},
   "outputs": [],
   "source": []
  }
 ],
 "metadata": {
  "kernelspec": {
   "display_name": "Python 3 (ipykernel)",
   "language": "python",
   "name": "python3"
  },
  "language_info": {
   "codemirror_mode": {
    "name": "ipython",
    "version": 3
   },
   "file_extension": ".py",
   "mimetype": "text/x-python",
   "name": "python",
   "nbconvert_exporter": "python",
   "pygments_lexer": "ipython3",
   "version": "3.11.7"
  }
 },
 "nbformat": 4,
 "nbformat_minor": 5
}
