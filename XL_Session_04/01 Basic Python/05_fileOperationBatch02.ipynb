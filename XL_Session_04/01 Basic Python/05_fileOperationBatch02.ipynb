{
 "cells": [
  {
   "cell_type": "markdown",
   "id": "b9560a87-d515-4bd5-bde3-9b87637ea06a",
   "metadata": {},
   "source": [
    "# Creating a File"
   ]
  },
  {
   "cell_type": "code",
   "execution_count": null,
   "id": "1ec84e9e-7e52-47c3-9038-eaf3e8696eff",
   "metadata": {},
   "outputs": [],
   "source": [
    "# create Object of file in write mode ('w')\n",
    "\n",
    "file_path = r'D:\\MLProjects\\ZDatasets\\TempData\\file.txt'  # Use raw string to avoid escape characters\n",
    "file = open(file_path, 'w')\n",
    "file.close()\n"
   ]
  },
  {
   "cell_type": "code",
   "execution_count": null,
   "id": "84f41987-19d0-4f93-a282-c6baa6e00671",
   "metadata": {},
   "outputs": [],
   "source": [
    "\n",
    "# filePath+NameOfLE.ext\n",
    "fileName = r'D:\\MLProjects\\ZDatasets\\TempData\\file.txt'\n",
    "file = open(fileName,'w')\n",
    "file.close()\n"
   ]
  },
  {
   "cell_type": "code",
   "execution_count": 6,
   "id": "0ce9ebc5",
   "metadata": {},
   "outputs": [
    {
     "name": "stdout",
     "output_type": "stream",
     "text": [
      "my class Name is XL Session.\n"
     ]
    }
   ],
   "source": [
    "# create Object of file in Read mode (file_path, 'r')\n",
    "# Read the File\n",
    "# Close the File\n",
    "\n",
    "fileName = r'D:\\MLProjects\\ZDatasets\\TempData\\file.txt'\n",
    "file = open(fileName,'r')\n",
    "data = file.read()\n",
    "\n",
    "print(data)\n"
   ]
  },
  {
   "cell_type": "code",
   "execution_count": 10,
   "id": "5cb31054-8a9c-4023-9556-a9f2eb58dd59",
   "metadata": {},
   "outputs": [
    {
     "name": "stdout",
     "output_type": "stream",
     "text": [
      "my class Name is XL Session.\n"
     ]
    }
   ],
   "source": [
    "myFileNAME = r'D:\\MLProjects\\ZDatasets\\TempData\\file.txt'\n",
    "\n",
    "\n",
    "def readFile(fileName=myFileNAME):\n",
    "    file = open(fileName,'r')\n",
    "    data = file.read()\n",
    "    print(data)\n",
    "\n",
    "readFile(fileName=myFileNAME)\n"
   ]
  },
  {
   "cell_type": "code",
   "execution_count": null,
   "id": "66d4d499-b266-457b-89ec-7f7fe4703f5c",
   "metadata": {},
   "outputs": [],
   "source": []
  },
  {
   "cell_type": "code",
   "execution_count": null,
   "id": "3619baa6-01c9-4c49-88d0-8d0fdbb59dc8",
   "metadata": {},
   "outputs": [],
   "source": []
  },
  {
   "cell_type": "code",
   "execution_count": null,
   "id": "e8d8e274-6212-4916-9a01-989ade35ce33",
   "metadata": {},
   "outputs": [],
   "source": []
  },
  {
   "cell_type": "code",
   "execution_count": null,
   "id": "63ecff62-2300-43f0-b30b-dc93b39651a0",
   "metadata": {},
   "outputs": [],
   "source": []
  },
  {
   "cell_type": "code",
   "execution_count": null,
   "id": "7759c452-69bb-4182-9d5e-106463826108",
   "metadata": {},
   "outputs": [],
   "source": []
  },
  {
   "cell_type": "code",
   "execution_count": null,
   "id": "cbab7713-f2ae-43ed-8d76-d39a2fac6f4c",
   "metadata": {},
   "outputs": [],
   "source": []
  },
  {
   "cell_type": "code",
   "execution_count": null,
   "id": "2344d304-1d26-41a5-b32c-19859a5782dc",
   "metadata": {},
   "outputs": [],
   "source": []
  },
  {
   "cell_type": "code",
   "execution_count": null,
   "id": "db5610a3-063f-4c97-b8ef-d15bed439f12",
   "metadata": {},
   "outputs": [],
   "source": []
  },
  {
   "cell_type": "code",
   "execution_count": null,
   "id": "b8ab455e-5bff-4d96-a0e2-ee65cb7d1526",
   "metadata": {},
   "outputs": [],
   "source": []
  },
  {
   "cell_type": "code",
   "execution_count": null,
   "id": "9f9c9486-406c-4975-ba50-379e178efbab",
   "metadata": {},
   "outputs": [],
   "source": []
  },
  {
   "cell_type": "code",
   "execution_count": null,
   "id": "a932e5d3",
   "metadata": {},
   "outputs": [],
   "source": [
    "\n",
    "\n",
    "def reaFile():\n",
    "    fileName = r'D:\\MLProjects\\ZDatasets\\TempData\\file.txt'\n",
    "    file = open(file_path,'r')\n",
    "    data = file.read()\n",
    "    print(data)\n",
    "\n",
    "reaFile()\n"
   ]
  },
  {
   "cell_type": "code",
   "execution_count": null,
   "id": "46bebb8e",
   "metadata": {},
   "outputs": [],
   "source": [
    "\n",
    "fileName = r'D:\\MLProjects\\ZDatasets\\TempData\\file.txt'\n",
    "\n",
    "def reaFile(fileName):\n",
    "    file = open(file_path,'r')\n",
    "    data = file.read()\n",
    "    print(data)\n",
    "\n",
    "reaFile(fileName)\n"
   ]
  },
  {
   "cell_type": "code",
   "execution_count": null,
   "id": "8b65aab0",
   "metadata": {},
   "outputs": [],
   "source": [
    "\n",
    "fileName = r'D:\\MLProjects\\ZDatasets\\TempData\\file.txt'\n",
    "\n",
    "def reaFile(fileName=fileName):\n",
    "    file = open(file_path,'r')\n",
    "    data = file.read()\n",
    "    print(data)\n",
    "\n",
    "reaFile(fileName=fileName)\n"
   ]
  },
  {
   "cell_type": "code",
   "execution_count": null,
   "id": "d09822e2",
   "metadata": {},
   "outputs": [],
   "source": []
  },
  {
   "cell_type": "code",
   "execution_count": null,
   "id": "e3bce33a",
   "metadata": {},
   "outputs": [],
   "source": []
  },
  {
   "cell_type": "code",
   "execution_count": null,
   "id": "35a3a40c",
   "metadata": {},
   "outputs": [],
   "source": []
  }
 ],
 "metadata": {
  "kernelspec": {
   "display_name": "Python 3 (ipykernel)",
   "language": "python",
   "name": "python3"
  },
  "language_info": {
   "codemirror_mode": {
    "name": "ipython",
    "version": 3
   },
   "file_extension": ".py",
   "mimetype": "text/x-python",
   "name": "python",
   "nbconvert_exporter": "python",
   "pygments_lexer": "ipython3",
   "version": "3.11.7"
  }
 },
 "nbformat": 4,
 "nbformat_minor": 5
}
