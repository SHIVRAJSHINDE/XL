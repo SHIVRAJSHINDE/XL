{
 "cells": [
  {
   "cell_type": "code",
   "execution_count": 4,
   "id": "5cffa4c0-cb48-482a-b366-70b2f9dc6024",
   "metadata": {},
   "outputs": [
    {
     "name": "stdout",
     "output_type": "stream",
     "text": [
      "Values is less Than 15\n"
     ]
    }
   ],
   "source": [
    "# IF condition\n",
    "# check Value\n",
    "# please check if the value is less than or equal to 10\n",
    "\n",
    "i = 12\n",
    "\n",
    "if i<=10:\n",
    "    print(\"Values is less Than 10\")\n",
    "elif i<=15:\n",
    "    print(\"Values is less Than 15\")\n",
    "else:\n",
    "    print(\"Value is greter than 15\")\n"
   ]
  },
  {
   "cell_type": "code",
   "execution_count": 9,
   "id": "b4628555-1c67-4130-8076-1edb5760bcab",
   "metadata": {},
   "outputs": [
    {
     "name": "stdout",
     "output_type": "stream",
     "text": [
      "Adult\n"
     ]
    }
   ],
   "source": [
    "# check if the the given is infant <=2 child <=15 or Adult or old person(greater than 55)\n",
    "\n",
    "age = 100\n",
    "\n",
    "if age<=2:\n",
    "    print(\"Infant\")\n",
    "elif age<=15:\n",
    "    print(\"Child\")\n",
    "else:\n",
    "    print(\"Adult\")\n",
    "    \n"
   ]
  },
  {
   "cell_type": "code",
   "execution_count": null,
   "id": "68e88d71-aceb-4378-8c91-ad45bfd89ae6",
   "metadata": {},
   "outputs": [],
   "source": [
    "HOmework\n",
    "# create two examples of if coditions\n",
    "# print \"sunil\" 15 times using while loop\n",
    "# apply for loop on all sequence Datatype incuding range \n"
   ]
  },
  {
   "cell_type": "code",
   "execution_count": null,
   "id": "13a13e0b-ecf8-4bf3-b115-ea40da4f1a45",
   "metadata": {},
   "outputs": [],
   "source": []
  },
  {
   "cell_type": "code",
   "execution_count": null,
   "id": "7df35ff7-7997-464c-bdcd-2f6e9df308ae",
   "metadata": {},
   "outputs": [],
   "source": []
  },
  {
   "cell_type": "code",
   "execution_count": null,
   "id": "0c0d5dd6-2c8d-4ec1-9a0b-f356ca30c47e",
   "metadata": {},
   "outputs": [],
   "source": []
  },
  {
   "cell_type": "code",
   "execution_count": null,
   "id": "2702f94e-4d5f-4bb6-adcd-3ba2c770d650",
   "metadata": {},
   "outputs": [],
   "source": []
  },
  {
   "cell_type": "code",
   "execution_count": null,
   "id": "e40513e8-f250-406a-a541-54eae1b9134c",
   "metadata": {},
   "outputs": [],
   "source": []
  },
  {
   "cell_type": "code",
   "execution_count": null,
   "id": "be9b2926-07dc-4f1b-b8a9-cbcdb08ddb39",
   "metadata": {},
   "outputs": [],
   "source": []
  },
  {
   "cell_type": "code",
   "execution_count": null,
   "id": "d27744d7-3c3d-44a1-afc2-2b6b98aaac1a",
   "metadata": {},
   "outputs": [],
   "source": []
  },
  {
   "cell_type": "code",
   "execution_count": null,
   "id": "d0022ea9-db55-416e-b364-671830fead2c",
   "metadata": {},
   "outputs": [],
   "source": []
  },
  {
   "cell_type": "code",
   "execution_count": null,
   "id": "daa49863-a8a1-4de8-a845-6e2e2d621c37",
   "metadata": {},
   "outputs": [],
   "source": []
  },
  {
   "cell_type": "code",
   "execution_count": null,
   "id": "0dc3c401-5c9d-4bec-8ae3-f725b3d127f4",
   "metadata": {},
   "outputs": [],
   "source": []
  },
  {
   "cell_type": "code",
   "execution_count": null,
   "id": "3a4ba04b-3c65-49a0-b552-2d70fa0d3b36",
   "metadata": {},
   "outputs": [],
   "source": []
  },
  {
   "cell_type": "code",
   "execution_count": null,
   "id": "d4ebab77-964d-4133-8429-a3b249340d7b",
   "metadata": {},
   "outputs": [],
   "source": []
  },
  {
   "cell_type": "code",
   "execution_count": null,
   "id": "9ae82ac9-3301-4972-bb45-c8c8ebb19eb1",
   "metadata": {},
   "outputs": [],
   "source": []
  },
  {
   "cell_type": "code",
   "execution_count": null,
   "id": "1f3afdb0-f786-438f-affe-66999cad8eed",
   "metadata": {},
   "outputs": [],
   "source": []
  },
  {
   "cell_type": "code",
   "execution_count": 2,
   "id": "f2dae646",
   "metadata": {},
   "outputs": [
    {
     "name": "stdout",
     "output_type": "stream",
     "text": [
      "Infant\n"
     ]
    }
   ],
   "source": [
    "'''IF Else'''\n",
    "\"check if the age is of infant\"\n",
    "\n",
    "# age less than or equal to 2 is infant\n",
    "\n",
    "age = 2\n",
    "\n",
    "if age <=2:\n",
    "    print(\"Infant\")\n",
    "else:\n",
    "    print(\"Not infant\")\n",
    "\n"
   ]
  },
  {
   "cell_type": "code",
   "execution_count": null,
   "id": "7792004a",
   "metadata": {},
   "outputs": [],
   "source": []
  },
  {
   "cell_type": "code",
   "execution_count": 7,
   "id": "5d2f3364",
   "metadata": {},
   "outputs": [
    {
     "name": "stdout",
     "output_type": "stream",
     "text": [
      "Old Persion\n"
     ]
    }
   ],
   "source": [
    "'''If Else'''\n",
    "age = 56\n",
    "'''\n",
    "inf <=2\n",
    "child<=12\n",
    "adult>12\n",
    "'''\n",
    "\n",
    "if age <=2:\n",
    "    print(\"INF\")\n",
    "elif age<=12:\n",
    "    print(\"child\")\n",
    "elif age<=55:\n",
    "    print(\"Adult\")\n",
    "else:\n",
    "    print(\"Old Persion\")\n",
    "    "
   ]
  },
  {
   "cell_type": "code",
   "execution_count": 10,
   "id": "be8e024c",
   "metadata": {},
   "outputs": [
    {
     "name": "stdout",
     "output_type": "stream",
     "text": [
      "pineapple Not Found\n"
     ]
    }
   ],
   "source": [
    "Stall_1 = 'pineapple'\n",
    "Stall_2 = 'pineapple'\n",
    "\n",
    "\n",
    "\n",
    "if Stall_1 == \"pineapple\":\n",
    "    print(\"go home with pineapple from Stall_1\")\n",
    "elif Stall_2 == \"pineapple\":\n",
    "    print(\"go home with pineapple from Stall_2\")\n",
    "\n",
    "else:\n",
    "    print(\"pineapple Not Found\")\n",
    "\n"
   ]
  },
  {
   "cell_type": "code",
   "execution_count": 16,
   "id": "75ea0f94",
   "metadata": {},
   "outputs": [
    {
     "name": "stdout",
     "output_type": "stream",
     "text": [
      "pineapple Not found\n"
     ]
    }
   ],
   "source": [
    "'''Nested If'''\n",
    "\n",
    "\n",
    "\n",
    "Stall_1 = 'Apple'\n",
    "Stall_1_clean = \"No\"\n",
    "price = 140\n",
    "\n",
    "\n",
    "if Stall_1 == \"Banana\": # False\n",
    "    if Stall_1_clean == \"Yes\" : #  False\n",
    "        if price <= 130: # False\n",
    "            print(\"Go home with pineapple : Stall_1\")\n",
    "        else:\n",
    "            print(\"pineapple are availalbe, stall clean but Price exceeds limit\")\n",
    "    else:\n",
    "        print(\"pineapple Found but Stall not clean\")\n",
    "else:\n",
    "    print(\"pineapple Not found\")\n",
    "\n"
   ]
  },
  {
   "cell_type": "code",
   "execution_count": 20,
   "id": "cc731476",
   "metadata": {},
   "outputs": [
    {
     "name": "stdout",
     "output_type": "stream",
     "text": [
      "Go home with pineapple : Stall_1\n"
     ]
    }
   ],
   "source": [
    "# all the value True\n",
    "Stall_1 = 'Banana'\n",
    "Stall_1_clean = \"Yes\"\n",
    "price = 100\n",
    "\n",
    "#         True                        True                   True\n",
    "if Stall_1 == \"Banana\" and Stall_1_clean == \"Yes\" and price <= 130:\n",
    "    print(\"Go home with pineapple : Stall_1\")\n",
    "else:\n",
    "    print(\"Codition Not Matched\")\n",
    "\n"
   ]
  },
  {
   "cell_type": "code",
   "execution_count": 24,
   "id": "f6d57f7c",
   "metadata": {},
   "outputs": [
    {
     "name": "stdout",
     "output_type": "stream",
     "text": [
      "Codition Not Matched\n"
     ]
    }
   ],
   "source": [
    "# bring any fruit from market\n",
    "\n",
    "Stall_1 = 'pineapple'\n",
    "Stall_1_clean = \"No\"\n",
    "price = 150\n",
    "\n",
    "#         False                 False                     False\n",
    "if Stall_1 == \"Banana\" or Stall_1_clean == \"Yes\" or price <= 130:\n",
    "    print(\"Go home with fruit : Stall_1\")\n",
    "else:\n",
    "    print(\"Codition Not Matched\")\n",
    "\n"
   ]
  },
  {
   "cell_type": "code",
   "execution_count": null,
   "id": "d2bb1bff",
   "metadata": {},
   "outputs": [],
   "source": []
  },
  {
   "cell_type": "markdown",
   "id": "bd3e0708-802b-4f86-b39e-81f45d0e2769",
   "metadata": {},
   "source": [
    "# HomeWORK"
   ]
  },
  {
   "cell_type": "code",
   "execution_count": null,
   "id": "8c8d42c0",
   "metadata": {},
   "outputs": [],
   "source": [
    "# bring pineapple if store clean\n",
    "\n",
    "Stall_1 = 'banana'\n",
    "Stall_1_clean = \"Yes\"\n",
    "\n",
    "Stall_2 = \"banana\"\n",
    "Stall_2_clean = \"Yes\"\n",
    "\n",
    "Stall_3 = \"apple\"\n",
    "Stall_3_clean = \"Yes\"\n",
    "\n",
    "if Stall_1 == \"pineapple\" and Stall_1_clean == \"Yes\": \n",
    "    print(\"Go home with pineapple from Stall_1\")\n",
    "elif Stall_2 == \"pineapple\" and Stall_2_clean == \"Yes\": \n",
    "    print(\"Go home with pineapple from Stall_2\")\n",
    "elif Stall_3 == \"pineapple\" and Stall_3_clean == \"Yes\": \n",
    "    print(\"Go home with pineapple from Stall_3\")\n",
    "else:\n",
    "    print(\"No stall found has pineapple\")\n"
   ]
  },
  {
   "cell_type": "code",
   "execution_count": null,
   "id": "c7063c27",
   "metadata": {},
   "outputs": [],
   "source": [
    "# Stall 1\n",
    "Stall_1 = 'banana'\n",
    "Stall_1_clean = \"NO\"\n",
    "price_1 = 150\n",
    "\n",
    "# Stall 2\n",
    "Stall_2 = 'banana'\n",
    "Stall_2_clean = \"NO\"\n",
    "price_2 = 130\n",
    "\n",
    "# Stall 3\n",
    "Stall_3 = 'banana'\n",
    "Stall_3_clean = \"Yes\"\n",
    "price_3 = 130\n",
    "\n",
    "if Stall_1 == \"pineapple\" and Stall_1_clean == \"Yes\" and price_1 <= 130:\n",
    "    print(\"Go home with pineapple from Stall_1\")\n",
    "elif Stall_2 == \"pineapple\" and Stall_2_clean == \"Yes\" and price_2 <= 130:\n",
    "    print(\"Go home with pineapple from Stall_2\")\n",
    "elif Stall_3 == \"pineapple\" and Stall_3_clean == \"Yes\" and price_3 <= 130:\n",
    "    print(\"Go home with pineapple from Stall_3\")\n",
    "\n",
    "else:\n",
    "    print(\"Pineapple not found or conditions not met for any stall\")\n",
    "\n"
   ]
  },
  {
   "cell_type": "code",
   "execution_count": null,
   "id": "c5b90382-eaa2-4389-b5e0-b3d45a7fb8d5",
   "metadata": {},
   "outputs": [],
   "source": [
    "Stall_1 = 'pineapple'\n",
    "Stall_2 = 'banana'\n",
    "Stall_3 = 'apple'\n",
    "\n",
    "if Stall_1 == \"pineapple\" or Stall_2 == \"pineapple\" or Stall_3 == \"pineapple\":\n",
    "    print(\"Go Home with pineapples\")\n",
    "else:\n",
    "    print(\"Pineapple not found\")\n"
   ]
  },
  {
   "cell_type": "code",
   "execution_count": null,
   "id": "210c4154-b7d5-438c-84dc-89e4cbff967c",
   "metadata": {},
   "outputs": [],
   "source": [
    "# While LOOP"
   ]
  },
  {
   "cell_type": "code",
   "execution_count": 12,
   "id": "9f066dde-84ee-43fb-bf0f-bc07c49a2de4",
   "metadata": {},
   "outputs": [
    {
     "name": "stdout",
     "output_type": "stream",
     "text": [
      "*\n",
      "*\n",
      "*\n",
      "*\n",
      "*\n",
      "*\n",
      "*\n",
      "*\n",
      "*\n",
      "*\n"
     ]
    }
   ],
   "source": [
    "print('*')\n",
    "print('*')\n",
    "print('*')\n",
    "print('*')\n",
    "print('*')\n",
    "print('*')\n",
    "print('*')\n",
    "print('*')\n",
    "print('*')\n",
    "print('*')\n"
   ]
  },
  {
   "cell_type": "code",
   "execution_count": 19,
   "id": "62261e29-6e94-476e-a6a8-31421e735e13",
   "metadata": {},
   "outputs": [
    {
     "name": "stdout",
     "output_type": "stream",
     "text": [
      "rajesh\n",
      "rajesh\n",
      "rajesh\n",
      "rajesh\n",
      "rajesh\n",
      "rajesh\n",
      "rajesh\n",
      "rajesh\n",
      "rajesh\n",
      "rajesh\n"
     ]
    }
   ],
   "source": [
    "START = 1\n",
    "END = 10\n",
    "while START <=END:\n",
    "    print('rajesh')\n",
    "    START=START+1\n",
    "    "
   ]
  },
  {
   "cell_type": "code",
   "execution_count": 25,
   "id": "16091398",
   "metadata": {},
   "outputs": [
    {
     "name": "stdout",
     "output_type": "stream",
     "text": [
      "0\n",
      "1\n",
      "2\n",
      "3\n",
      "4\n",
      "5\n",
      "6\n",
      "7\n",
      "8\n",
      "9\n",
      "10\n"
     ]
    }
   ],
   "source": [
    "i = 0\n",
    "\n",
    "while i<=10:\n",
    "    print(i)\n",
    "    i=i+1\n",
    "    "
   ]
  },
  {
   "cell_type": "code",
   "execution_count": null,
   "id": "26cbf47f-6bca-4bd0-8cd0-aef22a6b4568",
   "metadata": {},
   "outputs": [],
   "source": [
    "# For LOOP\n",
    "\n",
    "# range\n",
    "# sequence type, \n",
    "# list,tupple,string\n",
    "# mapping type (key, Value)\n",
    "# Dict\n",
    "# Set type\n",
    "# Set(unique,Unordered)\n"
   ]
  },
  {
   "cell_type": "code",
   "execution_count": 27,
   "id": "e9fe3c1a-dc40-41b5-b966-1948a01952be",
   "metadata": {},
   "outputs": [
    {
     "name": "stdout",
     "output_type": "stream",
     "text": [
      "1\n",
      "2\n",
      "3\n",
      "4\n",
      "5\n"
     ]
    }
   ],
   "source": [
    "setOne = {1,2,3,4,5}\n",
    "\n",
    "for i in tuppleOne:\n",
    "    print(i)\n",
    "    "
   ]
  },
  {
   "cell_type": "code",
   "execution_count": 28,
   "id": "1f51a7dc-cf3e-4ef7-bb45-562c19cdddc4",
   "metadata": {},
   "outputs": [
    {
     "name": "stdout",
     "output_type": "stream",
     "text": [
      "R\n",
      "a\n",
      "j\n",
      "e\n",
      "s\n",
      "h\n"
     ]
    }
   ],
   "source": [
    "\n",
    "name = \"Rajesh\"\n",
    "for i in name:\n",
    "    print(i)\n"
   ]
  },
  {
   "cell_type": "code",
   "execution_count": 30,
   "id": "05142729-317e-4178-94ff-1e6c195f26a5",
   "metadata": {},
   "outputs": [
    {
     "name": "stdout",
     "output_type": "stream",
     "text": [
      "('name', 'RAJESH')\n",
      "('AGE', 32)\n"
     ]
    }
   ],
   "source": [
    "newDict = {'name':\"RAJESH\",\"AGE\":32}\n",
    "\n",
    "for i in newDict.items():\n",
    "    print(i)\n",
    "    "
   ]
  },
  {
   "cell_type": "code",
   "execution_count": 24,
   "id": "59a188fb-ae7f-417f-a330-579cd3ba7e01",
   "metadata": {},
   "outputs": [
    {
     "name": "stdout",
     "output_type": "stream",
     "text": [
      "2\n",
      "5\n",
      "8\n"
     ]
    }
   ],
   "source": [
    "for i in range(2,10,3):\n",
    "    print(i)\n",
    "\n"
   ]
  },
  {
   "cell_type": "code",
   "execution_count": 28,
   "id": "6c15a313-55fe-4e15-8665-29611ae63593",
   "metadata": {},
   "outputs": [
    {
     "name": "stdout",
     "output_type": "stream",
     "text": [
      "0\n",
      "3\n",
      "6\n",
      "9\n"
     ]
    }
   ],
   "source": [
    "for i in range(0,10,3):\n",
    "    print(i)\n"
   ]
  },
  {
   "cell_type": "code",
   "execution_count": 29,
   "id": "be6f9075",
   "metadata": {},
   "outputs": [
    {
     "name": "stdout",
     "output_type": "stream",
     "text": [
      "apple\n",
      "banana\n",
      "cherry\n",
      "kiwi\n"
     ]
    }
   ],
   "source": [
    "'''For Loops'''\n",
    "fruits = [\"apple\", \"banana\", \"cherry\",\"kiwi\"]\n",
    "\n",
    "for i in fruits:\n",
    "    print(i)\n"
   ]
  },
  {
   "cell_type": "code",
   "execution_count": 30,
   "id": "b8b093bf-777b-44ca-bdef-36f4a4d26d0f",
   "metadata": {},
   "outputs": [
    {
     "name": "stdout",
     "output_type": "stream",
     "text": [
      "1\n",
      "2\n",
      "3\n",
      "4\n",
      "5\n",
      "6\n",
      "7\n",
      "8\n"
     ]
    }
   ],
   "source": [
    "numbers1 = [1,2,3,4,5,6,7,8]\n",
    "\n",
    "for i in numbers1:\n",
    "    print(i)\n",
    "    "
   ]
  },
  {
   "cell_type": "code",
   "execution_count": 31,
   "id": "45f017dc-d31e-4194-9120-232527212147",
   "metadata": {},
   "outputs": [
    {
     "name": "stdout",
     "output_type": "stream",
     "text": [
      "apple\n",
      "banana\n",
      "cherry\n",
      "kiwi\n"
     ]
    }
   ],
   "source": [
    "fruits = (\"apple\", \"banana\", \"cherry\",\"kiwi\")\n",
    "for i in fruits:\n",
    "    print(i)\n",
    "    "
   ]
  },
  {
   "cell_type": "code",
   "execution_count": 40,
   "id": "2240d1d8-fe85-481e-85f2-a1dcf47e1529",
   "metadata": {},
   "outputs": [
    {
     "name": "stdout",
     "output_type": "stream",
     "text": [
      "Name\n",
      "Age\n",
      "City\n"
     ]
    }
   ],
   "source": [
    "# Dict\n",
    "newDict = {'Name':\"Rajesh\",\"Age\":\"32\",\"City\":\"Mumbai\"}\n",
    "# keys()\n",
    "# values()\n",
    "# itmes()\n",
    "\n",
    "for i in newDict.keys():\n",
    "    print(i)\n"
   ]
  },
  {
   "cell_type": "code",
   "execution_count": 33,
   "id": "6b9d0904",
   "metadata": {},
   "outputs": [
    {
     "name": "stdout",
     "output_type": "stream",
     "text": [
      "1\n",
      "2\n",
      "3\n",
      "4\n"
     ]
    }
   ],
   "source": [
    "range1 = range(1,5)\n",
    "for x in range1:\n",
    "  print(x)"
   ]
  },
  {
   "cell_type": "code",
   "execution_count": 34,
   "id": "8870eb9e",
   "metadata": {},
   "outputs": [
    {
     "name": "stdout",
     "output_type": "stream",
     "text": [
      "R\n",
      "a\n",
      "j\n",
      "e\n",
      "s\n",
      "h\n"
     ]
    }
   ],
   "source": [
    "for i in \"Rajesh\":\n",
    "    print(i)\n",
    "    "
   ]
  },
  {
   "cell_type": "markdown",
   "id": "5c1f36b3-334d-461b-ac84-1d505e3ddfbf",
   "metadata": {},
   "source": [
    "# Nested Loop"
   ]
  },
  {
   "cell_type": "code",
   "execution_count": null,
   "id": "b185c797-72fb-4332-9e6a-9447299124ed",
   "metadata": {},
   "outputs": [],
   "source": [
    "# loop inside loop\n",
    "# Basic understanding of Nested Loop"
   ]
  },
  {
   "cell_type": "code",
   "execution_count": 42,
   "id": "78080543",
   "metadata": {},
   "outputs": [
    {
     "name": "stdout",
     "output_type": "stream",
     "text": [
      "Red Apple\n",
      "Red Banana\n",
      "Red Grapes\n",
      "Yellow Apple\n",
      "Yellow Banana\n",
      "Yellow Grapes\n",
      "LightGreen Apple\n",
      "LightGreen Banana\n",
      "LightGreen Grapes\n"
     ]
    }
   ],
   "source": [
    "'''Nested Loop'''\n",
    "\n",
    "adj = [\"Red\", \"Yellow\", \"LightGreen\"]\n",
    "fruits = [\"Apple\", \"Banana\", \"Grapes\"]\n",
    "\n",
    "for i in adj:\n",
    "    for j in fruits:\n",
    "        print(i,j)\n",
    "\n"
   ]
  },
  {
   "cell_type": "code",
   "execution_count": 44,
   "id": "3ca4e840-5166-4ee2-b97f-e3e8d5dc271d",
   "metadata": {},
   "outputs": [
    {
     "name": "stdout",
     "output_type": "stream",
     "text": [
      "3 3\n",
      "2 2\n",
      "1 1\n"
     ]
    }
   ],
   "source": [
    "# Match the values\n",
    "firstList = [3, 2, 1]\n",
    "secondList = [1, 2, 3]\n",
    "third List = [1,2,3]\n",
    "    for j in secondList:\n",
    "        if i==j:\n",
    "            print(i,j)\n"
   ]
  },
  {
   "cell_type": "code",
   "execution_count": 45,
   "id": "2c8b6a99-e2e7-4db4-a63f-68601333b4d4",
   "metadata": {},
   "outputs": [],
   "source": [
    "# HomeWork"
   ]
  },
  {
   "cell_type": "code",
   "execution_count": null,
   "id": "c90ec207-2661-43ed-913d-aa52539f8821",
   "metadata": {},
   "outputs": [],
   "source": [
    "# match the values\n",
    "firstList = [3, 2, 1]\n",
    "secondList = [1, 2, 3]\n",
    "third List = [1,2,3]\n",
    "\n",
    "for i in firstList:\n",
    "    for j in secondList:\n",
    "        if i==j:\n",
    "            print(i,j)\n"
   ]
  },
  {
   "cell_type": "code",
   "execution_count": 46,
   "id": "746c4755",
   "metadata": {},
   "outputs": [
    {
     "name": "stdout",
     "output_type": "stream",
     "text": [
      "3 1  Not Match\n",
      "3 2  Not Match\n",
      "3 3  Match\n",
      "2 1  Not Match\n",
      "2 2  Match\n",
      "2 3  Not Match\n",
      "1 1  Match\n",
      "1 2  Not Match\n",
      "1 3  Not Match\n"
     ]
    }
   ],
   "source": [
    "# Print only matching Values\n",
    "\n",
    "firstList = [3, 2, 1]\n",
    "secondList = [1, 2, 3]\n",
    "\n",
    "for i in firstList:\n",
    "    for j in secondList:\n",
    "        if i == j:\n",
    "            print(i,j,\" Match\")\n",
    "        else:\n",
    "            print(i,j,\" Not Match\")\n",
    "            "
   ]
  },
  {
   "cell_type": "code",
   "execution_count": null,
   "id": "970638ba",
   "metadata": {},
   "outputs": [],
   "source": [
    "# Nested Loop"
   ]
  },
  {
   "cell_type": "code",
   "execution_count": null,
   "id": "823a6f45",
   "metadata": {},
   "outputs": [],
   "source": [
    "\n",
    "'''print below pattern'''\n",
    "'''\n",
    "1 2 3 4 5 6 \n",
    "1 2 3 4 5 6 \n",
    "1 2 3 4 5 6 \n",
    "1 2 3 4 5 6 \n",
    "1 2 3 4 5 6 \n",
    "1 2 3 4 5 6    \n",
    "'''"
   ]
  },
  {
   "cell_type": "code",
   "execution_count": 56,
   "id": "b43fe5e4-e02f-41b7-a022-3b8c0a560ee5",
   "metadata": {},
   "outputs": [
    {
     "name": "stdout",
     "output_type": "stream",
     "text": [
      "1 2 3 4 5 6 \n",
      "1 2 3 4 5 6 \n",
      "1 2 3 4 5 6 \n",
      "1 2 3 4 5 6 \n",
      "1 2 3 4 5 6 \n",
      "1 2 3 4 5 6 \n"
     ]
    }
   ],
   "source": [
    "for j in range(1,7):\n",
    "    for i in range(1,7):\n",
    "        print(i,end=\" \")\n",
    "    print()\n"
   ]
  },
  {
   "cell_type": "code",
   "execution_count": null,
   "id": "b79e71fb-e34e-4d4c-80bd-12f6bb3a5a91",
   "metadata": {},
   "outputs": [],
   "source": []
  },
  {
   "cell_type": "code",
   "execution_count": null,
   "id": "1f7329b6-e545-40ea-88b3-1ff1eafc18e5",
   "metadata": {},
   "outputs": [],
   "source": []
  },
  {
   "cell_type": "code",
   "execution_count": null,
   "id": "b5100db6-82ca-4ba7-af5e-be75e5926547",
   "metadata": {},
   "outputs": [],
   "source": []
  },
  {
   "cell_type": "code",
   "execution_count": null,
   "id": "8a8d5e4b-37f1-4b45-83e5-6998a58914e3",
   "metadata": {},
   "outputs": [],
   "source": []
  },
  {
   "cell_type": "code",
   "execution_count": 57,
   "id": "caa8d103-b0fc-4ab5-bfa1-378687c154d5",
   "metadata": {},
   "outputs": [
    {
     "name": "stdout",
     "output_type": "stream",
     "text": [
      "1 2 3 4 5 6 \n",
      "1 2 3 4 5 6 \n",
      "1 2 3 4 5 6 \n",
      "1 2 3 4 5 6 \n",
      "1 2 3 4 5 6 \n",
      "1 2 3 4 5 6 \n"
     ]
    }
   ],
   "source": [
    "for j in range(1,7):\n",
    "    for i in range(1,7):\n",
    "        print(i,end=\" \")\n",
    "    print()\n",
    "\n"
   ]
  },
  {
   "cell_type": "code",
   "execution_count": 58,
   "id": "1eb6b164",
   "metadata": {},
   "outputs": [
    {
     "name": "stdout",
     "output_type": "stream",
     "text": [
      "1 2 3 4 5 6 \n",
      "1 2 3 4 5 6 \n",
      "1 2 3 4 5 6 \n",
      "1 2 3 4 5 6 \n",
      "1 2 3 4 5 6 \n",
      "1 2 3 4 5 6 \n"
     ]
    }
   ],
   "source": [
    "for i in range(1,7):\n",
    "    for j in range(1,7):\n",
    "        print(j,end=\" \")\n",
    "    print()\n",
    "    \n"
   ]
  },
  {
   "cell_type": "code",
   "execution_count": null,
   "id": "c27aa0e8-f999-4fa3-a021-b07d00c5292f",
   "metadata": {},
   "outputs": [],
   "source": [
    "\n",
    "'''print below pattern'''\n",
    "'''\n",
    "$ $ $ $ $ $ \n",
    "$ $ $ $ $ $ \n",
    "$ $ $ $ $ $  \n",
    "$ $ $ $ $ $ \n",
    "$ $ $ $ $ $ \n",
    "$ $ $ $ $ $ \n",
    "'''"
   ]
  },
  {
   "cell_type": "code",
   "execution_count": 62,
   "id": "b78eb45b-71d6-4039-9597-775e633341de",
   "metadata": {},
   "outputs": [
    {
     "name": "stdout",
     "output_type": "stream",
     "text": [
      "= = = = = = \n",
      "= = = = = = \n",
      "= = = = = = \n",
      "= = = = = = \n",
      "= = = = = = \n",
      "= = = = = = \n"
     ]
    }
   ],
   "source": [
    "for i in range(1,7):\n",
    "    for j in range(1,7):\n",
    "        print(\"=\",end=\" \")\n",
    "    print()\n",
    "\n"
   ]
  },
  {
   "cell_type": "code",
   "execution_count": null,
   "id": "855cc710",
   "metadata": {},
   "outputs": [],
   "source": [
    "for i in range(1,7):\n",
    "    for j in range(1,7):\n",
    "        print(\"*\",end=\" \")\n",
    "    print()\n"
   ]
  },
  {
   "cell_type": "code",
   "execution_count": null,
   "id": "2abf43f9",
   "metadata": {},
   "outputs": [],
   "source": [
    "'''\n",
    "* * * * * * \n",
    "* * * * * * \n",
    "* * * * * * \n",
    "* * * * * * \n",
    "* * * * * * \n",
    "* * * * * *    '''"
   ]
  },
  {
   "cell_type": "code",
   "execution_count": 63,
   "id": "658777be",
   "metadata": {},
   "outputs": [
    {
     "name": "stdout",
     "output_type": "stream",
     "text": [
      "* * * * * * \n",
      "* * * * * * \n",
      "* * * * * * \n",
      "* * * * * * \n",
      "* * * * * * \n",
      "* * * * * * \n"
     ]
    }
   ],
   "source": [
    "for i in range(1,7):\n",
    "    for j in range(1,7):\n",
    "        print(\"*\",end=\" \")\n",
    "    print()\n",
    "    "
   ]
  },
  {
   "cell_type": "code",
   "execution_count": 64,
   "id": "db005bc7",
   "metadata": {},
   "outputs": [
    {
     "name": "stdout",
     "output_type": "stream",
     "text": [
      "* * * * * * \n",
      "* * * * * * \n",
      "* * * * * * \n",
      "* * * * * * \n",
      "* * * * * * \n",
      "* * * * * * \n"
     ]
    }
   ],
   "source": [
    "for i in range(1,7):\n",
    "    for j in range(1,7):\n",
    "        print(\"*\",end=\" \")\n",
    "    print()\n",
    "    "
   ]
  },
  {
   "cell_type": "code",
   "execution_count": null,
   "id": "f8388941",
   "metadata": {},
   "outputs": [],
   "source": [
    "\n",
    "\n",
    "'''\n",
    "* \n",
    "* * \n",
    "* * * \n",
    "* * * * \n",
    "* * * * *    \n",
    "'''\n",
    "\n"
   ]
  },
  {
   "cell_type": "code",
   "execution_count": 68,
   "id": "565f2ce7-9325-4e06-8001-116c537ae294",
   "metadata": {},
   "outputs": [
    {
     "name": "stdout",
     "output_type": "stream",
     "text": [
      "* \n",
      "* * \n",
      "* * * \n",
      "* * * * \n",
      "* * * * * \n"
     ]
    }
   ],
   "source": [
    "for i in range(1,2):\n",
    "    print(\"*\",end=\" \")\n",
    "print()\n",
    "for i in range(1,3):\n",
    "    print(\"*\",end=\" \")\n",
    "print()\n",
    "for i in range(1,4):\n",
    "    print(\"*\",end=\" \")\n",
    "print()\n",
    "for i in range(1,5):\n",
    "    print(\"*\",end=\" \")\n",
    "print()\n",
    "for i in range(1,6):\n",
    "    print(\"*\",end=\" \")\n",
    "print()\n"
   ]
  },
  {
   "cell_type": "code",
   "execution_count": 76,
   "id": "40d596b8-704a-41e5-b5b9-be09b3056a66",
   "metadata": {},
   "outputs": [
    {
     "name": "stdout",
     "output_type": "stream",
     "text": [
      "\n",
      "* \n",
      "* * \n",
      "* * * \n",
      "* * * * \n",
      "* * * * * \n"
     ]
    }
   ],
   "source": [
    "for j in range(1,7):\n",
    "    for i in range(1,j):\n",
    "        print(\"*\",end=\" \")\n",
    "    print()\n"
   ]
  },
  {
   "cell_type": "code",
   "execution_count": null,
   "id": "f93ad808-4c4b-4cd9-ace8-5f3607737472",
   "metadata": {},
   "outputs": [],
   "source": []
  },
  {
   "cell_type": "code",
   "execution_count": null,
   "id": "415019f8",
   "metadata": {},
   "outputs": [],
   "source": [
    "'''Nested Loop'''\n",
    "for i in range(1,7):\n",
    "    for j in range(1,i):\n",
    "        print(\"*\",end=\" \")\n",
    "    print()"
   ]
  },
  {
   "cell_type": "code",
   "execution_count": null,
   "id": "b9cffe41",
   "metadata": {},
   "outputs": [],
   "source": []
  },
  {
   "cell_type": "code",
   "execution_count": null,
   "id": "07a2aeda",
   "metadata": {},
   "outputs": [],
   "source": [
    "for i in range(1,7):\n",
    "    for j in range(1,i):\n",
    "        print(\"*\",end=\" \")\n",
    "    print()"
   ]
  },
  {
   "cell_type": "code",
   "execution_count": null,
   "id": "2af2cfbf",
   "metadata": {},
   "outputs": [],
   "source": []
  },
  {
   "cell_type": "code",
   "execution_count": null,
   "id": "1287796a",
   "metadata": {},
   "outputs": [],
   "source": [
    "'''\n",
    "* * * * * * * * * \n",
    "* * * * * * * * \n",
    "* * * * * * * \n",
    "* * * * * * \n",
    "* * * * * \n",
    "* * * * \n",
    "* * * \n",
    "* * \n",
    "* '''"
   ]
  },
  {
   "cell_type": "code",
   "execution_count": 79,
   "id": "975069fe-a894-4d80-ad7b-e55b0ec9b670",
   "metadata": {},
   "outputs": [
    {
     "name": "stdout",
     "output_type": "stream",
     "text": [
      "* * * * * * \n",
      "* * * * * \n",
      "* * * * \n",
      "* * * \n",
      "* * \n",
      "* "
     ]
    }
   ],
   "source": [
    "\n",
    "for j in range(1,7): \n",
    "    print(\"*\",end=\" \")\n",
    "print()\n",
    "for j in range(2,7):\n",
    "    print(\"*\",end=\" \")\n",
    "print()\n",
    "for j in range(3,7): \n",
    "    print(\"*\",end=\" \")\n",
    "print()\n",
    "for j in range(4,7):\n",
    "    print(\"*\",end=\" \")\n",
    "print()\n",
    "for j in range(5,7):\n",
    "    print(\"*\",end=\" \")\n",
    "print()\n",
    "for j in range(6,7):\n",
    "    print(\"*\",end=\" \")\n",
    "\n",
    "\n",
    "\n"
   ]
  },
  {
   "cell_type": "code",
   "execution_count": 85,
   "id": "20c49185-a941-4974-bd2b-9081edaa50f9",
   "metadata": {},
   "outputs": [
    {
     "name": "stdout",
     "output_type": "stream",
     "text": [
      "* * * * * * \n",
      "* * * * * \n",
      "* * * * \n",
      "* * * \n",
      "* * \n",
      "* \n"
     ]
    }
   ],
   "source": [
    "for i in range(1,7):\n",
    "    for j in range(i,7):\n",
    "        print(\"*\",end=\" \")\n",
    "    print()\n",
    "\n"
   ]
  },
  {
   "cell_type": "code",
   "execution_count": 86,
   "id": "e8cb4698-5970-457e-81cf-a54d6074740f",
   "metadata": {},
   "outputs": [
    {
     "name": "stdout",
     "output_type": "stream",
     "text": [
      "* * * * * * \n",
      "* * * * * \n",
      "* * * * \n",
      "* * * \n",
      "* * \n",
      "* \n"
     ]
    }
   ],
   "source": [
    "for i in range(1,7):\n",
    "    for j in range(i,7): \n",
    "        print(\"*\",end=\" \")\n",
    "    print()\n",
    "    "
   ]
  },
  {
   "cell_type": "code",
   "execution_count": null,
   "id": "7c8629dc",
   "metadata": {},
   "outputs": [],
   "source": [
    "for i in range(1,7):\n",
    "    for j in range(i,7):\n",
    "        print(\"*\",end=\" \")\n",
    "    print()"
   ]
  },
  {
   "cell_type": "code",
   "execution_count": null,
   "id": "0d08eaf2",
   "metadata": {},
   "outputs": [],
   "source": []
  },
  {
   "cell_type": "code",
   "execution_count": null,
   "id": "3200ca31",
   "metadata": {},
   "outputs": [],
   "source": [
    "\n",
    "for i in range(1,7):\n",
    "    k = 7-i\n",
    "    for j in range(1,k):\n",
    "        print(\"*\",end=\" \")\n",
    "    print()\n",
    "\n"
   ]
  },
  {
   "cell_type": "code",
   "execution_count": 87,
   "id": "e41d523c",
   "metadata": {},
   "outputs": [
    {
     "name": "stdout",
     "output_type": "stream",
     "text": [
      "0\n",
      "1\n",
      "2\n"
     ]
    }
   ],
   "source": [
    "'''break Statement'''\n",
    "''' break statement immediately terminates the loop'''\n",
    "\n",
    "for i in range(6):\n",
    "    if i==3:\n",
    "        break\n",
    "    \n",
    "    print(i)\n",
    "    "
   ]
  },
  {
   "cell_type": "code",
   "execution_count": 88,
   "id": "cc1ec963",
   "metadata": {},
   "outputs": [
    {
     "name": "stdout",
     "output_type": "stream",
     "text": [
      "0\n",
      "1\n",
      "2\n",
      "4\n",
      "5\n"
     ]
    }
   ],
   "source": [
    "'''Continue'''\n",
    "'''continue statement skips and jump to the rest iteration of the loop '''\n",
    "\n",
    "for i in range(6):\n",
    "    if i == 3:\n",
    "        continue\n",
    "    print(i)\n",
    "\n"
   ]
  },
  {
   "cell_type": "code",
   "execution_count": null,
   "id": "304eb1cc",
   "metadata": {},
   "outputs": [],
   "source": []
  },
  {
   "cell_type": "code",
   "execution_count": null,
   "id": "de1edcb6",
   "metadata": {},
   "outputs": [],
   "source": []
  },
  {
   "cell_type": "code",
   "execution_count": null,
   "id": "e858d99a",
   "metadata": {},
   "outputs": [],
   "source": []
  },
  {
   "cell_type": "code",
   "execution_count": null,
   "id": "9e88b08d",
   "metadata": {},
   "outputs": [],
   "source": []
  },
  {
   "cell_type": "code",
   "execution_count": null,
   "id": "07f1c64c",
   "metadata": {},
   "outputs": [],
   "source": []
  }
 ],
 "metadata": {
  "kernelspec": {
   "display_name": "Python 3 (ipykernel)",
   "language": "python",
   "name": "python3"
  },
  "language_info": {
   "codemirror_mode": {
    "name": "ipython",
    "version": 3
   },
   "file_extension": ".py",
   "mimetype": "text/x-python",
   "name": "python",
   "nbconvert_exporter": "python",
   "pygments_lexer": "ipython3",
   "version": "3.11.7"
  }
 },
 "nbformat": 4,
 "nbformat_minor": 5
}
