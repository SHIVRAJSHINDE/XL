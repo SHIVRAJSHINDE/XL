{
  "nbformat": 4,
  "nbformat_minor": 0,
  "metadata": {
    "colab": {
      "provenance": []
    },
    "kernelspec": {
      "name": "python3",
      "display_name": "Python 3"
    },
    "language_info": {
      "name": "python"
    }
  },
  "cells": [
    {
      "cell_type": "code",
      "execution_count": null,
      "metadata": {
        "colab": {
          "base_uri": "https://localhost:8080/"
        },
        "id": "jdcrCYNuV2YE",
        "outputId": "7b422bec-143f-42cb-8f42-02129612b11b"
      },
      "outputs": [
        {
          "output_type": "stream",
          "name": "stdout",
          "text": [
            "Collecting pyspark\n",
            "  Downloading pyspark-3.5.1.tar.gz (317.0 MB)\n",
            "\u001b[2K     \u001b[90m━━━━━━━━━━━━━━━━━━━━━━━━━━━━━━━━━━━━━━━━\u001b[0m \u001b[32m317.0/317.0 MB\u001b[0m \u001b[31m2.0 MB/s\u001b[0m eta \u001b[36m0:00:00\u001b[0m\n",
            "\u001b[?25h  Preparing metadata (setup.py) ... \u001b[?25l\u001b[?25hdone\n",
            "Requirement already satisfied: py4j in /usr/local/lib/python3.10/dist-packages (0.10.9.7)\n",
            "Building wheels for collected packages: pyspark\n",
            "  Building wheel for pyspark (setup.py) ... \u001b[?25l\u001b[?25hdone\n",
            "  Created wheel for pyspark: filename=pyspark-3.5.1-py2.py3-none-any.whl size=317488491 sha256=a0e51e27a75529b7e4caf7df588c59f12278d33774d13d16ae605583e6754534\n",
            "  Stored in directory: /root/.cache/pip/wheels/80/1d/60/2c256ed38dddce2fdd93be545214a63e02fbd8d74fb0b7f3a6\n",
            "Successfully built pyspark\n",
            "Installing collected packages: pyspark\n",
            "Successfully installed pyspark-3.5.1\n"
          ]
        }
      ],
      "source": [
        "!pip install pyspark py4j"
      ]
    },
    {
      "cell_type": "code",
      "source": [],
      "metadata": {
        "id": "AfjvGCA3YTS4"
      },
      "execution_count": null,
      "outputs": []
    },
    {
      "cell_type": "code",
      "source": [
        "from pyspark.sql import SparkSession"
      ],
      "metadata": {
        "id": "hzcz-hFhYTd3"
      },
      "execution_count": null,
      "outputs": []
    },
    {
      "cell_type": "code",
      "source": [
        "spark = SparkSession.builder.appName(\"Pracice\").getOrCreate()\n"
      ],
      "metadata": {
        "id": "rNj4lxNcYTgh"
      },
      "execution_count": null,
      "outputs": []
    },
    {
      "cell_type": "code",
      "source": [
        "\n",
        "from pyspark.sql import SparkSession\n",
        "\n",
        "filePath = \"/content/sample_data/file.csv\"\n",
        "\n",
        "\n",
        "df = spark.read.csv(filePath, header=True, inferSchema=True)\n",
        "\n",
        "\n",
        "\n",
        "print(df)\n"
      ],
      "metadata": {
        "id": "RM4Y0e75hCoa",
        "colab": {
          "base_uri": "https://localhost:8080/"
        },
        "outputId": "faa86c53-7ce5-4644-bdf1-7caa3f37e750"
      },
      "execution_count": null,
      "outputs": [
        {
          "output_type": "stream",
          "name": "stdout",
          "text": [
            "DataFrame[Airline: string, Date_of_Journey: string, Dep_Time: timestamp, Arrival_Time: timestamp, Dept_Hour: int, Dept_Minute: int, Arrival_Hour: int, Arrival_Minute: int]\n"
          ]
        }
      ]
    },
    {
      "cell_type": "code",
      "source": [
        "\n",
        "df.show()"
      ],
      "metadata": {
        "colab": {
          "base_uri": "https://localhost:8080/"
        },
        "id": "bvwJhK1dhCrf",
        "outputId": "98e4063a-d5ce-47fe-8154-9c9fec06b09e"
      },
      "execution_count": null,
      "outputs": [
        {
          "output_type": "stream",
          "name": "stdout",
          "text": [
            "+-----------------+---------------+-------------------+-------------------+---------+-----------+------------+--------------+\n",
            "|          Airline|Date_of_Journey|           Dep_Time|       Arrival_Time|Dept_Hour|Dept_Minute|Arrival_Hour|Arrival_Minute|\n",
            "+-----------------+---------------+-------------------+-------------------+---------+-----------+------------+--------------+\n",
            "|           IndiGo|     24-03-2019|2024-03-31 22:20:00|2024-03-31 01:10:00|       10|         20|           1|            10|\n",
            "|        Air India|     01-05-2019|2024-03-31 05:50:00|2024-03-31 13:15:00|     NULL|         50|          13|            15|\n",
            "|      Jet Airways|     09-06-2019|2024-03-31 09:25:00|2024-03-31 04:25:00|     NULL|         25|           4|            25|\n",
            "|           IndiGo|     12-05-2019|2024-03-31 18:05:00|2024-03-31 23:30:00|     NULL|          5|          23|            30|\n",
            "|           IndiGo|     01-03-2019|2024-03-31 16:50:00|2024-03-31 21:35:00|       16|         50|          21|            35|\n",
            "|         SpiceJet|     24-06-2019|2024-03-31 09:00:00|2024-03-31 11:25:00|        9|          0|          11|            25|\n",
            "|      Jet Airways|     12-03-2019|2024-03-31 10:25:00|2024-03-31 18:55:00|       10|         25|          18|            55|\n",
            "|      Jet Airways|     01-03-2019|2024-03-31 05:05:00|2024-03-31 08:00:00|        5|          5|           8|             0|\n",
            "|         SpiceJet|     24-06-2019|2024-03-31 09:00:00|2024-03-31 11:25:00|        9|          0|          11|            25|\n",
            "|      Jet Airways|     12-03-2019|2024-03-31 10:25:00|2024-03-31 18:55:00|       10|         25|          18|            55|\n",
            "|      Jet Airways|     01-03-2019|2024-03-31 05:05:00|2024-03-31 08:00:00|        5|          5|           8|             0|\n",
            "|      Jet Airways|     12-03-2019|2024-03-31 08:55:00|2024-03-31 10:25:00|        8|         55|          10|            25|\n",
            "|Multiple carriers|     27-05-2019|2024-03-31 11:25:00|2024-03-31 19:15:00|       11|         25|          19|            15|\n",
            "|      Jet Airways|     12-03-2019|2024-03-31 10:25:00|2024-03-31 18:55:00|       10|         25|          18|            55|\n",
            "|      Jet Airways|     01-03-2019|2024-03-31 05:05:00|2024-03-31 08:00:00|        5|          5|           8|             0|\n",
            "|      Jet Airways|     12-03-2019|2024-03-31 08:55:00|2024-03-31 10:25:00|        8|         55|          10|            25|\n",
            "|Multiple carriers|     27-05-2019|2024-03-31 11:25:00|2024-03-31 19:15:00|       11|         25|          19|            15|\n",
            "+-----------------+---------------+-------------------+-------------------+---------+-----------+------------+--------------+\n",
            "\n"
          ]
        }
      ]
    },
    {
      "cell_type": "code",
      "source": [
        "# Show the first few rows of the DataFrame\n",
        "df.head(5)\n"
      ],
      "metadata": {
        "colab": {
          "base_uri": "https://localhost:8080/"
        },
        "id": "h9UKTC5zhCuY",
        "outputId": "47ef59be-f1f0-4901-e527-b15ee515dcec"
      },
      "execution_count": null,
      "outputs": [
        {
          "output_type": "execute_result",
          "data": {
            "text/plain": [
              "[Row(Airline='IndiGo', Date_of_Journey='24-03-2019', Dep_Time=datetime.datetime(2024, 3, 31, 22, 20), Arrival_Time=datetime.datetime(2024, 3, 31, 1, 10), Dept_Hour=10, Dept_Minute=20, Arrival_Hour=1, Arrival_Minute=10),\n",
              " Row(Airline='Air India', Date_of_Journey='01-05-2019', Dep_Time=datetime.datetime(2024, 3, 31, 5, 50), Arrival_Time=datetime.datetime(2024, 3, 31, 13, 15), Dept_Hour=None, Dept_Minute=50, Arrival_Hour=13, Arrival_Minute=15),\n",
              " Row(Airline='Jet Airways', Date_of_Journey='09-06-2019', Dep_Time=datetime.datetime(2024, 3, 31, 9, 25), Arrival_Time=datetime.datetime(2024, 3, 31, 4, 25), Dept_Hour=None, Dept_Minute=25, Arrival_Hour=4, Arrival_Minute=25),\n",
              " Row(Airline='IndiGo', Date_of_Journey='12-05-2019', Dep_Time=datetime.datetime(2024, 3, 31, 18, 5), Arrival_Time=datetime.datetime(2024, 3, 31, 23, 30), Dept_Hour=None, Dept_Minute=5, Arrival_Hour=23, Arrival_Minute=30),\n",
              " Row(Airline='IndiGo', Date_of_Journey='01-03-2019', Dep_Time=datetime.datetime(2024, 3, 31, 16, 50), Arrival_Time=datetime.datetime(2024, 3, 31, 21, 35), Dept_Hour=16, Dept_Minute=50, Arrival_Hour=21, Arrival_Minute=35)]"
            ]
          },
          "metadata": {},
          "execution_count": 10
        }
      ]
    },
    {
      "cell_type": "code",
      "source": [
        "df.tail(4)\n"
      ],
      "metadata": {
        "colab": {
          "base_uri": "https://localhost:8080/"
        },
        "id": "XN9Tu0g4hCxB",
        "outputId": "657ca7a4-736a-44f7-db18-756a4ce8f8f1"
      },
      "execution_count": null,
      "outputs": [
        {
          "output_type": "execute_result",
          "data": {
            "text/plain": [
              "[Row(Airline='Jet Airways', Date_of_Journey='12-03-2019', Dep_Time=datetime.datetime(2024, 3, 31, 10, 25), Arrival_Time=datetime.datetime(2024, 3, 31, 18, 55), Dept_Hour=10, Dept_Minute=25, Arrival_Hour=18, Arrival_Minute=55),\n",
              " Row(Airline='Jet Airways', Date_of_Journey='01-03-2019', Dep_Time=datetime.datetime(2024, 3, 31, 5, 5), Arrival_Time=datetime.datetime(2024, 3, 31, 8, 0), Dept_Hour=5, Dept_Minute=5, Arrival_Hour=8, Arrival_Minute=0),\n",
              " Row(Airline='Jet Airways', Date_of_Journey='12-03-2019', Dep_Time=datetime.datetime(2024, 3, 31, 8, 55), Arrival_Time=datetime.datetime(2024, 3, 31, 10, 25), Dept_Hour=8, Dept_Minute=55, Arrival_Hour=10, Arrival_Minute=25),\n",
              " Row(Airline='Multiple carriers', Date_of_Journey='27-05-2019', Dep_Time=datetime.datetime(2024, 3, 31, 11, 25), Arrival_Time=datetime.datetime(2024, 3, 31, 19, 15), Dept_Hour=11, Dept_Minute=25, Arrival_Hour=19, Arrival_Minute=15)]"
            ]
          },
          "metadata": {},
          "execution_count": 12
        }
      ]
    },
    {
      "cell_type": "code",
      "source": [
        "df.printSchema()"
      ],
      "metadata": {
        "colab": {
          "base_uri": "https://localhost:8080/"
        },
        "id": "AFXA6PnGASf6",
        "outputId": "d14a7534-8bf6-4df3-ba82-3516ed6ee779"
      },
      "execution_count": null,
      "outputs": [
        {
          "output_type": "stream",
          "name": "stdout",
          "text": [
            "root\n",
            " |-- Airline: string (nullable = true)\n",
            " |-- Date_of_Journey: string (nullable = true)\n",
            " |-- Dep_Time: timestamp (nullable = true)\n",
            " |-- Arrival_Time: timestamp (nullable = true)\n",
            " |-- Dept_Hour: integer (nullable = true)\n",
            " |-- Dept_Minute: integer (nullable = true)\n",
            " |-- Arrival_Hour: integer (nullable = true)\n",
            " |-- Arrival_Minute: integer (nullable = true)\n",
            "\n"
          ]
        }
      ]
    },
    {
      "cell_type": "code",
      "source": [
        "# Know the DataType\n",
        "type(df)\n"
      ],
      "metadata": {
        "colab": {
          "base_uri": "https://localhost:8080/",
          "height": 186
        },
        "id": "7eTLryfChCz5",
        "outputId": "f6a40a5a-6082-43cd-ed48-d43c728c82c5"
      },
      "execution_count": null,
      "outputs": [
        {
          "output_type": "execute_result",
          "data": {
            "text/plain": [
              "pyspark.sql.dataframe.DataFrame"
            ],
            "text/html": [
              "<div style=\"max-width:800px; border: 1px solid var(--colab-border-color);\"><style>\n",
              "      pre.function-repr-contents {\n",
              "        overflow-x: auto;\n",
              "        padding: 8px 12px;\n",
              "        max-height: 500px;\n",
              "      }\n",
              "\n",
              "      pre.function-repr-contents.function-repr-contents-collapsed {\n",
              "        cursor: pointer;\n",
              "        max-height: 100px;\n",
              "      }\n",
              "    </style>\n",
              "    <pre style=\"white-space: initial; background:\n",
              "         var(--colab-secondary-surface-color); padding: 8px 12px;\n",
              "         border-bottom: 1px solid var(--colab-border-color);\"><b>pyspark.sql.dataframe.DataFrame</b><br/>def __init__(jdf: JavaObject, sql_ctx: Union[&#x27;SQLContext&#x27;, &#x27;SparkSession&#x27;])</pre><pre class=\"function-repr-contents function-repr-contents-collapsed\" style=\"\"><a class=\"filepath\" style=\"display:none\" href=\"#\">/usr/local/lib/python3.10/dist-packages/pyspark/sql/dataframe.py</a>A distributed collection of data grouped into named columns.\n",
              "\n",
              ".. versionadded:: 1.3.0\n",
              "\n",
              ".. versionchanged:: 3.4.0\n",
              "    Supports Spark Connect.\n",
              "\n",
              "Examples\n",
              "--------\n",
              "A :class:`DataFrame` is equivalent to a relational table in Spark SQL,\n",
              "and can be created using various functions in :class:`SparkSession`:\n",
              "\n",
              "&gt;&gt;&gt; people = spark.createDataFrame([\n",
              "...     {&quot;deptId&quot;: 1, &quot;age&quot;: 40, &quot;name&quot;: &quot;Hyukjin Kwon&quot;, &quot;gender&quot;: &quot;M&quot;, &quot;salary&quot;: 50},\n",
              "...     {&quot;deptId&quot;: 1, &quot;age&quot;: 50, &quot;name&quot;: &quot;Takuya Ueshin&quot;, &quot;gender&quot;: &quot;M&quot;, &quot;salary&quot;: 100},\n",
              "...     {&quot;deptId&quot;: 2, &quot;age&quot;: 60, &quot;name&quot;: &quot;Xinrong Meng&quot;, &quot;gender&quot;: &quot;F&quot;, &quot;salary&quot;: 150},\n",
              "...     {&quot;deptId&quot;: 3, &quot;age&quot;: 20, &quot;name&quot;: &quot;Haejoon Lee&quot;, &quot;gender&quot;: &quot;M&quot;, &quot;salary&quot;: 200}\n",
              "... ])\n",
              "\n",
              "Once created, it can be manipulated using the various domain-specific-language\n",
              "(DSL) functions defined in: :class:`DataFrame`, :class:`Column`.\n",
              "\n",
              "To select a column from the :class:`DataFrame`, use the apply method:\n",
              "\n",
              "&gt;&gt;&gt; age_col = people.age\n",
              "\n",
              "A more concrete example:\n",
              "\n",
              "&gt;&gt;&gt; # To create DataFrame using SparkSession\n",
              "... department = spark.createDataFrame([\n",
              "...     {&quot;id&quot;: 1, &quot;name&quot;: &quot;PySpark&quot;},\n",
              "...     {&quot;id&quot;: 2, &quot;name&quot;: &quot;ML&quot;},\n",
              "...     {&quot;id&quot;: 3, &quot;name&quot;: &quot;Spark SQL&quot;}\n",
              "... ])\n",
              "\n",
              "&gt;&gt;&gt; people.filter(people.age &gt; 30).join(\n",
              "...     department, people.deptId == department.id).groupBy(\n",
              "...     department.name, &quot;gender&quot;).agg({&quot;salary&quot;: &quot;avg&quot;, &quot;age&quot;: &quot;max&quot;}).show()\n",
              "+-------+------+-----------+--------+\n",
              "|   name|gender|avg(salary)|max(age)|\n",
              "+-------+------+-----------+--------+\n",
              "|     ML|     F|      150.0|      60|\n",
              "|PySpark|     M|       75.0|      50|\n",
              "+-------+------+-----------+--------+\n",
              "\n",
              "Notes\n",
              "-----\n",
              "A DataFrame should only be created as described above. It should not be directly\n",
              "created via using the constructor.</pre>\n",
              "      <script>\n",
              "      if (google.colab.kernel.accessAllowed && google.colab.files && google.colab.files.view) {\n",
              "        for (const element of document.querySelectorAll('.filepath')) {\n",
              "          element.style.display = 'block'\n",
              "          element.onclick = (event) => {\n",
              "            event.preventDefault();\n",
              "            event.stopPropagation();\n",
              "            google.colab.files.view(element.textContent, 80);\n",
              "          };\n",
              "        }\n",
              "      }\n",
              "      for (const element of document.querySelectorAll('.function-repr-contents')) {\n",
              "        element.onclick = (event) => {\n",
              "          event.preventDefault();\n",
              "          event.stopPropagation();\n",
              "          element.classList.toggle('function-repr-contents-collapsed');\n",
              "        };\n",
              "      }\n",
              "      </script>\n",
              "      </div>"
            ]
          },
          "metadata": {},
          "execution_count": 14
        }
      ]
    },
    {
      "cell_type": "code",
      "source": [
        "df.dtypes"
      ],
      "metadata": {
        "colab": {
          "base_uri": "https://localhost:8080/"
        },
        "id": "PV7EiwTbhC3F",
        "outputId": "5a23b06d-29da-490f-c055-03545add0a60"
      },
      "execution_count": null,
      "outputs": [
        {
          "output_type": "execute_result",
          "data": {
            "text/plain": [
              "[('Airline', 'string'),\n",
              " ('Date_of_Journey', 'string'),\n",
              " ('Dep_Time', 'timestamp'),\n",
              " ('Arrival_Time', 'timestamp'),\n",
              " ('Dept_Hour', 'int'),\n",
              " ('Dept_Minute', 'int'),\n",
              " ('Arrival_Hour', 'int'),\n",
              " ('Arrival_Minute', 'int')]"
            ]
          },
          "metadata": {},
          "execution_count": 15
        }
      ]
    },
    {
      "cell_type": "code",
      "source": [
        "df.distinct().show()"
      ],
      "metadata": {
        "colab": {
          "base_uri": "https://localhost:8080/"
        },
        "id": "H4Fc9kzjhC53",
        "outputId": "447dbb05-808c-438e-a0d7-7a27ea7b9835"
      },
      "execution_count": null,
      "outputs": [
        {
          "output_type": "stream",
          "name": "stdout",
          "text": [
            "+-----------------+---------------+-------------------+-------------------+---------+-----------+------------+--------------+\n",
            "|          Airline|Date_of_Journey|           Dep_Time|       Arrival_Time|Dept_Hour|Dept_Minute|Arrival_Hour|Arrival_Minute|\n",
            "+-----------------+---------------+-------------------+-------------------+---------+-----------+------------+--------------+\n",
            "|           IndiGo|     24-03-2019|2024-03-31 22:20:00|2024-03-31 01:10:00|       10|         20|           1|            10|\n",
            "|Multiple carriers|     27-05-2019|2024-03-31 11:25:00|2024-03-31 19:15:00|       11|         25|          19|            15|\n",
            "|      Jet Airways|     12-03-2019|2024-03-31 10:25:00|2024-03-31 18:55:00|       10|         25|          18|            55|\n",
            "|      Jet Airways|     01-03-2019|2024-03-31 05:05:00|2024-03-31 08:00:00|        5|          5|           8|             0|\n",
            "|         SpiceJet|     24-06-2019|2024-03-31 09:00:00|2024-03-31 11:25:00|        9|          0|          11|            25|\n",
            "|           IndiGo|     01-03-2019|2024-03-31 16:50:00|2024-03-31 21:35:00|       16|         50|          21|            35|\n",
            "|      Jet Airways|     12-03-2019|2024-03-31 08:55:00|2024-03-31 10:25:00|        8|         55|          10|            25|\n",
            "|        Air India|     01-05-2019|2024-03-31 05:50:00|2024-03-31 13:15:00|     NULL|         50|          13|            15|\n",
            "|           IndiGo|     12-05-2019|2024-03-31 18:05:00|2024-03-31 23:30:00|     NULL|          5|          23|            30|\n",
            "|      Jet Airways|     09-06-2019|2024-03-31 09:25:00|2024-03-31 04:25:00|     NULL|         25|           4|            25|\n",
            "+-----------------+---------------+-------------------+-------------------+---------+-----------+------------+--------------+\n",
            "\n"
          ]
        }
      ]
    },
    {
      "cell_type": "code",
      "source": [
        "df.dropDuplicates().show()"
      ],
      "metadata": {
        "id": "nl6d44xSu3vA",
        "colab": {
          "base_uri": "https://localhost:8080/"
        },
        "outputId": "f97fa35b-967a-4147-8d99-a0fa15c2220c"
      },
      "execution_count": null,
      "outputs": [
        {
          "output_type": "stream",
          "name": "stdout",
          "text": [
            "+-----------------+---------------+-------------------+-------------------+---------+-----------+------------+--------------+\n",
            "|          Airline|Date_of_Journey|           Dep_Time|       Arrival_Time|Dept_Hour|Dept_Minute|Arrival_Hour|Arrival_Minute|\n",
            "+-----------------+---------------+-------------------+-------------------+---------+-----------+------------+--------------+\n",
            "|           IndiGo|     24-03-2019|2024-03-31 22:20:00|2024-03-31 01:10:00|       10|         20|           1|            10|\n",
            "|Multiple carriers|     27-05-2019|2024-03-31 11:25:00|2024-03-31 19:15:00|       11|         25|          19|            15|\n",
            "|      Jet Airways|     12-03-2019|2024-03-31 10:25:00|2024-03-31 18:55:00|       10|         25|          18|            55|\n",
            "|      Jet Airways|     01-03-2019|2024-03-31 05:05:00|2024-03-31 08:00:00|        5|          5|           8|             0|\n",
            "|         SpiceJet|     24-06-2019|2024-03-31 09:00:00|2024-03-31 11:25:00|        9|          0|          11|            25|\n",
            "|           IndiGo|     01-03-2019|2024-03-31 16:50:00|2024-03-31 21:35:00|       16|         50|          21|            35|\n",
            "|      Jet Airways|     12-03-2019|2024-03-31 08:55:00|2024-03-31 10:25:00|        8|         55|          10|            25|\n",
            "|        Air India|     01-05-2019|2024-03-31 05:50:00|2024-03-31 13:15:00|     NULL|         50|          13|            15|\n",
            "|           IndiGo|     12-05-2019|2024-03-31 18:05:00|2024-03-31 23:30:00|     NULL|          5|          23|            30|\n",
            "|      Jet Airways|     09-06-2019|2024-03-31 09:25:00|2024-03-31 04:25:00|     NULL|         25|           4|            25|\n",
            "+-----------------+---------------+-------------------+-------------------+---------+-----------+------------+--------------+\n",
            "\n"
          ]
        }
      ]
    },
    {
      "cell_type": "code",
      "source": [
        "# Describe dataframe\n",
        "df.describe().show()\n",
        "\n"
      ],
      "metadata": {
        "colab": {
          "base_uri": "https://localhost:8080/"
        },
        "id": "AqD4Avw7iTPZ",
        "outputId": "2cb4932e-5a13-4444-d9f6-4024a94032ad"
      },
      "execution_count": null,
      "outputs": [
        {
          "output_type": "stream",
          "name": "stdout",
          "text": [
            "+-------+---------+---------------+-----------------+------------------+------------------+-----------------+\n",
            "|summary|  Airline|Date_of_Journey|        Dept_Hour|       Dept_Minute|      Arrival_Hour|   Arrival_Minute|\n",
            "+-------+---------+---------------+-----------------+------------------+------------------+-----------------+\n",
            "|  count|       17|             17|               14|                17|                17|               17|\n",
            "|   mean|     NULL|           NULL|9.071428571428571|23.529411764705884|12.941176470588236|24.11764705882353|\n",
            "| stddev|     NULL|           NULL|2.921124275508838|19.183709387976897| 6.309423391199212|18.04813824519435|\n",
            "|    min|Air India|     01-03-2019|                5|                 0|                 1|                0|\n",
            "|    max| SpiceJet|     27-05-2019|               16|                55|                23|               55|\n",
            "+-------+---------+---------------+-----------------+------------------+------------------+-----------------+\n",
            "\n"
          ]
        }
      ]
    },
    {
      "cell_type": "code",
      "source": [
        "# print column/columns\n",
        "df.select([\"Airline\"]).show()\n",
        "\n"
      ],
      "metadata": {
        "colab": {
          "base_uri": "https://localhost:8080/"
        },
        "id": "bFur-dcyhC8n",
        "outputId": "20e49fcc-cc7e-4454-f2e5-2c952faf8dd3"
      },
      "execution_count": null,
      "outputs": [
        {
          "output_type": "stream",
          "name": "stdout",
          "text": [
            "+-----------------+\n",
            "|          Airline|\n",
            "+-----------------+\n",
            "|           IndiGo|\n",
            "|        Air India|\n",
            "|      Jet Airways|\n",
            "|           IndiGo|\n",
            "|           IndiGo|\n",
            "|         SpiceJet|\n",
            "|      Jet Airways|\n",
            "|      Jet Airways|\n",
            "|         SpiceJet|\n",
            "|      Jet Airways|\n",
            "|      Jet Airways|\n",
            "|      Jet Airways|\n",
            "|Multiple carriers|\n",
            "|      Jet Airways|\n",
            "|      Jet Airways|\n",
            "|      Jet Airways|\n",
            "|Multiple carriers|\n",
            "+-----------------+\n",
            "\n"
          ]
        }
      ]
    },
    {
      "cell_type": "code",
      "source": [
        "df.select([\"Airline\",\"Date_of_Journey\"]).show()\n"
      ],
      "metadata": {
        "colab": {
          "base_uri": "https://localhost:8080/"
        },
        "id": "fZx3-inNhC_l",
        "outputId": "9e67448e-9529-4c50-b93a-0e449c82ebe1"
      },
      "execution_count": null,
      "outputs": [
        {
          "output_type": "stream",
          "name": "stdout",
          "text": [
            "+-----------------+---------------+\n",
            "|          Airline|Date_of_Journey|\n",
            "+-----------------+---------------+\n",
            "|           IndiGo|     24-03-2019|\n",
            "|        Air India|     01-05-2019|\n",
            "|      Jet Airways|     09-06-2019|\n",
            "|           IndiGo|     12-05-2019|\n",
            "|           IndiGo|     01-03-2019|\n",
            "|         SpiceJet|     24-06-2019|\n",
            "|      Jet Airways|     12-03-2019|\n",
            "|      Jet Airways|     01-03-2019|\n",
            "|         SpiceJet|     24-06-2019|\n",
            "|      Jet Airways|     12-03-2019|\n",
            "|      Jet Airways|     01-03-2019|\n",
            "|      Jet Airways|     12-03-2019|\n",
            "|Multiple carriers|     27-05-2019|\n",
            "|      Jet Airways|     12-03-2019|\n",
            "|      Jet Airways|     01-03-2019|\n",
            "|      Jet Airways|     12-03-2019|\n",
            "|Multiple carriers|     27-05-2019|\n",
            "+-----------------+---------------+\n",
            "\n"
          ]
        }
      ]
    },
    {
      "cell_type": "code",
      "source": [
        "# Add New Columns\n",
        "# create a column showing that all flight are coming 10 min late\n",
        "\n",
        "df1 = df.withColumn(\"New_Arrival_Minute\",df['Arrival_Minute']+10)\n",
        "df1.show()"
      ],
      "metadata": {
        "colab": {
          "base_uri": "https://localhost:8080/"
        },
        "id": "vc9NK3zihDC-",
        "outputId": "47843de9-c673-40d4-aea3-3a0502829887"
      },
      "execution_count": null,
      "outputs": [
        {
          "output_type": "stream",
          "name": "stdout",
          "text": [
            "+-----------------+---------------+-------------------+-------------------+---------+-----------+------------+--------------+------------------+\n",
            "|          Airline|Date_of_Journey|           Dep_Time|       Arrival_Time|Dept_Hour|Dept_Minute|Arrival_Hour|Arrival_Minute|New_Arrival_Minute|\n",
            "+-----------------+---------------+-------------------+-------------------+---------+-----------+------------+--------------+------------------+\n",
            "|           IndiGo|     24-03-2019|2024-03-31 22:20:00|2024-03-31 01:10:00|       10|         20|           1|            10|                20|\n",
            "|        Air India|     01-05-2019|2024-03-31 05:50:00|2024-03-31 13:15:00|     NULL|         50|          13|            15|                25|\n",
            "|      Jet Airways|     09-06-2019|2024-03-31 09:25:00|2024-03-31 04:25:00|     NULL|         25|           4|            25|                35|\n",
            "|           IndiGo|     12-05-2019|2024-03-31 18:05:00|2024-03-31 23:30:00|     NULL|          5|          23|            30|                40|\n",
            "|           IndiGo|     01-03-2019|2024-03-31 16:50:00|2024-03-31 21:35:00|       16|         50|          21|            35|                45|\n",
            "|         SpiceJet|     24-06-2019|2024-03-31 09:00:00|2024-03-31 11:25:00|        9|          0|          11|            25|                35|\n",
            "|      Jet Airways|     12-03-2019|2024-03-31 10:25:00|2024-03-31 18:55:00|       10|         25|          18|            55|                65|\n",
            "|      Jet Airways|     01-03-2019|2024-03-31 05:05:00|2024-03-31 08:00:00|        5|          5|           8|             0|                10|\n",
            "|         SpiceJet|     24-06-2019|2024-03-31 09:00:00|2024-03-31 11:25:00|        9|          0|          11|            25|                35|\n",
            "|      Jet Airways|     12-03-2019|2024-03-31 10:25:00|2024-03-31 18:55:00|       10|         25|          18|            55|                65|\n",
            "|      Jet Airways|     01-03-2019|2024-03-31 05:05:00|2024-03-31 08:00:00|        5|          5|           8|             0|                10|\n",
            "|      Jet Airways|     12-03-2019|2024-03-31 08:55:00|2024-03-31 10:25:00|        8|         55|          10|            25|                35|\n",
            "|Multiple carriers|     27-05-2019|2024-03-31 11:25:00|2024-03-31 19:15:00|       11|         25|          19|            15|                25|\n",
            "|      Jet Airways|     12-03-2019|2024-03-31 10:25:00|2024-03-31 18:55:00|       10|         25|          18|            55|                65|\n",
            "|      Jet Airways|     01-03-2019|2024-03-31 05:05:00|2024-03-31 08:00:00|        5|          5|           8|             0|                10|\n",
            "|      Jet Airways|     12-03-2019|2024-03-31 08:55:00|2024-03-31 10:25:00|        8|         55|          10|            25|                35|\n",
            "|Multiple carriers|     27-05-2019|2024-03-31 11:25:00|2024-03-31 19:15:00|       11|         25|          19|            15|                25|\n",
            "+-----------------+---------------+-------------------+-------------------+---------+-----------+------------+--------------+------------------+\n",
            "\n"
          ]
        }
      ]
    },
    {
      "cell_type": "code",
      "source": [
        "# Rename the column\n",
        "df.withColumnRenamed('Airline',\"Flight\").show()\n"
      ],
      "metadata": {
        "colab": {
          "base_uri": "https://localhost:8080/"
        },
        "id": "FDDIzdaTi3Ij",
        "outputId": "690e5b7c-ada4-49f8-ce8b-b35847556d0a"
      },
      "execution_count": null,
      "outputs": [
        {
          "output_type": "stream",
          "name": "stdout",
          "text": [
            "+-----------------+---------------+-------------------+-------------------+---------+-----------+------------+--------------+\n",
            "|           Flight|Date_of_Journey|           Dep_Time|       Arrival_Time|Dept_Hour|Dept_Minute|Arrival_Hour|Arrival_Minute|\n",
            "+-----------------+---------------+-------------------+-------------------+---------+-----------+------------+--------------+\n",
            "|           IndiGo|     24-03-2019|2024-03-31 22:20:00|2024-03-31 01:10:00|       10|         20|           1|            10|\n",
            "|        Air India|     01-05-2019|2024-03-31 05:50:00|2024-03-31 13:15:00|     NULL|         50|          13|            15|\n",
            "|      Jet Airways|     09-06-2019|2024-03-31 09:25:00|2024-03-31 04:25:00|     NULL|         25|           4|            25|\n",
            "|           IndiGo|     12-05-2019|2024-03-31 18:05:00|2024-03-31 23:30:00|     NULL|          5|          23|            30|\n",
            "|           IndiGo|     01-03-2019|2024-03-31 16:50:00|2024-03-31 21:35:00|       16|         50|          21|            35|\n",
            "|         SpiceJet|     24-06-2019|2024-03-31 09:00:00|2024-03-31 11:25:00|        9|          0|          11|            25|\n",
            "|      Jet Airways|     12-03-2019|2024-03-31 10:25:00|2024-03-31 18:55:00|       10|         25|          18|            55|\n",
            "|      Jet Airways|     01-03-2019|2024-03-31 05:05:00|2024-03-31 08:00:00|        5|          5|           8|             0|\n",
            "|         SpiceJet|     24-06-2019|2024-03-31 09:00:00|2024-03-31 11:25:00|        9|          0|          11|            25|\n",
            "|      Jet Airways|     12-03-2019|2024-03-31 10:25:00|2024-03-31 18:55:00|       10|         25|          18|            55|\n",
            "|      Jet Airways|     01-03-2019|2024-03-31 05:05:00|2024-03-31 08:00:00|        5|          5|           8|             0|\n",
            "|      Jet Airways|     12-03-2019|2024-03-31 08:55:00|2024-03-31 10:25:00|        8|         55|          10|            25|\n",
            "|Multiple carriers|     27-05-2019|2024-03-31 11:25:00|2024-03-31 19:15:00|       11|         25|          19|            15|\n",
            "|      Jet Airways|     12-03-2019|2024-03-31 10:25:00|2024-03-31 18:55:00|       10|         25|          18|            55|\n",
            "|      Jet Airways|     01-03-2019|2024-03-31 05:05:00|2024-03-31 08:00:00|        5|          5|           8|             0|\n",
            "|      Jet Airways|     12-03-2019|2024-03-31 08:55:00|2024-03-31 10:25:00|        8|         55|          10|            25|\n",
            "|Multiple carriers|     27-05-2019|2024-03-31 11:25:00|2024-03-31 19:15:00|       11|         25|          19|            15|\n",
            "+-----------------+---------------+-------------------+-------------------+---------+-----------+------------+--------------+\n",
            "\n"
          ]
        }
      ]
    },
    {
      "cell_type": "code",
      "source": [
        "# Drop A Column/Columns\n",
        "\n",
        "df.drop('Dep_Time').show()\n"
      ],
      "metadata": {
        "colab": {
          "base_uri": "https://localhost:8080/"
        },
        "id": "C5dkHCfLhDGb",
        "outputId": "ba584dd1-b1d5-4033-ef15-f5d85b1e22ee"
      },
      "execution_count": null,
      "outputs": [
        {
          "output_type": "stream",
          "name": "stdout",
          "text": [
            "+-----------------+---------------+-------------------+---------+-----------+------------+--------------+\n",
            "|          Airline|Date_of_Journey|       Arrival_Time|Dept_Hour|Dept_Minute|Arrival_Hour|Arrival_Minute|\n",
            "+-----------------+---------------+-------------------+---------+-----------+------------+--------------+\n",
            "|           IndiGo|     24-03-2019|2024-03-31 01:10:00|       10|         20|           1|            10|\n",
            "|        Air India|     01-05-2019|2024-03-31 13:15:00|     NULL|         50|          13|            15|\n",
            "|      Jet Airways|     09-06-2019|2024-03-31 04:25:00|     NULL|         25|           4|            25|\n",
            "|           IndiGo|     12-05-2019|2024-03-31 23:30:00|     NULL|          5|          23|            30|\n",
            "|           IndiGo|     01-03-2019|2024-03-31 21:35:00|       16|         50|          21|            35|\n",
            "|         SpiceJet|     24-06-2019|2024-03-31 11:25:00|        9|          0|          11|            25|\n",
            "|      Jet Airways|     12-03-2019|2024-03-31 18:55:00|       10|         25|          18|            55|\n",
            "|      Jet Airways|     01-03-2019|2024-03-31 08:00:00|        5|          5|           8|             0|\n",
            "|         SpiceJet|     24-06-2019|2024-03-31 11:25:00|        9|          0|          11|            25|\n",
            "|      Jet Airways|     12-03-2019|2024-03-31 18:55:00|       10|         25|          18|            55|\n",
            "|      Jet Airways|     01-03-2019|2024-03-31 08:00:00|        5|          5|           8|             0|\n",
            "|      Jet Airways|     12-03-2019|2024-03-31 10:25:00|        8|         55|          10|            25|\n",
            "|Multiple carriers|     27-05-2019|2024-03-31 19:15:00|       11|         25|          19|            15|\n",
            "|      Jet Airways|     12-03-2019|2024-03-31 18:55:00|       10|         25|          18|            55|\n",
            "|      Jet Airways|     01-03-2019|2024-03-31 08:00:00|        5|          5|           8|             0|\n",
            "|      Jet Airways|     12-03-2019|2024-03-31 10:25:00|        8|         55|          10|            25|\n",
            "|Multiple carriers|     27-05-2019|2024-03-31 19:15:00|       11|         25|          19|            15|\n",
            "+-----------------+---------------+-------------------+---------+-----------+------------+--------------+\n",
            "\n"
          ]
        }
      ]
    },
    {
      "cell_type": "code",
      "source": [
        "# Drop A Column/Columns\n",
        "df.drop('Arrival_Time','Dept_Minute','Dep_Time','Dept_Hour','Arrival_Hour').show()\n"
      ],
      "metadata": {
        "colab": {
          "base_uri": "https://localhost:8080/"
        },
        "id": "u6usOpGVhDJE",
        "outputId": "0ac7867d-942f-4d56-fa65-e4ab63b541e4"
      },
      "execution_count": null,
      "outputs": [
        {
          "output_type": "stream",
          "name": "stdout",
          "text": [
            "+-----------------+---------------+--------------+\n",
            "|          Airline|Date_of_Journey|Arrival_Minute|\n",
            "+-----------------+---------------+--------------+\n",
            "|           IndiGo|     24-03-2019|            10|\n",
            "|        Air India|     01-05-2019|            15|\n",
            "|      Jet Airways|     09-06-2019|            25|\n",
            "|           IndiGo|     12-05-2019|            30|\n",
            "|           IndiGo|     01-03-2019|            35|\n",
            "|         SpiceJet|     24-06-2019|            25|\n",
            "|      Jet Airways|     12-03-2019|            55|\n",
            "|      Jet Airways|     01-03-2019|             0|\n",
            "|         SpiceJet|     24-06-2019|            25|\n",
            "|      Jet Airways|     12-03-2019|            55|\n",
            "|      Jet Airways|     01-03-2019|             0|\n",
            "|      Jet Airways|     12-03-2019|            25|\n",
            "|Multiple carriers|     27-05-2019|            15|\n",
            "|      Jet Airways|     12-03-2019|            55|\n",
            "|      Jet Airways|     01-03-2019|             0|\n",
            "|      Jet Airways|     12-03-2019|            25|\n",
            "|Multiple carriers|     27-05-2019|            15|\n",
            "+-----------------+---------------+--------------+\n",
            "\n"
          ]
        }
      ]
    },
    {
      "cell_type": "code",
      "source": [
        "# Drop Na\n",
        "df.na.drop().show()\n"
      ],
      "metadata": {
        "colab": {
          "base_uri": "https://localhost:8080/"
        },
        "id": "9kY3t-gchDLv",
        "outputId": "645ec050-2466-4ef5-8598-3e8a51701277"
      },
      "execution_count": null,
      "outputs": [
        {
          "output_type": "stream",
          "name": "stdout",
          "text": [
            "+-----------------+---------------+-------------------+-------------------+---------+-----------+------------+--------------+\n",
            "|          Airline|Date_of_Journey|           Dep_Time|       Arrival_Time|Dept_Hour|Dept_Minute|Arrival_Hour|Arrival_Minute|\n",
            "+-----------------+---------------+-------------------+-------------------+---------+-----------+------------+--------------+\n",
            "|           IndiGo|     24-03-2019|2024-03-31 22:20:00|2024-03-31 01:10:00|       10|         20|           1|            10|\n",
            "|           IndiGo|     01-03-2019|2024-03-31 16:50:00|2024-03-31 21:35:00|       16|         50|          21|            35|\n",
            "|         SpiceJet|     24-06-2019|2024-03-31 09:00:00|2024-03-31 11:25:00|        9|          0|          11|            25|\n",
            "|      Jet Airways|     12-03-2019|2024-03-31 10:25:00|2024-03-31 18:55:00|       10|         25|          18|            55|\n",
            "|      Jet Airways|     01-03-2019|2024-03-31 05:05:00|2024-03-31 08:00:00|        5|          5|           8|             0|\n",
            "|         SpiceJet|     24-06-2019|2024-03-31 09:00:00|2024-03-31 11:25:00|        9|          0|          11|            25|\n",
            "|      Jet Airways|     12-03-2019|2024-03-31 10:25:00|2024-03-31 18:55:00|       10|         25|          18|            55|\n",
            "|      Jet Airways|     01-03-2019|2024-03-31 05:05:00|2024-03-31 08:00:00|        5|          5|           8|             0|\n",
            "|      Jet Airways|     12-03-2019|2024-03-31 08:55:00|2024-03-31 10:25:00|        8|         55|          10|            25|\n",
            "|Multiple carriers|     27-05-2019|2024-03-31 11:25:00|2024-03-31 19:15:00|       11|         25|          19|            15|\n",
            "|      Jet Airways|     12-03-2019|2024-03-31 10:25:00|2024-03-31 18:55:00|       10|         25|          18|            55|\n",
            "|      Jet Airways|     01-03-2019|2024-03-31 05:05:00|2024-03-31 08:00:00|        5|          5|           8|             0|\n",
            "|      Jet Airways|     12-03-2019|2024-03-31 08:55:00|2024-03-31 10:25:00|        8|         55|          10|            25|\n",
            "|Multiple carriers|     27-05-2019|2024-03-31 11:25:00|2024-03-31 19:15:00|       11|         25|          19|            15|\n",
            "+-----------------+---------------+-------------------+-------------------+---------+-----------+------------+--------------+\n",
            "\n"
          ]
        }
      ]
    },
    {
      "cell_type": "code",
      "source": [
        "# Drop Na\n",
        "df.dropna().show()\n"
      ],
      "metadata": {
        "colab": {
          "base_uri": "https://localhost:8080/"
        },
        "id": "c9gv5VbZjC7C",
        "outputId": "f697def3-5f33-4929-a9a8-d8c78a22ffad"
      },
      "execution_count": null,
      "outputs": [
        {
          "output_type": "stream",
          "name": "stdout",
          "text": [
            "+-----------------+---------------+-------------------+-------------------+---------+-----------+------------+--------------+\n",
            "|          Airline|Date_of_Journey|           Dep_Time|       Arrival_Time|Dept_Hour|Dept_Minute|Arrival_Hour|Arrival_Minute|\n",
            "+-----------------+---------------+-------------------+-------------------+---------+-----------+------------+--------------+\n",
            "|           IndiGo|     24-03-2019|2024-03-31 22:20:00|2024-03-31 01:10:00|       10|         20|           1|            10|\n",
            "|           IndiGo|     01-03-2019|2024-03-31 16:50:00|2024-03-31 21:35:00|       16|         50|          21|            35|\n",
            "|         SpiceJet|     24-06-2019|2024-03-31 09:00:00|2024-03-31 11:25:00|        9|          0|          11|            25|\n",
            "|      Jet Airways|     12-03-2019|2024-03-31 10:25:00|2024-03-31 18:55:00|       10|         25|          18|            55|\n",
            "|      Jet Airways|     01-03-2019|2024-03-31 05:05:00|2024-03-31 08:00:00|        5|          5|           8|             0|\n",
            "|         SpiceJet|     24-06-2019|2024-03-31 09:00:00|2024-03-31 11:25:00|        9|          0|          11|            25|\n",
            "|      Jet Airways|     12-03-2019|2024-03-31 10:25:00|2024-03-31 18:55:00|       10|         25|          18|            55|\n",
            "|      Jet Airways|     01-03-2019|2024-03-31 05:05:00|2024-03-31 08:00:00|        5|          5|           8|             0|\n",
            "|      Jet Airways|     12-03-2019|2024-03-31 08:55:00|2024-03-31 10:25:00|        8|         55|          10|            25|\n",
            "|Multiple carriers|     27-05-2019|2024-03-31 11:25:00|2024-03-31 19:15:00|       11|         25|          19|            15|\n",
            "|      Jet Airways|     12-03-2019|2024-03-31 10:25:00|2024-03-31 18:55:00|       10|         25|          18|            55|\n",
            "|      Jet Airways|     01-03-2019|2024-03-31 05:05:00|2024-03-31 08:00:00|        5|          5|           8|             0|\n",
            "|      Jet Airways|     12-03-2019|2024-03-31 08:55:00|2024-03-31 10:25:00|        8|         55|          10|            25|\n",
            "|Multiple carriers|     27-05-2019|2024-03-31 11:25:00|2024-03-31 19:15:00|       11|         25|          19|            15|\n",
            "+-----------------+---------------+-------------------+-------------------+---------+-----------+------------+--------------+\n",
            "\n"
          ]
        }
      ]
    },
    {
      "cell_type": "code",
      "source": [
        "# drop na from specific column\n",
        "df.na.drop(subset=['Dept_Hour']).show()\n"
      ],
      "metadata": {
        "colab": {
          "base_uri": "https://localhost:8080/"
        },
        "id": "0lns2QSUhDO2",
        "outputId": "dec3a1ce-8a11-40f8-a81d-5876e375a47d"
      },
      "execution_count": null,
      "outputs": [
        {
          "output_type": "stream",
          "name": "stdout",
          "text": [
            "+-----------------+---------------+-------------------+-------------------+---------+-----------+------------+--------------+\n",
            "|          Airline|Date_of_Journey|           Dep_Time|       Arrival_Time|Dept_Hour|Dept_Minute|Arrival_Hour|Arrival_Minute|\n",
            "+-----------------+---------------+-------------------+-------------------+---------+-----------+------------+--------------+\n",
            "|           IndiGo|     24-03-2019|2024-03-31 22:20:00|2024-03-31 01:10:00|       10|         20|           1|            10|\n",
            "|           IndiGo|     01-03-2019|2024-03-31 16:50:00|2024-03-31 21:35:00|       16|         50|          21|            35|\n",
            "|         SpiceJet|     24-06-2019|2024-03-31 09:00:00|2024-03-31 11:25:00|        9|          0|          11|            25|\n",
            "|      Jet Airways|     12-03-2019|2024-03-31 10:25:00|2024-03-31 18:55:00|       10|         25|          18|            55|\n",
            "|      Jet Airways|     01-03-2019|2024-03-31 05:05:00|2024-03-31 08:00:00|        5|          5|           8|             0|\n",
            "|         SpiceJet|     24-06-2019|2024-03-31 09:00:00|2024-03-31 11:25:00|        9|          0|          11|            25|\n",
            "|      Jet Airways|     12-03-2019|2024-03-31 10:25:00|2024-03-31 18:55:00|       10|         25|          18|            55|\n",
            "|      Jet Airways|     01-03-2019|2024-03-31 05:05:00|2024-03-31 08:00:00|        5|          5|           8|             0|\n",
            "|      Jet Airways|     12-03-2019|2024-03-31 08:55:00|2024-03-31 10:25:00|        8|         55|          10|            25|\n",
            "|Multiple carriers|     27-05-2019|2024-03-31 11:25:00|2024-03-31 19:15:00|       11|         25|          19|            15|\n",
            "|      Jet Airways|     12-03-2019|2024-03-31 10:25:00|2024-03-31 18:55:00|       10|         25|          18|            55|\n",
            "|      Jet Airways|     01-03-2019|2024-03-31 05:05:00|2024-03-31 08:00:00|        5|          5|           8|             0|\n",
            "|      Jet Airways|     12-03-2019|2024-03-31 08:55:00|2024-03-31 10:25:00|        8|         55|          10|            25|\n",
            "|Multiple carriers|     27-05-2019|2024-03-31 11:25:00|2024-03-31 19:15:00|       11|         25|          19|            15|\n",
            "+-----------------+---------------+-------------------+-------------------+---------+-----------+------------+--------------+\n",
            "\n"
          ]
        }
      ]
    },
    {
      "cell_type": "code",
      "source": [
        "df.show()"
      ],
      "metadata": {
        "colab": {
          "base_uri": "https://localhost:8080/"
        },
        "id": "KRdilTDXD6U1",
        "outputId": "9489ba8e-aed7-4bc9-934e-34a155964f0e"
      },
      "execution_count": null,
      "outputs": [
        {
          "output_type": "stream",
          "name": "stdout",
          "text": [
            "+-----------------+---------------+-------------------+-------------------+---------+-----------+------------+--------------+\n",
            "|          Airline|Date_of_Journey|           Dep_Time|       Arrival_Time|Dept_Hour|Dept_Minute|Arrival_Hour|Arrival_Minute|\n",
            "+-----------------+---------------+-------------------+-------------------+---------+-----------+------------+--------------+\n",
            "|           IndiGo|     24-03-2019|2024-03-31 22:20:00|2024-03-31 01:10:00|       10|         20|           1|            10|\n",
            "|        Air India|     01-05-2019|2024-03-31 05:50:00|2024-03-31 13:15:00|     NULL|         50|          13|            15|\n",
            "|      Jet Airways|     09-06-2019|2024-03-31 09:25:00|2024-03-31 04:25:00|     NULL|         25|           4|            25|\n",
            "|           IndiGo|     12-05-2019|2024-03-31 18:05:00|2024-03-31 23:30:00|     NULL|          5|          23|            30|\n",
            "|           IndiGo|     01-03-2019|2024-03-31 16:50:00|2024-03-31 21:35:00|       16|         50|          21|            35|\n",
            "|         SpiceJet|     24-06-2019|2024-03-31 09:00:00|2024-03-31 11:25:00|        9|          0|          11|            25|\n",
            "|      Jet Airways|     12-03-2019|2024-03-31 10:25:00|2024-03-31 18:55:00|       10|         25|          18|            55|\n",
            "|      Jet Airways|     01-03-2019|2024-03-31 05:05:00|2024-03-31 08:00:00|        5|          5|           8|             0|\n",
            "|         SpiceJet|     24-06-2019|2024-03-31 09:00:00|2024-03-31 11:25:00|        9|          0|          11|            25|\n",
            "|      Jet Airways|     12-03-2019|2024-03-31 10:25:00|2024-03-31 18:55:00|       10|         25|          18|            55|\n",
            "|      Jet Airways|     01-03-2019|2024-03-31 05:05:00|2024-03-31 08:00:00|        5|          5|           8|             0|\n",
            "|      Jet Airways|     12-03-2019|2024-03-31 08:55:00|2024-03-31 10:25:00|        8|         55|          10|            25|\n",
            "|Multiple carriers|     27-05-2019|2024-03-31 11:25:00|2024-03-31 19:15:00|       11|         25|          19|            15|\n",
            "|      Jet Airways|     12-03-2019|2024-03-31 10:25:00|2024-03-31 18:55:00|       10|         25|          18|            55|\n",
            "|      Jet Airways|     01-03-2019|2024-03-31 05:05:00|2024-03-31 08:00:00|        5|          5|           8|             0|\n",
            "|      Jet Airways|     12-03-2019|2024-03-31 08:55:00|2024-03-31 10:25:00|        8|         55|          10|            25|\n",
            "|Multiple carriers|     27-05-2019|2024-03-31 11:25:00|2024-03-31 19:15:00|       11|         25|          19|            15|\n",
            "+-----------------+---------------+-------------------+-------------------+---------+-----------+------------+--------------+\n",
            "\n"
          ]
        }
      ]
    },
    {
      "cell_type": "code",
      "source": [
        "# fill na with specific value\n",
        "\n",
        "df.na.fill(30).show()"
      ],
      "metadata": {
        "colab": {
          "base_uri": "https://localhost:8080/"
        },
        "id": "S9k6pSWRhDR9",
        "outputId": "5e2bec2f-5666-447e-9f08-68ba7c2d5d0a"
      },
      "execution_count": null,
      "outputs": [
        {
          "output_type": "stream",
          "name": "stdout",
          "text": [
            "+-----------------+---------------+-------------------+-------------------+---------+-----------+------------+--------------+\n",
            "|          Airline|Date_of_Journey|           Dep_Time|       Arrival_Time|Dept_Hour|Dept_Minute|Arrival_Hour|Arrival_Minute|\n",
            "+-----------------+---------------+-------------------+-------------------+---------+-----------+------------+--------------+\n",
            "|           IndiGo|     24-03-2019|2024-03-31 22:20:00|2024-03-31 01:10:00|       10|         20|           1|            10|\n",
            "|        Air India|     01-05-2019|2024-03-31 05:50:00|2024-03-31 13:15:00|       30|         50|          13|            15|\n",
            "|      Jet Airways|     09-06-2019|2024-03-31 09:25:00|2024-03-31 04:25:00|       30|         25|           4|            25|\n",
            "|           IndiGo|     12-05-2019|2024-03-31 18:05:00|2024-03-31 23:30:00|       30|          5|          23|            30|\n",
            "|           IndiGo|     01-03-2019|2024-03-31 16:50:00|2024-03-31 21:35:00|       16|         50|          21|            35|\n",
            "|         SpiceJet|     24-06-2019|2024-03-31 09:00:00|2024-03-31 11:25:00|        9|          0|          11|            25|\n",
            "|      Jet Airways|     12-03-2019|2024-03-31 10:25:00|2024-03-31 18:55:00|       10|         25|          18|            55|\n",
            "|      Jet Airways|     01-03-2019|2024-03-31 05:05:00|2024-03-31 08:00:00|        5|          5|           8|             0|\n",
            "|         SpiceJet|     24-06-2019|2024-03-31 09:00:00|2024-03-31 11:25:00|        9|          0|          11|            25|\n",
            "|      Jet Airways|     12-03-2019|2024-03-31 10:25:00|2024-03-31 18:55:00|       10|         25|          18|            55|\n",
            "|      Jet Airways|     01-03-2019|2024-03-31 05:05:00|2024-03-31 08:00:00|        5|          5|           8|             0|\n",
            "|      Jet Airways|     12-03-2019|2024-03-31 08:55:00|2024-03-31 10:25:00|        8|         55|          10|            25|\n",
            "|Multiple carriers|     27-05-2019|2024-03-31 11:25:00|2024-03-31 19:15:00|       11|         25|          19|            15|\n",
            "|      Jet Airways|     12-03-2019|2024-03-31 10:25:00|2024-03-31 18:55:00|       10|         25|          18|            55|\n",
            "|      Jet Airways|     01-03-2019|2024-03-31 05:05:00|2024-03-31 08:00:00|        5|          5|           8|             0|\n",
            "|      Jet Airways|     12-03-2019|2024-03-31 08:55:00|2024-03-31 10:25:00|        8|         55|          10|            25|\n",
            "|Multiple carriers|     27-05-2019|2024-03-31 11:25:00|2024-03-31 19:15:00|       11|         25|          19|            15|\n",
            "+-----------------+---------------+-------------------+-------------------+---------+-----------+------------+--------------+\n",
            "\n"
          ]
        }
      ]
    },
    {
      "cell_type": "code",
      "source": [
        "# fill na with specific value\n",
        "df.fillna(5).show()\n"
      ],
      "metadata": {
        "colab": {
          "base_uri": "https://localhost:8080/"
        },
        "id": "MH7WIDtkhDUm",
        "outputId": "39ee10e4-986f-4e38-e089-c91e0d317f74"
      },
      "execution_count": null,
      "outputs": [
        {
          "output_type": "stream",
          "name": "stdout",
          "text": [
            "+-----------------+---------------+-------------------+-------------------+---------+-----------+------------+--------------+\n",
            "|          Airline|Date_of_Journey|           Dep_Time|       Arrival_Time|Dept_Hour|Dept_Minute|Arrival_Hour|Arrival_Minute|\n",
            "+-----------------+---------------+-------------------+-------------------+---------+-----------+------------+--------------+\n",
            "|           IndiGo|     24-03-2019|2024-03-31 22:20:00|2024-03-31 01:10:00|       10|         20|           1|            10|\n",
            "|        Air India|     01-05-2019|2024-03-31 05:50:00|2024-03-31 13:15:00|        5|         50|          13|            15|\n",
            "|      Jet Airways|     09-06-2019|2024-03-31 09:25:00|2024-03-31 04:25:00|        5|         25|           4|            25|\n",
            "|           IndiGo|     12-05-2019|2024-03-31 18:05:00|2024-03-31 23:30:00|        5|          5|          23|            30|\n",
            "|           IndiGo|     01-03-2019|2024-03-31 16:50:00|2024-03-31 21:35:00|       16|         50|          21|            35|\n",
            "|         SpiceJet|     24-06-2019|2024-03-31 09:00:00|2024-03-31 11:25:00|        9|          0|          11|            25|\n",
            "|      Jet Airways|     12-03-2019|2024-03-31 10:25:00|2024-03-31 18:55:00|       10|         25|          18|            55|\n",
            "|      Jet Airways|     01-03-2019|2024-03-31 05:05:00|2024-03-31 08:00:00|        5|          5|           8|             0|\n",
            "|         SpiceJet|     24-06-2019|2024-03-31 09:00:00|2024-03-31 11:25:00|        9|          0|          11|            25|\n",
            "|      Jet Airways|     12-03-2019|2024-03-31 10:25:00|2024-03-31 18:55:00|       10|         25|          18|            55|\n",
            "|      Jet Airways|     01-03-2019|2024-03-31 05:05:00|2024-03-31 08:00:00|        5|          5|           8|             0|\n",
            "|      Jet Airways|     12-03-2019|2024-03-31 08:55:00|2024-03-31 10:25:00|        8|         55|          10|            25|\n",
            "|Multiple carriers|     27-05-2019|2024-03-31 11:25:00|2024-03-31 19:15:00|       11|         25|          19|            15|\n",
            "|      Jet Airways|     12-03-2019|2024-03-31 10:25:00|2024-03-31 18:55:00|       10|         25|          18|            55|\n",
            "|      Jet Airways|     01-03-2019|2024-03-31 05:05:00|2024-03-31 08:00:00|        5|          5|           8|             0|\n",
            "|      Jet Airways|     12-03-2019|2024-03-31 08:55:00|2024-03-31 10:25:00|        8|         55|          10|            25|\n",
            "|Multiple carriers|     27-05-2019|2024-03-31 11:25:00|2024-03-31 19:15:00|       11|         25|          19|            15|\n",
            "+-----------------+---------------+-------------------+-------------------+---------+-----------+------------+--------------+\n",
            "\n"
          ]
        }
      ]
    },
    {
      "cell_type": "code",
      "source": [
        "# Fill na with some value\n",
        "from pyspark.sql.functions import mean\n",
        "\n",
        "meanVlaue = df.select(mean(df['Dept_Hour'])).collect()[0][0]\n",
        "\n",
        "\n",
        "\n",
        "meanVlaue"
      ],
      "metadata": {
        "colab": {
          "base_uri": "https://localhost:8080/"
        },
        "id": "bvN-nowYhDXC",
        "outputId": "f835bf97-ab63-408c-89aa-79030b33bd77"
      },
      "execution_count": null,
      "outputs": [
        {
          "output_type": "execute_result",
          "data": {
            "text/plain": [
              "9.071428571428571"
            ]
          },
          "metadata": {},
          "execution_count": 45
        }
      ]
    },
    {
      "cell_type": "code",
      "source": [
        "df.na.fill(meanVlaue).show()\n"
      ],
      "metadata": {
        "colab": {
          "base_uri": "https://localhost:8080/"
        },
        "id": "vFPc9VYiERxh",
        "outputId": "ce9d1236-5a4a-48fe-c118-bc89e958e0ed"
      },
      "execution_count": null,
      "outputs": [
        {
          "output_type": "stream",
          "name": "stdout",
          "text": [
            "+-----------------+---------------+-------------------+-------------------+---------+-----------+------------+--------------+\n",
            "|          Airline|Date_of_Journey|           Dep_Time|       Arrival_Time|Dept_Hour|Dept_Minute|Arrival_Hour|Arrival_Minute|\n",
            "+-----------------+---------------+-------------------+-------------------+---------+-----------+------------+--------------+\n",
            "|           IndiGo|     24-03-2019|2024-03-31 22:20:00|2024-03-31 01:10:00|       10|         20|           1|            10|\n",
            "|        Air India|     01-05-2019|2024-03-31 05:50:00|2024-03-31 13:15:00|        9|         50|          13|            15|\n",
            "|      Jet Airways|     09-06-2019|2024-03-31 09:25:00|2024-03-31 04:25:00|        9|         25|           4|            25|\n",
            "|           IndiGo|     12-05-2019|2024-03-31 18:05:00|2024-03-31 23:30:00|        9|          5|          23|            30|\n",
            "|           IndiGo|     01-03-2019|2024-03-31 16:50:00|2024-03-31 21:35:00|       16|         50|          21|            35|\n",
            "|         SpiceJet|     24-06-2019|2024-03-31 09:00:00|2024-03-31 11:25:00|        9|          0|          11|            25|\n",
            "|      Jet Airways|     12-03-2019|2024-03-31 10:25:00|2024-03-31 18:55:00|       10|         25|          18|            55|\n",
            "|      Jet Airways|     01-03-2019|2024-03-31 05:05:00|2024-03-31 08:00:00|        5|          5|           8|             0|\n",
            "|         SpiceJet|     24-06-2019|2024-03-31 09:00:00|2024-03-31 11:25:00|        9|          0|          11|            25|\n",
            "|      Jet Airways|     12-03-2019|2024-03-31 10:25:00|2024-03-31 18:55:00|       10|         25|          18|            55|\n",
            "|      Jet Airways|     01-03-2019|2024-03-31 05:05:00|2024-03-31 08:00:00|        5|          5|           8|             0|\n",
            "|      Jet Airways|     12-03-2019|2024-03-31 08:55:00|2024-03-31 10:25:00|        8|         55|          10|            25|\n",
            "|Multiple carriers|     27-05-2019|2024-03-31 11:25:00|2024-03-31 19:15:00|       11|         25|          19|            15|\n",
            "|      Jet Airways|     12-03-2019|2024-03-31 10:25:00|2024-03-31 18:55:00|       10|         25|          18|            55|\n",
            "|      Jet Airways|     01-03-2019|2024-03-31 05:05:00|2024-03-31 08:00:00|        5|          5|           8|             0|\n",
            "|      Jet Airways|     12-03-2019|2024-03-31 08:55:00|2024-03-31 10:25:00|        8|         55|          10|            25|\n",
            "|Multiple carriers|     27-05-2019|2024-03-31 11:25:00|2024-03-31 19:15:00|       11|         25|          19|            15|\n",
            "+-----------------+---------------+-------------------+-------------------+---------+-----------+------------+--------------+\n",
            "\n"
          ]
        }
      ]
    },
    {
      "cell_type": "code",
      "source": [
        "df.show()"
      ],
      "metadata": {
        "colab": {
          "base_uri": "https://localhost:8080/"
        },
        "id": "vtpyeli5E2QC",
        "outputId": "d36d30ee-c46e-454c-9378-0f177c54040e"
      },
      "execution_count": null,
      "outputs": [
        {
          "output_type": "stream",
          "name": "stdout",
          "text": [
            "+-----------------+---------------+-------------------+-------------------+---------+-----------+------------+--------------+\n",
            "|          Airline|Date_of_Journey|           Dep_Time|       Arrival_Time|Dept_Hour|Dept_Minute|Arrival_Hour|Arrival_Minute|\n",
            "+-----------------+---------------+-------------------+-------------------+---------+-----------+------------+--------------+\n",
            "|           IndiGo|     24-03-2019|2024-03-31 22:20:00|2024-03-31 01:10:00|       10|         20|           1|            10|\n",
            "|        Air India|     01-05-2019|2024-03-31 05:50:00|2024-03-31 13:15:00|     NULL|         50|          13|            15|\n",
            "|      Jet Airways|     09-06-2019|2024-03-31 09:25:00|2024-03-31 04:25:00|     NULL|         25|           4|            25|\n",
            "|           IndiGo|     12-05-2019|2024-03-31 18:05:00|2024-03-31 23:30:00|     NULL|          5|          23|            30|\n",
            "|           IndiGo|     01-03-2019|2024-03-31 16:50:00|2024-03-31 21:35:00|       16|         50|          21|            35|\n",
            "|         SpiceJet|     24-06-2019|2024-03-31 09:00:00|2024-03-31 11:25:00|        9|          0|          11|            25|\n",
            "|      Jet Airways|     12-03-2019|2024-03-31 10:25:00|2024-03-31 18:55:00|       10|         25|          18|            55|\n",
            "|      Jet Airways|     01-03-2019|2024-03-31 05:05:00|2024-03-31 08:00:00|        5|          5|           8|             0|\n",
            "|         SpiceJet|     24-06-2019|2024-03-31 09:00:00|2024-03-31 11:25:00|        9|          0|          11|            25|\n",
            "|      Jet Airways|     12-03-2019|2024-03-31 10:25:00|2024-03-31 18:55:00|       10|         25|          18|            55|\n",
            "|      Jet Airways|     01-03-2019|2024-03-31 05:05:00|2024-03-31 08:00:00|        5|          5|           8|             0|\n",
            "|      Jet Airways|     12-03-2019|2024-03-31 08:55:00|2024-03-31 10:25:00|        8|         55|          10|            25|\n",
            "|Multiple carriers|     27-05-2019|2024-03-31 11:25:00|2024-03-31 19:15:00|       11|         25|          19|            15|\n",
            "|      Jet Airways|     12-03-2019|2024-03-31 10:25:00|2024-03-31 18:55:00|       10|         25|          18|            55|\n",
            "|      Jet Airways|     01-03-2019|2024-03-31 05:05:00|2024-03-31 08:00:00|        5|          5|           8|             0|\n",
            "|      Jet Airways|     12-03-2019|2024-03-31 08:55:00|2024-03-31 10:25:00|        8|         55|          10|            25|\n",
            "|Multiple carriers|     27-05-2019|2024-03-31 11:25:00|2024-03-31 19:15:00|       11|         25|          19|            15|\n",
            "+-----------------+---------------+-------------------+-------------------+---------+-----------+------------+--------------+\n",
            "\n"
          ]
        }
      ]
    },
    {
      "cell_type": "code",
      "source": [
        "# Fliter operation\n",
        "\n",
        "df.filter(df[\"Dept_Minute\"]>5).show()\n"
      ],
      "metadata": {
        "colab": {
          "base_uri": "https://localhost:8080/"
        },
        "id": "2gEFvWaKhDZy",
        "outputId": "422614d4-b29e-4b6c-9425-432d8e4a23bd"
      },
      "execution_count": null,
      "outputs": [
        {
          "output_type": "stream",
          "name": "stdout",
          "text": [
            "+-----------------+---------------+-------------------+-------------------+---------+-----------+------------+--------------+\n",
            "|          Airline|Date_of_Journey|           Dep_Time|       Arrival_Time|Dept_Hour|Dept_Minute|Arrival_Hour|Arrival_Minute|\n",
            "+-----------------+---------------+-------------------+-------------------+---------+-----------+------------+--------------+\n",
            "|           IndiGo|     24-03-2019|2024-03-31 22:20:00|2024-03-31 01:10:00|       10|         20|           1|            10|\n",
            "|        Air India|     01-05-2019|2024-03-31 05:50:00|2024-03-31 13:15:00|     NULL|         50|          13|            15|\n",
            "|      Jet Airways|     09-06-2019|2024-03-31 09:25:00|2024-03-31 04:25:00|     NULL|         25|           4|            25|\n",
            "|           IndiGo|     01-03-2019|2024-03-31 16:50:00|2024-03-31 21:35:00|       16|         50|          21|            35|\n",
            "|      Jet Airways|     12-03-2019|2024-03-31 10:25:00|2024-03-31 18:55:00|       10|         25|          18|            55|\n",
            "|      Jet Airways|     12-03-2019|2024-03-31 10:25:00|2024-03-31 18:55:00|       10|         25|          18|            55|\n",
            "|      Jet Airways|     12-03-2019|2024-03-31 08:55:00|2024-03-31 10:25:00|        8|         55|          10|            25|\n",
            "|Multiple carriers|     27-05-2019|2024-03-31 11:25:00|2024-03-31 19:15:00|       11|         25|          19|            15|\n",
            "|      Jet Airways|     12-03-2019|2024-03-31 10:25:00|2024-03-31 18:55:00|       10|         25|          18|            55|\n",
            "|      Jet Airways|     12-03-2019|2024-03-31 08:55:00|2024-03-31 10:25:00|        8|         55|          10|            25|\n",
            "|Multiple carriers|     27-05-2019|2024-03-31 11:25:00|2024-03-31 19:15:00|       11|         25|          19|            15|\n",
            "+-----------------+---------------+-------------------+-------------------+---------+-----------+------------+--------------+\n",
            "\n"
          ]
        }
      ]
    },
    {
      "cell_type": "code",
      "source": [
        "# Filter and print only 'Dep_Time','Arrival_Time'\n",
        "df.filter(df[\"Dept_Hour\"]<=9).select(['Dep_Time','Arrival_Time','Dept_Hour','Dept_Minute']).show()\n"
      ],
      "metadata": {
        "colab": {
          "base_uri": "https://localhost:8080/"
        },
        "id": "EPBdC4SThDc0",
        "outputId": "e6c2a7a5-d0f2-4640-c2f7-295719a2bd61"
      },
      "execution_count": null,
      "outputs": [
        {
          "output_type": "stream",
          "name": "stdout",
          "text": [
            "+-------------------+-------------------+---------+-----------+\n",
            "|           Dep_Time|       Arrival_Time|Dept_Hour|Dept_Minute|\n",
            "+-------------------+-------------------+---------+-----------+\n",
            "|2024-03-31 09:00:00|2024-03-31 11:25:00|        9|          0|\n",
            "|2024-03-31 05:05:00|2024-03-31 08:00:00|        5|          5|\n",
            "|2024-03-31 09:00:00|2024-03-31 11:25:00|        9|          0|\n",
            "|2024-03-31 05:05:00|2024-03-31 08:00:00|        5|          5|\n",
            "|2024-03-31 08:55:00|2024-03-31 10:25:00|        8|         55|\n",
            "|2024-03-31 05:05:00|2024-03-31 08:00:00|        5|          5|\n",
            "|2024-03-31 08:55:00|2024-03-31 10:25:00|        8|         55|\n",
            "+-------------------+-------------------+---------+-----------+\n",
            "\n"
          ]
        }
      ]
    },
    {
      "cell_type": "code",
      "source": [
        "# filter with two conditions\n",
        "# df.filter((condition01) operator (condition02)).show()\n",
        "\n",
        "df.filter((df['Dept_Hour']<=12) | (df['Arrival_Hour']<=5)).show()\n",
        "\n",
        "\n"
      ],
      "metadata": {
        "colab": {
          "base_uri": "https://localhost:8080/"
        },
        "id": "2QlIWNKfhDfp",
        "outputId": "4fab567d-0c34-45d0-f6a0-7ad0380ed446"
      },
      "execution_count": null,
      "outputs": [
        {
          "output_type": "stream",
          "name": "stdout",
          "text": [
            "+-----------------+---------------+-------------------+-------------------+---------+-----------+------------+--------------+\n",
            "|          Airline|Date_of_Journey|           Dep_Time|       Arrival_Time|Dept_Hour|Dept_Minute|Arrival_Hour|Arrival_Minute|\n",
            "+-----------------+---------------+-------------------+-------------------+---------+-----------+------------+--------------+\n",
            "|           IndiGo|     24-03-2019|2024-03-31 22:20:00|2024-03-31 01:10:00|       10|         20|           1|            10|\n",
            "|      Jet Airways|     09-06-2019|2024-03-31 09:25:00|2024-03-31 04:25:00|     NULL|         25|           4|            25|\n",
            "|         SpiceJet|     24-06-2019|2024-03-31 09:00:00|2024-03-31 11:25:00|        9|          0|          11|            25|\n",
            "|      Jet Airways|     12-03-2019|2024-03-31 10:25:00|2024-03-31 18:55:00|       10|         25|          18|            55|\n",
            "|      Jet Airways|     01-03-2019|2024-03-31 05:05:00|2024-03-31 08:00:00|        5|          5|           8|             0|\n",
            "|         SpiceJet|     24-06-2019|2024-03-31 09:00:00|2024-03-31 11:25:00|        9|          0|          11|            25|\n",
            "|      Jet Airways|     12-03-2019|2024-03-31 10:25:00|2024-03-31 18:55:00|       10|         25|          18|            55|\n",
            "|      Jet Airways|     01-03-2019|2024-03-31 05:05:00|2024-03-31 08:00:00|        5|          5|           8|             0|\n",
            "|      Jet Airways|     12-03-2019|2024-03-31 08:55:00|2024-03-31 10:25:00|        8|         55|          10|            25|\n",
            "|Multiple carriers|     27-05-2019|2024-03-31 11:25:00|2024-03-31 19:15:00|       11|         25|          19|            15|\n",
            "|      Jet Airways|     12-03-2019|2024-03-31 10:25:00|2024-03-31 18:55:00|       10|         25|          18|            55|\n",
            "|      Jet Airways|     01-03-2019|2024-03-31 05:05:00|2024-03-31 08:00:00|        5|          5|           8|             0|\n",
            "|      Jet Airways|     12-03-2019|2024-03-31 08:55:00|2024-03-31 10:25:00|        8|         55|          10|            25|\n",
            "|Multiple carriers|     27-05-2019|2024-03-31 11:25:00|2024-03-31 19:15:00|       11|         25|          19|            15|\n",
            "+-----------------+---------------+-------------------+-------------------+---------+-----------+------------+--------------+\n",
            "\n"
          ]
        }
      ]
    },
    {
      "cell_type": "code",
      "source": [
        "## Group By and Aggregate Function\n",
        "df.groupBy('Airline').count().show()\n"
      ],
      "metadata": {
        "colab": {
          "base_uri": "https://localhost:8080/"
        },
        "id": "Z3kEb2rHhDib",
        "outputId": "ea20e6cc-bf34-43cc-8614-4f99de11dd46"
      },
      "execution_count": null,
      "outputs": [
        {
          "output_type": "stream",
          "name": "stdout",
          "text": [
            "+-----------------+-----+\n",
            "|          Airline|count|\n",
            "+-----------------+-----+\n",
            "|        Air India|    1|\n",
            "|         SpiceJet|    2|\n",
            "|      Jet Airways|    9|\n",
            "|           IndiGo|    3|\n",
            "|Multiple carriers|    2|\n",
            "+-----------------+-----+\n",
            "\n"
          ]
        }
      ]
    },
    {
      "cell_type": "code",
      "source": [
        "df.groupBy('Airline').sum().show()\n"
      ],
      "metadata": {
        "colab": {
          "base_uri": "https://localhost:8080/"
        },
        "id": "epMJ2iR0HdxU",
        "outputId": "3950c69a-cfb6-4358-930f-1386315522bd"
      },
      "execution_count": null,
      "outputs": [
        {
          "output_type": "stream",
          "name": "stdout",
          "text": [
            "+-----------------+--------------+----------------+-----------------+-------------------+\n",
            "|          Airline|sum(Dept_Hour)|sum(Dept_Minute)|sum(Arrival_Hour)|sum(Arrival_Minute)|\n",
            "+-----------------+--------------+----------------+-----------------+-------------------+\n",
            "|        Air India|          NULL|              50|               13|                 15|\n",
            "|         SpiceJet|            18|               0|               22|                 50|\n",
            "|      Jet Airways|            61|             225|              102|                240|\n",
            "|           IndiGo|            26|              75|               45|                 75|\n",
            "|Multiple carriers|            22|              50|               38|                 30|\n",
            "+-----------------+--------------+----------------+-----------------+-------------------+\n",
            "\n"
          ]
        }
      ]
    },
    {
      "cell_type": "code",
      "source": [
        "df.groupBy('Airline').mean().show()\n"
      ],
      "metadata": {
        "colab": {
          "base_uri": "https://localhost:8080/"
        },
        "id": "iAd2XDckHd9W",
        "outputId": "1dfca50c-13f7-4c7f-a514-99587052da24"
      },
      "execution_count": null,
      "outputs": [
        {
          "output_type": "stream",
          "name": "stdout",
          "text": [
            "+-----------------+--------------+----------------+------------------+-------------------+\n",
            "|          Airline|avg(Dept_Hour)|avg(Dept_Minute)| avg(Arrival_Hour)|avg(Arrival_Minute)|\n",
            "+-----------------+--------------+----------------+------------------+-------------------+\n",
            "|        Air India|          NULL|            50.0|              13.0|               15.0|\n",
            "|         SpiceJet|           9.0|             0.0|              11.0|               25.0|\n",
            "|      Jet Airways|         7.625|            25.0|11.333333333333334| 26.666666666666668|\n",
            "|           IndiGo|          13.0|            25.0|              15.0|               25.0|\n",
            "|Multiple carriers|          11.0|            25.0|              19.0|               15.0|\n",
            "+-----------------+--------------+----------------+------------------+-------------------+\n",
            "\n"
          ]
        }
      ]
    },
    {
      "cell_type": "code",
      "source": [
        "# JOINING AND MERGING\n"
      ],
      "metadata": {
        "id": "JsbQIOMfHeP7"
      },
      "execution_count": null,
      "outputs": []
    },
    {
      "cell_type": "code",
      "source": [
        "# Create a list of dictionaries containing sample data\n",
        "data = [{\"Name\": \"John\", \"Age\": 25},\n",
        "        {\"Name\": \"Alice\", \"Age\": 30},\n",
        "        {\"Name\": \"Bob\", \"Age\": 35}]\n",
        "\n",
        "# Create DataFrame using the list of dictionaries\n",
        "df = spark.createDataFrame(data)\n",
        "df.show()"
      ],
      "metadata": {
        "colab": {
          "base_uri": "https://localhost:8080/"
        },
        "id": "xXryPb0ohDlK",
        "outputId": "729c52be-0994-452e-908c-d8aefceab777"
      },
      "execution_count": null,
      "outputs": [
        {
          "output_type": "stream",
          "name": "stdout",
          "text": [
            "+---+-----+\n",
            "|Age| Name|\n",
            "+---+-----+\n",
            "| 25| John|\n",
            "| 30|Alice|\n",
            "| 35|  Bob|\n",
            "+---+-----+\n",
            "\n"
          ]
        }
      ]
    },
    {
      "cell_type": "code",
      "source": [],
      "metadata": {
        "id": "DrmFiRgfhD4r"
      },
      "execution_count": null,
      "outputs": []
    },
    {
      "cell_type": "code",
      "source": [],
      "metadata": {
        "id": "--pX5X4WhD75"
      },
      "execution_count": null,
      "outputs": []
    },
    {
      "cell_type": "code",
      "source": [
        "df = spark.createDataFrame(data)\n",
        "df.show()"
      ],
      "metadata": {
        "colab": {
          "base_uri": "https://localhost:8080/"
        },
        "id": "UUA0_K5cYTjT",
        "outputId": "0275db0f-bd56-4f7b-977a-d8f7d82bd7c3"
      },
      "execution_count": null,
      "outputs": [
        {
          "output_type": "stream",
          "name": "stdout",
          "text": [
            "+---+-----+\n",
            "|Age| Name|\n",
            "+---+-----+\n",
            "| 25| John|\n",
            "| 30|Alice|\n",
            "| 35|  Bob|\n",
            "+---+-----+\n",
            "\n"
          ]
        }
      ]
    },
    {
      "cell_type": "code",
      "source": [],
      "metadata": {
        "colab": {
          "base_uri": "https://localhost:8080/"
        },
        "id": "5VPQSJj-YTl5",
        "outputId": "b1acb5e0-90a9-4b86-a415-15d0113760dd"
      },
      "execution_count": null,
      "outputs": [
        {
          "output_type": "stream",
          "name": "stdout",
          "text": [
            "+---+-----+\n",
            "|Age| Name|\n",
            "+---+-----+\n",
            "| 25| John|\n",
            "| 30|Alice|\n",
            "| 35|  Bob|\n",
            "+---+-----+\n",
            "\n"
          ]
        }
      ]
    },
    {
      "cell_type": "code",
      "source": [],
      "metadata": {
        "id": "cfQVApw8YTod"
      },
      "execution_count": null,
      "outputs": []
    },
    {
      "cell_type": "code",
      "source": [],
      "metadata": {
        "id": "B5mQiW0LYTq_"
      },
      "execution_count": null,
      "outputs": []
    },
    {
      "cell_type": "code",
      "source": [
        "from pyspark.sql import SparkSession\n",
        "\n",
        "# Create a SparkSession\n",
        "spark = SparkSession.builder.appName(\"JoinExample\").getOrCreate()\n",
        "\n",
        "# Sample data for DataFrame1\n",
        "data1 = [(\"Alice\", 1),(\"Charlie\", 2),(\"Bob\", 3)]\n",
        "\n",
        "columns1 = [\"name1\", \"value1\"]\n",
        "\n",
        "df1 = spark.createDataFrame(data=data1, schema=columns1)\n",
        "\n",
        "df1.show()"
      ],
      "metadata": {
        "id": "089LR9uLYTuA",
        "colab": {
          "base_uri": "https://localhost:8080/"
        },
        "outputId": "6e2091c3-a263-4559-97de-e5a7cb48c14c"
      },
      "execution_count": null,
      "outputs": [
        {
          "output_type": "stream",
          "name": "stdout",
          "text": [
            "+-------+------+\n",
            "|  name1|value1|\n",
            "+-------+------+\n",
            "|  Alice|     1|\n",
            "|Charlie|     2|\n",
            "|    Bob|     3|\n",
            "+-------+------+\n",
            "\n"
          ]
        }
      ]
    },
    {
      "cell_type": "code",
      "source": [
        "# Sample data for DataFrame2\n",
        "data2 = [(\"Alice\", 10), (\"Bob\", 20), (\"David\", 30)]\n",
        "columns2 = [\"name2\", \"value2\"]\n",
        "\n",
        "df2 = spark.createDataFrame(data=data2, schema=columns2)\n",
        "df2.show()"
      ],
      "metadata": {
        "colab": {
          "base_uri": "https://localhost:8080/"
        },
        "id": "0KsXxAu-v_Ya",
        "outputId": "a67a1e4b-3910-4f11-8e44-f4e2ecc01805"
      },
      "execution_count": null,
      "outputs": [
        {
          "output_type": "stream",
          "name": "stdout",
          "text": [
            "+-----+------+\n",
            "|name2|value2|\n",
            "+-----+------+\n",
            "|Alice|    10|\n",
            "|  Bob|    20|\n",
            "|David|    30|\n",
            "+-----+------+\n",
            "\n"
          ]
        }
      ]
    },
    {
      "cell_type": "code",
      "source": [
        "# Joining DataFrames\n",
        "commonColumns = df1[\"name1\"] == df2[\"name2\"]\n",
        "\n",
        "df1.join(df2, on = commonColumns, how=\"outer\").show()\n"
      ],
      "metadata": {
        "id": "GVQCzbZmYTwj",
        "colab": {
          "base_uri": "https://localhost:8080/"
        },
        "outputId": "ece45aa8-66fa-4c81-a133-d9612635d54c"
      },
      "execution_count": null,
      "outputs": [
        {
          "output_type": "stream",
          "name": "stdout",
          "text": [
            "+-------+------+-----+------+\n",
            "|  name1|value1|name2|value2|\n",
            "+-------+------+-----+------+\n",
            "|  Alice|     1|Alice|    10|\n",
            "|    Bob|     3|  Bob|    20|\n",
            "|Charlie|     2| NULL|  NULL|\n",
            "|   NULL|  NULL|David|    30|\n",
            "+-------+------+-----+------+\n",
            "\n"
          ]
        }
      ]
    },
    {
      "cell_type": "code",
      "source": [],
      "metadata": {
        "id": "Lnee8oQ3LK2n"
      },
      "execution_count": null,
      "outputs": []
    },
    {
      "cell_type": "code",
      "source": [
        "# Outer Join Example\n",
        "df1.join(df2, on=commonColumns, how=\"inner\").show()\n"
      ],
      "metadata": {
        "id": "EeNd-o1sYTzO",
        "colab": {
          "base_uri": "https://localhost:8080/"
        },
        "outputId": "ee73f040-f132-44a7-e9db-aa65c13f0fa8"
      },
      "execution_count": null,
      "outputs": [
        {
          "output_type": "stream",
          "name": "stdout",
          "text": [
            "+-----+------+-----+------+\n",
            "|name1|value1|name2|value2|\n",
            "+-----+------+-----+------+\n",
            "|Alice|     1|Alice|    10|\n",
            "|  Bob|     3|  Bob|    20|\n",
            "+-----+------+-----+------+\n",
            "\n"
          ]
        }
      ]
    },
    {
      "cell_type": "code",
      "source": [
        "# Left Outer Join Example\n",
        "df1.join(df2, on=commonColumns, how=\"left_outer\").show()\n"
      ],
      "metadata": {
        "id": "C0SsQ2IVYT2B",
        "colab": {
          "base_uri": "https://localhost:8080/"
        },
        "outputId": "ab33461d-13a8-4c5f-c8ee-524ed8c5e13c"
      },
      "execution_count": null,
      "outputs": [
        {
          "output_type": "stream",
          "name": "stdout",
          "text": [
            "+-------+------+-----+------+\n",
            "|  name1|value1|name2|value2|\n",
            "+-------+------+-----+------+\n",
            "|  Alice|     1|Alice|    10|\n",
            "|Charlie|     2| NULL|  NULL|\n",
            "|    Bob|     3|  Bob|    20|\n",
            "+-------+------+-----+------+\n",
            "\n"
          ]
        }
      ]
    },
    {
      "cell_type": "code",
      "source": [
        "# Right Outer Join Example\n",
        "df1.join(df2, on=commonColumns, how=\"right_outer\").show()\n"
      ],
      "metadata": {
        "id": "cCCot3A6YT4q",
        "colab": {
          "base_uri": "https://localhost:8080/"
        },
        "outputId": "2367eaf7-aacc-4dfa-e10f-96da18caebde"
      },
      "execution_count": null,
      "outputs": [
        {
          "output_type": "stream",
          "name": "stdout",
          "text": [
            "+-----+------+-----+------+\n",
            "|name1|value1|name2|value2|\n",
            "+-----+------+-----+------+\n",
            "|Alice|     1|Alice|    10|\n",
            "|  Bob|     3|  Bob|    20|\n",
            "| NULL|  NULL|David|    30|\n",
            "+-----+------+-----+------+\n",
            "\n"
          ]
        }
      ]
    },
    {
      "cell_type": "code",
      "source": [
        "# Left Outer Join Example\n",
        "df1.join(df2, on=commonColumns, how=\"left_outer\").show()\n"
      ],
      "metadata": {
        "id": "Vw5cV5_rLTw_",
        "colab": {
          "base_uri": "https://localhost:8080/"
        },
        "outputId": "c62e3a95-f4e9-48c9-bfca-1453897d1132"
      },
      "execution_count": null,
      "outputs": [
        {
          "output_type": "stream",
          "name": "stdout",
          "text": [
            "+-------+------+-----+------+\n",
            "|  name1|value1|name2|value2|\n",
            "+-------+------+-----+------+\n",
            "|  Alice|     1|Alice|    10|\n",
            "|Charlie|     2| NULL|  NULL|\n",
            "|    Bob|     3|  Bob|    20|\n",
            "+-------+------+-----+------+\n",
            "\n"
          ]
        }
      ]
    },
    {
      "cell_type": "code",
      "source": [
        "# Left Semi Join Example\n",
        "df1.join(df2, on=commonColumns, how=\"left_semi\").show()\n",
        "\n"
      ],
      "metadata": {
        "colab": {
          "base_uri": "https://localhost:8080/"
        },
        "id": "CfTmIS4LLTzw",
        "outputId": "55aab914-e27d-4e40-e9af-136ec68eddf4"
      },
      "execution_count": null,
      "outputs": [
        {
          "output_type": "stream",
          "name": "stdout",
          "text": [
            "+-----+------+\n",
            "|name1|value1|\n",
            "+-----+------+\n",
            "|Alice|     1|\n",
            "|  Bob|     3|\n",
            "+-----+------+\n",
            "\n"
          ]
        }
      ]
    },
    {
      "cell_type": "code",
      "source": [
        "# Left Anti Join Example\n",
        "df1.join(df2, on=commonColumns, how=\"left_anti\").show()\n"
      ],
      "metadata": {
        "colab": {
          "base_uri": "https://localhost:8080/"
        },
        "id": "R1i85pzFLT2r",
        "outputId": "ad05019d-ebb1-42cd-f748-eb2e7a66201c"
      },
      "execution_count": null,
      "outputs": [
        {
          "output_type": "stream",
          "name": "stdout",
          "text": [
            "+-------+------+\n",
            "|  name1|value1|\n",
            "+-------+------+\n",
            "|Charlie|     2|\n",
            "+-------+------+\n",
            "\n"
          ]
        }
      ]
    },
    {
      "cell_type": "code",
      "source": [
        "# Cross Join Example\n",
        "newDF = df1.crossJoin(df2)\n",
        "newDF.orderBy('name1','name2').show()\n"
      ],
      "metadata": {
        "colab": {
          "base_uri": "https://localhost:8080/"
        },
        "id": "QvLgC6t-LT5v",
        "outputId": "4c2016c7-6136-4c8a-f4ef-bfc000d8bd33"
      },
      "execution_count": null,
      "outputs": [
        {
          "output_type": "stream",
          "name": "stdout",
          "text": [
            "+-------+------+-----+------+\n",
            "|  name1|value1|name2|value2|\n",
            "+-------+------+-----+------+\n",
            "|  Alice|     1|Alice|    10|\n",
            "|  Alice|     1|  Bob|    20|\n",
            "|  Alice|     1|David|    30|\n",
            "|    Bob|     3|Alice|    10|\n",
            "|    Bob|     3|  Bob|    20|\n",
            "|    Bob|     3|David|    30|\n",
            "|Charlie|     2|Alice|    10|\n",
            "|Charlie|     2|  Bob|    20|\n",
            "|Charlie|     2|David|    30|\n",
            "+-------+------+-----+------+\n",
            "\n"
          ]
        }
      ]
    },
    {
      "cell_type": "code",
      "source": [
        "df1.show()"
      ],
      "metadata": {
        "id": "K5kv1eX8LT8S",
        "colab": {
          "base_uri": "https://localhost:8080/"
        },
        "outputId": "7b86c9d9-82e0-48c8-d699-7f23b631a556"
      },
      "execution_count": null,
      "outputs": [
        {
          "output_type": "stream",
          "name": "stdout",
          "text": [
            "+-------+------+\n",
            "|  name1|value1|\n",
            "+-------+------+\n",
            "|  Alice|     1|\n",
            "|Charlie|     2|\n",
            "|    Bob|     3|\n",
            "+-------+------+\n",
            "\n"
          ]
        }
      ]
    },
    {
      "cell_type": "code",
      "source": [
        "df2.show()"
      ],
      "metadata": {
        "id": "zr4xMLspMAHh",
        "colab": {
          "base_uri": "https://localhost:8080/"
        },
        "outputId": "6b08701f-f5ac-40c2-ad74-956ddfc2b8b9"
      },
      "execution_count": null,
      "outputs": [
        {
          "output_type": "stream",
          "name": "stdout",
          "text": [
            "+-----+------+\n",
            "|name2|value2|\n",
            "+-----+------+\n",
            "|Alice|    10|\n",
            "|  Bob|    20|\n",
            "|David|    30|\n",
            "+-----+------+\n",
            "\n"
          ]
        }
      ]
    },
    {
      "cell_type": "code",
      "source": [],
      "metadata": {
        "id": "IKv0Vl-mMAKc"
      },
      "execution_count": null,
      "outputs": []
    },
    {
      "cell_type": "code",
      "source": [],
      "metadata": {
        "id": "vO60He14MANV"
      },
      "execution_count": null,
      "outputs": []
    },
    {
      "cell_type": "code",
      "source": [],
      "metadata": {
        "id": "BXp-Xuy7MAQL"
      },
      "execution_count": null,
      "outputs": []
    },
    {
      "cell_type": "code",
      "source": [],
      "metadata": {
        "id": "E89iWAwPMATo"
      },
      "execution_count": null,
      "outputs": []
    },
    {
      "cell_type": "code",
      "source": [],
      "metadata": {
        "id": "ODW6F-KNMAV9"
      },
      "execution_count": null,
      "outputs": []
    },
    {
      "cell_type": "code",
      "source": [],
      "metadata": {
        "id": "WFYwVYgsMAYs"
      },
      "execution_count": null,
      "outputs": []
    },
    {
      "cell_type": "code",
      "source": [],
      "metadata": {
        "id": "tB-1DGN2MAbY"
      },
      "execution_count": null,
      "outputs": []
    },
    {
      "cell_type": "code",
      "source": [],
      "metadata": {
        "id": "_xiFmC3KMAeO"
      },
      "execution_count": null,
      "outputs": []
    },
    {
      "cell_type": "code",
      "source": [],
      "metadata": {
        "id": "0VQCpq4SMAh2"
      },
      "execution_count": null,
      "outputs": []
    },
    {
      "cell_type": "code",
      "source": [],
      "metadata": {
        "id": "BpXceljILT-x"
      },
      "execution_count": null,
      "outputs": []
    },
    {
      "cell_type": "code",
      "source": [],
      "metadata": {
        "id": "x6-XTwP6LUBT"
      },
      "execution_count": null,
      "outputs": []
    },
    {
      "cell_type": "code",
      "source": [],
      "metadata": {
        "id": "ciWz7bT6LUD_"
      },
      "execution_count": null,
      "outputs": []
    },
    {
      "cell_type": "code",
      "source": [],
      "metadata": {
        "id": "9AC-hwdeLUHl"
      },
      "execution_count": null,
      "outputs": []
    },
    {
      "cell_type": "code",
      "source": [],
      "metadata": {
        "id": "d_iWkJVsYT7S"
      },
      "execution_count": null,
      "outputs": []
    },
    {
      "cell_type": "code",
      "source": [],
      "metadata": {
        "id": "vtrD-XCVYT9m"
      },
      "execution_count": null,
      "outputs": []
    },
    {
      "cell_type": "code",
      "source": [],
      "metadata": {
        "id": "V6lrNbOTYUAI"
      },
      "execution_count": null,
      "outputs": []
    },
    {
      "cell_type": "code",
      "source": [],
      "metadata": {
        "id": "98a58JCEYUDn"
      },
      "execution_count": null,
      "outputs": []
    }
  ]
}