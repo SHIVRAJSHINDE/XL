{
 "cells": [
  {
   "cell_type": "markdown",
   "id": "b9560a87-d515-4bd5-bde3-9b87637ea06a",
   "metadata": {},
   "source": [
    "# Creating a File"
   ]
  },
  {
   "cell_type": "code",
   "execution_count": 3,
   "id": "1ec84e9e-7e52-47c3-9038-eaf3e8696eff",
   "metadata": {},
   "outputs": [],
   "source": [
    "# create Object of file in write mode ('w')\n",
    "file_path = r'D:\\MLProjects\\ZDatasets\\TempData\\file.txt'  # Use raw string to avoid escape characters\n",
    "file = open(file_path, 'w')\n",
    "file.close()\n"
   ]
  },
  {
   "cell_type": "code",
   "execution_count": 27,
   "id": "84f41987-19d0-4f93-a282-c6baa6e00671",
   "metadata": {},
   "outputs": [],
   "source": [
    "\n",
    "# filePath+NameOfLE.ext\n",
    "fileName = r'D:\\MLProjects\\ZDatasets\\TempData\\abc.txt'\n",
    "file = open(fileName,'w')\n",
    "file.close()\n"
   ]
  },
  {
   "cell_type": "code",
   "execution_count": 2,
   "id": "fb0887d3",
   "metadata": {},
   "outputs": [
    {
     "data": {
      "text/plain": [
       "<_io.TextIOWrapper name='D:\\\\MLProjects\\\\ZDatasets\\\\TempData\\\\file.txt' mode='w' encoding='cp1252'>"
      ]
     },
     "execution_count": 2,
     "metadata": {},
     "output_type": "execute_result"
    }
   ],
   "source": [
    "file\n"
   ]
  },
  {
   "cell_type": "markdown",
   "id": "057b9a24-0451-4fdb-967d-ec9b57a75140",
   "metadata": {},
   "source": [
    "# Writing in to File"
   ]
  },
  {
   "cell_type": "code",
   "execution_count": 7,
   "id": "ad274ea9",
   "metadata": {},
   "outputs": [],
   "source": [
    "# Write some text to the file\n",
    "# Steps First Open the File \n",
    "# then only write in to file otherwise it will give ValueError: I/O operation on closed file.\n",
    "\n",
    "txtOne = \"this thexlacademyg\\n \"\n",
    "txtTwo = \"Hello, this is some text written to a text file using Python!\\n\"\n",
    "txtThree = \"Writing to files is easy with Python.\\n\"\n",
    "file = open(file_path,'w')\n",
    "\n",
    "file.write(txtOne)\n",
    "file.write(txtTwo)\n",
    "file.write(txtThree)\n",
    "file.close()\n"
   ]
  },
  {
   "cell_type": "markdown",
   "id": "6703bb96-1d58-4f2c-9ca1-827e2d05dbd4",
   "metadata": {},
   "source": [
    "# Read"
   ]
  },
  {
   "cell_type": "code",
   "execution_count": 8,
   "id": "0ce9ebc5",
   "metadata": {},
   "outputs": [
    {
     "name": "stdout",
     "output_type": "stream",
     "text": [
      "this thexlacademyg\n",
      " Hello, this is some text written to a text file using Python!\n",
      "Writing to files is easy with Python.\n",
      "\n"
     ]
    }
   ],
   "source": [
    "# create Object of file in Read mode (file_path, 'r')\n",
    "# Read the File\n",
    "# Close the File\n",
    "file = open(file_path,'r')\n",
    "data = file.read()\n",
    "\n",
    "print(data)\n"
   ]
  },
  {
   "cell_type": "markdown",
   "id": "6101d060-63df-4b5a-85b9-e3e90d0ae133",
   "metadata": {},
   "source": [
    "# Append"
   ]
  },
  {
   "cell_type": "code",
   "execution_count": 9,
   "id": "3a3d4dee",
   "metadata": {},
   "outputs": [],
   "source": [
    "'''Append in to File'''\n",
    "# create Object of file in append mode (file_path, 'a')\n",
    "# use write function to append the data\n",
    "# Close the file\n",
    "\n",
    "line = \"-------------------------------------------------------------------------------------\\n\"\n",
    "txt01 = \"Hello, this is some text written to a text file using Python!\\n\"\n",
    "txt02 = \"Writing to files is easy with Python.\\n\"\n",
    "\n",
    "\n",
    "# create Object of file in append mode (file_path, 'a')\n",
    "\n",
    "file = open(file_path,'a')\n",
    "\n",
    "# use write function to append the data\n",
    "file.write(line)\n",
    "file.write(txt01)\n",
    "file.write(txt02)\n",
    "file.write(line)\n",
    "# Close the file\n",
    "file.close()\n",
    "\n"
   ]
  },
  {
   "cell_type": "code",
   "execution_count": 10,
   "id": "0089592a",
   "metadata": {},
   "outputs": [
    {
     "name": "stdout",
     "output_type": "stream",
     "text": [
      "this thexlacademyg\n",
      " Hello, this is some text written to a text file using Python!\n",
      "Writing to files is easy with Python.\n",
      "-------------------------------------------------------------------------------------\n",
      "Hello, this is some text written to a text file using Python!\n",
      "Writing to files is easy with Python.\n",
      "-------------------------------------------------------------------------------------\n",
      "\n"
     ]
    }
   ],
   "source": [
    "\n",
    "file = open(file_path, 'r')\n",
    "data = file.read()\n",
    "print(data)\n",
    "file.close()\n",
    "\n"
   ]
  },
  {
   "cell_type": "markdown",
   "id": "6532a77f-867a-4f90-89e5-8883a1af3b4d",
   "metadata": {},
   "source": [
    "# Delete Data"
   ]
  },
  {
   "cell_type": "code",
   "execution_count": 12,
   "id": "55678c51-2a1b-42f5-8559-ea580a95ee09",
   "metadata": {},
   "outputs": [],
   "source": [
    "# create Object of file in write mode (file_path, 'w')\n",
    "# write file with \"\" \n",
    "# Close The File\n",
    "file = open(file_path,'w')\n",
    "file.write(\"\")\n",
    "file.close()\n"
   ]
  },
  {
   "cell_type": "markdown",
   "id": "937bc840-d503-4bab-9408-2a2a658cafbc",
   "metadata": {},
   "source": [
    "# With keyWord"
   ]
  },
  {
   "cell_type": "code",
   "execution_count": 13,
   "id": "a93ac5f6",
   "metadata": {},
   "outputs": [],
   "source": [
    "# use of with keyword\n",
    "\n",
    "FileName = r'D:\\MLProjects\\ZDatasets\\TempData\\file.txt'  # Use raw string to avoid escape characters\n",
    "\n",
    "with open(FileName, 'a') as file:\n",
    "    file.write(\"Hello, this is some text written to a text file using Python!\\n\")\n",
    "    file.write(\"Writing to files is easy with Python.\\n\")\n",
    "    file.write(\"You can write multiple lines like this.\\n\")\n",
    "    file.close()\n",
    "    \n"
   ]
  },
  {
   "cell_type": "code",
   "execution_count": 19,
   "id": "c72454b2-b696-4835-974f-c3c1bd405aa8",
   "metadata": {},
   "outputs": [
    {
     "name": "stdout",
     "output_type": "stream",
     "text": [
      "created and lines written successfully.\n"
     ]
    }
   ],
   "source": [
    "# Lines to be written to the text file\n",
    "lines = [\n",
    "    \"This is the first line.\\n\",\n",
    "    \"This is the second line.\\n\",\n",
    "    \"This is the third line.\\n\"\n",
    "]\n",
    "\n",
    "# Write lines to the text file using writelines()\n",
    "with open(file_path, 'w') as file:\n",
    "    file.writelines(lines)\n",
    "    file.close()\n",
    "\n",
    "print(\"created and lines written successfully.\")\n"
   ]
  },
  {
   "cell_type": "code",
   "execution_count": 18,
   "id": "a5b208e6",
   "metadata": {},
   "outputs": [
    {
     "name": "stdout",
     "output_type": "stream",
     "text": [
      "\n"
     ]
    }
   ],
   "source": [
    "# Reading from a file\n",
    "with open(FileName, 'r') as file:\n",
    "    content = file.read()\n",
    "    print(content)\n",
    "    file.close()\n"
   ]
  },
  {
   "cell_type": "code",
   "execution_count": 20,
   "id": "0d0633f1-ef28-4fad-b47d-28f2f4edd0f4",
   "metadata": {},
   "outputs": [
    {
     "name": "stdout",
     "output_type": "stream",
     "text": [
      "This is the first line.\n",
      "\n",
      "This is the second line.\n",
      "\n",
      "This is the third line.\n",
      "\n"
     ]
    }
   ],
   "source": [
    "'readline() returns single line'\n",
    "\n",
    "with open(FileName, 'r') as file:\n",
    "    content1 = file.readline()\n",
    "    content2 = file.readline()\n",
    "    content3 = file.readline()\n",
    "\n",
    "    print(content1)\n",
    "    print(content2)\n",
    "    print(content3)\n"
   ]
  },
  {
   "cell_type": "code",
   "execution_count": 9,
   "id": "d384d03e",
   "metadata": {},
   "outputs": [
    {
     "name": "stdout",
     "output_type": "stream",
     "text": [
      "Hello, this is some text written to a text file using Python!\n",
      "\n",
      "Writing to files is easy with Python.\n",
      "\n",
      "You can write multiple lines like this.\n",
      "\n"
     ]
    }
   ],
   "source": [
    "# Reading lines from a file\n",
    "with open(FileName, 'r') as file:\n",
    "    lines = file.readlines()\n",
    "    for line in lines:\n",
    "        print(line)\n",
    "\n"
   ]
  },
  {
   "cell_type": "code",
   "execution_count": null,
   "id": "8d6a38bd-f38f-4c12-b936-99d1b9287eae",
   "metadata": {},
   "outputs": [],
   "source": []
  },
  {
   "cell_type": "code",
   "execution_count": 21,
   "id": "c62305a7",
   "metadata": {},
   "outputs": [],
   "source": [
    "# Appending to a file\n",
    "with open(FileName, 'a') as file:\n",
    "    file.write(\"Appending additional text to the file.\\n\")\n"
   ]
  },
  {
   "cell_type": "markdown",
   "id": "9b7d0e4a-d3b0-46d1-862d-88f8093cfbe5",
   "metadata": {},
   "source": [
    "# Delete File"
   ]
  },
  {
   "cell_type": "code",
   "execution_count": 22,
   "id": "6d923151",
   "metadata": {},
   "outputs": [],
   "source": [
    "\n",
    "import os\n",
    "os.remove(FileName)\n",
    "\n"
   ]
  },
  {
   "cell_type": "code",
   "execution_count": null,
   "id": "2ace26df",
   "metadata": {},
   "outputs": [],
   "source": []
  },
  {
   "cell_type": "code",
   "execution_count": 13,
   "id": "9c71ba7a",
   "metadata": {},
   "outputs": [
    {
     "name": "stdout",
     "output_type": "stream",
     "text": [
      "Requirement already satisfied: pyyaml in c:\\users\\shivraj shinde\\anaconda3\\lib\\site-packages (6.0.1)\n"
     ]
    }
   ],
   "source": [
    "!pip install pyyaml"
   ]
  },
  {
   "cell_type": "code",
   "execution_count": null,
   "id": "ca62095c-aac4-4bc9-aff4-5ab5f01e7d74",
   "metadata": {},
   "outputs": [],
   "source": []
  },
  {
   "cell_type": "code",
   "execution_count": 23,
   "id": "0716b13a",
   "metadata": {},
   "outputs": [
    {
     "name": "stdout",
     "output_type": "stream",
     "text": [
      "File created successfully.\n"
     ]
    }
   ],
   "source": [
    "\n",
    "import yaml\n",
    "file_path = r'D:\\MLProjects\\ZDatasets\\TempData\\abc.yaml'\n",
    "\n",
    "# Create a blank YAML file\n",
    "with open(file_path, 'w') as file:\n",
    "    file.close()\n",
    "\n",
    "print(\"File created successfully.\")\n"
   ]
  },
  {
   "cell_type": "code",
   "execution_count": 25,
   "id": "f5a2512f-1500-4b4f-bb8e-b61c9b89582f",
   "metadata": {},
   "outputs": [],
   "source": [
    "# Data to be written to the YAML file\n",
    "data_to_write = {\"name\": \"Alice\", \"age\": 28}\n",
    "\n",
    "with open(file_path, 'w') as file:\n",
    "    yaml.dump(data_to_write, file)\n"
   ]
  },
  {
   "cell_type": "code",
   "execution_count": 26,
   "id": "971952aa",
   "metadata": {},
   "outputs": [
    {
     "name": "stdout",
     "output_type": "stream",
     "text": [
      "Read data: {'age': 28, 'name': 'Alice'}\n"
     ]
    }
   ],
   "source": [
    "# Read YAML data from a file\n",
    "with open(file_path, 'r') as file:\n",
    "    data = yaml.load(file, Loader=yaml.FullLoader)\n",
    "\n",
    "print(\"Read data:\", data)\n"
   ]
  },
  {
   "cell_type": "code",
   "execution_count": null,
   "id": "a932e5d3",
   "metadata": {},
   "outputs": [],
   "source": []
  },
  {
   "cell_type": "code",
   "execution_count": null,
   "id": "46bebb8e",
   "metadata": {},
   "outputs": [],
   "source": []
  },
  {
   "cell_type": "code",
   "execution_count": null,
   "id": "8b65aab0",
   "metadata": {},
   "outputs": [],
   "source": []
  },
  {
   "cell_type": "code",
   "execution_count": null,
   "id": "d09822e2",
   "metadata": {},
   "outputs": [],
   "source": []
  },
  {
   "cell_type": "code",
   "execution_count": null,
   "id": "e3bce33a",
   "metadata": {},
   "outputs": [],
   "source": []
  },
  {
   "cell_type": "code",
   "execution_count": null,
   "id": "35a3a40c",
   "metadata": {},
   "outputs": [],
   "source": []
  }
 ],
 "metadata": {
  "kernelspec": {
   "display_name": "Python 3 (ipykernel)",
   "language": "python",
   "name": "python3"
  },
  "language_info": {
   "codemirror_mode": {
    "name": "ipython",
    "version": 3
   },
   "file_extension": ".py",
   "mimetype": "text/x-python",
   "name": "python",
   "nbconvert_exporter": "python",
   "pygments_lexer": "ipython3",
   "version": "3.11.7"
  }
 },
 "nbformat": 4,
 "nbformat_minor": 5
}
