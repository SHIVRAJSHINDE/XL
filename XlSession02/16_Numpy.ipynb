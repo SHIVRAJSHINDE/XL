{
 "cells": [
  {
   "cell_type": "code",
   "execution_count": 2,
   "id": "fff9d764",
   "metadata": {},
   "outputs": [
    {
     "name": "stdout",
     "output_type": "stream",
     "text": [
      "1\n"
     ]
    }
   ],
   "source": [
    "# Create a 1-dimensional array\n",
    "import numpy as np\n",
    "\n",
    "oneDarray = np.array([1,2,3])\n",
    "\n",
    "oneDarray\n",
    "\n",
    "print(oneDarray.ndim)\n"
   ]
  },
  {
   "cell_type": "code",
   "execution_count": null,
   "id": "1f6fe14d",
   "metadata": {},
   "outputs": [],
   "source": [
    "array_1d = np.array([1, 2, 3, 4, 5])\n",
    "\n",
    "print(array_1d)\n",
    "print(\"Dimenstion: \",array_1d.ndim)\n"
   ]
  },
  {
   "cell_type": "code",
   "execution_count": null,
   "id": "03fb2253",
   "metadata": {},
   "outputs": [],
   "source": [
    "# Create a 2-dimensional array\n",
    "\n",
    "array_2d = np.array([[1, 2, 3], \n",
    "                     [7, 8, 9]])\n",
    "\n",
    "\n",
    "print(array_2d)\n",
    "print(\"Dimenstion: \",array_2d.ndim)\n",
    "\n"
   ]
  },
  {
   "cell_type": "code",
   "execution_count": null,
   "id": "08f0cdc8-ae31-454c-a1f1-e9f389f7a8e2",
   "metadata": {},
   "outputs": [],
   "source": []
  },
  {
   "cell_type": "code",
   "execution_count": 3,
   "id": "75edb0c0",
   "metadata": {},
   "outputs": [
    {
     "name": "stdout",
     "output_type": "stream",
     "text": [
      "[[[ 1  2]\n",
      "  [ 3  4]]\n",
      "\n",
      " [[ 5  6]\n",
      "  [ 7  8]]\n",
      "\n",
      " [[ 9 10]\n",
      "  [11 12]]]\n",
      "Dimenstion:  3\n"
     ]
    }
   ],
   "source": [
    "# Create a 3-dimensional array\n",
    "\n",
    "array_3d = np.array([[[1, 2],  [3, 4]], \n",
    "                     [[5, 6],  [7, 8]], \n",
    "                     [[9, 10], [11, 12]]])\n",
    "\n",
    "print(array_3d)\n",
    "print(\"Dimenstion: \",array_3d.ndim)\n",
    "\n"
   ]
  },
  {
   "cell_type": "markdown",
   "id": "d1875658",
   "metadata": {},
   "source": [
    "# Important Properties And Attributes of Numpy"
   ]
  },
  {
   "cell_type": "code",
   "execution_count": 5,
   "id": "4fcf36f3",
   "metadata": {},
   "outputs": [
    {
     "name": "stdout",
     "output_type": "stream",
     "text": [
      "(3, 4)\n"
     ]
    }
   ],
   "source": [
    "# Shape\n",
    "# to check shape of an array\n",
    "array_2d = np.array([[1, 2, 3,4], \n",
    "                     [4, 5, 6,4], \n",
    "                     [7, 8, 9,10]])\n",
    "\n",
    "\n",
    "print(array_2d.shape)\n",
    "\n",
    "\n"
   ]
  },
  {
   "cell_type": "code",
   "execution_count": 6,
   "id": "339d09d2-a294-480a-8d36-7cc31383e22c",
   "metadata": {},
   "outputs": [
    {
     "data": {
      "text/plain": [
       "(3,)"
      ]
     },
     "execution_count": 6,
     "metadata": {},
     "output_type": "execute_result"
    }
   ],
   "source": [
    "arr1 = np.array([1, 2, 3])\n",
    "arr1.shape\n"
   ]
  },
  {
   "cell_type": "code",
   "execution_count": 7,
   "id": "f2e86b12",
   "metadata": {},
   "outputs": [
    {
     "name": "stdout",
     "output_type": "stream",
     "text": [
      "2\n"
     ]
    }
   ],
   "source": [
    "# ndim\n",
    "# to check dimesnion of an array\n",
    "\n",
    "array_2d = np.array([[1, 2, 3], \n",
    "                     [4, 5, 6], \n",
    "                     [7, 8, 9]])\n",
    "\n",
    "\n",
    "print(array_2d.ndim)\n",
    "\n"
   ]
  },
  {
   "cell_type": "code",
   "execution_count": 10,
   "id": "034f5f0d",
   "metadata": {},
   "outputs": [
    {
     "name": "stdout",
     "output_type": "stream",
     "text": [
      "12\n"
     ]
    }
   ],
   "source": [
    "# size\n",
    "# to check the size\n",
    "import numpy as np\n",
    "\n",
    "array_2d = np.array([[1, 2, 3,6], \n",
    "                     [4, 5, 6,8], \n",
    "                     [7, 8, 9,9]])\n",
    "\n",
    "\n",
    "print(array_2d.size)\n"
   ]
  },
  {
   "cell_type": "code",
   "execution_count": null,
   "id": "4d23b41d",
   "metadata": {},
   "outputs": [],
   "source": []
  },
  {
   "cell_type": "code",
   "execution_count": 11,
   "id": "0e40a96b",
   "metadata": {},
   "outputs": [
    {
     "data": {
      "text/plain": [
       "dtype('int32')"
      ]
     },
     "execution_count": 11,
     "metadata": {},
     "output_type": "execute_result"
    }
   ],
   "source": [
    "# dtype\n",
    "# to know the type of an array\n",
    "\n",
    "array_2d.dtype\n"
   ]
  },
  {
   "cell_type": "code",
   "execution_count": 17,
   "id": "83e2b6b9",
   "metadata": {},
   "outputs": [
    {
     "name": "stdout",
     "output_type": "stream",
     "text": [
      "int32\n",
      "float64\n"
     ]
    },
    {
     "data": {
      "text/plain": [
       "dtype('int32')"
      ]
     },
     "execution_count": 17,
     "metadata": {},
     "output_type": "execute_result"
    }
   ],
   "source": [
    "# astype\n",
    "# type casting in array\n",
    "# if you want change the data type\n",
    "\n",
    "array_2d = np.array([[1, 2, 3,6], \n",
    "                     [4, 5, 6,8], \n",
    "                     [7, 8, 9,9]])\n",
    "\n",
    "print(array_2d.dtype)\n",
    "\n",
    "array_2d = array_2d.astype('float')\n",
    "\n",
    "print(array_2d.dtype)\n",
    "\n",
    "array_2d = array_2d.astype('int')\n",
    "\n",
    "array_2d.dtype"
   ]
  },
  {
   "cell_type": "markdown",
   "id": "c7774532",
   "metadata": {},
   "source": [
    "# Functions in Numpy"
   ]
  },
  {
   "cell_type": "code",
   "execution_count": 19,
   "id": "22aa8de8",
   "metadata": {},
   "outputs": [
    {
     "data": {
      "text/plain": [
       "array([0., 0., 0., 0., 0.])"
      ]
     },
     "execution_count": 19,
     "metadata": {},
     "output_type": "execute_result"
    }
   ],
   "source": [
    "# zeros\n",
    "# create one Dimenstion Arrays\n",
    "\n",
    "\n",
    "np.zeros((5))\n"
   ]
  },
  {
   "cell_type": "code",
   "execution_count": 29,
   "id": "dae95785",
   "metadata": {},
   "outputs": [
    {
     "name": "stdout",
     "output_type": "stream",
     "text": [
      "2\n",
      "[[0. 0. 0. 0.]\n",
      " [0. 0. 0. 0.]\n",
      " [0. 0. 0. 0.]]\n"
     ]
    }
   ],
   "source": [
    "# zeros \n",
    "# create n-Dimenstion Arrays\n",
    "\n",
    "abc = np.zeros((3,4))\n",
    "print(abc.ndim)\n",
    "print(abc)\n"
   ]
  },
  {
   "cell_type": "code",
   "execution_count": 35,
   "id": "50ef44bb",
   "metadata": {},
   "outputs": [
    {
     "name": "stdout",
     "output_type": "stream",
     "text": [
      "2\n",
      "\n",
      "[[1. 1. 1. 1. 1.]\n",
      " [1. 1. 1. 1. 1.]]\n"
     ]
    }
   ],
   "source": [
    "# Ones \n",
    "# create one Dimenstion Arrays\n",
    "\n",
    "arr_ones = np.ones((2,5))\n",
    "print(arr_ones.ndim)\n",
    "print()\n",
    "print(arr_ones)\n"
   ]
  },
  {
   "cell_type": "code",
   "execution_count": 36,
   "id": "72f31076",
   "metadata": {},
   "outputs": [
    {
     "name": "stdout",
     "output_type": "stream",
     "text": [
      "[[1. 1. 1.]\n",
      " [1. 1. 1.]]\n"
     ]
    }
   ],
   "source": [
    "# Ones \n",
    "# create n-Dimenstion Arrays\n",
    "\n",
    "arr_ones = np.ones((2,3))\n",
    "print(arr_ones)\n"
   ]
  },
  {
   "cell_type": "code",
   "execution_count": null,
   "id": "674bb9f6",
   "metadata": {},
   "outputs": [],
   "source": []
  },
  {
   "cell_type": "code",
   "execution_count": 39,
   "id": "329f7871",
   "metadata": {},
   "outputs": [
    {
     "name": "stdout",
     "output_type": "stream",
     "text": [
      "2\n",
      "[[1. 0. 0. 0.]\n",
      " [0. 1. 0. 0.]\n",
      " [0. 0. 1. 0.]\n",
      " [0. 0. 0. 1.]]\n"
     ]
    }
   ],
   "source": [
    "# eye\n",
    "identity_matrix = np.eye(4)\n",
    "print(identity_matrix.ndim)\n",
    "print(identity_matrix)\n",
    "\n"
   ]
  },
  {
   "cell_type": "code",
   "execution_count": 46,
   "id": "6a920207",
   "metadata": {},
   "outputs": [
    {
     "name": "stdout",
     "output_type": "stream",
     "text": [
      "[[1. 0. 0. 0. 0. 0. 0.]\n",
      " [0. 1. 0. 0. 0. 0. 0.]\n",
      " [0. 0. 1. 0. 0. 0. 0.]\n",
      " [0. 0. 0. 1. 0. 0. 0.]]\n"
     ]
    }
   ],
   "source": [
    "# eye\n",
    "identity_matrix = np.eye(4,7)\n",
    "print(identity_matrix)\n"
   ]
  },
  {
   "cell_type": "code",
   "execution_count": 50,
   "id": "f8211434",
   "metadata": {},
   "outputs": [
    {
     "data": {
      "text/plain": [
       "array([[2, 0, 0, 0],\n",
       "       [0, 3, 0, 0],\n",
       "       [0, 0, 4, 0],\n",
       "       [0, 0, 0, 5]])"
      ]
     },
     "execution_count": 50,
     "metadata": {},
     "output_type": "execute_result"
    }
   ],
   "source": [
    "# diag\n",
    "diagonalArray = np.diag([2,3,4,5])\n",
    "diagonalArray\n"
   ]
  },
  {
   "cell_type": "code",
   "execution_count": 74,
   "id": "97719806",
   "metadata": {},
   "outputs": [
    {
     "data": {
      "text/plain": [
       "8"
      ]
     },
     "execution_count": 74,
     "metadata": {},
     "output_type": "execute_result"
    }
   ],
   "source": [
    "# generate random Numbers\n",
    "np.random.randint(1,10)\n",
    "\n"
   ]
  },
  {
   "cell_type": "code",
   "execution_count": 93,
   "id": "eb5e7db7",
   "metadata": {},
   "outputs": [
    {
     "data": {
      "text/plain": [
       "array([4, 2, 7])"
      ]
     },
     "execution_count": 93,
     "metadata": {},
     "output_type": "execute_result"
    }
   ],
   "source": [
    "# generate random Numbers\n",
    "np.random.randint(1,10,3)\n"
   ]
  },
  {
   "cell_type": "code",
   "execution_count": 94,
   "id": "c796c1e2",
   "metadata": {},
   "outputs": [
    {
     "name": "stdout",
     "output_type": "stream",
     "text": [
      "[0 1 2 3 4 5 6 7 8 9]\n"
     ]
    }
   ],
   "source": [
    "# Create a range of values\n",
    "arr_range = np.arange(0, 10)\n",
    "print(arr_range)\n",
    "\n"
   ]
  },
  {
   "cell_type": "code",
   "execution_count": null,
   "id": "7e058158",
   "metadata": {},
   "outputs": [],
   "source": []
  },
  {
   "cell_type": "code",
   "execution_count": 102,
   "id": "6258e00c",
   "metadata": {},
   "outputs": [
    {
     "name": "stdout",
     "output_type": "stream",
     "text": [
      "[ 0  2  4  6  8 10]\n"
     ]
    }
   ],
   "source": [
    "# Create a range of values\n",
    "arr_range = np.arange(0,11,2)\n",
    "print(arr_range)\n"
   ]
  },
  {
   "cell_type": "code",
   "execution_count": 111,
   "id": "4ac55b4c",
   "metadata": {},
   "outputs": [
    {
     "name": "stdout",
     "output_type": "stream",
     "text": [
      "[  1.  26.  51.  76. 101.]\n"
     ]
    }
   ],
   "source": [
    "# Create an array with evenly spaced values\n",
    "arr_linspace = np.linspace(1, 101, 5)\n",
    "print(arr_linspace)\n"
   ]
  },
  {
   "cell_type": "markdown",
   "id": "5e0649a7",
   "metadata": {},
   "source": [
    "# Indexing and slicing\n"
   ]
  },
  {
   "cell_type": "code",
   "execution_count": 113,
   "id": "b58bb744",
   "metadata": {},
   "outputs": [
    {
     "data": {
      "text/plain": [
       "array([ 8,  9, 10, 11, 12])"
      ]
     },
     "execution_count": 113,
     "metadata": {},
     "output_type": "execute_result"
    }
   ],
   "source": [
    "\n",
    "array_1d = np.array([8, 9, 10, 11, 12])\n",
    "#index               0  1   2  3  4\n",
    "array_1d[0:5]\n"
   ]
  },
  {
   "cell_type": "markdown",
   "id": "8c816c0c",
   "metadata": {},
   "source": [
    "# Iterating over Numpy"
   ]
  },
  {
   "cell_type": "code",
   "execution_count": 114,
   "id": "a5d0feb6",
   "metadata": {},
   "outputs": [
    {
     "name": "stdout",
     "output_type": "stream",
     "text": [
      "[1 2 3]\n",
      "[4 5 6]\n",
      "[7 8 9]\n"
     ]
    }
   ],
   "source": [
    "import numpy as np\n",
    "\n",
    "\n",
    "arr = np.array([[1, 2, 3],\n",
    "                [4, 5, 6],\n",
    "                [7, 8, 9]])\n",
    "\n",
    "# Iterate over each element in the array\n",
    "for i in arr:\n",
    "    print(i)\n",
    "    \n"
   ]
  },
  {
   "cell_type": "code",
   "execution_count": 115,
   "id": "b4f18f50-6ea3-4263-a76a-232a217c0dfb",
   "metadata": {},
   "outputs": [
    {
     "data": {
      "text/plain": [
       "array([[1, 4, 7],\n",
       "       [2, 5, 8],\n",
       "       [3, 6, 9]])"
      ]
     },
     "execution_count": 115,
     "metadata": {},
     "output_type": "execute_result"
    }
   ],
   "source": [
    "arr.T"
   ]
  },
  {
   "cell_type": "code",
   "execution_count": 116,
   "id": "086dba9f",
   "metadata": {},
   "outputs": [
    {
     "name": "stdout",
     "output_type": "stream",
     "text": [
      "[1 4 7]\n",
      "[2 5 8]\n",
      "[3 6 9]\n"
     ]
    }
   ],
   "source": [
    "# Iterate over each column\n",
    "\n",
    "for i in arr.T:\n",
    "    print(i)\n",
    "    "
   ]
  },
  {
   "cell_type": "code",
   "execution_count": 123,
   "id": "0a5bcfad-126e-49e1-9bde-9611745848fb",
   "metadata": {},
   "outputs": [
    {
     "data": {
      "text/plain": [
       "array(1)"
      ]
     },
     "execution_count": 123,
     "metadata": {},
     "output_type": "execute_result"
    }
   ],
   "source": []
  },
  {
   "cell_type": "code",
   "execution_count": 124,
   "id": "7909b31f",
   "metadata": {},
   "outputs": [
    {
     "name": "stdout",
     "output_type": "stream",
     "text": [
      "1\n",
      "2\n",
      "3\n",
      "4\n",
      "5\n",
      "6\n",
      "7\n",
      "8\n",
      "9\n"
     ]
    }
   ],
   "source": [
    "# Iterate over each element using np.nditer()\n",
    "for element in np.nditer(arr):\n",
    "    print(element)\n"
   ]
  },
  {
   "cell_type": "code",
   "execution_count": 125,
   "id": "2d9c3b1c",
   "metadata": {},
   "outputs": [
    {
     "name": "stdout",
     "output_type": "stream",
     "text": [
      "1\n",
      "2\n",
      "3\n",
      "\n",
      "4\n",
      "5\n",
      "6\n",
      "\n",
      "7\n",
      "8\n",
      "9\n",
      "\n"
     ]
    }
   ],
   "source": [
    "import numpy as np\n",
    "\n",
    "# Create a 2D NumPy array\n",
    "arr = np.array([[1, 2, 3],\n",
    "                [4, 5, 6],\n",
    "                [7, 8, 9]])\n",
    "\n",
    "# Iterate over each element in the array\n",
    "for row in arr:\n",
    "    for element in row:\n",
    "        print(element)\n",
    "    print()\n"
   ]
  },
  {
   "cell_type": "markdown",
   "id": "aed1a16e",
   "metadata": {},
   "source": [
    "# Operations in Array"
   ]
  },
  {
   "cell_type": "code",
   "execution_count": 127,
   "id": "c623bcfb",
   "metadata": {},
   "outputs": [
    {
     "name": "stdout",
     "output_type": "stream",
     "text": [
      "[1 2 3 4 5 6]\n",
      "[ 4  5  6  7  8 15]\n"
     ]
    }
   ],
   "source": [
    "arr1 = np.array([1,2,3,4,5,6])\n",
    "arr2 = np.array([4,5,6,7,8,15])\n",
    "print(arr1)\n",
    "print(arr2)\n"
   ]
  },
  {
   "cell_type": "code",
   "execution_count": 131,
   "id": "ca2b4339",
   "metadata": {},
   "outputs": [
    {
     "name": "stdout",
     "output_type": "stream",
     "text": [
      "[ 4  5  6  7  8 15]\n",
      "[1 2 3 4 5 6]\n",
      "[3 3 3 3 3 9]\n"
     ]
    }
   ],
   "source": [
    "# substraction\n",
    "print(arr2)\n",
    "\n",
    "print(arr1)\n",
    "\n",
    "print(arr2-arr1)\n"
   ]
  },
  {
   "cell_type": "code",
   "execution_count": 132,
   "id": "a5cfef11",
   "metadata": {},
   "outputs": [
    {
     "data": {
      "text/plain": [
       "array([ 5,  7,  9, 11, 13, 21])"
      ]
     },
     "execution_count": 132,
     "metadata": {},
     "output_type": "execute_result"
    }
   ],
   "source": [
    "# Addition\n",
    "arr1+arr2\n"
   ]
  },
  {
   "cell_type": "code",
   "execution_count": null,
   "id": "f2e19a0f",
   "metadata": {},
   "outputs": [],
   "source": [
    "# Multipication\n",
    "arr1*arr2\n"
   ]
  },
  {
   "cell_type": "code",
   "execution_count": 133,
   "id": "f6b72a34",
   "metadata": {},
   "outputs": [
    {
     "data": {
      "text/plain": [
       "array([0.25      , 0.4       , 0.5       , 0.57142857, 0.625     ,\n",
       "       0.4       ])"
      ]
     },
     "execution_count": 133,
     "metadata": {},
     "output_type": "execute_result"
    }
   ],
   "source": [
    "# Division\n",
    "arr1/arr2\n"
   ]
  },
  {
   "cell_type": "code",
   "execution_count": 140,
   "id": "bed1ecb3",
   "metadata": {},
   "outputs": [
    {
     "name": "stdout",
     "output_type": "stream",
     "text": [
      "[1 2 3 4 5 6]\n"
     ]
    },
    {
     "data": {
      "text/plain": [
       "array([False, False,  True,  True,  True,  True])"
      ]
     },
     "execution_count": 140,
     "metadata": {},
     "output_type": "execute_result"
    }
   ],
   "source": [
    "# Comparision\n",
    "\n",
    "arr1 = np.array([1,2,3,4,5,6])\n",
    "print(arr1)\n",
    "\n",
    "3<=arr1\n"
   ]
  },
  {
   "cell_type": "code",
   "execution_count": 142,
   "id": "f3e7dbeb",
   "metadata": {},
   "outputs": [],
   "source": [
    "array_2d = np.array([[1, 2, 3], \n",
    "                     [4, 5, 6], \n",
    "                     [7, 8, 9]])\n"
   ]
  },
  {
   "cell_type": "code",
   "execution_count": 146,
   "id": "c804e895",
   "metadata": {},
   "outputs": [
    {
     "name": "stdout",
     "output_type": "stream",
     "text": [
      "[3 6 9]\n"
     ]
    }
   ],
   "source": [
    "# max \n",
    "# 0 = row\n",
    "# 1 = column\n",
    "\n",
    "\n",
    "array_2d.max()\n",
    "\n",
    "print(array_2d.max(axis=0))\n",
    "print(array_2d.max(axis=1))\n",
    "\n"
   ]
  },
  {
   "cell_type": "code",
   "execution_count": 147,
   "id": "8b47ef58",
   "metadata": {},
   "outputs": [
    {
     "name": "stdout",
     "output_type": "stream",
     "text": [
      "1\n",
      "[1 2 3]\n",
      "[1 4 7]\n"
     ]
    }
   ],
   "source": [
    "array_2d = np.array([[1, 2, 3], \n",
    "                     [4, 5, 6], \n",
    "                     [7, 8, 9]])\n",
    "\n",
    "print(array_2d.min())\n",
    "\n",
    "print(array_2d.min(axis=0))\n",
    "\n",
    "print(array_2d.min(axis=1))\n"
   ]
  },
  {
   "cell_type": "code",
   "execution_count": null,
   "id": "3eca5d42",
   "metadata": {},
   "outputs": [],
   "source": []
  },
  {
   "cell_type": "code",
   "execution_count": null,
   "id": "fae91c87",
   "metadata": {},
   "outputs": [],
   "source": []
  },
  {
   "cell_type": "code",
   "execution_count": null,
   "id": "21731cbe",
   "metadata": {},
   "outputs": [],
   "source": [
    "array_2d = np.array([[1, 2, 3], \n",
    "                     [4, 5, 6], \n",
    "                     [7, 8, 9]])\n",
    "\n",
    "\n",
    "print(array_2d.mean())\n",
    "print(array_2d.mean(axis=0))\n",
    "print(array_2d.mean(axis=1))\n",
    "\n",
    "\n"
   ]
  },
  {
   "cell_type": "code",
   "execution_count": null,
   "id": "9ac8158c",
   "metadata": {},
   "outputs": [],
   "source": [
    "\n",
    "print(array_2d.std())\n",
    "print(array_2d.std(axis=0))\n",
    "print(array_2d.std(axis=1))\n"
   ]
  },
  {
   "cell_type": "code",
   "execution_count": null,
   "id": "d04e74a5",
   "metadata": {},
   "outputs": [],
   "source": [
    "\n",
    "print(np.median(array_2d))\n",
    "print(np.median(array_2d,axis=0))\n",
    "print(np.median(array_2d,axis=1))\n"
   ]
  },
  {
   "cell_type": "markdown",
   "id": "a100d989",
   "metadata": {},
   "source": [
    "# Deep Dive Reshaping"
   ]
  },
  {
   "cell_type": "code",
   "execution_count": 157,
   "id": "9d521cde",
   "metadata": {},
   "outputs": [
    {
     "data": {
      "text/plain": [
       "array([0, 1, 2, 3, 4, 5, 6, 7, 8, 9])"
      ]
     },
     "execution_count": 157,
     "metadata": {},
     "output_type": "execute_result"
    }
   ],
   "source": [
    "arr_1d = np.array([0, 1, 2, 3, 4, 5, 6, 7, 8,9])\n",
    "\n",
    "arr_1d\n"
   ]
  },
  {
   "cell_type": "code",
   "execution_count": 158,
   "id": "54ec3274-ad4d-4a99-8db8-c48c643b38e7",
   "metadata": {},
   "outputs": [
    {
     "data": {
      "text/plain": [
       "array([[0, 1, 2, 3, 4],\n",
       "       [5, 6, 7, 8, 9]])"
      ]
     },
     "execution_count": 158,
     "metadata": {},
     "output_type": "execute_result"
    }
   ],
   "source": [
    "newArray = arr_1d.reshape(2, 5)\n",
    "newArray\n"
   ]
  },
  {
   "cell_type": "code",
   "execution_count": 159,
   "id": "4110951a",
   "metadata": {},
   "outputs": [
    {
     "data": {
      "text/plain": [
       "array([[0, 1],\n",
       "       [2, 3],\n",
       "       [4, 5],\n",
       "       [6, 7],\n",
       "       [8, 9]])"
      ]
     },
     "execution_count": 159,
     "metadata": {},
     "output_type": "execute_result"
    }
   ],
   "source": [
    "newArray = arr_1d.reshape(5, 2)\n",
    "newArray\n"
   ]
  },
  {
   "cell_type": "code",
   "execution_count": 160,
   "id": "d3895fcd",
   "metadata": {},
   "outputs": [
    {
     "data": {
      "text/plain": [
       "array([[0, 1, 2],\n",
       "       [3, 4, 5],\n",
       "       [6, 7, 8]])"
      ]
     },
     "execution_count": 160,
     "metadata": {},
     "output_type": "execute_result"
    }
   ],
   "source": [
    "arr_1d = np.array([0, 1, 2, 3, 4, 5, 6, 7, 8])\n",
    "\n",
    "newArray = arr_1d.reshape(3, 3)\n",
    "newArray\n"
   ]
  },
  {
   "cell_type": "code",
   "execution_count": 162,
   "id": "e6e028f1",
   "metadata": {},
   "outputs": [
    {
     "data": {
      "text/plain": [
       "array([[1, 2, 3],\n",
       "       [4, 5, 6],\n",
       "       [7, 8, 9]])"
      ]
     },
     "execution_count": 162,
     "metadata": {},
     "output_type": "execute_result"
    }
   ],
   "source": [
    "arr1 = np.array([[1, 2, 3], \n",
    "                [4, 5, 6], \n",
    "                [7, 8, 9]])\n",
    "\n",
    "arr1"
   ]
  },
  {
   "cell_type": "code",
   "execution_count": 163,
   "id": "73a8f500",
   "metadata": {},
   "outputs": [
    {
     "data": {
      "text/plain": [
       "array([1, 2, 3, 4, 5, 6, 7, 8, 9])"
      ]
     },
     "execution_count": 163,
     "metadata": {},
     "output_type": "execute_result"
    }
   ],
   "source": [
    "# ravel : to change the shape of an array from n dimesion to 1D \n",
    "\n",
    "arr1.ravel()\n"
   ]
  },
  {
   "cell_type": "code",
   "execution_count": 164,
   "id": "a0af05c2-a7a3-48f5-a498-774de73b0cbd",
   "metadata": {},
   "outputs": [
    {
     "data": {
      "text/plain": [
       "array([[1, 2, 3],\n",
       "       [4, 5, 6],\n",
       "       [7, 8, 9]])"
      ]
     },
     "execution_count": 164,
     "metadata": {},
     "output_type": "execute_result"
    }
   ],
   "source": [
    "arr1 = np.array([[1, 2, 3], \n",
    "                [4, 5, 6], \n",
    "                [7, 8, 9]])\n",
    "\n",
    "arr1"
   ]
  },
  {
   "cell_type": "code",
   "execution_count": 165,
   "id": "fa244241",
   "metadata": {},
   "outputs": [
    {
     "data": {
      "text/plain": [
       "array([[1, 4, 7],\n",
       "       [2, 5, 8],\n",
       "       [3, 6, 9]])"
      ]
     },
     "execution_count": 165,
     "metadata": {},
     "output_type": "execute_result"
    }
   ],
   "source": [
    "# transpose : changing row to Column and Column to Row \n",
    "arr1.transpose()\n"
   ]
  },
  {
   "cell_type": "code",
   "execution_count": 166,
   "id": "1f099b50",
   "metadata": {},
   "outputs": [
    {
     "data": {
      "text/plain": [
       "array([1, 2, 3, 4, 5, 6, 4, 5, 6, 7, 8, 9])"
      ]
     },
     "execution_count": 166,
     "metadata": {},
     "output_type": "execute_result"
    }
   ],
   "source": [
    "# stacking : combining two different array to one array\n",
    "# hstack \n",
    "\n",
    "arr1 = np.array([1,2,3,4,5,6])\n",
    "arr2 = np.array([4,5,6,7,8,9])\n",
    "\n",
    "\n",
    "np.hstack((arr1,arr2))\n"
   ]
  },
  {
   "cell_type": "code",
   "execution_count": 169,
   "id": "828e17f1",
   "metadata": {},
   "outputs": [
    {
     "data": {
      "text/plain": [
       "array([[1, 2, 3, 4, 5, 6],\n",
       "       [4, 5, 6, 7, 8, 9],\n",
       "       [4, 5, 6, 7, 8, 9],\n",
       "       [4, 5, 6, 7, 8, 9],\n",
       "       [4, 5, 6, 7, 8, 9]])"
      ]
     },
     "execution_count": 169,
     "metadata": {},
     "output_type": "execute_result"
    }
   ],
   "source": [
    "# vstack\n",
    "arr1 = np.array([1,2,3,4,5,6])\n",
    "arr2 = np.array([4,5,6,7,8,9])\n",
    "arr3 = np.array([4,5,6,7,8,9])\n",
    "arr4 = np.array([4,5,6,7,8,9])\n",
    "arr5 = np.array([4,5,6,7,8,9])\n",
    "\n",
    "\n",
    "np.vstack((arr1,arr2,arr3,arr4,arr5))\n"
   ]
  },
  {
   "cell_type": "code",
   "execution_count": 172,
   "id": "1864b498",
   "metadata": {},
   "outputs": [
    {
     "data": {
      "text/plain": [
       "[array([1, 2, 3, 4]), array([5, 6, 7, 8])]"
      ]
     },
     "execution_count": 172,
     "metadata": {},
     "output_type": "execute_result"
    }
   ],
   "source": [
    "# splitting an array\n",
    "# hsplit\n",
    "\n",
    "arr1 = np.array([1,2,3,4,5,6,7,8])\n",
    "\n",
    "np.hsplit(arr1,2)\n"
   ]
  },
  {
   "cell_type": "code",
   "execution_count": 173,
   "id": "ed3ef789",
   "metadata": {},
   "outputs": [
    {
     "data": {
      "text/plain": [
       "[array([[1, 2, 3]]), array([[4, 5, 6]]), array([[7, 8, 9]])]"
      ]
     },
     "execution_count": 173,
     "metadata": {},
     "output_type": "execute_result"
    }
   ],
   "source": [
    "# splitting an array\n",
    "# vsplit\n",
    "array_2d = np.array([[1, 2, 3], \n",
    "                     [4, 5, 6], \n",
    "                     [7, 8, 9]])\n",
    "\n",
    "np.vsplit(array_2d,3)\n"
   ]
  },
  {
   "cell_type": "code",
   "execution_count": null,
   "id": "da0a7655",
   "metadata": {},
   "outputs": [],
   "source": []
  },
  {
   "cell_type": "code",
   "execution_count": null,
   "id": "c0be5fa4",
   "metadata": {},
   "outputs": [],
   "source": []
  },
  {
   "cell_type": "code",
   "execution_count": null,
   "id": "fe9c035d",
   "metadata": {},
   "outputs": [],
   "source": []
  },
  {
   "cell_type": "code",
   "execution_count": null,
   "id": "2b6fdbcc",
   "metadata": {},
   "outputs": [],
   "source": []
  },
  {
   "cell_type": "code",
   "execution_count": null,
   "id": "5123c29b",
   "metadata": {},
   "outputs": [],
   "source": []
  },
  {
   "cell_type": "code",
   "execution_count": null,
   "id": "6f57351b",
   "metadata": {},
   "outputs": [],
   "source": []
  },
  {
   "cell_type": "code",
   "execution_count": null,
   "id": "e8ba0ad7",
   "metadata": {},
   "outputs": [],
   "source": []
  },
  {
   "cell_type": "code",
   "execution_count": null,
   "id": "625535dc",
   "metadata": {},
   "outputs": [],
   "source": []
  },
  {
   "cell_type": "code",
   "execution_count": null,
   "id": "7dc03bbb",
   "metadata": {},
   "outputs": [],
   "source": []
  },
  {
   "cell_type": "code",
   "execution_count": null,
   "id": "550d6af7",
   "metadata": {},
   "outputs": [],
   "source": []
  },
  {
   "cell_type": "code",
   "execution_count": null,
   "id": "b4854c4f",
   "metadata": {},
   "outputs": [],
   "source": []
  },
  {
   "cell_type": "code",
   "execution_count": null,
   "id": "2165d3cd",
   "metadata": {},
   "outputs": [],
   "source": []
  },
  {
   "cell_type": "code",
   "execution_count": null,
   "id": "bd6eff72",
   "metadata": {},
   "outputs": [],
   "source": []
  }
 ],
 "metadata": {
  "kernelspec": {
   "display_name": "Python 3 (ipykernel)",
   "language": "python",
   "name": "python3"
  },
  "language_info": {
   "codemirror_mode": {
    "name": "ipython",
    "version": 3
   },
   "file_extension": ".py",
   "mimetype": "text/x-python",
   "name": "python",
   "nbconvert_exporter": "python",
   "pygments_lexer": "ipython3",
   "version": "3.11.7"
  }
 },
 "nbformat": 4,
 "nbformat_minor": 5
}
