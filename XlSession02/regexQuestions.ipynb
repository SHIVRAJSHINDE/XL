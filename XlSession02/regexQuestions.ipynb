{
 "cells": [
  {
   "cell_type": "code",
   "execution_count": 2,
   "id": "232e80a7-dc29-455f-82d8-2e1efefabdad",
   "metadata": {},
   "outputs": [
    {
     "data": {
      "text/plain": [
       "['cat']"
      ]
     },
     "execution_count": 2,
     "metadata": {},
     "output_type": "execute_result"
    }
   ],
   "source": [
    "# Check if a string contains a specific pattern:\n",
    "import re\n",
    "\n",
    "abc = \"The cat is black.\"\n",
    "re.findall(r'cat', abc)\n",
    "\n"
   ]
  },
  {
   "cell_type": "code",
   "execution_count": 8,
   "id": "5501ea11-8cc2-4cfc-ae08-ef8fdf5d1a35",
   "metadata": {},
   "outputs": [
    {
     "data": {
      "text/plain": [
       "3"
      ]
     },
     "execution_count": 8,
     "metadata": {},
     "output_type": "execute_result"
    }
   ],
   "source": [
    "# Count the occurrences of a pattern in a string:\n",
    "\n",
    "import re\n",
    "\n",
    "s = \"I have an apple, an apple, and another apple.\"\n",
    "abc = re.findall(r'apple', s)\n",
    "len(abc)\n"
   ]
  },
  {
   "cell_type": "code",
   "execution_count": 10,
   "id": "8ed47686-dcdd-4a26-88e1-ace87b34aa89",
   "metadata": {},
   "outputs": [
    {
     "data": {
      "text/plain": [
       "['email@example.com', 'info@domain.com']"
      ]
     },
     "execution_count": 10,
     "metadata": {},
     "output_type": "execute_result"
    }
   ],
   "source": [
    "# Extract all email addresses from a string:\n",
    "\n",
    "text = \"Contact me at email@example.com or info@domain.com.\"\n",
    "re.findall(r'\\b[A-Za-z0-9._%+-]+@[A-Za-z0-9.-]+\\.[A-Z|a-z]{2,}\\b', text)\n"
   ]
  },
  {
   "cell_type": "code",
   "execution_count": 11,
   "id": "a32b7cc8-dbe9-412c-b104-0d0e63657e27",
   "metadata": {},
   "outputs": [
    {
     "data": {
      "text/plain": [
       "'I have a cat, and my neighbor has a cat too.'"
      ]
     },
     "execution_count": 11,
     "metadata": {},
     "output_type": "execute_result"
    }
   ],
   "source": [
    "# Replace a pattern in a string:\n",
    "\n",
    "s = \"I have a dog, and my neighbor has a dog too.\"\n",
    "re.sub(r'dog', 'cat', s)\n",
    "\n",
    "\n"
   ]
  },
  {
   "cell_type": "code",
   "execution_count": 12,
   "id": "b2d2a368-2d8f-4a0f-b740-ec248ea29bdf",
   "metadata": {},
   "outputs": [
    {
     "name": "stdout",
     "output_type": "stream",
     "text": [
      "True\n",
      "True\n",
      "True\n",
      "False\n"
     ]
    }
   ],
   "source": [
    "# Validate if a string is a valid username:\n",
    "import re\n",
    "\n",
    "def is_valid_username(username):\n",
    "    return bool(re.match(r'^[a-zA-Z0-9_-]+$', username))\n",
    "\n",
    "# Example usage:\n",
    "print(is_valid_username(\"user123\"))  # Output: True\n",
    "print(is_valid_username(\"user_name\"))  # Output: True\n",
    "print(is_valid_username(\"user-name\"))  # Output: True\n",
    "print(is_valid_username(\"user@name\"))  # Output: False\n",
    "\n",
    "\n",
    "\n"
   ]
  },
  {
   "cell_type": "code",
   "execution_count": 13,
   "id": "fbc55140-f3d8-4f0c-a981-a217b249747d",
   "metadata": {},
   "outputs": [
    {
     "data": {
      "text/plain": [
       "['123-456-7890', '987-654-3210']"
      ]
     },
     "execution_count": 13,
     "metadata": {},
     "output_type": "execute_result"
    }
   ],
   "source": [
    "# Extract all phone numbers from a string:\n",
    "\n",
    "\n",
    "text = \"Contact me at 123-456-7890 or 987-654-3210.\"\n",
    "re.findall(r'\\b\\d{3}-\\d{3}-\\d{4}\\b', text)\n",
    "\n"
   ]
  },
  {
   "cell_type": "code",
   "execution_count": 2,
   "id": "5b74883f-7d33-4f7b-845f-5d50d386623c",
   "metadata": {},
   "outputs": [
    {
     "data": {
      "text/plain": [
       "['#awesome', '#python', '#tutorial']"
      ]
     },
     "execution_count": 2,
     "metadata": {},
     "output_type": "execute_result"
    }
   ],
   "source": [
    "# Extract all hashtags from a string:\n",
    "\n",
    "import re\n",
    "\n",
    "text = \"Check out this #awesome #python #tutorial!\"\n",
    "re.findall(r'#\\w+', text)\n",
    "\n",
    "\n"
   ]
  },
  {
   "cell_type": "code",
   "execution_count": 3,
   "id": "b490706f-9884-47e8-96d6-3a1d632299f3",
   "metadata": {},
   "outputs": [
    {
     "data": {
      "text/plain": [
       "'This is a  sample string With punctuation'"
      ]
     },
     "execution_count": 3,
     "metadata": {},
     "output_type": "execute_result"
    }
   ],
   "source": [
    "# Remove all punctuation marks from a string:\n",
    "\n",
    "import re\n",
    "\n",
    "text = \"This, is a - sample string! With punctuation.\"\n",
    "re.sub(r'[^\\w\\s]', '', text)\n",
    "\n"
   ]
  },
  {
   "cell_type": "code",
   "execution_count": 4,
   "id": "bd4fa54b-9ed6-4f86-b81c-1a2f18bf722b",
   "metadata": {},
   "outputs": [
    {
     "data": {
      "text/plain": [
       "True"
      ]
     },
     "execution_count": 4,
     "metadata": {},
     "output_type": "execute_result"
    }
   ],
   "source": [
    "# Check if a string contains any uppercase letters:\n",
    "\n",
    "s = \"Hello\"\n",
    "bool(re.search(r'[A-Z]', s))\n",
    "\n"
   ]
  },
  {
   "cell_type": "code",
   "execution_count": 18,
   "id": "5fca22f3-3e04-401f-9765-0209acedf8f7",
   "metadata": {},
   "outputs": [
    {
     "data": {
      "text/plain": [
       "['2024-06-12']"
      ]
     },
     "execution_count": 18,
     "metadata": {},
     "output_type": "execute_result"
    }
   ],
   "source": [
    "# Extract all dates from a string:\n",
    "s = \"The meeting is scheduled on 2024-06-12.\"\n",
    "re.findall(r'\\b\\d{4}-\\d{2}-\\d{2}\\b', s)\n",
    "\n"
   ]
  },
  {
   "cell_type": "code",
   "execution_count": null,
   "id": "1c457fee-41a2-4007-83de-f24da33f0169",
   "metadata": {},
   "outputs": [],
   "source": []
  },
  {
   "cell_type": "code",
   "execution_count": null,
   "id": "7dff82a3-fc3b-4f50-90a1-416a8c2be172",
   "metadata": {},
   "outputs": [],
   "source": []
  },
  {
   "cell_type": "code",
   "execution_count": null,
   "id": "0d2f8f3e-bf55-4dd1-9a35-8a618b56b242",
   "metadata": {},
   "outputs": [],
   "source": []
  },
  {
   "cell_type": "code",
   "execution_count": null,
   "id": "bc9fca75-d0f4-4d92-84f0-8d2cc011d946",
   "metadata": {},
   "outputs": [],
   "source": []
  },
  {
   "cell_type": "code",
   "execution_count": null,
   "id": "423c601c-0da4-444e-847b-d4a11d3165db",
   "metadata": {},
   "outputs": [],
   "source": []
  },
  {
   "cell_type": "code",
   "execution_count": null,
   "id": "2ef372f2-51a5-4f21-a468-8b9648b6e68f",
   "metadata": {},
   "outputs": [],
   "source": []
  }
 ],
 "metadata": {
  "kernelspec": {
   "display_name": "Python 3 (ipykernel)",
   "language": "python",
   "name": "python3"
  },
  "language_info": {
   "codemirror_mode": {
    "name": "ipython",
    "version": 3
   },
   "file_extension": ".py",
   "mimetype": "text/x-python",
   "name": "python",
   "nbconvert_exporter": "python",
   "pygments_lexer": "ipython3",
   "version": "3.11.7"
  }
 },
 "nbformat": 4,
 "nbformat_minor": 5
}
