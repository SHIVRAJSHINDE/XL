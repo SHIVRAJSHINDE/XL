{
 "cells": [
  {
   "cell_type": "code",
   "execution_count": 5,
   "id": "a5641fd2",
   "metadata": {},
   "outputs": [
    {
     "ename": "ZeroDivisionError",
     "evalue": "division by zero",
     "output_type": "error",
     "traceback": [
      "\u001b[1;31m---------------------------------------------------------------------------\u001b[0m",
      "\u001b[1;31mZeroDivisionError\u001b[0m                         Traceback (most recent call last)",
      "Cell \u001b[1;32mIn[5], line 4\u001b[0m\n\u001b[0;32m      1\u001b[0m a\u001b[38;5;241m=\u001b[39m\u001b[38;5;241m5\u001b[39m\n\u001b[0;32m      2\u001b[0m b\u001b[38;5;241m=\u001b[39m\u001b[38;5;241m0\u001b[39m\n\u001b[1;32m----> 4\u001b[0m \u001b[38;5;28mprint\u001b[39m(a\u001b[38;5;241m/\u001b[39mb)\n",
      "\u001b[1;31mZeroDivisionError\u001b[0m: division by zero"
     ]
    }
   ],
   "source": [
    "a=5\n",
    "b=0\n",
    "\n",
    "print(a/b)\n"
   ]
  },
  {
   "cell_type": "code",
   "execution_count": null,
   "id": "4d88399d-c469-4cd5-aac6-68615e9b70cf",
   "metadata": {},
   "outputs": [],
   "source": []
  },
  {
   "cell_type": "code",
   "execution_count": 6,
   "id": "2ad53fed",
   "metadata": {},
   "outputs": [
    {
     "name": "stdout",
     "output_type": "stream",
     "text": [
      "Something went Wrong\n"
     ]
    }
   ],
   "source": [
    "# The try block lets you test a block of code for errors.\n",
    "# The except block lets you handle the error.\n",
    "\n",
    "a=0\n",
    "b=0\n",
    "\n",
    "try:\n",
    "    print(a/b)\n",
    "except:\n",
    "    print(\"Something went Wrong\")\n"
   ]
  },
  {
   "cell_type": "code",
   "execution_count": null,
   "id": "c4c2ecc2",
   "metadata": {},
   "outputs": [],
   "source": []
  },
  {
   "cell_type": "code",
   "execution_count": 8,
   "id": "bf53093c",
   "metadata": {},
   "outputs": [
    {
     "name": "stdout",
     "output_type": "stream",
     "text": [
      "Somthing Went Wrong\n",
      "resource Closed\n"
     ]
    }
   ],
   "source": [
    "'''The finally block lets you execute code, \n",
    "regardless of the result of the \n",
    "try- and except blocks.'''\n",
    "\n",
    "a=5\n",
    "b=0\n",
    "\n",
    "try:\n",
    "    print(a/b)\n",
    "except:\n",
    "    print(\"Somthing Went Wrong\")\n",
    "\n",
    "finally:\n",
    "    print(\"resource Closed\")\n"
   ]
  },
  {
   "cell_type": "code",
   "execution_count": 11,
   "id": "d021de74",
   "metadata": {},
   "outputs": [
    {
     "name": "stdout",
     "output_type": "stream",
     "text": [
      "Something went wrong\n",
      "hi\n"
     ]
    }
   ],
   "source": [
    "'''You can also use the else keyword to define a block of code to be executed \n",
    "if no errors were raised:'''\n",
    "a=5\n",
    "b=0\n",
    "\n",
    "try:\n",
    "    print(a/b)\n",
    "except:\n",
    "    print(\"Something went wrong\")\n",
    "else:\n",
    "    print(\"Nothing went wrong\")\n"
   ]
  },
  {
   "cell_type": "code",
   "execution_count": 16,
   "id": "89b1e3b5-a902-4043-9a85-e58e784dea3a",
   "metadata": {},
   "outputs": [
    {
     "ename": "IndexError",
     "evalue": "list index out of range",
     "output_type": "error",
     "traceback": [
      "\u001b[1;31m---------------------------------------------------------------------------\u001b[0m",
      "\u001b[1;31mIndexError\u001b[0m                                Traceback (most recent call last)",
      "Cell \u001b[1;32mIn[16], line 8\u001b[0m\n\u001b[0;32m      6\u001b[0m     \u001b[38;5;28mprint\u001b[39m(list01[\u001b[38;5;241m10\u001b[39m])\n\u001b[0;32m      7\u001b[0m \u001b[38;5;28;01mexcept\u001b[39;00m \u001b[38;5;167;01mException\u001b[39;00m \u001b[38;5;28;01mas\u001b[39;00m e:\n\u001b[1;32m----> 8\u001b[0m     \u001b[38;5;28;01mraise\u001b[39;00m e\n",
      "Cell \u001b[1;32mIn[16], line 6\u001b[0m\n\u001b[0;32m      4\u001b[0m \u001b[38;5;28;01mtry\u001b[39;00m :\n\u001b[0;32m      5\u001b[0m     list01 \u001b[38;5;241m=\u001b[39m [\u001b[38;5;241m1\u001b[39m,\u001b[38;5;241m2\u001b[39m,\u001b[38;5;241m3\u001b[39m]\n\u001b[1;32m----> 6\u001b[0m     \u001b[38;5;28mprint\u001b[39m(list01[\u001b[38;5;241m10\u001b[39m])\n\u001b[0;32m      7\u001b[0m \u001b[38;5;28;01mexcept\u001b[39;00m \u001b[38;5;167;01mException\u001b[39;00m \u001b[38;5;28;01mas\u001b[39;00m e:\n\u001b[0;32m      8\u001b[0m     \u001b[38;5;28;01mraise\u001b[39;00m e\n",
      "\u001b[1;31mIndexError\u001b[0m: list index out of range"
     ]
    }
   ],
   "source": [
    "'try except and special kind of error'\n",
    "a=5\n",
    "b=0\n",
    "try :\n",
    "    list01 = [1,2,3]\n",
    "    print(list01[10])\n",
    "except Exception as e:\n",
    "    print(\"Exception is -\" , e)\n"
   ]
  },
  {
   "cell_type": "markdown",
   "id": "faf1fb99",
   "metadata": {},
   "source": [
    "# Raise an Exception"
   ]
  },
  {
   "cell_type": "code",
   "execution_count": null,
   "id": "67a5b924",
   "metadata": {},
   "outputs": [],
   "source": []
  },
  {
   "cell_type": "code",
   "execution_count": 15,
   "id": "67584872-1115-4e8f-9978-a7cc5776d3a3",
   "metadata": {},
   "outputs": [
    {
     "ename": "ZeroDivisionError",
     "evalue": "division by zero",
     "output_type": "error",
     "traceback": [
      "\u001b[1;31m---------------------------------------------------------------------------\u001b[0m",
      "\u001b[1;31mZeroDivisionError\u001b[0m                         Traceback (most recent call last)",
      "Cell \u001b[1;32mIn[15], line 3\u001b[0m\n\u001b[0;32m      1\u001b[0m a\u001b[38;5;241m=\u001b[39m\u001b[38;5;241m5\u001b[39m\n\u001b[0;32m      2\u001b[0m b\u001b[38;5;241m=\u001b[39m\u001b[38;5;241m0\u001b[39m\n\u001b[1;32m----> 3\u001b[0m \u001b[38;5;28mprint\u001b[39m(a\u001b[38;5;241m/\u001b[39mb)\n\u001b[0;32m      4\u001b[0m \u001b[38;5;28;01mraise\u001b[39;00m \u001b[38;5;167;01mException\u001b[39;00m\n",
      "\u001b[1;31mZeroDivisionError\u001b[0m: division by zero"
     ]
    }
   ],
   "source": [
    "a=5\n",
    "b=0\n",
    "print(a/b)\n",
    "raise Exception\n"
   ]
  },
  {
   "cell_type": "code",
   "execution_count": 17,
   "id": "7f3173de-4c03-4d6c-bd01-fae696a6d707",
   "metadata": {},
   "outputs": [
    {
     "ename": "Exception",
     "evalue": "Sorry, no numbers below zero",
     "output_type": "error",
     "traceback": [
      "\u001b[1;31m---------------------------------------------------------------------------\u001b[0m",
      "\u001b[1;31mException\u001b[0m                                 Traceback (most recent call last)",
      "Cell \u001b[1;32mIn[17], line 3\u001b[0m\n\u001b[0;32m      1\u001b[0m x \u001b[38;5;241m=\u001b[39m \u001b[38;5;241m-\u001b[39m\u001b[38;5;241m2\u001b[39m\n\u001b[0;32m      2\u001b[0m \u001b[38;5;28;01mif\u001b[39;00m x \u001b[38;5;241m<\u001b[39m \u001b[38;5;241m0\u001b[39m:\n\u001b[1;32m----> 3\u001b[0m     \u001b[38;5;28;01mraise\u001b[39;00m \u001b[38;5;167;01mException\u001b[39;00m(\u001b[38;5;124m\"\u001b[39m\u001b[38;5;124mSorry, no numbers below zero\u001b[39m\u001b[38;5;124m\"\u001b[39m)\n",
      "\u001b[1;31mException\u001b[0m: Sorry, no numbers below zero"
     ]
    }
   ],
   "source": [
    "\n",
    "x = -2\n",
    "if x < 0:\n",
    "    raise Exception(\"Sorry, no numbers below zero\")\n"
   ]
  },
  {
   "cell_type": "code",
   "execution_count": 18,
   "id": "95279e4a-603c-4a90-9961-b4a768ffbdb6",
   "metadata": {},
   "outputs": [
    {
     "ename": "ZeroDivisionError",
     "evalue": "division by zero",
     "output_type": "error",
     "traceback": [
      "\u001b[1;31m---------------------------------------------------------------------------\u001b[0m",
      "\u001b[1;31mZeroDivisionError\u001b[0m                         Traceback (most recent call last)",
      "Cell \u001b[1;32mIn[18], line 7\u001b[0m\n\u001b[0;32m      5\u001b[0m     \u001b[38;5;28mprint\u001b[39m(a\u001b[38;5;241m/\u001b[39mb)\n\u001b[0;32m      6\u001b[0m \u001b[38;5;28;01mexcept\u001b[39;00m \u001b[38;5;167;01mException\u001b[39;00m \u001b[38;5;28;01mas\u001b[39;00m e :\n\u001b[1;32m----> 7\u001b[0m     \u001b[38;5;28;01mraise\u001b[39;00m e\n",
      "Cell \u001b[1;32mIn[18], line 5\u001b[0m\n\u001b[0;32m      2\u001b[0m b\u001b[38;5;241m=\u001b[39m\u001b[38;5;241m0\u001b[39m\n\u001b[0;32m      4\u001b[0m \u001b[38;5;28;01mtry\u001b[39;00m:\n\u001b[1;32m----> 5\u001b[0m     \u001b[38;5;28mprint\u001b[39m(a\u001b[38;5;241m/\u001b[39mb)\n\u001b[0;32m      6\u001b[0m \u001b[38;5;28;01mexcept\u001b[39;00m \u001b[38;5;167;01mException\u001b[39;00m \u001b[38;5;28;01mas\u001b[39;00m e :\n\u001b[0;32m      7\u001b[0m     \u001b[38;5;28;01mraise\u001b[39;00m e\n",
      "\u001b[1;31mZeroDivisionError\u001b[0m: division by zero"
     ]
    }
   ],
   "source": [
    "a=0\n",
    "b=0\n",
    "\n",
    "try:\n",
    "    print(a/b)\n",
    "except Exception as e :\n",
    "    raise e\n"
   ]
  },
  {
   "cell_type": "code",
   "execution_count": null,
   "id": "4425a401",
   "metadata": {},
   "outputs": [],
   "source": []
  },
  {
   "cell_type": "markdown",
   "id": "b645e60b",
   "metadata": {},
   "source": [
    "# Assert"
   ]
  },
  {
   "cell_type": "code",
   "execution_count": 19,
   "id": "266b37a4",
   "metadata": {},
   "outputs": [
    {
     "ename": "AssertionError",
     "evalue": "x must be greater than 5",
     "output_type": "error",
     "traceback": [
      "\u001b[1;31m---------------------------------------------------------------------------\u001b[0m",
      "\u001b[1;31mAssertionError\u001b[0m                            Traceback (most recent call last)",
      "Cell \u001b[1;32mIn[19], line 2\u001b[0m\n\u001b[0;32m      1\u001b[0m x \u001b[38;5;241m=\u001b[39m \u001b[38;5;241m2\u001b[39m\n\u001b[1;32m----> 2\u001b[0m \u001b[38;5;28;01massert\u001b[39;00m x \u001b[38;5;241m>\u001b[39m \u001b[38;5;241m5\u001b[39m, \u001b[38;5;124m\"\u001b[39m\u001b[38;5;124mx must be greater than 5\u001b[39m\u001b[38;5;124m\"\u001b[39m\n",
      "\u001b[1;31mAssertionError\u001b[0m: x must be greater than 5"
     ]
    }
   ],
   "source": [
    "x = 2\n",
    "assert x > 5, \"x must be greater than 5\"\n"
   ]
  },
  {
   "cell_type": "code",
   "execution_count": 20,
   "id": "3f4c3f33",
   "metadata": {},
   "outputs": [
    {
     "name": "stdout",
     "output_type": "stream",
     "text": [
      "AssertionError occurred: x must be greater than 5\n"
     ]
    }
   ],
   "source": [
    "'Handel Assert Error'\n",
    "try:\n",
    "    x = 3\n",
    "    assert x > 5, \"x must be greater than 5\"\n",
    "\n",
    "except AssertionError as e:\n",
    "    print(\"AssertionError occurred:\", e)\n"
   ]
  },
  {
   "cell_type": "markdown",
   "id": "ab609d4c",
   "metadata": {},
   "source": [
    "# Different type of Error"
   ]
  },
  {
   "cell_type": "code",
   "execution_count": 22,
   "id": "700db74c",
   "metadata": {},
   "outputs": [],
   "source": [
    "#SyntaxError: \n",
    "'''Missing colon at the end of the if statement.'''\n",
    "\n",
    "if x == 5  # Missing colon here\n",
    "    print(\"x is 5\")\n"
   ]
  },
  {
   "cell_type": "code",
   "execution_count": 24,
   "id": "0f81fab1",
   "metadata": {},
   "outputs": [],
   "source": [
    "# IndentationError:\n",
    "'''Inconsistent indentation within a block.'''\n",
    "\n",
    "def my_function():\n",
    "print(\"Hello, World!\")  # Inconsistent indentation\n"
   ]
  },
  {
   "cell_type": "code",
   "execution_count": 26,
   "id": "6d598de0",
   "metadata": {},
   "outputs": [
    {
     "ename": "NameError",
     "evalue": "name 'xx' is not defined",
     "output_type": "error",
     "traceback": [
      "\u001b[1;31m---------------------------------------------------------------------------\u001b[0m",
      "\u001b[1;31mNameError\u001b[0m                                 Traceback (most recent call last)",
      "Cell \u001b[1;32mIn[26], line 3\u001b[0m\n\u001b[0;32m      1\u001b[0m \u001b[38;5;66;03m# NameError:\u001b[39;00m\n\u001b[0;32m      2\u001b[0m \u001b[38;5;124;03m''' Using a variable that has not been defined.'''\u001b[39;00m\n\u001b[1;32m----> 3\u001b[0m \u001b[38;5;28mprint\u001b[39m(xx)\n",
      "\u001b[1;31mNameError\u001b[0m: name 'xx' is not defined"
     ]
    }
   ],
   "source": [
    "# NameError:\n",
    "''' Using a variable that has not been defined.'''\n",
    "print(xx)  # Variable x is not defined\n"
   ]
  },
  {
   "cell_type": "code",
   "execution_count": 32,
   "id": "aa8648e3",
   "metadata": {},
   "outputs": [
    {
     "name": "stdout",
     "output_type": "stream",
     "text": [
      "15\n",
      "<class 'int'>\n"
     ]
    }
   ],
   "source": [
    "# TypeError:\n",
    "'''Performing an operation on an inappropriate type.'''\n",
    "\n",
    "x = 5\n",
    "y = \"10\"\n",
    "yyy = x + y  # Trying to concatenate string with integer\n",
    "print(yyy)\n",
    "print(type(yyy))\n"
   ]
  },
  {
   "cell_type": "code",
   "execution_count": null,
   "id": "a8e3beff",
   "metadata": {},
   "outputs": [],
   "source": [
    "# TypeError:\n",
    "'''Performing an operation on an inappropriate type.'''\n",
    "x = \"5\"\n",
    "y = 10\n",
    "\n",
    "print(x + y)  # Trying to concatenate string with integer\n"
   ]
  },
  {
   "cell_type": "code",
   "execution_count": 34,
   "id": "5b23f87b",
   "metadata": {},
   "outputs": [
    {
     "name": "stdout",
     "output_type": "stream",
     "text": [
      "10\n"
     ]
    }
   ],
   "source": [
    "# ValueError:\n",
    "''' Providing an inappropriate value to a function.'''\n",
    "x = int(\"10.5\")  # Cannot convert \"abc\" to integer\n",
    "\n",
    "print(x)\n"
   ]
  },
  {
   "cell_type": "code",
   "execution_count": 35,
   "id": "ede720d6",
   "metadata": {},
   "outputs": [
    {
     "ename": "IndexError",
     "evalue": "list index out of range",
     "output_type": "error",
     "traceback": [
      "\u001b[1;31m---------------------------------------------------------------------------\u001b[0m",
      "\u001b[1;31mIndexError\u001b[0m                                Traceback (most recent call last)",
      "Cell \u001b[1;32mIn[35], line 5\u001b[0m\n\u001b[0;32m      2\u001b[0m \u001b[38;5;124;03m''' Accessing an index that is out of range.'''\u001b[39;00m\n\u001b[0;32m      3\u001b[0m my_list \u001b[38;5;241m=\u001b[39m [\u001b[38;5;241m1\u001b[39m,\u001b[38;5;241m2\u001b[39m,\u001b[38;5;241m3\u001b[39m]\n\u001b[1;32m----> 5\u001b[0m \u001b[38;5;28mprint\u001b[39m(my_list[\u001b[38;5;241m3\u001b[39m])\n",
      "\u001b[1;31mIndexError\u001b[0m: list index out of range"
     ]
    }
   ],
   "source": [
    "# IndexError:\n",
    "''' Accessing an index that is out of range.'''\n",
    "my_list = [1,2,3]\n",
    "            \n",
    "print(my_list[3])  # Index 3 is out of range\n"
   ]
  },
  {
   "cell_type": "code",
   "execution_count": 36,
   "id": "5f5bfb6d",
   "metadata": {},
   "outputs": [
    {
     "ename": "KeyError",
     "evalue": "'c'",
     "output_type": "error",
     "traceback": [
      "\u001b[1;31m---------------------------------------------------------------------------\u001b[0m",
      "\u001b[1;31mKeyError\u001b[0m                                  Traceback (most recent call last)",
      "Cell \u001b[1;32mIn[36], line 7\u001b[0m\n\u001b[0;32m      3\u001b[0m \u001b[38;5;124;03m'''Accessing a key that does not exist in a dictionary.'''\u001b[39;00m\n\u001b[0;32m      5\u001b[0m my_dict \u001b[38;5;241m=\u001b[39m {\u001b[38;5;124m\"\u001b[39m\u001b[38;5;124ma\u001b[39m\u001b[38;5;124m\"\u001b[39m: \u001b[38;5;241m1\u001b[39m, \u001b[38;5;124m\"\u001b[39m\u001b[38;5;124mb\u001b[39m\u001b[38;5;124m\"\u001b[39m: \u001b[38;5;241m2\u001b[39m}\n\u001b[1;32m----> 7\u001b[0m \u001b[38;5;28mprint\u001b[39m(my_dict[\u001b[38;5;124m\"\u001b[39m\u001b[38;5;124mc\u001b[39m\u001b[38;5;124m\"\u001b[39m])\n",
      "\u001b[1;31mKeyError\u001b[0m: 'c'"
     ]
    }
   ],
   "source": [
    "# KeyError: \n",
    "\n",
    "'''Accessing a key that does not exist in a dictionary.'''\n",
    "\n",
    "my_dict = {\"a\": 1, \"b\": 2}\n",
    "\n",
    "print(my_dict[\"c\"])  # Key 'c' does not exist\n"
   ]
  },
  {
   "cell_type": "code",
   "execution_count": 38,
   "id": "d33d0c38",
   "metadata": {},
   "outputs": [
    {
     "ename": "FileNotFoundError",
     "evalue": "[Errno 2] No such file or directory: 'file.txt'",
     "output_type": "error",
     "traceback": [
      "\u001b[1;31m---------------------------------------------------------------------------\u001b[0m",
      "\u001b[1;31mFileNotFoundError\u001b[0m                         Traceback (most recent call last)",
      "Cell \u001b[1;32mIn[38], line 4\u001b[0m\n\u001b[0;32m      1\u001b[0m \u001b[38;5;66;03m# FileNotFoundError:\u001b[39;00m\n\u001b[0;32m      2\u001b[0m \u001b[38;5;124;03m''' Trying to open a file that does not exist.'''\u001b[39;00m\n\u001b[1;32m----> 4\u001b[0m \u001b[38;5;28;01mwith\u001b[39;00m \u001b[38;5;28mopen\u001b[39m(\u001b[38;5;124m\"\u001b[39m\u001b[38;5;124mfile.txt\u001b[39m\u001b[38;5;124m\"\u001b[39m, \u001b[38;5;124m\"\u001b[39m\u001b[38;5;124mr\u001b[39m\u001b[38;5;124m\"\u001b[39m) \u001b[38;5;28;01mas\u001b[39;00m file:\n\u001b[0;32m      5\u001b[0m     content \u001b[38;5;241m=\u001b[39m file\u001b[38;5;241m.\u001b[39mread()\n",
      "File \u001b[1;32m~\\anaconda3\\Lib\\site-packages\\IPython\\core\\interactiveshell.py:310\u001b[0m, in \u001b[0;36m_modified_open\u001b[1;34m(file, *args, **kwargs)\u001b[0m\n\u001b[0;32m    303\u001b[0m \u001b[38;5;28;01mif\u001b[39;00m file \u001b[38;5;129;01min\u001b[39;00m {\u001b[38;5;241m0\u001b[39m, \u001b[38;5;241m1\u001b[39m, \u001b[38;5;241m2\u001b[39m}:\n\u001b[0;32m    304\u001b[0m     \u001b[38;5;28;01mraise\u001b[39;00m \u001b[38;5;167;01mValueError\u001b[39;00m(\n\u001b[0;32m    305\u001b[0m         \u001b[38;5;124mf\u001b[39m\u001b[38;5;124m\"\u001b[39m\u001b[38;5;124mIPython won\u001b[39m\u001b[38;5;124m'\u001b[39m\u001b[38;5;124mt let you open fd=\u001b[39m\u001b[38;5;132;01m{\u001b[39;00mfile\u001b[38;5;132;01m}\u001b[39;00m\u001b[38;5;124m by default \u001b[39m\u001b[38;5;124m\"\u001b[39m\n\u001b[0;32m    306\u001b[0m         \u001b[38;5;124m\"\u001b[39m\u001b[38;5;124mas it is likely to crash IPython. If you know what you are doing, \u001b[39m\u001b[38;5;124m\"\u001b[39m\n\u001b[0;32m    307\u001b[0m         \u001b[38;5;124m\"\u001b[39m\u001b[38;5;124myou can use builtins\u001b[39m\u001b[38;5;124m'\u001b[39m\u001b[38;5;124m open.\u001b[39m\u001b[38;5;124m\"\u001b[39m\n\u001b[0;32m    308\u001b[0m     )\n\u001b[1;32m--> 310\u001b[0m \u001b[38;5;28;01mreturn\u001b[39;00m io_open(file, \u001b[38;5;241m*\u001b[39margs, \u001b[38;5;241m*\u001b[39m\u001b[38;5;241m*\u001b[39mkwargs)\n",
      "\u001b[1;31mFileNotFoundError\u001b[0m: [Errno 2] No such file or directory: 'file.txt'"
     ]
    }
   ],
   "source": [
    "# FileNotFoundError:\n",
    "''' Trying to open a file that does not exist.'''\n",
    "\n",
    "with open(\"file.txt\", \"r\") as file:\n",
    "    content = file.read()  # FileNotFoundError: [Errno 2] No such file or directory: 'nonexistent_file.txt'\n"
   ]
  },
  {
   "cell_type": "code",
   "execution_count": null,
   "id": "604cdf6a",
   "metadata": {},
   "outputs": [],
   "source": [
    "# PermissionError:\n",
    "\n",
    "''' Trying to access a resource without sufficient permissions.'''\n",
    "with open(\"/root/somefile.txt\", \"w\") as file:  # PermissionError: [Errno 13] Permission denied: '/root/somefile.txt'\n",
    "    file.write(\"Hello, World!\")\n"
   ]
  },
  {
   "cell_type": "code",
   "execution_count": 39,
   "id": "a8394dfd",
   "metadata": {},
   "outputs": [
    {
     "ename": "ModuleNotFoundError",
     "evalue": "No module named 'non_existent_module'",
     "output_type": "error",
     "traceback": [
      "\u001b[1;31m---------------------------------------------------------------------------\u001b[0m",
      "\u001b[1;31mModuleNotFoundError\u001b[0m                       Traceback (most recent call last)",
      "Cell \u001b[1;32mIn[39], line 2\u001b[0m\n\u001b[0;32m      1\u001b[0m \u001b[38;5;124;03m'''ImportError: Trying to import a module that does not exist.'''\u001b[39;00m\n\u001b[1;32m----> 2\u001b[0m \u001b[38;5;28;01mimport\u001b[39;00m \u001b[38;5;21;01mnon_existent_module\u001b[39;00m\n",
      "\u001b[1;31mModuleNotFoundError\u001b[0m: No module named 'non_existent_module'"
     ]
    }
   ],
   "source": [
    "'''ImportError: Trying to import a module that does not exist.'''\n",
    "import non_existent_module  # ImportError: No module named 'non_existent_module'\n"
   ]
  },
  {
   "cell_type": "code",
   "execution_count": 41,
   "id": "ef7c4ea8-bdb7-4029-b878-d7fdeffe6b50",
   "metadata": {},
   "outputs": [],
   "source": [
    "'''ImportError: Trying to import a module that does not exist.'''\n",
    "import pandass  # ImportError: No module named 'non_existent_module'\n"
   ]
  },
  {
   "cell_type": "code",
   "execution_count": 44,
   "id": "f0b1fc78",
   "metadata": {},
   "outputs": [
    {
     "ename": "AttributeError",
     "evalue": "'int' object has no attribute 'append'",
     "output_type": "error",
     "traceback": [
      "\u001b[1;31m---------------------------------------------------------------------------\u001b[0m",
      "\u001b[1;31mAttributeError\u001b[0m                            Traceback (most recent call last)",
      "Cell \u001b[1;32mIn[44], line 5\u001b[0m\n\u001b[0;32m      2\u001b[0m \u001b[38;5;124;03m''' Trying to access an attribute that does not exist.'''\u001b[39;00m\n\u001b[0;32m      4\u001b[0m x \u001b[38;5;241m=\u001b[39m \u001b[38;5;241m10\u001b[39m\n\u001b[1;32m----> 5\u001b[0m \u001b[38;5;28mprint\u001b[39m(x\u001b[38;5;241m.\u001b[39mappend(\u001b[38;5;241m5\u001b[39m))\n",
      "\u001b[1;31mAttributeError\u001b[0m: 'int' object has no attribute 'append'"
     ]
    }
   ],
   "source": [
    "# AttributeError:\n",
    "''' Trying to access an attribute that does not exist.'''\n",
    "\n",
    "x = 10\n",
    "print(x.append(5))  # AttributeError: 'int' object has no attribute 'append'\n",
    "\n"
   ]
  },
  {
   "cell_type": "code",
   "execution_count": null,
   "id": "d052b2e1",
   "metadata": {},
   "outputs": [],
   "source": []
  },
  {
   "cell_type": "code",
   "execution_count": 45,
   "id": "049aa5ee",
   "metadata": {},
   "outputs": [
    {
     "ename": "RuntimeError",
     "evalue": "Something went wrong",
     "output_type": "error",
     "traceback": [
      "\u001b[1;31m---------------------------------------------------------------------------\u001b[0m",
      "\u001b[1;31mRuntimeError\u001b[0m                              Traceback (most recent call last)",
      "Cell \u001b[1;32mIn[45], line 7\u001b[0m\n\u001b[0;32m      5\u001b[0m \u001b[38;5;28;01mdef\u001b[39;00m \u001b[38;5;21mmy_function\u001b[39m():\n\u001b[0;32m      6\u001b[0m     \u001b[38;5;28;01mraise\u001b[39;00m \u001b[38;5;167;01mRuntimeError\u001b[39;00m(\u001b[38;5;124m\"\u001b[39m\u001b[38;5;124mSomething went wrong\u001b[39m\u001b[38;5;124m\"\u001b[39m)  \u001b[38;5;66;03m# RuntimeError: Something went wrong\u001b[39;00m\n\u001b[1;32m----> 7\u001b[0m my_function()\n",
      "Cell \u001b[1;32mIn[45], line 6\u001b[0m, in \u001b[0;36mmy_function\u001b[1;34m()\u001b[0m\n\u001b[0;32m      5\u001b[0m \u001b[38;5;28;01mdef\u001b[39;00m \u001b[38;5;21mmy_function\u001b[39m():\n\u001b[1;32m----> 6\u001b[0m     \u001b[38;5;28;01mraise\u001b[39;00m \u001b[38;5;167;01mRuntimeError\u001b[39;00m(\u001b[38;5;124m\"\u001b[39m\u001b[38;5;124mSomething went wrong\u001b[39m\u001b[38;5;124m\"\u001b[39m)\n",
      "\u001b[1;31mRuntimeError\u001b[0m: Something went wrong"
     ]
    }
   ],
   "source": [
    "# RuntimeError: \n",
    "\n",
    "'''Raised when an error is detected that doesn't fall into any of the other categories.'''\n",
    "\n",
    "def my_function():\n",
    "    raise RuntimeError(\"Something went wrong\")  # RuntimeError: Something went wrong\n",
    "my_function()\n"
   ]
  },
  {
   "cell_type": "code",
   "execution_count": null,
   "id": "a4805de7-f86e-4ee9-8e1b-1fd0d38ed594",
   "metadata": {},
   "outputs": [],
   "source": []
  },
  {
   "cell_type": "markdown",
   "id": "48ce775f-86cb-4fd8-93e8-580c3cbb1a71",
   "metadata": {},
   "source": [
    "# Additional "
   ]
  },
  {
   "cell_type": "markdown",
   "id": "5259eab3",
   "metadata": {},
   "source": [
    "# Custome Exception"
   ]
  },
  {
   "cell_type": "code",
   "execution_count": 49,
   "id": "653629f2-f3e3-4d5a-8c9c-de3c04e7378c",
   "metadata": {},
   "outputs": [],
   "source": [
    "import sys\n",
    "\n",
    "class CustomException1(Exception):\n",
    "    def __init__(self, error_message, error_detail):\n",
    "        \"\"\"\n",
    "        :param error_message: error message in string format\n",
    "        \"\"\"\n",
    "        super().__init__(error_message)\n",
    "        self.error_message = self._error_message_detail(error_message, error_detail=error_detail)\n",
    "\n",
    "    @classmethod\n",
    "    def _error_message_detail(cls, error, error_detail):\n",
    "        \n",
    "        typeError = str(type(error)).split(\"'\")[-2]\n",
    "\n",
    "        _, _, exc_tb = error_detail.exc_info()\n",
    "        lineNumber =  exc_tb.tb_lineno\n",
    "        file_name = exc_tb.tb_frame.f_code.co_filename\n",
    "\n",
    "        RED = \"\\033[91m\"\n",
    "        RESET = \"\\033[0m\"\n",
    "        ORANGE = \"\\033[38;5;214m\"  # 256-color mode code for orange\n",
    "        erroName = typeError\n",
    "        typeError = f\"{RED}{typeError}{RESET}\"\n",
    "        file_name = \"File: \"+ file_name\n",
    "        file_name = f\"{ORANGE}{file_name}{RESET}\"\n",
    "        lineNumber =  \"--Line_Number: \" +str(lineNumber)\n",
    "        lineNumber = f\"{ORANGE}{lineNumber}{RESET}\"\n",
    "        error = f\"---Error_Message: {erroName} + {str(error)} \"\n",
    "        error = f\"{ORANGE}{error}{RESET}\"\n",
    "        \n",
    "        error_message = \"{0}\\n{1}\\n{2}\\n{3}\".format(typeError,file_name, lineNumber, error)\n",
    "        error_message\n",
    "\n",
    "\n",
    "        return error_message\n",
    "\n",
    "    def __str__(self):\n",
    "        return self.error_message\n",
    "\n",
    "\n"
   ]
  },
  {
   "cell_type": "code",
   "execution_count": 52,
   "id": "95bcdc58-11de-43fc-bdd9-67a79cd3c7f4",
   "metadata": {},
   "outputs": [
    {
     "name": "stdout",
     "output_type": "stream",
     "text": [
      "\u001b[91mFileNotFoundError\u001b[0m\n",
      "\u001b[38;5;214mFile: C:\\Users\\SHIVRAJ SHINDE\\AppData\\Local\\Temp\\ipykernel_1664\\2569875374.py\u001b[0m\n",
      "\u001b[38;5;214m--Line_Number: 3\u001b[0m\n",
      "\u001b[38;5;214m---Error_Message: FileNotFoundError + [Errno 2] No such file or directory: 'nonexistent_file.txt' \u001b[0m\n"
     ]
    }
   ],
   "source": [
    "try:\n",
    "    \n",
    "    with open(\"nonexistent_file.txt\", \"r\") as file:\n",
    "        content = file.read()  # FileNotFoundError: [Errno 2] No such file or directory: 'nonexistent_file.txt'\n",
    "except Exception as e:\n",
    "    print(CustomException1(e,sys))\n",
    " "
   ]
  }
 ],
 "metadata": {
  "kernelspec": {
   "display_name": "Python 3 (ipykernel)",
   "language": "python",
   "name": "python3"
  },
  "language_info": {
   "codemirror_mode": {
    "name": "ipython",
    "version": 3
   },
   "file_extension": ".py",
   "mimetype": "text/x-python",
   "name": "python",
   "nbconvert_exporter": "python",
   "pygments_lexer": "ipython3",
   "version": "3.11.7"
  }
 },
 "nbformat": 4,
 "nbformat_minor": 5
}
