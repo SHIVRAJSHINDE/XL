{
 "cells": [
  {
   "cell_type": "code",
   "execution_count": 11,
   "id": "d98f61db-7b03-4272-8c3a-6ed24732368f",
   "metadata": {},
   "outputs": [],
   "source": [
    "import pandas as pd\n",
    "import matplotlib.pyplot as plt\n",
    "import seaborn as sns\n",
    "\n",
    "data = [1, 2, 3, 4, 5]\n",
    "\n",
    "\n"
   ]
  },
  {
   "cell_type": "markdown",
   "id": "0c8de486-e654-4eb1-a1f1-e4c4ef84e392",
   "metadata": {},
   "source": [
    "# Standadize\n",
    "# Normalize"
   ]
  },
  {
   "cell_type": "code",
   "execution_count": 21,
   "id": "514f2e35-9121-42c8-bb03-e21941561d7a",
   "metadata": {},
   "outputs": [
    {
     "name": "stdout",
     "output_type": "stream",
     "text": [
      "[[   1]\n",
      " [   2]\n",
      " [   3]\n",
      " [   4]\n",
      " [   5]\n",
      " [1000]]\n",
      "StandardScaler()\n",
      "[[-0.45259357]\n",
      " [-0.44990224]\n",
      " [-0.4472109 ]\n",
      " [-0.44451956]\n",
      " [-0.44182822]\n",
      " [ 2.23605448]]\n"
     ]
    }
   ],
   "source": [
    "# Standadize\n",
    "\n",
    "import numpy as np\n",
    "from sklearn.preprocessing import StandardScaler\n",
    "\n",
    "data = [1, 2, 3, 4, 5,1000]\n",
    "\n",
    "data = np.array(data).reshape(-1, 1)  # Reshape to 2D array\n",
    "\n",
    "print(data)\n",
    "\n",
    "scaler = StandardScaler()\n",
    "print(scaler)\n",
    "scaled_data = scaler.fit_transform(data)\n",
    "print(scaled_data)\n",
    "\n"
   ]
  },
  {
   "cell_type": "code",
   "execution_count": 20,
   "id": "1aeb8328-d6a1-463b-b731-6cffb2532572",
   "metadata": {},
   "outputs": [
    {
     "name": "stdout",
     "output_type": "stream",
     "text": [
      "[[  10]\n",
      " [  20]\n",
      " [  30]\n",
      " [  45]\n",
      " [  55]\n",
      " [  61]\n",
      " [  70]\n",
      " [  80]\n",
      " [  91]\n",
      " [1001]]\n",
      "[[0.        ]\n",
      " [0.01009082]\n",
      " [0.02018163]\n",
      " [0.03531786]\n",
      " [0.04540868]\n",
      " [0.05146317]\n",
      " [0.0605449 ]\n",
      " [0.07063572]\n",
      " [0.08173562]\n",
      " [1.        ]]\n"
     ]
    }
   ],
   "source": [
    "# Normalize\n",
    "import numpy as np\n",
    "from sklearn.preprocessing import MinMaxScaler\n",
    "data = [10,20,30,45,55,61,70,80,91,1001]\n",
    "\n",
    "data = np.array(data).reshape(-1, 1)  # Reshape to 2D array (5x1)\n",
    "print(data)\n",
    "\n",
    "minScaler = MinMaxScaler()\n",
    "scaled_data = minScaler.fit_transform(data)\n",
    "\n",
    "print(scaled_data)\n"
   ]
  }
 ],
 "metadata": {
  "kernelspec": {
   "display_name": "Python 3 (ipykernel)",
   "language": "python",
   "name": "python3"
  },
  "language_info": {
   "codemirror_mode": {
    "name": "ipython",
    "version": 3
   },
   "file_extension": ".py",
   "mimetype": "text/x-python",
   "name": "python",
   "nbconvert_exporter": "python",
   "pygments_lexer": "ipython3",
   "version": "3.11.7"
  }
 },
 "nbformat": 4,
 "nbformat_minor": 5
}
